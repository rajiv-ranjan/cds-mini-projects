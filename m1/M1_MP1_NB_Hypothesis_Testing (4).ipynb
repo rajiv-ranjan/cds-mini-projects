{
  "nbformat": 4,
  "nbformat_minor": 0,
  "metadata": {
    "colab": {
      "provenance": [],
      "include_colab_link": true
    },
    "kernelspec": {
      "display_name": "Python 3",
      "name": "python3"
    },
    "language_info": {
      "codemirror_mode": {
        "name": "ipython",
        "version": 3
      },
      "file_extension": ".py",
      "mimetype": "text/x-python",
      "name": "python",
      "nbconvert_exporter": "python",
      "pygments_lexer": "ipython3",
      "version": "3.6.7rc1"
    }
  },
  "cells": [
    {
      "cell_type": "markdown",
      "metadata": {
        "id": "view-in-github",
        "colab_type": "text"
      },
      "source": [
        "<a href=\"https://colab.research.google.com/github/JHULUKARIGAR/Data-Science-Articles/blob/main/M1_MP1_NB_Hypothesis_Testing.ipynb\" target=\"_parent\"><img src=\"https://colab.research.google.com/assets/colab-badge.svg\" alt=\"Open In Colab\"/></a>"
      ]
    },
    {
      "cell_type": "markdown",
      "metadata": {
        "id": "aUUu9l_JfJ92"
      },
      "source": [
        "# Advanced Certification Program in Computational Data Science\n",
        "\n",
        "##  A Program by IISc and TalentSprint\n",
        "\n",
        "### Mini Project Notebook 2: Hypothesis Testing"
      ]
    },
    {
      "cell_type": "markdown",
      "metadata": {
        "id": "SL3yrUc-XrLS"
      },
      "source": [
        "## Learning Objectives"
      ]
    },
    {
      "cell_type": "markdown",
      "metadata": {
        "id": "nq2_Otle4nO2"
      },
      "source": [
        "\n",
        "\n",
        "At the end of this Mini Project, you will be able to :\n",
        "\n",
        "\n",
        "* have a fair understanding of A/B Testing - a statistical way to compare two or more versions (A or B?)\n",
        "\n",
        "* determine not only which one (A or B) performs better but also understand if the difference between two of them is statistically significant\n",
        "\n",
        "* derive meaningful insights from the formula for Confidence Intervals with the t-distribution and how to adjust this formula using the Central Limit Theorem\n",
        "\n",
        "* know the dependent 3 factors (Power of the test, Significance level & Minimal Desired Effect) for having a required Sample Size\n",
        "\n",
        "* carry out Binomial Proportion Confidence Intervals, 2-sample Z-test and Chi-square. The objective of this mini project is to serve as an introductory guide to A/B testing, covering foundational concepts and methodologies.\n"
      ]
    },
    {
      "cell_type": "markdown",
      "source": [
        "## Introduction"
      ],
      "metadata": {
        "id": "92Ff_XtzI0f1"
      }
    },
    {
      "cell_type": "markdown",
      "source": [
        "A/B tests are very commonly performed by data analysts and data scientists.\n",
        "\n",
        "It is a crucial technique in data-driven decision-making, yet it often lacks comprehensive exploration. This notebook aims to address this gap by providing a consolidated overview of A/B testing principles and practices.\n",
        "\n",
        "For this mini project, the exercises are framed to understand the results of an A/B test run by an e-commerce website. The goal is to work through this notebook to help the company understand if they should implement the new webpage or keep the old webpage or run the experiment longer to make their decision."
      ],
      "metadata": {
        "id": "M19d-lHWImDi"
      }
    },
    {
      "cell_type": "markdown",
      "metadata": {
        "id": "-EqvTSjZZIUE"
      },
      "source": [
        "## Dataset"
      ]
    },
    {
      "cell_type": "markdown",
      "metadata": {
        "id": "dlCSHY5_Y0wb"
      },
      "source": [
        "The dataset chosen for this experiment is the **ab_data.csv** which is publicly available on [Kaggle](https://www.kaggle.com/datasets/abdelrahmanrezk7/ab-testing-e-commerce-website)  \n",
        "\n",
        "This dataset consists of 2,94,478 records. Each record is made up of 5 fields.\n",
        "\n",
        "**For example**, Each record consists of 'user_id', 'timestamp', 'group', 'landing_page' and 'converted'.\n",
        "\n",
        "* **user_id:** A unique identifier assigned to each user (i.e., a visitor to the company's webpage) participating in the experiment.\n",
        "\n",
        "* **timestamp:** The timestamp indicating the time at which the user interacted with the webpage or was exposed to the experimental condition.\n",
        "\n",
        "* **group:** The group to which the user was assigned, typically denoted as either 'treatment' or 'control'. This field helps categorize users into different experimental conditions.\n",
        "\n",
        "* **landing_page:** Specifies the type of landing page or webpage variant that the user was directed to upon interaction. It distinguishes between different versions of the webpage used in the experiment.\n",
        "\n",
        "* **converted:** A binary indicator representing whether the user performed the desired action or conversion after interacting with the webpage. It typically indicates whether the user made a purchase, signed up for a service, or completed any other desired action."
      ]
    },
    {
      "cell_type": "markdown",
      "metadata": {
        "id": "V3vgcWwOF2cK"
      },
      "source": [
        "## Problem Statement"
      ]
    },
    {
      "cell_type": "markdown",
      "metadata": {
        "id": "GYdLgvhhZtwA"
      },
      "source": [
        "The biggest e-commerce company called **FaceZonGoogAppFlix** approached to a **data science consulting** firm as a new client!\n",
        "\n",
        "They have a potential new webpage designed with the intention to increase their current conversion rates of 12% by 0.35% or more. With such an ambiguous task, they have full trust in the data science consulting firm to give them a recommendation whether to implement the new web page or keep the old webpage. Unfortunately they haven't built up a data science capability in their company, but they've used an external software called 'A/B Tester' for 23 days and then come back to the data science consulting firm with a dataset (ab_data.csv). Under this requirement scenario, what the **data science consulting firm** will do?"
      ]
    },
    {
      "cell_type": "markdown",
      "source": [
        "## Grading = 10 Points"
      ],
      "metadata": {
        "id": "HQrRWcHcSFrY"
      }
    },
    {
      "cell_type": "code",
      "metadata": {
        "id": "qwmmvQnv3mLM",
        "cellView": "form",
        "colab": {
          "base_uri": "https://localhost:8080/"
        },
        "outputId": "23ac6d96-4fc4-4a39-bebd-89ac3b0b1833"
      },
      "source": [
        "# @title Download the Dataset\n",
        "! wget -q https://cdn.exec.talentsprint.com/static/cds/content/ab_data.csv\n",
        "print(\"The datset was downloaded successfully\")"
      ],
      "execution_count": 1,
      "outputs": [
        {
          "output_type": "stream",
          "name": "stdout",
          "text": [
            "The datset was downloaded successfully\n"
          ]
        }
      ]
    },
    {
      "cell_type": "markdown",
      "source": [
        "# **Part I - Probability**"
      ],
      "metadata": {
        "id": "zkN12h1bjv2z"
      }
    },
    {
      "cell_type": "markdown",
      "metadata": {
        "id": "epVoy2b_Z05e"
      },
      "source": [
        "#### Import required packages"
      ]
    },
    {
      "cell_type": "code",
      "metadata": {
        "id": "sBpCF4GlBPFL"
      },
      "source": [
        "import pandas as pd\n",
        "import numpy as np\n",
        "import scipy.stats as ss\n",
        "import statsmodels.api as sm\n",
        "import math as mt\n",
        "import itertools\n",
        "import random\n",
        "from patsy import dmatrices\n",
        "from statsmodels.stats.outliers_influence import variance_inflation_factor\n",
        "import matplotlib.pyplot as plt\n",
        "from scipy.stats import norm\n",
        "%matplotlib inline"
      ],
      "execution_count": 2,
      "outputs": []
    },
    {
      "cell_type": "markdown",
      "metadata": {
        "id": "YmOJDVdp9PYo"
      },
      "source": [
        "#### Load the dataset"
      ]
    },
    {
      "cell_type": "code",
      "metadata": {
        "id": "6DrVCIg54LZp",
        "colab": {
          "base_uri": "https://localhost:8080/",
          "height": 520
        },
        "outputId": "7055cb99-37d3-492c-87e5-c303052647db"
      },
      "source": [
        "# a. Read in the dataset and take a look at the top few rows here:\n",
        "df = pd.read_csv('/content/ab_data.csv')\n",
        "df.head(15)\n"
      ],
      "execution_count": 3,
      "outputs": [
        {
          "output_type": "execute_result",
          "data": {
            "text/plain": [
              "    user_id                   timestamp      group landing_page  converted\n",
              "0    851104  2017-01-21 22:11:48.556739    control     old_page          0\n",
              "1    804228  2017-01-12 08:01:45.159739    control     old_page          0\n",
              "2    661590  2017-01-11 16:55:06.154213  treatment     new_page          0\n",
              "3    853541  2017-01-08 18:28:03.143765  treatment     new_page          0\n",
              "4    864975  2017-01-21 01:52:26.210827    control     old_page          1\n",
              "5    936923  2017-01-10 15:20:49.083499    control     old_page          0\n",
              "6    679687  2017-01-19 03:26:46.940749  treatment     new_page          1\n",
              "7    719014  2017-01-17 01:48:29.539573    control     old_page          0\n",
              "8    817355  2017-01-04 17:58:08.979471  treatment     new_page          1\n",
              "9    839785  2017-01-15 18:11:06.610965  treatment     new_page          1\n",
              "10   929503  2017-01-18 05:37:11.527370  treatment     new_page          0\n",
              "11   834487  2017-01-21 22:37:47.774891  treatment     new_page          0\n",
              "12   803683  2017-01-09 06:05:16.222706  treatment     new_page          0\n",
              "13   944475  2017-01-22 01:31:09.573836  treatment     new_page          0\n",
              "14   718956  2017-01-22 11:45:11.327945  treatment     new_page          0"
            ],
            "text/html": [
              "\n",
              "  <div id=\"df-7c6eeb10-25aa-474a-8b0d-2d2309b8e4f1\" class=\"colab-df-container\">\n",
              "    <div>\n",
              "<style scoped>\n",
              "    .dataframe tbody tr th:only-of-type {\n",
              "        vertical-align: middle;\n",
              "    }\n",
              "\n",
              "    .dataframe tbody tr th {\n",
              "        vertical-align: top;\n",
              "    }\n",
              "\n",
              "    .dataframe thead th {\n",
              "        text-align: right;\n",
              "    }\n",
              "</style>\n",
              "<table border=\"1\" class=\"dataframe\">\n",
              "  <thead>\n",
              "    <tr style=\"text-align: right;\">\n",
              "      <th></th>\n",
              "      <th>user_id</th>\n",
              "      <th>timestamp</th>\n",
              "      <th>group</th>\n",
              "      <th>landing_page</th>\n",
              "      <th>converted</th>\n",
              "    </tr>\n",
              "  </thead>\n",
              "  <tbody>\n",
              "    <tr>\n",
              "      <th>0</th>\n",
              "      <td>851104</td>\n",
              "      <td>2017-01-21 22:11:48.556739</td>\n",
              "      <td>control</td>\n",
              "      <td>old_page</td>\n",
              "      <td>0</td>\n",
              "    </tr>\n",
              "    <tr>\n",
              "      <th>1</th>\n",
              "      <td>804228</td>\n",
              "      <td>2017-01-12 08:01:45.159739</td>\n",
              "      <td>control</td>\n",
              "      <td>old_page</td>\n",
              "      <td>0</td>\n",
              "    </tr>\n",
              "    <tr>\n",
              "      <th>2</th>\n",
              "      <td>661590</td>\n",
              "      <td>2017-01-11 16:55:06.154213</td>\n",
              "      <td>treatment</td>\n",
              "      <td>new_page</td>\n",
              "      <td>0</td>\n",
              "    </tr>\n",
              "    <tr>\n",
              "      <th>3</th>\n",
              "      <td>853541</td>\n",
              "      <td>2017-01-08 18:28:03.143765</td>\n",
              "      <td>treatment</td>\n",
              "      <td>new_page</td>\n",
              "      <td>0</td>\n",
              "    </tr>\n",
              "    <tr>\n",
              "      <th>4</th>\n",
              "      <td>864975</td>\n",
              "      <td>2017-01-21 01:52:26.210827</td>\n",
              "      <td>control</td>\n",
              "      <td>old_page</td>\n",
              "      <td>1</td>\n",
              "    </tr>\n",
              "    <tr>\n",
              "      <th>5</th>\n",
              "      <td>936923</td>\n",
              "      <td>2017-01-10 15:20:49.083499</td>\n",
              "      <td>control</td>\n",
              "      <td>old_page</td>\n",
              "      <td>0</td>\n",
              "    </tr>\n",
              "    <tr>\n",
              "      <th>6</th>\n",
              "      <td>679687</td>\n",
              "      <td>2017-01-19 03:26:46.940749</td>\n",
              "      <td>treatment</td>\n",
              "      <td>new_page</td>\n",
              "      <td>1</td>\n",
              "    </tr>\n",
              "    <tr>\n",
              "      <th>7</th>\n",
              "      <td>719014</td>\n",
              "      <td>2017-01-17 01:48:29.539573</td>\n",
              "      <td>control</td>\n",
              "      <td>old_page</td>\n",
              "      <td>0</td>\n",
              "    </tr>\n",
              "    <tr>\n",
              "      <th>8</th>\n",
              "      <td>817355</td>\n",
              "      <td>2017-01-04 17:58:08.979471</td>\n",
              "      <td>treatment</td>\n",
              "      <td>new_page</td>\n",
              "      <td>1</td>\n",
              "    </tr>\n",
              "    <tr>\n",
              "      <th>9</th>\n",
              "      <td>839785</td>\n",
              "      <td>2017-01-15 18:11:06.610965</td>\n",
              "      <td>treatment</td>\n",
              "      <td>new_page</td>\n",
              "      <td>1</td>\n",
              "    </tr>\n",
              "    <tr>\n",
              "      <th>10</th>\n",
              "      <td>929503</td>\n",
              "      <td>2017-01-18 05:37:11.527370</td>\n",
              "      <td>treatment</td>\n",
              "      <td>new_page</td>\n",
              "      <td>0</td>\n",
              "    </tr>\n",
              "    <tr>\n",
              "      <th>11</th>\n",
              "      <td>834487</td>\n",
              "      <td>2017-01-21 22:37:47.774891</td>\n",
              "      <td>treatment</td>\n",
              "      <td>new_page</td>\n",
              "      <td>0</td>\n",
              "    </tr>\n",
              "    <tr>\n",
              "      <th>12</th>\n",
              "      <td>803683</td>\n",
              "      <td>2017-01-09 06:05:16.222706</td>\n",
              "      <td>treatment</td>\n",
              "      <td>new_page</td>\n",
              "      <td>0</td>\n",
              "    </tr>\n",
              "    <tr>\n",
              "      <th>13</th>\n",
              "      <td>944475</td>\n",
              "      <td>2017-01-22 01:31:09.573836</td>\n",
              "      <td>treatment</td>\n",
              "      <td>new_page</td>\n",
              "      <td>0</td>\n",
              "    </tr>\n",
              "    <tr>\n",
              "      <th>14</th>\n",
              "      <td>718956</td>\n",
              "      <td>2017-01-22 11:45:11.327945</td>\n",
              "      <td>treatment</td>\n",
              "      <td>new_page</td>\n",
              "      <td>0</td>\n",
              "    </tr>\n",
              "  </tbody>\n",
              "</table>\n",
              "</div>\n",
              "    <div class=\"colab-df-buttons\">\n",
              "\n",
              "  <div class=\"colab-df-container\">\n",
              "    <button class=\"colab-df-convert\" onclick=\"convertToInteractive('df-7c6eeb10-25aa-474a-8b0d-2d2309b8e4f1')\"\n",
              "            title=\"Convert this dataframe to an interactive table.\"\n",
              "            style=\"display:none;\">\n",
              "\n",
              "  <svg xmlns=\"http://www.w3.org/2000/svg\" height=\"24px\" viewBox=\"0 -960 960 960\">\n",
              "    <path d=\"M120-120v-720h720v720H120Zm60-500h600v-160H180v160Zm220 220h160v-160H400v160Zm0 220h160v-160H400v160ZM180-400h160v-160H180v160Zm440 0h160v-160H620v160ZM180-180h160v-160H180v160Zm440 0h160v-160H620v160Z\"/>\n",
              "  </svg>\n",
              "    </button>\n",
              "\n",
              "  <style>\n",
              "    .colab-df-container {\n",
              "      display:flex;\n",
              "      gap: 12px;\n",
              "    }\n",
              "\n",
              "    .colab-df-convert {\n",
              "      background-color: #E8F0FE;\n",
              "      border: none;\n",
              "      border-radius: 50%;\n",
              "      cursor: pointer;\n",
              "      display: none;\n",
              "      fill: #1967D2;\n",
              "      height: 32px;\n",
              "      padding: 0 0 0 0;\n",
              "      width: 32px;\n",
              "    }\n",
              "\n",
              "    .colab-df-convert:hover {\n",
              "      background-color: #E2EBFA;\n",
              "      box-shadow: 0px 1px 2px rgba(60, 64, 67, 0.3), 0px 1px 3px 1px rgba(60, 64, 67, 0.15);\n",
              "      fill: #174EA6;\n",
              "    }\n",
              "\n",
              "    .colab-df-buttons div {\n",
              "      margin-bottom: 4px;\n",
              "    }\n",
              "\n",
              "    [theme=dark] .colab-df-convert {\n",
              "      background-color: #3B4455;\n",
              "      fill: #D2E3FC;\n",
              "    }\n",
              "\n",
              "    [theme=dark] .colab-df-convert:hover {\n",
              "      background-color: #434B5C;\n",
              "      box-shadow: 0px 1px 3px 1px rgba(0, 0, 0, 0.15);\n",
              "      filter: drop-shadow(0px 1px 2px rgba(0, 0, 0, 0.3));\n",
              "      fill: #FFFFFF;\n",
              "    }\n",
              "  </style>\n",
              "\n",
              "    <script>\n",
              "      const buttonEl =\n",
              "        document.querySelector('#df-7c6eeb10-25aa-474a-8b0d-2d2309b8e4f1 button.colab-df-convert');\n",
              "      buttonEl.style.display =\n",
              "        google.colab.kernel.accessAllowed ? 'block' : 'none';\n",
              "\n",
              "      async function convertToInteractive(key) {\n",
              "        const element = document.querySelector('#df-7c6eeb10-25aa-474a-8b0d-2d2309b8e4f1');\n",
              "        const dataTable =\n",
              "          await google.colab.kernel.invokeFunction('convertToInteractive',\n",
              "                                                    [key], {});\n",
              "        if (!dataTable) return;\n",
              "\n",
              "        const docLinkHtml = 'Like what you see? Visit the ' +\n",
              "          '<a target=\"_blank\" href=https://colab.research.google.com/notebooks/data_table.ipynb>data table notebook</a>'\n",
              "          + ' to learn more about interactive tables.';\n",
              "        element.innerHTML = '';\n",
              "        dataTable['output_type'] = 'display_data';\n",
              "        await google.colab.output.renderOutput(dataTable, element);\n",
              "        const docLink = document.createElement('div');\n",
              "        docLink.innerHTML = docLinkHtml;\n",
              "        element.appendChild(docLink);\n",
              "      }\n",
              "    </script>\n",
              "  </div>\n",
              "\n",
              "\n",
              "<div id=\"df-7b6808e8-e7de-41b5-81b1-afbf217bf9cf\">\n",
              "  <button class=\"colab-df-quickchart\" onclick=\"quickchart('df-7b6808e8-e7de-41b5-81b1-afbf217bf9cf')\"\n",
              "            title=\"Suggest charts\"\n",
              "            style=\"display:none;\">\n",
              "\n",
              "<svg xmlns=\"http://www.w3.org/2000/svg\" height=\"24px\"viewBox=\"0 0 24 24\"\n",
              "     width=\"24px\">\n",
              "    <g>\n",
              "        <path d=\"M19 3H5c-1.1 0-2 .9-2 2v14c0 1.1.9 2 2 2h14c1.1 0 2-.9 2-2V5c0-1.1-.9-2-2-2zM9 17H7v-7h2v7zm4 0h-2V7h2v10zm4 0h-2v-4h2v4z\"/>\n",
              "    </g>\n",
              "</svg>\n",
              "  </button>\n",
              "\n",
              "<style>\n",
              "  .colab-df-quickchart {\n",
              "      --bg-color: #E8F0FE;\n",
              "      --fill-color: #1967D2;\n",
              "      --hover-bg-color: #E2EBFA;\n",
              "      --hover-fill-color: #174EA6;\n",
              "      --disabled-fill-color: #AAA;\n",
              "      --disabled-bg-color: #DDD;\n",
              "  }\n",
              "\n",
              "  [theme=dark] .colab-df-quickchart {\n",
              "      --bg-color: #3B4455;\n",
              "      --fill-color: #D2E3FC;\n",
              "      --hover-bg-color: #434B5C;\n",
              "      --hover-fill-color: #FFFFFF;\n",
              "      --disabled-bg-color: #3B4455;\n",
              "      --disabled-fill-color: #666;\n",
              "  }\n",
              "\n",
              "  .colab-df-quickchart {\n",
              "    background-color: var(--bg-color);\n",
              "    border: none;\n",
              "    border-radius: 50%;\n",
              "    cursor: pointer;\n",
              "    display: none;\n",
              "    fill: var(--fill-color);\n",
              "    height: 32px;\n",
              "    padding: 0;\n",
              "    width: 32px;\n",
              "  }\n",
              "\n",
              "  .colab-df-quickchart:hover {\n",
              "    background-color: var(--hover-bg-color);\n",
              "    box-shadow: 0 1px 2px rgba(60, 64, 67, 0.3), 0 1px 3px 1px rgba(60, 64, 67, 0.15);\n",
              "    fill: var(--button-hover-fill-color);\n",
              "  }\n",
              "\n",
              "  .colab-df-quickchart-complete:disabled,\n",
              "  .colab-df-quickchart-complete:disabled:hover {\n",
              "    background-color: var(--disabled-bg-color);\n",
              "    fill: var(--disabled-fill-color);\n",
              "    box-shadow: none;\n",
              "  }\n",
              "\n",
              "  .colab-df-spinner {\n",
              "    border: 2px solid var(--fill-color);\n",
              "    border-color: transparent;\n",
              "    border-bottom-color: var(--fill-color);\n",
              "    animation:\n",
              "      spin 1s steps(1) infinite;\n",
              "  }\n",
              "\n",
              "  @keyframes spin {\n",
              "    0% {\n",
              "      border-color: transparent;\n",
              "      border-bottom-color: var(--fill-color);\n",
              "      border-left-color: var(--fill-color);\n",
              "    }\n",
              "    20% {\n",
              "      border-color: transparent;\n",
              "      border-left-color: var(--fill-color);\n",
              "      border-top-color: var(--fill-color);\n",
              "    }\n",
              "    30% {\n",
              "      border-color: transparent;\n",
              "      border-left-color: var(--fill-color);\n",
              "      border-top-color: var(--fill-color);\n",
              "      border-right-color: var(--fill-color);\n",
              "    }\n",
              "    40% {\n",
              "      border-color: transparent;\n",
              "      border-right-color: var(--fill-color);\n",
              "      border-top-color: var(--fill-color);\n",
              "    }\n",
              "    60% {\n",
              "      border-color: transparent;\n",
              "      border-right-color: var(--fill-color);\n",
              "    }\n",
              "    80% {\n",
              "      border-color: transparent;\n",
              "      border-right-color: var(--fill-color);\n",
              "      border-bottom-color: var(--fill-color);\n",
              "    }\n",
              "    90% {\n",
              "      border-color: transparent;\n",
              "      border-bottom-color: var(--fill-color);\n",
              "    }\n",
              "  }\n",
              "</style>\n",
              "\n",
              "  <script>\n",
              "    async function quickchart(key) {\n",
              "      const quickchartButtonEl =\n",
              "        document.querySelector('#' + key + ' button');\n",
              "      quickchartButtonEl.disabled = true;  // To prevent multiple clicks.\n",
              "      quickchartButtonEl.classList.add('colab-df-spinner');\n",
              "      try {\n",
              "        const charts = await google.colab.kernel.invokeFunction(\n",
              "            'suggestCharts', [key], {});\n",
              "      } catch (error) {\n",
              "        console.error('Error during call to suggestCharts:', error);\n",
              "      }\n",
              "      quickchartButtonEl.classList.remove('colab-df-spinner');\n",
              "      quickchartButtonEl.classList.add('colab-df-quickchart-complete');\n",
              "    }\n",
              "    (() => {\n",
              "      let quickchartButtonEl =\n",
              "        document.querySelector('#df-7b6808e8-e7de-41b5-81b1-afbf217bf9cf button');\n",
              "      quickchartButtonEl.style.display =\n",
              "        google.colab.kernel.accessAllowed ? 'block' : 'none';\n",
              "    })();\n",
              "  </script>\n",
              "</div>\n",
              "\n",
              "    </div>\n",
              "  </div>\n"
            ],
            "application/vnd.google.colaboratory.intrinsic+json": {
              "type": "dataframe",
              "variable_name": "df"
            }
          },
          "metadata": {},
          "execution_count": 3
        }
      ]
    },
    {
      "cell_type": "code",
      "source": [
        "# b. Use the below cell to find the number of rows in the dataset.\n",
        "df.shape"
      ],
      "metadata": {
        "id": "B9Jg6Z0KML6r",
        "colab": {
          "base_uri": "https://localhost:8080/"
        },
        "outputId": "6feca841-4fb0-4146-9948-0c455be6d26b"
      },
      "execution_count": 4,
      "outputs": [
        {
          "output_type": "execute_result",
          "data": {
            "text/plain": [
              "(294478, 5)"
            ]
          },
          "metadata": {},
          "execution_count": 4
        }
      ]
    },
    {
      "cell_type": "code",
      "source": [
        "df.shape[0]"
      ],
      "metadata": {
        "colab": {
          "base_uri": "https://localhost:8080/"
        },
        "id": "GFEYeaDbCZ-S",
        "outputId": "0caacfce-51e9-44ac-dcde-a4e45af93b3f"
      },
      "execution_count": 5,
      "outputs": [
        {
          "output_type": "execute_result",
          "data": {
            "text/plain": [
              "294478"
            ]
          },
          "metadata": {},
          "execution_count": 5
        }
      ]
    },
    {
      "cell_type": "markdown",
      "metadata": {
        "id": "li5KS0i3pQqq"
      },
      "source": [
        "## Pre-processing"
      ]
    },
    {
      "cell_type": "markdown",
      "metadata": {
        "id": "Edt4IHsO4lua"
      },
      "source": [
        "### Task 1: Data Cleaning (1 point)\n",
        "\n",
        "* Check the number of unique users in the dataset\n",
        "\n",
        "* Check the proportion of users converted.\n",
        "  \n",
        "    **Hint:** query(), count()\n",
        "* Estimate how many times the new_page and treatment don't line up. Also estimate how many times the old_page and control do not match.\n",
        "\n",
        "* Display the total no. of non-line up pages\n",
        "\n",
        "* Check if any of the rows have missing values?\n",
        "\n",
        "#### **Treatment Group & Control Group**\n",
        "* **Treatment Group (New Webpage):**\n",
        "Users in this group will be exposed to the new webpage design.\n",
        "The effectiveness of the new webpage design will be measured by comparing the conversion rates of users (who actually make purchase of the company's products after visiting this new webpage) in this group to those in the control groups.\n",
        "\n",
        "* **Control Group (Old Webpage):**\n",
        "Users in this group will be shown a webpage that is already in use and has demonstrated effectiveness in terms of conversion rates. It means that users in Control Group 2 will see the same old webpage that is currently being used. This webpage has been proven to be effective in terms of converting visitors into purchasers (or customers) in the past.\n",
        "\n",
        "-- This group serves as a benchmark to evaluate whether the new webpage design outperforms the existing treatment.\n",
        "\n",
        "-- This group (Control Group) acts as a standard for comparison to see if the new webpage design performs better than the current one. We will use the conversion rates observed in Control Group to assess whether the changes made in the new webpage design lead to better results or not."
      ]
    },
    {
      "cell_type": "code",
      "source": [
        "df.nunique()"
      ],
      "metadata": {
        "colab": {
          "base_uri": "https://localhost:8080/",
          "height": 241
        },
        "id": "JS2H41nMCi3L",
        "outputId": "1bffa02f-ad10-4724-a8b1-d17f3d914282"
      },
      "execution_count": 6,
      "outputs": [
        {
          "output_type": "execute_result",
          "data": {
            "text/plain": [
              "user_id         290584\n",
              "timestamp       294478\n",
              "group                2\n",
              "landing_page         2\n",
              "converted            2\n",
              "dtype: int64"
            ],
            "text/html": [
              "<div>\n",
              "<style scoped>\n",
              "    .dataframe tbody tr th:only-of-type {\n",
              "        vertical-align: middle;\n",
              "    }\n",
              "\n",
              "    .dataframe tbody tr th {\n",
              "        vertical-align: top;\n",
              "    }\n",
              "\n",
              "    .dataframe thead th {\n",
              "        text-align: right;\n",
              "    }\n",
              "</style>\n",
              "<table border=\"1\" class=\"dataframe\">\n",
              "  <thead>\n",
              "    <tr style=\"text-align: right;\">\n",
              "      <th></th>\n",
              "      <th>0</th>\n",
              "    </tr>\n",
              "  </thead>\n",
              "  <tbody>\n",
              "    <tr>\n",
              "      <th>user_id</th>\n",
              "      <td>290584</td>\n",
              "    </tr>\n",
              "    <tr>\n",
              "      <th>timestamp</th>\n",
              "      <td>294478</td>\n",
              "    </tr>\n",
              "    <tr>\n",
              "      <th>group</th>\n",
              "      <td>2</td>\n",
              "    </tr>\n",
              "    <tr>\n",
              "      <th>landing_page</th>\n",
              "      <td>2</td>\n",
              "    </tr>\n",
              "    <tr>\n",
              "      <th>converted</th>\n",
              "      <td>2</td>\n",
              "    </tr>\n",
              "  </tbody>\n",
              "</table>\n",
              "</div><br><label><b>dtype:</b> int64</label>"
            ]
          },
          "metadata": {},
          "execution_count": 6
        }
      ]
    },
    {
      "cell_type": "code",
      "source": [
        "df.columns"
      ],
      "metadata": {
        "colab": {
          "base_uri": "https://localhost:8080/"
        },
        "id": "sAgGNNVEF2Mq",
        "outputId": "fda7c22a-2d67-41c3-c86e-e19bb7c7747c"
      },
      "execution_count": 7,
      "outputs": [
        {
          "output_type": "execute_result",
          "data": {
            "text/plain": [
              "Index(['user_id', 'timestamp', 'group', 'landing_page', 'converted'], dtype='object')"
            ]
          },
          "metadata": {},
          "execution_count": 7
        }
      ]
    },
    {
      "cell_type": "code",
      "metadata": {
        "id": "bGXvWzHWZTUg",
        "colab": {
          "base_uri": "https://localhost:8080/"
        },
        "outputId": "8b7c4be5-5ec0-4ab1-993f-690c09476efb"
      },
      "source": [
        "# c. The number of unique users in the dataset.\n",
        "num_unique_users = df['user_id'].nunique()\n",
        "num_unique_users"
      ],
      "execution_count": 8,
      "outputs": [
        {
          "output_type": "execute_result",
          "data": {
            "text/plain": [
              "290584"
            ]
          },
          "metadata": {},
          "execution_count": 8
        }
      ]
    },
    {
      "cell_type": "code",
      "metadata": {
        "id": "L9Vj8ld6ZaIg",
        "colab": {
          "base_uri": "https://localhost:8080/"
        },
        "outputId": "87a737f7-615e-4b1c-96dd-29aa7a99a2f7"
      },
      "source": [
        "df.query('converted == 1')['converted'].count() / df.shape[0]"
      ],
      "execution_count": 9,
      "outputs": [
        {
          "output_type": "execute_result",
          "data": {
            "text/plain": [
              "0.11965919355605512"
            ]
          },
          "metadata": {},
          "execution_count": 9
        }
      ]
    },
    {
      "cell_type": "code",
      "metadata": {
        "id": "A-3Wh2RL4Z0t",
        "colab": {
          "base_uri": "https://localhost:8080/"
        },
        "outputId": "b13a6119-2d11-4b7d-a3a1-4b418870277a"
      },
      "source": [
        "# identify treatment does not match with new_page\n",
        "mismatched_treatment = df[((df['group'] == 'treatment') == (df['landing_page'] == 'new_page')) == False].shape[0]\n",
        "mismatched_treatment"
      ],
      "execution_count": 10,
      "outputs": [
        {
          "output_type": "execute_result",
          "data": {
            "text/plain": [
              "3893"
            ]
          },
          "metadata": {},
          "execution_count": 10
        }
      ]
    },
    {
      "cell_type": "code",
      "metadata": {
        "id": "dIFju1AqFd1t",
        "colab": {
          "base_uri": "https://localhost:8080/"
        },
        "outputId": "af00ba7c-9e3b-4c81-8ebc-ed034df64240"
      },
      "source": [
        "# identify control does not match with old_page\n",
        "mismatched_control = df[((df['group'] == 'control') == (df['landing_page'] == 'old_page')) == False].shape[0]\n",
        "mismatched_control"
      ],
      "execution_count": 11,
      "outputs": [
        {
          "output_type": "execute_result",
          "data": {
            "text/plain": [
              "3893"
            ]
          },
          "metadata": {},
          "execution_count": 11
        }
      ]
    },
    {
      "cell_type": "code",
      "source": [
        "# Total no. of non-line up\n",
        "total_mismatches = mismatched_treatment + mismatched_control\n",
        "total_mismatches"
      ],
      "metadata": {
        "id": "v15b7XvZPSF6",
        "colab": {
          "base_uri": "https://localhost:8080/"
        },
        "outputId": "bd231726-4d05-4b8b-eff4-ea17fc259ddc"
      },
      "execution_count": 12,
      "outputs": [
        {
          "output_type": "execute_result",
          "data": {
            "text/plain": [
              "7786"
            ]
          },
          "metadata": {},
          "execution_count": 12
        }
      ]
    },
    {
      "cell_type": "code",
      "metadata": {
        "id": "DnAgcxCHGywv",
        "colab": {
          "base_uri": "https://localhost:8080/",
          "height": 241
        },
        "outputId": "e3ceb441-47e4-49fa-ccbf-221e8ecb764c"
      },
      "source": [
        "# Check for any missing values\n",
        "df.isnull().sum()"
      ],
      "execution_count": 13,
      "outputs": [
        {
          "output_type": "execute_result",
          "data": {
            "text/plain": [
              "user_id         0\n",
              "timestamp       0\n",
              "group           0\n",
              "landing_page    0\n",
              "converted       0\n",
              "dtype: int64"
            ],
            "text/html": [
              "<div>\n",
              "<style scoped>\n",
              "    .dataframe tbody tr th:only-of-type {\n",
              "        vertical-align: middle;\n",
              "    }\n",
              "\n",
              "    .dataframe tbody tr th {\n",
              "        vertical-align: top;\n",
              "    }\n",
              "\n",
              "    .dataframe thead th {\n",
              "        text-align: right;\n",
              "    }\n",
              "</style>\n",
              "<table border=\"1\" class=\"dataframe\">\n",
              "  <thead>\n",
              "    <tr style=\"text-align: right;\">\n",
              "      <th></th>\n",
              "      <th>0</th>\n",
              "    </tr>\n",
              "  </thead>\n",
              "  <tbody>\n",
              "    <tr>\n",
              "      <th>user_id</th>\n",
              "      <td>0</td>\n",
              "    </tr>\n",
              "    <tr>\n",
              "      <th>timestamp</th>\n",
              "      <td>0</td>\n",
              "    </tr>\n",
              "    <tr>\n",
              "      <th>group</th>\n",
              "      <td>0</td>\n",
              "    </tr>\n",
              "    <tr>\n",
              "      <th>landing_page</th>\n",
              "      <td>0</td>\n",
              "    </tr>\n",
              "    <tr>\n",
              "      <th>converted</th>\n",
              "      <td>0</td>\n",
              "    </tr>\n",
              "  </tbody>\n",
              "</table>\n",
              "</div><br><label><b>dtype:</b> int64</label>"
            ]
          },
          "metadata": {},
          "execution_count": 13
        }
      ]
    },
    {
      "cell_type": "code",
      "metadata": {
        "id": "Gqq4CX4gG3zU",
        "colab": {
          "base_uri": "https://localhost:8080/",
          "height": 241
        },
        "outputId": "354495c5-ffb4-412a-9b44-764394b9ba88"
      },
      "source": [
        "# Check datatype of each column\n",
        "df.dtypes"
      ],
      "execution_count": 14,
      "outputs": [
        {
          "output_type": "execute_result",
          "data": {
            "text/plain": [
              "user_id          int64\n",
              "timestamp       object\n",
              "group           object\n",
              "landing_page    object\n",
              "converted        int64\n",
              "dtype: object"
            ],
            "text/html": [
              "<div>\n",
              "<style scoped>\n",
              "    .dataframe tbody tr th:only-of-type {\n",
              "        vertical-align: middle;\n",
              "    }\n",
              "\n",
              "    .dataframe tbody tr th {\n",
              "        vertical-align: top;\n",
              "    }\n",
              "\n",
              "    .dataframe thead th {\n",
              "        text-align: right;\n",
              "    }\n",
              "</style>\n",
              "<table border=\"1\" class=\"dataframe\">\n",
              "  <thead>\n",
              "    <tr style=\"text-align: right;\">\n",
              "      <th></th>\n",
              "      <th>0</th>\n",
              "    </tr>\n",
              "  </thead>\n",
              "  <tbody>\n",
              "    <tr>\n",
              "      <th>user_id</th>\n",
              "      <td>int64</td>\n",
              "    </tr>\n",
              "    <tr>\n",
              "      <th>timestamp</th>\n",
              "      <td>object</td>\n",
              "    </tr>\n",
              "    <tr>\n",
              "      <th>group</th>\n",
              "      <td>object</td>\n",
              "    </tr>\n",
              "    <tr>\n",
              "      <th>landing_page</th>\n",
              "      <td>object</td>\n",
              "    </tr>\n",
              "    <tr>\n",
              "      <th>converted</th>\n",
              "      <td>int64</td>\n",
              "    </tr>\n",
              "  </tbody>\n",
              "</table>\n",
              "</div><br><label><b>dtype:</b> object</label>"
            ]
          },
          "metadata": {},
          "execution_count": 14
        }
      ]
    },
    {
      "cell_type": "markdown",
      "metadata": {
        "id": "3PVM_RBKbjZ6"
      },
      "source": [
        "### Task 2: Identify the not aligned rows (1 point)\n",
        "\n",
        "<u>**Part-2a:**</u>\n",
        "\n",
        "With the above dataset (achieved in Task-1) the requirement is to first identify the rows in that dataset where the treatment group is aligned with the new_page and where the control group is aligned with the old_page.\n",
        "\n",
        "**Hint:** It creates a new DataFrame containing these filtered rows.\n",
        "**('group == \"treatment\" and landing_page == \"new_page\"')**\n",
        "\n",
        "<u>**Part-2b:**</u>\n",
        "\n",
        "Now, with the help of the new dataset (achieved in Part-2a of Task-2), we need to identify the misaligned rows in the dataset (achieved in Task-1) where treatment is not aligned with new_page or control is not aligned with old_page\n",
        "\n",
        "This can be done by checking the values 'treatment' and 'control' under the 'group' column to ensure they do not correspond with the values 'new_page' and 'old_page' under the 'landing_page' column, respectively.\n",
        "\n",
        "For the rows where treatment is not aligned with new_page or control is not aligned with old_page, we cannot be sure if this row truly received the new or old page. Write your code to provide how we should handle these rows."
      ]
    },
    {
      "cell_type": "code",
      "metadata": {
        "id": "ibXbIHHPQXZL",
        "colab": {
          "base_uri": "https://localhost:8080/",
          "height": 424
        },
        "outputId": "7ffe56ea-f8a0-43c0-e7bc-120b9cb16e4f"
      },
      "source": [
        "# Part-2a\n",
        "# create a new dataset that meets the specifications:\n",
        "# treatment is aligned with new_page or control is aligned with old_page\n",
        "\n",
        "df2 = df[((df['group'] == 'treatment') == (df['landing_page'] == 'new_page'))]\n",
        "df2"
      ],
      "execution_count": 15,
      "outputs": [
        {
          "output_type": "execute_result",
          "data": {
            "text/plain": [
              "        user_id                   timestamp      group landing_page  converted\n",
              "0        851104  2017-01-21 22:11:48.556739    control     old_page          0\n",
              "1        804228  2017-01-12 08:01:45.159739    control     old_page          0\n",
              "2        661590  2017-01-11 16:55:06.154213  treatment     new_page          0\n",
              "3        853541  2017-01-08 18:28:03.143765  treatment     new_page          0\n",
              "4        864975  2017-01-21 01:52:26.210827    control     old_page          1\n",
              "...         ...                         ...        ...          ...        ...\n",
              "294473   751197  2017-01-03 22:28:38.630509    control     old_page          0\n",
              "294474   945152  2017-01-12 00:51:57.078372    control     old_page          0\n",
              "294475   734608  2017-01-22 11:45:03.439544    control     old_page          0\n",
              "294476   697314  2017-01-15 01:20:28.957438    control     old_page          0\n",
              "294477   715931  2017-01-16 12:40:24.467417  treatment     new_page          0\n",
              "\n",
              "[290585 rows x 5 columns]"
            ],
            "text/html": [
              "\n",
              "  <div id=\"df-d8cbe655-27db-4f6d-ad42-8ae36a2f756d\" class=\"colab-df-container\">\n",
              "    <div>\n",
              "<style scoped>\n",
              "    .dataframe tbody tr th:only-of-type {\n",
              "        vertical-align: middle;\n",
              "    }\n",
              "\n",
              "    .dataframe tbody tr th {\n",
              "        vertical-align: top;\n",
              "    }\n",
              "\n",
              "    .dataframe thead th {\n",
              "        text-align: right;\n",
              "    }\n",
              "</style>\n",
              "<table border=\"1\" class=\"dataframe\">\n",
              "  <thead>\n",
              "    <tr style=\"text-align: right;\">\n",
              "      <th></th>\n",
              "      <th>user_id</th>\n",
              "      <th>timestamp</th>\n",
              "      <th>group</th>\n",
              "      <th>landing_page</th>\n",
              "      <th>converted</th>\n",
              "    </tr>\n",
              "  </thead>\n",
              "  <tbody>\n",
              "    <tr>\n",
              "      <th>0</th>\n",
              "      <td>851104</td>\n",
              "      <td>2017-01-21 22:11:48.556739</td>\n",
              "      <td>control</td>\n",
              "      <td>old_page</td>\n",
              "      <td>0</td>\n",
              "    </tr>\n",
              "    <tr>\n",
              "      <th>1</th>\n",
              "      <td>804228</td>\n",
              "      <td>2017-01-12 08:01:45.159739</td>\n",
              "      <td>control</td>\n",
              "      <td>old_page</td>\n",
              "      <td>0</td>\n",
              "    </tr>\n",
              "    <tr>\n",
              "      <th>2</th>\n",
              "      <td>661590</td>\n",
              "      <td>2017-01-11 16:55:06.154213</td>\n",
              "      <td>treatment</td>\n",
              "      <td>new_page</td>\n",
              "      <td>0</td>\n",
              "    </tr>\n",
              "    <tr>\n",
              "      <th>3</th>\n",
              "      <td>853541</td>\n",
              "      <td>2017-01-08 18:28:03.143765</td>\n",
              "      <td>treatment</td>\n",
              "      <td>new_page</td>\n",
              "      <td>0</td>\n",
              "    </tr>\n",
              "    <tr>\n",
              "      <th>4</th>\n",
              "      <td>864975</td>\n",
              "      <td>2017-01-21 01:52:26.210827</td>\n",
              "      <td>control</td>\n",
              "      <td>old_page</td>\n",
              "      <td>1</td>\n",
              "    </tr>\n",
              "    <tr>\n",
              "      <th>...</th>\n",
              "      <td>...</td>\n",
              "      <td>...</td>\n",
              "      <td>...</td>\n",
              "      <td>...</td>\n",
              "      <td>...</td>\n",
              "    </tr>\n",
              "    <tr>\n",
              "      <th>294473</th>\n",
              "      <td>751197</td>\n",
              "      <td>2017-01-03 22:28:38.630509</td>\n",
              "      <td>control</td>\n",
              "      <td>old_page</td>\n",
              "      <td>0</td>\n",
              "    </tr>\n",
              "    <tr>\n",
              "      <th>294474</th>\n",
              "      <td>945152</td>\n",
              "      <td>2017-01-12 00:51:57.078372</td>\n",
              "      <td>control</td>\n",
              "      <td>old_page</td>\n",
              "      <td>0</td>\n",
              "    </tr>\n",
              "    <tr>\n",
              "      <th>294475</th>\n",
              "      <td>734608</td>\n",
              "      <td>2017-01-22 11:45:03.439544</td>\n",
              "      <td>control</td>\n",
              "      <td>old_page</td>\n",
              "      <td>0</td>\n",
              "    </tr>\n",
              "    <tr>\n",
              "      <th>294476</th>\n",
              "      <td>697314</td>\n",
              "      <td>2017-01-15 01:20:28.957438</td>\n",
              "      <td>control</td>\n",
              "      <td>old_page</td>\n",
              "      <td>0</td>\n",
              "    </tr>\n",
              "    <tr>\n",
              "      <th>294477</th>\n",
              "      <td>715931</td>\n",
              "      <td>2017-01-16 12:40:24.467417</td>\n",
              "      <td>treatment</td>\n",
              "      <td>new_page</td>\n",
              "      <td>0</td>\n",
              "    </tr>\n",
              "  </tbody>\n",
              "</table>\n",
              "<p>290585 rows × 5 columns</p>\n",
              "</div>\n",
              "    <div class=\"colab-df-buttons\">\n",
              "\n",
              "  <div class=\"colab-df-container\">\n",
              "    <button class=\"colab-df-convert\" onclick=\"convertToInteractive('df-d8cbe655-27db-4f6d-ad42-8ae36a2f756d')\"\n",
              "            title=\"Convert this dataframe to an interactive table.\"\n",
              "            style=\"display:none;\">\n",
              "\n",
              "  <svg xmlns=\"http://www.w3.org/2000/svg\" height=\"24px\" viewBox=\"0 -960 960 960\">\n",
              "    <path d=\"M120-120v-720h720v720H120Zm60-500h600v-160H180v160Zm220 220h160v-160H400v160Zm0 220h160v-160H400v160ZM180-400h160v-160H180v160Zm440 0h160v-160H620v160ZM180-180h160v-160H180v160Zm440 0h160v-160H620v160Z\"/>\n",
              "  </svg>\n",
              "    </button>\n",
              "\n",
              "  <style>\n",
              "    .colab-df-container {\n",
              "      display:flex;\n",
              "      gap: 12px;\n",
              "    }\n",
              "\n",
              "    .colab-df-convert {\n",
              "      background-color: #E8F0FE;\n",
              "      border: none;\n",
              "      border-radius: 50%;\n",
              "      cursor: pointer;\n",
              "      display: none;\n",
              "      fill: #1967D2;\n",
              "      height: 32px;\n",
              "      padding: 0 0 0 0;\n",
              "      width: 32px;\n",
              "    }\n",
              "\n",
              "    .colab-df-convert:hover {\n",
              "      background-color: #E2EBFA;\n",
              "      box-shadow: 0px 1px 2px rgba(60, 64, 67, 0.3), 0px 1px 3px 1px rgba(60, 64, 67, 0.15);\n",
              "      fill: #174EA6;\n",
              "    }\n",
              "\n",
              "    .colab-df-buttons div {\n",
              "      margin-bottom: 4px;\n",
              "    }\n",
              "\n",
              "    [theme=dark] .colab-df-convert {\n",
              "      background-color: #3B4455;\n",
              "      fill: #D2E3FC;\n",
              "    }\n",
              "\n",
              "    [theme=dark] .colab-df-convert:hover {\n",
              "      background-color: #434B5C;\n",
              "      box-shadow: 0px 1px 3px 1px rgba(0, 0, 0, 0.15);\n",
              "      filter: drop-shadow(0px 1px 2px rgba(0, 0, 0, 0.3));\n",
              "      fill: #FFFFFF;\n",
              "    }\n",
              "  </style>\n",
              "\n",
              "    <script>\n",
              "      const buttonEl =\n",
              "        document.querySelector('#df-d8cbe655-27db-4f6d-ad42-8ae36a2f756d button.colab-df-convert');\n",
              "      buttonEl.style.display =\n",
              "        google.colab.kernel.accessAllowed ? 'block' : 'none';\n",
              "\n",
              "      async function convertToInteractive(key) {\n",
              "        const element = document.querySelector('#df-d8cbe655-27db-4f6d-ad42-8ae36a2f756d');\n",
              "        const dataTable =\n",
              "          await google.colab.kernel.invokeFunction('convertToInteractive',\n",
              "                                                    [key], {});\n",
              "        if (!dataTable) return;\n",
              "\n",
              "        const docLinkHtml = 'Like what you see? Visit the ' +\n",
              "          '<a target=\"_blank\" href=https://colab.research.google.com/notebooks/data_table.ipynb>data table notebook</a>'\n",
              "          + ' to learn more about interactive tables.';\n",
              "        element.innerHTML = '';\n",
              "        dataTable['output_type'] = 'display_data';\n",
              "        await google.colab.output.renderOutput(dataTable, element);\n",
              "        const docLink = document.createElement('div');\n",
              "        docLink.innerHTML = docLinkHtml;\n",
              "        element.appendChild(docLink);\n",
              "      }\n",
              "    </script>\n",
              "  </div>\n",
              "\n",
              "\n",
              "<div id=\"df-f8d68231-afe6-471f-9e57-a1feb620a092\">\n",
              "  <button class=\"colab-df-quickchart\" onclick=\"quickchart('df-f8d68231-afe6-471f-9e57-a1feb620a092')\"\n",
              "            title=\"Suggest charts\"\n",
              "            style=\"display:none;\">\n",
              "\n",
              "<svg xmlns=\"http://www.w3.org/2000/svg\" height=\"24px\"viewBox=\"0 0 24 24\"\n",
              "     width=\"24px\">\n",
              "    <g>\n",
              "        <path d=\"M19 3H5c-1.1 0-2 .9-2 2v14c0 1.1.9 2 2 2h14c1.1 0 2-.9 2-2V5c0-1.1-.9-2-2-2zM9 17H7v-7h2v7zm4 0h-2V7h2v10zm4 0h-2v-4h2v4z\"/>\n",
              "    </g>\n",
              "</svg>\n",
              "  </button>\n",
              "\n",
              "<style>\n",
              "  .colab-df-quickchart {\n",
              "      --bg-color: #E8F0FE;\n",
              "      --fill-color: #1967D2;\n",
              "      --hover-bg-color: #E2EBFA;\n",
              "      --hover-fill-color: #174EA6;\n",
              "      --disabled-fill-color: #AAA;\n",
              "      --disabled-bg-color: #DDD;\n",
              "  }\n",
              "\n",
              "  [theme=dark] .colab-df-quickchart {\n",
              "      --bg-color: #3B4455;\n",
              "      --fill-color: #D2E3FC;\n",
              "      --hover-bg-color: #434B5C;\n",
              "      --hover-fill-color: #FFFFFF;\n",
              "      --disabled-bg-color: #3B4455;\n",
              "      --disabled-fill-color: #666;\n",
              "  }\n",
              "\n",
              "  .colab-df-quickchart {\n",
              "    background-color: var(--bg-color);\n",
              "    border: none;\n",
              "    border-radius: 50%;\n",
              "    cursor: pointer;\n",
              "    display: none;\n",
              "    fill: var(--fill-color);\n",
              "    height: 32px;\n",
              "    padding: 0;\n",
              "    width: 32px;\n",
              "  }\n",
              "\n",
              "  .colab-df-quickchart:hover {\n",
              "    background-color: var(--hover-bg-color);\n",
              "    box-shadow: 0 1px 2px rgba(60, 64, 67, 0.3), 0 1px 3px 1px rgba(60, 64, 67, 0.15);\n",
              "    fill: var(--button-hover-fill-color);\n",
              "  }\n",
              "\n",
              "  .colab-df-quickchart-complete:disabled,\n",
              "  .colab-df-quickchart-complete:disabled:hover {\n",
              "    background-color: var(--disabled-bg-color);\n",
              "    fill: var(--disabled-fill-color);\n",
              "    box-shadow: none;\n",
              "  }\n",
              "\n",
              "  .colab-df-spinner {\n",
              "    border: 2px solid var(--fill-color);\n",
              "    border-color: transparent;\n",
              "    border-bottom-color: var(--fill-color);\n",
              "    animation:\n",
              "      spin 1s steps(1) infinite;\n",
              "  }\n",
              "\n",
              "  @keyframes spin {\n",
              "    0% {\n",
              "      border-color: transparent;\n",
              "      border-bottom-color: var(--fill-color);\n",
              "      border-left-color: var(--fill-color);\n",
              "    }\n",
              "    20% {\n",
              "      border-color: transparent;\n",
              "      border-left-color: var(--fill-color);\n",
              "      border-top-color: var(--fill-color);\n",
              "    }\n",
              "    30% {\n",
              "      border-color: transparent;\n",
              "      border-left-color: var(--fill-color);\n",
              "      border-top-color: var(--fill-color);\n",
              "      border-right-color: var(--fill-color);\n",
              "    }\n",
              "    40% {\n",
              "      border-color: transparent;\n",
              "      border-right-color: var(--fill-color);\n",
              "      border-top-color: var(--fill-color);\n",
              "    }\n",
              "    60% {\n",
              "      border-color: transparent;\n",
              "      border-right-color: var(--fill-color);\n",
              "    }\n",
              "    80% {\n",
              "      border-color: transparent;\n",
              "      border-right-color: var(--fill-color);\n",
              "      border-bottom-color: var(--fill-color);\n",
              "    }\n",
              "    90% {\n",
              "      border-color: transparent;\n",
              "      border-bottom-color: var(--fill-color);\n",
              "    }\n",
              "  }\n",
              "</style>\n",
              "\n",
              "  <script>\n",
              "    async function quickchart(key) {\n",
              "      const quickchartButtonEl =\n",
              "        document.querySelector('#' + key + ' button');\n",
              "      quickchartButtonEl.disabled = true;  // To prevent multiple clicks.\n",
              "      quickchartButtonEl.classList.add('colab-df-spinner');\n",
              "      try {\n",
              "        const charts = await google.colab.kernel.invokeFunction(\n",
              "            'suggestCharts', [key], {});\n",
              "      } catch (error) {\n",
              "        console.error('Error during call to suggestCharts:', error);\n",
              "      }\n",
              "      quickchartButtonEl.classList.remove('colab-df-spinner');\n",
              "      quickchartButtonEl.classList.add('colab-df-quickchart-complete');\n",
              "    }\n",
              "    (() => {\n",
              "      let quickchartButtonEl =\n",
              "        document.querySelector('#df-f8d68231-afe6-471f-9e57-a1feb620a092 button');\n",
              "      quickchartButtonEl.style.display =\n",
              "        google.colab.kernel.accessAllowed ? 'block' : 'none';\n",
              "    })();\n",
              "  </script>\n",
              "</div>\n",
              "\n",
              "  <div id=\"id_c894a152-7ee3-46f8-833e-e4f1965c55f0\">\n",
              "    <style>\n",
              "      .colab-df-generate {\n",
              "        background-color: #E8F0FE;\n",
              "        border: none;\n",
              "        border-radius: 50%;\n",
              "        cursor: pointer;\n",
              "        display: none;\n",
              "        fill: #1967D2;\n",
              "        height: 32px;\n",
              "        padding: 0 0 0 0;\n",
              "        width: 32px;\n",
              "      }\n",
              "\n",
              "      .colab-df-generate:hover {\n",
              "        background-color: #E2EBFA;\n",
              "        box-shadow: 0px 1px 2px rgba(60, 64, 67, 0.3), 0px 1px 3px 1px rgba(60, 64, 67, 0.15);\n",
              "        fill: #174EA6;\n",
              "      }\n",
              "\n",
              "      [theme=dark] .colab-df-generate {\n",
              "        background-color: #3B4455;\n",
              "        fill: #D2E3FC;\n",
              "      }\n",
              "\n",
              "      [theme=dark] .colab-df-generate:hover {\n",
              "        background-color: #434B5C;\n",
              "        box-shadow: 0px 1px 3px 1px rgba(0, 0, 0, 0.15);\n",
              "        filter: drop-shadow(0px 1px 2px rgba(0, 0, 0, 0.3));\n",
              "        fill: #FFFFFF;\n",
              "      }\n",
              "    </style>\n",
              "    <button class=\"colab-df-generate\" onclick=\"generateWithVariable('df2')\"\n",
              "            title=\"Generate code using this dataframe.\"\n",
              "            style=\"display:none;\">\n",
              "\n",
              "  <svg xmlns=\"http://www.w3.org/2000/svg\" height=\"24px\"viewBox=\"0 0 24 24\"\n",
              "       width=\"24px\">\n",
              "    <path d=\"M7,19H8.4L18.45,9,17,7.55,7,17.6ZM5,21V16.75L18.45,3.32a2,2,0,0,1,2.83,0l1.4,1.43a1.91,1.91,0,0,1,.58,1.4,1.91,1.91,0,0,1-.58,1.4L9.25,21ZM18.45,9,17,7.55Zm-12,3A5.31,5.31,0,0,0,4.9,8.1,5.31,5.31,0,0,0,1,6.5,5.31,5.31,0,0,0,4.9,4.9,5.31,5.31,0,0,0,6.5,1,5.31,5.31,0,0,0,8.1,4.9,5.31,5.31,0,0,0,12,6.5,5.46,5.46,0,0,0,6.5,12Z\"/>\n",
              "  </svg>\n",
              "    </button>\n",
              "    <script>\n",
              "      (() => {\n",
              "      const buttonEl =\n",
              "        document.querySelector('#id_c894a152-7ee3-46f8-833e-e4f1965c55f0 button.colab-df-generate');\n",
              "      buttonEl.style.display =\n",
              "        google.colab.kernel.accessAllowed ? 'block' : 'none';\n",
              "\n",
              "      buttonEl.onclick = () => {\n",
              "        google.colab.notebook.generateWithVariable('df2');\n",
              "      }\n",
              "      })();\n",
              "    </script>\n",
              "  </div>\n",
              "\n",
              "    </div>\n",
              "  </div>\n"
            ],
            "application/vnd.google.colaboratory.intrinsic+json": {
              "type": "dataframe",
              "variable_name": "df2"
            }
          },
          "metadata": {},
          "execution_count": 15
        }
      ]
    },
    {
      "cell_type": "code",
      "metadata": {
        "id": "hpE9zOpnTn8n",
        "colab": {
          "base_uri": "https://localhost:8080/"
        },
        "outputId": "309b36bb-9ab7-4af8-c3b2-d89befb609f7"
      },
      "source": [
        "# show the dimension of the new dataset created\n",
        "df2.shape"
      ],
      "execution_count": 16,
      "outputs": [
        {
          "output_type": "execute_result",
          "data": {
            "text/plain": [
              "(290585, 5)"
            ]
          },
          "metadata": {},
          "execution_count": 16
        }
      ]
    },
    {
      "cell_type": "code",
      "source": [
        "# Part-2b\n",
        "# Now, with the help of the new dataset (achiebed above), identify the misaligned rows in the dataset (achieved in Task-1)\n",
        "# where treatment is not aligned with new_page or control is not aligned with old_page\n",
        "# Identify misaligned rows where treatment is not aligned with new_page or control is not aligned with old_page\n",
        "misaligned_rows = df[((df['group'] == 'treatment') != (df['landing_page'] == 'new_page'))]\n",
        "print(misaligned_rows.head())\n",
        "\n",
        "# Handling misaligned rows:  Since we cannot be sure which page these users actually saw,\n",
        "# the best course of action is to remove these rows from the dataset.\n",
        "df_cleaned = df[((df['group'] == 'treatment') == (df['landing_page'] == 'new_page'))]\n",
        "print(f\"Original DataFrame shape: {df.shape}\")\n",
        "print(f\"Cleaned DataFrame shape: {df_cleaned.shape}\")"
      ],
      "metadata": {
        "id": "ovn38S2RrSH7",
        "colab": {
          "base_uri": "https://localhost:8080/"
        },
        "outputId": "97caa97e-8b07-472b-dec8-f63aa34b1326"
      },
      "execution_count": 17,
      "outputs": [
        {
          "output_type": "stream",
          "name": "stdout",
          "text": [
            "     user_id                   timestamp      group landing_page  converted\n",
            "22    767017  2017-01-12 22:58:14.991443    control     new_page          0\n",
            "240   733976  2017-01-11 15:11:16.407599    control     new_page          0\n",
            "308   857184  2017-01-20 07:34:59.832626  treatment     old_page          0\n",
            "327   686623  2017-01-09 14:26:40.734775  treatment     old_page          0\n",
            "357   856078  2017-01-12 12:29:30.354835  treatment     old_page          0\n",
            "Original DataFrame shape: (294478, 5)\n",
            "Cleaned DataFrame shape: (290585, 5)\n"
          ]
        }
      ]
    },
    {
      "cell_type": "code",
      "source": [
        "# Double Check all of the correct rows were removed - this should be 0\n",
        "df2[((df2['group'] == 'treatment') == (df2['landing_page'] == 'new_page')) == False].shape[0]"
      ],
      "metadata": {
        "id": "NJyZYPBlTlIl",
        "colab": {
          "base_uri": "https://localhost:8080/"
        },
        "outputId": "d2b8d8a9-7239-4803-9593-e869f9008318"
      },
      "execution_count": 18,
      "outputs": [
        {
          "output_type": "execute_result",
          "data": {
            "text/plain": [
              "0"
            ]
          },
          "metadata": {},
          "execution_count": 18
        }
      ]
    },
    {
      "cell_type": "markdown",
      "metadata": {
        "id": "Xc3UOT74MM3O"
      },
      "source": [
        "### Task-3: Using the above new dataset, answer the following questions. (1.5 points)\n",
        "\n",
        "* How many unique user_ids are in the new dataset created above in Task-2?\n",
        "\n",
        "* There is one user_id repeated in this dataset. What is it? (Here you need to show only the user_id)\n",
        "\n",
        "* What is the row information for the repeat user_id? (Here, you need to show the complete row including 'user_id', 'timestamp', 'group', 'landing_page' and\t'converted')\n",
        "\n",
        "* Remove one of the rows with a duplicate user_id, but keep your dataframe name as same."
      ]
    },
    {
      "cell_type": "code",
      "metadata": {
        "id": "9dn_ljWWAcNM",
        "colab": {
          "base_uri": "https://localhost:8080/",
          "height": 241
        },
        "outputId": "b71e98d8-126f-4370-c363-b37e2e1ca201"
      },
      "source": [
        "df2.nunique()"
      ],
      "execution_count": 19,
      "outputs": [
        {
          "output_type": "execute_result",
          "data": {
            "text/plain": [
              "user_id         290584\n",
              "timestamp       290585\n",
              "group                2\n",
              "landing_page         2\n",
              "converted            2\n",
              "dtype: int64"
            ],
            "text/html": [
              "<div>\n",
              "<style scoped>\n",
              "    .dataframe tbody tr th:only-of-type {\n",
              "        vertical-align: middle;\n",
              "    }\n",
              "\n",
              "    .dataframe tbody tr th {\n",
              "        vertical-align: top;\n",
              "    }\n",
              "\n",
              "    .dataframe thead th {\n",
              "        text-align: right;\n",
              "    }\n",
              "</style>\n",
              "<table border=\"1\" class=\"dataframe\">\n",
              "  <thead>\n",
              "    <tr style=\"text-align: right;\">\n",
              "      <th></th>\n",
              "      <th>0</th>\n",
              "    </tr>\n",
              "  </thead>\n",
              "  <tbody>\n",
              "    <tr>\n",
              "      <th>user_id</th>\n",
              "      <td>290584</td>\n",
              "    </tr>\n",
              "    <tr>\n",
              "      <th>timestamp</th>\n",
              "      <td>290585</td>\n",
              "    </tr>\n",
              "    <tr>\n",
              "      <th>group</th>\n",
              "      <td>2</td>\n",
              "    </tr>\n",
              "    <tr>\n",
              "      <th>landing_page</th>\n",
              "      <td>2</td>\n",
              "    </tr>\n",
              "    <tr>\n",
              "      <th>converted</th>\n",
              "      <td>2</td>\n",
              "    </tr>\n",
              "  </tbody>\n",
              "</table>\n",
              "</div><br><label><b>dtype:</b> int64</label>"
            ]
          },
          "metadata": {},
          "execution_count": 19
        }
      ]
    },
    {
      "cell_type": "code",
      "source": [
        "# print the duplicated user_id\n",
        "df2.user_id[df2.user_id.duplicated()]"
      ],
      "metadata": {
        "id": "a5feaxXUbnIc",
        "colab": {
          "base_uri": "https://localhost:8080/",
          "height": 115
        },
        "outputId": "5e9a4bb3-c73a-48cc-80fd-72e9cee72d9f"
      },
      "execution_count": 20,
      "outputs": [
        {
          "output_type": "execute_result",
          "data": {
            "text/plain": [
              "2893    773192\n",
              "Name: user_id, dtype: int64"
            ],
            "text/html": [
              "<div>\n",
              "<style scoped>\n",
              "    .dataframe tbody tr th:only-of-type {\n",
              "        vertical-align: middle;\n",
              "    }\n",
              "\n",
              "    .dataframe tbody tr th {\n",
              "        vertical-align: top;\n",
              "    }\n",
              "\n",
              "    .dataframe thead th {\n",
              "        text-align: right;\n",
              "    }\n",
              "</style>\n",
              "<table border=\"1\" class=\"dataframe\">\n",
              "  <thead>\n",
              "    <tr style=\"text-align: right;\">\n",
              "      <th></th>\n",
              "      <th>user_id</th>\n",
              "    </tr>\n",
              "  </thead>\n",
              "  <tbody>\n",
              "    <tr>\n",
              "      <th>2893</th>\n",
              "      <td>773192</td>\n",
              "    </tr>\n",
              "  </tbody>\n",
              "</table>\n",
              "</div><br><label><b>dtype:</b> int64</label>"
            ]
          },
          "metadata": {},
          "execution_count": 20
        }
      ]
    },
    {
      "cell_type": "code",
      "source": [
        "# show the row information of the duplicate user_id\n",
        "df2.loc[df2.user_id.duplicated()]"
      ],
      "metadata": {
        "id": "-7MFS8RWbW7N",
        "colab": {
          "base_uri": "https://localhost:8080/",
          "height": 81
        },
        "outputId": "7d543962-cfee-41a7-e6de-dbae8b2eafdc"
      },
      "execution_count": 21,
      "outputs": [
        {
          "output_type": "execute_result",
          "data": {
            "text/plain": [
              "      user_id                   timestamp      group landing_page  converted\n",
              "2893   773192  2017-01-14 02:55:59.590927  treatment     new_page          0"
            ],
            "text/html": [
              "\n",
              "  <div id=\"df-816e2aa2-c20e-4848-83c7-fae6de8b2ac0\" class=\"colab-df-container\">\n",
              "    <div>\n",
              "<style scoped>\n",
              "    .dataframe tbody tr th:only-of-type {\n",
              "        vertical-align: middle;\n",
              "    }\n",
              "\n",
              "    .dataframe tbody tr th {\n",
              "        vertical-align: top;\n",
              "    }\n",
              "\n",
              "    .dataframe thead th {\n",
              "        text-align: right;\n",
              "    }\n",
              "</style>\n",
              "<table border=\"1\" class=\"dataframe\">\n",
              "  <thead>\n",
              "    <tr style=\"text-align: right;\">\n",
              "      <th></th>\n",
              "      <th>user_id</th>\n",
              "      <th>timestamp</th>\n",
              "      <th>group</th>\n",
              "      <th>landing_page</th>\n",
              "      <th>converted</th>\n",
              "    </tr>\n",
              "  </thead>\n",
              "  <tbody>\n",
              "    <tr>\n",
              "      <th>2893</th>\n",
              "      <td>773192</td>\n",
              "      <td>2017-01-14 02:55:59.590927</td>\n",
              "      <td>treatment</td>\n",
              "      <td>new_page</td>\n",
              "      <td>0</td>\n",
              "    </tr>\n",
              "  </tbody>\n",
              "</table>\n",
              "</div>\n",
              "    <div class=\"colab-df-buttons\">\n",
              "\n",
              "  <div class=\"colab-df-container\">\n",
              "    <button class=\"colab-df-convert\" onclick=\"convertToInteractive('df-816e2aa2-c20e-4848-83c7-fae6de8b2ac0')\"\n",
              "            title=\"Convert this dataframe to an interactive table.\"\n",
              "            style=\"display:none;\">\n",
              "\n",
              "  <svg xmlns=\"http://www.w3.org/2000/svg\" height=\"24px\" viewBox=\"0 -960 960 960\">\n",
              "    <path d=\"M120-120v-720h720v720H120Zm60-500h600v-160H180v160Zm220 220h160v-160H400v160Zm0 220h160v-160H400v160ZM180-400h160v-160H180v160Zm440 0h160v-160H620v160ZM180-180h160v-160H180v160Zm440 0h160v-160H620v160Z\"/>\n",
              "  </svg>\n",
              "    </button>\n",
              "\n",
              "  <style>\n",
              "    .colab-df-container {\n",
              "      display:flex;\n",
              "      gap: 12px;\n",
              "    }\n",
              "\n",
              "    .colab-df-convert {\n",
              "      background-color: #E8F0FE;\n",
              "      border: none;\n",
              "      border-radius: 50%;\n",
              "      cursor: pointer;\n",
              "      display: none;\n",
              "      fill: #1967D2;\n",
              "      height: 32px;\n",
              "      padding: 0 0 0 0;\n",
              "      width: 32px;\n",
              "    }\n",
              "\n",
              "    .colab-df-convert:hover {\n",
              "      background-color: #E2EBFA;\n",
              "      box-shadow: 0px 1px 2px rgba(60, 64, 67, 0.3), 0px 1px 3px 1px rgba(60, 64, 67, 0.15);\n",
              "      fill: #174EA6;\n",
              "    }\n",
              "\n",
              "    .colab-df-buttons div {\n",
              "      margin-bottom: 4px;\n",
              "    }\n",
              "\n",
              "    [theme=dark] .colab-df-convert {\n",
              "      background-color: #3B4455;\n",
              "      fill: #D2E3FC;\n",
              "    }\n",
              "\n",
              "    [theme=dark] .colab-df-convert:hover {\n",
              "      background-color: #434B5C;\n",
              "      box-shadow: 0px 1px 3px 1px rgba(0, 0, 0, 0.15);\n",
              "      filter: drop-shadow(0px 1px 2px rgba(0, 0, 0, 0.3));\n",
              "      fill: #FFFFFF;\n",
              "    }\n",
              "  </style>\n",
              "\n",
              "    <script>\n",
              "      const buttonEl =\n",
              "        document.querySelector('#df-816e2aa2-c20e-4848-83c7-fae6de8b2ac0 button.colab-df-convert');\n",
              "      buttonEl.style.display =\n",
              "        google.colab.kernel.accessAllowed ? 'block' : 'none';\n",
              "\n",
              "      async function convertToInteractive(key) {\n",
              "        const element = document.querySelector('#df-816e2aa2-c20e-4848-83c7-fae6de8b2ac0');\n",
              "        const dataTable =\n",
              "          await google.colab.kernel.invokeFunction('convertToInteractive',\n",
              "                                                    [key], {});\n",
              "        if (!dataTable) return;\n",
              "\n",
              "        const docLinkHtml = 'Like what you see? Visit the ' +\n",
              "          '<a target=\"_blank\" href=https://colab.research.google.com/notebooks/data_table.ipynb>data table notebook</a>'\n",
              "          + ' to learn more about interactive tables.';\n",
              "        element.innerHTML = '';\n",
              "        dataTable['output_type'] = 'display_data';\n",
              "        await google.colab.output.renderOutput(dataTable, element);\n",
              "        const docLink = document.createElement('div');\n",
              "        docLink.innerHTML = docLinkHtml;\n",
              "        element.appendChild(docLink);\n",
              "      }\n",
              "    </script>\n",
              "  </div>\n",
              "\n",
              "\n",
              "    </div>\n",
              "  </div>\n"
            ],
            "application/vnd.google.colaboratory.intrinsic+json": {
              "type": "dataframe",
              "repr_error": "0"
            }
          },
          "metadata": {},
          "execution_count": 21
        }
      ]
    },
    {
      "cell_type": "code",
      "source": [
        "# drop the duplicate user_id, keep your dataframe name as same.\n",
        "\n",
        "df2 = df2.drop_duplicates()\n",
        "# duplicated values are deleted or not\n",
        "sum(df2.duplicated())"
      ],
      "metadata": {
        "id": "558Lw12Acf8i",
        "colab": {
          "base_uri": "https://localhost:8080/"
        },
        "outputId": "764b6bb9-9fac-4ad8-af6b-ad8231d57b37"
      },
      "execution_count": 22,
      "outputs": [
        {
          "output_type": "execute_result",
          "data": {
            "text/plain": [
              "0"
            ]
          },
          "metadata": {},
          "execution_count": 22
        }
      ]
    },
    {
      "cell_type": "markdown",
      "metadata": {
        "id": "UrPzlHc4-zIR"
      },
      "source": [
        "## Finding Probabilities"
      ]
    },
    {
      "cell_type": "markdown",
      "metadata": {
        "id": "qFgtC_jCpJL1"
      },
      "source": [
        "### Task 4: After removing the duplicated user_id, answer the following: (1.5 points)"
      ]
    },
    {
      "cell_type": "markdown",
      "metadata": {
        "id": "5QQ2WUQX9XYy"
      },
      "source": [
        "##### Exercise 1: What is the probability of an individual converting regardless of the page they receive?"
      ]
    },
    {
      "cell_type": "code",
      "metadata": {
        "id": "zcRjzr9YRo72",
        "colab": {
          "base_uri": "https://localhost:8080/"
        },
        "outputId": "d3cf3df5-2ffa-4947-f3b3-c31b98b5adbe"
      },
      "source": [
        "df2['converted'].mean()"
      ],
      "execution_count": 23,
      "outputs": [
        {
          "output_type": "execute_result",
          "data": {
            "text/plain": [
              "0.11959667567149027"
            ]
          },
          "metadata": {},
          "execution_count": 23
        }
      ]
    },
    {
      "cell_type": "markdown",
      "metadata": {
        "id": "uzzEnMv25vGn"
      },
      "source": [
        "##### Exercise 2: Given that an individual was in the control group, what is the probability they converted?"
      ]
    },
    {
      "cell_type": "code",
      "metadata": {
        "id": "NWHrrw2BJrb7",
        "colab": {
          "base_uri": "https://localhost:8080/"
        },
        "outputId": "d415e969-0beb-4975-b12a-99efae37e5c8"
      },
      "source": [
        "Pcontrol_group = len(df2.query('group==\"control\" and converted==1'))/len(df2.query('group==\"control\"'))\n",
        "Pcontrol_group"
      ],
      "execution_count": 24,
      "outputs": [
        {
          "output_type": "execute_result",
          "data": {
            "text/plain": [
              "0.1203863045004612"
            ]
          },
          "metadata": {},
          "execution_count": 24
        }
      ]
    },
    {
      "cell_type": "markdown",
      "metadata": {
        "id": "OFNIQ4dj59Ep"
      },
      "source": [
        "##### Exercise 3: Given that an individual was in the treatment group, what is the probability they converted?"
      ]
    },
    {
      "cell_type": "code",
      "metadata": {
        "id": "0ZDWxb_JRtBl",
        "colab": {
          "base_uri": "https://localhost:8080/"
        },
        "outputId": "b6ad0782-c70f-4853-bff0-2f49062bc941"
      },
      "source": [
        "Ptreatment_group = len(df2.query('group==\"treatment\" and converted==1'))/len(df2.query('group==\"treatment\"'))\n",
        "Ptreatment_group"
      ],
      "execution_count": 25,
      "outputs": [
        {
          "output_type": "execute_result",
          "data": {
            "text/plain": [
              "0.11880724790277405"
            ]
          },
          "metadata": {},
          "execution_count": 25
        }
      ]
    },
    {
      "cell_type": "markdown",
      "metadata": {
        "id": "LBreBsQ7Vqi0"
      },
      "source": [
        "\n",
        "##### Exercise 4: What is the probability that an individual received the new page?"
      ]
    },
    {
      "cell_type": "code",
      "metadata": {
        "id": "RFUmNVsCTR_t",
        "colab": {
          "base_uri": "https://localhost:8080/"
        },
        "outputId": "91d109e6-f9a3-4908-a573-4cfd49ae2fe4"
      },
      "source": [
        "len(df2.query('landing_page==\"new_page\"'))/len(df2.index)"
      ],
      "execution_count": 26,
      "outputs": [
        {
          "output_type": "execute_result",
          "data": {
            "text/plain": [
              "0.5000636646764286"
            ]
          },
          "metadata": {},
          "execution_count": 26
        }
      ]
    },
    {
      "cell_type": "code",
      "metadata": {
        "id": "lDMFaGnT8NsJ",
        "colab": {
          "base_uri": "https://localhost:8080/"
        },
        "outputId": "0348a5df-c564-4833-ed0d-5046c035c12b"
      },
      "source": [
        "# What is the probability that an individual received the old page?\n",
        "len(df2.query('landing_page==\"old_page\"'))/len(df2.index)"
      ],
      "execution_count": 27,
      "outputs": [
        {
          "output_type": "execute_result",
          "data": {
            "text/plain": [
              "0.4999363353235714"
            ]
          },
          "metadata": {},
          "execution_count": 27
        }
      ]
    },
    {
      "cell_type": "code",
      "metadata": {
        "id": "9YKbXa-R8dCO",
        "colab": {
          "base_uri": "https://localhost:8080/"
        },
        "outputId": "480f9195-e0ad-407b-b0a9-138f487a2184"
      },
      "source": [
        "# show the difference: (treatment_convert - control_convert)\n",
        "diff = Ptreatment_group - Pcontrol_group\n",
        "diff"
      ],
      "execution_count": 28,
      "outputs": [
        {
          "output_type": "execute_result",
          "data": {
            "text/plain": [
              "-0.0015790565976871451"
            ]
          },
          "metadata": {},
          "execution_count": 28
        }
      ]
    },
    {
      "cell_type": "markdown",
      "metadata": {
        "id": "yiOWt855DsZ8"
      },
      "source": [
        "##### Exercise 5: Use the results in the previous two portions of this question to suggest if you think there is evidence that one page leads to more conversions? Write your response below."
      ]
    },
    {
      "cell_type": "markdown",
      "source": [
        "#### **Write your response here:**\n",
        "\n"
      ],
      "metadata": {
        "id": "vr5JV56sf5ra"
      }
    },
    {
      "cell_type": "markdown",
      "source": [
        "# **Part II - A/B Test**"
      ],
      "metadata": {
        "id": "FpqFMlUxkuMR"
      }
    },
    {
      "cell_type": "markdown",
      "source": [
        "Notice that because of the time stamp associated with each event, you could technically run a hypothesis test continuously as each observation was observed.\n",
        "\n",
        "However, then the hard question is do you stop as soon as one page is considered significantly better than another or does it need to happen consistently for a certain amount of time? How long do you run to render a decision that neither page is better than another?\n",
        "\n",
        "These questions are the difficult parts associated with A/B tests in general.\n",
        "\n",
        "1. For now, consider you need to make the decision just based on all the data provided. If you want to assume that the old page is better unless the new page proves to be definitely better at a Type I error rate of 5% (i.e. 0.05), what should your null and alternative hypotheses be? You can state your hypothesis in terms of words or in terms of $p_{old}$ and $p_{new}$, which are the converted rates for the old and new pages.\n",
        "\n",
        "$$  H_{null} : p_{new} - p_{old} <= 0 $$  \n",
        "\n",
        "$$  H_{alternative} : p_{new} - p_{old} > 0 $$\n",
        "\n",
        "2. Assume under the null hypothesis, $p_{new}$ and $p_{old}$ both have \"true\" success rates equal to the converted success rate regardless of page - that is $p_{new}$ and $p_{old}$ are equal. Furthermore, assume they are equal to the converted rate in ab_data.csv regardless of the page.\n",
        "\n",
        "Use a sample size for each page equal to the ones in the new dataset achieved at the end of Task-3.\n",
        "\n",
        "Perform the sampling distribution in the following exercises under Task-5 for the difference in converted between the two pages over 10,000 iterations of calculating an estimate from the null."
      ],
      "metadata": {
        "id": "ky7IFjnNlDVn"
      }
    },
    {
      "cell_type": "code",
      "source": [
        "p_new = len(df2.query( 'converted==1'))/len(df2.index)\n",
        "p_new"
      ],
      "metadata": {
        "id": "zEG31avWsX2x",
        "colab": {
          "base_uri": "https://localhost:8080/"
        },
        "outputId": "1a6a81d5-a8a1-4ec7-8653-4d64caa6707c"
      },
      "execution_count": 29,
      "outputs": [
        {
          "output_type": "execute_result",
          "data": {
            "text/plain": [
              "0.11959667567149027"
            ]
          },
          "metadata": {},
          "execution_count": 29
        }
      ]
    },
    {
      "cell_type": "markdown",
      "metadata": {
        "id": "boBhK2SdGXlW"
      },
      "source": [
        "### Task 5: Derive the below insights (2 points)\n",
        "\n",
        "* **$n_{old}$** - The number of individuals (each having unique user_id) who received the old page (control group)\n",
        "\n",
        "* **$n_{new}$** - The Number of individuals (each having unique user_id) who received the new page (treatment group)\n",
        "\n",
        "* **$p_{new}$ under the null:** This refers to the conversion rate for the new page (treatment group) that we would expect to observe if the null hypothesis ($H_{null}$) is true.\n",
        "In other words, it represents the probability of conversion for users who are exposed to the new page under the assumption that there is no difference in conversion rates between the old and new pages.\n",
        "\n",
        "So, basically **$p_{new}$ under the null** is the conversion rate for the new page that we would expect to see if the new page had no impact on user behavior compared to the old page. It serves as a reference point for evaluating the observed conversion rate for the new page in relation to the null hypothesis ($H_{null}$).\n",
        "\n",
        "* **$p_{old}$ under the null:** This refers to the conversion rate for the old page (control group) that we would expect to observe if the null hypothesis ($H_{null}$) is true.\n",
        "In other words, it represents the probability of conversion for users who are exposed to the old page under the assumption that there is no difference in conversion rates between the old and new pages.\n",
        "\n",
        "So, basically **$p_{old}$ under the null** is the conversion rate for the old page that we would expect to see if the old page had no impact on user behavior compared to the new page. It serves as a reference point for evaluating the observed conversion rate for the old page in relation to the null hypothesis ($H_{null}$)."
      ]
    },
    {
      "cell_type": "markdown",
      "metadata": {
        "id": "AtVLkGB_ANwf"
      },
      "source": [
        "##### Exercise 1: What is the convert rate for $p_{new}$ under the null?"
      ]
    },
    {
      "cell_type": "code",
      "source": [
        "p_new = len(df2.query( 'converted==1'))/len(df2.index)\n",
        "p_new"
      ],
      "metadata": {
        "id": "9vZnqsXZxzdG",
        "colab": {
          "base_uri": "https://localhost:8080/"
        },
        "outputId": "cfceccb9-f445-4773-bcc8-c08628962fb4"
      },
      "execution_count": 30,
      "outputs": [
        {
          "output_type": "execute_result",
          "data": {
            "text/plain": [
              "0.11959667567149027"
            ]
          },
          "metadata": {},
          "execution_count": 30
        }
      ]
    },
    {
      "cell_type": "markdown",
      "metadata": {
        "id": "Yb861WejndKI"
      },
      "source": [
        "##### Exercise 2: What is the convert rate for $p_{old}$ under the null?\n",
        "\n"
      ]
    },
    {
      "cell_type": "code",
      "metadata": {
        "id": "xWftl4eC2jNU",
        "colab": {
          "base_uri": "https://localhost:8080/"
        },
        "outputId": "a3035ad3-3fd4-477d-d222-edb966173053"
      },
      "source": [
        "p_old = len(df2.query('converted==1'))/len(df2.index)\n",
        "p_old"
      ],
      "execution_count": 31,
      "outputs": [
        {
          "output_type": "execute_result",
          "data": {
            "text/plain": [
              "0.11959667567149027"
            ]
          },
          "metadata": {},
          "execution_count": 31
        }
      ]
    },
    {
      "cell_type": "markdown",
      "metadata": {
        "id": "Kksy2sD4CMKQ"
      },
      "source": [
        "##### Exercise 3: What is $n_{new}$?"
      ]
    },
    {
      "cell_type": "code",
      "metadata": {
        "id": "3ZpnlYfHCO3P",
        "colab": {
          "base_uri": "https://localhost:8080/"
        },
        "outputId": "2fdf97fe-2043-43ff-f051-ec8749b1b11a"
      },
      "source": [
        "N_new = len(df2.query('landing_page == \"new_page\"'))\n",
        "N_new"
      ],
      "execution_count": 32,
      "outputs": [
        {
          "output_type": "execute_result",
          "data": {
            "text/plain": [
              "145311"
            ]
          },
          "metadata": {},
          "execution_count": 32
        }
      ]
    },
    {
      "cell_type": "markdown",
      "metadata": {
        "id": "TnhRhfWadnGK"
      },
      "source": [
        "##### Exercise 4: What is $n_{old}$?"
      ]
    },
    {
      "cell_type": "code",
      "metadata": {
        "id": "ACEuvXBApg1y",
        "colab": {
          "base_uri": "https://localhost:8080/"
        },
        "outputId": "86c29751-e4fb-498c-fd34-52628facbea2"
      },
      "source": [
        "N_old = len(df2.query('landing_page==\"old_page\"'))\n",
        "N_old"
      ],
      "execution_count": 33,
      "outputs": [
        {
          "output_type": "execute_result",
          "data": {
            "text/plain": [
              "145274"
            ]
          },
          "metadata": {},
          "execution_count": 33
        }
      ]
    },
    {
      "cell_type": "markdown",
      "source": [
        "this one was tricky. But here we are looking at a null where there is no difference in conversion based on the page, which means the conversions for each page are the same."
      ],
      "metadata": {
        "id": "KpJ67AZKuJl3"
      }
    },
    {
      "cell_type": "markdown",
      "metadata": {
        "id": "NSCEb0GX5-d1"
      },
      "source": [
        "##### Exercise 5: Simulate $n_{new}$ transactions with a convert rate of $p_{new}$ under the null. Store these $n_{new}$ 1's and 0's in **new_page_converted**.\n",
        "\n",
        "**Hint:** Use **np.random.binomial()**"
      ]
    },
    {
      "cell_type": "code",
      "metadata": {
        "id": "n8kGpmMmx7HI",
        "colab": {
          "base_uri": "https://localhost:8080/"
        },
        "outputId": "506c8869-e13e-4fed-f63d-db1fff459565"
      },
      "source": [
        "new_page_converted = np.random.choice([0, 1], N_new, p = [p_new, 1-p_new])\n",
        "new_page_converted"
      ],
      "execution_count": 35,
      "outputs": [
        {
          "output_type": "execute_result",
          "data": {
            "text/plain": [
              "array([1, 1, 1, ..., 0, 1, 0])"
            ]
          },
          "metadata": {},
          "execution_count": 35
        }
      ]
    },
    {
      "cell_type": "markdown",
      "metadata": {
        "id": "rXQfqIixzC4_"
      },
      "source": [
        "##### Exercise 6: Simulate $n_{old}$ transactions with a convert rate of $p_{old}$ under the null. Store these $n_{old}$ 1's and 0's in **old_page_converted**."
      ]
    },
    {
      "cell_type": "code",
      "metadata": {
        "id": "XB7M6Sx74bFU",
        "colab": {
          "base_uri": "https://localhost:8080/"
        },
        "outputId": "9c3f96cf-08d1-45f0-91b6-f7de01ddf257"
      },
      "source": [
        "old_page_converted = np.random.choice([0, 1], N_old, p = [p_old, 1-p_old])\n",
        "old_page_converted"
      ],
      "execution_count": 36,
      "outputs": [
        {
          "output_type": "execute_result",
          "data": {
            "text/plain": [
              "array([1, 1, 1, ..., 1, 1, 1])"
            ]
          },
          "metadata": {},
          "execution_count": 36
        }
      ]
    },
    {
      "cell_type": "markdown",
      "source": [
        "##### Exercise 7: Find $(p_{new} - p_{old})$ for your simulated values from Exercise 5 and Exercise 6."
      ],
      "metadata": {
        "id": "OGMPVx-oLVDM"
      }
    },
    {
      "cell_type": "code",
      "metadata": {
        "id": "PCqAHD0OLyFj",
        "colab": {
          "base_uri": "https://localhost:8080/"
        },
        "outputId": "f9f13de9-66d0-474a-d3dc-8a375b46b686"
      },
      "source": [
        "# differences computed in from p_new and p_old\n",
        "pdiff= new_page_converted.mean() - old_page_converted.mean()\n",
        "pdiff"
      ],
      "execution_count": 37,
      "outputs": [
        {
          "output_type": "execute_result",
          "data": {
            "text/plain": [
              "-0.00035487052877336556"
            ]
          },
          "metadata": {},
          "execution_count": 37
        }
      ]
    },
    {
      "cell_type": "markdown",
      "source": [
        "##### Exercise 8: Simulate 10,000 $(p_{new}-p_{old})$ values using this same process similarly to the one you calculated in Exercise 1 through Exercise 7 above. Store all 10,000 values in $p_{diffs}$."
      ],
      "metadata": {
        "id": "yTwkV1aqJ2VL"
      }
    },
    {
      "cell_type": "code",
      "source": [
        "pdiffs = []\n",
        "for i in range(10000):\n",
        "\n",
        "    # 1st parameter dictates the choices you want.  In this case [1, 0]\n",
        "    pnew1 = np.random.choice([1, 0],N_new,replace = True,p = [p_new, 1-p_new])\n",
        "    pold1 = np.random.choice([1, 0],N_old,replace = True,p = [p_old, 1-p_old])\n",
        "    pnew2 = pnew1.mean()\n",
        "    pold2 = pold1.mean()\n",
        "    pdiffs.append(pnew2-pold2)"
      ],
      "metadata": {
        "id": "ocQ4FNDHxmKg"
      },
      "execution_count": 38,
      "outputs": []
    },
    {
      "cell_type": "markdown",
      "source": [
        "Alternatively, we can do the same approach using the following snippet in order to eliminate the use of for:"
      ],
      "metadata": {
        "id": "iSGLfvkPOU0V"
      }
    },
    {
      "cell_type": "code",
      "metadata": {
        "id": "Jb8t1F_DvgpD",
        "colab": {
          "base_uri": "https://localhost:8080/"
        },
        "outputId": "a42a0af7-4670-4de0-e85d-75adcf35bb29"
      },
      "source": [
        "new_converted_simulation = np.random.binomial(N_new, p_new,  10000)/N_new\n",
        "old_converted_simulation = np.random.binomial(N_old, p_old,  10000)/N_old\n",
        "new_converted_simulation - old_converted_simulation\n",
        "# Essentially, we are applying the null proportion to the total size of each page using the binomial distribution.\n",
        "# Each element, for example, innp.random.binomial(n_new, p_new, 10000) results in an array with values like [17262, 17250, 17277...].\n",
        "# This array is 10000 elements large When we divide it by n_new, Python broadcasts n_new for each element and we return a proportion for each element.\n",
        "# This is essentially is simulating, 10000, the new page conversion rate."
      ],
      "execution_count": 39,
      "outputs": [
        {
          "output_type": "execute_result",
          "data": {
            "text/plain": [
              "array([0.00107072, 0.00184175, 0.00098838, ..., 0.00238508, 0.00226131,\n",
              "       0.00138033])"
            ]
          },
          "metadata": {},
          "execution_count": 39
        }
      ]
    },
    {
      "cell_type": "markdown",
      "source": [
        "##### Exercise 9: Plot a histogram of the $p_{diffs}$. Does this plot look like what you expected? Use the matching problem to assure your understanding on what was computed here."
      ],
      "metadata": {
        "id": "uzh2XHhV2Rrr"
      }
    },
    {
      "cell_type": "code",
      "source": [
        "p_diffs=np.array(pdiffs)\n",
        "#histogram of p_diff\n",
        "plt.hist(p_diffs)\n",
        "plt.title('Graph of p_diffs')#title of graphs\n",
        "plt.xlabel('Page difference') # x-label of graphs\n",
        "plt.ylabel('Count') # y-label of graphs"
      ],
      "metadata": {
        "id": "QpZqLPFO2Z1B",
        "colab": {
          "base_uri": "https://localhost:8080/",
          "height": 489
        },
        "outputId": "4c6206de-62d6-43ec-bd18-eccdb1e3b47a"
      },
      "execution_count": 40,
      "outputs": [
        {
          "output_type": "execute_result",
          "data": {
            "text/plain": [
              "Text(0, 0.5, 'Count')"
            ]
          },
          "metadata": {},
          "execution_count": 40
        },
        {
          "output_type": "display_data",
          "data": {
            "text/plain": [
              "<Figure size 640x480 with 1 Axes>"
            ],
            "image/png": "[encoded data removed]"
          },
          "metadata": {}
        }
      ]
    },
    {
      "cell_type": "code",
      "source": [
        "# save p_diffs for later use\n",
        "import pickle\n",
        "\n",
        "# Save p_diffs to a file\n",
        "with open('p_diffs.pkl', 'wb') as f:\n",
        "    pickle.dump(p_diffs, f)"
      ],
      "metadata": {
        "id": "N3ZTwlOQQLil"
      },
      "execution_count": 41,
      "outputs": []
    },
    {
      "cell_type": "markdown",
      "source": [
        "The sample size of df2 is large enough that our sampling distribution is bell shaped. As we observed the actual difference in $(p_{new}-p_{old})$, based on the confidence interval, we have an equal difference in means between old and new pages. The normal distribution is small, that is, it's between (-0.05 and +0.05)."
      ],
      "metadata": {
        "id": "6bA5W27K3HVl"
      }
    },
    {
      "cell_type": "markdown",
      "source": [
        "##### Exercise 10: What proportion of the $p_{diffs}$ are greater than the actual difference observed in ab_data.csv?"
      ],
      "metadata": {
        "id": "e_BsdWfT0mxu"
      }
    },
    {
      "cell_type": "code",
      "source": [
        "# Calculate the actual difference observed in ab_data.csv\n",
        "actual_diff = df2[df2['group'] == 'treatment']['converted'].mean() - df2[df2['group'] == 'control']['converted'].mean()\n",
        "\n",
        "# Calculate the proportion of p_diffs greater than the actual difference\n",
        "proportion = (p_diffs > actual_diff).mean()\n",
        "\n",
        "print(f\"Proportion of p_diffs greater than the actual difference: {proportion}\")"
      ],
      "metadata": {
        "id": "lC_zA7oV2g5r",
        "colab": {
          "base_uri": "https://localhost:8080/"
        },
        "outputId": "c684f494-278b-47c2-d0c9-107b4e57d2a5"
      },
      "execution_count": 42,
      "outputs": [
        {
          "output_type": "stream",
          "name": "stdout",
          "text": [
            "Proportion of p_diffs greater than the actual difference: 0.9074\n"
          ]
        }
      ]
    },
    {
      "cell_type": "markdown",
      "source": [
        "##### Exercise 11: In words, explain what you just computed in Exercise 10.\n",
        "What is this value called in scientific studies?\n",
        "\n",
        "What does this value mean in terms of whether or not there is a difference between the new and old pages?"
      ],
      "metadata": {
        "id": "OxDUjLF01CoV"
      }
    },
    {
      "cell_type": "code",
      "source": [
        "# What is this value called in scientific studies?\n",
        "# High p-value ...> 0.05 : A p-value of 0.9073 is much larger than typical significance thresholds like 0.05 or 0.01.\n",
        "#This suggests that the evidence against the null hypothesis is weak, and we fail to reject the null hypothesis.\n",
        "#Null Hypothesis (H₀): There is no difference between the new and old pages.\n",
        "# That new-page is not doing significantly better than the old page. New page is worse than old page, so we should stick to the null hyposthesis as p-value is large.\n",
        "\n",
        "\n",
        "\n",
        "# Simulate distribution under the null hypothesis\n",
        "\n",
        "\n",
        "# Plot the null distribution\n"
      ],
      "metadata": {
        "id": "1KEb5c_g1Vi4"
      },
      "execution_count": 43,
      "outputs": []
    },
    {
      "cell_type": "code",
      "source": [
        "# p_diffs data\n",
        "with open('p_diffs.pkl', 'rb') as f:\n",
        "    p_diffs = pickle.load(f)\n",
        "\n",
        "# Actual difference observed in ab_data.csv (assuming df2 is available)\n",
        "actual_diff = df2[df2['group'] == 'treatment']['converted'].mean() - df2[df2['group'] == 'control']['converted'].mean()\n",
        "\n",
        "# Proportion of p_diffs greater than the actual difference\n",
        "proportion = (p_diffs > actual_diff).mean()\n",
        "print(f\"Proportion of p_diffs greater than the actual difference: {proportion}\")\n",
        "\n",
        "# Histogram of p_diffs\n",
        "plt.hist(p_diffs)\n",
        "plt.title('Graph of p_diffs')\n",
        "plt.xlabel('Page difference')\n",
        "plt.ylabel('Count')\n",
        "plt.show()"
      ],
      "metadata": {
        "colab": {
          "base_uri": "https://localhost:8080/",
          "height": 489
        },
        "id": "w6L60-t-FQiq",
        "outputId": "2753882c-e86e-402d-b179-1b452bbea01e"
      },
      "execution_count": 44,
      "outputs": [
        {
          "output_type": "stream",
          "name": "stdout",
          "text": [
            "Proportion of p_diffs greater than the actual difference: 0.9074\n"
          ]
        },
        {
          "output_type": "display_data",
          "data": {
            "text/plain": [
              "<Figure size 640x480 with 1 Axes>"
            ],
            "image/png": "[encoded data removed]"
          },
          "metadata": {}
        }
      ]
    },
    {
      "cell_type": "code",
      "source": [
        "# Compute p-value (consider h_alternative : p_new > p_old)\n",
        "# the actual difference observed in ab_data.csv\n",
        "actual_diff = df2[df2['group'] == 'treatment']['converted'].mean() - df2[df2['group'] == 'control']['converted'].mean()\n",
        "\n",
        "# Calculate the proportion of p_diffs greater than the actual difference\n",
        "p_value = (p_diffs > actual_diff).mean()\n",
        "\n",
        "print(f\"P-value: {p_value}\")"
      ],
      "metadata": {
        "id": "_V7wEymF1ba6",
        "colab": {
          "base_uri": "https://localhost:8080/"
        },
        "outputId": "6862e5f4-0225-4d2c-8f1a-350de37dd6f0"
      },
      "execution_count": 46,
      "outputs": [
        {
          "output_type": "stream",
          "name": "stdout",
          "text": [
            "P-value: 0.9074\n"
          ]
        }
      ]
    },
    {
      "cell_type": "markdown",
      "source": [
        "**The actual difference is captured in the population. Since $p_{value}>0.05$, we would fail to reject the null hypothesis.**\n",
        "\n",
        "100% of values from our null distribution fall to the right our actual difference. The old page has a higher probability of convertion rate than the new page."
      ],
      "metadata": {
        "id": "YGc0JnGL1p_b"
      }
    },
    {
      "cell_type": "markdown",
      "source": [
        "##### Exercise 12: We could also use a built-in to achieve similar results. Though using the built-in might be easier to code, the above portions are a walkthrough of the ideas that are critical to correctly thinking about statistical significance.\n",
        "\n",
        "Write your code in the below cells to calculate the number of conversions for each page, as well as the number of individuals who received each page. Let $n_{old}$ and $n_{new}$ refer the the number of rows associated with the old page and new pages, respectively."
      ],
      "metadata": {
        "id": "WlGsRIBN2orT"
      }
    },
    {
      "cell_type": "code",
      "source": [
        "# the number of conversions for each page\n",
        "convert_old = len(df2.query('converted==1 and landing_page==\"old_page\"'))\n",
        "convert_new = len(df2.query('converted==1 and landing_page==\"new_page\"'))\n",
        "\n",
        "print(convert_old)\n",
        "print(convert_new)\n",
        "\n"
      ],
      "metadata": {
        "id": "3DdLn5Zn3HYu",
        "colab": {
          "base_uri": "https://localhost:8080/"
        },
        "outputId": "abbdb3a5-a0a7-4094-d962-5a4ac7c9237f"
      },
      "execution_count": 47,
      "outputs": [
        {
          "output_type": "stream",
          "name": "stdout",
          "text": [
            "17489\n",
            "17264\n"
          ]
        }
      ]
    },
    {
      "cell_type": "code",
      "source": [
        "# the number of individuals who received each page\n",
        "n_old = len(df2.query('landing_page == \"old_page\"'))\n",
        "n_new = len(df2.query('landing_page == \"new_page\"'))\n",
        "print(n_old)\n",
        "print(n_new)"
      ],
      "metadata": {
        "colab": {
          "base_uri": "https://localhost:8080/"
        },
        "id": "F1wpytDzGfPJ",
        "outputId": "cf781005-a0da-40b2-a165-fdca9aa01987"
      },
      "execution_count": 48,
      "outputs": [
        {
          "output_type": "stream",
          "name": "stdout",
          "text": [
            "145274\n",
            "145311\n"
          ]
        }
      ]
    },
    {
      "cell_type": "markdown",
      "source": [
        "##### Exercise 13: Now use stats.proportions_ztest to compute your test statistic and p-value. Here is a helpful [link](https://www.statsmodels.org/stable/generated/statsmodels.stats.proportion.proportions_ztest.html) on using the built in."
      ],
      "metadata": {
        "id": "emh0ZGtI3VBv"
      }
    },
    {
      "cell_type": "code",
      "source": [
        "from statsmodels.stats.proportion import proportions_ztest"
      ],
      "metadata": {
        "id": "6F3C6J7j3cBc"
      },
      "execution_count": 49,
      "outputs": []
    },
    {
      "cell_type": "code",
      "source": [
        "# z_score and p_value\n",
        "convert_old = len(df2.query('converted==1 and landing_page==\"old_page\"'))\n",
        "convert_new = len(df2.query('converted==1 and landing_page==\"new_page\"'))\n",
        "\n",
        "count = np.array([convert_new, convert_old])\n",
        "nobs = np.array([n_new, n_old])\n"
      ],
      "metadata": {
        "id": "23bgRiX03iYw"
      },
      "execution_count": 50,
      "outputs": []
    },
    {
      "cell_type": "code",
      "source": [
        "#Computing z_score and p_value\n",
        "z_score, p_value = sm.stats.proportions_ztest([convert_old,convert_new], [n_old, n_new],alternative='smaller')\n",
        "\n",
        "#display z_score and p_value\n",
        "print(z_score,p_value)"
      ],
      "metadata": {
        "colab": {
          "base_uri": "https://localhost:8080/"
        },
        "id": "dQF5HtlWKVys",
        "outputId": "c6a65477-00a5-4872-b125-bc33eac257df"
      },
      "execution_count": 51,
      "outputs": [
        {
          "output_type": "stream",
          "name": "stdout",
          "text": [
            "1.3116075339133115 0.905173705140591\n"
          ]
        }
      ]
    },
    {
      "cell_type": "code",
      "source": [
        "from scipy.stats import norm\n",
        "# Tells us how significant our z-score is?\n",
        "norm.cdf(z_score)"
      ],
      "metadata": {
        "id": "P3FECBkC3n62",
        "colab": {
          "base_uri": "https://localhost:8080/"
        },
        "outputId": "ed268cc8-32c4-44c8-b343-21b0ab76a5b8"
      },
      "execution_count": 52,
      "outputs": [
        {
          "output_type": "execute_result",
          "data": {
            "text/plain": [
              "0.905173705140591"
            ]
          },
          "metadata": {},
          "execution_count": 52
        }
      ]
    },
    {
      "cell_type": "code",
      "source": [
        "# Tells us what our critical value at 95% confidence is?\n",
        "#critical value of 95% confidence\n",
        "norm.ppf(1-(0.05))"
      ],
      "metadata": {
        "id": "Djj5F6on3xhV",
        "colab": {
          "base_uri": "https://localhost:8080/"
        },
        "outputId": "feed78f5-3788-42d4-fa45-f2930850074d"
      },
      "execution_count": 53,
      "outputs": [
        {
          "output_type": "execute_result",
          "data": {
            "text/plain": [
              "1.6448536269514722"
            ]
          },
          "metadata": {},
          "execution_count": 53
        }
      ]
    },
    {
      "cell_type": "markdown",
      "source": [
        "##### Exercise 14: What do the z-score and p-value you computed in the previous question mean for the conversion rates of the old and new pages? Do they agree with the findings in parts Exercise 10 and Exercise 11?"
      ],
      "metadata": {
        "id": "_fLt4UYq3_4z"
      }
    },
    {
      "cell_type": "code",
      "source": [
        "# z_score is less than critical value of 95% confidence. Hence we fail to reject null hypothesis.\n",
        "# Therefore the conclusion is we accept null hypothesis."
      ],
      "metadata": {
        "id": "Do6hwW1HLo5V"
      },
      "execution_count": 70,
      "outputs": []
    },
    {
      "cell_type": "markdown",
      "source": [
        "#### **Your response here:**"
      ],
      "metadata": {
        "id": "rd_ZfMI_4ZRd"
      }
    },
    {
      "cell_type": "markdown",
      "source": [
        "**We would view various methods to conclude if $p_{new} = p_{old}$ or $p_{new} > p_{old}$:**"
      ],
      "metadata": {
        "id": "P5KSs833vhEY"
      }
    },
    {
      "cell_type": "markdown",
      "source": [
        "**Method-1: Binomial Proportion Confidence Intervals**\n",
        "\n",
        "This method is quoted as the 'most common' method for A/B testing, where we find Confidence Intervals (CI) for both $p_{new}$ and $p_{old}$. If we construct similar intervals for both and compare them, we will end up in either scenario:\n",
        "\n",
        "1. The Intervals do not overlap: This implies that we can say with some level of confidence that one is better than the other, therefore providing enough evidence to reject the Null Hypothesis. This level of confidence seems to be $≈ 1-e \\alpha^{1.91}%$ (Lan, 2011). So if there is overlap and the 95% CI are the same size, the difference is significant at the 99.5% level.\n",
        "\n",
        "2. The Intervals do overlap: Then it is either a sign that our population does not have enough statistical power, or we do not have enough evidence to reject the Null Hypothesis that $p_{new} = p_{old}$.\n",
        "\n",
        "There is a relationship between CI comparisons and hypothesis tests - given that the sample sizes are not too different and the two sets have similar standard deviations.\n",
        "\n",
        "Finding the 'true' conversion rate of a particular group is usually impossible or difficult, but we can use our calculated $p_{new}$ and $p_{old}$ as point estimations to find the Confidence Intervals for the 'true' $p_{new}$ and $p_{old}$.\n",
        "\n",
        "In this context we define $CI_{new}$ and $CI_{old}$ as below.\n",
        "* **$CI_{new}$:** The confidence interval $CI_{new}$ represents the range of values within which we estimate the true conversion rate $p_{new}$ of the new group lies with 95% confidence.\n",
        "\n",
        "* **$CI_{old}$:** The confidence interval $CI_{old}$ represents the range of values within which we estimate the true conversion rate $p_{old}$ of the old group lies with 95% confidence."
      ],
      "metadata": {
        "id": "EpXGsGnwv2QT"
      }
    },
    {
      "cell_type": "markdown",
      "source": [
        "Exercise 1: Define a customized function **get_z_score()** to get the z-score. Consider $\\alpha = 5$% (0.5 point)\n",
        "\n",
        "**Hint:** You can use the inverse cumulative distribution function (CDF) of the standard normal distribution [i.e., scipy.stats.norm.ppf() in Python] to find the z-score"
      ],
      "metadata": {
        "id": "X8W59XZVA34I"
      }
    },
    {
      "cell_type": "code",
      "source": [
        "#function for getting z-scores for alpha. For our experiemnt where alpha = 5%, keep in mind we want to input 1-alpha/2 for Confidence Intervals.\n",
        "from scipy.stats import norm\n",
        "\n",
        "def get_z_score(alpha):\n",
        "    \"\"\"\n",
        "    Calculates the z-score for a given alpha level.\n",
        "\n",
        "    Args:\n",
        "        alpha (float): The significance level (e.g., 0.05 for 5%).\n",
        "\n",
        "    Returns:\n",
        "        float: The z-score.\n",
        "    \"\"\"\n",
        "    return norm.ppf(1 - alpha / 2)"
      ],
      "metadata": {
        "id": "P1nRYPOTzU2e"
      },
      "execution_count": 54,
      "outputs": []
    },
    {
      "cell_type": "markdown",
      "source": [
        "Exercise 2 **(Optional)**: Now calculate the $CI_{old}$ and $CI_{new}$ using the **get_z_score** and given $\\alpha = 5$% (0.5 point)"
      ],
      "metadata": {
        "id": "MeYhtT7tBEDY"
      }
    },
    {
      "cell_type": "code",
      "source": [
        "# CIold  and  CInew  using the get_z_score and given  α=5 % (0.5 point)\n",
        "\n",
        "#  Calculate CI_old and CI_new\n",
        "alpha = 0.05\n",
        "z_score = get_z_score(alpha)\n",
        "\n",
        "# Calculate CI_old\n",
        "p_old = df2[df2['group'] == 'control']['converted'].mean()\n",
        "n_old = len(df2[df2['group'] == 'control'])\n",
        "se_old = mt.sqrt(p_old * (1 - p_old) / n_old)\n",
        "CI_old = (p_old - z_score * se_old, p_old + z_score * se_old)\n",
        "\n",
        "# Calculate CI_new\n",
        "p_new = df2[df2['group'] == 'treatment']['converted'].mean()\n",
        "n_new = len(df2[df2['group'] == 'treatment'])\n",
        "se_new = mt.sqrt(p_new * (1 - p_new) / n_new)\n",
        "CI_new = (p_new - z_score * se_new, p_new + z_score * se_new)\n",
        "\n",
        "print(f\"CI_old: {CI_old}\")\n",
        "print(f\"CI_new: {CI_new}\")"
      ],
      "metadata": {
        "id": "GUksews2ICWO",
        "outputId": "dfef6547-f563-40cf-8f3b-f918f755c8e6",
        "colab": {
          "base_uri": "https://localhost:8080/"
        }
      },
      "execution_count": 55,
      "outputs": [
        {
          "output_type": "stream",
          "name": "stdout",
          "text": [
            "CI_old: (0.11871294722381814, 0.12205966177710426)\n",
            "CI_new: (0.11714362162601945, 0.12047087417952866)\n"
          ]
        }
      ]
    },
    {
      "cell_type": "code",
      "source": [
        "# check whether Confidence Interval old (CI_old) & Confidence Interval new (CI_new) overlap?\n",
        "def check_overlap(CI_old, CI_new):\n",
        "    \"\"\"\n",
        "    Checks if two confidence intervals overlap.\n",
        "\n",
        "    Args:\n",
        "        CI_old (tuple): The confidence interval for the old page.\n",
        "        CI_new (tuple): The confidence interval for the new page.\n",
        "\n",
        "    Returns:\n",
        "        bool: True if the intervals overlap, False otherwise.\n",
        "    \"\"\"\n",
        "    return max(CI_old[0], CI_new[0]) <= min(CI_old[1], CI_new[1])\n",
        "\n",
        "overlap = check_overlap(CI_old, CI_new)\n",
        "print(f\"Do the confidence intervals overlap? {overlap}\")"
      ],
      "metadata": {
        "id": "eC8GheOpybca",
        "colab": {
          "base_uri": "https://localhost:8080/"
        },
        "outputId": "bd1fb4e7-11b2-4c9e-8de6-10d289a5ad01"
      },
      "execution_count": 56,
      "outputs": [
        {
          "output_type": "stream",
          "name": "stdout",
          "text": [
            "Do the confidence intervals overlap? True\n"
          ]
        }
      ]
    },
    {
      "cell_type": "markdown",
      "source": [
        "Both CI intervals overlap plenty as $CI_{new}$ is completely contained within $CI_{old}$ , which means we do not reject the Null Hypothesis that $p_{new} = p_{old}$.\n",
        "\n",
        "    This means that the new page is not better than the old page.\n",
        "\n",
        "While our case is quite evident that the overlap is significantly clear, slight overlaps could tempt us to draw the same conclusion to reject the Null Hypothesis. However, this is a common misinterpretation of overlapping CIs when comparing groups. Failure to do so could result in incorrect or misleading conclusions being drawn (Tan & Tan, 2010, pp. 278)."
      ],
      "metadata": {
        "id": "Rnsmj5hpzwdu"
      }
    },
    {
      "cell_type": "markdown",
      "source": [
        "**Method-2: Z-test**\n",
        "\n",
        "We can use existing packages to calculate our test statistic and p-values and test for proportions based on the **z-test.** This is similar to the Binomial Proportion Confidence Interval Test, is quantitatively easier to draw conclusions out of due to it returning a p-value:"
      ],
      "metadata": {
        "id": "queM7QwO0HbI"
      }
    },
    {
      "cell_type": "markdown",
      "source": [
        "Exercise 1: Calculate the total number of conversions for each group (convert_old & convert_new) (0.5 point)\n",
        "\n",
        "**Hints:**\n",
        "* Use the condition (\"landing_page == 'old_page' and converted == 1\") for calculating convert_old\n",
        "* Use the condition (\"landing_page == 'new_page' and converted == 1\") for calculating convert_new"
      ],
      "metadata": {
        "id": "chYlkX-46_4x"
      }
    },
    {
      "cell_type": "code",
      "source": [
        "#returning the total number of conversions for each group: (convert_old & convert_new)\n",
        "# Calculate the total number of conversions for each group\n",
        "convert_old = len(df2.query('landing_page == \"old_page\" and converted == 1'))\n",
        "convert_new = len(df2.query('landing_page == \"new_page\" and converted == 1'))\n",
        "\n",
        "print(convert_old)\n",
        "convert_new"
      ],
      "metadata": {
        "id": "3sWF5r9s0e1K",
        "colab": {
          "base_uri": "https://localhost:8080/"
        },
        "outputId": "fc0874a5-c1ca-4650-9791-ee52b10a4562"
      },
      "execution_count": 57,
      "outputs": [
        {
          "output_type": "stream",
          "name": "stdout",
          "text": [
            "17489\n"
          ]
        },
        {
          "output_type": "execute_result",
          "data": {
            "text/plain": [
              "17264"
            ]
          },
          "metadata": {},
          "execution_count": 57
        }
      ]
    },
    {
      "cell_type": "markdown",
      "source": [
        "Exercise 2: Calculate the z_score and p_value using the one-sided z-test (0.5 point)"
      ],
      "metadata": {
        "id": "Rslaarjv7T6O"
      }
    },
    {
      "cell_type": "code",
      "source": [
        "#calculating the z-score + p-value using the z-test (one-sided):\n",
        "#Calculate z-score and p-value using proportions_ztest\n",
        "convert_old = len(df2.query('converted==1 and landing_page==\"old_page\"'))\n",
        "convert_new = len(df2.query('converted==1 and landing_page==\"new_page\"'))\n",
        "\n",
        "count = np.array([convert_new, convert_old])\n",
        "nobs = np.array([N_new, N_old])\n",
        "\n",
        "z_score, p_value = sm.stats.proportions_ztest(count, nobs, alternative='smaller')\n",
        "\n",
        "print(f\"z-score: {z_score}\")\n",
        "print(f\"p-value: {p_value}\")"
      ],
      "metadata": {
        "id": "pTimrb7E0j5s",
        "colab": {
          "base_uri": "https://localhost:8080/"
        },
        "outputId": "8e01e7ca-c75e-4086-801d-9711ef458da3"
      },
      "execution_count": 59,
      "outputs": [
        {
          "output_type": "stream",
          "name": "stdout",
          "text": [
            "z-score: -1.3116075339133115\n",
            "p-value: 0.09482629485940902\n"
          ]
        }
      ]
    },
    {
      "cell_type": "markdown",
      "source": [
        "Given our **p-value ≈ 0.9 > 0.05**, we do not reject the Null Hypothesis.\n",
        "\n",
        "    This means that the new page is not better than the old page."
      ],
      "metadata": {
        "id": "tzDh0qAm0u_A"
      }
    },
    {
      "cell_type": "markdown",
      "source": [
        "**Method-3: Chi-Squared Test**\n",
        "\n",
        "One statistical test that came out is the Chi-Squared Analysis (or $\\chi^{2}$ test). If we constructed a 2x2 contingency table for our observed frequencies in our dataset, and compared it to a 2x2 contingency table for the expected frequencies in our dataset, we can perform the $\\chi^{2}$ test under the Null Hypothesis that there is no relationship that exists on between our conversion vs their treatment/control group in the population.\n",
        "\n",
        "For reference, our 2x2 contingency table will have two groups: treatment/control or converted/not converted. We want to make 4 calculations that will be in our table:\n",
        "1. Treatment, converted\n",
        "2. Treatment, not converted\n",
        "3. Control, converted\n",
        "4. Control, not converted"
      ],
      "metadata": {
        "id": "RiZV_X-u60PW"
      }
    },
    {
      "cell_type": "markdown",
      "source": [
        "Exercise 1: (0.5 point)\n",
        "* Calculate the 4 entities (treatment_converted, treatment_not_converted, control_converted & control_not_converted)\n",
        "* Create the 2x2 Contingency table which will be required to do the Chi-Square test"
      ],
      "metadata": {
        "id": "wajBEx9lFr4R"
      }
    },
    {
      "cell_type": "code",
      "source": [
        "# Do the 4 calculations as above:\n",
        "treatment_converted = len(df2.query('group == \"treatment\" and converted == 1'))\n",
        "treatment_not_converted = len(df2.query('group == \"treatment\" and converted == 0'))\n",
        "control_converted = len(df2.query('group == \"control\" and converted == 1'))\n",
        "control_not_converted = len(df2.query('group == \"control\" and converted == 0'))\n",
        "\n",
        "# create the array to do our chi-squared test: treatment/control along the rows and converted/not converted along the columns:\n",
        "ARY = np.array([[treatment_converted, treatment_not_converted],\n",
        "                     [control_converted, control_not_converted]])\n",
        "\n",
        "ARY"
      ],
      "metadata": {
        "id": "kxf3iYzg7RrV",
        "colab": {
          "base_uri": "https://localhost:8080/"
        },
        "outputId": "40747f87-7d32-4602-8085-3163386bc8e1"
      },
      "execution_count": 60,
      "outputs": [
        {
          "output_type": "execute_result",
          "data": {
            "text/plain": [
              "array([[ 17264, 128047],\n",
              "       [ 17489, 127785]])"
            ]
          },
          "metadata": {},
          "execution_count": 60
        }
      ]
    },
    {
      "cell_type": "markdown",
      "source": [
        "Exercise 2: Carry out the Chi-Square test and estimate the p-value (0.5 point)"
      ],
      "metadata": {
        "id": "tHYO7N2ZFwts"
      }
    },
    {
      "cell_type": "code",
      "source": [
        "# using scipy stats to perform our chi squared test:\n",
        "from scipy.stats import chi2_contingency\n",
        "\n",
        "chi2, p, dof, expected = chi2_contingency(ARY)\n",
        "\n",
        "print(f\"Chi-squared statistic: {chi2}\")\n",
        "print(f\"P-value: {p}\")"
      ],
      "metadata": {
        "id": "M41w8pql8fJU",
        "colab": {
          "base_uri": "https://localhost:8080/"
        },
        "outputId": "4eb60c80-64be-43e1-a98d-50d364d98487"
      },
      "execution_count": 61,
      "outputs": [
        {
          "output_type": "stream",
          "name": "stdout",
          "text": [
            "Chi-squared statistic: 1.7053502645115002\n",
            "P-value: 0.19158976298516003\n"
          ]
        }
      ]
    },
    {
      "cell_type": "markdown",
      "source": [
        "**Give your remarks here on the results achieved from Chi-Square Test.**"
      ],
      "metadata": {
        "id": "uuczNsqz8lsr"
      }
    },
    {
      "cell_type": "code",
      "source": [
        "#The p-value is greater than 0.05, so we fail to reject the null hypothesis and conclude that there is no statistically significant relationship between the variables."
      ],
      "metadata": {
        "id": "X593fPcrSFVt"
      },
      "execution_count": 62,
      "outputs": []
    },
    {
      "cell_type": "markdown",
      "source": [
        "**Conclusion:**\n",
        "\n",
        "The A/B testing experiment was designed to determine if <b>FaceZonGoogAppFlix</b>'s new webpage would improve the conversion rate of their users compared to their existing one.\n",
        "\n",
        "After going through multiple statistical methods to determine a winner of the A/B test, We've seen that <b>FaceZonGoogAppFlix</b>'s underlying goal had not been reached with their new webpage.\n",
        "\n",
        "Hence, we recommend that to not continue with the new webpage change, but pursue other strategies & experiments."
      ],
      "metadata": {
        "id": "_59--Mj28_lu"
      }
    }
  ]
}