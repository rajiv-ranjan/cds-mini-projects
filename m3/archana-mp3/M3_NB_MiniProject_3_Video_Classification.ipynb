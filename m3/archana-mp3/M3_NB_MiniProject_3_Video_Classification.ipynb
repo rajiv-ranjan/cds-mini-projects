{
  "cells": [
    {
      "cell_type": "markdown",
      "metadata": {
        "colab_type": "text",
        "id": "view-in-github"
      },
      "source": [
        "<a href=\"https://colab.research.google.com/github/rajiv-ranjan/cds-mini-projects/blob/Archana/M3_NB_MiniProject_3_Video_Classification.ipynb\" target=\"_parent\"><img src=\"https://colab.research.google.com/assets/colab-badge.svg\" alt=\"Open In Colab\"/></a>"
      ]
    },
    {
      "cell_type": "markdown",
      "metadata": {
        "id": "WFBl3DsqB3AE"
      },
      "source": [
        "# Advanced Certification Program in Computational Data Science\n",
        "\n",
        "##  A program by IISc and TalentSprint\n",
        "\n",
        "### Mini Project Notebook: Video based Action Classification using LSTM"
      ]
    },
    {
      "cell_type": "markdown",
      "metadata": {
        "id": "maritime-miami"
      },
      "source": [
        "## Learning Objectives"
      ]
    },
    {
      "cell_type": "markdown",
      "metadata": {
        "id": "95F1ym6qB8VU"
      },
      "source": [
        "At the end of the experiment, you will be able to :\n",
        "\n",
        "* extract frames out of a video\n",
        "* build the CNN model to extract features from the video frames\n",
        "* train LSTM/GRU model to perform action classification"
      ]
    },
    {
      "cell_type": "markdown",
      "metadata": {
        "id": "P8aczZmzvXTc"
      },
      "source": [
        "## Information"
      ]
    },
    {
      "cell_type": "markdown",
      "metadata": {
        "id": "L0Ld7v8N6Z12"
      },
      "source": [
        "**Background:** The CNN LSTM architecture involves using Convolutional Neural Network (CNN) layers for feature extraction on input data combined with LSTMs to support sequence prediction.\n",
        "\n",
        "CNN LSTMs were developed for visual time series prediction problems and the application of generating textual descriptions from sequences of images (e.g. videos). Specifically, the problems of:\n",
        "\n",
        "\n",
        "\n",
        "*   Activity Recognition: Generating a textual description of an activity demonstrated in a sequence of images\n",
        "*   Image Description: Generating a textual description of a single image.\n",
        "*   Video Description: Generating a textual description of a sequence of images."
      ]
    },
    {
      "cell_type": "markdown",
      "metadata": {
        "id": "rwfDjPVOaTDV"
      },
      "source": [
        "**Applications:** Applications such as surveillance, video retrieval and\n",
        "human-computer interaction require methods for recognizing human actions in various scenarios. In the area of robotics, the tasks of\n",
        "autonomous navigation or social interaction could also take advantage of the knowledge extracted\n",
        "from live video recordings. Typical scenarios\n",
        "include scenes with cluttered, moving backgrounds, nonstationary camera, scale variations, individual variations in\n",
        "appearance and cloth of people, changes in light and view\n",
        "point and so forth. All of these conditions introduce challenging problems that can be addressed using deep learning (computer vision) models."
      ]
    },
    {
      "cell_type": "markdown",
      "metadata": {
        "id": "kgx1PkHfCDyJ"
      },
      "source": [
        "## Dataset\n",
        "\n"
      ]
    },
    {
      "cell_type": "markdown",
      "metadata": {
        "id": "adc87eHGA_NY"
      },
      "source": [
        "**Dataset:** This dataset consists of labelled videos of 6 human actions (walking, jogging, running, boxing, hand waving and hand clapping) performed several times by 25 subjects in four different scenarios: outdoors s1, outdoors with scale variation s2, outdoors with different clothes s3 and indoors s4 as illustrated below.\n",
        "\n",
        "![img](https://cdn.iisc.talentsprint.com/CDS/Images/actions.gif)\n",
        "\n",
        "All sequences were taken over homogeneous backgrounds with a static camera with 25fps frame rate. The sequences were downsampled to the spatial resolution of 160x120 pixels and have a length of four seconds in average. In summary, there are 25x6x4=600 video files for each combination of 25 subjects, 6 actions and 4 scenarios. For this mini-project we have randomly selected 20% of the data as test set.\n",
        "\n",
        "Dataset source: https://www.csc.kth.se/cvap/actions/"
      ]
    },
    {
      "cell_type": "markdown",
      "metadata": {
        "id": "WN7vlh6jB40i"
      },
      "source": [
        "**Methodology:**\n",
        "\n",
        "When performing image classification, we input an image to our CNN; Obtain the predictions from the CNN;\n",
        "Choose the label with the largest corresponding probability\n",
        "\n",
        "\n",
        "Since a video is just a series of image frames, in a video classification, we Loop over all frames in the video file;\n",
        "For each frame, pass the frame through the CNN; Classify each frame individually and independently of each other; Choose the label with the largest corresponding probability;\n",
        "Label the frame and write the output frame to disk"
      ]
    },
    {
      "cell_type": "markdown",
      "metadata": {
        "id": "LoLphNfQF_28"
      },
      "source": [
        "Refer this [Video Classification using Keras](https://medium.com/video-classification-using-keras-and-tensorflow/action-recognition-and-video-classification-using-keras-and-tensorflow-56badcbe5f77) for complete understanding and implementation example of video classification."
      ]
    },
    {
      "cell_type": "markdown",
      "metadata": {
        "id": "ih-oasWmdZul"
      },
      "source": [
        "## Problem Statement"
      ]
    },
    {
      "cell_type": "markdown",
      "metadata": {
        "id": "-18cjyCTCHE-"
      },
      "source": [
        "Train a CNN-LSTM based deep neural net to recognize the action being performed in a video"
      ]
    },
    {
      "cell_type": "markdown",
      "metadata": {
        "id": "operating-latter"
      },
      "source": [
        "## Grading = 10 Points"
      ]
    },
    {
      "cell_type": "markdown",
      "metadata": {
        "id": "8tKT4MlqAbub"
      },
      "source": [
        "### Install and re-start the runtime"
      ]
    },
    {
      "cell_type": "code",
      "execution_count": 1,
      "metadata": {
        "colab": {
          "base_uri": "https://localhost:8080/"
        },
        "id": "pgxCas9hAeUq",
        "outputId": "34bca993-2166-4d89-95f2-ad35f80ac4f3"
      },
      "outputs": [],
      "source": [
        "#!pip3 install imageio==2.4.1\n"
      ]
    },
    {
      "cell_type": "code",
      "execution_count": 4,
      "metadata": {
        "colab": {
          "base_uri": "https://localhost:8080/"
        },
        "id": "kX5ljpgMqkxh",
        "outputId": "ddec0365-2330-4b1c-ebce-ef5e301b4139"
      },
      "outputs": [
        {
          "data": {
            "text/plain": [
              "False"
            ]
          },
          "execution_count": 4,
          "metadata": {},
          "output_type": "execute_result"
        }
      ],
      "source": [
        "# @title Download Dataset\n",
        "# !wget -qq https://cdn.iisc.talentsprint.com/CDS/MiniProjects/Actions.zip\n",
        "# !unzip -qq Actions.zip\n",
        "# print(\"Dataset downloaded successfully!!\")\n",
        "\n",
        "\n",
        "from utility import download_and_unzip\n",
        "\n",
        "download_and_unzip(\n",
        "    filename=\"Actions.zip\",\n",
        "    url=\"https://cdn.iisc.talentsprint.com/CDS/MiniProjects/Actions.zip\",\n",
        ")\n"
      ]
    },
    {
      "cell_type": "markdown",
      "metadata": {
        "id": "abstract-stocks"
      },
      "source": [
        "### Import required packages"
      ]
    },
    {
      "cell_type": "code",
      "execution_count": 7,
      "metadata": {
        "id": "2LgMamdMvHRv"
      },
      "outputs": [],
      "source": [
        "import keras\n",
        "from keras import applications\n",
        "from keras import optimizers\n",
        "from keras.models import Sequential, Model\n",
        "from keras.layers import *\n",
        "from keras.applications.vgg16 import VGG16\n",
        "from keras.models import Model\n",
        "from keras.layers import Dense, Input\n",
        "\n",
        "# from keras.layers.pooling import GlobalAveragePooling2D\n",
        "from keras.layers import GlobalAveragePooling2D\n",
        "from keras.layers import LSTM\n",
        "from keras.layers import TimeDistributed\n",
        "from keras.layers import Conv2D, BatchNormalization, MaxPool2D, GlobalMaxPool2D\n",
        "from keras.layers import GRU, Dense, Dropout\n",
        "from keras.layers import Conv2D, BatchNormalization, MaxPool2D, GlobalMaxPool2D\n",
        "from tensorflow.keras.optimizers import Adam\n",
        "\n",
        "import os, glob\n",
        "import cv2\n",
        "import numpy as np\n",
        "# import pandas as pd\n"
      ]
    },
    {
      "cell_type": "markdown",
      "metadata": {
        "id": "sQ_RWsv1vsFI"
      },
      "source": [
        "### Load the data and generate frames of video (2 points)\n",
        "\n",
        "Detecting an action is possible by analyzing a series of images (that we name “frames”) that are taken in time.\n",
        "\n",
        "Hint: Refer data preparation section in [keras_video_classification](https://keras.io/examples/vision/video_classification/)\n"
      ]
    },
    {
      "cell_type": "code",
      "execution_count": 27,
      "metadata": {
        "id": "6Sqyn9UAsXy4"
      },
      "outputs": [],
      "source": [
        "data_dir = \"Content/Actions/train/\"\n",
        "test_data_dir = \"Content/Actions/test/\"\n",
        "# YOUR CODE HERE\n",
        "IMG_SIZE = 224\n",
        "BATCH_SIZE = 64\n",
        "EPOCHS = 10\n",
        "\n",
        "MAX_SEQ_LENGTH = 20\n",
        "NUM_FEATURES = 2048\n"
      ]
    },
    {
      "cell_type": "code",
      "execution_count": 28,
      "metadata": {
        "id": "bdV8vlPNyUTZ"
      },
      "outputs": [],
      "source": [
        "def crop_center_square(frame):\n",
        "    y, x = frame.shape[0:2]\n",
        "    min_dim = min(y, x)\n",
        "    start_x = (x // 2) - (min_dim // 2)\n",
        "    start_y = (y // 2) - (min_dim // 2)\n",
        "    return frame[start_y : start_y + min_dim, start_x : start_x + min_dim]\n"
      ]
    },
    {
      "cell_type": "code",
      "execution_count": 29,
      "metadata": {
        "id": "eP7pC7NPyVul"
      },
      "outputs": [],
      "source": [
        "def load_video(path, max_frames=0, resize=(IMG_SIZE, IMG_SIZE)):\n",
        "    cap = cv2.VideoCapture(path)\n",
        "    frames = []\n",
        "    try:\n",
        "        while True:\n",
        "            ret, frame = cap.read()\n",
        "            if not ret:\n",
        "                break\n",
        "            frame = crop_center_square(frame)\n",
        "            frame = cv2.resize(frame, resize)\n",
        "            frame = frame[:, :, [2, 1, 0]]\n",
        "            frames.append(frame)\n",
        "            if len(frames) == max_frames:\n",
        "                break\n",
        "    finally:\n",
        "        cap.release()\n",
        "    return np.array(frames)\n"
      ]
    },
    {
      "cell_type": "code",
      "execution_count": 30,
      "metadata": {
        "colab": {
          "base_uri": "https://localhost:8080/"
        },
        "id": "qQDhcKR40YCb",
        "outputId": "5831f4aa-decf-4546-bdde-ccc02df23261"
      },
      "outputs": [],
      "source": [
        "def build_feature_extractor():\n",
        "    feature_extractor = keras.applications.InceptionV3(\n",
        "        weights=\"imagenet\",\n",
        "        include_top=False,\n",
        "        pooling=\"avg\",\n",
        "        input_shape=(IMG_SIZE, IMG_SIZE, 3),\n",
        "    )\n",
        "    preprocess_input = keras.applications.inception_v3.preprocess_input\n",
        "\n",
        "    inputs = keras.Input((IMG_SIZE, IMG_SIZE, 3))\n",
        "    preprocessed = preprocess_input(inputs)\n",
        "\n",
        "    outputs = feature_extractor(preprocessed)\n",
        "    return keras.Model(inputs, outputs, name=\"feature_extractor\")\n",
        "\n",
        "\n",
        "feature_extractor = build_feature_extractor()\n"
      ]
    },
    {
      "cell_type": "code",
      "execution_count": 31,
      "metadata": {
        "colab": {
          "base_uri": "https://localhost:8080/"
        },
        "id": "x8DL8A0T0gua",
        "outputId": "d7815d23-a0da-48a8-ea0c-446e63a64a9a"
      },
      "outputs": [
        {
          "ename": "FileNotFoundError",
          "evalue": "[Errno 2] No such file or directory: 'Content/Actions/train/'",
          "output_type": "error",
          "traceback": [
            "\u001b[31m---------------------------------------------------------------------------\u001b[39m",
            "\u001b[31mFileNotFoundError\u001b[39m                         Traceback (most recent call last)",
            "\u001b[36mCell\u001b[39m\u001b[36m \u001b[39m\u001b[32mIn[31]\u001b[39m\u001b[32m, line 2\u001b[39m\n\u001b[32m      1\u001b[39m labels = []\n\u001b[32m----> \u001b[39m\u001b[32m2\u001b[39m \u001b[38;5;28;01mfor\u001b[39;00m class_name \u001b[38;5;129;01min\u001b[39;00m \u001b[43mos\u001b[49m\u001b[43m.\u001b[49m\u001b[43mlistdir\u001b[49m\u001b[43m(\u001b[49m\u001b[43mdata_dir\u001b[49m\u001b[43m)\u001b[49m:\n\u001b[32m      3\u001b[39m     labels.append(class_name)\n\u001b[32m      5\u001b[39m label_processor = keras.layers.StringLookup(\n\u001b[32m      6\u001b[39m     num_oov_indices=\u001b[32m0\u001b[39m, vocabulary=np.unique([labels])\n\u001b[32m      7\u001b[39m )\n",
            "\u001b[31mFileNotFoundError\u001b[39m: [Errno 2] No such file or directory: 'Content/Actions/train/'"
          ]
        }
      ],
      "source": [
        "labels = []\n",
        "for class_name in os.listdir(data_dir):\n",
        "    labels.append(class_name)\n",
        "\n",
        "label_processor = keras.layers.StringLookup(\n",
        "    num_oov_indices=0, vocabulary=np.unique([labels])\n",
        ")\n",
        "print(label_processor.get_vocabulary())\n"
      ]
    },
    {
      "cell_type": "code",
      "execution_count": 32,
      "metadata": {
        "id": "-OQTqmisFt3s"
      },
      "outputs": [],
      "source": [
        "def get_video_path(data_dir):\n",
        "    video_path = []\n",
        "    for class_name in os.listdir(data_dir):\n",
        "        class_path = os.path.join(data_dir, class_name)\n",
        "        for video_name in os.listdir(class_path):\n",
        "            video_path.append(os.path.join(class_path, video_name))\n",
        "\n",
        "    return video_path\n"
      ]
    },
    {
      "cell_type": "code",
      "execution_count": 33,
      "metadata": {
        "colab": {
          "base_uri": "https://localhost:8080/"
        },
        "id": "XuiFQu6Y2lnt",
        "outputId": "bb63a7a6-e3a8-43cd-c271-7876f1e266c4"
      },
      "outputs": [
        {
          "ename": "FileNotFoundError",
          "evalue": "[Errno 2] No such file or directory: 'Content/Actions/train/'",
          "output_type": "error",
          "traceback": [
            "\u001b[31m---------------------------------------------------------------------------\u001b[39m",
            "\u001b[31mFileNotFoundError\u001b[39m                         Traceback (most recent call last)",
            "\u001b[36mCell\u001b[39m\u001b[36m \u001b[39m\u001b[32mIn[33]\u001b[39m\u001b[32m, line 50\u001b[39m\n\u001b[32m     45\u001b[39m         frame_masks[idx,] = temp_frame_mask.squeeze()\n\u001b[32m     47\u001b[39m     \u001b[38;5;28;01mreturn\u001b[39;00m (frame_features, frame_masks), labels\n\u001b[32m---> \u001b[39m\u001b[32m50\u001b[39m train_data, train_labels = \u001b[43mprepare_all_videos\u001b[49m\u001b[43m(\u001b[49m\u001b[43mdata_dir\u001b[49m\u001b[43m,\u001b[49m\u001b[43m \u001b[49m\u001b[33;43m\"\u001b[39;49m\u001b[33;43mtrain\u001b[39;49m\u001b[33;43m\"\u001b[39;49m\u001b[43m)\u001b[49m\n\u001b[32m     51\u001b[39m test_data, test_labels = prepare_all_videos(test_data_dir, \u001b[33m\"\u001b[39m\u001b[33mtest\u001b[39m\u001b[33m\"\u001b[39m)\n\u001b[32m     53\u001b[39m \u001b[38;5;28mprint\u001b[39m(\u001b[33mf\u001b[39m\u001b[33m\"\u001b[39m\u001b[33mFrame features in train set: \u001b[39m\u001b[38;5;132;01m{\u001b[39;00mtrain_data[\u001b[32m0\u001b[39m].shape\u001b[38;5;132;01m}\u001b[39;00m\u001b[33m\"\u001b[39m)\n",
            "\u001b[36mCell\u001b[39m\u001b[36m \u001b[39m\u001b[32mIn[33]\u001b[39m\u001b[32m, line 2\u001b[39m, in \u001b[36mprepare_all_videos\u001b[39m\u001b[34m(data_dir, root_dir)\u001b[39m\n\u001b[32m      1\u001b[39m \u001b[38;5;28;01mdef\u001b[39;00m\u001b[38;5;250m \u001b[39m\u001b[34mprepare_all_videos\u001b[39m(data_dir, root_dir):\n\u001b[32m----> \u001b[39m\u001b[32m2\u001b[39m     video_paths = \u001b[43mget_video_path\u001b[49m\u001b[43m(\u001b[49m\u001b[43mdata_dir\u001b[49m\u001b[43m)\u001b[49m\n\u001b[32m      3\u001b[39m     num_samples = \u001b[38;5;28mlen\u001b[39m(video_paths)\n\u001b[32m      4\u001b[39m     labels_str = label_processor.get_vocabulary()  \u001b[38;5;66;03m# List of labels\u001b[39;00m\n",
            "\u001b[36mCell\u001b[39m\u001b[36m \u001b[39m\u001b[32mIn[32]\u001b[39m\u001b[32m, line 3\u001b[39m, in \u001b[36mget_video_path\u001b[39m\u001b[34m(data_dir)\u001b[39m\n\u001b[32m      1\u001b[39m \u001b[38;5;28;01mdef\u001b[39;00m\u001b[38;5;250m \u001b[39m\u001b[34mget_video_path\u001b[39m(data_dir):\n\u001b[32m      2\u001b[39m     video_path = []\n\u001b[32m----> \u001b[39m\u001b[32m3\u001b[39m     \u001b[38;5;28;01mfor\u001b[39;00m class_name \u001b[38;5;129;01min\u001b[39;00m \u001b[43mos\u001b[49m\u001b[43m.\u001b[49m\u001b[43mlistdir\u001b[49m\u001b[43m(\u001b[49m\u001b[43mdata_dir\u001b[49m\u001b[43m)\u001b[49m:\n\u001b[32m      4\u001b[39m         class_path = os.path.join(data_dir, class_name)\n\u001b[32m      5\u001b[39m         \u001b[38;5;28;01mfor\u001b[39;00m video_name \u001b[38;5;129;01min\u001b[39;00m os.listdir(class_path):\n",
            "\u001b[31mFileNotFoundError\u001b[39m: [Errno 2] No such file or directory: 'Content/Actions/train/'"
          ]
        }
      ],
      "source": [
        "def prepare_all_videos(data_dir, root_dir):\n",
        "    video_paths = get_video_path(data_dir)\n",
        "    num_samples = len(video_paths)\n",
        "    labels_str = label_processor.get_vocabulary()  # List of labels\n",
        "    labels_str = np.array(labels_str)  # Convert to NumPy array\n",
        "    labels = keras.ops.convert_to_numpy(label_processor(labels_str[..., None]))\n",
        "\n",
        "    # `frame_masks` and `frame_features` are what we will feed to our sequence model.\n",
        "    # `frame_masks` will contain a bunch of booleans denoting if a timestep is\n",
        "    # masked with padding or not.\n",
        "    frame_masks = np.zeros(shape=(num_samples, MAX_SEQ_LENGTH), dtype=\"bool\")\n",
        "    frame_features = np.zeros(\n",
        "        shape=(num_samples, MAX_SEQ_LENGTH, NUM_FEATURES), dtype=\"float32\"\n",
        "    )\n",
        "    # For each video.\n",
        "    for idx, path in enumerate(video_paths):\n",
        "        # Gather all its frames and add a batch dimension.\n",
        "        frames = load_video(os.path.join(root_dir, path))\n",
        "        frames = frames[None, ...]\n",
        "\n",
        "        # Initialize placeholders to store the masks and features of the current video.\n",
        "        temp_frame_mask = np.zeros(\n",
        "            shape=(\n",
        "                1,\n",
        "                MAX_SEQ_LENGTH,\n",
        "            ),\n",
        "            dtype=\"bool\",\n",
        "        )\n",
        "        temp_frame_features = np.zeros(\n",
        "            shape=(1, MAX_SEQ_LENGTH, NUM_FEATURES), dtype=\"float32\"\n",
        "        )\n",
        "\n",
        "        # Extract features from the frames of the current video.\n",
        "        for i, batch in enumerate(frames):\n",
        "            video_length = batch.shape[0]\n",
        "            length = min(MAX_SEQ_LENGTH, video_length)\n",
        "            for j in range(length):\n",
        "                temp_frame_features[i, j, :] = feature_extractor.predict(\n",
        "                    batch[None, j, :],\n",
        "                    verbose=0,\n",
        "                )\n",
        "            temp_frame_mask[i, :length] = 1  # 1 = not masked, 0 = masked\n",
        "\n",
        "        frame_features[idx,] = temp_frame_features.squeeze()\n",
        "        frame_masks[idx,] = temp_frame_mask.squeeze()\n",
        "\n",
        "    return (frame_features, frame_masks), labels\n",
        "\n",
        "\n",
        "train_data, train_labels = prepare_all_videos(data_dir, \"train\")\n",
        "test_data, test_labels = prepare_all_videos(test_data_dir, \"test\")\n",
        "\n",
        "print(f\"Frame features in train set: {train_data[0].shape}\")\n",
        "print(f\"Frame masks in train set: {train_data[1].shape}\")\n",
        "\n",
        "print(f\"Frame features in test set: {test_data[0].shape}\")\n",
        "print(f\"Frame masks in test set: {test_data[1].shape}\")\n"
      ]
    },
    {
      "cell_type": "code",
      "execution_count": null,
      "metadata": {
        "id": "d2imUBUAgqHv"
      },
      "outputs": [],
      "source": []
    },
    {
      "cell_type": "markdown",
      "metadata": {
        "id": "Ytc8suTIMN8y"
      },
      "source": [
        "#### Visualize the frames and analyze the object in each frame. (1 point)\n",
        "\n",
        "* Plot the frames of each class per row (6 rows)\n",
        "* Plot the title as label on each subplot"
      ]
    },
    {
      "cell_type": "code",
      "execution_count": null,
      "metadata": {
        "id": "uPQf1AoPMVFM"
      },
      "outputs": [],
      "source": [
        "# YOUR CODE HERE\n"
      ]
    },
    {
      "cell_type": "markdown",
      "metadata": {
        "id": "QleRUjGgtwTP"
      },
      "source": [
        "### Create the Neural Network (4 points)\n",
        "\n",
        "We can build the model in several ways. We can use a well-known model that we inject in time distributed layer, or we can build our own.\n",
        "\n",
        "With custom ConvNet each input image of the sequence must pass to a convolutional network. The goal is to train that model for each frame and then decide the class to infer.\n",
        "\n",
        "* Use ConvNet and Time distributed to detect features.\n",
        "* Inject the Time distributed output to GRU or LSTM to treat as a time series.\n",
        "* Apply a DenseNet to take the decision and classify."
      ]
    },
    {
      "cell_type": "markdown",
      "metadata": {
        "id": "xVY2FVVDnATG"
      },
      "source": [
        "##### Build the ConvNet for the feature extraction, GRU LSTM layers as a time series and Dense layers for classification"
      ]
    },
    {
      "cell_type": "code",
      "execution_count": null,
      "metadata": {
        "id": "G1kHGAqLUlB0"
      },
      "outputs": [],
      "source": [
        "# YOUR CODE HERE\n"
      ]
    },
    {
      "cell_type": "markdown",
      "metadata": {
        "id": "xcYlSojgwIrb"
      },
      "source": [
        "#### Setup the parameters and train the model with epochs, batch wise\n",
        "\n",
        "* Use train data to fit the model and test data for validation\n",
        "* Configure batch size and epochs\n",
        "* Plot the loss of train and test data"
      ]
    },
    {
      "cell_type": "code",
      "execution_count": null,
      "metadata": {
        "id": "OAKAXQ1PVCe_"
      },
      "outputs": [],
      "source": [
        "# Note: There will be a high memory requirement for the training steps below.\n",
        "# You should work on a GPU/TPU based runtime. See 'Change Runtime' in Colab\n",
        "# Training time for each epoch could be ~30 mins\n",
        "# To save and re-load your model later, see the reference below:\n",
        "# https://colab.research.google.com/github/tensorflow/docs/blob/master/site/en/tutorials/keras/save_and_load.ipynb\n",
        "\n",
        "# YOUR CODE HERE\n"
      ]
    },
    {
      "cell_type": "markdown",
      "metadata": {
        "id": "uuIG5DHUOAkm"
      },
      "source": [
        "### Use pre-trained model for feature extraction (3 points)\n",
        "\n",
        "To create a deep learning network for video classification:\n",
        "\n",
        "* Convert videos to sequences of feature vectors using a pretrained convolutional neural network, such as VGG16, to extract features from each frame.\n",
        "\n",
        "* Train an LSTM network on the sequences to predict the video labels.\n",
        "\n",
        "* Assemble a network that classifies videos directly by combining layers from both networks.\n",
        "\n",
        "Hint: [VGG-16 CNN and LSTM](https://riptutorial.com/keras/example/29812/vgg-16-cnn-and-lstm-for-video-classification)"
      ]
    },
    {
      "cell_type": "markdown",
      "metadata": {
        "id": "wqCpO1LO_4S1"
      },
      "source": [
        "#### Load and fine-tune the pre-trained model"
      ]
    },
    {
      "cell_type": "code",
      "execution_count": null,
      "metadata": {
        "id": "QhFb7AeA_2rg"
      },
      "outputs": [],
      "source": [
        "# YOUR CODE HERE\n"
      ]
    },
    {
      "cell_type": "markdown",
      "metadata": {
        "id": "UBMJM0U9_00u"
      },
      "source": [
        "#### Setup the parameters and train the model with epochs, batch wise\n",
        "\n",
        "* Use train data to fit the model and test data for validation\n",
        "* Configure batch size and epochs\n",
        "* Plot the loss of train and test data"
      ]
    },
    {
      "cell_type": "code",
      "execution_count": null,
      "metadata": {
        "id": "YpJlYHcIBuyk"
      },
      "outputs": [],
      "source": [
        "# YOUR CODE HERE\n"
      ]
    },
    {
      "cell_type": "markdown",
      "metadata": {
        "id": "owOW-XyZb792"
      },
      "source": [
        "### Report Analysis\n",
        "\n",
        "* Discuss on FPS, Number of frames and duration of each video\n",
        "* Analyze the impact of the LSTM, GRU and TimeDistributed layers\n",
        "* Discuss about the model convergence using pre-trained and ConvNet\n",
        "* *Additional Reading*: Read and discuss about the use of Conv3D in video classification"
      ]
    }
  ],
  "metadata": {
    "colab": {
      "gpuType": "T4",
      "include_colab_link": true,
      "provenance": []
    },
    "kernelspec": {
      "display_name": ".venv",
      "language": "python",
      "name": "python3"
    },
    "language_info": {
      "codemirror_mode": {
        "name": "ipython",
        "version": 3
      },
      "file_extension": ".py",
      "mimetype": "text/x-python",
      "name": "python",
      "nbconvert_exporter": "python",
      "pygments_lexer": "ipython3",
      "version": "3.11.7"
    }
  },
  "nbformat": 4,
  "nbformat_minor": 0
}
