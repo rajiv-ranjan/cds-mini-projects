{
  "cells": [
    {
      "cell_type": "markdown",
      "metadata": {
        "colab_type": "text",
        "id": "view-in-github"
      },
      "source": [
        "<a href=\"https://colab.research.google.com/github/rajiv-ranjan/cds-mini-projects/blob/Archana/M3_NB_MiniProject_3_Video_Classification.ipynb\" target=\"_parent\"><img src=\"https://colab.research.google.com/assets/colab-badge.svg\" alt=\"Open In Colab\"/></a>"
      ]
    },
    {
      "cell_type": "markdown",
      "metadata": {
        "id": "WFBl3DsqB3AE"
      },
      "source": [
        "# Advanced Certification Program in Computational Data Science\n",
        "\n",
        "##  A program by IISc and TalentSprint\n",
        "\n",
        "### Mini Project Notebook: Video based Action Classification using LSTM"
      ]
    },
    {
      "cell_type": "markdown",
      "metadata": {
        "id": "maritime-miami"
      },
      "source": [
        "## Learning Objectives"
      ]
    },
    {
      "cell_type": "markdown",
      "metadata": {
        "id": "95F1ym6qB8VU"
      },
      "source": [
        "At the end of the experiment, you will be able to :\n",
        "\n",
        "* extract frames out of a video\n",
        "* build the CNN model to extract features from the video frames\n",
        "* train LSTM/GRU model to perform action classification"
      ]
    },
    {
      "cell_type": "markdown",
      "metadata": {
        "id": "P8aczZmzvXTc"
      },
      "source": [
        "## Information"
      ]
    },
    {
      "cell_type": "markdown",
      "metadata": {
        "id": "L0Ld7v8N6Z12"
      },
      "source": [
        "**Background:** The CNN LSTM architecture involves using Convolutional Neural Network (CNN) layers for feature extraction on input data combined with LSTMs to support sequence prediction.\n",
        "\n",
        "CNN LSTMs were developed for visual time series prediction problems and the application of generating textual descriptions from sequences of images (e.g. videos). Specifically, the problems of:\n",
        "\n",
        "\n",
        "\n",
        "*   Activity Recognition: Generating a textual description of an activity demonstrated in a sequence of images\n",
        "*   Image Description: Generating a textual description of a single image.\n",
        "*   Video Description: Generating a textual description of a sequence of images."
      ]
    },
    {
      "cell_type": "markdown",
      "metadata": {
        "id": "rwfDjPVOaTDV"
      },
      "source": [
        "**Applications:** Applications such as surveillance, video retrieval and\n",
        "human-computer interaction require methods for recognizing human actions in various scenarios. In the area of robotics, the tasks of\n",
        "autonomous navigation or social interaction could also take advantage of the knowledge extracted\n",
        "from live video recordings. Typical scenarios\n",
        "include scenes with cluttered, moving backgrounds, nonstationary camera, scale variations, individual variations in\n",
        "appearance and cloth of people, changes in light and view\n",
        "point and so forth. All of these conditions introduce challenging problems that can be addressed using deep learning (computer vision) models."
      ]
    },
    {
      "cell_type": "markdown",
      "metadata": {
        "id": "kgx1PkHfCDyJ"
      },
      "source": [
        "## Dataset\n",
        "\n"
      ]
    },
    {
      "cell_type": "markdown",
      "metadata": {
        "id": "adc87eHGA_NY"
      },
      "source": [
        "**Dataset:** This dataset consists of labelled videos of 6 human actions (walking, jogging, running, boxing, hand waving and hand clapping) performed several times by 25 subjects in four different scenarios: outdoors s1, outdoors with scale variation s2, outdoors with different clothes s3 and indoors s4 as illustrated below.\n",
        "\n",
        "![img](https://cdn.iisc.talentsprint.com/CDS/Images/actions.gif)\n",
        "\n",
        "All sequences were taken over homogeneous backgrounds with a static camera with 25fps frame rate. The sequences were downsampled to the spatial resolution of 160x120 pixels and have a length of four seconds in average. In summary, there are 25x6x4=600 video files for each combination of 25 subjects, 6 actions and 4 scenarios. For this mini-project we have randomly selected 20% of the data as test set.\n",
        "\n",
        "Dataset source: https://www.csc.kth.se/cvap/actions/"
      ]
    },
    {
      "cell_type": "markdown",
      "metadata": {
        "id": "WN7vlh6jB40i"
      },
      "source": [
        "**Methodology:**\n",
        "\n",
        "When performing image classification, we input an image to our CNN; Obtain the predictions from the CNN;\n",
        "Choose the label with the largest corresponding probability\n",
        "\n",
        "\n",
        "Since a video is just a series of image frames, in a video classification, we Loop over all frames in the video file;\n",
        "For each frame, pass the frame through the CNN; Classify each frame individually and independently of each other; Choose the label with the largest corresponding probability;\n",
        "Label the frame and write the output frame to disk"
      ]
    },
    {
      "cell_type": "markdown",
      "metadata": {
        "id": "LoLphNfQF_28"
      },
      "source": [
        "Refer this [Video Classification using Keras](https://medium.com/video-classification-using-keras-and-tensorflow/action-recognition-and-video-classification-using-keras-and-tensorflow-56badcbe5f77) for complete understanding and implementation example of video classification."
      ]
    },
    {
      "cell_type": "markdown",
      "metadata": {
        "id": "ih-oasWmdZul"
      },
      "source": [
        "## Problem Statement"
      ]
    },
    {
      "cell_type": "markdown",
      "metadata": {
        "id": "-18cjyCTCHE-"
      },
      "source": [
        "Train a CNN-LSTM based deep neural net to recognize the action being performed in a video"
      ]
    },
    {
      "cell_type": "markdown",
      "metadata": {
        "id": "operating-latter"
      },
      "source": [
        "## Grading = 10 Points"
      ]
    },
    {
      "cell_type": "markdown",
      "metadata": {
        "id": "8tKT4MlqAbub"
      },
      "source": [
        "### Install and re-start the runtime"
      ]
    },
    {
      "cell_type": "code",
      "execution_count": 1,
      "metadata": {
        "colab": {
          "base_uri": "https://localhost:8080/"
        },
        "id": "pgxCas9hAeUq",
        "outputId": "34bca993-2166-4d89-95f2-ad35f80ac4f3"
      },
      "outputs": [],
      "source": [
        "#!pip3 install imageio==2.4.1\n"
      ]
    },
    {
      "cell_type": "code",
      "execution_count": 4,
      "metadata": {
        "colab": {
          "base_uri": "https://localhost:8080/"
        },
        "id": "kX5ljpgMqkxh",
        "outputId": "ddec0365-2330-4b1c-ebce-ef5e301b4139"
      },
      "outputs": [
        {
          "data": {
            "text/plain": [
              "False"
            ]
          },
          "execution_count": 4,
          "metadata": {},
          "output_type": "execute_result"
        }
      ],
      "source": [
        "# @title Download Dataset\n",
        "# !wget -qq https://cdn.iisc.talentsprint.com/CDS/MiniProjects/Actions.zip\n",
        "# !unzip -qq Actions.zip\n",
        "# print(\"Dataset downloaded successfully!!\")\n",
        "\n",
        "\n",
        "from utility import download_and_unzip\n",
        "\n",
        "download_and_unzip(\n",
        "    filename=\"Actions.zip\",\n",
        "    url=\"https://cdn.iisc.talentsprint.com/CDS/MiniProjects/Actions.zip\",\n",
        ")\n"
      ]
    },
    {
      "cell_type": "markdown",
      "metadata": {
        "id": "abstract-stocks"
      },
      "source": [
        "### Import required packages"
      ]
    },
    {
      "cell_type": "code",
      "execution_count": 7,
      "metadata": {
        "id": "2LgMamdMvHRv"
      },
      "outputs": [],
      "source": [
        "import keras\n",
        "from keras import applications\n",
        "from keras import optimizers\n",
        "from keras.models import Sequential, Model\n",
        "from keras.layers import *\n",
        "from keras.applications.vgg16 import VGG16\n",
        "from keras.models import Model\n",
        "from keras.layers import Dense, Input\n",
        "\n",
        "# from keras.layers.pooling import GlobalAveragePooling2D\n",
        "from keras.layers import GlobalAveragePooling2D\n",
        "from keras.layers import LSTM\n",
        "from keras.layers import TimeDistributed\n",
        "from keras.layers import Conv2D, BatchNormalization, MaxPool2D, GlobalMaxPool2D\n",
        "from keras.layers import GRU, Dense, Dropout\n",
        "from keras.layers import Conv2D, BatchNormalization, MaxPool2D, GlobalMaxPool2D\n",
        "from tensorflow.keras.optimizers import Adam\n",
        "\n",
        "import os, glob\n",
        "import cv2\n",
        "import numpy as np\n",
        "# import pandas as pd\n"
      ]
    },
    {
      "cell_type": "markdown",
      "metadata": {
        "id": "sQ_RWsv1vsFI"
      },
      "source": [
        "### Load the data and generate frames of video (2 points)\n",
        "\n",
        "Detecting an action is possible by analyzing a series of images (that we name “frames”) that are taken in time.\n",
        "\n",
        "Hint: Refer data preparation section in [keras_video_classification](https://keras.io/examples/vision/video_classification/)\n"
      ]
    },
    {
      "cell_type": "code",
      "execution_count": 20,
      "metadata": {
        "id": "6Sqyn9UAsXy4"
      },
      "outputs": [],
      "source": [
        "data_dir = \"Content/Actions/train/\"\n",
        "test_data_dir = \"Content/Actions/test/\"\n",
        "# YOUR CODE HERE\n",
        "IMG_SIZE = 224\n",
        "BATCH_SIZE = 64\n",
        "EPOCHS = 10\n",
        "\n",
        "MAX_SEQ_LENGTH = 20\n",
        "NUM_FEATURES = 2048\n"
      ]
    },
    {
      "cell_type": "code",
      "execution_count": 21,
      "metadata": {
        "id": "bdV8vlPNyUTZ"
      },
      "outputs": [],
      "source": [
        "def crop_center_square(frame):\n",
        "    y, x = frame.shape[0:2]\n",
        "    min_dim = min(y, x)\n",
        "    start_x = (x // 2) - (min_dim // 2)\n",
        "    start_y = (y // 2) - (min_dim // 2)\n",
        "    return frame[start_y : start_y + min_dim, start_x : start_x + min_dim]\n"
      ]
    },
    {
      "cell_type": "code",
      "execution_count": 22,
      "metadata": {
        "id": "eP7pC7NPyVul"
      },
      "outputs": [],
      "source": [
        "def load_video(path, max_frames=0, resize=(IMG_SIZE, IMG_SIZE)):\n",
        "    cap = cv2.VideoCapture(path)\n",
        "    frames = []\n",
        "    try:\n",
        "        while True:\n",
        "            ret, frame = cap.read()\n",
        "            if not ret:\n",
        "                break\n",
        "            frame = crop_center_square(frame)\n",
        "            frame = cv2.resize(frame, resize)\n",
        "            frame = frame[:, :, [2, 1, 0]]\n",
        "            frames.append(frame)\n",
        "            if len(frames) == max_frames:\n",
        "                break\n",
        "    finally:\n",
        "        cap.release()\n",
        "    return np.array(frames)\n"
      ]
    },
    {
      "cell_type": "code",
      "execution_count": 23,
      "metadata": {
        "colab": {
          "base_uri": "https://localhost:8080/"
        },
        "id": "qQDhcKR40YCb",
        "outputId": "5831f4aa-decf-4546-bdde-ccc02df23261"
      },
      "outputs": [],
      "source": [
        "def build_feature_extractor():\n",
        "    feature_extractor = keras.applications.InceptionV3(\n",
        "        weights=\"imagenet\",\n",
        "        include_top=False,\n",
        "        pooling=\"avg\",\n",
        "        input_shape=(IMG_SIZE, IMG_SIZE, 3),\n",
        "    )\n",
        "    preprocess_input = keras.applications.inception_v3.preprocess_input\n",
        "\n",
        "    inputs = keras.Input((IMG_SIZE, IMG_SIZE, 3))\n",
        "    preprocessed = preprocess_input(inputs)\n",
        "\n",
        "    outputs = feature_extractor(preprocessed)\n",
        "    return keras.Model(inputs, outputs, name=\"feature_extractor\")\n",
        "\n",
        "\n",
        "feature_extractor = build_feature_extractor()\n"
      ]
    },
    {
      "cell_type": "code",
      "execution_count": 24,
      "metadata": {
        "colab": {
          "base_uri": "https://localhost:8080/"
        },
        "id": "x8DL8A0T0gua",
        "outputId": "d7815d23-a0da-48a8-ea0c-446e63a64a9a"
      },
      "outputs": [
        {
          "name": "stdout",
          "output_type": "stream",
          "text": [
            "[np.str_('Handclapping'), np.str_('Walking'), np.str_('boxing'), np.str_('handwaving'), np.str_('jogging'), np.str_('running')]\n"
          ]
        }
      ],
      "source": [
        "labels = []\n",
        "for class_name in os.listdir(data_dir):\n",
        "    labels.append(class_name)\n",
        "\n",
        "label_processor = keras.layers.StringLookup(\n",
        "    num_oov_indices=0, vocabulary=np.unique([labels])\n",
        ")\n",
        "print(label_processor.get_vocabulary())\n"
      ]
    },
    {
      "cell_type": "code",
      "execution_count": 25,
      "metadata": {
        "id": "-OQTqmisFt3s"
      },
      "outputs": [],
      "source": [
        "def get_video_path(data_dir):\n",
        "    video_path = []\n",
        "    for class_name in os.listdir(data_dir):\n",
        "        class_path = os.path.join(data_dir, class_name)\n",
        "        for video_name in os.listdir(class_path):\n",
        "            video_path.append(os.path.join(class_path, video_name))\n",
        "\n",
        "    return video_path\n"
      ]
    },
    {
      "cell_type": "code",
      "execution_count": 26,
      "metadata": {
        "colab": {
          "base_uri": "https://localhost:8080/"
        },
        "id": "XuiFQu6Y2lnt",
        "outputId": "bb63a7a6-e3a8-43cd-c271-7876f1e266c4"
      },
      "outputs": [
        {
          "name": "stderr",
          "output_type": "stream",
          "text": [
            "OpenCV: Couldn't read video stream from file \"train/Content/Actions/train/running/person11_running_d1_uncomp.avi\"\n",
            "OpenCV: Couldn't read video stream from file \"train/Content/Actions/train/running/person21_running_d4_uncomp.avi\"\n",
            "OpenCV: Couldn't read video stream from file \"train/Content/Actions/train/running/person07_running_d1_uncomp.avi\"\n",
            "OpenCV: Couldn't read video stream from file \"train/Content/Actions/train/running/person08_running_d2_uncomp.avi\"\n",
            "OpenCV: Couldn't read video stream from file \"train/Content/Actions/train/running/person15_running_d3_uncomp.avi\"\n",
            "OpenCV: Couldn't read video stream from file \"train/Content/Actions/train/running/person05_running_d4_uncomp.avi\"\n",
            "OpenCV: Couldn't read video stream from file \"train/Content/Actions/train/running/person13_running_d4_uncomp.avi\"\n",
            "OpenCV: Couldn't read video stream from file \"train/Content/Actions/train/running/person03_running_d3_uncomp.avi\"\n",
            "OpenCV: Couldn't read video stream from file \"train/Content/Actions/train/running/person24_running_d2_uncomp.avi\"\n",
            "OpenCV: Couldn't read video stream from file \"train/Content/Actions/train/running/person23_running_d1_uncomp.avi\"\n",
            "OpenCV: Couldn't read video stream from file \"train/Content/Actions/train/running/person09_running_d3_uncomp.avi\"\n",
            "OpenCV: Couldn't read video stream from file \"train/Content/Actions/train/running/person19_running_d4_uncomp.avi\"\n",
            "OpenCV: Couldn't read video stream from file \"train/Content/Actions/train/running/person23_running_d4_uncomp.avi\"\n",
            "OpenCV: Couldn't read video stream from file \"train/Content/Actions/train/running/person14_running_d2_uncomp.avi\"\n",
            "OpenCV: Couldn't read video stream from file \"train/Content/Actions/train/running/person25_running_d3_uncomp.avi\"\n",
            "OpenCV: Couldn't read video stream from file \"train/Content/Actions/train/running/person17_running_d3_uncomp.avi\"\n",
            "OpenCV: Couldn't read video stream from file \"train/Content/Actions/train/running/person11_running_d4_uncomp.avi\"\n",
            "OpenCV: Couldn't read video stream from file \"train/Content/Actions/train/running/person01_running_d3_uncomp.avi\"\n",
            "OpenCV: Couldn't read video stream from file \"train/Content/Actions/train/running/person21_running_d1_uncomp.avi\"\n",
            "OpenCV: Couldn't read video stream from file \"train/Content/Actions/train/running/person01_running_d4_uncomp.avi\"\n",
            "OpenCV: Couldn't read video stream from file \"train/Content/Actions/train/running/person11_running_d3_uncomp.avi\"\n",
            "OpenCV: Couldn't read video stream from file \"train/Content/Actions/train/running/person20_running_d2_uncomp.avi\"\n",
            "OpenCV: Couldn't read video stream from file \"train/Content/Actions/train/running/person17_running_d4_uncomp.avi\"\n",
            "OpenCV: Couldn't read video stream from file \"train/Content/Actions/train/running/person25_running_d4_uncomp.avi\"\n",
            "OpenCV: Couldn't read video stream from file \"train/Content/Actions/train/running/person12_running_d2_uncomp.avi\"\n",
            "OpenCV: Couldn't read video stream from file \"train/Content/Actions/train/running/person15_running_d1_uncomp.avi\"\n",
            "OpenCV: Couldn't read video stream from file \"train/Content/Actions/train/running/person03_running_d1_uncomp.avi\"\n",
            "OpenCV: Couldn't read video stream from file \"train/Content/Actions/train/running/person04_running_d2_uncomp.avi\"\n",
            "OpenCV: Couldn't read video stream from file \"train/Content/Actions/train/running/person23_running_d3_uncomp.avi\"\n",
            "OpenCV: Couldn't read video stream from file \"train/Content/Actions/train/running/person19_running_d3_uncomp.avi\"\n",
            "OpenCV: Couldn't read video stream from file \"train/Content/Actions/train/running/person09_running_d4_uncomp.avi\"\n",
            "OpenCV: Couldn't read video stream from file \"train/Content/Actions/train/running/person03_running_d4_uncomp.avi\"\n",
            "OpenCV: Couldn't read video stream from file \"train/Content/Actions/train/running/person25_running_d1_uncomp.avi\"\n",
            "OpenCV: Couldn't read video stream from file \"train/Content/Actions/train/running/person05_running_d3_uncomp.avi\"\n",
            "OpenCV: Couldn't read video stream from file \"train/Content/Actions/train/running/person22_running_d2_uncomp.avi\"\n",
            "OpenCV: Couldn't read video stream from file \"train/Content/Actions/train/running/person09_running_d1_uncomp.avi\"\n",
            "OpenCV: Couldn't read video stream from file \"train/Content/Actions/train/running/person18_running_d2_uncomp.avi\"\n",
            "OpenCV: Couldn't read video stream from file \"train/Content/Actions/train/running/person17_running_d1_uncomp.avi\"\n",
            "OpenCV: Couldn't read video stream from file \"train/Content/Actions/train/running/person01_running_d1_uncomp.avi\"\n",
            "OpenCV: Couldn't read video stream from file \"train/Content/Actions/train/running/person21_running_d3_uncomp.avi\"\n",
            "OpenCV: Couldn't read video stream from file \"train/Content/Actions/train/running/person06_running_d2_uncomp.avi\"\n",
            "OpenCV: Couldn't read video stream from file \"train/Content/Actions/train/running/person18_running_d1_uncomp.avi\"\n",
            "OpenCV: Couldn't read video stream from file \"train/Content/Actions/train/running/person09_running_d2_uncomp.avi\"\n",
            "OpenCV: Couldn't read video stream from file \"train/Content/Actions/train/running/person02_running_d3_uncomp.avi\"\n",
            "OpenCV: Couldn't read video stream from file \"train/Content/Actions/train/running/person12_running_d4_uncomp.avi\"\n",
            "OpenCV: Couldn't read video stream from file \"train/Content/Actions/train/running/person25_running_d2_uncomp.avi\"\n",
            "OpenCV: Couldn't read video stream from file \"train/Content/Actions/train/running/person22_running_d1_uncomp.avi\"\n",
            "OpenCV: Couldn't read video stream from file \"train/Content/Actions/train/running/person14_running_d3_uncomp.avi\"\n",
            "OpenCV: Couldn't read video stream from file \"train/Content/Actions/train/running/person01_running_d2_uncomp.avi\"\n",
            "OpenCV: Couldn't read video stream from file \"train/Content/Actions/train/running/person06_running_d1_uncomp.avi\"\n",
            "OpenCV: Couldn't read video stream from file \"train/Content/Actions/train/running/person10_running_d1_uncomp.avi\"\n",
            "OpenCV: Couldn't read video stream from file \"train/Content/Actions/train/running/person17_running_d2_uncomp.avi\"\n",
            "OpenCV: Couldn't read video stream from file \"train/Content/Actions/train/running/person20_running_d4_uncomp.avi\"\n",
            "OpenCV: Couldn't read video stream from file \"train/Content/Actions/train/running/person20_running_d1_uncomp.avi\"\n",
            "OpenCV: Couldn't read video stream from file \"train/Content/Actions/train/running/person06_running_d4_uncomp.avi\"\n",
            "OpenCV: Couldn't read video stream from file \"train/Content/Actions/train/running/person16_running_d3_uncomp.avi\"\n",
            "OpenCV: Couldn't read video stream from file \"train/Content/Actions/train/running/person08_running_d3_uncomp.avi\"\n",
            "OpenCV: Couldn't read video stream from file \"train/Content/Actions/train/running/person03_running_d2_uncomp.avi\"\n",
            "OpenCV: Couldn't read video stream from file \"train/Content/Actions/train/running/person24_running_d3_uncomp.avi\"\n",
            "OpenCV: Couldn't read video stream from file \"train/Content/Actions/train/running/person04_running_d1_uncomp.avi\"\n",
            "OpenCV: Couldn't read video stream from file \"train/Content/Actions/train/running/person12_running_d1_uncomp.avi\"\n",
            "OpenCV: Couldn't read video stream from file \"train/Content/Actions/train/running/person22_running_d4_uncomp.avi\"\n",
            "OpenCV: Couldn't read video stream from file \"train/Content/Actions/train/running/person15_running_d2_uncomp.avi\"\n",
            "OpenCV: Couldn't read video stream from file \"train/Content/Actions/train/running/person22_running_d3_uncomp.avi\"\n",
            "OpenCV: Couldn't read video stream from file \"train/Content/Actions/train/running/person24_running_d4_uncomp.avi\"\n",
            "OpenCV: Couldn't read video stream from file \"train/Content/Actions/train/running/person14_running_d1_uncomp.avi\"\n",
            "OpenCV: Couldn't read video stream from file \"train/Content/Actions/train/running/person08_running_d4_uncomp.avi\"\n",
            "OpenCV: Couldn't read video stream from file \"train/Content/Actions/train/running/person21_running_d2_uncomp.avi\"\n",
            "OpenCV: Couldn't read video stream from file \"train/Content/Actions/train/running/person16_running_d4_uncomp.avi\"\n",
            "OpenCV: Couldn't read video stream from file \"train/Content/Actions/train/running/person06_running_d3_uncomp.avi\"\n",
            "OpenCV: Couldn't read video stream from file \"train/Content/Actions/train/running/person20_running_d3_uncomp.avi\"\n",
            "OpenCV: Couldn't read video stream from file \"train/Content/Actions/train/running/person07_running_d2_uncomp.avi\"\n",
            "OpenCV: Couldn't read video stream from file \"train/Content/Actions/train/running/person11_running_d2_uncomp.avi\"\n",
            "OpenCV: Couldn't read video stream from file \"train/Content/Actions/train/running/person24_running_d1_uncomp.avi\"\n",
            "OpenCV: Couldn't read video stream from file \"train/Content/Actions/train/running/person14_running_d4_uncomp.avi\"\n",
            "OpenCV: Couldn't read video stream from file \"train/Content/Actions/train/running/person04_running_d3_uncomp.avi\"\n",
            "OpenCV: Couldn't read video stream from file \"train/Content/Actions/train/running/person23_running_d2_uncomp.avi\"\n",
            "OpenCV: Couldn't read video stream from file \"train/Content/Actions/train/running/person12_running_d3_uncomp.avi\"\n",
            "OpenCV: Couldn't read video stream from file \"train/Content/Actions/train/running/person02_running_d4_uncomp.avi\"\n",
            "OpenCV: Couldn't read video stream from file \"train/Content/Actions/train/running/person19_running_d2_uncomp.avi\"\n",
            "OpenCV: Couldn't read video stream from file \"train/Content/Actions/train/handwaving/person15_handwaving_d3_uncomp.avi\"\n",
            "OpenCV: Couldn't read video stream from file \"train/Content/Actions/train/handwaving/person22_handwaving_d3_uncomp.avi\"\n",
            "OpenCV: Couldn't read video stream from file \"train/Content/Actions/train/handwaving/person06_handwaving_d1_uncomp.avi\"\n",
            "OpenCV: Couldn't read video stream from file \"train/Content/Actions/train/handwaving/person11_handwaving_d3_uncomp.avi\"\n",
            "OpenCV: Couldn't read video stream from file \"train/Content/Actions/train/handwaving/person14_handwaving_d4_uncomp.avi\"\n",
            "OpenCV: Couldn't read video stream from file \"train/Content/Actions/train/handwaving/person23_handwaving_d4_uncomp.avi\"\n",
            "OpenCV: Couldn't read video stream from file \"train/Content/Actions/train/handwaving/person21_handwaving_d2_uncomp.avi\"\n",
            "OpenCV: Couldn't read video stream from file \"train/Content/Actions/train/handwaving/person19_handwaving_d3_uncomp.avi\"\n",
            "OpenCV: Couldn't read video stream from file \"train/Content/Actions/train/handwaving/person25_handwaving_d2_uncomp.avi\"\n",
            "OpenCV: Couldn't read video stream from file \"train/Content/Actions/train/handwaving/person12_handwaving_d2_uncomp.avi\"\n",
            "OpenCV: Couldn't read video stream from file \"train/Content/Actions/train/handwaving/person23_handwaving_d1_uncomp.avi\"\n",
            "OpenCV: Couldn't read video stream from file \"train/Content/Actions/train/handwaving/person14_handwaving_d1_uncomp.avi\"\n",
            "OpenCV: Couldn't read video stream from file \"train/Content/Actions/train/handwaving/person08_handwaving_d2_uncomp.avi\"\n",
            "OpenCV: Couldn't read video stream from file \"train/Content/Actions/train/handwaving/person03_handwaving_d3_uncomp.avi\"\n",
            "OpenCV: Couldn't read video stream from file \"train/Content/Actions/train/handwaving/person10_handwaving_d1_uncomp.avi\"\n",
            "OpenCV: Couldn't read video stream from file \"train/Content/Actions/train/handwaving/person04_handwaving_d2_uncomp.avi\"\n",
            "OpenCV: Couldn't read video stream from file \"train/Content/Actions/train/handwaving/person06_handwaving_d4_uncomp.avi\"\n",
            "OpenCV: Couldn't read video stream from file \"train/Content/Actions/train/handwaving/person18_handwaving_d1_uncomp.avi\"\n",
            "OpenCV: Couldn't read video stream from file \"train/Content/Actions/train/handwaving/person02_handwaving_d4_uncomp.avi\"\n",
            "OpenCV: Couldn't read video stream from file \"train/Content/Actions/train/handwaving/person11_handwaving_d1_uncomp.avi\"\n",
            "OpenCV: Couldn't read video stream from file \"train/Content/Actions/train/handwaving/person02_handwaving_d3_uncomp.avi\"\n",
            "OpenCV: Couldn't read video stream from file \"train/Content/Actions/train/handwaving/person09_handwaving_d2_uncomp.avi\"\n",
            "OpenCV: Couldn't read video stream from file \"train/Content/Actions/train/handwaving/person22_handwaving_d1_uncomp.avi\"\n",
            "OpenCV: Couldn't read video stream from file \"train/Content/Actions/train/handwaving/person15_handwaving_d1_uncomp.avi\"\n",
            "OpenCV: Couldn't read video stream from file \"train/Content/Actions/train/handwaving/person06_handwaving_d3_uncomp.avi\"\n",
            "OpenCV: Couldn't read video stream from file \"train/Content/Actions/train/handwaving/person03_handwaving_d4_uncomp.avi\"\n",
            "OpenCV: Couldn't read video stream from file \"train/Content/Actions/train/handwaving/person01_handwaving_d2_uncomp.avi\"\n",
            "OpenCV: Couldn't read video stream from file \"train/Content/Actions/train/handwaving/person03_handwaving_d1_uncomp.avi\"\n",
            "OpenCV: Couldn't read video stream from file \"train/Content/Actions/train/handwaving/person19_handwaving_d4_uncomp.avi\"\n",
            "OpenCV: Couldn't read video stream from file \"train/Content/Actions/train/handwaving/person07_handwaving_d1_uncomp.avi\"\n",
            "OpenCV: Couldn't read video stream from file \"train/Content/Actions/train/handwaving/person14_handwaving_d3_uncomp.avi\"\n",
            "OpenCV: Couldn't read video stream from file \"train/Content/Actions/train/handwaving/person23_handwaving_d3_uncomp.avi\"\n",
            "OpenCV: Couldn't read video stream from file \"train/Content/Actions/train/handwaving/person24_handwaving_d2_uncomp.avi\"\n",
            "OpenCV: Couldn't read video stream from file \"train/Content/Actions/train/handwaving/person11_handwaving_d4_uncomp.avi\"\n",
            "OpenCV: Couldn't read video stream from file \"train/Content/Actions/train/handwaving/person17_handwaving_d2_uncomp.avi\"\n",
            "OpenCV: Couldn't read video stream from file \"train/Content/Actions/train/handwaving/person20_handwaving_d2_uncomp.avi\"\n",
            "OpenCV: Couldn't read video stream from file \"train/Content/Actions/train/handwaving/person22_handwaving_d4_uncomp.avi\"\n",
            "OpenCV: Couldn't read video stream from file \"train/Content/Actions/train/handwaving/person07_handwaving_d2_uncomp.avi\"\n",
            "OpenCV: Couldn't read video stream from file \"train/Content/Actions/train/handwaving/person05_handwaving_d4_uncomp.avi\"\n",
            "OpenCV: Couldn't read video stream from file \"train/Content/Actions/train/handwaving/person03_handwaving_d2_uncomp.avi\"\n",
            "OpenCV: Couldn't read video stream from file \"train/Content/Actions/train/handwaving/person01_handwaving_d4_uncomp.avi\"\n",
            "OpenCV: Couldn't read video stream from file \"train/Content/Actions/train/handwaving/person08_handwaving_d3_uncomp.avi\"\n",
            "OpenCV: Couldn't read video stream from file \"train/Content/Actions/train/handwaving/person20_handwaving_d1_uncomp.avi\"\n",
            "OpenCV: Couldn't read video stream from file \"train/Content/Actions/train/handwaving/person17_handwaving_d1_uncomp.avi\"\n",
            "OpenCV: Couldn't read video stream from file \"train/Content/Actions/train/handwaving/person04_handwaving_d3_uncomp.avi\"\n",
            "OpenCV: Couldn't read video stream from file \"train/Content/Actions/train/handwaving/person24_handwaving_d1_uncomp.avi\"\n",
            "OpenCV: Couldn't read video stream from file \"train/Content/Actions/train/handwaving/person09_handwaving_d4_uncomp.avi\"\n",
            "OpenCV: Couldn't read video stream from file \"train/Content/Actions/train/handwaving/person17_handwaving_d4_uncomp.avi\"\n",
            "OpenCV: Couldn't read video stream from file \"train/Content/Actions/train/handwaving/person20_handwaving_d4_uncomp.avi\"\n",
            "OpenCV: Couldn't read video stream from file \"train/Content/Actions/train/handwaving/person15_handwaving_d2_uncomp.avi\"\n",
            "OpenCV: Couldn't read video stream from file \"train/Content/Actions/train/handwaving/person22_handwaving_d2_uncomp.avi\"\n",
            "OpenCV: Couldn't read video stream from file \"train/Content/Actions/train/handwaving/person24_handwaving_d4_uncomp.avi\"\n",
            "OpenCV: Couldn't read video stream from file \"train/Content/Actions/train/handwaving/person13_handwaving_d4_uncomp.avi\"\n",
            "OpenCV: Couldn't read video stream from file \"train/Content/Actions/train/handwaving/person09_handwaving_d1_uncomp.avi\"\n",
            "OpenCV: Couldn't read video stream from file \"train/Content/Actions/train/handwaving/person11_handwaving_d2_uncomp.avi\"\n",
            "OpenCV: Couldn't read video stream from file \"train/Content/Actions/train/handwaving/person16_handwaving_d3_uncomp.avi\"\n",
            "OpenCV: Couldn't read video stream from file \"train/Content/Actions/train/handwaving/person21_handwaving_d3_uncomp.avi\"\n",
            "OpenCV: Couldn't read video stream from file \"train/Content/Actions/train/handwaving/person01_handwaving_d1_uncomp.avi\"\n",
            "OpenCV: Couldn't read video stream from file \"train/Content/Actions/train/handwaving/person25_handwaving_d3_uncomp.avi\"\n",
            "OpenCV: Couldn't read video stream from file \"train/Content/Actions/train/handwaving/person12_handwaving_d3_uncomp.avi\"\n",
            "OpenCV: Couldn't read video stream from file \"train/Content/Actions/train/handwaving/person19_handwaving_d2_uncomp.avi\"\n",
            "OpenCV: Couldn't read video stream from file \"train/Content/Actions/train/handwaving/person25_handwaving_d4_uncomp.avi\"\n",
            "OpenCV: Couldn't read video stream from file \"train/Content/Actions/train/handwaving/person12_handwaving_d4_uncomp.avi\"\n",
            "OpenCV: Couldn't read video stream from file \"train/Content/Actions/train/handwaving/person14_handwaving_d2_uncomp.avi\"\n",
            "OpenCV: Couldn't read video stream from file \"train/Content/Actions/train/handwaving/person23_handwaving_d2_uncomp.avi\"\n",
            "OpenCV: Couldn't read video stream from file \"train/Content/Actions/train/handwaving/person16_handwaving_d4_uncomp.avi\"\n",
            "OpenCV: Couldn't read video stream from file \"train/Content/Actions/train/handwaving/person21_handwaving_d4_uncomp.avi\"\n",
            "OpenCV: Couldn't read video stream from file \"train/Content/Actions/train/handwaving/person18_handwaving_d2_uncomp.avi\"\n",
            "OpenCV: Couldn't read video stream from file \"train/Content/Actions/train/handwaving/person24_handwaving_d3_uncomp.avi\"\n",
            "OpenCV: Couldn't read video stream from file \"train/Content/Actions/train/handwaving/person17_handwaving_d3_uncomp.avi\"\n",
            "OpenCV: Couldn't read video stream from file \"train/Content/Actions/train/handwaving/person20_handwaving_d3_uncomp.avi\"\n",
            "OpenCV: Couldn't read video stream from file \"train/Content/Actions/train/handwaving/person04_handwaving_d1_uncomp.avi\"\n",
            "OpenCV: Couldn't read video stream from file \"train/Content/Actions/train/handwaving/person09_handwaving_d3_uncomp.avi\"\n",
            "OpenCV: Couldn't read video stream from file \"train/Content/Actions/train/handwaving/person06_handwaving_d2_uncomp.avi\"\n",
            "OpenCV: Couldn't read video stream from file \"train/Content/Actions/train/handwaving/person01_handwaving_d3_uncomp.avi\"\n",
            "OpenCV: Couldn't read video stream from file \"train/Content/Actions/train/handwaving/person08_handwaving_d4_uncomp.avi\"\n",
            "OpenCV: Couldn't read video stream from file \"train/Content/Actions/train/handwaving/person12_handwaving_d1_uncomp.avi\"\n",
            "OpenCV: Couldn't read video stream from file \"train/Content/Actions/train/handwaving/person25_handwaving_d1_uncomp.avi\"\n",
            "OpenCV: Couldn't read video stream from file \"train/Content/Actions/train/handwaving/person05_handwaving_d3_uncomp.avi\"\n",
            "OpenCV: Couldn't read video stream from file \"train/Content/Actions/train/handwaving/person21_handwaving_d1_uncomp.avi\"\n",
            "OpenCV: Couldn't read video stream from file \"train/Content/Actions/train/Walking/person25_walking_d3_uncomp.avi\"\n",
            "OpenCV: Couldn't read video stream from file \"train/Content/Actions/train/Walking/person02_walking_d2_uncomp.avi\"\n",
            "OpenCV: Couldn't read video stream from file \"train/Content/Actions/train/Walking/person14_walking_d2_uncomp.avi\"\n",
            "OpenCV: Couldn't read video stream from file \"train/Content/Actions/train/Walking/person23_walking_d4_uncomp.avi\"\n",
            "OpenCV: Couldn't read video stream from file \"train/Content/Actions/train/Walking/person09_walking_d3_uncomp.avi\"\n",
            "OpenCV: Couldn't read video stream from file \"train/Content/Actions/train/Walking/person19_walking_d4_uncomp.avi\"\n",
            "OpenCV: Couldn't read video stream from file \"train/Content/Actions/train/Walking/person11_walking_d4_uncomp.avi\"\n",
            "OpenCV: Couldn't read video stream from file \"train/Content/Actions/train/Walking/person01_walking_d3_uncomp.avi\"\n",
            "OpenCV: Couldn't read video stream from file \"train/Content/Actions/train/Walking/person17_walking_d3_uncomp.avi\"\n",
            "OpenCV: Couldn't read video stream from file \"train/Content/Actions/train/Walking/person07_walking_d1_uncomp.avi\"\n",
            "OpenCV: Couldn't read video stream from file \"train/Content/Actions/train/Walking/person21_walking_d4_uncomp.avi\"\n",
            "OpenCV: Couldn't read video stream from file \"train/Content/Actions/train/Walking/person16_walking_d2_uncomp.avi\"\n",
            "OpenCV: Couldn't read video stream from file \"train/Content/Actions/train/Walking/person11_walking_d1_uncomp.avi\"\n",
            "OpenCV: Couldn't read video stream from file \"train/Content/Actions/train/Walking/person23_walking_d1_uncomp.avi\"\n",
            "OpenCV: Couldn't read video stream from file \"train/Content/Actions/train/Walking/person24_walking_d2_uncomp.avi\"\n",
            "OpenCV: Couldn't read video stream from file \"train/Content/Actions/train/Walking/person13_walking_d4_uncomp.avi\"\n",
            "OpenCV: Couldn't read video stream from file \"train/Content/Actions/train/Walking/person03_walking_d3_uncomp.avi\"\n",
            "OpenCV: Couldn't read video stream from file \"train/Content/Actions/train/Walking/person05_walking_d4_uncomp.avi\"\n",
            "OpenCV: Couldn't read video stream from file \"train/Content/Actions/train/Walking/person19_walking_d1_uncomp.avi\"\n",
            "OpenCV: Couldn't read video stream from file \"train/Content/Actions/train/Walking/person08_walking_d2_uncomp.avi\"\n",
            "OpenCV: Couldn't read video stream from file \"train/Content/Actions/train/Walking/person09_walking_d1_uncomp.avi\"\n",
            "OpenCV: Couldn't read video stream from file \"train/Content/Actions/train/Walking/person22_walking_d2_uncomp.avi\"\n",
            "OpenCV: Couldn't read video stream from file \"train/Content/Actions/train/Walking/person05_walking_d3_uncomp.avi\"\n",
            "OpenCV: Couldn't read video stream from file \"train/Content/Actions/train/Walking/person25_walking_d1_uncomp.avi\"\n",
            "OpenCV: Couldn't read video stream from file \"train/Content/Actions/train/Walking/person03_walking_d4_uncomp.avi\"\n",
            "OpenCV: Couldn't read video stream from file \"train/Content/Actions/train/Walking/person13_walking_d3_uncomp.avi\"\n",
            "OpenCV: Couldn't read video stream from file \"train/Content/Actions/train/Walking/person06_walking_d2_uncomp.avi\"\n",
            "OpenCV: Couldn't read video stream from file \"train/Content/Actions/train/Walking/person01_walking_d1_uncomp.avi\"\n",
            "OpenCV: Couldn't read video stream from file \"train/Content/Actions/train/Walking/person17_walking_d1_uncomp.avi\"\n",
            "OpenCV: Couldn't read video stream from file \"train/Content/Actions/train/Walking/person17_walking_d4_uncomp.avi\"\n",
            "OpenCV: Couldn't read video stream from file \"train/Content/Actions/train/Walking/person20_walking_d2_uncomp.avi\"\n",
            "OpenCV: Couldn't read video stream from file \"train/Content/Actions/train/Walking/person01_walking_d4_uncomp.avi\"\n",
            "OpenCV: Couldn't read video stream from file \"train/Content/Actions/train/Walking/person11_walking_d3_uncomp.avi\"\n",
            "OpenCV: Couldn't read video stream from file \"train/Content/Actions/train/Walking/person19_walking_d3_uncomp.avi\"\n",
            "OpenCV: Couldn't read video stream from file \"train/Content/Actions/train/Walking/person09_walking_d4_uncomp.avi\"\n",
            "OpenCV: Couldn't read video stream from file \"train/Content/Actions/train/Walking/person23_walking_d3_uncomp.avi\"\n",
            "OpenCV: Couldn't read video stream from file \"train/Content/Actions/train/Walking/person04_walking_d2_uncomp.avi\"\n",
            "OpenCV: Couldn't read video stream from file \"train/Content/Actions/train/Walking/person03_walking_d1_uncomp.avi\"\n",
            "OpenCV: Couldn't read video stream from file \"train/Content/Actions/train/Walking/person15_walking_d1_uncomp.avi\"\n",
            "OpenCV: Couldn't read video stream from file \"train/Content/Actions/train/Walking/person12_walking_d2_uncomp.avi\"\n",
            "OpenCV: Couldn't read video stream from file \"train/Content/Actions/train/Walking/person25_walking_d4_uncomp.avi\"\n",
            "OpenCV: Couldn't read video stream from file \"train/Content/Actions/train/Walking/person06_walking_d4_uncomp.avi\"\n",
            "OpenCV: Couldn't read video stream from file \"train/Content/Actions/train/Walking/person16_walking_d3_uncomp.avi\"\n",
            "OpenCV: Couldn't read video stream from file \"train/Content/Actions/train/Walking/person20_walking_d1_uncomp.avi\"\n",
            "OpenCV: Couldn't read video stream from file \"train/Content/Actions/train/Walking/person10_walking_d4_uncomp.avi\"\n",
            "OpenCV: Couldn't read video stream from file \"train/Content/Actions/train/Walking/person15_walking_d2_uncomp.avi\"\n",
            "OpenCV: Couldn't read video stream from file \"train/Content/Actions/train/Walking/person22_walking_d4_uncomp.avi\"\n",
            "OpenCV: Couldn't read video stream from file \"train/Content/Actions/train/Walking/person12_walking_d1_uncomp.avi\"\n",
            "OpenCV: Couldn't read video stream from file \"train/Content/Actions/train/Walking/person04_walking_d1_uncomp.avi\"\n",
            "OpenCV: Couldn't read video stream from file \"train/Content/Actions/train/Walking/person24_walking_d3_uncomp.avi\"\n",
            "OpenCV: Couldn't read video stream from file \"train/Content/Actions/train/Walking/person03_walking_d2_uncomp.avi\"\n",
            "OpenCV: Couldn't read video stream from file \"train/Content/Actions/train/Walking/person08_walking_d3_uncomp.avi\"\n",
            "OpenCV: Couldn't read video stream from file \"train/Content/Actions/train/Walking/person14_walking_d3_uncomp.avi\"\n",
            "OpenCV: Couldn't read video stream from file \"train/Content/Actions/train/Walking/person22_walking_d1_uncomp.avi\"\n",
            "OpenCV: Couldn't read video stream from file \"train/Content/Actions/train/Walking/person25_walking_d2_uncomp.avi\"\n",
            "OpenCV: Couldn't read video stream from file \"train/Content/Actions/train/Walking/person02_walking_d3_uncomp.avi\"\n",
            "OpenCV: Couldn't read video stream from file \"train/Content/Actions/train/Walking/person09_walking_d2_uncomp.avi\"\n",
            "OpenCV: Couldn't read video stream from file \"train/Content/Actions/train/Walking/person18_walking_d1_uncomp.avi\"\n",
            "OpenCV: Couldn't read video stream from file \"train/Content/Actions/train/Walking/person20_walking_d4_uncomp.avi\"\n",
            "OpenCV: Couldn't read video stream from file \"train/Content/Actions/train/Walking/person17_walking_d2_uncomp.avi\"\n",
            "OpenCV: Couldn't read video stream from file \"train/Content/Actions/train/Walking/person06_walking_d1_uncomp.avi\"\n",
            "OpenCV: Couldn't read video stream from file \"train/Content/Actions/train/Walking/person01_walking_d2_uncomp.avi\"\n",
            "OpenCV: Couldn't read video stream from file \"train/Content/Actions/train/Walking/person16_walking_d1_uncomp.avi\"\n",
            "OpenCV: Couldn't read video stream from file \"train/Content/Actions/train/Walking/person11_walking_d2_uncomp.avi\"\n",
            "OpenCV: Couldn't read video stream from file \"train/Content/Actions/train/Walking/person20_walking_d3_uncomp.avi\"\n",
            "OpenCV: Couldn't read video stream from file \"train/Content/Actions/train/Walking/person08_walking_d1_uncomp.avi\"\n",
            "OpenCV: Couldn't read video stream from file \"train/Content/Actions/train/Walking/person19_walking_d2_uncomp.avi\"\n",
            "OpenCV: Couldn't read video stream from file \"train/Content/Actions/train/Walking/person12_walking_d3_uncomp.avi\"\n",
            "OpenCV: Couldn't read video stream from file \"train/Content/Actions/train/Walking/person02_walking_d4_uncomp.avi\"\n",
            "OpenCV: Couldn't read video stream from file \"train/Content/Actions/train/Walking/person23_walking_d2_uncomp.avi\"\n",
            "OpenCV: Couldn't read video stream from file \"train/Content/Actions/train/Walking/person14_walking_d4_uncomp.avi\"\n",
            "OpenCV: Couldn't read video stream from file \"train/Content/Actions/train/Walking/person24_walking_d1_uncomp.avi\"\n",
            "OpenCV: Couldn't read video stream from file \"train/Content/Actions/train/Walking/person08_walking_d4_uncomp.avi\"\n",
            "OpenCV: Couldn't read video stream from file \"train/Content/Actions/train/Walking/person14_walking_d1_uncomp.avi\"\n",
            "OpenCV: Couldn't read video stream from file \"train/Content/Actions/train/Walking/person24_walking_d4_uncomp.avi\"\n",
            "OpenCV: Couldn't read video stream from file \"train/Content/Actions/train/Walking/person22_walking_d3_uncomp.avi\"\n",
            "OpenCV: Couldn't read video stream from file \"train/Content/Actions/train/Walking/person05_walking_d2_uncomp.avi\"\n",
            "OpenCV: Couldn't read video stream from file \"train/Content/Actions/train/Walking/person02_walking_d1_uncomp.avi\"\n",
            "OpenCV: Couldn't read video stream from file \"train/Content/Actions/train/Walking/person16_walking_d4_uncomp.avi\"\n",
            "OpenCV: Couldn't read video stream from file \"train/Content/Actions/train/Walking/person06_walking_d3_uncomp.avi\"\n",
            "OpenCV: Couldn't read video stream from file \"train/Content/Actions/train/jogging/person09_jogging_d3_uncomp.avi\"\n",
            "OpenCV: Couldn't read video stream from file \"train/Content/Actions/train/jogging/person19_jogging_d4_uncomp.avi\"\n",
            "OpenCV: Couldn't read video stream from file \"train/Content/Actions/train/jogging/person25_jogging_d3_uncomp.avi\"\n",
            "OpenCV: Couldn't read video stream from file \"train/Content/Actions/train/jogging/person02_jogging_d2_uncomp.avi\"\n",
            "OpenCV: Couldn't read video stream from file \"train/Content/Actions/train/jogging/person05_jogging_d1_uncomp.avi\"\n",
            "OpenCV: Couldn't read video stream from file \"train/Content/Actions/train/jogging/person14_jogging_d2_uncomp.avi\"\n",
            "OpenCV: Couldn't read video stream from file \"train/Content/Actions/train/jogging/person23_jogging_d4_uncomp.avi\"\n",
            "OpenCV: Couldn't read video stream from file \"train/Content/Actions/train/jogging/person11_jogging_d4_uncomp.avi\"\n",
            "OpenCV: Couldn't read video stream from file \"train/Content/Actions/train/jogging/person01_jogging_d3_uncomp.avi\"\n",
            "OpenCV: Couldn't read video stream from file \"train/Content/Actions/train/jogging/person21_jogging_d1_uncomp.avi\"\n",
            "OpenCV: Couldn't read video stream from file \"train/Content/Actions/train/jogging/person17_jogging_d3_uncomp.avi\"\n",
            "OpenCV: Couldn't read video stream from file \"train/Content/Actions/train/jogging/person07_jogging_d1_uncomp.avi\"\n",
            "OpenCV: Couldn't read video stream from file \"train/Content/Actions/train/jogging/person11_jogging_d1_uncomp.avi\"\n",
            "OpenCV: Couldn't read video stream from file \"train/Content/Actions/train/jogging/person21_jogging_d4_uncomp.avi\"\n",
            "OpenCV: Couldn't read video stream from file \"train/Content/Actions/train/jogging/person08_jogging_d2_uncomp.avi\"\n",
            "OpenCV: Couldn't read video stream from file \"train/Content/Actions/train/jogging/person24_jogging_d2_uncomp.avi\"\n",
            "OpenCV: Couldn't read video stream from file \"train/Content/Actions/train/jogging/person13_jogging_d4_uncomp.avi\"\n",
            "OpenCV: Couldn't read video stream from file \"train/Content/Actions/train/jogging/person03_jogging_d3_uncomp.avi\"\n",
            "OpenCV: Couldn't read video stream from file \"train/Content/Actions/train/jogging/person23_jogging_d1_uncomp.avi\"\n",
            "OpenCV: Couldn't read video stream from file \"train/Content/Actions/train/jogging/person05_jogging_d4_uncomp.avi\"\n",
            "OpenCV: Couldn't read video stream from file \"train/Content/Actions/train/jogging/person25_jogging_d1_uncomp.avi\"\n",
            "OpenCV: Couldn't read video stream from file \"train/Content/Actions/train/jogging/person22_jogging_d2_uncomp.avi\"\n",
            "OpenCV: Couldn't read video stream from file \"train/Content/Actions/train/jogging/person05_jogging_d3_uncomp.avi\"\n",
            "OpenCV: Couldn't read video stream from file \"train/Content/Actions/train/jogging/person03_jogging_d4_uncomp.avi\"\n",
            "OpenCV: Couldn't read video stream from file \"train/Content/Actions/train/jogging/person09_jogging_d1_uncomp.avi\"\n",
            "OpenCV: Couldn't read video stream from file \"train/Content/Actions/train/jogging/person01_jogging_d1_uncomp.avi\"\n",
            "OpenCV: Couldn't read video stream from file \"train/Content/Actions/train/jogging/person06_jogging_d2_uncomp.avi\"\n",
            "OpenCV: Couldn't read video stream from file \"train/Content/Actions/train/jogging/person21_jogging_d3_uncomp.avi\"\n",
            "OpenCV: Couldn't read video stream from file \"train/Content/Actions/train/jogging/person17_jogging_d1_uncomp.avi\"\n",
            "OpenCV: Couldn't read video stream from file \"train/Content/Actions/train/jogging/person17_jogging_d4_uncomp.avi\"\n",
            "OpenCV: Couldn't read video stream from file \"train/Content/Actions/train/jogging/person20_jogging_d2_uncomp.avi\"\n",
            "OpenCV: Couldn't read video stream from file \"train/Content/Actions/train/jogging/person01_jogging_d4_uncomp.avi\"\n",
            "OpenCV: Couldn't read video stream from file \"train/Content/Actions/train/jogging/person11_jogging_d3_uncomp.avi\"\n",
            "OpenCV: Couldn't read video stream from file \"train/Content/Actions/train/jogging/person03_jogging_d1_uncomp.avi\"\n",
            "OpenCV: Couldn't read video stream from file \"train/Content/Actions/train/jogging/person23_jogging_d3_uncomp.avi\"\n",
            "OpenCV: Couldn't read video stream from file \"train/Content/Actions/train/jogging/person04_jogging_d2_uncomp.avi\"\n",
            "OpenCV: Couldn't read video stream from file \"train/Content/Actions/train/jogging/person12_jogging_d2_uncomp.avi\"\n",
            "OpenCV: Couldn't read video stream from file \"train/Content/Actions/train/jogging/person25_jogging_d4_uncomp.avi\"\n",
            "OpenCV: Couldn't read video stream from file \"train/Content/Actions/train/jogging/person15_jogging_d1_uncomp.avi\"\n",
            "OpenCV: Couldn't read video stream from file \"train/Content/Actions/train/jogging/person19_jogging_d3_uncomp.avi\"\n",
            "OpenCV: Couldn't read video stream from file \"train/Content/Actions/train/jogging/person09_jogging_d4_uncomp.avi\"\n",
            "OpenCV: Couldn't read video stream from file \"train/Content/Actions/train/jogging/person06_jogging_d4_uncomp.avi\"\n",
            "OpenCV: Couldn't read video stream from file \"train/Content/Actions/train/jogging/person16_jogging_d3_uncomp.avi\"\n",
            "OpenCV: Couldn't read video stream from file \"train/Content/Actions/train/jogging/person20_jogging_d1_uncomp.avi\"\n",
            "OpenCV: Couldn't read video stream from file \"train/Content/Actions/train/jogging/person08_jogging_d3_uncomp.avi\"\n",
            "OpenCV: Couldn't read video stream from file \"train/Content/Actions/train/jogging/person12_jogging_d1_uncomp.avi\"\n",
            "OpenCV: Couldn't read video stream from file \"train/Content/Actions/train/jogging/person15_jogging_d2_uncomp.avi\"\n",
            "OpenCV: Couldn't read video stream from file \"train/Content/Actions/train/jogging/person22_jogging_d4_uncomp.avi\"\n",
            "OpenCV: Couldn't read video stream from file \"train/Content/Actions/train/jogging/person24_jogging_d3_uncomp.avi\"\n",
            "OpenCV: Couldn't read video stream from file \"train/Content/Actions/train/jogging/person03_jogging_d2_uncomp.avi\"\n",
            "OpenCV: Couldn't read video stream from file \"train/Content/Actions/train/jogging/person04_jogging_d1_uncomp.avi\"\n",
            "OpenCV: Couldn't read video stream from file \"train/Content/Actions/train/jogging/person09_jogging_d2_uncomp.avi\"\n",
            "OpenCV: Couldn't read video stream from file \"train/Content/Actions/train/jogging/person18_jogging_d1_uncomp.avi\"\n",
            "OpenCV: Couldn't read video stream from file \"train/Content/Actions/train/jogging/person04_jogging_d4_uncomp.avi\"\n",
            "OpenCV: Couldn't read video stream from file \"train/Content/Actions/train/jogging/person14_jogging_d3_uncomp.avi\"\n",
            "OpenCV: Couldn't read video stream from file \"train/Content/Actions/train/jogging/person25_jogging_d2_uncomp.avi\"\n",
            "OpenCV: Couldn't read video stream from file \"train/Content/Actions/train/jogging/person02_jogging_d3_uncomp.avi\"\n",
            "OpenCV: Couldn't read video stream from file \"train/Content/Actions/train/jogging/person22_jogging_d1_uncomp.avi\"\n",
            "OpenCV: Couldn't read video stream from file \"train/Content/Actions/train/jogging/person20_jogging_d4_uncomp.avi\"\n",
            "OpenCV: Couldn't read video stream from file \"train/Content/Actions/train/jogging/person17_jogging_d2_uncomp.avi\"\n",
            "OpenCV: Couldn't read video stream from file \"train/Content/Actions/train/jogging/person01_jogging_d2_uncomp.avi\"\n",
            "OpenCV: Couldn't read video stream from file \"train/Content/Actions/train/jogging/person06_jogging_d1_uncomp.avi\"\n",
            "OpenCV: Couldn't read video stream from file \"train/Content/Actions/train/jogging/person11_jogging_d2_uncomp.avi\"\n",
            "OpenCV: Couldn't read video stream from file \"train/Content/Actions/train/jogging/person20_jogging_d3_uncomp.avi\"\n",
            "OpenCV: Couldn't read video stream from file \"train/Content/Actions/train/jogging/person12_jogging_d3_uncomp.avi\"\n",
            "OpenCV: Couldn't read video stream from file \"train/Content/Actions/train/jogging/person02_jogging_d4_uncomp.avi\"\n",
            "OpenCV: Couldn't read video stream from file \"train/Content/Actions/train/jogging/person24_jogging_d1_uncomp.avi\"\n",
            "OpenCV: Couldn't read video stream from file \"train/Content/Actions/train/jogging/person23_jogging_d2_uncomp.avi\"\n",
            "OpenCV: Couldn't read video stream from file \"train/Content/Actions/train/jogging/person14_jogging_d4_uncomp.avi\"\n",
            "OpenCV: Couldn't read video stream from file \"train/Content/Actions/train/jogging/person04_jogging_d3_uncomp.avi\"\n",
            "OpenCV: Couldn't read video stream from file \"train/Content/Actions/train/jogging/person19_jogging_d2_uncomp.avi\"\n",
            "OpenCV: Couldn't read video stream from file \"train/Content/Actions/train/jogging/person24_jogging_d4_uncomp.avi\"\n",
            "OpenCV: Couldn't read video stream from file \"train/Content/Actions/train/jogging/person14_jogging_d1_uncomp.avi\"\n",
            "OpenCV: Couldn't read video stream from file \"train/Content/Actions/train/jogging/person02_jogging_d1_uncomp.avi\"\n",
            "OpenCV: Couldn't read video stream from file \"train/Content/Actions/train/jogging/person22_jogging_d3_uncomp.avi\"\n",
            "OpenCV: Couldn't read video stream from file \"train/Content/Actions/train/jogging/person05_jogging_d2_uncomp.avi\"\n",
            "OpenCV: Couldn't read video stream from file \"train/Content/Actions/train/jogging/person08_jogging_d4_uncomp.avi\"\n",
            "OpenCV: Couldn't read video stream from file \"train/Content/Actions/train/jogging/person16_jogging_d4_uncomp.avi\"\n",
            "OpenCV: Couldn't read video stream from file \"train/Content/Actions/train/jogging/person06_jogging_d3_uncomp.avi\"\n",
            "OpenCV: Couldn't read video stream from file \"train/Content/Actions/train/jogging/person21_jogging_d2_uncomp.avi\"\n",
            "OpenCV: Couldn't read video stream from file \"train/Content/Actions/train/boxing/person08_boxing_d1_uncomp.avi\"\n",
            "OpenCV: Couldn't read video stream from file \"train/Content/Actions/train/boxing/person01_boxing_d2_uncomp.avi\"\n",
            "OpenCV: Couldn't read video stream from file \"train/Content/Actions/train/boxing/person06_boxing_d3_uncomp.avi\"\n",
            "OpenCV: Couldn't read video stream from file \"train/Content/Actions/train/boxing/person04_boxing_d2_uncomp.avi\"\n",
            "OpenCV: Couldn't read video stream from file \"train/Content/Actions/train/boxing/person22_boxing_d4_uncomp.avi\"\n",
            "OpenCV: Couldn't read video stream from file \"train/Content/Actions/train/boxing/person15_boxing_d4_uncomp.avi\"\n",
            "OpenCV: Couldn't read video stream from file \"train/Content/Actions/train/boxing/person02_boxing_d1_uncomp.avi\"\n",
            "OpenCV: Couldn't read video stream from file \"train/Content/Actions/train/boxing/person10_boxing_d4_uncomp.avi\"\n",
            "OpenCV: Couldn't read video stream from file \"train/Content/Actions/train/boxing/person07_boxing_d1_uncomp.avi\"\n",
            "OpenCV: Couldn't read video stream from file \"train/Content/Actions/train/boxing/person09_boxing_d3_uncomp.avi\"\n",
            "OpenCV: Couldn't read video stream from file \"train/Content/Actions/train/boxing/person24_boxing_d2_uncomp.avi\"\n",
            "OpenCV: Couldn't read video stream from file \"train/Content/Actions/train/boxing/person23_boxing_d3_uncomp.avi\"\n",
            "OpenCV: Couldn't read video stream from file \"train/Content/Actions/train/boxing/person15_boxing_d1_uncomp.avi\"\n",
            "OpenCV: Couldn't read video stream from file \"train/Content/Actions/train/boxing/person07_boxing_d4_uncomp.avi\"\n",
            "OpenCV: Couldn't read video stream from file \"train/Content/Actions/train/boxing/person21_boxing_d2_uncomp.avi\"\n",
            "OpenCV: Couldn't read video stream from file \"train/Content/Actions/train/boxing/person10_boxing_d1_uncomp.avi\"\n",
            "OpenCV: Couldn't read video stream from file \"train/Content/Actions/train/boxing/person19_boxing_d2_uncomp.avi\"\n",
            "OpenCV: Couldn't read video stream from file \"train/Content/Actions/train/boxing/person16_boxing_d2_uncomp.avi\"\n",
            "OpenCV: Couldn't read video stream from file \"train/Content/Actions/train/boxing/person13_boxing_d2_uncomp.avi\"\n",
            "OpenCV: Couldn't read video stream from file \"train/Content/Actions/train/boxing/person22_boxing_d1_uncomp.avi\"\n",
            "OpenCV: Couldn't read video stream from file \"train/Content/Actions/train/boxing/person14_boxing_d4_uncomp.avi\"\n",
            "OpenCV: Couldn't read video stream from file \"train/Content/Actions/train/boxing/person07_boxing_d3_uncomp.avi\"\n",
            "OpenCV: Couldn't read video stream from file \"train/Content/Actions/train/boxing/person23_boxing_d4_uncomp.avi\"\n",
            "OpenCV: Couldn't read video stream from file \"train/Content/Actions/train/boxing/person05_boxing_d2_uncomp.avi\"\n",
            "OpenCV: Couldn't read video stream from file \"train/Content/Actions/train/boxing/person02_boxing_d3_uncomp.avi\"\n",
            "OpenCV: Couldn't read video stream from file \"train/Content/Actions/train/boxing/person09_boxing_d4_uncomp.avi\"\n",
            "OpenCV: Couldn't read video stream from file \"train/Content/Actions/train/boxing/person17_boxing_d2_uncomp.avi\"\n",
            "OpenCV: Couldn't read video stream from file \"train/Content/Actions/train/boxing/person10_boxing_d3_uncomp.avi\"\n",
            "OpenCV: Couldn't read video stream from file \"train/Content/Actions/train/boxing/person23_boxing_d1_uncomp.avi\"\n",
            "OpenCV: Couldn't read video stream from file \"train/Content/Actions/train/boxing/person15_boxing_d3_uncomp.avi\"\n",
            "OpenCV: Couldn't read video stream from file \"train/Content/Actions/train/boxing/person12_boxing_d2_uncomp.avi\"\n",
            "OpenCV: Couldn't read video stream from file \"train/Content/Actions/train/boxing/person03_boxing_d4_uncomp.avi\"\n",
            "OpenCV: Couldn't read video stream from file \"train/Content/Actions/train/boxing/person22_boxing_d3_uncomp.avi\"\n",
            "OpenCV: Couldn't read video stream from file \"train/Content/Actions/train/boxing/person25_boxing_d2_uncomp.avi\"\n",
            "OpenCV: Couldn't read video stream from file \"train/Content/Actions/train/boxing/person18_boxing_d2_uncomp.avi\"\n",
            "OpenCV: Couldn't read video stream from file \"train/Content/Actions/train/boxing/person20_boxing_d2_uncomp.avi\"\n",
            "OpenCV: Couldn't read video stream from file \"train/Content/Actions/train/boxing/person06_boxing_d4_uncomp.avi\"\n",
            "OpenCV: Couldn't read video stream from file \"train/Content/Actions/train/boxing/person12_boxing_d1_uncomp.avi\"\n",
            "OpenCV: Couldn't read video stream from file \"train/Content/Actions/train/boxing/person24_boxing_d3_uncomp.avi\"\n",
            "OpenCV: Couldn't read video stream from file \"train/Content/Actions/train/boxing/person23_boxing_d2_uncomp.avi\"\n",
            "OpenCV: Couldn't read video stream from file \"train/Content/Actions/train/boxing/person17_boxing_d1_uncomp.avi\"\n",
            "OpenCV: Couldn't read video stream from file \"train/Content/Actions/train/boxing/person19_boxing_d3_uncomp.avi\"\n",
            "OpenCV: Couldn't read video stream from file \"train/Content/Actions/train/boxing/person21_boxing_d3_uncomp.avi\"\n",
            "OpenCV: Couldn't read video stream from file \"train/Content/Actions/train/boxing/person20_boxing_d1_uncomp.avi\"\n",
            "OpenCV: Couldn't read video stream from file \"train/Content/Actions/train/boxing/person18_boxing_d1_uncomp.avi\"\n",
            "OpenCV: Couldn't read video stream from file \"train/Content/Actions/train/boxing/person16_boxing_d3_uncomp.avi\"\n",
            "OpenCV: Couldn't read video stream from file \"train/Content/Actions/train/boxing/person25_boxing_d1_uncomp.avi\"\n",
            "OpenCV: Couldn't read video stream from file \"train/Content/Actions/train/boxing/person13_boxing_d3_uncomp.avi\"\n",
            "OpenCV: Couldn't read video stream from file \"train/Content/Actions/train/boxing/person18_boxing_d4_uncomp.avi\"\n",
            "OpenCV: Couldn't read video stream from file \"train/Content/Actions/train/boxing/person20_boxing_d4_uncomp.avi\"\n",
            "OpenCV: Couldn't read video stream from file \"train/Content/Actions/train/boxing/person01_boxing_d3_uncomp.avi\"\n",
            "OpenCV: Couldn't read video stream from file \"train/Content/Actions/train/boxing/person04_boxing_d3_uncomp.avi\"\n",
            "OpenCV: Couldn't read video stream from file \"train/Content/Actions/train/boxing/person25_boxing_d4_uncomp.avi\"\n",
            "OpenCV: Couldn't read video stream from file \"train/Content/Actions/train/boxing/person05_boxing_d1_uncomp.avi\"\n",
            "OpenCV: Couldn't read video stream from file \"train/Content/Actions/train/boxing/person12_boxing_d4_uncomp.avi\"\n",
            "OpenCV: Couldn't read video stream from file \"train/Content/Actions/train/boxing/person09_boxing_d2_uncomp.avi\"\n",
            "OpenCV: Couldn't read video stream from file \"train/Content/Actions/train/boxing/person17_boxing_d4_uncomp.avi\"\n",
            "OpenCV: Couldn't read video stream from file \"train/Content/Actions/train/boxing/person17_boxing_d3_uncomp.avi\"\n",
            "OpenCV: Couldn't read video stream from file \"train/Content/Actions/train/boxing/person10_boxing_d2_uncomp.avi\"\n",
            "OpenCV: Couldn't read video stream from file \"train/Content/Actions/train/boxing/person19_boxing_d1_uncomp.avi\"\n",
            "OpenCV: Couldn't read video stream from file \"train/Content/Actions/train/boxing/person21_boxing_d1_uncomp.avi\"\n",
            "OpenCV: Couldn't read video stream from file \"train/Content/Actions/train/boxing/person15_boxing_d2_uncomp.avi\"\n",
            "OpenCV: Couldn't read video stream from file \"train/Content/Actions/train/boxing/person12_boxing_d3_uncomp.avi\"\n",
            "OpenCV: Couldn't read video stream from file \"train/Content/Actions/train/boxing/person24_boxing_d1_uncomp.avi\"\n",
            "OpenCV: Couldn't read video stream from file \"train/Content/Actions/train/boxing/person04_boxing_d4_uncomp.avi\"\n",
            "OpenCV: Couldn't read video stream from file \"train/Content/Actions/train/boxing/person22_boxing_d2_uncomp.avi\"\n",
            "OpenCV: Couldn't read video stream from file \"train/Content/Actions/train/boxing/person25_boxing_d3_uncomp.avi\"\n",
            "OpenCV: Couldn't read video stream from file \"train/Content/Actions/train/boxing/person13_boxing_d1_uncomp.avi\"\n",
            "OpenCV: Couldn't read video stream from file \"train/Content/Actions/train/boxing/person20_boxing_d3_uncomp.avi\"\n",
            "OpenCV: Couldn't read video stream from file \"train/Content/Actions/train/boxing/person01_boxing_d4_uncomp.avi\"\n",
            "OpenCV: Couldn't read video stream from file \"train/Content/Actions/train/boxing/person18_boxing_d3_uncomp.avi\"\n",
            "OpenCV: Couldn't read video stream from file \"train/Content/Actions/train/boxing/person16_boxing_d1_uncomp.avi\"\n",
            "OpenCV: Couldn't read video stream from file \"train/Content/Actions/train/boxing/person04_boxing_d1_uncomp.avi\"\n",
            "OpenCV: Couldn't read video stream from file \"train/Content/Actions/train/boxing/person16_boxing_d4_uncomp.avi\"\n",
            "OpenCV: Couldn't read video stream from file \"train/Content/Actions/train/boxing/person01_boxing_d1_uncomp.avi\"\n",
            "OpenCV: Couldn't read video stream from file \"train/Content/Actions/train/boxing/person07_boxing_d2_uncomp.avi\"\n",
            "OpenCV: Couldn't read video stream from file \"train/Content/Actions/train/boxing/person21_boxing_d4_uncomp.avi\"\n",
            "OpenCV: Couldn't read video stream from file \"train/Content/Actions/train/boxing/person19_boxing_d4_uncomp.avi\"\n",
            "OpenCV: Couldn't read video stream from file \"train/Content/Actions/train/boxing/person24_boxing_d4_uncomp.avi\"\n",
            "OpenCV: Couldn't read video stream from file \"train/Content/Actions/train/boxing/person02_boxing_d2_uncomp.avi\"\n",
            "OpenCV: Couldn't read video stream from file \"train/Content/Actions/train/Handclapping/person16_handclapping_d1_uncomp.avi\"\n",
            "OpenCV: Couldn't read video stream from file \"train/Content/Actions/train/Handclapping/person07_handclapping_d4_uncomp.avi\"\n",
            "OpenCV: Couldn't read video stream from file \"train/Content/Actions/train/Handclapping/person23_handclapping_d1_uncomp.avi\"\n",
            "OpenCV: Couldn't read video stream from file \"train/Content/Actions/train/Handclapping/person24_handclapping_d4_uncomp.avi\"\n",
            "OpenCV: Couldn't read video stream from file \"train/Content/Actions/train/Handclapping/person09_handclapping_d2_uncomp.avi\"\n",
            "OpenCV: Couldn't read video stream from file \"train/Content/Actions/train/Handclapping/person05_handclapping_d2_uncomp.avi\"\n",
            "OpenCV: Couldn't read video stream from file \"train/Content/Actions/train/Handclapping/person10_handclapping_d3_uncomp.avi\"\n",
            "OpenCV: Couldn't read video stream from file \"train/Content/Actions/train/Handclapping/person25_handclapping_d3_uncomp.avi\"\n",
            "OpenCV: Couldn't read video stream from file \"train/Content/Actions/train/Handclapping/person06_handclapping_d3_uncomp.avi\"\n",
            "OpenCV: Couldn't read video stream from file \"train/Content/Actions/train/Handclapping/person13_handclapping_d2_uncomp.avi\"\n",
            "OpenCV: Couldn't read video stream from file \"train/Content/Actions/train/Handclapping/person21_handclapping_d2_uncomp.avi\"\n",
            "OpenCV: Couldn't read video stream from file \"train/Content/Actions/train/Handclapping/person01_handclapping_d3_uncomp.avi\"\n",
            "OpenCV: Couldn't read video stream from file \"train/Content/Actions/train/Handclapping/person22_handclapping_d3_uncomp.avi\"\n",
            "OpenCV: Couldn't read video stream from file \"train/Content/Actions/train/Handclapping/person02_handclapping_d2_uncomp.avi\"\n",
            "OpenCV: Couldn't read video stream from file \"train/Content/Actions/train/Handclapping/person23_handclapping_d4_uncomp.avi\"\n",
            "OpenCV: Couldn't read video stream from file \"train/Content/Actions/train/Handclapping/person07_handclapping_d1_uncomp.avi\"\n",
            "OpenCV: Couldn't read video stream from file \"train/Content/Actions/train/Handclapping/person24_handclapping_d1_uncomp.avi\"\n",
            "OpenCV: Couldn't read video stream from file \"train/Content/Actions/train/Handclapping/person19_handclapping_d2_uncomp.avi\"\n",
            "OpenCV: Couldn't read video stream from file \"train/Content/Actions/train/Handclapping/person15_handclapping_d2_uncomp.avi\"\n",
            "OpenCV: Couldn't read video stream from file \"train/Content/Actions/train/Handclapping/person20_handclapping_d2_uncomp.avi\"\n",
            "OpenCV: Couldn't read video stream from file \"train/Content/Actions/train/Handclapping/person03_handclapping_d2_uncomp.avi\"\n",
            "OpenCV: Couldn't read video stream from file \"train/Content/Actions/train/Handclapping/person16_handclapping_d3_uncomp.avi\"\n",
            "OpenCV: Couldn't read video stream from file \"train/Content/Actions/train/Handclapping/person23_handclapping_d3_uncomp.avi\"\n",
            "OpenCV: Couldn't read video stream from file \"train/Content/Actions/train/Handclapping/person06_handclapping_d1_uncomp.avi\"\n",
            "OpenCV: Couldn't read video stream from file \"train/Content/Actions/train/Handclapping/person17_handclapping_d4_uncomp.avi\"\n",
            "OpenCV: Couldn't read video stream from file \"train/Content/Actions/train/Handclapping/person22_handclapping_d4_uncomp.avi\"\n",
            "OpenCV: Couldn't read video stream from file \"train/Content/Actions/train/Handclapping/person10_handclapping_d1_uncomp.avi\"\n",
            "OpenCV: Couldn't read video stream from file \"train/Content/Actions/train/Handclapping/person01_handclapping_d4_uncomp.avi\"\n",
            "OpenCV: Couldn't read video stream from file \"train/Content/Actions/train/Handclapping/person25_handclapping_d1_uncomp.avi\"\n",
            "OpenCV: Couldn't read video stream from file \"train/Content/Actions/train/Handclapping/person22_handclapping_d1_uncomp.avi\"\n",
            "OpenCV: Couldn't read video stream from file \"train/Content/Actions/train/Handclapping/person25_handclapping_d4_uncomp.avi\"\n",
            "OpenCV: Couldn't read video stream from file \"train/Content/Actions/train/Handclapping/person10_handclapping_d4_uncomp.avi\"\n",
            "OpenCV: Couldn't read video stream from file \"train/Content/Actions/train/Handclapping/person01_handclapping_d1_uncomp.avi\"\n",
            "OpenCV: Couldn't read video stream from file \"train/Content/Actions/train/Handclapping/person24_handclapping_d3_uncomp.avi\"\n",
            "OpenCV: Couldn't read video stream from file \"train/Content/Actions/train/Handclapping/person04_handclapping_d2_uncomp.avi\"\n",
            "OpenCV: Couldn't read video stream from file \"train/Content/Actions/train/Handclapping/person07_handclapping_d3_uncomp.avi\"\n",
            "OpenCV: Couldn't read video stream from file \"train/Content/Actions/train/Handclapping/person18_handclapping_d3_uncomp.avi\"\n",
            "OpenCV: Couldn't read video stream from file \"train/Content/Actions/train/Handclapping/person01_handclapping_d2_uncomp.avi\"\n",
            "OpenCV: Couldn't read video stream from file \"train/Content/Actions/train/Handclapping/person21_handclapping_d3_uncomp.avi\"\n",
            "OpenCV: Couldn't read video stream from file \"train/Content/Actions/train/Handclapping/person02_handclapping_d3_uncomp.avi\"\n",
            "OpenCV: Couldn't read video stream from file \"train/Content/Actions/train/Handclapping/person22_handclapping_d2_uncomp.avi\"\n",
            "OpenCV: Couldn't read video stream from file \"train/Content/Actions/train/Handclapping/person12_handclapping_d1_uncomp.avi\"\n",
            "OpenCV: Couldn't read video stream from file \"train/Content/Actions/train/Handclapping/person03_handclapping_d4_uncomp.avi\"\n",
            "OpenCV: Couldn't read video stream from file \"train/Content/Actions/train/Handclapping/person19_handclapping_d4_uncomp.avi\"\n",
            "OpenCV: Couldn't read video stream from file \"train/Content/Actions/train/Handclapping/person08_handclapping_d1_uncomp.avi\"\n",
            "OpenCV: Couldn't read video stream from file \"train/Content/Actions/train/Handclapping/person04_handclapping_d1_uncomp.avi\"\n",
            "OpenCV: Couldn't read video stream from file \"train/Content/Actions/train/Handclapping/person15_handclapping_d4_uncomp.avi\"\n",
            "OpenCV: Couldn't read video stream from file \"train/Content/Actions/train/Handclapping/person20_handclapping_d4_uncomp.avi\"\n",
            "OpenCV: Couldn't read video stream from file \"train/Content/Actions/train/Handclapping/person12_handclapping_d4_uncomp.avi\"\n",
            "OpenCV: Couldn't read video stream from file \"train/Content/Actions/train/Handclapping/person03_handclapping_d1_uncomp.avi\"\n",
            "OpenCV: Couldn't read video stream from file \"train/Content/Actions/train/Handclapping/person20_handclapping_d1_uncomp.avi\"\n",
            "OpenCV: Couldn't read video stream from file \"train/Content/Actions/train/Handclapping/person19_handclapping_d1_uncomp.avi\"\n",
            "OpenCV: Couldn't read video stream from file \"train/Content/Actions/train/Handclapping/person04_handclapping_d4_uncomp.avi\"\n",
            "OpenCV: Couldn't read video stream from file \"train/Content/Actions/train/Handclapping/person15_handclapping_d1_uncomp.avi\"\n",
            "OpenCV: Couldn't read video stream from file \"train/Content/Actions/train/Handclapping/person25_handclapping_d2_uncomp.avi\"\n",
            "OpenCV: Couldn't read video stream from file \"train/Content/Actions/train/Handclapping/person09_handclapping_d3_uncomp.avi\"\n",
            "OpenCV: Couldn't read video stream from file \"train/Content/Actions/train/Handclapping/person05_handclapping_d3_uncomp.avi\"\n",
            "OpenCV: Couldn't read video stream from file \"train/Content/Actions/train/Handclapping/person10_handclapping_d2_uncomp.avi\"\n",
            "OpenCV: Couldn't read video stream from file \"train/Content/Actions/train/Handclapping/person06_handclapping_d2_uncomp.avi\"\n",
            "OpenCV: Couldn't read video stream from file \"train/Content/Actions/train/Handclapping/person02_handclapping_d1_uncomp.avi\"\n",
            "OpenCV: Couldn't read video stream from file \"train/Content/Actions/train/Handclapping/person13_handclapping_d4_uncomp.avi\"\n",
            "OpenCV: Couldn't read video stream from file \"train/Content/Actions/train/Handclapping/person09_handclapping_d4_uncomp.avi\"\n",
            "OpenCV: Couldn't read video stream from file \"train/Content/Actions/train/Handclapping/person18_handclapping_d1_uncomp.avi\"\n",
            "OpenCV: Couldn't read video stream from file \"train/Content/Actions/train/Handclapping/person05_handclapping_d4_uncomp.avi\"\n",
            "OpenCV: Couldn't read video stream from file \"train/Content/Actions/train/Handclapping/person21_handclapping_d1_uncomp.avi\"\n",
            "OpenCV: Couldn't read video stream from file \"train/Content/Actions/train/Handclapping/person04_handclapping_d3_uncomp.avi\"\n",
            "OpenCV: Couldn't read video stream from file \"train/Content/Actions/train/Handclapping/person24_handclapping_d2_uncomp.avi\"\n",
            "OpenCV: Couldn't read video stream from file \"train/Content/Actions/train/Handclapping/person07_handclapping_d2_uncomp.avi\"\n",
            "OpenCV: Couldn't read video stream from file \"train/Content/Actions/train/Handclapping/person12_handclapping_d3_uncomp.avi\"\n",
            "OpenCV: Couldn't read video stream from file \"train/Content/Actions/train/Handclapping/person20_handclapping_d3_uncomp.avi\"\n",
            "OpenCV: Couldn't read video stream from file \"train/Content/Actions/train/Handclapping/person15_handclapping_d3_uncomp.avi\"\n",
            "OpenCV: Couldn't read video stream from file \"train/Content/Actions/train/Handclapping/person23_handclapping_d2_uncomp.avi\"\n",
            "OpenCV: Couldn't read video stream from file \"train/Content/Actions/train/Handclapping/person03_handclapping_d3_uncomp.avi\"\n",
            "OpenCV: Couldn't read video stream from file \"train/Content/Actions/train/Handclapping/person16_handclapping_d2_uncomp.avi\"\n",
            "OpenCV: Couldn't read video stream from file \"train/Content/Actions/train/Handclapping/person02_handclapping_d4_uncomp.avi\"\n",
            "OpenCV: Couldn't read video stream from file \"train/Content/Actions/train/Handclapping/person13_handclapping_d1_uncomp.avi\"\n",
            "OpenCV: Couldn't read video stream from file \"train/Content/Actions/train/Handclapping/person21_handclapping_d4_uncomp.avi\"\n",
            "OpenCV: Couldn't read video stream from file \"train/Content/Actions/train/Handclapping/person18_handclapping_d4_uncomp.avi\"\n",
            "OpenCV: Couldn't read video stream from file \"train/Content/Actions/train/Handclapping/person05_handclapping_d1_uncomp.avi\"\n"
          ]
        },
        {
          "name": "stdout",
          "output_type": "stream",
          "text": [
            "Frame features in train set: (479, 20, 2048)\n",
            "Frame masks in train set: (479, 20)\n",
            "Frame features in test set: (120, 20, 2048)\n",
            "Frame masks in test set: (120, 20)\n"
          ]
        },
        {
          "name": "stderr",
          "output_type": "stream",
          "text": [
            "OpenCV: Couldn't read video stream from file \"test/Content/Actions/test/running/person16_running_d2_uncomp.avi\"\n",
            "OpenCV: Couldn't read video stream from file \"test/Content/Actions/test/running/person19_running_d1_uncomp.avi\"\n",
            "OpenCV: Couldn't read video stream from file \"test/Content/Actions/test/running/person13_running_d1_uncomp.avi\"\n",
            "OpenCV: Couldn't read video stream from file \"test/Content/Actions/test/running/person02_running_d2_uncomp.avi\"\n",
            "OpenCV: Couldn't read video stream from file \"test/Content/Actions/test/running/person05_running_d1_uncomp.avi\"\n",
            "OpenCV: Couldn't read video stream from file \"test/Content/Actions/test/running/person07_running_d4_uncomp.avi\"\n",
            "OpenCV: Couldn't read video stream from file \"test/Content/Actions/test/running/person07_running_d3_uncomp.avi\"\n",
            "OpenCV: Couldn't read video stream from file \"test/Content/Actions/test/running/person13_running_d3_uncomp.avi\"\n",
            "OpenCV: Couldn't read video stream from file \"test/Content/Actions/test/running/person15_running_d4_uncomp.avi\"\n",
            "OpenCV: Couldn't read video stream from file \"test/Content/Actions/test/running/person10_running_d2_uncomp.avi\"\n",
            "OpenCV: Couldn't read video stream from file \"test/Content/Actions/test/running/person04_running_d4_uncomp.avi\"\n",
            "OpenCV: Couldn't read video stream from file \"test/Content/Actions/test/running/person10_running_d4_uncomp.avi\"\n",
            "OpenCV: Couldn't read video stream from file \"test/Content/Actions/test/running/person18_running_d4_uncomp.avi\"\n",
            "OpenCV: Couldn't read video stream from file \"test/Content/Actions/test/running/person02_running_d1_uncomp.avi\"\n",
            "OpenCV: Couldn't read video stream from file \"test/Content/Actions/test/running/person05_running_d2_uncomp.avi\"\n",
            "OpenCV: Couldn't read video stream from file \"test/Content/Actions/test/running/person13_running_d2_uncomp.avi\"\n",
            "OpenCV: Couldn't read video stream from file \"test/Content/Actions/test/running/person18_running_d3_uncomp.avi\"\n",
            "OpenCV: Couldn't read video stream from file \"test/Content/Actions/test/running/person10_running_d3_uncomp.avi\"\n",
            "OpenCV: Couldn't read video stream from file \"test/Content/Actions/test/running/person16_running_d1_uncomp.avi\"\n",
            "OpenCV: Couldn't read video stream from file \"test/Content/Actions/test/running/person08_running_d1_uncomp.avi\"\n",
            "OpenCV: Couldn't read video stream from file \"test/Content/Actions/test/handwaving/person18_handwaving_d4_uncomp.avi\"\n",
            "OpenCV: Couldn't read video stream from file \"test/Content/Actions/test/handwaving/person02_handwaving_d1_uncomp.avi\"\n",
            "OpenCV: Couldn't read video stream from file \"test/Content/Actions/test/handwaving/person16_handwaving_d2_uncomp.avi\"\n",
            "OpenCV: Couldn't read video stream from file \"test/Content/Actions/test/handwaving/person10_handwaving_d4_uncomp.avi\"\n",
            "OpenCV: Couldn't read video stream from file \"test/Content/Actions/test/handwaving/person07_handwaving_d3_uncomp.avi\"\n",
            "OpenCV: Couldn't read video stream from file \"test/Content/Actions/test/handwaving/person19_handwaving_d1_uncomp.avi\"\n",
            "OpenCV: Couldn't read video stream from file \"test/Content/Actions/test/handwaving/person07_handwaving_d4_uncomp.avi\"\n",
            "OpenCV: Couldn't read video stream from file \"test/Content/Actions/test/handwaving/person05_handwaving_d2_uncomp.avi\"\n",
            "OpenCV: Couldn't read video stream from file \"test/Content/Actions/test/handwaving/person10_handwaving_d3_uncomp.avi\"\n",
            "OpenCV: Couldn't read video stream from file \"test/Content/Actions/test/handwaving/person13_handwaving_d2_uncomp.avi\"\n",
            "OpenCV: Couldn't read video stream from file \"test/Content/Actions/test/handwaving/person18_handwaving_d3_uncomp.avi\"\n",
            "OpenCV: Couldn't read video stream from file \"test/Content/Actions/test/handwaving/person15_handwaving_d4_uncomp.avi\"\n",
            "OpenCV: Couldn't read video stream from file \"test/Content/Actions/test/handwaving/person13_handwaving_d1_uncomp.avi\"\n",
            "OpenCV: Couldn't read video stream from file \"test/Content/Actions/test/handwaving/person05_handwaving_d1_uncomp.avi\"\n",
            "OpenCV: Couldn't read video stream from file \"test/Content/Actions/test/handwaving/person10_handwaving_d2_uncomp.avi\"\n",
            "OpenCV: Couldn't read video stream from file \"test/Content/Actions/test/handwaving/person08_handwaving_d1_uncomp.avi\"\n",
            "OpenCV: Couldn't read video stream from file \"test/Content/Actions/test/handwaving/person13_handwaving_d3_uncomp.avi\"\n",
            "OpenCV: Couldn't read video stream from file \"test/Content/Actions/test/handwaving/person02_handwaving_d2_uncomp.avi\"\n",
            "OpenCV: Couldn't read video stream from file \"test/Content/Actions/test/handwaving/person04_handwaving_d4_uncomp.avi\"\n",
            "OpenCV: Couldn't read video stream from file \"test/Content/Actions/test/handwaving/person16_handwaving_d1_uncomp.avi\"\n",
            "OpenCV: Couldn't read video stream from file \"test/Content/Actions/test/Walking/person05_walking_d1_uncomp.avi\"\n",
            "OpenCV: Couldn't read video stream from file \"test/Content/Actions/test/Walking/person13_walking_d1_uncomp.avi\"\n",
            "OpenCV: Couldn't read video stream from file \"test/Content/Actions/test/Walking/person21_walking_d1_uncomp.avi\"\n",
            "OpenCV: Couldn't read video stream from file \"test/Content/Actions/test/Walking/person07_walking_d4_uncomp.avi\"\n",
            "OpenCV: Couldn't read video stream from file \"test/Content/Actions/test/Walking/person15_walking_d3_uncomp.avi\"\n",
            "OpenCV: Couldn't read video stream from file \"test/Content/Actions/test/Walking/person18_walking_d2_uncomp.avi\"\n",
            "OpenCV: Couldn't read video stream from file \"test/Content/Actions/test/Walking/person15_walking_d4_uncomp.avi\"\n",
            "OpenCV: Couldn't read video stream from file \"test/Content/Actions/test/Walking/person21_walking_d3_uncomp.avi\"\n",
            "OpenCV: Couldn't read video stream from file \"test/Content/Actions/test/Walking/person10_walking_d2_uncomp.avi\"\n",
            "OpenCV: Couldn't read video stream from file \"test/Content/Actions/test/Walking/person07_walking_d3_uncomp.avi\"\n",
            "OpenCV: Couldn't read video stream from file \"test/Content/Actions/test/Walking/person18_walking_d4_uncomp.avi\"\n",
            "OpenCV: Couldn't read video stream from file \"test/Content/Actions/test/Walking/person04_walking_d4_uncomp.avi\"\n",
            "OpenCV: Couldn't read video stream from file \"test/Content/Actions/test/Walking/person12_walking_d4_uncomp.avi\"\n",
            "OpenCV: Couldn't read video stream from file \"test/Content/Actions/test/Walking/person10_walking_d1_uncomp.avi\"\n",
            "OpenCV: Couldn't read video stream from file \"test/Content/Actions/test/Walking/person07_walking_d2_uncomp.avi\"\n",
            "OpenCV: Couldn't read video stream from file \"test/Content/Actions/test/Walking/person04_walking_d3_uncomp.avi\"\n",
            "OpenCV: Couldn't read video stream from file \"test/Content/Actions/test/Walking/person18_walking_d3_uncomp.avi\"\n",
            "OpenCV: Couldn't read video stream from file \"test/Content/Actions/test/Walking/person13_walking_d2_uncomp.avi\"\n",
            "OpenCV: Couldn't read video stream from file \"test/Content/Actions/test/Walking/person10_walking_d3_uncomp.avi\"\n",
            "OpenCV: Couldn't read video stream from file \"test/Content/Actions/test/Walking/person21_walking_d2_uncomp.avi\"\n",
            "OpenCV: Couldn't read video stream from file \"test/Content/Actions/test/jogging/person13_jogging_d1_uncomp.avi\"\n",
            "OpenCV: Couldn't read video stream from file \"test/Content/Actions/test/jogging/person07_jogging_d4_uncomp.avi\"\n",
            "OpenCV: Couldn't read video stream from file \"test/Content/Actions/test/jogging/person16_jogging_d2_uncomp.avi\"\n",
            "OpenCV: Couldn't read video stream from file \"test/Content/Actions/test/jogging/person19_jogging_d1_uncomp.avi\"\n",
            "OpenCV: Couldn't read video stream from file \"test/Content/Actions/test/jogging/person15_jogging_d3_uncomp.avi\"\n",
            "OpenCV: Couldn't read video stream from file \"test/Content/Actions/test/jogging/person15_jogging_d4_uncomp.avi\"\n",
            "OpenCV: Couldn't read video stream from file \"test/Content/Actions/test/jogging/person13_jogging_d3_uncomp.avi\"\n",
            "OpenCV: Couldn't read video stream from file \"test/Content/Actions/test/jogging/person18_jogging_d2_uncomp.avi\"\n",
            "OpenCV: Couldn't read video stream from file \"test/Content/Actions/test/jogging/person10_jogging_d2_uncomp.avi\"\n",
            "OpenCV: Couldn't read video stream from file \"test/Content/Actions/test/jogging/person07_jogging_d3_uncomp.avi\"\n",
            "OpenCV: Couldn't read video stream from file \"test/Content/Actions/test/jogging/person10_jogging_d4_uncomp.avi\"\n",
            "OpenCV: Couldn't read video stream from file \"test/Content/Actions/test/jogging/person18_jogging_d4_uncomp.avi\"\n",
            "OpenCV: Couldn't read video stream from file \"test/Content/Actions/test/jogging/person12_jogging_d4_uncomp.avi\"\n",
            "OpenCV: Couldn't read video stream from file \"test/Content/Actions/test/jogging/person10_jogging_d1_uncomp.avi\"\n",
            "OpenCV: Couldn't read video stream from file \"test/Content/Actions/test/jogging/person16_jogging_d1_uncomp.avi\"\n",
            "OpenCV: Couldn't read video stream from file \"test/Content/Actions/test/jogging/person07_jogging_d2_uncomp.avi\"\n",
            "OpenCV: Couldn't read video stream from file \"test/Content/Actions/test/jogging/person08_jogging_d1_uncomp.avi\"\n",
            "OpenCV: Couldn't read video stream from file \"test/Content/Actions/test/jogging/person13_jogging_d2_uncomp.avi\"\n",
            "OpenCV: Couldn't read video stream from file \"test/Content/Actions/test/jogging/person18_jogging_d3_uncomp.avi\"\n",
            "OpenCV: Couldn't read video stream from file \"test/Content/Actions/test/jogging/person10_jogging_d3_uncomp.avi\"\n",
            "OpenCV: Couldn't read video stream from file \"test/Content/Actions/test/boxing/person03_boxing_d3_uncomp.avi\"\n",
            "OpenCV: Couldn't read video stream from file \"test/Content/Actions/test/boxing/person02_boxing_d4_uncomp.avi\"\n",
            "OpenCV: Couldn't read video stream from file \"test/Content/Actions/test/boxing/person11_boxing_d3_uncomp.avi\"\n",
            "OpenCV: Couldn't read video stream from file \"test/Content/Actions/test/boxing/person08_boxing_d4_uncomp.avi\"\n",
            "OpenCV: Couldn't read video stream from file \"test/Content/Actions/test/boxing/person14_boxing_d3_uncomp.avi\"\n",
            "OpenCV: Couldn't read video stream from file \"test/Content/Actions/test/boxing/person03_boxing_d1_uncomp.avi\"\n",
            "OpenCV: Couldn't read video stream from file \"test/Content/Actions/test/boxing/person08_boxing_d3_uncomp.avi\"\n",
            "OpenCV: Couldn't read video stream from file \"test/Content/Actions/test/boxing/person06_boxing_d1_uncomp.avi\"\n",
            "OpenCV: Couldn't read video stream from file \"test/Content/Actions/test/boxing/person11_boxing_d4_uncomp.avi\"\n",
            "OpenCV: Couldn't read video stream from file \"test/Content/Actions/test/boxing/person09_boxing_d1_uncomp.avi\"\n",
            "OpenCV: Couldn't read video stream from file \"test/Content/Actions/test/boxing/person14_boxing_d1_uncomp.avi\"\n",
            "OpenCV: Couldn't read video stream from file \"test/Content/Actions/test/boxing/person11_boxing_d1_uncomp.avi\"\n",
            "OpenCV: Couldn't read video stream from file \"test/Content/Actions/test/boxing/person05_boxing_d4_uncomp.avi\"\n",
            "OpenCV: Couldn't read video stream from file \"test/Content/Actions/test/boxing/person11_boxing_d2_uncomp.avi\"\n",
            "OpenCV: Couldn't read video stream from file \"test/Content/Actions/test/boxing/person14_boxing_d2_uncomp.avi\"\n",
            "OpenCV: Couldn't read video stream from file \"test/Content/Actions/test/boxing/person06_boxing_d2_uncomp.avi\"\n",
            "OpenCV: Couldn't read video stream from file \"test/Content/Actions/test/boxing/person03_boxing_d2_uncomp.avi\"\n",
            "OpenCV: Couldn't read video stream from file \"test/Content/Actions/test/boxing/person13_boxing_d4_uncomp.avi\"\n",
            "OpenCV: Couldn't read video stream from file \"test/Content/Actions/test/boxing/person08_boxing_d2_uncomp.avi\"\n",
            "OpenCV: Couldn't read video stream from file \"test/Content/Actions/test/boxing/person05_boxing_d3_uncomp.avi\"\n",
            "OpenCV: Couldn't read video stream from file \"test/Content/Actions/test/Handclapping/person11_handclapping_d4_uncomp.avi\"\n",
            "OpenCV: Couldn't read video stream from file \"test/Content/Actions/test/Handclapping/person18_handclapping_d2_uncomp.avi\"\n",
            "OpenCV: Couldn't read video stream from file \"test/Content/Actions/test/Handclapping/person14_handclapping_d2_uncomp.avi\"\n",
            "OpenCV: Couldn't read video stream from file \"test/Content/Actions/test/Handclapping/person17_handclapping_d3_uncomp.avi\"\n",
            "OpenCV: Couldn't read video stream from file \"test/Content/Actions/test/Handclapping/person16_handclapping_d4_uncomp.avi\"\n",
            "OpenCV: Couldn't read video stream from file \"test/Content/Actions/test/Handclapping/person11_handclapping_d1_uncomp.avi\"\n",
            "OpenCV: Couldn't read video stream from file \"test/Content/Actions/test/Handclapping/person06_handclapping_d4_uncomp.avi\"\n",
            "OpenCV: Couldn't read video stream from file \"test/Content/Actions/test/Handclapping/person17_handclapping_d1_uncomp.avi\"\n",
            "OpenCV: Couldn't read video stream from file \"test/Content/Actions/test/Handclapping/person08_handclapping_d2_uncomp.avi\"\n",
            "OpenCV: Couldn't read video stream from file \"test/Content/Actions/test/Handclapping/person11_handclapping_d3_uncomp.avi\"\n",
            "OpenCV: Couldn't read video stream from file \"test/Content/Actions/test/Handclapping/person12_handclapping_d2_uncomp.avi\"\n",
            "OpenCV: Couldn't read video stream from file \"test/Content/Actions/test/Handclapping/person14_handclapping_d3_uncomp.avi\"\n",
            "OpenCV: Couldn't read video stream from file \"test/Content/Actions/test/Handclapping/person17_handclapping_d2_uncomp.avi\"\n",
            "OpenCV: Couldn't read video stream from file \"test/Content/Actions/test/Handclapping/person08_handclapping_d4_uncomp.avi\"\n",
            "OpenCV: Couldn't read video stream from file \"test/Content/Actions/test/Handclapping/person14_handclapping_d1_uncomp.avi\"\n",
            "OpenCV: Couldn't read video stream from file \"test/Content/Actions/test/Handclapping/person08_handclapping_d3_uncomp.avi\"\n",
            "OpenCV: Couldn't read video stream from file \"test/Content/Actions/test/Handclapping/person11_handclapping_d2_uncomp.avi\"\n",
            "OpenCV: Couldn't read video stream from file \"test/Content/Actions/test/Handclapping/person19_handclapping_d3_uncomp.avi\"\n",
            "OpenCV: Couldn't read video stream from file \"test/Content/Actions/test/Handclapping/person09_handclapping_d1_uncomp.avi\"\n",
            "OpenCV: Couldn't read video stream from file \"test/Content/Actions/test/Handclapping/person14_handclapping_d4_uncomp.avi\"\n"
          ]
        }
      ],
      "source": [
        "def prepare_all_videos(data_dir, root_dir):\n",
        "    video_paths = get_video_path(data_dir)\n",
        "    num_samples = len(video_paths)\n",
        "    labels_str = label_processor.get_vocabulary()  # List of labels\n",
        "    labels_str = np.array(labels_str)  # Convert to NumPy array\n",
        "    labels = keras.ops.convert_to_numpy(label_processor(labels_str[..., None]))\n",
        "\n",
        "    # `frame_masks` and `frame_features` are what we will feed to our sequence model.\n",
        "    # `frame_masks` will contain a bunch of booleans denoting if a timestep is\n",
        "    # masked with padding or not.\n",
        "    frame_masks = np.zeros(shape=(num_samples, MAX_SEQ_LENGTH), dtype=\"bool\")\n",
        "    frame_features = np.zeros(\n",
        "        shape=(num_samples, MAX_SEQ_LENGTH, NUM_FEATURES), dtype=\"float32\"\n",
        "    )\n",
        "    # For each video.\n",
        "    for idx, path in enumerate(video_paths):\n",
        "        # Gather all its frames and add a batch dimension.\n",
        "        frames = load_video(os.path.join(root_dir, path))\n",
        "        frames = frames[None, ...]\n",
        "\n",
        "        # Initialize placeholders to store the masks and features of the current video.\n",
        "        temp_frame_mask = np.zeros(\n",
        "            shape=(\n",
        "                1,\n",
        "                MAX_SEQ_LENGTH,\n",
        "            ),\n",
        "            dtype=\"bool\",\n",
        "        )\n",
        "        temp_frame_features = np.zeros(\n",
        "            shape=(1, MAX_SEQ_LENGTH, NUM_FEATURES), dtype=\"float32\"\n",
        "        )\n",
        "\n",
        "        # Extract features from the frames of the current video.\n",
        "        for i, batch in enumerate(frames):\n",
        "            video_length = batch.shape[0]\n",
        "            length = min(MAX_SEQ_LENGTH, video_length)\n",
        "            for j in range(length):\n",
        "                temp_frame_features[i, j, :] = feature_extractor.predict(\n",
        "                    batch[None, j, :],\n",
        "                    verbose=0,\n",
        "                )\n",
        "            temp_frame_mask[i, :length] = 1  # 1 = not masked, 0 = masked\n",
        "\n",
        "        frame_features[idx,] = temp_frame_features.squeeze()\n",
        "        frame_masks[idx,] = temp_frame_mask.squeeze()\n",
        "\n",
        "    return (frame_features, frame_masks), labels\n",
        "\n",
        "\n",
        "train_data, train_labels = prepare_all_videos(data_dir, \"train\")\n",
        "test_data, test_labels = prepare_all_videos(test_data_dir, \"test\")\n",
        "\n",
        "print(f\"Frame features in train set: {train_data[0].shape}\")\n",
        "print(f\"Frame masks in train set: {train_data[1].shape}\")\n",
        "\n",
        "print(f\"Frame features in test set: {test_data[0].shape}\")\n",
        "print(f\"Frame masks in test set: {test_data[1].shape}\")\n"
      ]
    },
    {
      "cell_type": "code",
      "execution_count": null,
      "metadata": {
        "id": "d2imUBUAgqHv"
      },
      "outputs": [],
      "source": []
    },
    {
      "cell_type": "markdown",
      "metadata": {
        "id": "Ytc8suTIMN8y"
      },
      "source": [
        "#### Visualize the frames and analyze the object in each frame. (1 point)\n",
        "\n",
        "* Plot the frames of each class per row (6 rows)\n",
        "* Plot the title as label on each subplot"
      ]
    },
    {
      "cell_type": "code",
      "execution_count": null,
      "metadata": {
        "id": "uPQf1AoPMVFM"
      },
      "outputs": [],
      "source": [
        "# YOUR CODE HERE\n"
      ]
    },
    {
      "cell_type": "markdown",
      "metadata": {
        "id": "QleRUjGgtwTP"
      },
      "source": [
        "### Create the Neural Network (4 points)\n",
        "\n",
        "We can build the model in several ways. We can use a well-known model that we inject in time distributed layer, or we can build our own.\n",
        "\n",
        "With custom ConvNet each input image of the sequence must pass to a convolutional network. The goal is to train that model for each frame and then decide the class to infer.\n",
        "\n",
        "* Use ConvNet and Time distributed to detect features.\n",
        "* Inject the Time distributed output to GRU or LSTM to treat as a time series.\n",
        "* Apply a DenseNet to take the decision and classify."
      ]
    },
    {
      "cell_type": "markdown",
      "metadata": {
        "id": "xVY2FVVDnATG"
      },
      "source": [
        "##### Build the ConvNet for the feature extraction, GRU LSTM layers as a time series and Dense layers for classification"
      ]
    },
    {
      "cell_type": "code",
      "execution_count": null,
      "metadata": {
        "id": "G1kHGAqLUlB0"
      },
      "outputs": [],
      "source": [
        "# YOUR CODE HERE\n"
      ]
    },
    {
      "cell_type": "markdown",
      "metadata": {
        "id": "xcYlSojgwIrb"
      },
      "source": [
        "#### Setup the parameters and train the model with epochs, batch wise\n",
        "\n",
        "* Use train data to fit the model and test data for validation\n",
        "* Configure batch size and epochs\n",
        "* Plot the loss of train and test data"
      ]
    },
    {
      "cell_type": "code",
      "execution_count": null,
      "metadata": {
        "id": "OAKAXQ1PVCe_"
      },
      "outputs": [],
      "source": [
        "# Note: There will be a high memory requirement for the training steps below.\n",
        "# You should work on a GPU/TPU based runtime. See 'Change Runtime' in Colab\n",
        "# Training time for each epoch could be ~30 mins\n",
        "# To save and re-load your model later, see the reference below:\n",
        "# https://colab.research.google.com/github/tensorflow/docs/blob/master/site/en/tutorials/keras/save_and_load.ipynb\n",
        "\n",
        "# YOUR CODE HERE\n"
      ]
    },
    {
      "cell_type": "markdown",
      "metadata": {
        "id": "uuIG5DHUOAkm"
      },
      "source": [
        "### Use pre-trained model for feature extraction (3 points)\n",
        "\n",
        "To create a deep learning network for video classification:\n",
        "\n",
        "* Convert videos to sequences of feature vectors using a pretrained convolutional neural network, such as VGG16, to extract features from each frame.\n",
        "\n",
        "* Train an LSTM network on the sequences to predict the video labels.\n",
        "\n",
        "* Assemble a network that classifies videos directly by combining layers from both networks.\n",
        "\n",
        "Hint: [VGG-16 CNN and LSTM](https://riptutorial.com/keras/example/29812/vgg-16-cnn-and-lstm-for-video-classification)"
      ]
    },
    {
      "cell_type": "markdown",
      "metadata": {
        "id": "wqCpO1LO_4S1"
      },
      "source": [
        "#### Load and fine-tune the pre-trained model"
      ]
    },
    {
      "cell_type": "code",
      "execution_count": null,
      "metadata": {
        "id": "QhFb7AeA_2rg"
      },
      "outputs": [],
      "source": [
        "# YOUR CODE HERE\n"
      ]
    },
    {
      "cell_type": "markdown",
      "metadata": {
        "id": "UBMJM0U9_00u"
      },
      "source": [
        "#### Setup the parameters and train the model with epochs, batch wise\n",
        "\n",
        "* Use train data to fit the model and test data for validation\n",
        "* Configure batch size and epochs\n",
        "* Plot the loss of train and test data"
      ]
    },
    {
      "cell_type": "code",
      "execution_count": null,
      "metadata": {
        "id": "YpJlYHcIBuyk"
      },
      "outputs": [],
      "source": [
        "# YOUR CODE HERE\n"
      ]
    },
    {
      "cell_type": "markdown",
      "metadata": {
        "id": "owOW-XyZb792"
      },
      "source": [
        "### Report Analysis\n",
        "\n",
        "* Discuss on FPS, Number of frames and duration of each video\n",
        "* Analyze the impact of the LSTM, GRU and TimeDistributed layers\n",
        "* Discuss about the model convergence using pre-trained and ConvNet\n",
        "* *Additional Reading*: Read and discuss about the use of Conv3D in video classification"
      ]
    }
  ],
  "metadata": {
    "colab": {
      "gpuType": "T4",
      "include_colab_link": true,
      "provenance": []
    },
    "kernelspec": {
      "display_name": ".venv",
      "language": "python",
      "name": "python3"
    },
    "language_info": {
      "codemirror_mode": {
        "name": "ipython",
        "version": 3
      },
      "file_extension": ".py",
      "mimetype": "text/x-python",
      "name": "python",
      "nbconvert_exporter": "python",
      "pygments_lexer": "ipython3",
      "version": "3.11.7"
    }
  },
  "nbformat": 4,
  "nbformat_minor": 0
}
