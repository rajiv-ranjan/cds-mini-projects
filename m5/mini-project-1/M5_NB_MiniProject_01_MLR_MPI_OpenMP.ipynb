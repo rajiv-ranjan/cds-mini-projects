{
 "cells": [
  {
   "cell_type": "markdown",
   "id": "heated-queens",
   "metadata": {
    "id": "heated-queens"
   },
   "source": [
    "# Advanced Certification Program in Computational Data Science\n",
    "## A program by IISc and TalentSprint\n",
    "### Mini-Project: Implementation of Multiple Linear Regression using MPI and OpenMP"
   ]
  },
  {
   "cell_type": "markdown",
   "id": "military-proportion",
   "metadata": {
    "id": "military-proportion"
   },
   "source": [
    "## Learning Objectives"
   ]
  },
  {
   "cell_type": "markdown",
   "id": "durable-grounds",
   "metadata": {
    "id": "durable-grounds"
   },
   "source": [
    "At the end of the mini-project, you will be able to :\n",
    "\n",
    "* understand the collective communication operations like scatter, gather, broadcast\n",
    "* understand the blocking and non-blocking communication\n",
    "* implement multiple linear regression and run it using MPI\n",
    "* implement the multiple linear regression based predictions using OpenMP"
   ]
  },
  {
   "cell_type": "markdown",
   "id": "growing-queens",
   "metadata": {
    "id": "growing-queens"
   },
   "source": [
    "### Dataset"
   ]
  },
  {
   "cell_type": "markdown",
   "id": "yLwz-D_xVT8o",
   "metadata": {
    "id": "yLwz-D_xVT8o"
   },
   "source": [
    "The dataset chosen for this mini-project is [Combined Cycle Power Plant](https://archive.ics.uci.edu/ml/datasets/combined+cycle+power+plant). The dataset is made up of 9568 records and 5 columns. Each record contains the values for Ambient Temperature, Exhaust Vaccum, Ambient Pressure, Relative Humidity and Energy Output.\n",
    "\n",
    "Predicting full load electrical power output of a base load power plant is important in order to maximize the profit from the available megawatt hours.  The base load operation of a power plant is influenced by four main parameters, which are used as input variables in the dataset, such as ambient temperature, atmospheric pressure, relative humidity, and exhaust steam pressure. These parameters affect electrical power output, which is considered as the target variable.\n",
    "\n",
    "**Note:** The data was collected over a six year period (2006-11)."
   ]
  },
  {
   "cell_type": "markdown",
   "id": "dominant-residence",
   "metadata": {
    "id": "dominant-residence"
   },
   "source": [
    "## Information"
   ]
  },
  {
   "cell_type": "markdown",
   "id": "coated-timing",
   "metadata": {
    "id": "coated-timing"
   },
   "source": [
    "#### MPI in a Nutshell\n",
    "\n",
    "MPI stands for \"Message Passing Interface\". It is a library of functions (in C / Python) or subroutines (in Fortran) that you insert into source code to perform data communication between processes. MPI was developed over two years of discussions led by the MPI Forum, a group of roughly sixty people representing some forty organizations.\n",
    "\n",
    "To know more about MPI click [here](https://hpc-tutorials.llnl.gov/mpi/)\n",
    "\n",
    "\n",
    "#### Multiple Linear Regression\n",
    "\n",
    "Multiple regression is an extension of simple linear regression. It is used when we want to predict the value of a variable based on the value of two or more other variables. The variable we want to predict is called the dependent variable (or sometimes, the outcome, target or criterion variable). The variables we are using to predict the value of the dependent variable are called the independent variables (or sometimes, the predictor, explanatory or regressor variables)."
   ]
  },
  {
   "cell_type": "markdown",
   "id": "global-savings",
   "metadata": {
    "id": "global-savings"
   },
   "source": [
    "**Note:** We will be using the mpi4py Python package for MPI based code implementation"
   ]
  },
  {
   "cell_type": "markdown",
   "id": "ndQNKsjS7c04",
   "metadata": {
    "id": "ndQNKsjS7c04"
   },
   "source": [
    "## Grading = 20 Points"
   ]
  },
  {
   "cell_type": "markdown",
   "id": "green-deviation",
   "metadata": {
    "id": "green-deviation"
   },
   "source": [
    "**Run the below code to install mpi4py package**"
   ]
  },
  {
   "cell_type": "code",
   "execution_count": 48,
   "id": "designing-marketing",
   "metadata": {
    "id": "designing-marketing",
    "scrolled": true
   },
   "outputs": [],
   "source": [
    "# !pip install mpi4py\n"
   ]
  },
  {
   "cell_type": "markdown",
   "id": "dedicated-thong",
   "metadata": {
    "id": "dedicated-thong"
   },
   "source": [
    "#### Importing Necessary Packages"
   ]
  },
  {
   "cell_type": "code",
   "execution_count": 49,
   "id": "reported-acrobat",
   "metadata": {
    "id": "reported-acrobat",
    "scrolled": true
   },
   "outputs": [],
   "source": [
    "# Importing pandas\n",
    "import pandas as pd\n",
    "\n",
    "# Importing Numpy\n",
    "import numpy as np\n",
    "\n",
    "# Importing MPI from mpi4py package\n",
    "from mpi4py import MPI\n",
    "\n",
    "# Importing sqrt function from the Math\n",
    "from math import sqrt\n",
    "\n",
    "# Importing Decimal, ROUND_HALF_UP functions from the decimal package\n",
    "from decimal import Decimal, ROUND_HALF_UP\n",
    "import time\n"
   ]
  },
  {
   "cell_type": "markdown",
   "id": "standing-zimbabwe",
   "metadata": {
    "id": "standing-zimbabwe"
   },
   "source": [
    "#### Downloading the data"
   ]
  },
  {
   "cell_type": "code",
   "execution_count": 50,
   "id": "universal-jonathan",
   "metadata": {
    "cellView": "form",
    "id": "universal-jonathan",
    "scrolled": true
   },
   "outputs": [
    {
     "data": {
      "text/plain": [
       "False"
      ]
     },
     "execution_count": 50,
     "metadata": {},
     "output_type": "execute_result"
    }
   ],
   "source": [
    "# @title Download the data\n",
    "# !wget -qq https://cdn.iisc.talentsprint.com/CDS/Datasets/PowerPlantData.csv\n",
    "\n",
    "\n",
    "from utility import download_and_unzip\n",
    "\n",
    "download_and_unzip(\n",
    "    filename=\"PowerPlantData.csv\",\n",
    "    url=\"https://cdn.iisc.talentsprint.com/CDS/Datasets/PowerPlantData.csv\",\n",
    ")\n"
   ]
  },
  {
   "cell_type": "markdown",
   "id": "forty-still",
   "metadata": {
    "id": "forty-still"
   },
   "source": [
    "### Overview\n",
    "\n",
    "* Load the data and perform data pre-processing\n",
    "* Identify the features, target and split the data into train and test\n",
    "* Implement multiple Linear Regression by estimating the coefficients on the given data\n",
    "* Use MPI package to distribute the data and implement `communicator`\n",
    "* Define functions for each objective and make a script (.py) file to execute using MPI command\n",
    "* Use OpenMP component to predict the data and calculate the error on the predicted data\n",
    "* Implement the Linear Regression from `sklearn` and compare the results"
   ]
  },
  {
   "cell_type": "markdown",
   "id": "early-peace",
   "metadata": {
    "id": "early-peace"
   },
   "source": [
    "#### Exercise 1: Load data (1 point)\n",
    "\n",
    "Write a function that takes the filename as input and loads the data in a pandas dataframe with the column names as Ambient Temperature, Exhaust Vaccum, Ambient Pressure, Relative Humidity and Energy Output respectively.\n",
    "\n",
    "**Hint:** read_csv()\n"
   ]
  },
  {
   "cell_type": "code",
   "execution_count": 51,
   "id": "differential-vacation",
   "metadata": {
    "id": "differential-vacation",
    "scrolled": true
   },
   "outputs": [
    {
     "data": {
      "application/vnd.microsoft.datawrangler.viewer.v0+json": {
       "columns": [
        {
         "name": "index",
         "rawType": "int64",
         "type": "integer"
        },
        {
         "name": "AmbientTemperature",
         "rawType": "float64",
         "type": "float"
        },
        {
         "name": "ExhaustVaccum",
         "rawType": "float64",
         "type": "float"
        },
        {
         "name": "AmbientPressure",
         "rawType": "float64",
         "type": "float"
        },
        {
         "name": "RelativeHumidity",
         "rawType": "float64",
         "type": "float"
        },
        {
         "name": "EnergyOutput",
         "rawType": "float64",
         "type": "float"
        }
       ],
       "conversionMethod": "pd.DataFrame",
       "ref": "5255813e-9cc7-4ca3-8223-90c9f49021f8",
       "rows": [
        [
         "0",
         "8.34",
         "40.77",
         "1010.84",
         "90.01",
         "480.48"
        ],
        [
         "1",
         "23.64",
         "58.49",
         "1011.4",
         "74.2",
         "445.75"
        ],
        [
         "2",
         "29.74",
         "56.9",
         "1007.15",
         "41.91",
         "438.76"
        ],
        [
         "3",
         "19.07",
         "49.69",
         "1007.22",
         "76.79",
         "453.09"
        ],
        [
         "4",
         "11.8",
         "40.66",
         "1017.13",
         "97.2",
         "464.43"
        ]
       ],
       "shape": {
        "columns": 5,
        "rows": 5
       }
      },
      "text/html": [
       "<div>\n",
       "<style scoped>\n",
       "    .dataframe tbody tr th:only-of-type {\n",
       "        vertical-align: middle;\n",
       "    }\n",
       "\n",
       "    .dataframe tbody tr th {\n",
       "        vertical-align: top;\n",
       "    }\n",
       "\n",
       "    .dataframe thead th {\n",
       "        text-align: right;\n",
       "    }\n",
       "</style>\n",
       "<table border=\"1\" class=\"dataframe\">\n",
       "  <thead>\n",
       "    <tr style=\"text-align: right;\">\n",
       "      <th></th>\n",
       "      <th>AmbientTemperature</th>\n",
       "      <th>ExhaustVaccum</th>\n",
       "      <th>AmbientPressure</th>\n",
       "      <th>RelativeHumidity</th>\n",
       "      <th>EnergyOutput</th>\n",
       "    </tr>\n",
       "  </thead>\n",
       "  <tbody>\n",
       "    <tr>\n",
       "      <th>0</th>\n",
       "      <td>8.34</td>\n",
       "      <td>40.77</td>\n",
       "      <td>1010.84</td>\n",
       "      <td>90.01</td>\n",
       "      <td>480.48</td>\n",
       "    </tr>\n",
       "    <tr>\n",
       "      <th>1</th>\n",
       "      <td>23.64</td>\n",
       "      <td>58.49</td>\n",
       "      <td>1011.40</td>\n",
       "      <td>74.20</td>\n",
       "      <td>445.75</td>\n",
       "    </tr>\n",
       "    <tr>\n",
       "      <th>2</th>\n",
       "      <td>29.74</td>\n",
       "      <td>56.90</td>\n",
       "      <td>1007.15</td>\n",
       "      <td>41.91</td>\n",
       "      <td>438.76</td>\n",
       "    </tr>\n",
       "    <tr>\n",
       "      <th>3</th>\n",
       "      <td>19.07</td>\n",
       "      <td>49.69</td>\n",
       "      <td>1007.22</td>\n",
       "      <td>76.79</td>\n",
       "      <td>453.09</td>\n",
       "    </tr>\n",
       "    <tr>\n",
       "      <th>4</th>\n",
       "      <td>11.80</td>\n",
       "      <td>40.66</td>\n",
       "      <td>1017.13</td>\n",
       "      <td>97.20</td>\n",
       "      <td>464.43</td>\n",
       "    </tr>\n",
       "  </tbody>\n",
       "</table>\n",
       "</div>"
      ],
      "text/plain": [
       "   AmbientTemperature  ExhaustVaccum  AmbientPressure  RelativeHumidity  \\\n",
       "0                8.34          40.77          1010.84             90.01   \n",
       "1               23.64          58.49          1011.40             74.20   \n",
       "2               29.74          56.90          1007.15             41.91   \n",
       "3               19.07          49.69          1007.22             76.79   \n",
       "4               11.80          40.66          1017.13             97.20   \n",
       "\n",
       "   EnergyOutput  \n",
       "0        480.48  \n",
       "1        445.75  \n",
       "2        438.76  \n",
       "3        453.09  \n",
       "4        464.43  "
      ]
     },
     "execution_count": 51,
     "metadata": {},
     "output_type": "execute_result"
    }
   ],
   "source": [
    "# FILENAME = \"/content/PowerPlantData.csv\" # File path\n",
    "FILENAME = \"PowerPlantData.csv\"  # File path\n",
    "\n",
    "\n",
    "# YOUR CODE HERE to Define a function to load the data\n",
    "# Function to load the data\n",
    "def load_data(file_path):\n",
    "    \"\"\"\n",
    "    Function to load the data from the given file path\n",
    "    \"\"\"\n",
    "    # Load the data into a pandas DataFrame\n",
    "    data = pd.read_csv(file_path, header=0, sep=\",\", engine=\"python\")\n",
    "\n",
    "    # Renaming columns in a DataFrame\n",
    "    data.rename(\n",
    "        columns={\n",
    "            \"AT\": \"AmbientTemperature\",\n",
    "            \"V\": \"ExhaustVaccum\",\n",
    "            \"AP\": \"AmbientPressure\",\n",
    "            \"RH\": \"RelativeHumidity\",\n",
    "            \"PE\": \"EnergyOutput\",\n",
    "        },\n",
    "        inplace=True,\n",
    "    )\n",
    "    # Return the DataFrame\n",
    "    return data\n",
    "\n",
    "\n",
    "df = load_data(FILENAME)\n",
    "df.head(5)  # Display the first 5 rows of the DataFrame\n"
   ]
  },
  {
   "cell_type": "markdown",
   "id": "italian-expense",
   "metadata": {
    "id": "italian-expense"
   },
   "source": [
    "#### Exercise 2: Explore data (1 point)\n",
    "\n",
    "Write a function that takes the data loaded using the above defined function as input and explore it.\n",
    "\n",
    "**Hint:** You can define and check for following things in the dataset inside a function\n",
    "\n",
    "- checking for the number of rows and columns\n",
    "- summary of the dataset\n",
    "- check for the null values\n",
    "- check for the duplicate values"
   ]
  },
  {
   "cell_type": "code",
   "execution_count": 52,
   "id": "local-quarter",
   "metadata": {
    "id": "local-quarter",
    "scrolled": true
   },
   "outputs": [
    {
     "name": "stdout",
     "output_type": "stream",
     "text": [
      "Shape of the DataFrame: (9568, 5)\n",
      "Number of rows: 9568\n",
      "Number of columns: 5\n",
      "\n",
      "\n",
      "Columns in the DataFrame: ['AmbientTemperature', 'ExhaustVaccum', 'AmbientPressure', 'RelativeHumidity', 'EnergyOutput']\n",
      "\n",
      "\n",
      "Data types of each column:\n",
      "AmbientTemperature    float64\n",
      "ExhaustVaccum         float64\n",
      "AmbientPressure       float64\n",
      "RelativeHumidity      float64\n",
      "EnergyOutput          float64\n",
      "dtype: object\n",
      "\n",
      "\n",
      " Data statistics:\n",
      "       AmbientTemperature  ExhaustVaccum  AmbientPressure  RelativeHumidity  \\\n",
      "count         9568.000000    9568.000000      9568.000000       9568.000000   \n",
      "mean            19.651231      54.305804      1013.259078         73.308978   \n",
      "std              7.452473      12.707893         5.938784         14.600269   \n",
      "min              1.810000      25.360000       992.890000         25.560000   \n",
      "25%             13.510000      41.740000      1009.100000         63.327500   \n",
      "50%             20.345000      52.080000      1012.940000         74.975000   \n",
      "75%             25.720000      66.540000      1017.260000         84.830000   \n",
      "max             37.110000      81.560000      1033.300000        100.160000   \n",
      "\n",
      "       EnergyOutput  \n",
      "count   9568.000000  \n",
      "mean     454.365009  \n",
      "std       17.066995  \n",
      "min      420.260000  \n",
      "25%      439.750000  \n",
      "50%      451.550000  \n",
      "75%      468.430000  \n",
      "max      495.760000  \n",
      "\n",
      "\n",
      "No of rows with null values: 0\n",
      "\n",
      "\n",
      "Rows with zero values:\n",
      "\n",
      "\n",
      "Duplicate number of rows: 41\n",
      "\n",
      "\n",
      "Duplicate rows:\n",
      "      AmbientTemperature  ExhaustVaccum  AmbientPressure  RelativeHumidity  \\\n",
      "1696                7.24          41.17          1020.35             80.56   \n",
      "1979               29.45          75.60          1018.12             50.68   \n",
      "2378               12.27          41.17          1019.39             52.18   \n",
      "3696               24.79          75.60          1017.07             68.23   \n",
      "5020               12.00          41.17          1019.48             58.71   \n",
      "5150               12.27          41.17          1019.41             58.10   \n",
      "5548                6.86          41.17          1020.12             79.14   \n",
      "5578                7.64          41.17          1020.01             75.14   \n",
      "6129               29.51          75.60          1017.92             50.61   \n",
      "6251                8.07          41.17          1019.40             86.43   \n",
      "6278                9.54          41.17          1019.79             65.61   \n",
      "6327               25.21          75.60          1017.19             69.84   \n",
      "6495               26.12          75.60          1017.41             72.31   \n",
      "6514               25.79          75.60          1017.46             75.63   \n",
      "6633               24.63          59.57          1010.45             85.36   \n",
      "6661               12.19          41.17          1019.43             65.47   \n",
      "6690               25.42          75.60          1017.39             77.63   \n",
      "6792                6.06          41.17          1019.67             84.70   \n",
      "7004               27.64          75.60          1017.35             54.78   \n",
      "7062               25.56          75.60          1017.37             69.31   \n",
      "7150               28.37          75.60          1017.48             55.19   \n",
      "7276               29.05          75.60          1017.63             51.16   \n",
      "7406               11.82          41.17          1019.50             55.74   \n",
      "7435               25.53          59.57          1010.65             82.04   \n",
      "7471               25.91          75.60          1018.23             62.65   \n",
      "7507               11.23          41.17          1019.36             56.85   \n",
      "7758               29.23          75.60          1017.72             52.26   \n",
      "7790               27.54          75.60          1018.26             57.89   \n",
      "7898                6.03          41.17          1019.81             84.20   \n",
      "7946               26.45          75.60          1017.42             74.50   \n",
      "8050               12.11          41.17          1019.46             62.59   \n",
      "8075                8.57          41.17          1020.18             72.47   \n",
      "8086               28.84          75.60          1018.41             53.96   \n",
      "8247               28.41          75.60          1018.48             56.07   \n",
      "8329               26.85          75.60          1017.43             74.55   \n",
      "8347               10.72          41.17          1019.68             60.71   \n",
      "8579               11.61          41.17          1019.57             58.82   \n",
      "8885                6.40          41.17          1019.54             85.37   \n",
      "9002                8.44          41.17          1019.90             70.72   \n",
      "9350                7.87          41.17          1020.33             77.77   \n",
      "9518                9.83          41.17          1019.34             72.29   \n",
      "\n",
      "      EnergyOutput  \n",
      "1696        486.76  \n",
      "1979        437.31  \n",
      "2378        473.84  \n",
      "3696        440.05  \n",
      "5020        474.40  \n",
      "5150        475.13  \n",
      "5548        490.23  \n",
      "5578        488.53  \n",
      "6129        431.18  \n",
      "6251        484.54  \n",
      "6278        481.18  \n",
      "6327        445.84  \n",
      "6495        439.68  \n",
      "6514        434.65  \n",
      "6633        440.67  \n",
      "6661        475.64  \n",
      "6690        438.24  \n",
      "6792        489.62  \n",
      "7004        441.04  \n",
      "7062        442.20  \n",
      "7150        439.25  \n",
      "7276        439.14  \n",
      "7406        475.61  \n",
      "7435        445.59  \n",
      "7471        443.20  \n",
      "7507        475.85  \n",
      "7758        438.92  \n",
      "7790        440.87  \n",
      "7898        488.57  \n",
      "7946        436.89  \n",
      "8050        475.53  \n",
      "8075        484.20  \n",
      "8086        442.69  \n",
      "8247        440.28  \n",
      "8329        433.48  \n",
      "8347        479.21  \n",
      "8579        476.81  \n",
      "8885        488.82  \n",
      "9002        486.15  \n",
      "9350        486.20  \n",
      "9518        478.21  \n"
     ]
    }
   ],
   "source": [
    "# YOUR CODE HERE\n",
    "def explore_data(df):\n",
    "    \"\"\"\n",
    "    Function to explore the data\n",
    "    \"\"\"\n",
    "    # Display the shape of the DataFrame\n",
    "    print(\"Shape of the DataFrame:\", df.shape)\n",
    "    print(\"Number of rows:\", df.shape[0])\n",
    "    print(\"Number of columns:\", df.shape[1])\n",
    "\n",
    "    # Display the columns of the DataFrame\n",
    "    print(\"\\n\\nColumns in the DataFrame:\", df.columns.tolist())\n",
    "\n",
    "    # Display the data types of each column\n",
    "    print(\"\\n\\nData types of each column:\")\n",
    "    print(df.dtypes)\n",
    "\n",
    "    print(\"\\n\\n Data statistics:\")\n",
    "    print(df.describe())\n",
    "\n",
    "    # Find rows with null values\n",
    "    null_rows = df[df.isnull().any(axis=1)]\n",
    "\n",
    "    # Display rows with null values\n",
    "    print(\"\\n\\nNo of rows with null values: {}\".format(null_rows.shape[0]))\n",
    "\n",
    "    # Find rows with any column having a value of zero\n",
    "    rows_with_zero = df[(df == 0).any(axis=1)]\n",
    "\n",
    "    # Display rows with zero values\n",
    "    print(\"\\n\\nRows with zero values:\".format(rows_with_zero.shape[0]))\n",
    "\n",
    "    # Find duplicate rows\n",
    "    duplicate_rows = df[df.duplicated()]\n",
    "\n",
    "    # Display duplicate rows\n",
    "    print(\"\\n\\nDuplicate number of rows: {}\".format(duplicate_rows.shape[0]))\n",
    "    print(\"\\n\\nDuplicate rows:\")\n",
    "    print(duplicate_rows)\n",
    "\n",
    "\n",
    "explore_data(df)  # Call the function to explore the data\n"
   ]
  },
  {
   "cell_type": "markdown",
   "id": "whole-retailer",
   "metadata": {
    "id": "whole-retailer"
   },
   "source": [
    "#### Exercise 3: Handle missing data (1 point)\n",
    "\n",
    "After exploring the dataset if there are any null values present in the dataset then define a function that takes data loaded using the above defined function as input and handle the null values accordingly.\n",
    "\n",
    "**Hint:**\n",
    "\n",
    "- Drop the records containing the null values - dropna()\n",
    "- Replace the null values with the mean/median/mode - fillna()"
   ]
  },
  {
   "cell_type": "code",
   "execution_count": 53,
   "id": "incorporated-child",
   "metadata": {
    "id": "incorporated-child",
    "scrolled": true
   },
   "outputs": [
    {
     "name": "stdout",
     "output_type": "stream",
     "text": [
      "before dropping missing values: (9568, 5)\n",
      "after dropping missing values (9568, 5)\n",
      "after dropping duplicate values (9527, 5)\n"
     ]
    }
   ],
   "source": [
    "# Function to handle missing data\n",
    "\n",
    "\n",
    "def clean_data(df):\n",
    "    \"\"\"\n",
    "    Function to clean the data\n",
    "    \"\"\"\n",
    "    print(\"before dropping missing values: {}\".format(df.shape))\n",
    "    df_ = df.dropna()  # Drop rows with missing values\n",
    "    print(\"after dropping missing values {}\".format(df_.shape))\n",
    "    df_ = df.drop_duplicates()\n",
    "    print(\"after dropping duplicate values {}\".format(df_.shape))\n",
    "    return df_\n",
    "\n",
    "\n",
    "df = clean_data(df)\n"
   ]
  },
  {
   "cell_type": "markdown",
   "id": "loaded-arbitration",
   "metadata": {
    "id": "loaded-arbitration"
   },
   "source": [
    "#### Exercise 4: Scale the data (1 point)\n",
    "\n",
    "Write a function that takes the data after handling the missing data as input and returns the standardized data.\n",
    "\n",
    "**Hint:**\n",
    "\n",
    "- standardization of the data  can be performed using the below formula\n",
    "\n",
    "$ (x - mean(x)) / std(x) $"
   ]
  },
  {
   "cell_type": "code",
   "execution_count": 54,
   "id": "extraordinary-qatar",
   "metadata": {
    "id": "extraordinary-qatar",
    "scrolled": true
   },
   "outputs": [
    {
     "data": {
      "application/vnd.microsoft.datawrangler.viewer.v0+json": {
       "columns": [
        {
         "name": "index",
         "rawType": "object",
         "type": "string"
        },
        {
         "name": "AmbientTemperature",
         "rawType": "float64",
         "type": "float"
        },
        {
         "name": "ExhaustVaccum",
         "rawType": "float64",
         "type": "float"
        },
        {
         "name": "AmbientPressure",
         "rawType": "float64",
         "type": "float"
        },
        {
         "name": "RelativeHumidity",
         "rawType": "float64",
         "type": "float"
        },
        {
         "name": "EnergyOutput",
         "rawType": "float64",
         "type": "float"
        }
       ],
       "conversionMethod": "pd.DataFrame",
       "ref": "f21d256f-0b16-4a26-bf10-1b9edea2a83a",
       "rows": [
        [
         "count",
         "9527.0",
         "9527.0",
         "9527.0",
         "9527.0",
         "9527.0"
        ],
        [
         "mean",
         "4.3891508344160695e-16",
         "-2.5357880776575426e-16",
         "8.92746567340023e-15",
         "-8.875258271801398e-16",
         "9.8671989021792e-16"
        ],
        [
         "std",
         "1.0",
         "0.9999999999999999",
         "0.9999999999999999",
         "1.0",
         "0.9999999999999998"
        ],
        [
         "min",
         "-2.397538021853784",
         "-2.280680754555999",
         "-3.425131689522439",
         "-3.270573872786098",
         "-1.9998678740080758"
        ],
        [
         "25%",
         "-0.82319964669911",
         "-0.9895250694866736",
         "-0.6989421528619809",
         "-0.6818375598163736",
         "-0.8560268023211934"
        ],
        [
         "50%",
         "0.09292558525949739",
         "-0.17447319014498758",
         "-0.053376430534558",
         "0.11398578114020563",
         "-0.16526182470423198"
        ],
        [
         "75%",
         "0.812930166388256",
         "0.9629734847970375",
         "0.6670984825192834",
         "0.7882963108969627",
         "0.8233478650118047"
        ],
        [
         "max",
         "2.3442831934158397",
         "2.1492917424462035",
         "3.377296169474084",
         "1.8363870936965523",
         "2.431122424214581"
        ]
       ],
       "shape": {
        "columns": 5,
        "rows": 8
       }
      },
      "text/html": [
       "<div>\n",
       "<style scoped>\n",
       "    .dataframe tbody tr th:only-of-type {\n",
       "        vertical-align: middle;\n",
       "    }\n",
       "\n",
       "    .dataframe tbody tr th {\n",
       "        vertical-align: top;\n",
       "    }\n",
       "\n",
       "    .dataframe thead th {\n",
       "        text-align: right;\n",
       "    }\n",
       "</style>\n",
       "<table border=\"1\" class=\"dataframe\">\n",
       "  <thead>\n",
       "    <tr style=\"text-align: right;\">\n",
       "      <th></th>\n",
       "      <th>AmbientTemperature</th>\n",
       "      <th>ExhaustVaccum</th>\n",
       "      <th>AmbientPressure</th>\n",
       "      <th>RelativeHumidity</th>\n",
       "      <th>EnergyOutput</th>\n",
       "    </tr>\n",
       "  </thead>\n",
       "  <tbody>\n",
       "    <tr>\n",
       "      <th>count</th>\n",
       "      <td>9.527000e+03</td>\n",
       "      <td>9.527000e+03</td>\n",
       "      <td>9.527000e+03</td>\n",
       "      <td>9.527000e+03</td>\n",
       "      <td>9.527000e+03</td>\n",
       "    </tr>\n",
       "    <tr>\n",
       "      <th>mean</th>\n",
       "      <td>4.389151e-16</td>\n",
       "      <td>-2.535788e-16</td>\n",
       "      <td>8.927466e-15</td>\n",
       "      <td>-8.875258e-16</td>\n",
       "      <td>9.867199e-16</td>\n",
       "    </tr>\n",
       "    <tr>\n",
       "      <th>std</th>\n",
       "      <td>1.000000e+00</td>\n",
       "      <td>1.000000e+00</td>\n",
       "      <td>1.000000e+00</td>\n",
       "      <td>1.000000e+00</td>\n",
       "      <td>1.000000e+00</td>\n",
       "    </tr>\n",
       "    <tr>\n",
       "      <th>min</th>\n",
       "      <td>-2.397538e+00</td>\n",
       "      <td>-2.280681e+00</td>\n",
       "      <td>-3.425132e+00</td>\n",
       "      <td>-3.270574e+00</td>\n",
       "      <td>-1.999868e+00</td>\n",
       "    </tr>\n",
       "    <tr>\n",
       "      <th>25%</th>\n",
       "      <td>-8.231996e-01</td>\n",
       "      <td>-9.895251e-01</td>\n",
       "      <td>-6.989422e-01</td>\n",
       "      <td>-6.818376e-01</td>\n",
       "      <td>-8.560268e-01</td>\n",
       "    </tr>\n",
       "    <tr>\n",
       "      <th>50%</th>\n",
       "      <td>9.292559e-02</td>\n",
       "      <td>-1.744732e-01</td>\n",
       "      <td>-5.337643e-02</td>\n",
       "      <td>1.139858e-01</td>\n",
       "      <td>-1.652618e-01</td>\n",
       "    </tr>\n",
       "    <tr>\n",
       "      <th>75%</th>\n",
       "      <td>8.129302e-01</td>\n",
       "      <td>9.629735e-01</td>\n",
       "      <td>6.670985e-01</td>\n",
       "      <td>7.882963e-01</td>\n",
       "      <td>8.233479e-01</td>\n",
       "    </tr>\n",
       "    <tr>\n",
       "      <th>max</th>\n",
       "      <td>2.344283e+00</td>\n",
       "      <td>2.149292e+00</td>\n",
       "      <td>3.377296e+00</td>\n",
       "      <td>1.836387e+00</td>\n",
       "      <td>2.431122e+00</td>\n",
       "    </tr>\n",
       "  </tbody>\n",
       "</table>\n",
       "</div>"
      ],
      "text/plain": [
       "       AmbientTemperature  ExhaustVaccum  AmbientPressure  RelativeHumidity  \\\n",
       "count        9.527000e+03   9.527000e+03     9.527000e+03      9.527000e+03   \n",
       "mean         4.389151e-16  -2.535788e-16     8.927466e-15     -8.875258e-16   \n",
       "std          1.000000e+00   1.000000e+00     1.000000e+00      1.000000e+00   \n",
       "min         -2.397538e+00  -2.280681e+00    -3.425132e+00     -3.270574e+00   \n",
       "25%         -8.231996e-01  -9.895251e-01    -6.989422e-01     -6.818376e-01   \n",
       "50%          9.292559e-02  -1.744732e-01    -5.337643e-02      1.139858e-01   \n",
       "75%          8.129302e-01   9.629735e-01     6.670985e-01      7.882963e-01   \n",
       "max          2.344283e+00   2.149292e+00     3.377296e+00      1.836387e+00   \n",
       "\n",
       "       EnergyOutput  \n",
       "count  9.527000e+03  \n",
       "mean   9.867199e-16  \n",
       "std    1.000000e+00  \n",
       "min   -1.999868e+00  \n",
       "25%   -8.560268e-01  \n",
       "50%   -1.652618e-01  \n",
       "75%    8.233479e-01  \n",
       "max    2.431122e+00  "
      ]
     },
     "execution_count": 54,
     "metadata": {},
     "output_type": "execute_result"
    }
   ],
   "source": [
    "# Defining a function to standardize the data\n",
    "\n",
    "# YOUR CODE HERE\n",
    "def scale_data(df):\n",
    "    \"\"\"\n",
    "    Function to standardize the data\n",
    "    \"\"\"\n",
    "    # Standardizing the data\n",
    "    df_ = (df - df.mean()) / df.std()\n",
    "    return df_\n",
    "\n",
    "\n",
    "df = scale_data(df)  # Call the function to standardize the data\n",
    "df.describe()  # Display the statistics of the DataFrame\n"
   ]
  },
  {
   "cell_type": "markdown",
   "id": "thermal-rehabilitation",
   "metadata": {
    "id": "thermal-rehabilitation"
   },
   "source": [
    "#### Exercise 5: Feature selection (1 point)\n",
    "\n",
    "Write a function that takes scaled data as input and returns the features and target variable values\n",
    "\n",
    "**Hint:**\n",
    "\n",
    "- Features: AmbientTemperature, ExhaustVaccum, AmbientPressure, RelativeHumidity\n",
    "- Target Variable: EnergyOutput"
   ]
  },
  {
   "cell_type": "code",
   "execution_count": 55,
   "id": "terminal-starter",
   "metadata": {
    "id": "terminal-starter",
    "scrolled": true
   },
   "outputs": [
    {
     "name": "stdout",
     "output_type": "stream",
     "text": [
      "Shape of X (features): (9527, 4)\n",
      "Shape of Y (target): (9527,)\n"
     ]
    }
   ],
   "source": [
    "# Define a function\n",
    "def split_data_into_X_and_Y(df):\n",
    "    \"\"\"\n",
    "    Function to split the data into X and Y\n",
    "    \"\"\"\n",
    "    # Extracting the target column as Y and remaining columns as X\n",
    "    target_column = \"EnergyOutput\"  # Replace with the name of your target column\n",
    "    X = df.drop(columns=[target_column])  # Features\n",
    "    Y = df[target_column]  # Target\n",
    "\n",
    "    return X, Y\n",
    "\n",
    "\n",
    "X, Y = split_data_into_X_and_Y(df)  # Call the function to split the data\n",
    "\n",
    "# Display the shapes of X and Y\n",
    "print(\"Shape of X (features):\", X.shape)\n",
    "print(\"Shape of Y (target):\", Y.shape)\n"
   ]
  },
  {
   "cell_type": "markdown",
   "id": "timely-bruce",
   "metadata": {
    "id": "timely-bruce"
   },
   "source": [
    "#### Exercise 6: Correlation (1 point)\n",
    "\n",
    "Calculate correlation between the variables"
   ]
  },
  {
   "cell_type": "code",
   "execution_count": null,
   "id": "durable-making",
   "metadata": {
    "id": "durable-making",
    "scrolled": true
   },
   "outputs": [],
   "source": [
    "# YOUR CODE HERE\n"
   ]
  },
  {
   "cell_type": "markdown",
   "id": "honest-remainder",
   "metadata": {
    "id": "honest-remainder"
   },
   "source": [
    "#### Exercise 7: Estimate the coefficients (2 points)\n",
    "\n",
    "Write a function that takes features and target as input and returns the estimated coefficient values\n",
    "\n",
    "**Hint:**\n",
    "\n",
    "- Calculate the estimated coefficients using the below formula\n",
    "\n",
    "$ β = (X^T X)^{-1} X^T y $\n",
    "\n",
    "- transpose(), np.linalg.inv()"
   ]
  },
  {
   "cell_type": "code",
   "execution_count": null,
   "id": "dimensional-victory",
   "metadata": {
    "id": "dimensional-victory",
    "scrolled": true
   },
   "outputs": [],
   "source": [
    "# Calculating the coeffients\n",
    "\n",
    "# YOUR CODE HERE\n"
   ]
  },
  {
   "cell_type": "markdown",
   "id": "interior-bennett",
   "metadata": {
    "id": "interior-bennett"
   },
   "source": [
    "#### Exercise 8: Fit the data to estimate the coefficients (2 points)\n",
    "\n",
    "Write a function named fit which takes features and targets as input and returns the intercept and coefficient values.\n",
    "\n",
    "**Hint:**\n",
    "\n",
    "- create a dummy column in the features dataframe which is made up of all ones\n",
    "- convert the features dataframe into numpy array\n",
    "- call the estimated coefficients function which is defined above\n",
    "- np.ones(), np.concatenate()"
   ]
  },
  {
   "cell_type": "code",
   "execution_count": null,
   "id": "local-texas",
   "metadata": {
    "id": "local-texas",
    "scrolled": true
   },
   "outputs": [],
   "source": [
    "# defining a fit function\n",
    "def fit(x, y):\n",
    "    # YOUR CODE HERE\n"
   ]
  },
  {
   "cell_type": "markdown",
   "id": "hybrid-quick",
   "metadata": {
    "id": "hybrid-quick"
   },
   "source": [
    "#### Exercise 9: Predict the data on estimated coefficients (1 point)\n",
    "\n",
    "Write a function named predict which takes features, intercept and coefficient values as input and returns the predicted values.\n",
    "\n",
    "**Hint:**\n",
    "\n",
    "- Fit the intercept, coefficients values in the below equation\n",
    "\n",
    "  $y = b_0 + b_1*x + ... + b_i*x_i$"
   ]
  },
  {
   "cell_type": "code",
   "execution_count": null,
   "id": "buried-attention",
   "metadata": {
    "id": "buried-attention",
    "scrolled": true
   },
   "outputs": [],
   "source": [
    " # fucntion to predict the values\n",
    "def predict(x, intercept, coefficients):\n",
    "    '''\n",
    "    y = b_0 + b_1*x + ... + b_i*x_i\n",
    "    '''\n",
    "    #YOUR CODE HERE\n",
    "\n",
    "    return predictions\n"
   ]
  },
  {
   "cell_type": "markdown",
   "id": "rolled-consultancy",
   "metadata": {
    "id": "rolled-consultancy"
   },
   "source": [
    "#### Exercise 10: Root mean squared error (1 point)\n",
    "\n",
    "Write a function to calculate the RMSE error.\n",
    "\n",
    "**Hint:**\n",
    "\n",
    "- [How to calculate the RSME error](https://towardsdatascience.com/what-does-rmse-really-mean-806b65f2e48e)"
   ]
  },
  {
   "cell_type": "code",
   "execution_count": null,
   "id": "phantom-alabama",
   "metadata": {
    "id": "phantom-alabama",
    "scrolled": true
   },
   "outputs": [],
   "source": [
    "# Define a function to calculate the error\n",
    "\n",
    "# YOUR CODE HERE\n"
   ]
  },
  {
   "cell_type": "markdown",
   "id": "experimental-discrimination",
   "metadata": {
    "id": "experimental-discrimination"
   },
   "source": [
    "#### Exercise 11: Split the data into train and test (1 point)\n",
    "\n",
    "Write a function named train_test_split which takes features and targets as input and returns the train and test sets respectively.\n",
    "\n",
    "**Hint:**\n",
    "\n",
    "- Shuffle the data\n",
    "- Consider 70 % of data as a train set and the rest of the data as a test set"
   ]
  },
  {
   "cell_type": "code",
   "execution_count": null,
   "id": "dangerous-salmon",
   "metadata": {
    "id": "dangerous-salmon",
    "scrolled": true
   },
   "outputs": [],
   "source": [
    "# YOUR CODE HERE\n"
   ]
  },
  {
   "cell_type": "markdown",
   "id": "living-operation",
   "metadata": {
    "id": "living-operation"
   },
   "source": [
    "#### Exercise 12: Implement predict using OpenMP (1 point)\n",
    "\n",
    "Get the predictions for test data and calculate the test error(RMSE) by implementing the OpenMP (pymp)\n",
    "\n",
    "**Hints:**\n",
    "\n",
    "* Using the pymp.Parallel implement the predict function (use from above)\n",
    "\n",
    "* Call the predict function by passing test data as an argument\n",
    "\n",
    "* calculate the error (RMSE) by comparing the Actual test data and predicted test data"
   ]
  },
  {
   "cell_type": "code",
   "execution_count": null,
   "id": "1PndfF9b_mkN",
   "metadata": {
    "id": "1PndfF9b_mkN"
   },
   "outputs": [],
   "source": [
    "!pip install pymp-pypi\n"
   ]
  },
  {
   "cell_type": "code",
   "execution_count": null,
   "id": "o8DSppnV_wQa",
   "metadata": {
    "id": "o8DSppnV_wQa"
   },
   "outputs": [],
   "source": [
    "import pymp\n",
    "# YOUR CODE HERE\n"
   ]
  },
  {
   "cell_type": "markdown",
   "id": "covered-canon",
   "metadata": {
    "id": "covered-canon"
   },
   "source": [
    "#### Exercise 13: Create a communicator (1 point)\n",
    "\n",
    "Create a comunicator and define the rank and size"
   ]
  },
  {
   "cell_type": "code",
   "execution_count": null,
   "id": "radio-origin",
   "metadata": {
    "id": "radio-origin",
    "scrolled": true
   },
   "outputs": [],
   "source": [
    "# YOUR CODE HERE\n"
   ]
  },
  {
   "cell_type": "markdown",
   "id": "miniature-plaza",
   "metadata": {
    "id": "miniature-plaza"
   },
   "source": [
    "#### Exercise 14: Divide the data into slices (1 point)\n",
    "\n",
    "Write a function named dividing_data which takes train features set, train target set, and size of workers as inputs and returns the sliced data for each worker.\n",
    "\n",
    "![img](https://cdn.iisc.talentsprint.com/CDS/Images/MiniProject_MPI_DataSlice.JPG)\n",
    "\n",
    "For Example, if there are 4 processes, slice the data into 4 equal parts with 25% ratio\n",
    "\n",
    "**Hint:**\n",
    "\n",
    "- Divide the Data equally among the workers\n",
    "  - Create an empty list\n",
    "  - Iterate over the size of workers\n",
    "  - Append each slice of data to the list"
   ]
  },
  {
   "cell_type": "code",
   "execution_count": null,
   "id": "signal-medicaid",
   "metadata": {
    "id": "signal-medicaid",
    "scrolled": true
   },
   "outputs": [],
   "source": [
    "def dividing_data(x_train, y_train, size_of_workers):\n",
    "    # Size of the slice\n",
    "    slice_for_each_worker = int(Decimal(x_train.shape[0]/size_of_workers).quantize(Decimal('1.'), rounding = ROUND_HALF_UP))\n",
    "    print('Slice of data for each worker: {}'.format(slice_for_each_worker))\n",
    "    # YOUR CODE HERE\n"
   ]
  },
  {
   "cell_type": "markdown",
   "id": "changing-conditioning",
   "metadata": {
    "id": "changing-conditioning"
   },
   "source": [
    "#### Exercise 15: Prepare the data in root worker to assign data for all the workers (1 point)\n",
    "\n",
    "- When it is the root worker, perform the below operation:\n",
    "    - Store the features and target values in separate variables\n",
    "    - Split the data into train and test sets using the train_test_split function defined above\n",
    "    - Divide the data among the workers using the dividing_data function above"
   ]
  },
  {
   "cell_type": "code",
   "execution_count": null,
   "id": "hybrid-tamil",
   "metadata": {
    "id": "hybrid-tamil",
    "scrolled": true
   },
   "outputs": [],
   "source": [
    "# YOUR CODE HERE\n"
   ]
  },
  {
   "cell_type": "markdown",
   "id": "breathing-baking",
   "metadata": {
    "id": "breathing-baking"
   },
   "source": [
    "#### Exercise 16: Scatter and gather the data (1 point)\n",
    "\n",
    "Perform the below operations:\n",
    "\n",
    "- Send slices of the training set(the features data X and the expected target data Y) to every worker including the root worker\n",
    "    - **Hint:** scatter()\n",
    "    - use `barrier()` to block workers until all workers in the group reach a Barrier, to scatter from root worker.\n",
    "- Every worker should get the predicted target Y(yhat) for each slice\n",
    "- Get the new coefficient of each instance in a slice\n",
    "    - **Hint:** fit function defined above\n",
    "- Gather the new coefficient from each worker\n",
    "    - **Hint:** gather()\n",
    "    - Take the mean of the gathered coefficients\n",
    "- Calculate the root mean square error for the test set\n",
    "\n",
    "To know more about `scatter`, `gather` and `barrier` click [here](https://nyu-cds.github.io/python-mpi/05-collectives/)"
   ]
  },
  {
   "cell_type": "code",
   "execution_count": null,
   "id": "consistent-union",
   "metadata": {
    "id": "consistent-union",
    "scrolled": true
   },
   "outputs": [],
   "source": [
    "# YOUR CODE HERE\n"
   ]
  },
  {
   "cell_type": "markdown",
   "id": "hired-uniform",
   "metadata": {
    "id": "hired-uniform"
   },
   "source": [
    "#### Exercise 17: Make a script and execute everything in one place (1 point)\n",
    "\n",
    "Write a script(.py) file which contains the code of all the above exercises in it so that you can run the code on multiple processes using MPI.\n",
    "\n",
    "**Hint:**\n",
    "\n",
    "- magic commands\n",
    "- put MPI related code under main function\n",
    "- !mpirun --allow-run-as-root -np 4 python filename.py"
   ]
  },
  {
   "cell_type": "code",
   "execution_count": null,
   "id": "motivated-national",
   "metadata": {
    "id": "motivated-national"
   },
   "outputs": [],
   "source": [
    "# YOUR CODE HERE for scipt(.py)\n"
   ]
  },
  {
   "cell_type": "code",
   "execution_count": null,
   "id": "experimental-waterproof",
   "metadata": {
    "id": "experimental-waterproof",
    "scrolled": true
   },
   "outputs": [],
   "source": [
    "# YOUR CODE HERE for MPI command\n"
   ]
  },
  {
   "cell_type": "markdown",
   "id": "protecting-assets",
   "metadata": {
    "id": "protecting-assets"
   },
   "source": [
    "#### Exercise 18: Use Sklearn to compare (1 point)\n",
    "\n",
    "Apply the Linear regression on the given data using sklearn package and compare with the above results\n",
    "\n",
    "**Hint:**\n",
    "* Split the data into train and test\n",
    "* Fit the train data and predict the test data using `sklearn Linear Regression`\n",
    "* Compare the coefficients and intercept with above estimated coefficients\n",
    "* calculate loss (RMSE) on test data and predictions and compare"
   ]
  },
  {
   "cell_type": "code",
   "execution_count": null,
   "id": "applicable-tyler",
   "metadata": {
    "id": "applicable-tyler"
   },
   "outputs": [],
   "source": [
    "# YOUR CODE HERE\n"
   ]
  }
 ],
 "metadata": {
  "colab": {
   "provenance": []
  },
  "kernelspec": {
   "display_name": ".venv",
   "language": "python",
   "name": "python3"
  },
  "language_info": {
   "codemirror_mode": {
    "name": "ipython",
    "version": 3
   },
   "file_extension": ".py",
   "mimetype": "text/x-python",
   "name": "python",
   "nbconvert_exporter": "python",
   "pygments_lexer": "ipython3",
   "version": "3.11.7"
  }
 },
 "nbformat": 4,
 "nbformat_minor": 5
}
