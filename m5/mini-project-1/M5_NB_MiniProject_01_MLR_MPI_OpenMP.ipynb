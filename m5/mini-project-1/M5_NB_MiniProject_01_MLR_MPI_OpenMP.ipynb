{
 "cells": [
  {
   "cell_type": "markdown",
   "id": "heated-queens",
   "metadata": {
    "id": "heated-queens"
   },
   "source": [
    "# Advanced Certification Program in Computational Data Science\n",
    "## A program by IISc and TalentSprint\n",
    "### Mini-Project: Implementation of Multiple Linear Regression using MPI and OpenMP"
   ]
  },
  {
   "cell_type": "markdown",
   "id": "military-proportion",
   "metadata": {
    "id": "military-proportion"
   },
   "source": [
    "## Learning Objectives"
   ]
  },
  {
   "cell_type": "markdown",
   "id": "durable-grounds",
   "metadata": {
    "id": "durable-grounds"
   },
   "source": [
    "At the end of the mini-project, you will be able to :\n",
    "\n",
    "* understand the collective communication operations like scatter, gather, broadcast\n",
    "* understand the blocking and non-blocking communication\n",
    "* implement multiple linear regression and run it using MPI\n",
    "* implement the multiple linear regression based predictions using OpenMP"
   ]
  },
  {
   "cell_type": "markdown",
   "id": "growing-queens",
   "metadata": {
    "id": "growing-queens"
   },
   "source": [
    "### Dataset"
   ]
  },
  {
   "cell_type": "markdown",
   "id": "yLwz-D_xVT8o",
   "metadata": {
    "id": "yLwz-D_xVT8o"
   },
   "source": [
    "The dataset chosen for this mini-project is [Combined Cycle Power Plant](https://archive.ics.uci.edu/ml/datasets/combined+cycle+power+plant). The dataset is made up of 9568 records and 5 columns. Each record contains the values for Ambient Temperature, Exhaust Vaccum, Ambient Pressure, Relative Humidity and Energy Output.\n",
    "\n",
    "Predicting full load electrical power output of a base load power plant is important in order to maximize the profit from the available megawatt hours.  The base load operation of a power plant is influenced by four main parameters, which are used as input variables in the dataset, such as ambient temperature, atmospheric pressure, relative humidity, and exhaust steam pressure. These parameters affect electrical power output, which is considered as the target variable.\n",
    "\n",
    "**Note:** The data was collected over a six year period (2006-11)."
   ]
  },
  {
   "cell_type": "markdown",
   "id": "dominant-residence",
   "metadata": {
    "id": "dominant-residence"
   },
   "source": [
    "## Information"
   ]
  },
  {
   "cell_type": "markdown",
   "id": "coated-timing",
   "metadata": {
    "id": "coated-timing"
   },
   "source": [
    "#### MPI in a Nutshell\n",
    "\n",
    "MPI stands for \"Message Passing Interface\". It is a library of functions (in C / Python) or subroutines (in Fortran) that you insert into source code to perform data communication between processes. MPI was developed over two years of discussions led by the MPI Forum, a group of roughly sixty people representing some forty organizations.\n",
    "\n",
    "To know more about MPI click [here](https://hpc-tutorials.llnl.gov/mpi/)\n",
    "\n",
    "\n",
    "#### Multiple Linear Regression\n",
    "\n",
    "Multiple regression is an extension of simple linear regression. It is used when we want to predict the value of a variable based on the value of two or more other variables. The variable we want to predict is called the dependent variable (or sometimes, the outcome, target or criterion variable). The variables we are using to predict the value of the dependent variable are called the independent variables (or sometimes, the predictor, explanatory or regressor variables)."
   ]
  },
  {
   "cell_type": "markdown",
   "id": "global-savings",
   "metadata": {
    "id": "global-savings"
   },
   "source": [
    "**Note:** We will be using the mpi4py Python package for MPI based code implementation"
   ]
  },
  {
   "cell_type": "markdown",
   "id": "ndQNKsjS7c04",
   "metadata": {
    "id": "ndQNKsjS7c04"
   },
   "source": [
    "## Grading = 20 Points"
   ]
  },
  {
   "cell_type": "markdown",
   "id": "green-deviation",
   "metadata": {
    "id": "green-deviation"
   },
   "source": [
    "**Run the below code to install mpi4py package**"
   ]
  },
  {
   "cell_type": "code",
   "execution_count": 1,
   "id": "designing-marketing",
   "metadata": {
    "id": "designing-marketing",
    "scrolled": true
   },
   "outputs": [],
   "source": [
    "# !pip install mpi4py\n"
   ]
  },
  {
   "cell_type": "markdown",
   "id": "dedicated-thong",
   "metadata": {
    "id": "dedicated-thong"
   },
   "source": [
    "#### Importing Necessary Packages"
   ]
  },
  {
   "cell_type": "code",
   "execution_count": 2,
   "id": "reported-acrobat",
   "metadata": {
    "id": "reported-acrobat",
    "scrolled": true
   },
   "outputs": [],
   "source": [
    "# Importing pandas\n",
    "import pandas as pd\n",
    "\n",
    "# Importing Numpy\n",
    "import numpy as np\n",
    "\n",
    "# Importing MPI from mpi4py package\n",
    "from mpi4py import MPI\n",
    "\n",
    "# Importing sqrt function from the Math\n",
    "from math import sqrt\n",
    "\n",
    "# Importing Decimal, ROUND_HALF_UP functions from the decimal package\n",
    "from decimal import Decimal, ROUND_HALF_UP\n",
    "import time\n"
   ]
  },
  {
   "cell_type": "markdown",
   "id": "standing-zimbabwe",
   "metadata": {
    "id": "standing-zimbabwe"
   },
   "source": [
    "#### Downloading the data"
   ]
  },
  {
   "cell_type": "code",
   "execution_count": 3,
   "id": "universal-jonathan",
   "metadata": {
    "cellView": "form",
    "id": "universal-jonathan",
    "scrolled": true
   },
   "outputs": [],
   "source": [
    "# @title Download the data\n",
    "!wget -qq https://cdn.iisc.talentsprint.com/CDS/Datasets/PowerPlantData.csv\n"
   ]
  },
  {
   "cell_type": "markdown",
   "id": "forty-still",
   "metadata": {
    "id": "forty-still"
   },
   "source": [
    "### Overview\n",
    "\n",
    "* Load the data and perform data pre-processing\n",
    "* Identify the features, target and split the data into train and test\n",
    "* Implement multiple Linear Regression by estimating the coefficients on the given data\n",
    "* Use MPI package to distribute the data and implement `communicator`\n",
    "* Define functions for each objective and make a script (.py) file to execute using MPI command\n",
    "* Use OpenMP component to predict the data and calculate the error on the predicted data\n",
    "* Implement the Linear Regression from `sklearn` and compare the results"
   ]
  },
  {
   "cell_type": "markdown",
   "id": "early-peace",
   "metadata": {
    "id": "early-peace"
   },
   "source": [
    "#### Exercise 1: Load data (1 point)\n",
    "\n",
    "Write a function that takes the filename as input and loads the data in a pandas dataframe with the column names as Ambient Temperature, Exhaust Vaccum, Ambient Pressure, Relative Humidity and Energy Output respectively.\n",
    "\n",
    "**Hint:** read_csv()\n"
   ]
  },
  {
   "cell_type": "code",
   "execution_count": 6,
   "id": "differential-vacation",
   "metadata": {
    "id": "differential-vacation",
    "scrolled": true
   },
   "outputs": [
    {
     "data": {
      "application/vnd.microsoft.datawrangler.viewer.v0+json": {
       "columns": [
        {
         "name": "index",
         "rawType": "int64",
         "type": "integer"
        },
        {
         "name": "AmbientTemperature",
         "rawType": "float64",
         "type": "float"
        },
        {
         "name": "ExhaustVaccum",
         "rawType": "float64",
         "type": "float"
        },
        {
         "name": "AmbientPressure",
         "rawType": "float64",
         "type": "float"
        },
        {
         "name": "RelativeHumidity",
         "rawType": "float64",
         "type": "float"
        },
        {
         "name": "EnergyOutput",
         "rawType": "float64",
         "type": "float"
        }
       ],
       "conversionMethod": "pd.DataFrame",
       "ref": "7580f099-2a5d-41ed-9941-281be9a2d57d",
       "rows": [
        [
         "0",
         "8.34",
         "40.77",
         "1010.84",
         "90.01",
         "480.48"
        ],
        [
         "1",
         "23.64",
         "58.49",
         "1011.4",
         "74.2",
         "445.75"
        ],
        [
         "2",
         "29.74",
         "56.9",
         "1007.15",
         "41.91",
         "438.76"
        ],
        [
         "3",
         "19.07",
         "49.69",
         "1007.22",
         "76.79",
         "453.09"
        ],
        [
         "4",
         "11.8",
         "40.66",
         "1017.13",
         "97.2",
         "464.43"
        ]
       ],
       "shape": {
        "columns": 5,
        "rows": 5
       }
      },
      "text/html": [
       "<div>\n",
       "<style scoped>\n",
       "    .dataframe tbody tr th:only-of-type {\n",
       "        vertical-align: middle;\n",
       "    }\n",
       "\n",
       "    .dataframe tbody tr th {\n",
       "        vertical-align: top;\n",
       "    }\n",
       "\n",
       "    .dataframe thead th {\n",
       "        text-align: right;\n",
       "    }\n",
       "</style>\n",
       "<table border=\"1\" class=\"dataframe\">\n",
       "  <thead>\n",
       "    <tr style=\"text-align: right;\">\n",
       "      <th></th>\n",
       "      <th>AmbientTemperature</th>\n",
       "      <th>ExhaustVaccum</th>\n",
       "      <th>AmbientPressure</th>\n",
       "      <th>RelativeHumidity</th>\n",
       "      <th>EnergyOutput</th>\n",
       "    </tr>\n",
       "  </thead>\n",
       "  <tbody>\n",
       "    <tr>\n",
       "      <th>0</th>\n",
       "      <td>8.34</td>\n",
       "      <td>40.77</td>\n",
       "      <td>1010.84</td>\n",
       "      <td>90.01</td>\n",
       "      <td>480.48</td>\n",
       "    </tr>\n",
       "    <tr>\n",
       "      <th>1</th>\n",
       "      <td>23.64</td>\n",
       "      <td>58.49</td>\n",
       "      <td>1011.40</td>\n",
       "      <td>74.20</td>\n",
       "      <td>445.75</td>\n",
       "    </tr>\n",
       "    <tr>\n",
       "      <th>2</th>\n",
       "      <td>29.74</td>\n",
       "      <td>56.90</td>\n",
       "      <td>1007.15</td>\n",
       "      <td>41.91</td>\n",
       "      <td>438.76</td>\n",
       "    </tr>\n",
       "    <tr>\n",
       "      <th>3</th>\n",
       "      <td>19.07</td>\n",
       "      <td>49.69</td>\n",
       "      <td>1007.22</td>\n",
       "      <td>76.79</td>\n",
       "      <td>453.09</td>\n",
       "    </tr>\n",
       "    <tr>\n",
       "      <th>4</th>\n",
       "      <td>11.80</td>\n",
       "      <td>40.66</td>\n",
       "      <td>1017.13</td>\n",
       "      <td>97.20</td>\n",
       "      <td>464.43</td>\n",
       "    </tr>\n",
       "  </tbody>\n",
       "</table>\n",
       "</div>"
      ],
      "text/plain": [
       "   AmbientTemperature  ExhaustVaccum  AmbientPressure  RelativeHumidity  \\\n",
       "0                8.34          40.77          1010.84             90.01   \n",
       "1               23.64          58.49          1011.40             74.20   \n",
       "2               29.74          56.90          1007.15             41.91   \n",
       "3               19.07          49.69          1007.22             76.79   \n",
       "4               11.80          40.66          1017.13             97.20   \n",
       "\n",
       "   EnergyOutput  \n",
       "0        480.48  \n",
       "1        445.75  \n",
       "2        438.76  \n",
       "3        453.09  \n",
       "4        464.43  "
      ]
     },
     "execution_count": 6,
     "metadata": {},
     "output_type": "execute_result"
    }
   ],
   "source": [
    "# FILENAME = \"/content/PowerPlantData.csv\" # File path\n",
    "FILENAME = \"PowerPlantData.csv\"  # File path\n",
    "\n",
    "\n",
    "# YOUR CODE HERE to Define a function to load the data\n",
    "# Function to load the data\n",
    "def load_data(file_path):\n",
    "    \"\"\"\n",
    "    Function to load the data from the given file path\n",
    "    \"\"\"\n",
    "    # Load the data into a pandas DataFrame\n",
    "    data = pd.read_csv(file_path, header=0, sep=\",\", engine=\"python\")\n",
    "\n",
    "    # Renaming columns in a DataFrame\n",
    "    data.rename(\n",
    "        columns={\n",
    "            \"AT\": \"AmbientTemperature\",\n",
    "            \"V\": \"ExhaustVaccum\",\n",
    "            \"AP\": \"AmbientPressure\",\n",
    "            \"RH\": \"RelativeHumidity\",\n",
    "            \"PE\": \"EnergyOutput\",\n",
    "        },\n",
    "        inplace=True,\n",
    "    )\n",
    "    # Return the DataFrame\n",
    "    return data\n",
    "\n",
    "\n",
    "df = load_data(FILENAME)\n",
    "df.head(5)  # Display the first 5 rows of the DataFrame\n"
   ]
  },
  {
   "cell_type": "markdown",
   "id": "italian-expense",
   "metadata": {
    "id": "italian-expense"
   },
   "source": [
    "#### Exercise 2: Explore data (1 point)\n",
    "\n",
    "Write a function that takes the data loaded using the above defined function as input and explore it.\n",
    "\n",
    "**Hint:** You can define and check for following things in the dataset inside a function\n",
    "\n",
    "- checking for the number of rows and columns\n",
    "- summary of the dataset\n",
    "- check for the null values\n",
    "- check for the duplicate values"
   ]
  },
  {
   "cell_type": "code",
   "execution_count": null,
   "id": "local-quarter",
   "metadata": {
    "id": "local-quarter",
    "scrolled": true
   },
   "outputs": [],
   "source": [
    "# YOUR CODE HERE\n"
   ]
  },
  {
   "cell_type": "markdown",
   "id": "whole-retailer",
   "metadata": {
    "id": "whole-retailer"
   },
   "source": [
    "#### Exercise 3: Handle missing data (1 point)\n",
    "\n",
    "After exploring the dataset if there are any null values present in the dataset then define a function that takes data loaded using the above defined function as input and handle the null values accordingly.\n",
    "\n",
    "**Hint:**\n",
    "\n",
    "- Drop the records containing the null values - dropna()\n",
    "- Replace the null values with the mean/median/mode - fillna()"
   ]
  },
  {
   "cell_type": "code",
   "execution_count": null,
   "id": "incorporated-child",
   "metadata": {
    "id": "incorporated-child",
    "scrolled": true
   },
   "outputs": [],
   "source": [
    "# Function to handle missing data\n",
    "\n",
    "# YOUR CODE HERE\n"
   ]
  },
  {
   "cell_type": "markdown",
   "id": "loaded-arbitration",
   "metadata": {
    "id": "loaded-arbitration"
   },
   "source": [
    "#### Exercise 4: Scale the data (1 point)\n",
    "\n",
    "Write a function that takes the data after handling the missing data as input and returns the standardized data.\n",
    "\n",
    "**Hint:**\n",
    "\n",
    "- standardization of the data  can be performed using the below formula\n",
    "\n",
    "$ (x - mean(x)) / std(x) $"
   ]
  },
  {
   "cell_type": "code",
   "execution_count": null,
   "id": "extraordinary-qatar",
   "metadata": {
    "id": "extraordinary-qatar",
    "scrolled": true
   },
   "outputs": [],
   "source": [
    "# Defining a function to standardize the data\n",
    "\n",
    "# YOUR CODE HERE\n"
   ]
  },
  {
   "cell_type": "markdown",
   "id": "thermal-rehabilitation",
   "metadata": {
    "id": "thermal-rehabilitation"
   },
   "source": [
    "#### Exercise 5: Feature selection (1 point)\n",
    "\n",
    "Write a function that takes scaled data as input and returns the features and target variable values\n",
    "\n",
    "**Hint:**\n",
    "\n",
    "- Features: AmbientTemperature, ExhaustVaccum, AmbientPressure, RelativeHumidity\n",
    "- Target Variable: EnergyOutput"
   ]
  },
  {
   "cell_type": "code",
   "execution_count": null,
   "id": "terminal-starter",
   "metadata": {
    "id": "terminal-starter",
    "scrolled": true
   },
   "outputs": [],
   "source": [
    "# Define a function\n",
    "\n",
    "# YOUR CODE HERE\n"
   ]
  },
  {
   "cell_type": "markdown",
   "id": "timely-bruce",
   "metadata": {
    "id": "timely-bruce"
   },
   "source": [
    "#### Exercise 6: Correlation (1 point)\n",
    "\n",
    "Calculate correlation between the variables"
   ]
  },
  {
   "cell_type": "code",
   "execution_count": null,
   "id": "durable-making",
   "metadata": {
    "id": "durable-making",
    "scrolled": true
   },
   "outputs": [],
   "source": [
    "# YOUR CODE HERE\n"
   ]
  },
  {
   "cell_type": "markdown",
   "id": "honest-remainder",
   "metadata": {
    "id": "honest-remainder"
   },
   "source": [
    "#### Exercise 7: Estimate the coefficients (2 points)\n",
    "\n",
    "Write a function that takes features and target as input and returns the estimated coefficient values\n",
    "\n",
    "**Hint:**\n",
    "\n",
    "- Calculate the estimated coefficients using the below formula\n",
    "\n",
    "$ β = (X^T X)^{-1} X^T y $\n",
    "\n",
    "- transpose(), np.linalg.inv()"
   ]
  },
  {
   "cell_type": "code",
   "execution_count": null,
   "id": "dimensional-victory",
   "metadata": {
    "id": "dimensional-victory",
    "scrolled": true
   },
   "outputs": [],
   "source": [
    "# Calculating the coeffients\n",
    "\n",
    "# YOUR CODE HERE\n"
   ]
  },
  {
   "cell_type": "markdown",
   "id": "interior-bennett",
   "metadata": {
    "id": "interior-bennett"
   },
   "source": [
    "#### Exercise 8: Fit the data to estimate the coefficients (2 points)\n",
    "\n",
    "Write a function named fit which takes features and targets as input and returns the intercept and coefficient values.\n",
    "\n",
    "**Hint:**\n",
    "\n",
    "- create a dummy column in the features dataframe which is made up of all ones\n",
    "- convert the features dataframe into numpy array\n",
    "- call the estimated coefficients function which is defined above\n",
    "- np.ones(), np.concatenate()"
   ]
  },
  {
   "cell_type": "code",
   "execution_count": null,
   "id": "local-texas",
   "metadata": {
    "id": "local-texas",
    "scrolled": true
   },
   "outputs": [],
   "source": [
    "# defining a fit function\n",
    "def fit(x, y):\n",
    "    # YOUR CODE HERE\n"
   ]
  },
  {
   "cell_type": "markdown",
   "id": "hybrid-quick",
   "metadata": {
    "id": "hybrid-quick"
   },
   "source": [
    "#### Exercise 9: Predict the data on estimated coefficients (1 point)\n",
    "\n",
    "Write a function named predict which takes features, intercept and coefficient values as input and returns the predicted values.\n",
    "\n",
    "**Hint:**\n",
    "\n",
    "- Fit the intercept, coefficients values in the below equation\n",
    "\n",
    "  $y = b_0 + b_1*x + ... + b_i*x_i$"
   ]
  },
  {
   "cell_type": "code",
   "execution_count": null,
   "id": "buried-attention",
   "metadata": {
    "id": "buried-attention",
    "scrolled": true
   },
   "outputs": [],
   "source": [
    " # fucntion to predict the values\n",
    "def predict(x, intercept, coefficients):\n",
    "    '''\n",
    "    y = b_0 + b_1*x + ... + b_i*x_i\n",
    "    '''\n",
    "    #YOUR CODE HERE\n",
    "\n",
    "    return predictions\n"
   ]
  },
  {
   "cell_type": "markdown",
   "id": "rolled-consultancy",
   "metadata": {
    "id": "rolled-consultancy"
   },
   "source": [
    "#### Exercise 10: Root mean squared error (1 point)\n",
    "\n",
    "Write a function to calculate the RMSE error.\n",
    "\n",
    "**Hint:**\n",
    "\n",
    "- [How to calculate the RSME error](https://towardsdatascience.com/what-does-rmse-really-mean-806b65f2e48e)"
   ]
  },
  {
   "cell_type": "code",
   "execution_count": null,
   "id": "phantom-alabama",
   "metadata": {
    "id": "phantom-alabama",
    "scrolled": true
   },
   "outputs": [],
   "source": [
    "# Define a function to calculate the error\n",
    "\n",
    "# YOUR CODE HERE\n"
   ]
  },
  {
   "cell_type": "markdown",
   "id": "experimental-discrimination",
   "metadata": {
    "id": "experimental-discrimination"
   },
   "source": [
    "#### Exercise 11: Split the data into train and test (1 point)\n",
    "\n",
    "Write a function named train_test_split which takes features and targets as input and returns the train and test sets respectively.\n",
    "\n",
    "**Hint:**\n",
    "\n",
    "- Shuffle the data\n",
    "- Consider 70 % of data as a train set and the rest of the data as a test set"
   ]
  },
  {
   "cell_type": "code",
   "execution_count": null,
   "id": "dangerous-salmon",
   "metadata": {
    "id": "dangerous-salmon",
    "scrolled": true
   },
   "outputs": [],
   "source": [
    "# YOUR CODE HERE\n"
   ]
  },
  {
   "cell_type": "markdown",
   "id": "living-operation",
   "metadata": {
    "id": "living-operation"
   },
   "source": [
    "#### Exercise 12: Implement predict using OpenMP (1 point)\n",
    "\n",
    "Get the predictions for test data and calculate the test error(RMSE) by implementing the OpenMP (pymp)\n",
    "\n",
    "**Hints:**\n",
    "\n",
    "* Using the pymp.Parallel implement the predict function (use from above)\n",
    "\n",
    "* Call the predict function by passing test data as an argument\n",
    "\n",
    "* calculate the error (RMSE) by comparing the Actual test data and predicted test data"
   ]
  },
  {
   "cell_type": "code",
   "execution_count": null,
   "id": "1PndfF9b_mkN",
   "metadata": {
    "id": "1PndfF9b_mkN"
   },
   "outputs": [],
   "source": [
    "!pip install pymp-pypi\n"
   ]
  },
  {
   "cell_type": "code",
   "execution_count": null,
   "id": "o8DSppnV_wQa",
   "metadata": {
    "id": "o8DSppnV_wQa"
   },
   "outputs": [],
   "source": [
    "import pymp\n",
    "# YOUR CODE HERE\n"
   ]
  },
  {
   "cell_type": "markdown",
   "id": "covered-canon",
   "metadata": {
    "id": "covered-canon"
   },
   "source": [
    "#### Exercise 13: Create a communicator (1 point)\n",
    "\n",
    "Create a comunicator and define the rank and size"
   ]
  },
  {
   "cell_type": "code",
   "execution_count": null,
   "id": "radio-origin",
   "metadata": {
    "id": "radio-origin",
    "scrolled": true
   },
   "outputs": [],
   "source": [
    "# YOUR CODE HERE\n"
   ]
  },
  {
   "cell_type": "markdown",
   "id": "miniature-plaza",
   "metadata": {
    "id": "miniature-plaza"
   },
   "source": [
    "#### Exercise 14: Divide the data into slices (1 point)\n",
    "\n",
    "Write a function named dividing_data which takes train features set, train target set, and size of workers as inputs and returns the sliced data for each worker.\n",
    "\n",
    "![img](https://cdn.iisc.talentsprint.com/CDS/Images/MiniProject_MPI_DataSlice.JPG)\n",
    "\n",
    "For Example, if there are 4 processes, slice the data into 4 equal parts with 25% ratio\n",
    "\n",
    "**Hint:**\n",
    "\n",
    "- Divide the Data equally among the workers\n",
    "  - Create an empty list\n",
    "  - Iterate over the size of workers\n",
    "  - Append each slice of data to the list"
   ]
  },
  {
   "cell_type": "code",
   "execution_count": null,
   "id": "signal-medicaid",
   "metadata": {
    "id": "signal-medicaid",
    "scrolled": true
   },
   "outputs": [],
   "source": [
    "def dividing_data(x_train, y_train, size_of_workers):\n",
    "    # Size of the slice\n",
    "    slice_for_each_worker = int(Decimal(x_train.shape[0]/size_of_workers).quantize(Decimal('1.'), rounding = ROUND_HALF_UP))\n",
    "    print('Slice of data for each worker: {}'.format(slice_for_each_worker))\n",
    "    # YOUR CODE HERE\n"
   ]
  },
  {
   "cell_type": "markdown",
   "id": "changing-conditioning",
   "metadata": {
    "id": "changing-conditioning"
   },
   "source": [
    "#### Exercise 15: Prepare the data in root worker to assign data for all the workers (1 point)\n",
    "\n",
    "- When it is the root worker, perform the below operation:\n",
    "    - Store the features and target values in separate variables\n",
    "    - Split the data into train and test sets using the train_test_split function defined above\n",
    "    - Divide the data among the workers using the dividing_data function above"
   ]
  },
  {
   "cell_type": "code",
   "execution_count": null,
   "id": "hybrid-tamil",
   "metadata": {
    "id": "hybrid-tamil",
    "scrolled": true
   },
   "outputs": [],
   "source": [
    "# YOUR CODE HERE\n"
   ]
  },
  {
   "cell_type": "markdown",
   "id": "breathing-baking",
   "metadata": {
    "id": "breathing-baking"
   },
   "source": [
    "#### Exercise 16: Scatter and gather the data (1 point)\n",
    "\n",
    "Perform the below operations:\n",
    "\n",
    "- Send slices of the training set(the features data X and the expected target data Y) to every worker including the root worker\n",
    "    - **Hint:** scatter()\n",
    "    - use `barrier()` to block workers until all workers in the group reach a Barrier, to scatter from root worker.\n",
    "- Every worker should get the predicted target Y(yhat) for each slice\n",
    "- Get the new coefficient of each instance in a slice\n",
    "    - **Hint:** fit function defined above\n",
    "- Gather the new coefficient from each worker\n",
    "    - **Hint:** gather()\n",
    "    - Take the mean of the gathered coefficients\n",
    "- Calculate the root mean square error for the test set\n",
    "\n",
    "To know more about `scatter`, `gather` and `barrier` click [here](https://nyu-cds.github.io/python-mpi/05-collectives/)"
   ]
  },
  {
   "cell_type": "code",
   "execution_count": null,
   "id": "consistent-union",
   "metadata": {
    "id": "consistent-union",
    "scrolled": true
   },
   "outputs": [],
   "source": [
    "# YOUR CODE HERE\n"
   ]
  },
  {
   "cell_type": "markdown",
   "id": "hired-uniform",
   "metadata": {
    "id": "hired-uniform"
   },
   "source": [
    "#### Exercise 17: Make a script and execute everything in one place (1 point)\n",
    "\n",
    "Write a script(.py) file which contains the code of all the above exercises in it so that you can run the code on multiple processes using MPI.\n",
    "\n",
    "**Hint:**\n",
    "\n",
    "- magic commands\n",
    "- put MPI related code under main function\n",
    "- !mpirun --allow-run-as-root -np 4 python filename.py"
   ]
  },
  {
   "cell_type": "code",
   "execution_count": null,
   "id": "motivated-national",
   "metadata": {
    "id": "motivated-national"
   },
   "outputs": [],
   "source": [
    "# YOUR CODE HERE for scipt(.py)\n"
   ]
  },
  {
   "cell_type": "code",
   "execution_count": null,
   "id": "experimental-waterproof",
   "metadata": {
    "id": "experimental-waterproof",
    "scrolled": true
   },
   "outputs": [],
   "source": [
    "# YOUR CODE HERE for MPI command\n"
   ]
  },
  {
   "cell_type": "markdown",
   "id": "protecting-assets",
   "metadata": {
    "id": "protecting-assets"
   },
   "source": [
    "#### Exercise 18: Use Sklearn to compare (1 point)\n",
    "\n",
    "Apply the Linear regression on the given data using sklearn package and compare with the above results\n",
    "\n",
    "**Hint:**\n",
    "* Split the data into train and test\n",
    "* Fit the train data and predict the test data using `sklearn Linear Regression`\n",
    "* Compare the coefficients and intercept with above estimated coefficients\n",
    "* calculate loss (RMSE) on test data and predictions and compare"
   ]
  },
  {
   "cell_type": "code",
   "execution_count": null,
   "id": "applicable-tyler",
   "metadata": {
    "id": "applicable-tyler"
   },
   "outputs": [],
   "source": [
    "# YOUR CODE HERE\n"
   ]
  }
 ],
 "metadata": {
  "colab": {
   "provenance": []
  },
  "kernelspec": {
   "display_name": ".venv",
   "language": "python",
   "name": "python3"
  },
  "language_info": {
   "codemirror_mode": {
    "name": "ipython",
    "version": 3
   },
   "file_extension": ".py",
   "mimetype": "text/x-python",
   "name": "python",
   "nbconvert_exporter": "python",
   "pygments_lexer": "ipython3",
   "version": "3.11.7"
  }
 },
 "nbformat": 4,
 "nbformat_minor": 5
}
