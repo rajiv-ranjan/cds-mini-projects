{
  "nbformat": 4,
  "nbformat_minor": 0,
  "metadata": {
    "colab": {
      "provenance": []
    },
    "kernelspec": {
      "display_name": "Python 3",
      "language": "python",
      "name": "python3"
    },
    "language_info": {
      "codemirror_mode": {
        "name": "ipython",
        "version": 3
      },
      "file_extension": ".py",
      "mimetype": "text/x-python",
      "name": "python",
      "nbconvert_exporter": "python",
      "pygments_lexer": "ipython3",
      "version": "3.8.5"
    }
  },
  "cells": [
    {
      "cell_type": "markdown",
      "metadata": {
        "id": "Vf7UdufgUVRm"
      },
      "source": [
        "# Advanced Certification Program in Computational Data Science\n",
        "## A program by IISc and TalentSprint\n",
        "### Mini Project Notebook: Linear Algebra and Calculus"
      ]
    },
    {
      "cell_type": "markdown",
      "metadata": {
        "id": "TnGEuHJusOup"
      },
      "source": [
        "## Problem Statement"
      ]
    },
    {
      "cell_type": "markdown",
      "metadata": {
        "id": "xlkm2qM2sQ-T"
      },
      "source": [
        " The task is to advise a petroleum company on how to meet the demands of their customers for motor oil, diesel oil and gasoline."
      ]
    },
    {
      "cell_type": "markdown",
      "metadata": {
        "id": "cs0B3ScgUVRv"
      },
      "source": [
        "## Learning Objectives"
      ]
    },
    {
      "cell_type": "markdown",
      "metadata": {
        "id": "Sq5piVQRUVRw"
      },
      "source": [
        "At the end of the experiment, you will be able to\n",
        "\n",
        "* create arrays and matrices in python\n",
        "* understand the concepts of linear equations\n",
        "* solve the system of linear equations"
      ]
    },
    {
      "cell_type": "markdown",
      "metadata": {
        "id": "IvKa0MVttqXf"
      },
      "source": [
        "### Data"
      ]
    },
    {
      "cell_type": "markdown",
      "metadata": {
        "id": "dRrGFyZOtsAj"
      },
      "source": [
        "From a barrel of crude oil, in one day, factory $A$ can produce\n",
        "* 20 gallons of motor oil,\n",
        "* 10 gallons of diesel oil, and\n",
        "* 5 gallons of gasoline\n",
        "\n",
        "Similarly, factory $B$ can produce\n",
        "* 4 gallons of motor oil,\n",
        "* 14 gallons of diesel oil, and\n",
        "* 5 gallons of gasoline\n",
        "\n",
        "while factory $C$ can produce\n",
        "* 4 gallons of motor oil,\n",
        "* 5 gallons of diesel oil, and\n",
        "* 12 gallons of gasoline\n",
        "\n",
        "There is also waste in the form of paraffin, among other things. Factory $A$ has 3 gallons of paraffin to dispose of per barrel of crude, factory $B$ 5 gallons, and factory $C$ 2 gallons."
      ]
    },
    {
      "cell_type": "markdown",
      "metadata": {
        "id": "UK_englE4HnA"
      },
      "source": [
        "**Note:** Your conclusion should include a discussion of the nature of the terms *unique*, *no solution*, *overdetermined* and *underdetermined* as they apply in the context of the oil plants."
      ]
    },
    {
      "cell_type": "markdown",
      "metadata": {
        "id": "operating-latter"
      },
      "source": [
        "## Grading = 10 Points"
      ]
    },
    {
      "cell_type": "markdown",
      "metadata": {
        "id": "zAitCztdraex"
      },
      "source": [
        "### Create an array\n",
        "\n",
        "Create an array of size 2x3 with arbitrary values."
      ]
    },
    {
      "cell_type": "code",
      "metadata": {
        "id": "owKFXLLzrqVb",
        "colab": {
          "base_uri": "https://localhost:8080/"
        },
        "outputId": "c9174699-ab2a-431d-f605-0aed5525e21d"
      },
      "source": [
        "import numpy as np\n",
        "\n",
        "# 2x3 array with arbitrary values\n",
        "A = np.array([[1, 2, 3], [4, 5, 6]])\n",
        "print(A)"
      ],
      "execution_count": 1,
      "outputs": [
        {
          "output_type": "stream",
          "name": "stdout",
          "text": [
            "[[1 2 3]\n",
            " [4 5 6]]\n"
          ]
        }
      ]
    },
    {
      "cell_type": "markdown",
      "metadata": {
        "id": "K_7EztnGvzDK"
      },
      "source": [
        "### Create the system of Linear Equations"
      ]
    },
    {
      "cell_type": "markdown",
      "metadata": {
        "id": "zL9M9kmrv_ZA"
      },
      "source": [
        "Suppose the current daily demand from distributors is 6600 gallons of motor oil, 5100 gallons of diesel oil and 3100 of gasoline.\n",
        "\n",
        "Set up the system of equations which describes the above situation. Please include the units as well."
      ]
    },
    {
      "cell_type": "markdown",
      "metadata": {
        "id": "nbOcii0EZpUI"
      },
      "source": [
        "Let the number of barrels used by factory $A$, $B$ and $C$ are $x$, $y$ and $z$ respectively.\n",
        "\n",
        "Then the system of linear equations will be\n",
        "\n",
        "$$Motor\\ oil:\\ \\ \\ 20x + 4y + 4z = 6600$$\n",
        "\n",
        "$$Diesel\\ oil:\\ \\ \\ 10x + 14y + 5z = 5100$$\n",
        "\n",
        "$$Gasoline:\\ \\ \\ 5x + 5y + 12z = 3100$$"
      ]
    },
    {
      "cell_type": "markdown",
      "metadata": {
        "id": "1qLF2LvG2I8Y"
      },
      "source": [
        "### Solve the system of Linear Equation (2 points)"
      ]
    },
    {
      "cell_type": "markdown",
      "metadata": {
        "id": "FzjOkaq21_8L"
      },
      "source": [
        "How many barrels of crude oil each plant should get in order to meet the demand as a group. Remember that we can only provide each plant with an integral number of barrels."
      ]
    },
    {
      "cell_type": "code",
      "source": [
        "from sympy import symbols, Eq, solve\n",
        "\n",
        "x, y, z = symbols('x y z')\n",
        "\n",
        "eq1 = Eq(20*x + 4*y + 4*z, 6600)\n",
        "eq2 = Eq(10*x + 14*y + 5*z, 5100)\n",
        "eq3 = Eq(5*x + 5*y + 12*z, 3100)\n",
        "\n",
        "solution = solve((eq1, eq2, eq3), (x, y, z))\n",
        "x = solution[x]\n",
        "y = solution[y]\n",
        "z = solution[z]\n",
        "x= int(x)\n",
        "y = int(y)\n",
        "z = int(z)\n",
        "print(f\"Number of barrels required by factory A: {x}\")\n",
        "print(f\"Number of barrels required by factory B: {y}\")\n",
        "print(f\"Number of barrels required by factory C: {z}\")\n"
      ],
      "metadata": {
        "colab": {
          "base_uri": "https://localhost:8080/"
        },
        "id": "_6P7dlH3kGpD",
        "outputId": "f1dfcedf-a1b4-4982-9df7-67e654b9c8dc"
      },
      "execution_count": 2,
      "outputs": [
        {
          "output_type": "stream",
          "name": "stdout",
          "text": [
            "Number of barrels required by factory A: 287\n",
            "Number of barrels required by factory B: 128\n",
            "Number of barrels required by factory C: 85\n"
          ]
        }
      ]
    },
    {
      "cell_type": "markdown",
      "metadata": {
        "id": "nY-rFiKAbVl3"
      },
      "source": [
        "Suppose the total demand for all products **doubled**. What would the solution now be? How does it compare to the original solution? Why, mathematically, should this have been expected?"
      ]
    },
    {
      "cell_type": "code",
      "metadata": {
        "id": "OODSS2bFcjKV",
        "colab": {
          "base_uri": "https://localhost:8080/"
        },
        "outputId": "1c6a5e0b-b8cb-42d7-88e3-453a936d7e94"
      },
      "source": [
        "from sympy import symbols, Eq, solve\n",
        "\n",
        "x, y, z = symbols('x y z')\n",
        "\n",
        "eq1 = Eq(20*x + 4*y + 4*z, 13200)\n",
        "eq2 = Eq(10*x + 14*y + 5*z, 10200)\n",
        "eq3 = Eq(5*x + 5*y + 12*z, 6200)\n",
        "\n",
        "solution = solve((eq1, eq2, eq3), (x, y, z))\n",
        "x = solution[x]\n",
        "y = solution[y]\n",
        "z = solution[z]\n",
        "x= int(x)\n",
        "y = int(y)\n",
        "z = int(z)\n",
        "print(f\"Number of barrels required by factory A: {x}\")\n",
        "print(f\"Number of barrels required by factory B: {y}\")\n",
        "print(f\"Number of barrels required by factory C: {z}\")\n"
      ],
      "execution_count": 3,
      "outputs": [
        {
          "output_type": "stream",
          "name": "stdout",
          "text": [
            "Number of barrels required by factory A: 574\n",
            "Number of barrels required by factory B: 257\n",
            "Number of barrels required by factory C: 170\n"
          ]
        }
      ]
    },
    {
      "cell_type": "markdown",
      "metadata": {
        "id": "p_1a-z0Gds6D"
      },
      "source": [
        "Suppose that the company acquires another group of distributors and that the daily demand of this group is 2000 gallons of motor oil, 4000 gallons of gasoline, and 4000 gallons of diesel oil. How would you set up production of just this supply? Are there any options (more than one way)?"
      ]
    },
    {
      "cell_type": "code",
      "metadata": {
        "id": "gWaeKh6eQe2W",
        "colab": {
          "base_uri": "https://localhost:8080/"
        },
        "outputId": "db764359-091a-466b-ecfb-cb0d0d053427"
      },
      "source": [
        "from sympy import symbols, Eq, solve\n",
        "\n",
        "xa, ya, za = symbols('xa ya za')\n",
        "\n",
        "eq1 = Eq(20*xa + 4*ya + 4*za, 2000)\n",
        "eq2 = Eq(10*xa + 14*ya + 5*za, 4000)\n",
        "eq3 = Eq(5*xa + 5*ya + 12*za, 4000)\n",
        "\n",
        "solution = solve((eq1, eq2, eq3), (xa, ya, za))\n",
        "xa = solution[xa]\n",
        "ya = solution[ya]\n",
        "za = solution[za]\n",
        "xa= int(xa)\n",
        "ya = int(ya)\n",
        "za = int(za)\n",
        "print(f\"Number of barrels of motor oil form acquired company: {xa}\")\n",
        "print(f\"Number of barrels of gaoline from aquired company : {ya}\")\n",
        "print(f\"Number of barrels of diesel  from aquired company: {za}\")"
      ],
      "execution_count": 4,
      "outputs": [
        {
          "output_type": "stream",
          "name": "stdout",
          "text": [
            "Number of barrels of motor oil form acquired company: 12\n",
            "Number of barrels of gaoline from aquired company : 187\n",
            "Number of barrels of diesel  from aquired company: 250\n"
          ]
        }
      ]
    },
    {
      "cell_type": "markdown",
      "metadata": {
        "id": "H4sayZf1etbN"
      },
      "source": [
        "Next, calculate the needs of each factory (in barrels of crude, as usual) to meet the total demand of both groups of distributors. When you have done this, compare your answer to results already obtained. What mathematical conclusion can you draw?"
      ]
    },
    {
      "cell_type": "code",
      "metadata": {
        "id": "Hjm5kcawewgT",
        "colab": {
          "base_uri": "https://localhost:8080/"
        },
        "outputId": "a9c0b044-d441-489a-f5fd-79163656bb4d"
      },
      "source": [
        "from sympy import symbols, Eq, solve\n",
        "\n",
        "xt, yt, zt = symbols('xt yt zt')\n",
        "\n",
        "eq1 = Eq(20*xt + 4*yt + 4*zt, 8600)\n",
        "eq2 = Eq(10*xt + 14*yt + 5*zt, 9100)\n",
        "eq3 = Eq(5*xt + 5*yt + 12*zt, 7100)\n",
        "\n",
        "solution = solve((eq1, eq2, eq3), (xt, yt, zt))\n",
        "xt = solution[xt]\n",
        "yt = solution[yt]\n",
        "zt = solution[zt]\n",
        "xt= int(xt)\n",
        "yt = int(yt)\n",
        "zt = int(zt)\n",
        "print(f\"Number of barrels of motor oil form acquired company: {xt}\")\n",
        "print(f\"Number of barrels of gaoline from aquired company : {yt}\")\n",
        "print(f\"Number of barrels of diesel  from aquired company: {zt}\")"
      ],
      "execution_count": 5,
      "outputs": [
        {
          "output_type": "stream",
          "name": "stdout",
          "text": [
            "Number of barrels of motor oil form acquired company: 299\n",
            "Number of barrels of gaoline from aquired company : 316\n",
            "Number of barrels of diesel  from aquired company: 335\n"
          ]
        }
      ]
    },
    {
      "cell_type": "markdown",
      "source": [
        "Factory A,B,C---\n",
        "motor oil: 287\n",
        "gaoline: 128\n",
        "diesel: 85\n",
        "Factory D ---\n",
        "motor oil: 12\n",
        "gaoline: 187\n",
        "diesel: 250\n",
        "\n",
        "additive property----\n",
        "\n",
        "287+12 = 299\n",
        "gaoline 315(round off issue)\n",
        "disel = 335"
      ],
      "metadata": {
        "id": "rU8R70ZIpJxi"
      }
    },
    {
      "cell_type": "markdown",
      "metadata": {
        "id": "ov7RWVpSpzhw"
      },
      "source": [
        "### Sensitivity and Robustness (1 point)"
      ]
    },
    {
      "cell_type": "markdown",
      "metadata": {
        "id": "G1MVw0x_fQMC"
      },
      "source": [
        "In real life applications, constants are rarely ever exactly equal to their stated value; certain amounts of uncertainty are always present. This is part of the reason for the science of statistics. In the above model, the daily productions for the plants would be averages over a period of time. Explore what effect small changes in the parameters have on the output.\n",
        "\n",
        "To do this, pick any 3 coefficients, one at a time, and increase or decrease them by 3%. For each case , note what effect this has on the solution, as a percentage change. Can you draw any overall conclusion?"
      ]
    },
    {
      "cell_type": "markdown",
      "source": [
        "lets say Motor oil of factory A is increased by 3%\n",
        "Motor oil:   20x+4y+4z=6600\n",
        "so, it will become 20.6x+4y+4z=6600\n",
        "\n",
        "lets say Diesel oil of factory B is increased by 3%\n",
        "Diesel oil:   10x+14y+5z=5100\n",
        "So, it will become 10x+14.42y+5z=5100\n",
        "\n",
        "lets say Diesel oil of factory C is increased by 3%\n",
        "Gasoline:   5x+5y+12z=3100\n",
        "So, it will become 5x+5y+12.36z=3100"
      ],
      "metadata": {
        "id": "nLJ7xSixsxDl"
      }
    },
    {
      "cell_type": "code",
      "metadata": {
        "id": "ObBZDKvYfqie",
        "colab": {
          "base_uri": "https://localhost:8080/"
        },
        "outputId": "8f030f37-d96d-4ef2-c4ce-4753a7529ef2"
      },
      "source": [
        "from sympy import symbols, Eq, solve\n",
        "\n",
        "xm, ym, zm = symbols('xm ym zm')\n",
        "\n",
        "eq1 = Eq(20.6*xm + 4*ym + 4*zm, 6600)\n",
        "eq2 = Eq(10*xm + 14.42*ym + 5*zm, 5100)\n",
        "eq3 = Eq(5*xm + 5*ym + 12.36*zm, 3100)\n",
        "\n",
        "solution = solve((eq1, eq2, eq3), (xm, ym, zm))\n",
        "xm = solution[xm]\n",
        "ym = solution[ym]\n",
        "zm = solution[zm]\n",
        "xm= int(xm)\n",
        "ym = int(ym)\n",
        "zm = int(zm)\n",
        "print(f\"Number of barrels of motor oil form acquired company: {xm}\")\n",
        "print(f\"Number of barrels of gaoline from aquired company : {ym}\")\n",
        "print(f\"Number of barrels of diesel  from aquired company: {zm}\")"
      ],
      "execution_count": 6,
      "outputs": [
        {
          "output_type": "stream",
          "name": "stdout",
          "text": [
            "Number of barrels of motor oil form acquired company: 278\n",
            "Number of barrels of gaoline from aquired company : 131\n",
            "Number of barrels of diesel  from aquired company: 85\n"
          ]
        }
      ]
    },
    {
      "cell_type": "markdown",
      "source": [
        "Original : motor oil: 287 gaoline: 128 diesel: 85\n",
        "post increase : motor oil: 278 gaoline: 131 diesel: 85\n",
        "Factory A (x): −3.23%\n",
        "Factory B (y): +2.29%\n",
        "Factory C (z): +0%"
      ],
      "metadata": {
        "id": "zPQ1c2Lsvexn"
      }
    },
    {
      "cell_type": "markdown",
      "metadata": {
        "id": "JOj5wcxQpzhx"
      },
      "source": [
        "### A Plant Off-Line (1 point)"
      ]
    },
    {
      "cell_type": "markdown",
      "metadata": {
        "id": "Dbm0HcJ7frNz"
      },
      "source": [
        "Suppose factory $C$ is shut down by the EPA (Environmental Protection Agency) temporarily for excessive emissions into the atmosphere. If your demand is as it was originally (6600, 5100, 3100), what would you now say about the companies ability to meet it? What do you recommend they schedule for production now?"
      ]
    },
    {
      "cell_type": "markdown",
      "source": [
        "factory C is shut down\n",
        "means z= 0"
      ],
      "metadata": {
        "id": "tqYYGxyVyaPT"
      }
    },
    {
      "cell_type": "code",
      "metadata": {
        "id": "gpbtzvrVAST3",
        "colab": {
          "base_uri": "https://localhost:8080/",
          "height": 211
        },
        "outputId": "b9df83ed-fd02-4683-878a-a1192126d35d"
      },
      "source": [
        "A_reduced = Matrix([\n",
        "    [20, 4],\n",
        "    [10, 14],\n",
        "    [5, 5]\n",
        "])\n",
        "b_reduced = Matrix([6600, 5100, 3100])\n",
        "\n",
        "# Check if overdetermined\n",
        "A_reduced.col_insert(2, b_reduced)\n",
        "A_reduced.rref()\n"
      ],
      "execution_count": 7,
      "outputs": [
        {
          "output_type": "error",
          "ename": "NameError",
          "evalue": "name 'Matrix' is not defined",
          "traceback": [
            "\u001b[0;31m---------------------------------------------------------------------------\u001b[0m",
            "\u001b[0;31mNameError\u001b[0m                                 Traceback (most recent call last)",
            "\u001b[0;32m<ipython-input-7-4bb22af323b1>\u001b[0m in \u001b[0;36m<cell line: 0>\u001b[0;34m()\u001b[0m\n\u001b[0;32m----> 1\u001b[0;31m A_reduced = Matrix([\n\u001b[0m\u001b[1;32m      2\u001b[0m     \u001b[0;34m[\u001b[0m\u001b[0;36m20\u001b[0m\u001b[0;34m,\u001b[0m \u001b[0;36m4\u001b[0m\u001b[0;34m]\u001b[0m\u001b[0;34m,\u001b[0m\u001b[0;34m\u001b[0m\u001b[0;34m\u001b[0m\u001b[0m\n\u001b[1;32m      3\u001b[0m     \u001b[0;34m[\u001b[0m\u001b[0;36m10\u001b[0m\u001b[0;34m,\u001b[0m \u001b[0;36m14\u001b[0m\u001b[0;34m]\u001b[0m\u001b[0;34m,\u001b[0m\u001b[0;34m\u001b[0m\u001b[0;34m\u001b[0m\u001b[0m\n\u001b[1;32m      4\u001b[0m     \u001b[0;34m[\u001b[0m\u001b[0;36m5\u001b[0m\u001b[0;34m,\u001b[0m \u001b[0;36m5\u001b[0m\u001b[0;34m]\u001b[0m\u001b[0;34m\u001b[0m\u001b[0;34m\u001b[0m\u001b[0m\n\u001b[1;32m      5\u001b[0m ])\n",
            "\u001b[0;31mNameError\u001b[0m: name 'Matrix' is not defined"
          ]
        }
      ]
    },
    {
      "cell_type": "code",
      "source": [
        "from sympy import symbols, Eq, solve\n",
        "\n",
        "x, y = symbols('x y')\n",
        "\n",
        "eq1 = Eq(20*x + 4*y, 6600)\n",
        "eq2 = Eq(10*x + 14*y, 5100)\n",
        "eq3 = Eq(5*x + 5*y, 3100)\n",
        "\n",
        "solution = solve((eq1, eq2, eq3), (x, y))\n",
        "\n",
        "# Check if a solution was found\n",
        "if solution:\n",
        "    x_val = round(int(solution[x]))  # Access using the symbol 'x'\n",
        "    y_val = round(int(solution[y]))  # Access using the symbol 'y'\n",
        "    print(f\"Number of barrels required by factory A: {x_val}\")\n",
        "    print(f\"Number of barrels required by factory B: {y_val}\")\n",
        "else:\n",
        "    print(\"The system of equations has no solution.\")\n"
      ],
      "metadata": {
        "colab": {
          "base_uri": "https://localhost:8080/"
        },
        "id": "zjjja1mqy4aC",
        "outputId": "d5518b7b-bc3d-49e8-8194-1c2a239c976d"
      },
      "execution_count": 11,
      "outputs": [
        {
          "output_type": "stream",
          "name": "stdout",
          "text": [
            "The system of equations has no solution.\n"
          ]
        }
      ]
    },
    {
      "cell_type": "markdown",
      "metadata": {
        "id": "tZpzEVmEpzhx"
      },
      "source": [
        "### Buying another plant"
      ]
    },
    {
      "cell_type": "markdown",
      "metadata": {
        "id": "X0ghbS-s3Mel"
      },
      "source": [
        "####(Note the following given information. You will see questions in continuation to this, in the subsequent sections)\n",
        "\n",
        "This situation has caused enough concern that the CEO is considering buying another plant, identical to the third, and using it permanently. Assuming that all 4 plants are on line, what production do you recommend to meet the current demand (5000, 8500, 10000)? In general, what can you say about any increased flexibility that the 4th plant might provide?"
      ]
    },
    {
      "cell_type": "markdown",
      "metadata": {
        "id": "IcbiTq8zpzhx"
      },
      "source": [
        "Let the number of barrels used by factory $A$, $B$, $C$ and $D$ are $x$, $y$, $z$ and $w$ respectively.\n",
        "\n",
        "Then the system of linear equations will be\n",
        "\n",
        "$$20x + 4y + 4z + 4w = 5000$$\n",
        "\n",
        "$$10x + 14y + 5z + 5w = 8500$$\n",
        "\n",
        "$$5x + 5y + 12z + 12w = 10000$$\n",
        "\n",
        "The above system of linear equation has fewer equations than variables, hence it is *underdetermined* and cannot have a unique solution. In this case, there are either infinitely many solutions or no exact solution. We can solve it by keeping $w$ as constant and using [rref](http://linear.ups.edu/html/section-RREF.html) form to solve the system of linear equation.\n",
        "Reduced Row Echelon Form\n",
        "\n",
        "To know about rref implementation in python refer [here](https://docs.sympy.org/latest/tutorial/matrices.html#rref)."
      ]
    },
    {
      "cell_type": "code",
      "metadata": {
        "id": "DnCYG65tB8gp",
        "colab": {
          "base_uri": "https://localhost:8080/"
        },
        "outputId": "0608547f-8399-4911-9797-2de0cc082130"
      },
      "source": [
        "import sympy as sy\n",
        "\n",
        "# create symbol 'w'\n",
        "w = sy.Symbol(\"w\")\n",
        "A_aug = sy.Matrix([[20, 4, 4, 5000-4*w],\n",
        "                   [10, 14, 5, 8500-5*w],\n",
        "                   [5, 5, 12, 10000-12*w]])\n",
        "# show rref form\n",
        "A_aug.rref()"
      ],
      "execution_count": 10,
      "outputs": [
        {
          "output_type": "execute_result",
          "data": {
            "text/plain": [
              "(Matrix([\n",
              " [1, 0, 0,   195/4],\n",
              " [0, 1, 0,  1325/4],\n",
              " [0, 0, 1, 675 - w]]),\n",
              " (0, 1, 2))"
            ]
          },
          "metadata": {},
          "execution_count": 10
        }
      ]
    },
    {
      "cell_type": "markdown",
      "metadata": {
        "id": "1lcEL3n5pzhz"
      },
      "source": [
        "From the above result, it can be seen that 4th plant will share the number of barrels required by the 3rd plant only, while the requirement of 1st and 2nd plant will remain unaffected."
      ]
    },
    {
      "cell_type": "markdown",
      "metadata": {
        "id": "yE9hCfAMpzhz"
      },
      "source": [
        "### Calculate the amount of Paraffin supplied (1 point)"
      ]
    },
    {
      "cell_type": "markdown",
      "metadata": {
        "id": "u9HSGUeZquXD"
      },
      "source": [
        "The company has just found a candle company that will buy its paraffin. Under the current conditions (i.e, after buying another plant) for demand (5000, 8500, 10000), how much can be supplied to them per day?"
      ]
    },
    {
      "cell_type": "markdown",
      "metadata": {
        "id": "ilEui1GHA3Oh"
      },
      "source": [
        "According to the problem statement, factory $A$ has 3 gallons of paraffin to dispose of per barrel of crude oil, factory $B$ 5 gallons, and factory $C$ 2 gallons."
      ]
    },
    {
      "cell_type": "markdown",
      "source": [],
      "metadata": {
        "id": "BS8Qwdwy4LMl"
      }
    },
    {
      "cell_type": "markdown",
      "source": [
        "Assuming solved values\n",
        "𝑥,𝑦,𝑧,𝑤\n",
        "where w = z as w: Factory D (identical to C) so, use:\n",
        "Paraffin=3x+5y+2z+2w\n",
        "\n",
        "20x+4y+4z+4w=5000\n",
        "\n",
        "10x+14y+5z+5w=8500\n",
        "\n",
        "5x+5y+12z+12w=10000\n",
        "\n",
        "there are 4 variable but 3 equation , we cannot solve it.\n",
        "So , we are assuming \"w\" = \"z\"\n",
        "\n",
        "20x+4y+4z+4w=5000 ⇒ 20x+4y+8z=5000\n",
        "\n",
        "10x+14y+5z+5w=8500 ⇒ 10x+14y+10z=8500\n",
        "\n",
        "5x+5y+12z+12w=10000 ⇒ 5x+5y+24z=10000\n",
        "​\n",
        "  \n",
        "\n",
        "\n",
        "\n",
        "​\n",
        "\n",
        "\n",
        "\n"
      ],
      "metadata": {
        "id": "1PaAGA4T19NN"
      }
    },
    {
      "cell_type": "markdown",
      "source": [],
      "metadata": {
        "id": "7eRYe9l-4NWr"
      }
    },
    {
      "cell_type": "code",
      "metadata": {
        "id": "gJnUalG2_r0i",
        "colab": {
          "base_uri": "https://localhost:8080/"
        },
        "outputId": "03b7c4bf-a1d3-4f1d-a784-e887fc3cf032"
      },
      "source": [
        "from sympy import symbols, Eq, solve\n",
        "\n",
        "# Define variables\n",
        "x, y, z = symbols(\"x y z\")\n",
        "\n",
        "# Substituting w = z into the system\n",
        "eq1 = Eq(20*x + 4*y + 8*z, 5000)\n",
        "eq2 = Eq(10*x + 14*y + 10*z, 8500)\n",
        "eq3 = Eq(5*x + 5*y + 24*z, 10000)\n",
        "\n",
        "# Solve the system\n",
        "solution = solve((eq1, eq2, eq3), (x, y, z))\n",
        "\n",
        "# Extract solutions\n",
        "x_val = round(int(solution[x]))\n",
        "y_val = round(int(solution[y]))\n",
        "z_val = round(int(solution[z]))\n",
        "w_val = z_val  # since w = z\n",
        "\n",
        "# Paraffin calculation\n",
        "paraffin_A = 3 * x_val\n",
        "paraffin_B = 5 * y_val\n",
        "paraffin_C = 2 * z_val\n",
        "paraffin_D = 2 * w_val\n",
        "total_paraffin = paraffin_A + paraffin_B + paraffin_C + paraffin_D\n",
        "\n",
        "# Print results\n",
        "print(f\"x (Factory A): {x_val}\")\n",
        "print(f\"y (Factory B): {y_val}\")\n",
        "print(f\"z (Factory C): {z_val}\")\n",
        "print(f\"w (Factory D): {w_val}\")\n",
        "print(f\"Paraffin from A: {paraffin_A}\")\n",
        "print(f\"Paraffin from B: {paraffin_B}\")\n",
        "print(f\"Paraffin from C: {paraffin_C}\")\n",
        "print(f\"Paraffin from D: {paraffin_D}\")\n",
        "print(f\"Total Paraffin: {total_paraffin}\")"
      ],
      "execution_count": 12,
      "outputs": [
        {
          "output_type": "stream",
          "name": "stdout",
          "text": [
            "x (Factory A): 48\n",
            "y (Factory B): 331\n",
            "z (Factory C): 337\n",
            "w (Factory D): 337\n",
            "Paraffin from A: 144\n",
            "Paraffin from B: 1655\n",
            "Paraffin from C: 674\n",
            "Paraffin from D: 674\n",
            "Total Paraffin: 3147\n"
          ]
        }
      ]
    },
    {
      "cell_type": "markdown",
      "metadata": {
        "id": "sSpnIH4Ypzh0"
      },
      "source": [
        "### Selling the first plant (1 point)"
      ]
    },
    {
      "cell_type": "markdown",
      "metadata": {
        "id": "8l3c1GN14EDp"
      },
      "source": [
        "The management is also considering selling the first plant due to aging equipment and high workman's compensation costs for the state it is located in. They would like to know what this would do to their production capability. Specifically, they would like an example of a demand they could not meet with only plants 2 and 3, and also what effect having plant 4 has (recall it is identical to plant 3). They would also like an example of a demand that they could meet with just plants 2 and 3. Any general statements you could make here would be helpful."
      ]
    },
    {
      "cell_type": "markdown",
      "metadata": {
        "id": "qYz46wb2GTo7"
      },
      "source": [
        "Let the number of barrels used by factory $B$, $C$ and $D$ are $y$, $z$ and $w$ respectively.\n",
        "\n",
        "When considering only plants 2 and 3, and demand (5000, 8500, 10000) then we have\n",
        "\n",
        "$$4y + 4z = 5000$$\n",
        "\n",
        "$$14y + 5z = 8500$$\n",
        "\n",
        "$$5y + 12z = 10000$$"
      ]
    },
    {
      "cell_type": "code",
      "metadata": {
        "id": "Ru-prbsHGwH_",
        "colab": {
          "base_uri": "https://localhost:8080/"
        },
        "outputId": "e4d619c4-1419-4d82-bae8-71ba5a346cf4"
      },
      "source": [
        "from sympy import *\n",
        "\n",
        "y, z = symbols('y z')\n",
        "eq1 = Eq(4*y + 4*z, 5000)\n",
        "eq2 = Eq(14*y + 5*z, 8500)\n",
        "eq3 = Eq(5*y + 12*z, 10000)\n",
        "\n",
        "sol_without_d = solve([eq1, eq2, eq3], (y, z))\n",
        "y_val_Aclosed = round(int(solution[y]))\n",
        "z_val_Aclosed = round(int(solution[z]))\n",
        "y_val_Aclosed,z_val_Aclosed\n",
        "if sol_without_d:\n",
        "    y_val_Aclosed,z_val_Aclosed\n",
        "else:\n",
        "    print(\"The system of equations has no solution.\")"
      ],
      "execution_count": 14,
      "outputs": [
        {
          "output_type": "stream",
          "name": "stdout",
          "text": [
            "The system of equations has no solution.\n"
          ]
        }
      ]
    },
    {
      "cell_type": "code",
      "source": [
        "from sympy import symbols, Eq, solve\n",
        "\n",
        "# Define symbols\n",
        "y, z, w = symbols('y z w')\n",
        "\n",
        "# Equations with plant D\n",
        "eq1 = Eq(4*y + 4*z + 4*w, 5000)\n",
        "eq2 = Eq(14*y + 5*z + 5*w, 8500)\n",
        "eq3 = Eq(5*y + 12*z + 12*w, 10000)\n",
        "\n",
        "# Solve\n",
        "sol = solve((eq1, eq2, eq3), (y, z, w))\n",
        "\n",
        "# Check if sol is a list and handle accordingly\n",
        "if isinstance(sol, list):\n",
        "    print(\"Solution with Plant D (multiple solutions possible):\")\n",
        "    for s in sol:  # Iterate through the list of solutions\n",
        "        #print(s) # Print each solution as it is since format may vary.\n",
        "        # If a solution is a dictionary, you can print it similarly as before\n",
        "        if isinstance(s, dict):\n",
        "            for var, val in s.items():\n",
        "                print(f\"{var} = {val}\")\n",
        "        else:\n",
        "            print(\"Solution format is not a dictionary for this instance.\")\n",
        "            print(f\"Solution: {s}\")\n",
        "        print(\"-----\")\n",
        "else:\n",
        "    print(\"Solution with Plant D:\")\n",
        "    for var, val in sol.items():\n",
        "        print(f\"{var} = {val}\")"
      ],
      "metadata": {
        "colab": {
          "base_uri": "https://localhost:8080/"
        },
        "id": "nSQRya5o7zym",
        "outputId": "f69e3c11-aa8e-4478-8c1c-f33d51817d24"
      },
      "execution_count": 15,
      "outputs": [
        {
          "output_type": "stream",
          "name": "stdout",
          "text": [
            "Solution with Plant D (multiple solutions possible):\n"
          ]
        }
      ]
    },
    {
      "cell_type": "markdown",
      "source": [
        "CONCLUSION: With just B and C, the system may be inconsistent or overconstrained for larger demands.\n",
        "\n",
        "Adding plant D increases the system’s degrees of freedom, giving more feasible solutions and production resilience."
      ],
      "metadata": {
        "id": "4LhV_mDuBMC8"
      }
    },
    {
      "cell_type": "markdown",
      "metadata": {
        "id": "bLsK1-zNEP0T"
      },
      "source": [
        "Taking 4th plant into consideration.\n",
        "Let the number of barrels used by factory $B$, $C$ and $D$ are $y$, $z$ and $w$ respectively.\n",
        "\n",
        "Then for demand (5000, 8500, 10000) the system of linear equations will be\n",
        "\n",
        "$$4y + 4z + 4w = 5000$$\n",
        "\n",
        "$$14y + 5z + 5w = 8500$$\n",
        "\n",
        "$$5y + 12z + 12w = 10000$$\n",
        "\n",
        "Solve it using rref form."
      ]
    },
    {
      "cell_type": "code",
      "metadata": {
        "id": "5lqPcpJ9F9xx",
        "colab": {
          "base_uri": "https://localhost:8080/"
        },
        "outputId": "2640e613-dc32-4306-e34f-aa20025da699"
      },
      "source": [
        "from sympy import Matrix\n",
        "\n",
        "# Augmented matrix [A | b]\n",
        "A_aug = Matrix([\n",
        "    [4, 4, 4, 5000],\n",
        "    [14, 5, 5, 8500],\n",
        "    [5, 12, 12, 10000]\n",
        "])\n",
        "\n",
        "# Reduce to RREF\n",
        "rref_matrix, pivot_columns = A_aug.rref()\n",
        "\n",
        "# Display\n",
        "print(\"RREF Matrix:\")\n",
        "print(rref_matrix)\n"
      ],
      "execution_count": 16,
      "outputs": [
        {
          "output_type": "stream",
          "name": "stdout",
          "text": [
            "RREF Matrix:\n",
            "Matrix([[1, 0, 0, 0], [0, 1, 1, 0], [0, 0, 0, 1]])\n"
          ]
        }
      ]
    },
    {
      "cell_type": "code",
      "source": [
        "from sympy import Matrix\n",
        "\n",
        "# STEP 1: Define the augmented matrix\n",
        "A_aug = Matrix([\n",
        "    [4, 4, 4, 5000],\n",
        "    [14, 5, 5, 8500],\n",
        "    [5, 12, 12, 10000]\n",
        "])\n",
        "\n",
        "# STEP 2: Print shape for debugging\n",
        "print(\"Shape of Matrix:\", A_aug.shape)  # Should be (3, 4)\n",
        "\n",
        "# STEP 3: Compute RREF\n",
        "rref_matrix, pivot_columns = A_aug.rref()\n",
        "\n",
        "# STEP 4: Display the result\n",
        "print(\"RREF Matrix:\")\n",
        "print(rref_matrix)\n"
      ],
      "metadata": {
        "colab": {
          "base_uri": "https://localhost:8080/"
        },
        "id": "6VcYDLsUF7zd",
        "outputId": "e0738a7f-30ea-4fe1-8969-470e85a9dfb0"
      },
      "execution_count": 17,
      "outputs": [
        {
          "output_type": "stream",
          "name": "stdout",
          "text": [
            "Shape of Matrix: (3, 4)\n",
            "RREF Matrix:\n",
            "Matrix([[1, 0, 0, 0], [0, 1, 1, 0], [0, 0, 0, 1]])\n"
          ]
        }
      ]
    },
    {
      "cell_type": "code",
      "source": [
        "pivot_columns"
      ],
      "metadata": {
        "id": "olast5RiHRuz"
      },
      "execution_count": null,
      "outputs": []
    },
    {
      "cell_type": "markdown",
      "metadata": {
        "id": "u7SDjgFkP5fj"
      },
      "source": [
        "Now, changing demand to (6600, 5100, 3100) and solving the system of equation using rref form."
      ]
    },
    {
      "cell_type": "code",
      "metadata": {
        "id": "nwSpgbqAGlON",
        "colab": {
          "base_uri": "https://localhost:8080/",
          "height": 78
        },
        "outputId": "906f1563-8b04-470d-8373-87a8bacf8c81"
      },
      "source": [
        "from sympy import Matrix\n",
        "\n",
        "# Construct the augmented matrix [A | b]\n",
        "A_aug = Matrix([\n",
        "    [4, 4, 4, 6600],\n",
        "    [14, 5, 5, 5100],\n",
        "    [5, 12, 12, 3100]\n",
        "])\n",
        "\n",
        "# Compute RREF\n",
        "rref_matrix, pivots = A_aug.rref()\n",
        "\n",
        "# Output result\n",
        "rref_matrix\n"
      ],
      "execution_count": 18,
      "outputs": [
        {
          "output_type": "execute_result",
          "data": {
            "text/plain": [
              "Matrix([\n",
              "[1, 0, 0, 0],\n",
              "[0, 1, 1, 0],\n",
              "[0, 0, 0, 1]])"
            ],
            "text/latex": "$\\displaystyle \\left[\\begin{matrix}1 & 0 & 0 & 0\\\\0 & 1 & 1 & 0\\\\0 & 0 & 0 & 1\\end{matrix}\\right]$"
          },
          "metadata": {},
          "execution_count": 18
        }
      ]
    },
    {
      "cell_type": "markdown",
      "metadata": {
        "id": "fngUPMK_pzh1"
      },
      "source": [
        "### Set rates for Products (1 point)"
      ]
    },
    {
      "cell_type": "markdown",
      "metadata": {
        "id": "8Go0tQYtpzh1"
      },
      "source": [
        "Company wants to set the rates of motor oil, diesel oil, and gasoline. For this purpose they have few suggestions given as follows:\n",
        "\n",
        "* 100, 66, 102 Rupees per gallon,\n",
        "\n",
        "* 104, 64, 100 Rupees per gallon,\n",
        "\n",
        "* 102, 68, 98 Rupees per gallon, and\n",
        "\n",
        "* 96, 68, 100 Rupees per gallon\n",
        "\n",
        "for motor oil, diesel oil, and gasoline respectively.\n",
        "\n",
        "Using matrix multiplication, find the rates which result in maximum total price."
      ]
    },
    {
      "cell_type": "markdown",
      "metadata": {
        "id": "9yRue5zIpzh1"
      },
      "source": [
        "Let $M$ denote the matrix such that rows represents different plants (A, B and C), columns represents different products (motor oil, diesel oil and gasoline) and each value represents production of that product from one barrel of crude oil for that plant.\n",
        "\n",
        "$$M = \\begin{bmatrix}\n",
        "20 & 10 & 5 \\\\\n",
        "4 & 14 & 5  \\\\\n",
        " 4 & 5 & 12  \n",
        "\\end{bmatrix}$$\n",
        "\n",
        "Also, $R$ is a matrix having different rates as its columns.\n",
        "\n",
        "$$R = \\begin{bmatrix}\n",
        "100 & 104 & 102 & 96 \\\\\n",
        "66 & 64 & 68 & 68  \\\\\n",
        "102 & 100 & 98 & 100  \n",
        "\\end{bmatrix}$$"
      ]
    },
    {
      "cell_type": "code",
      "metadata": {
        "id": "Sz5Bef3npzh1"
      },
      "source": [
        "from sympy import Matrix\n",
        "\n",
        "# Production matrix M (plants A, B, C x products: motor oil, diesel oil, gasoline)\n",
        "M = Matrix([\n",
        "    [20, 10, 5],\n",
        "    [4, 14, 5],\n",
        "    [4, 5, 12]\n",
        "])\n",
        "\n",
        "# Rate matrix R (motor oil, diesel oil, gasoline in each column configuration)\n",
        "R = Matrix([\n",
        "    [100, 104, 102, 96],\n",
        "    [66, 64, 68, 68],\n",
        "    [102, 100, 98, 100]\n",
        "])"
      ],
      "execution_count": 19,
      "outputs": []
    },
    {
      "cell_type": "code",
      "source": [
        "# Multiply production and rate matrices\n",
        "revenue_matrix = M * R\n",
        "\n",
        "# Display the result\n",
        "revenue_matrix"
      ],
      "metadata": {
        "colab": {
          "base_uri": "https://localhost:8080/",
          "height": 78
        },
        "id": "GkLbHxnhKpG0",
        "outputId": "8cc1b43f-b227-48ec-820f-be6a6aae1b9a"
      },
      "execution_count": 20,
      "outputs": [
        {
          "output_type": "execute_result",
          "data": {
            "text/plain": [
              "Matrix([\n",
              "[3170, 3220, 3210, 3100],\n",
              "[1834, 1812, 1850, 1836],\n",
              "[1954, 1936, 1924, 1924]])"
            ],
            "text/latex": "$\\displaystyle \\left[\\begin{matrix}3170 & 3220 & 3210 & 3100\\\\1834 & 1812 & 1850 & 1836\\\\1954 & 1936 & 1924 & 1924\\end{matrix}\\right]$"
          },
          "metadata": {},
          "execution_count": 20
        }
      ]
    },
    {
      "cell_type": "code",
      "source": [
        "# Sum revenue per rate combination (column-wise)\n",
        "total_revenues = [sum(revenue_matrix.col(i)) for i in range(revenue_matrix.cols)]\n",
        "\n",
        "# Get the best one\n",
        "max_value = max(total_revenues)\n",
        "best_index = total_revenues.index(max_value) + 1  # +1 for 1-based indexing"
      ],
      "metadata": {
        "id": "9tu4q_B7K4Wd"
      },
      "execution_count": 22,
      "outputs": []
    },
    {
      "cell_type": "code",
      "source": [
        "max_value"
      ],
      "metadata": {
        "colab": {
          "base_uri": "https://localhost:8080/",
          "height": 37
        },
        "id": "l0gR5h2QK-Fk",
        "outputId": "e2197504-4b07-49b8-c7bd-83a584069cd7"
      },
      "execution_count": 23,
      "outputs": [
        {
          "output_type": "execute_result",
          "data": {
            "text/plain": [
              "6984"
            ],
            "text/latex": "$\\displaystyle 6984$"
          },
          "metadata": {},
          "execution_count": 23
        }
      ]
    },
    {
      "cell_type": "code",
      "source": [
        "best_index"
      ],
      "metadata": {
        "colab": {
          "base_uri": "https://localhost:8080/"
        },
        "id": "yyY2sOnELAYy",
        "outputId": "027b8562-3b22-4370-b156-391a65f78736"
      },
      "execution_count": 24,
      "outputs": [
        {
          "output_type": "execute_result",
          "data": {
            "text/plain": [
              "3"
            ]
          },
          "metadata": {},
          "execution_count": 24
        }
      ]
    },
    {
      "cell_type": "markdown",
      "metadata": {
        "id": "cga8JrkApzh1"
      },
      "source": [
        "### Marginal Cost (1 point)"
      ]
    },
    {
      "cell_type": "markdown",
      "metadata": {
        "id": "8nN5V5NXpzh2"
      },
      "source": [
        "The total cost $C(x)$ in Rupees, associated with the production of $x$ gallons of gasoline is given by\n",
        "\n",
        "$$C(x) = 0.005 x^3 – 0.02 x^2 + 30x + 5000$$\n",
        "\n",
        "Find the marginal cost when $22$ gallons are produced, where, marginal cost means the instantaneous rate of change of total cost at any level of output."
      ]
    },
    {
      "cell_type": "code",
      "metadata": {
        "id": "rO-HMED3pzh2",
        "colab": {
          "base_uri": "https://localhost:8080/"
        },
        "outputId": "bb208b67-e747-4642-c9ee-199019b81763"
      },
      "source": [
        "from sympy import symbols, diff\n",
        "\n",
        "# Define the symbol and cost function\n",
        "x = symbols('x')\n",
        "C = 0.005*x**3 - 0.02*x**2 + 30*x + 5000\n",
        "\n",
        "# Compute derivative (marginal cost function)\n",
        "C_prime = diff(C, x)\n",
        "\n",
        "# Evaluate marginal cost at x = 22\n",
        "marginal_cost_at_22 = C_prime.subs(x, 22)\n",
        "\n",
        "print(f\"Marginal Cost at x = 22 is: ₹{marginal_cost_at_22:.2f}\")"
      ],
      "execution_count": 25,
      "outputs": [
        {
          "output_type": "stream",
          "name": "stdout",
          "text": [
            "Marginal Cost at x = 22 is: ₹36.38\n"
          ]
        }
      ]
    },
    {
      "cell_type": "markdown",
      "metadata": {
        "id": "qOMlrDEhpzh2"
      },
      "source": [
        "### Marginal Revenue (1 point)"
      ]
    },
    {
      "cell_type": "markdown",
      "metadata": {
        "id": "bfS88lmWpzh2"
      },
      "source": [
        "The total revenue in Rupees received from the sale of $x$ gallons of a motor oil is given by $$R(x) = 3x^2 + 36x + 5.$$\n",
        "\n",
        "Find the marginal revenue, when $x = 28$, where, marginal revenue means the rate of change of total revenue with respect to the number of items sold at an instant."
      ]
    },
    {
      "cell_type": "code",
      "metadata": {
        "id": "rb0h6p49pzh2",
        "colab": {
          "base_uri": "https://localhost:8080/"
        },
        "outputId": "26316995-d797-4dd2-8bc0-12428e6e9bec"
      },
      "source": [
        "from sympy import symbols, diff\n",
        "\n",
        "# Define the symbol and revenue function\n",
        "x = symbols('x')\n",
        "R = 3*x**2 + 36*x + 5\n",
        "\n",
        "# Compute derivative (marginal revenue)\n",
        "R_prime = diff(R, x)\n",
        "\n",
        "# Evaluate marginal revenue at x = 28\n",
        "marginal_revenue_at_28 = R_prime.subs(x, 28)\n",
        "\n",
        "print(f\"Marginal Revenue at x = 28 is: ₹{marginal_revenue_at_28}\")\n"
      ],
      "execution_count": 26,
      "outputs": [
        {
          "output_type": "stream",
          "name": "stdout",
          "text": [
            "Marginal Revenue at x = 28 is: ₹204\n"
          ]
        }
      ]
    },
    {
      "cell_type": "markdown",
      "metadata": {
        "id": "ZKb5VuM_pzh2"
      },
      "source": [
        "### Pouring crude oil in tank (1 point)"
      ]
    },
    {
      "cell_type": "markdown",
      "metadata": {
        "id": "TD9zv5jPpzh2"
      },
      "source": [
        "In a cylindrical tank of radius 10 meter, crude oil is being poured at the rate of 314 cubic meter per hour. Then find\n",
        "\n",
        "* the rate at which the height of crude oil is increasing in the tank, and\n",
        "* the height of crude oil in tank after 2 hours."
      ]
    },
    {
      "cell_type": "markdown",
      "source": [
        "Formula for volume of a cylinder:\n",
        "V=πr2h\n",
        "\n",
        "Rate of change of height\n",
        "𝑑h\n",
        "𝑑t\n",
        "​\n"
      ],
      "metadata": {
        "id": "poPy_sAnMQmB"
      }
    },
    {
      "cell_type": "code",
      "metadata": {
        "id": "g6ntcdNypzh2",
        "colab": {
          "base_uri": "https://localhost:8080/"
        },
        "outputId": "579d031d-9cb6-47db-ad19-ea954386d2a6"
      },
      "source": [
        "import sympy as sp\n",
        "\n",
        "# Given values\n",
        "r = 10  # radius in meters\n",
        "dV_dt = 314  # rate of volume increase in m^3/hour\n",
        "\n",
        "# Define symbols\n",
        "t = sp.symbols('t')\n",
        "h_dt = dV_dt / (sp.pi * r**2)\n",
        "\n",
        "# Rate of change of height\n",
        "h_dt_value = h_dt.evalf()\n",
        "print(f\"Rate at which the height is increasing: {h_dt_value} meters per hour\")\n",
        "\n",
        "# Calculate height after 2 hours\n",
        "h_2_hours = h_dt_value * 2\n",
        "print(f\"Height of crude oil after 2 hours: {h_2_hours} meters\")\n"
      ],
      "execution_count": 27,
      "outputs": [
        {
          "output_type": "stream",
          "name": "stdout",
          "text": [
            "Rate at which the height is increasing: 0.999493042617103 meters per hour\n",
            "Height of crude oil after 2 hours: 1.99898608523421 meters\n"
          ]
        }
      ]
    }
  ]
}