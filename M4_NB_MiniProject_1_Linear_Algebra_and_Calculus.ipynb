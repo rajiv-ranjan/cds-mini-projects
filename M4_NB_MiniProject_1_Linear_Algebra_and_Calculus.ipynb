{
  "nbformat": 4,
  "nbformat_minor": 0,
  "metadata": {
    "colab": {
      "provenance": [],
      "include_colab_link": true
    },
    "kernelspec": {
      "display_name": "Python 3",
      "language": "python",
      "name": "python3"
    },
    "language_info": {
      "codemirror_mode": {
        "name": "ipython",
        "version": 3
      },
      "file_extension": ".py",
      "mimetype": "text/x-python",
      "name": "python",
      "nbconvert_exporter": "python",
      "pygments_lexer": "ipython3",
      "version": "3.8.5"
    }
  },
  "cells": [
    {
      "cell_type": "markdown",
      "metadata": {
        "id": "view-in-github",
        "colab_type": "text"
      },
      "source": [
        "<a href=\"https://colab.research.google.com/github/rajiv-ranjan/cds-mini-projects/blob/Archana/M4_NB_MiniProject_1_Linear_Algebra_and_Calculus.ipynb\" target=\"_parent\"><img src=\"https://colab.research.google.com/assets/colab-badge.svg\" alt=\"Open In Colab\"/></a>"
      ]
    },
    {
      "cell_type": "markdown",
      "metadata": {
        "id": "Vf7UdufgUVRm"
      },
      "source": [
        "# Advanced Certification Program in Computational Data Science\n",
        "## A program by IISc and TalentSprint\n",
        "### Mini Project Notebook: Linear Algebra and Calculus"
      ]
    },
    {
      "cell_type": "markdown",
      "metadata": {
        "id": "TnGEuHJusOup"
      },
      "source": [
        "## Problem Statement"
      ]
    },
    {
      "cell_type": "markdown",
      "metadata": {
        "id": "xlkm2qM2sQ-T"
      },
      "source": [
        " The task is to advise a petroleum company on how to meet the demands of their customers for motor oil, diesel oil and gasoline."
      ]
    },
    {
      "cell_type": "markdown",
      "metadata": {
        "id": "cs0B3ScgUVRv"
      },
      "source": [
        "## Learning Objectives"
      ]
    },
    {
      "cell_type": "markdown",
      "metadata": {
        "id": "Sq5piVQRUVRw"
      },
      "source": [
        "At the end of the experiment, you will be able to\n",
        "\n",
        "* create arrays and matrices in python\n",
        "* understand the concepts of linear equations\n",
        "* solve the system of linear equations"
      ]
    },
    {
      "cell_type": "markdown",
      "metadata": {
        "id": "IvKa0MVttqXf"
      },
      "source": [
        "### Data"
      ]
    },
    {
      "cell_type": "markdown",
      "metadata": {
        "id": "dRrGFyZOtsAj"
      },
      "source": [
        "From a barrel of crude oil, in one day, factory $A$ can produce\n",
        "* 20 gallons of motor oil,\n",
        "* 10 gallons of diesel oil, and\n",
        "* 5 gallons of gasoline\n",
        "\n",
        "Similarly, factory $B$ can produce\n",
        "* 4 gallons of motor oil,\n",
        "* 14 gallons of diesel oil, and\n",
        "* 5 gallons of gasoline\n",
        "\n",
        "while factory $C$ can produce\n",
        "* 4 gallons of motor oil,\n",
        "* 5 gallons of diesel oil, and\n",
        "* 12 gallons of gasoline\n",
        "\n",
        "There is also waste in the form of paraffin, among other things. Factory $A$ has 3 gallons of paraffin to dispose of per barrel of crude, factory $B$ 5 gallons, and factory $C$ 2 gallons."
      ]
    },
    {
      "cell_type": "markdown",
      "metadata": {
        "id": "UK_englE4HnA"
      },
      "source": [
        "**Note:** Your conclusion should include a discussion of the nature of the terms *unique*, *no solution*, *overdetermined* and *underdetermined* as they apply in the context of the oil plants."
      ]
    },
    {
      "cell_type": "markdown",
      "metadata": {
        "id": "operating-latter"
      },
      "source": [
        "## Grading = 10 Points"
      ]
    },
    {
      "cell_type": "code",
      "source": [
        "import numpy as np\n",
        "from scipy.linalg import solve"
      ],
      "metadata": {
        "id": "Np93wxgrz2Z1"
      },
      "execution_count": 1,
      "outputs": []
    },
    {
      "cell_type": "markdown",
      "metadata": {
        "id": "zAitCztdraex"
      },
      "source": [
        "### Create an array\n",
        "\n",
        "Create an array of size 2x3 with arbitrary values."
      ]
    },
    {
      "cell_type": "code",
      "metadata": {
        "id": "owKFXLLzrqVb",
        "colab": {
          "base_uri": "https://localhost:8080/"
        },
        "outputId": "7b88a400-9508-4b1d-d826-c3062a706545"
      },
      "source": [
        "arr = np.array([[1,2,3],[4,5,6]])\n",
        "arr"
      ],
      "execution_count": 2,
      "outputs": [
        {
          "output_type": "execute_result",
          "data": {
            "text/plain": [
              "array([[1, 2, 3],\n",
              "       [4, 5, 6]])"
            ]
          },
          "metadata": {},
          "execution_count": 2
        }
      ]
    },
    {
      "cell_type": "markdown",
      "metadata": {
        "id": "K_7EztnGvzDK"
      },
      "source": [
        "### Create the system of Linear Equations"
      ]
    },
    {
      "cell_type": "markdown",
      "metadata": {
        "id": "zL9M9kmrv_ZA"
      },
      "source": [
        "Suppose the current daily demand from distributors is 6600 gallons of motor oil, 5100 gallons of diesel oil and 3100 of gasoline.\n",
        "\n",
        "Set up the system of equations which describes the above situation. Please include the units as well."
      ]
    },
    {
      "cell_type": "markdown",
      "metadata": {
        "id": "nbOcii0EZpUI"
      },
      "source": [
        "Let the number of barrels used by factory $A$, $B$ and $C$ are $x$, $y$ and $z$ respectively.\n",
        "\n",
        "Then the system of linear equations will be\n",
        "\n",
        "$$Motor\\ oil:\\ \\ \\ 20x + 4y + 4z = 6600$$\n",
        "\n",
        "$$Diesel\\ oil:\\ \\ \\ 10x + 14y + 5z = 5100$$\n",
        "\n",
        "$$Gasoline:\\ \\ \\ 5x + 5y + 12z = 3100$$"
      ]
    },
    {
      "cell_type": "markdown",
      "metadata": {
        "id": "1qLF2LvG2I8Y"
      },
      "source": [
        "### Solve the system of Linear Equation (2 points)"
      ]
    },
    {
      "cell_type": "markdown",
      "metadata": {
        "id": "FzjOkaq21_8L"
      },
      "source": [
        "How many barrels of crude oil each plant should get in order to meet the demand as a group. Remember that we can only provide each plant with an integral number of barrels."
      ]
    },
    {
      "cell_type": "code",
      "metadata": {
        "id": "Plx-kStlcGOW",
        "colab": {
          "base_uri": "https://localhost:8080/"
        },
        "outputId": "9535d750-458e-40e3-83ac-ceb56a61c75b"
      },
      "source": [
        "# YOUR CODE HERE\n",
        "arr1 = np.array([[20,4,4],[10,14,5],[5,5,12]])\n",
        "\n",
        "arr2 = np.array([6600,5100,3100])\n",
        "no_of_barrels = np.round(solve(arr1, arr2)).astype(int)\n",
        "\n",
        "print(f\"Number of barrels required by factory A: {no_of_barrels[0]}\")\n",
        "print(f\"Number of barrels required by factory B: {no_of_barrels[1]}\")\n",
        "print(f\"Number of barrels required by factory C: {no_of_barrels[2]}\")"
      ],
      "execution_count": 3,
      "outputs": [
        {
          "output_type": "stream",
          "name": "stdout",
          "text": [
            "Number of barrels required by factory A: 287\n",
            "Number of barrels required by factory B: 129\n",
            "Number of barrels required by factory C: 85\n"
          ]
        }
      ]
    },
    {
      "cell_type": "markdown",
      "metadata": {
        "id": "nY-rFiKAbVl3"
      },
      "source": [
        "Suppose the total demand for all products **doubled**. What would the solution now be? How does it compare to the original solution? Why, mathematically, should this have been expected?"
      ]
    },
    {
      "cell_type": "code",
      "metadata": {
        "id": "OODSS2bFcjKV",
        "colab": {
          "base_uri": "https://localhost:8080/"
        },
        "outputId": "4fedc9a2-0166-4eb5-8198-af5217a5ad39"
      },
      "source": [
        "# YOUR CODE HERE\n",
        "double_products = 2 * arr2\n",
        "double_barrels = np.round(solve(arr1, double_products)).astype(int)\n",
        "\n",
        "print(f\"Number of barrels required by factory A: {double_barrels[0]}\")\n",
        "print(f\"Number of barrels required by factory B: {double_barrels[1]}\")\n",
        "print(f\"Number of barrels required by factory C: {double_barrels[2]}\")"
      ],
      "execution_count": 4,
      "outputs": [
        {
          "output_type": "stream",
          "name": "stdout",
          "text": [
            "Number of barrels required by factory A: 574\n",
            "Number of barrels required by factory B: 258\n",
            "Number of barrels required by factory C: 170\n"
          ]
        }
      ]
    },
    {
      "cell_type": "markdown",
      "source": [
        "The expected result should be that each factory's barrels also double because the system of linear equations scales linearly."
      ],
      "metadata": {
        "id": "cjUI88AUZdUP"
      }
    },
    {
      "cell_type": "markdown",
      "metadata": {
        "id": "p_1a-z0Gds6D"
      },
      "source": [
        "Suppose that the company acquires another group of distributors and that the daily demand of this group is 2000 gallons of motor oil, 4000 gallons of gasoline, and 4000 gallons of diesel oil. How would you set up production of just this supply? Are there any options (more than one way)?"
      ]
    },
    {
      "cell_type": "code",
      "metadata": {
        "id": "gWaeKh6eQe2W",
        "colab": {
          "base_uri": "https://localhost:8080/"
        },
        "outputId": "2068334d-be65-4142-cea1-c4f7ea2ef4d3"
      },
      "source": [
        "new_arr2 = np.array([2000,4000,4000])\n",
        "new_barrels = np.round(solve(arr1, new_arr2)).astype(int)\n",
        "\n",
        "print(\"Number of barrels for new demand :\")\n",
        "print(f\"Factory A: {new_barrels[0]}\")\n",
        "print(f\"Factory B: {new_barrels[1]}\")\n",
        "print(f\"Factory C: {new_barrels[2]}\")"
      ],
      "execution_count": 5,
      "outputs": [
        {
          "output_type": "stream",
          "name": "stdout",
          "text": [
            "Number of barrels for new demand :\n",
            "Factory A: 12\n",
            "Factory B: 188\n",
            "Factory C: 250\n"
          ]
        }
      ]
    },
    {
      "cell_type": "markdown",
      "metadata": {
        "id": "H4sayZf1etbN"
      },
      "source": [
        "Next, calculate the needs of each factory (in barrels of crude, as usual) to meet the total demand of both groups of distributors. When you have done this, compare your answer to results already obtained. What mathematical conclusion can you draw?"
      ]
    },
    {
      "cell_type": "code",
      "metadata": {
        "id": "Hjm5kcawewgT",
        "colab": {
          "base_uri": "https://localhost:8080/"
        },
        "outputId": "3866952c-0cc4-40ef-9dd7-3cab430b57e4"
      },
      "source": [
        "# YOUR CODE HERE\n",
        "tot_demand = arr2 + new_arr2\n",
        "total_barrels = np.round(solve(arr1, tot_demand)).astype(int)\n",
        "\n",
        "result_obtained = np.concatenate((no_of_barrels, new_barrels))\n",
        "\n",
        "print(\"Number of barrels for total demand of distributers :\")\n",
        "print(f\"Factory A: {total_barrels[0]}\")\n",
        "print(f\"Factory B: {total_barrels[1]}\")\n",
        "print(f\"Factory C: {total_barrels[2]}\")\n",
        "\n",
        "print(\"\\nResult obtained earlier :\")\n",
        "print(f\"Factory A: {result_obtained[0]}\")\n",
        "print(f\"Factory B: {result_obtained[1]}\")\n",
        "print(f\"Factory C: {result_obtained[2]}\")"
      ],
      "execution_count": 6,
      "outputs": [
        {
          "output_type": "stream",
          "name": "stdout",
          "text": [
            "Number of barrels for total demand of distributers :\n",
            "Factory A: 300\n",
            "Factory B: 316\n",
            "Factory C: 335\n",
            "\n",
            "Result obtained earlier :\n",
            "Factory A: 287\n",
            "Factory B: 129\n",
            "Factory C: 85\n"
          ]
        }
      ]
    },
    {
      "cell_type": "markdown",
      "source": [
        "Both results are clearly identical"
      ],
      "metadata": {
        "id": "ovY9-SEKmDNL"
      }
    },
    {
      "cell_type": "markdown",
      "metadata": {
        "id": "ov7RWVpSpzhw"
      },
      "source": [
        "### Sensitivity and Robustness (1 point)"
      ]
    },
    {
      "cell_type": "markdown",
      "metadata": {
        "id": "G1MVw0x_fQMC"
      },
      "source": [
        "In real life applications, constants are rarely ever exactly equal to their stated value; certain amounts of uncertainty are always present. This is part of the reason for the science of statistics. In the above model, the daily productions for the plants would be averages over a period of time. Explore what effect small changes in the parameters have on the output.\n",
        "\n",
        "To do this, pick any 3 coefficients, one at a time, and increase or decrease them by 3%. For each case , note what effect this has on the solution, as a percentage change. Can you draw any overall conclusion?"
      ]
    },
    {
      "cell_type": "code",
      "metadata": {
        "id": "ObBZDKvYfqie",
        "colab": {
          "base_uri": "https://localhost:8080/"
        },
        "outputId": "a3660434-a39c-4ea5-ec20-df7da724efc8"
      },
      "source": [
        "A = np.array([\n",
        "    [20, 4, 4],\n",
        "    [10, 14, 5],\n",
        "    [5, 5, 12]\n",
        "])\n",
        "\n",
        "B = np.array([6600, 5100, 3100])\n",
        "\n",
        "# Function to compute percentage change in solution due to parameter variation\n",
        "def compute_percentage_change(A, B, param_indices, variation):\n",
        "    original_solution = solve(A, B)\n",
        "    results = []\n",
        "\n",
        "    for idx in param_indices:\n",
        "        A_modified = A.copy()\n",
        "\n",
        "        # Apply variation (+3% or -3%)\n",
        "        A_modified.flat[idx] *= (1 + variation)\n",
        "\n",
        "        # Solve with modified coefficients\n",
        "        modified_solution = solve(A_modified, B)\n",
        "\n",
        "        # Compute percentage change in solution\n",
        "        percentage_change = ((modified_solution - original_solution) / original_solution) * 100\n",
        "        results.append((idx, percentage_change))\n",
        "\n",
        "    return results\n",
        "\n",
        "# Indices of coefficients to vary (e.g., A[0,0], A[1,1], A[2,2] in flattened form)\n",
        "param_indices = [0, 4, 8]  # Corresponds to A[0,0], A[1,1], and A[2,2]\n",
        "\n",
        "# Increase by 3%\n",
        "results_increase = compute_percentage_change(A, B, param_indices, 0.03)\n",
        "\n",
        "# Decrease by 3%\n",
        "results_decrease = compute_percentage_change(A, B, param_indices, -0.03)\n",
        "\n",
        "# Display results\n",
        "print(\"Percentage change when coefficients are increased by 3%:\")\n",
        "for idx, change in results_increase:\n",
        "    print(f\"Coefficient {idx}: {change}\")\n",
        "\n",
        "print(\"\\nPercentage change when coefficients are decreased by 3%:\")\n",
        "for idx, change in results_decrease:\n",
        "    print(f\"Coefficient {idx}: {change}\")\n"
      ],
      "execution_count": 7,
      "outputs": [
        {
          "output_type": "stream",
          "name": "stdout",
          "text": [
            "Percentage change when coefficients are increased by 3%:\n",
            "Coefficient 0: [0. 0. 0.]\n",
            "Coefficient 4: [0. 0. 0.]\n",
            "Coefficient 8: [0. 0. 0.]\n",
            "\n",
            "Percentage change when coefficients are decreased by 3%:\n",
            "Coefficient 0: [ 6.33584404 -9.39084875 -2.99460502]\n",
            "Coefficient 4: [-0.57569007 10.09174312 -5.5585537 ]\n",
            "Coefficient 8: [-0.49318248 -1.83387271 11.11111111]\n"
          ]
        }
      ]
    },
    {
      "cell_type": "markdown",
      "metadata": {
        "id": "JOj5wcxQpzhx"
      },
      "source": [
        "### A Plant Off-Line (1 point)"
      ]
    },
    {
      "cell_type": "markdown",
      "metadata": {
        "id": "Dbm0HcJ7frNz"
      },
      "source": [
        "Suppose factory $C$ is shut down by the EPA (Environmental Protection Agency) temporarily for excessive emissions into the atmosphere. If your demand is as it was originally (6600, 5100, 3100), what would you now say about the companies ability to meet it? What do you recommend they schedule for production now?"
      ]
    },
    {
      "cell_type": "code",
      "metadata": {
        "id": "gpbtzvrVAST3",
        "colab": {
          "base_uri": "https://localhost:8080/"
        },
        "outputId": "e62bed23-5cd4-4998-ff3d-9fac84f56a34"
      },
      "source": [
        "Arr = np.array([\n",
        "        [20, 4],\n",
        "        [10, 14],\n",
        "        [5, 5]])\n",
        "\n",
        "demand_arr = np.array([6600, 5100, 3100])\n",
        "\n",
        "solution, residuals, rank, s = np.linalg.lstsq(Arr, B, rcond=None)\n",
        "solution_rounded = np.round(solution)\n",
        "\n",
        "# @ matrix multiplication operator\n",
        "resulting_production = Arr @ solution_rounded\n",
        "\n",
        "print(\"Solution (exact):\", solution)\n",
        "print(\"Rounded solution (practical barrels):\", solution_rounded)\n",
        "print(\"Resulting production with rounded solution:\", resulting_production)\n",
        "print(\"Residuals (unmet demand):\", B - resulting_production)"
      ],
      "execution_count": 12,
      "outputs": [
        {
          "output_type": "stream",
          "name": "stdout",
          "text": [
            "Solution (exact): [299.47204969 168.47826087]\n",
            "Rounded solution (practical barrels): [299. 168.]\n",
            "Resulting production with rounded solution: [6652. 5342. 2335.]\n",
            "Residuals (unmet demand): [ -52. -242.  765.]\n"
          ]
        }
      ]
    },
    {
      "cell_type": "markdown",
      "metadata": {
        "id": "tZpzEVmEpzhx"
      },
      "source": [
        "### Buying another plant"
      ]
    },
    {
      "cell_type": "markdown",
      "metadata": {
        "id": "X0ghbS-s3Mel"
      },
      "source": [
        "####(Note the following given information. You will see questions in continuation to this, in the subsequent sections)\n",
        "\n",
        "This situation has caused enough concern that the CEO is considering buying another plant, identical to the third, and using it permanently. Assuming that all 4 plants are on line, what production do you recommend to meet the current demand (5000, 8500, 10000)? In general, what can you say about any increased flexibility that the 4th plant might provide?"
      ]
    },
    {
      "cell_type": "markdown",
      "metadata": {
        "id": "IcbiTq8zpzhx"
      },
      "source": [
        "Let the number of barrels used by factory $A$, $B$, $C$ and $D$ are $x$, $y$, $z$ and $w$ respectively.\n",
        "\n",
        "Then the system of linear equations will be\n",
        "\n",
        "$$20x + 4y + 4z + 4w = 5000$$\n",
        "\n",
        "$$10x + 14y + 5z + 5w = 8500$$\n",
        "\n",
        "$$5x + 5y + 12z + 12w = 10000$$\n",
        "\n",
        "The above system of linear equation has fewer equations than variables, hence it is *underdetermined* and cannot have a unique solution. In this case, there are either infinitely many solutions or no exact solution. We can solve it by keeping $w$ as constant and using [rref](http://linear.ups.edu/html/section-RREF.html) form to solve the system of linear equation.\n",
        "\n",
        "To know about rref implementation in python refer [here](https://docs.sympy.org/latest/tutorial/matrices.html#rref)."
      ]
    },
    {
      "cell_type": "code",
      "metadata": {
        "id": "DnCYG65tB8gp",
        "colab": {
          "base_uri": "https://localhost:8080/"
        },
        "outputId": "bc2b78ee-c49a-4fb0-bf78-6a2b2137b274"
      },
      "source": [
        "import sympy as sy\n",
        "\n",
        "# create symbol 'w'\n",
        "w = sy.Symbol(\"w\")\n",
        "A_aug = sy.Matrix([[20, 4, 4, 5000-4*w],\n",
        "                   [10, 14, 5, 8500-5*w],\n",
        "                   [5, 5, 12, 10000-12*w]])\n",
        "# show rref form\n",
        "A_aug.rref()"
      ],
      "execution_count": 10,
      "outputs": [
        {
          "output_type": "execute_result",
          "data": {
            "text/plain": [
              "(Matrix([\n",
              " [1, 0, 0,   195/4],\n",
              " [0, 1, 0,  1325/4],\n",
              " [0, 0, 1, 675 - w]]),\n",
              " (0, 1, 2))"
            ]
          },
          "metadata": {},
          "execution_count": 10
        }
      ]
    },
    {
      "cell_type": "markdown",
      "metadata": {
        "id": "1lcEL3n5pzhz"
      },
      "source": [
        "From the above result, it can be seen that 4th plant will share the number of barrels required by the 3rd plant only, while the requirement of 1st and 2nd plant will remain unaffected."
      ]
    },
    {
      "cell_type": "markdown",
      "metadata": {
        "id": "yE9hCfAMpzhz"
      },
      "source": [
        "### Calculate the amount of Paraffin supplied (1 point)"
      ]
    },
    {
      "cell_type": "markdown",
      "metadata": {
        "id": "u9HSGUeZquXD"
      },
      "source": [
        "The company has just found a candle company that will buy its paraffin. Under the current conditions (i.e, after buying another plant) for demand (5000, 8500, 10000), how much can be supplied to them per day?"
      ]
    },
    {
      "cell_type": "markdown",
      "metadata": {
        "id": "ilEui1GHA3Oh"
      },
      "source": [
        "According to the problem statement, factory $A$ has 3 gallons of paraffin to dispose of per barrel of crude oil, factory $B$ 5 gallons, and factory $C$ 2 gallons."
      ]
    },
    {
      "cell_type": "code",
      "metadata": {
        "id": "gJnUalG2_r0i",
        "colab": {
          "base_uri": "https://localhost:8080/"
        },
        "outputId": "9e6f6baa-eb0c-4c38-a57c-4f0bf2cc198e"
      },
      "source": [
        "A = np.array([\n",
        "    [20, 4, 4, 4],\n",
        "    [10, 14, 5, 5],\n",
        "    [5, 5, 12, 12]])\n",
        "\n",
        "B = np.array([5000, 8500, 10000])\n",
        "\n",
        "# Solve for x, y, z, w\n",
        "solution = np.linalg.lstsq(A, B, rcond=None)[0]\n",
        "\n",
        "# Compute the total paraffin supplied\n",
        "paraffin_per_barrel = np.array([3, 5, 2, 2])  # Paraffin gallons per barrel for each factory\n",
        "total_paraffin = np.dot(paraffin_per_barrel, solution)\n",
        "\n",
        "# Print the solution and total paraffin\n",
        "print(\"Number of barrels allocated to each factory (x, y, z, w):\", solution)\n",
        "print(\"Total paraffin supplied:\", total_paraffin)"
      ],
      "execution_count": 15,
      "outputs": [
        {
          "output_type": "stream",
          "name": "stdout",
          "text": [
            "Number of barrels allocated to each factory (x, y, z, w): [ 48.75 331.25 337.5  337.5 ]\n",
            "Total paraffin supplied: 3152.500000000002\n"
          ]
        }
      ]
    },
    {
      "cell_type": "markdown",
      "metadata": {
        "id": "sSpnIH4Ypzh0"
      },
      "source": [
        "### Selling the first plant (1 point)"
      ]
    },
    {
      "cell_type": "markdown",
      "metadata": {
        "id": "8l3c1GN14EDp"
      },
      "source": [
        "The management is also considering selling the first plant due to aging equipment and high workman's compensation costs for the state it is located in. They would like to know what this would do to their production capability. Specifically, they would like an example of a demand they could not meet with only plants 2 and 3, and also what effect having plant 4 has (recall it is identical to plant 3). They would also like an example of a demand that they could meet with just plants 2 and 3. Any general statements you could make here would be helpful."
      ]
    },
    {
      "cell_type": "markdown",
      "metadata": {
        "id": "qYz46wb2GTo7"
      },
      "source": [
        "Let the number of barrels used by factory $B$, $C$ and $D$ are $y$, $z$ and $w$ respectively.\n",
        "\n",
        "When considering only plants 2 and 3, and demand (5000, 8500, 10000) then we have\n",
        "\n",
        "$$4y + 4z = 5000$$\n",
        "\n",
        "$$14y + 5z = 8500$$\n",
        "\n",
        "$$5y + 12z = 10000$$"
      ]
    },
    {
      "cell_type": "code",
      "metadata": {
        "id": "Ru-prbsHGwH_",
        "colab": {
          "base_uri": "https://localhost:8080/"
        },
        "outputId": "eeb49f46-27fe-4cf0-c0b2-da81cd7cffde"
      },
      "source": [
        "A_bc = np.array([\n",
        "    [4, 4],\n",
        "    [14, 5],\n",
        "    [5, 12]\n",
        "])\n",
        "B = np.array([5000, 8500, 10000])\n",
        "\n",
        "# Attempt to solve using least squares\n",
        "solution_bc, residuals, rank, s = np.linalg.lstsq(A_bc, B, rcond=None)\n",
        "\n",
        "# Check feasibility (residuals should be close to 0)\n",
        "print(\"Plants B and C\")\n",
        "print(\"Solution (y, z):\", solution_bc)\n",
        "print(\"Residuals:\", residuals)\n",
        "\n",
        "demand_met_bc = np.allclose(A_bc @ solution_bc, B, atol=1e-3)\n",
        "print(f\"Demands met with Plants B and C: {demand_met_bc}\")"
      ],
      "execution_count": 17,
      "outputs": [
        {
          "output_type": "stream",
          "name": "stdout",
          "text": [
            "Plants B and C\n",
            "Solution (y, z): [369.30178881 695.03750721]\n",
            "Residuals: [607616.84939411]\n",
            "Demands met with Plants B and C: False\n"
          ]
        }
      ]
    },
    {
      "cell_type": "markdown",
      "metadata": {
        "id": "bLsK1-zNEP0T"
      },
      "source": [
        "Taking 4th plant into consideration.\n",
        "Let the number of barrels used by factory $B$, $C$ and $D$ are $y$, $z$ and $w$ respectively.\n",
        "\n",
        "Then for demand (5000, 8500, 10000) the system of linear equations will be\n",
        "\n",
        "$$4y + 4z + 4w = 5000$$\n",
        "\n",
        "$$14y + 5z + 5w = 8500$$\n",
        "\n",
        "$$5y + 12z + 12w = 10000$$\n",
        "\n",
        "Solve it using rref form."
      ]
    },
    {
      "cell_type": "code",
      "metadata": {
        "id": "5lqPcpJ9F9xx",
        "colab": {
          "base_uri": "https://localhost:8080/"
        },
        "outputId": "b92d5fa5-0916-47fa-fc15-e7f46437bae4"
      },
      "source": [
        "# Define the augmented matrix\n",
        "A_aug = sy.Matrix([\n",
        "    [4, 4, 4, 5000],\n",
        "    [14, 5, 5, 8500],\n",
        "    [5, 12, 12, 10000]\n",
        "])\n",
        "\n",
        "# Compute the RREF\n",
        "A_aug.rref()\n",
        "#A_rref, pivot_columns = A_aug.rref()\n",
        "\n",
        "# Print the RREF result\n",
        "#print(\"RREF of the augmented matrix:\")\n",
        "#print(A_rref)"
      ],
      "execution_count": 20,
      "outputs": [
        {
          "output_type": "execute_result",
          "data": {
            "text/plain": [
              "(Matrix([\n",
              " [1, 0, 0, 0],\n",
              " [0, 1, 1, 0],\n",
              " [0, 0, 0, 1]]),\n",
              " (0, 1, 3))"
            ]
          },
          "metadata": {},
          "execution_count": 20
        }
      ]
    },
    {
      "cell_type": "markdown",
      "metadata": {
        "id": "u7SDjgFkP5fj"
      },
      "source": [
        "Now, changing demand to (6600, 5100, 3100) and solving the system of equation using rref form."
      ]
    },
    {
      "cell_type": "code",
      "metadata": {
        "id": "nwSpgbqAGlON",
        "colab": {
          "base_uri": "https://localhost:8080/"
        },
        "outputId": "795e1e83-75e8-4c72-f9ef-83ad5223f5d7"
      },
      "source": [
        "A_aug = sy.Matrix([\n",
        "    [4, 4, 4, 6600],\n",
        "    [14, 5, 5, 5100],\n",
        "    [5, 12, 12, 3100]\n",
        "])\n",
        "\n",
        "A_aug.rref()"
      ],
      "execution_count": 21,
      "outputs": [
        {
          "output_type": "execute_result",
          "data": {
            "text/plain": [
              "(Matrix([\n",
              " [1, 0, 0, 0],\n",
              " [0, 1, 1, 0],\n",
              " [0, 0, 0, 1]]),\n",
              " (0, 1, 3))"
            ]
          },
          "metadata": {},
          "execution_count": 21
        }
      ]
    },
    {
      "cell_type": "markdown",
      "source": [
        "the matrix confirms that it is mathematically impossible to meet the given demand with the current constraints of Plants B, C, and D."
      ],
      "metadata": {
        "id": "A7Ld1ZixE6GZ"
      }
    },
    {
      "cell_type": "markdown",
      "metadata": {
        "id": "fngUPMK_pzh1"
      },
      "source": [
        "### Set rates for Products (1 point)"
      ]
    },
    {
      "cell_type": "markdown",
      "metadata": {
        "id": "8Go0tQYtpzh1"
      },
      "source": [
        "Company wants to set the rates of motor oil, diesel oil, and gasoline. For this purpose they have few suggestions given as follows:\n",
        "\n",
        "* 100, 66, 102 Rupees per gallon,\n",
        "\n",
        "* 104, 64, 100 Rupees per gallon,\n",
        "\n",
        "* 102, 68, 98 Rupees per gallon, and\n",
        "\n",
        "* 96, 68, 100 Rupees per gallon\n",
        "\n",
        "for motor oil, diesel oil, and gasoline respectively.\n",
        "\n",
        "Using matrix multiplication, find the rates which result in maximum total price."
      ]
    },
    {
      "cell_type": "markdown",
      "metadata": {
        "id": "9yRue5zIpzh1"
      },
      "source": [
        "Let $M$ denote the matrix such that rows represents different plants (A, B and C), columns represents different products (motor oil, diesel oil and gasoline) and each value represents production of that product from one barrel of crude oil for that plant.\n",
        "\n",
        "$$M = \\begin{bmatrix}\n",
        "20 & 10 & 5 \\\\\n",
        "4 & 14 & 5  \\\\\n",
        " 4 & 5 & 12  \n",
        "\\end{bmatrix}$$\n",
        "\n",
        "Also, $R$ is a matrix having different rates as its columns.\n",
        "\n",
        "$$R = \\begin{bmatrix}\n",
        "100 & 104 & 102 & 96 \\\\\n",
        "66 & 64 & 68 & 68  \\\\\n",
        "102 & 100 & 98 & 100  \n",
        "\\end{bmatrix}$$"
      ]
    },
    {
      "cell_type": "code",
      "metadata": {
        "id": "Sz5Bef3npzh1",
        "colab": {
          "base_uri": "https://localhost:8080/"
        },
        "outputId": "5169b517-8301-4417-9084-6735dcf4dcb2"
      },
      "source": [
        "# production matrix M\n",
        "M = np.array([\n",
        "    [20, 10, 5],\n",
        "    [4, 14, 5],\n",
        "    [4, 5, 12]\n",
        "])\n",
        "\n",
        "# rate matrix R\n",
        "R = np.array([\n",
        "    [100, 104, 102, 96],\n",
        "    [66, 64, 68, 68],\n",
        "    [102, 100, 98, 100]\n",
        "])\n",
        "\n",
        "# Perform matrix multiplication to calculate total prices\n",
        "total_prices = M @ R\n",
        "\n",
        "# Find the rates that result in the maximum total price\n",
        "max_total_price = np.max(total_prices, axis=1)\n",
        "best_rates_indices = np.argmax(total_prices, axis=1)\n",
        "\n",
        "# Display results\n",
        "total_prices, max_total_price, best_rates_indices\n"
      ],
      "execution_count": 22,
      "outputs": [
        {
          "output_type": "execute_result",
          "data": {
            "text/plain": [
              "(array([[3170, 3220, 3210, 3100],\n",
              "        [1834, 1812, 1850, 1836],\n",
              "        [1954, 1936, 1924, 1924]]),\n",
              " array([3220, 1850, 1954]),\n",
              " array([1, 2, 0]))"
            ]
          },
          "metadata": {},
          "execution_count": 22
        }
      ]
    },
    {
      "cell_type": "markdown",
      "source": [
        "Best Rate Combinations for Each Plant:\n",
        "\n",
        "Plant A prefers rates: [104, 64, 100] (2nd column of R).\n",
        "\n",
        "Plant B prefers rates: [102, 68, 98] (3rd column of R).\n",
        "\n",
        "Plant C prefers rates: [100, 66, 102] (1st column of R)."
      ],
      "metadata": {
        "id": "K5oMjRs8Iite"
      }
    },
    {
      "cell_type": "markdown",
      "metadata": {
        "id": "cga8JrkApzh1"
      },
      "source": [
        "### Marginal Cost (1 point)"
      ]
    },
    {
      "cell_type": "markdown",
      "metadata": {
        "id": "8nN5V5NXpzh2"
      },
      "source": [
        "The total cost $C(x)$ in Rupees, associated with the production of $x$ gallons of gasoline is given by\n",
        "\n",
        "$$C(x) = 0.005 x^3 – 0.02 x^2 + 30x + 5000$$\n",
        "\n",
        "Find the marginal cost when $22$ gallons are produced, where, marginal cost means the instantaneous rate of change of total cost at any level of output."
      ]
    },
    {
      "cell_type": "code",
      "metadata": {
        "id": "rO-HMED3pzh2",
        "colab": {
          "base_uri": "https://localhost:8080/"
        },
        "outputId": "0f815904-eefa-4f73-c8d3-8535d7e6ac4f"
      },
      "source": [
        "# Define the cost function C(x)\n",
        "x = sy.Symbol('x')\n",
        "C = 0.005 * x**3 - 0.02 * x**2 + 30 * x + 5000\n",
        "\n",
        "# Calculate the derivative of C(x), which is the marginal cost\n",
        "marginal_cost = sy.diff(C, x)\n",
        "\n",
        "# Evaluate the marginal cost when x = 22\n",
        "marginal_cost_at_22 = marginal_cost.subs(x, 22)\n",
        "\n",
        "print(f\"Marginal cost function : {marginal_cost}\")\n",
        "print(f\"Marginal cost at 22 gallons : {marginal_cost_at_22}\")"
      ],
      "execution_count": 25,
      "outputs": [
        {
          "output_type": "stream",
          "name": "stdout",
          "text": [
            "Marginal cost function : 0.015*x**2 - 0.04*x + 30\n",
            "Marginal cost at 22 gallons : 36.3800000000000\n"
          ]
        }
      ]
    },
    {
      "cell_type": "markdown",
      "source": [
        "The marginal cost when 22 gallons are produced is 36.38 Rupees per gallon."
      ],
      "metadata": {
        "id": "EvdRsbZnMa8O"
      }
    },
    {
      "cell_type": "markdown",
      "metadata": {
        "id": "qOMlrDEhpzh2"
      },
      "source": [
        "### Marginal Revenue (1 point)"
      ]
    },
    {
      "cell_type": "markdown",
      "metadata": {
        "id": "bfS88lmWpzh2"
      },
      "source": [
        "The total revenue in Rupees received from the sale of $x$ gallons of a motor oil is given by $$R(x) = 3x^2 + 36x + 5.$$\n",
        "\n",
        "Find the marginal revenue, when $x = 28$, where, marginal revenue means the rate of change of total revenue with respect to the number of items sold at an instant."
      ]
    },
    {
      "cell_type": "code",
      "metadata": {
        "id": "rb0h6p49pzh2",
        "colab": {
          "base_uri": "https://localhost:8080/"
        },
        "outputId": "861ace1e-04e1-43a9-bb49-ad91e8c5c298"
      },
      "source": [
        "x = sy.Symbol('x')\n",
        "R = 3 * x**2 + 36 * x + 5\n",
        "\n",
        "# Differentiate R(x) to find the marginal revenue\n",
        "marginal_revenue = sy.diff(R, x)\n",
        "\n",
        "# Evaluate the marginal revenue when x = 28\n",
        "marginal_revenue_at_28 = marginal_revenue.subs(x, 28)\n",
        "\n",
        "# Print the results\n",
        "print(f\"Marginal Revenue Function: {marginal_revenue}\")\n",
        "print(f\"Marginal Revenue at 28 gallons: {marginal_revenue_at_28}\")"
      ],
      "execution_count": 26,
      "outputs": [
        {
          "output_type": "stream",
          "name": "stdout",
          "text": [
            "Marginal Revenue Function: 6*x + 36\n",
            "Marginal Revenue at 28 gallons: 204\n"
          ]
        }
      ]
    },
    {
      "cell_type": "markdown",
      "source": [
        "The marginal revenue when\n",
        "𝑥\n",
        "=\n",
        "28\n",
        "x=28 gallons are sold is 204 Rupees per gallon."
      ],
      "metadata": {
        "id": "udWqGSkoMZIk"
      }
    },
    {
      "cell_type": "markdown",
      "metadata": {
        "id": "ZKb5VuM_pzh2"
      },
      "source": [
        "### Pouring crude oil in tank (1 point)"
      ]
    },
    {
      "cell_type": "markdown",
      "metadata": {
        "id": "TD9zv5jPpzh2"
      },
      "source": [
        "In a cylindrical tank of radius 10 meter, crude oil is being poured at the rate of 314 cubic meter per hour. Then find\n",
        "\n",
        "* the rate at which the height of crude oil is increasing in the tank, and\n",
        "* the height of crude oil in tank after 2 hours."
      ]
    },
    {
      "cell_type": "code",
      "metadata": {
        "id": "g6ntcdNypzh2",
        "colab": {
          "base_uri": "https://localhost:8080/"
        },
        "outputId": "84976a87-e8eb-4224-9b39-92c118551121"
      },
      "source": [
        "r = 10  #radius in meters\n",
        "dV_dt = 314  #rate of oil poured in cubic meters per hour\n",
        "t = 2  #time in hours\n",
        "\n",
        "# Calculate dh/dt\n",
        "dh_dt = dV_dt / (sy.pi * r**2)\n",
        "\n",
        "# Calculate height after 2 hours\n",
        "height_after_2_hours = dh_dt * t\n",
        "\n",
        "# Display results\n",
        "print(\"Rate of height increase (dh/dt):\", dh_dt, \"m/hour\")\n",
        "print(\"Height of crude oil after 2 hours:\", height_after_2_hours, \"meters\")"
      ],
      "execution_count": 27,
      "outputs": [
        {
          "output_type": "stream",
          "name": "stdout",
          "text": [
            "Rate of height increase (dh/dt): 157/(50*pi) m/hour\n",
            "Height of crude oil after 2 hours: 157/(25*pi) meters\n"
          ]
        }
      ]
    }
  ]
}