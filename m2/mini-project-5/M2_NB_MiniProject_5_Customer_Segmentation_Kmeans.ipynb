{
 "cells": [
  {
   "cell_type": "markdown",
   "metadata": {
    "id": "aUUu9l_JfJ92"
   },
   "source": [
    "# Advanced Certification Program in Computational Data Science\n",
    "\n",
    "##  A program by IISc and TalentSprint\n",
    "\n",
    "### Mini Project Notebook: Customer segmentation using clustering"
   ]
  },
  {
   "cell_type": "markdown",
   "metadata": {
    "id": "SL3yrUc-XrLS"
   },
   "source": [
    "## Learning Objectives"
   ]
  },
  {
   "cell_type": "markdown",
   "metadata": {
    "id": "7jZ3M2hjiyb0"
   },
   "source": [
    "At the end of the experiment, you will be able to :\n",
    "\n",
    "* extract summary level insight from a given customer dataset.\n",
    "\n",
    "* handle the missing data and identify the underlying pattern or structure of the data.\n",
    "\n",
    "* create an unsupervised model that generates the optimum number of segments for the customer base\n",
    "\n",
    "* identify customer segments based on the overall buying behaviour\n"
   ]
  },
  {
   "cell_type": "markdown",
   "metadata": {
    "id": "-EqvTSjZZIUE"
   },
   "source": [
    "## Dataset"
   ]
  },
  {
   "cell_type": "markdown",
   "metadata": {
    "id": "interior-simple"
   },
   "source": [
    "The dataset chosen for this mini project is the Online Retail dataset. It is a transnational data set which contains all the transactions occurring between 01/12/2010 and 09/12/2011 for a UK-based and registered non-store online retail.\n",
    "\n",
    "The dataset contains 541909 records, and each record is made up of 8 fields.\n",
    "\n",
    "To know more about the dataset : [click here](https://archive.ics.uci.edu/ml/datasets/Online+Retail)"
   ]
  },
  {
   "cell_type": "markdown",
   "metadata": {
    "id": "OnFlaGNVFJI3"
   },
   "source": [
    "## Information"
   ]
  },
  {
   "cell_type": "markdown",
   "metadata": {
    "id": "Pyj3MM1li34l"
   },
   "source": [
    "**Clustering** is the task of grouping together a set of objects so that the objects in the same cluster are more similar to each other than to objects in other clusters. Similarity is a measure that reflects the strength of the relationship between two data objects.\n",
    "\n",
    "In the clustering calculation, K-Means is a very popular algorithm. In this analysis, this method is used to cluster the similar data items.\n",
    "\n",
    "In Retail and E-Commerce (B2C), and more broadly in B2B, one of the key elements shaping the business strategy of a firm is understanding of customer behaviour. More specifically, understanding the customers based on different business metrics: how much they spend (revenue), how often they spend (frequency), are they new or existing customers, what are their favorite products, etc... Such understanding in turn helps direct marketing, sales, account management and product teams to support customers on a personalized level and improve the product offering.\n",
    "\n",
    "Furthermore, segmenting customers into different categories based on similar/cyclical buying pattern over a period of 1 year helps the retail shops manage their inventory better, thereby lowering costs and raising revenues by placing the orders in sync with the buying cycles."
   ]
  },
  {
   "cell_type": "markdown",
   "metadata": {
    "id": "eY8QnQQ_i8oy"
   },
   "source": [
    "## Problem Statement"
   ]
  },
  {
   "cell_type": "markdown",
   "metadata": {
    "id": "MhyOGhrYi8oz"
   },
   "source": [
    "Perform customer segmentation for an Online Retail using an Unsupervised Clustering technique"
   ]
  },
  {
   "cell_type": "markdown",
   "metadata": {
    "id": "operating-latter"
   },
   "source": [
    "## Grading = 10 Points"
   ]
  },
  {
   "cell_type": "markdown",
   "metadata": {
    "id": "abstract-stocks"
   },
   "source": [
    "### Import Required packages"
   ]
  },
  {
   "cell_type": "code",
   "execution_count": 1,
   "metadata": {
    "id": "advisory-knowing"
   },
   "outputs": [],
   "source": [
    "from matplotlib import pyplot as plt\n",
    "import numpy as np\n",
    "import pandas as pd\n",
    "import seaborn as sns\n",
    "import scipy\n",
    "from sklearn.cluster import KMeans\n",
    "from sklearn.model_selection import train_test_split\n",
    "from sklearn.preprocessing import StandardScaler\n",
    "from sklearn.cluster import DBSCAN\n",
    "from utility import download_and_unzip\n"
   ]
  },
  {
   "cell_type": "markdown",
   "metadata": {
    "id": "bound-basement"
   },
   "source": [
    "## Data Wrangling"
   ]
  },
  {
   "cell_type": "code",
   "execution_count": 2,
   "metadata": {
    "cellView": "form",
    "id": "PXJixnAljGfN"
   },
   "outputs": [
    {
     "data": {
      "text/plain": [
       "False"
      ]
     },
     "execution_count": 2,
     "metadata": {},
     "output_type": "execute_result"
    }
   ],
   "source": [
    "# @title Download the data\n",
    "# !wget -qq https://cdn.iisc.talentsprint.com/CDS/MiniProjects/Online_Retail.zip\n",
    "# !unzip -qq Online_Retail.zip\n",
    "\n",
    "download_and_unzip(\n",
    "    url=\"https://cdn.iisc.talentsprint.com/CDS/MiniProjects/Online_Retail.zip\",\n",
    "    filename=\"Online_Retail.zip\",\n",
    ")\n"
   ]
  },
  {
   "cell_type": "markdown",
   "metadata": {
    "id": "7Vu9jhC5jJHs"
   },
   "source": [
    "## Load the data"
   ]
  },
  {
   "cell_type": "code",
   "execution_count": 3,
   "metadata": {
    "id": "RdvmgyZRdZup"
   },
   "outputs": [],
   "source": [
    "# YOUR CODE HERE\n",
    "df = pd.read_csv(\"Online_Retail_Train.csv\")\n"
   ]
  },
  {
   "cell_type": "markdown",
   "metadata": {},
   "source": [
    "## Common Functions\n",
    "1. Remove duplicate data rows: find_and_remove_null_values"
   ]
  },
  {
   "cell_type": "code",
   "execution_count": 6,
   "metadata": {},
   "outputs": [],
   "source": [
    "def find_and_remove_null_values(df_):\n",
    "    df_.isna().sum()\n",
    "    df = df_.dropna()\n",
    "    return df\n"
   ]
  },
  {
   "cell_type": "code",
   "execution_count": 20,
   "metadata": {},
   "outputs": [],
   "source": [
    "def show_basic_details(df_):\n",
    "    print(\"Dataset's datatype, number of rows and columns:\\n\", df_.info(), \"\\n\\n\")\n",
    "    print(\"Statistics of the Numerical variables:\\n\", df_.describe(), \"\\n\\n\")\n",
    "    print(\"Rows with null or empty fields:\\n\", df_.isna().sum(), \"\\n\\n\")\n"
   ]
  },
  {
   "cell_type": "code",
   "execution_count": null,
   "metadata": {},
   "outputs": [],
   "source": [
    "def add_new_column_invoice_type(df_):\n",
    "    df_['InvoiceType'] = df_['InvoiceNo'].apply(lambda x: 'Cancellation' if x.startswith('C') else 'Sale')\n",
    "    return df_\n",
    "\n"
   ]
  },
  {
   "cell_type": "markdown",
   "metadata": {
    "id": "vtV_KWBLUzRk"
   },
   "source": [
    "## Data Pre-processing (2 points)"
   ]
  },
  {
   "cell_type": "markdown",
   "metadata": {
    "id": "VcCVvb_RjPxy"
   },
   "source": [
    "Explore the dataset by performing the following operations:\n",
    "\n",
    "* There is a lot of redundant data. Identify such data and take appropriate action.\n",
    "\n",
    "  **Hint:** refer to this [link](https://pandas.pydata.org/pandas-docs/stable/reference/api/pandas.DataFrame.drop_duplicates.html)\n",
    "\n",
    "* Most Invoices appear as normal transactions with positive quantity and prices, but there are some prefixed with \"C\" or \"A\" which denote different transaction types. Invoice starting with C represents cancelled order and A represents the Adjusted. Identify such data and take appropriate action.\n",
    "\n",
    "  **Hint:** Check the negative values in Quantity column for all cancelled orders\n",
    "\n",
    "* Handle the null values by dropping or filling with appropriate mean\n",
    "\n",
    "\n",
    "* Some of the transactions based on the `StockCode` variable are not actually products, but representing the costs or fees regarding to the post or bank or other tansactions. Find such data and handle it accordingly.\n",
    "\n",
    "  Hint:\n",
    "    - The transaction with `'POST' 'PADS' 'M' 'DOT' 'C2' 'BANK CHARGES'` as their `StockCodes` are considered as irrelevant transactions.\n",
    "\n",
    "* Identify the outliers in the UntiPrice and Quantity and handle them accordingly.\n",
    "\n",
    "  **Hint:** [link](https://thecleverprogrammer.com/2023/07/26/detect-and-remove-outliers-using-python/)\n",
    "\n",
    "* Create a DayOfWeek column using `InvoiceDate`, Hint: pd.to_datetime()\n",
    "\n",
    "**Note:** Perform all the above operations using a function to reuse and apply the same for test data."
   ]
  },
  {
   "cell_type": "code",
   "execution_count": 22,
   "metadata": {},
   "outputs": [
    {
     "data": {
      "text/html": [
       "<div>\n",
       "<style scoped>\n",
       "    .dataframe tbody tr th:only-of-type {\n",
       "        vertical-align: middle;\n",
       "    }\n",
       "\n",
       "    .dataframe tbody tr th {\n",
       "        vertical-align: top;\n",
       "    }\n",
       "\n",
       "    .dataframe thead th {\n",
       "        text-align: right;\n",
       "    }\n",
       "</style>\n",
       "<table border=\"1\" class=\"dataframe\">\n",
       "  <thead>\n",
       "    <tr style=\"text-align: right;\">\n",
       "      <th></th>\n",
       "      <th>InvoiceNo</th>\n",
       "      <th>StockCode</th>\n",
       "      <th>Description</th>\n",
       "      <th>Quantity</th>\n",
       "      <th>InvoiceDate</th>\n",
       "      <th>UnitPrice</th>\n",
       "      <th>CustomerID</th>\n",
       "      <th>Country</th>\n",
       "    </tr>\n",
       "  </thead>\n",
       "  <tbody>\n",
       "    <tr>\n",
       "      <th>0</th>\n",
       "      <td>579427</td>\n",
       "      <td>22636</td>\n",
       "      <td>CHILDS BREAKFAST SET CIRCUS PARADE</td>\n",
       "      <td>2</td>\n",
       "      <td>2011-11-29 13:04:00</td>\n",
       "      <td>8.50</td>\n",
       "      <td>16479.0</td>\n",
       "      <td>United Kingdom</td>\n",
       "    </tr>\n",
       "    <tr>\n",
       "      <th>1</th>\n",
       "      <td>554092</td>\n",
       "      <td>21916</td>\n",
       "      <td>SET 12 RETRO WHITE CHALK STICKS</td>\n",
       "      <td>24</td>\n",
       "      <td>2011-05-22 12:41:00</td>\n",
       "      <td>0.42</td>\n",
       "      <td>17176.0</td>\n",
       "      <td>United Kingdom</td>\n",
       "    </tr>\n",
       "    <tr>\n",
       "      <th>2</th>\n",
       "      <td>577774</td>\n",
       "      <td>84692</td>\n",
       "      <td>BOX OF 24 COCKTAIL PARASOLS</td>\n",
       "      <td>6</td>\n",
       "      <td>2011-11-21 15:57:00</td>\n",
       "      <td>0.42</td>\n",
       "      <td>16712.0</td>\n",
       "      <td>United Kingdom</td>\n",
       "    </tr>\n",
       "    <tr>\n",
       "      <th>3</th>\n",
       "      <td>C571196</td>\n",
       "      <td>23350</td>\n",
       "      <td>ROLL WRAP VINTAGE SPOT</td>\n",
       "      <td>-12</td>\n",
       "      <td>2011-10-14 12:02:00</td>\n",
       "      <td>1.25</td>\n",
       "      <td>NaN</td>\n",
       "      <td>United Kingdom</td>\n",
       "    </tr>\n",
       "    <tr>\n",
       "      <th>4</th>\n",
       "      <td>546649</td>\n",
       "      <td>84509a</td>\n",
       "      <td>SET OF 4 ENGLISH ROSE PLACEMATS</td>\n",
       "      <td>1</td>\n",
       "      <td>2011-03-15 14:17:00</td>\n",
       "      <td>7.46</td>\n",
       "      <td>NaN</td>\n",
       "      <td>United Kingdom</td>\n",
       "    </tr>\n",
       "    <tr>\n",
       "      <th>5</th>\n",
       "      <td>579668</td>\n",
       "      <td>23575</td>\n",
       "      <td>SNACK TRAY PAISLEY PARK</td>\n",
       "      <td>8</td>\n",
       "      <td>2011-11-30 12:32:00</td>\n",
       "      <td>1.95</td>\n",
       "      <td>15152.0</td>\n",
       "      <td>United Kingdom</td>\n",
       "    </tr>\n",
       "    <tr>\n",
       "      <th>6</th>\n",
       "      <td>564758</td>\n",
       "      <td>84951A</td>\n",
       "      <td>SET OF 4 PISTACHIO LOVEBIRD COASTER</td>\n",
       "      <td>1</td>\n",
       "      <td>2011-08-30 10:39:00</td>\n",
       "      <td>2.46</td>\n",
       "      <td>NaN</td>\n",
       "      <td>United Kingdom</td>\n",
       "    </tr>\n",
       "    <tr>\n",
       "      <th>7</th>\n",
       "      <td>547684</td>\n",
       "      <td>23176</td>\n",
       "      <td>ABC TREASURE BOOK BOX</td>\n",
       "      <td>8</td>\n",
       "      <td>2011-03-24 14:46:00</td>\n",
       "      <td>2.25</td>\n",
       "      <td>12408.0</td>\n",
       "      <td>Belgium</td>\n",
       "    </tr>\n",
       "    <tr>\n",
       "      <th>8</th>\n",
       "      <td>575878</td>\n",
       "      <td>21519</td>\n",
       "      <td>GIN &amp; TONIC DIET GREETING CARD</td>\n",
       "      <td>12</td>\n",
       "      <td>2011-11-11 13:29:00</td>\n",
       "      <td>0.42</td>\n",
       "      <td>13588.0</td>\n",
       "      <td>United Kingdom</td>\n",
       "    </tr>\n",
       "    <tr>\n",
       "      <th>9</th>\n",
       "      <td>571273</td>\n",
       "      <td>22898</td>\n",
       "      <td>CHILDRENS APRON APPLES DESIGN</td>\n",
       "      <td>8</td>\n",
       "      <td>2011-10-16 12:21:00</td>\n",
       "      <td>1.95</td>\n",
       "      <td>13034.0</td>\n",
       "      <td>United Kingdom</td>\n",
       "    </tr>\n",
       "  </tbody>\n",
       "</table>\n",
       "</div>"
      ],
      "text/plain": [
       "  InvoiceNo StockCode                          Description  Quantity  \\\n",
       "0    579427     22636   CHILDS BREAKFAST SET CIRCUS PARADE         2   \n",
       "1    554092     21916      SET 12 RETRO WHITE CHALK STICKS        24   \n",
       "2    577774     84692          BOX OF 24 COCKTAIL PARASOLS         6   \n",
       "3   C571196     23350              ROLL WRAP VINTAGE SPOT        -12   \n",
       "4    546649    84509a      SET OF 4 ENGLISH ROSE PLACEMATS         1   \n",
       "5    579668     23575              SNACK TRAY PAISLEY PARK         8   \n",
       "6    564758    84951A  SET OF 4 PISTACHIO LOVEBIRD COASTER         1   \n",
       "7    547684     23176               ABC TREASURE BOOK BOX          8   \n",
       "8    575878     21519      GIN & TONIC DIET GREETING CARD         12   \n",
       "9    571273     22898        CHILDRENS APRON APPLES DESIGN         8   \n",
       "\n",
       "           InvoiceDate  UnitPrice  CustomerID         Country  \n",
       "0  2011-11-29 13:04:00       8.50     16479.0  United Kingdom  \n",
       "1  2011-05-22 12:41:00       0.42     17176.0  United Kingdom  \n",
       "2  2011-11-21 15:57:00       0.42     16712.0  United Kingdom  \n",
       "3  2011-10-14 12:02:00       1.25         NaN  United Kingdom  \n",
       "4  2011-03-15 14:17:00       7.46         NaN  United Kingdom  \n",
       "5  2011-11-30 12:32:00       1.95     15152.0  United Kingdom  \n",
       "6  2011-08-30 10:39:00       2.46         NaN  United Kingdom  \n",
       "7  2011-03-24 14:46:00       2.25     12408.0         Belgium  \n",
       "8  2011-11-11 13:29:00       0.42     13588.0  United Kingdom  \n",
       "9  2011-10-16 12:21:00       1.95     13034.0  United Kingdom  "
      ]
     },
     "execution_count": 22,
     "metadata": {},
     "output_type": "execute_result"
    }
   ],
   "source": [
    "df.head(n=10)\n"
   ]
  },
  {
   "cell_type": "code",
   "execution_count": 23,
   "metadata": {
    "id": "Lj5VPXN1dZuq"
   },
   "outputs": [
    {
     "name": "stdout",
     "output_type": "stream",
     "text": [
      "<class 'pandas.core.frame.DataFrame'>\n",
      "RangeIndex: 514813 entries, 0 to 514812\n",
      "Data columns (total 8 columns):\n",
      " #   Column       Non-Null Count   Dtype  \n",
      "---  ------       --------------   -----  \n",
      " 0   InvoiceNo    514813 non-null  object \n",
      " 1   StockCode    514813 non-null  object \n",
      " 2   Description  513428 non-null  object \n",
      " 3   Quantity     514813 non-null  int64  \n",
      " 4   InvoiceDate  514813 non-null  object \n",
      " 5   UnitPrice    514813 non-null  float64\n",
      " 6   CustomerID   386550 non-null  float64\n",
      " 7   Country      514813 non-null  object \n",
      "dtypes: float64(2), int64(1), object(5)\n",
      "memory usage: 31.4+ MB\n",
      "Dataset's datatype, number of rows and columns:\n",
      " None \n",
      "\n",
      "\n",
      "Statistics of the Numerical variables:\n",
      "             Quantity      UnitPrice     CustomerID\n",
      "count  514813.000000  514813.000000  386550.000000\n",
      "mean        9.552498       4.586406   15288.936753\n",
      "std       223.529242      95.660226    1713.565852\n",
      "min    -80995.000000  -11062.060000   12346.000000\n",
      "25%         1.000000       1.250000   13955.000000\n",
      "50%         3.000000       2.080000   15152.000000\n",
      "75%        10.000000       4.130000   16791.000000\n",
      "max     80995.000000   38970.000000   18287.000000 \n",
      "\n",
      "\n",
      "Rows with null or empty fields:\n",
      " InvoiceNo           0\n",
      "StockCode           0\n",
      "Description      1385\n",
      "Quantity            0\n",
      "InvoiceDate         0\n",
      "UnitPrice           0\n",
      "CustomerID     128263\n",
      "Country             0\n",
      "dtype: int64 \n",
      "\n",
      "\n"
     ]
    }
   ],
   "source": [
    "# YOUR CODE HERE\n",
    "show_basic_details(df)\n"
   ]
  },
  {
   "cell_type": "code",
   "execution_count": 8,
   "metadata": {},
   "outputs": [
    {
     "data": {
      "text/plain": [
       "InvoiceNo           0\n",
       "StockCode           0\n",
       "Description      1385\n",
       "Quantity            0\n",
       "InvoiceDate         0\n",
       "UnitPrice           0\n",
       "CustomerID     128263\n",
       "Country             0\n",
       "dtype: int64"
      ]
     },
     "execution_count": 8,
     "metadata": {},
     "output_type": "execute_result"
    }
   ],
   "source": [
    "# Find and remove the rows with missing values\n",
    "# YOUR CODE HERE\n",
    "df.isna().sum()\n",
    "\n",
    "# df_1 = find_and_remove_null_values(df)\n"
   ]
  },
  {
   "cell_type": "code",
   "execution_count": null,
   "metadata": {},
   "outputs": [],
   "source": [
    "# Add a new column InvoiceType to the dataframe\n",
    "df = add_new_column_invoice_type(df)\n"
   ]
  },
  {
   "cell_type": "markdown",
   "metadata": {
    "id": "graphic-vampire"
   },
   "source": [
    "## Understanding new insights from the data (1 point)"
   ]
  },
  {
   "cell_type": "markdown",
   "metadata": {
    "id": "furnished-station"
   },
   "source": [
    "1.  Are there any free items in the data? How many are there?\n",
    "\n",
    "2.  Find the number of transactions per country and visualize using an appropriate plot\n",
    "\n",
    "3.  What is the ratio of customers who are repeat purchasers vs single-time purchasers? Visualize using an appropriate plot.\n",
    "\n",
    "4. Plot heatmap showing unit price per month and day of the week\n",
    "\n",
    "  **Hint:** Month name as index on Y-axis, Day of the week on X-axis\n",
    "\n",
    "5. Find the top 10 customers who bought the most no.of items. Also find the top 10 Items bought by most no.of customers."
   ]
  },
  {
   "cell_type": "code",
   "execution_count": null,
   "metadata": {
    "id": "Fe-6_IuzFJJM"
   },
   "outputs": [],
   "source": [
    "# YOUR CODE HERE\n"
   ]
  },
  {
   "cell_type": "markdown",
   "metadata": {
    "id": "royal-chancellor"
   },
   "source": [
    "## Feature Engineering and Transformation (2 points)"
   ]
  },
  {
   "cell_type": "markdown",
   "metadata": {
    "id": "dietary-willow"
   },
   "source": [
    "### Create new features to uncover better insights and drop the unwanted columns\n",
    "\n",
    "* Create a new column which represents Total amount spent by each customer\n",
    "\n",
    "    **Hint:** Quantity * UnitPrice\n",
    "\n",
    "* Customer IDs are seen to be repeated. Maintain unique customer IDs by grouping and summing up all possible observations per customer.\n",
    "\n",
    "    **Hint:** [pandas.groupby.agg](https://pandas.pydata.org/pandas-docs/version/0.22/generated/pandas.core.groupby.DataFrameGroupBy.agg.html)\n",
    "\n",
    "**Note:** Perform the above operations in function, to reuse and apply the same for test data"
   ]
  },
  {
   "cell_type": "code",
   "execution_count": null,
   "metadata": {
    "id": "WCRODVjAdZuu"
   },
   "outputs": [],
   "source": [
    "# YOUR CODE HERE\n"
   ]
  },
  {
   "cell_type": "markdown",
   "metadata": {
    "id": "respected-empire"
   },
   "source": [
    "### Scale the data\n",
    "\n",
    "Apply `StandardScaler` on the features."
   ]
  },
  {
   "cell_type": "code",
   "execution_count": null,
   "metadata": {
    "id": "jEsufbR_dZuv"
   },
   "outputs": [],
   "source": [
    "# YOUR CODE HERE for scaling\n"
   ]
  },
  {
   "cell_type": "markdown",
   "metadata": {
    "id": "smooth-florist"
   },
   "source": [
    "## Clustering ( 5 points)"
   ]
  },
  {
   "cell_type": "markdown",
   "metadata": {
    "id": "rn1qD44PI0H_"
   },
   "source": [
    "### Apply k-means algorithm to identify a specific number of clusters\n",
    "\n",
    "\n",
    "* Fit the k-means model\n",
    "\n",
    "* Extract and store the cluster centroids\n",
    "\n",
    "Below are the parameters for k-means, which are helpful\n",
    "\n",
    "**n_clusters** is no. of clusters specified\n",
    "\n",
    "**k-means++** is a random initialization method for centroids to avoid random initialisation trap\n",
    "\n",
    "**max_iter** is max no of iterations defined when k-means is running\n",
    "\n",
    "**n_init** is no. of times k-means will run with different initial centroids\n",
    "\n",
    "[why-is-k-means-slower-than-random-initialization-k-means](https://stats.stackexchange.com/questions/185396/why-is-k-means-slower-than-random-initialization-k-means/185422)"
   ]
  },
  {
   "cell_type": "code",
   "execution_count": null,
   "metadata": {
    "id": "GDjIF0_4HiIM"
   },
   "outputs": [],
   "source": [
    "# YOUR CODE HERE to apply KMeans\n"
   ]
  },
  {
   "cell_type": "markdown",
   "metadata": {
    "id": "bpmFFF3VdZux"
   },
   "source": [
    "#### Find the optimal number of clusters (K) by using the [Elbow method](https://pythonprogramminglanguage.com/kmeans-elbow-method/).\n",
    "\n",
    "Use the optimal no. of clusters and store the cluster centroids"
   ]
  },
  {
   "cell_type": "code",
   "execution_count": null,
   "metadata": {
    "id": "c3Db3IVBdZuy"
   },
   "outputs": [],
   "source": [
    "# YOUR CODE HERE\n"
   ]
  },
  {
   "cell_type": "markdown",
   "metadata": {
    "id": "0q7nKnfVK_Yj"
   },
   "source": [
    "### Apply DBSCAN algorithm for clustering\n",
    "\n",
    "- Compare the results of clusters from k-means and DBSCAN\n"
   ]
  },
  {
   "cell_type": "code",
   "execution_count": null,
   "metadata": {
    "id": "O8ahr6ctjp9o"
   },
   "outputs": [],
   "source": [
    "# YOUR CODE HERE\n"
   ]
  },
  {
   "cell_type": "markdown",
   "metadata": {
    "id": "FarGC20zgjHj"
   },
   "source": [
    "### Analyze the clusters\n",
    "\n",
    "\n",
    "- consider two features and visualize the clusters with different colors using the predicted cluster centers.\n",
    "\n",
    "  **Hint:** 2D plot\n",
    "\n",
    "- consider three features and visualize the clusters with different colors using the predicted cluster centers.\n",
    "\n",
    "  **Hint:** [3D plot](https://matplotlib.org/stable/gallery/mplot3d/scatter3d.html\n",
    ")"
   ]
  },
  {
   "cell_type": "code",
   "execution_count": null,
   "metadata": {
    "id": "07MVOFIidZuz"
   },
   "outputs": [],
   "source": [
    "# YOUR CODE HERE\n"
   ]
  },
  {
   "cell_type": "markdown",
   "metadata": {
    "id": "zef_pWaE20pP"
   },
   "source": [
    "### Train a supervised algorithm on clustered data\n",
    "\n",
    "This will allow us to predict cluster numbers (label) for each test data instance\n",
    "\n",
    "* Create labelled data with k-means cluster labels\n",
    "  \n",
    "  **Hint**: [`kmeans.labels_`](https://scikit-learn.org/stable/modules/generated/sklearn.cluster.KMeans.html\n",
    ")\n",
    "* Split the data into train and validation sets\n",
    "* Train a supervised algorithm on the train data\n",
    "* Find the accuracy of the model using validation data"
   ]
  },
  {
   "cell_type": "code",
   "execution_count": null,
   "metadata": {
    "id": "YLCHn9-j5ooT"
   },
   "outputs": [],
   "source": [
    "# YOUR CODE HERE\n"
   ]
  },
  {
   "cell_type": "markdown",
   "metadata": {
    "id": "cUWhJeDpzh7Z"
   },
   "source": [
    "### Evaluation of Test Data\n",
    "* Use the model to predict the labels for the Test data below\n",
    "* Format the test data in the same format as the train data.\n",
    "* Predict it with trained supervised ML model"
   ]
  },
  {
   "cell_type": "code",
   "execution_count": null,
   "metadata": {
    "id": "fvfXQ8JNkBZ3"
   },
   "outputs": [],
   "source": [
    "# Test set provided as below\n",
    "test = pd.read_csv(\"Online_Retail_Test.csv\")\n",
    "test.head(3)\n"
   ]
  },
  {
   "cell_type": "code",
   "execution_count": null,
   "metadata": {
    "id": "B4rEobc5FSS_"
   },
   "outputs": [],
   "source": [
    "# YOUR CODE HERE\n"
   ]
  },
  {
   "cell_type": "markdown",
   "metadata": {
    "id": "ZAXIXD9S7Jxx"
   },
   "source": [
    "### Report Analysis\n",
    "\n",
    "- Discuss the pros and cons of removing the missing values vs replacing with the mean values\n",
    "- Based on the visualization of clusters, comment on the difference in buying patterns of each cluster\n",
    "- What other methods could be used to determine the optimal no. of clusters?"
   ]
  }
 ],
 "metadata": {
  "colab": {
   "provenance": []
  },
  "kernelspec": {
   "display_name": ".venv",
   "language": "python",
   "name": "python3"
  },
  "language_info": {
   "codemirror_mode": {
    "name": "ipython",
    "version": 3
   },
   "file_extension": ".py",
   "mimetype": "text/x-python",
   "name": "python",
   "nbconvert_exporter": "python",
   "pygments_lexer": "ipython3",
   "version": "3.11.7"
  }
 },
 "nbformat": 4,
 "nbformat_minor": 0
}
