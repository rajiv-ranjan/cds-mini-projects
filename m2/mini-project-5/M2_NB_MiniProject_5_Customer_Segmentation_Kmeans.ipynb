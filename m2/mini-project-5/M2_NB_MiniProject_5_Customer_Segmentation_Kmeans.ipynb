{
 "cells": [
  {
   "cell_type": "markdown",
   "metadata": {
    "id": "aUUu9l_JfJ92"
   },
   "source": [
    "# Advanced Certification Program in Computational Data Science\n",
    "\n",
    "##  A program by IISc and TalentSprint\n",
    "\n",
    "### Mini Project Notebook: Customer segmentation using clustering"
   ]
  },
  {
   "cell_type": "markdown",
   "metadata": {
    "id": "SL3yrUc-XrLS"
   },
   "source": [
    "## Learning Objectives"
   ]
  },
  {
   "cell_type": "markdown",
   "metadata": {
    "id": "7jZ3M2hjiyb0"
   },
   "source": [
    "At the end of the experiment, you will be able to :\n",
    "\n",
    "* extract summary level insight from a given customer dataset.\n",
    "\n",
    "* handle the missing data and identify the underlying pattern or structure of the data.\n",
    "\n",
    "* create an unsupervised model that generates the optimum number of segments for the customer base\n",
    "\n",
    "* identify customer segments based on the overall buying behaviour\n"
   ]
  },
  {
   "cell_type": "markdown",
   "metadata": {
    "id": "-EqvTSjZZIUE"
   },
   "source": [
    "## Dataset"
   ]
  },
  {
   "cell_type": "markdown",
   "metadata": {
    "id": "interior-simple"
   },
   "source": [
    "The dataset chosen for this mini project is the Online Retail dataset. It is a transnational data set which contains all the transactions occurring between 01/12/2010 and 09/12/2011 for a UK-based and registered non-store online retail.\n",
    "\n",
    "The dataset contains 541909 records, and each record is made up of 8 fields.\n",
    "\n",
    "To know more about the dataset : [click here](https://archive.ics.uci.edu/ml/datasets/Online+Retail)"
   ]
  },
  {
   "cell_type": "markdown",
   "metadata": {
    "id": "OnFlaGNVFJI3"
   },
   "source": [
    "## Information"
   ]
  },
  {
   "cell_type": "markdown",
   "metadata": {
    "id": "Pyj3MM1li34l"
   },
   "source": [
    "**Clustering** is the task of grouping together a set of objects so that the objects in the same cluster are more similar to each other than to objects in other clusters. Similarity is a measure that reflects the strength of the relationship between two data objects.\n",
    "\n",
    "In the clustering calculation, K-Means is a very popular algorithm. In this analysis, this method is used to cluster the similar data items.\n",
    "\n",
    "In Retail and E-Commerce (B2C), and more broadly in B2B, one of the key elements shaping the business strategy of a firm is understanding of customer behaviour. More specifically, understanding the customers based on different business metrics: how much they spend (revenue), how often they spend (frequency), are they new or existing customers, what are their favorite products, etc... Such understanding in turn helps direct marketing, sales, account management and product teams to support customers on a personalized level and improve the product offering.\n",
    "\n",
    "Furthermore, segmenting customers into different categories based on similar/cyclical buying pattern over a period of 1 year helps the retail shops manage their inventory better, thereby lowering costs and raising revenues by placing the orders in sync with the buying cycles."
   ]
  },
  {
   "cell_type": "markdown",
   "metadata": {
    "id": "eY8QnQQ_i8oy"
   },
   "source": [
    "## Problem Statement"
   ]
  },
  {
   "cell_type": "markdown",
   "metadata": {
    "id": "MhyOGhrYi8oz"
   },
   "source": [
    "Perform customer segmentation for an Online Retail using an Unsupervised Clustering technique"
   ]
  },
  {
   "cell_type": "markdown",
   "metadata": {
    "id": "operating-latter"
   },
   "source": [
    "## Grading = 10 Points"
   ]
  },
  {
   "cell_type": "markdown",
   "metadata": {
    "id": "abstract-stocks"
   },
   "source": [
    "### Import Required packages"
   ]
  },
  {
   "cell_type": "code",
   "execution_count": 2,
   "metadata": {
    "id": "advisory-knowing"
   },
   "outputs": [],
   "source": [
    "from matplotlib import pyplot as plt\n",
    "import numpy as np\n",
    "import pandas as pd\n",
    "import seaborn as sns\n",
    "import scipy\n",
    "from sklearn.cluster import KMeans\n",
    "from sklearn.model_selection import train_test_split\n",
    "from sklearn.preprocessing import StandardScaler\n",
    "from sklearn.cluster import DBSCAN\n",
    "from utility import download_and_unzip\n"
   ]
  },
  {
   "cell_type": "markdown",
   "metadata": {
    "id": "bound-basement"
   },
   "source": [
    "## Data Wrangling"
   ]
  },
  {
   "cell_type": "code",
   "execution_count": 5,
   "metadata": {
    "cellView": "form",
    "id": "PXJixnAljGfN"
   },
   "outputs": [
    {
     "name": "stderr",
     "output_type": "stream",
     "text": [
      "--2025-01-22 15:58:54--  https://cdn.iisc.talentsprint.com/CDS/MiniProjects/Online_Retail.zip\n",
      "Resolving cdn.iisc.talentsprint.com (cdn.iisc.talentsprint.com)... 172.105.52.210\n",
      "Connecting to cdn.iisc.talentsprint.com (cdn.iisc.talentsprint.com)|172.105.52.210|:443... connected.\n",
      "HTTP request sent, awaiting response... 200 OK\n",
      "Length: 13671159 (13M) [application/zip]\n",
      "Saving to: ‘Online_Retail.zip’\n",
      "\n",
      "     0K .......... .......... .......... .......... ..........  0% 1.79M 7s\n",
      "    50K .......... .......... .......... .......... ..........  0% 2.36M 6s\n",
      "   100K .......... .......... .......... .......... ..........  1% 9.41M 5s\n",
      "   150K .......... .......... .......... .......... ..........  1% 24.7M 4s\n",
      "   200K .......... .......... .......... .......... ..........  1% 1.74M 4s\n",
      "   250K .......... .......... .......... .......... ..........  2% 5.73M 4s\n",
      "   300K .......... .......... .......... .......... ..........  2% 22.8M 3s\n",
      "   350K .......... .......... .......... .......... ..........  2% 4.94M 3s\n",
      "   400K .......... .......... .......... .......... ..........  3% 17.0M 3s\n",
      "   450K .......... .......... .......... .......... ..........  3% 38.4M 3s\n",
      "   500K .......... .......... .......... .......... ..........  4% 14.2M 3s\n",
      "   550K .......... .......... .......... .......... ..........  4% 5.30M 3s\n",
      "   600K .......... .......... .......... .......... ..........  4% 31.4M 2s\n",
      "   650K .......... .......... .......... .......... ..........  5% 13.5M 2s\n",
      "   700K .......... .......... .......... .......... ..........  5% 24.4M 2s\n",
      "   750K .......... .......... .......... .......... ..........  5% 11.2M 2s\n",
      "   800K .......... .......... .......... .......... ..........  6% 6.67M 2s\n",
      "   850K .......... .......... .......... .......... ..........  6% 10.2M 2s\n",
      "   900K .......... .......... .......... .......... ..........  7% 6.78M 2s\n",
      "   950K .......... .......... .......... .......... ..........  7% 33.7M 2s\n",
      "  1000K .......... .......... .......... .......... ..........  7% 24.6M 2s\n",
      "  1050K .......... .......... .......... .......... ..........  8% 7.43M 2s\n",
      "  1100K .......... .......... .......... .......... ..........  8% 13.1M 2s\n",
      "  1150K .......... .......... .......... .......... ..........  8% 13.3M 2s\n",
      "  1200K .......... .......... .......... .......... ..........  9% 14.5M 2s\n",
      "  1250K .......... .......... .......... .......... ..........  9% 67.0M 2s\n",
      "  1300K .......... .......... .......... .......... .......... 10% 25.8M 2s\n",
      "  1350K .......... .......... .......... .......... .......... 10% 6.07M 2s\n",
      "  1400K .......... .......... .......... .......... .......... 10% 9.10M 2s\n",
      "  1450K .......... .......... .......... .......... .......... 11% 13.9M 2s\n",
      "  1500K .......... .......... .......... .......... .......... 11% 12.1M 1s\n",
      "  1550K .......... .......... .......... .......... .......... 11% 11.4M 1s\n",
      "  1600K .......... .......... .......... .......... .......... 12% 17.8M 1s\n",
      "  1650K .......... .......... .......... .......... .......... 12% 15.9M 1s\n",
      "  1700K .......... .......... .......... .......... .......... 13% 8.04M 1s\n",
      "  1750K .......... .......... .......... .......... .......... 13% 42.7M 1s\n",
      "  1800K .......... .......... .......... .......... .......... 13% 14.7M 1s\n",
      "  1850K .......... .......... .......... .......... .......... 14% 12.8M 1s\n",
      "  1900K .......... .......... .......... .......... .......... 14% 6.35M 1s\n",
      "  1950K .......... .......... .......... .......... .......... 14% 4.67M 1s\n",
      "  2000K .......... .......... .......... .......... .......... 15% 9.36M 1s\n",
      "  2050K .......... .......... .......... .......... .......... 15% 8.86M 1s\n",
      "  2100K .......... .......... .......... .......... .......... 16% 26.0M 1s\n",
      "  2150K .......... .......... .......... .......... .......... 16% 9.32M 1s\n",
      "  2200K .......... .......... .......... .......... .......... 16% 10.2M 1s\n",
      "  2250K .......... .......... .......... .......... .......... 17% 79.9M 1s\n",
      "  2300K .......... .......... .......... .......... .......... 17% 22.2M 1s\n",
      "  2350K .......... .......... .......... .......... .......... 17% 5.68M 1s\n",
      "  2400K .......... .......... .......... .......... .......... 18% 5.65M 1s\n",
      "  2450K .......... .......... .......... .......... .......... 18% 1.93M 1s\n",
      "  2500K .......... .......... .......... .......... .......... 19% 10.6M 1s\n",
      "  2550K .......... .......... .......... .......... .......... 19% 9.03M 1s\n",
      "  2600K .......... .......... .......... .......... .......... 19% 9.07M 1s\n",
      "  2650K .......... .......... .......... .......... .......... 20% 62.2M 1s\n",
      "  2700K .......... .......... .......... .......... .......... 20% 8.86M 1s\n",
      "  2750K .......... .......... .......... .......... .......... 20% 12.6M 1s\n",
      "  2800K .......... .......... .......... .......... .......... 21% 9.99M 1s\n",
      "  2850K .......... .......... .......... .......... .......... 21% 12.1M 1s\n",
      "  2900K .......... .......... .......... .......... .......... 22% 8.88M 1s\n",
      "  2950K .......... .......... .......... .......... .......... 22% 9.10M 1s\n",
      "  3000K .......... .......... .......... .......... .......... 22% 13.1M 1s\n",
      "  3050K .......... .......... .......... .......... .......... 23% 7.11M 1s\n",
      "  3100K .......... .......... .......... .......... .......... 23% 17.8M 1s\n",
      "  3150K .......... .......... .......... .......... .......... 23% 5.60M 1s\n",
      "  3200K .......... .......... .......... .......... .......... 24% 29.2M 1s\n",
      "  3250K .......... .......... .......... .......... .......... 24% 9.95M 1s\n",
      "  3300K .......... .......... .......... .......... .......... 25% 21.2M 1s\n",
      "  3350K .......... .......... .......... .......... .......... 25% 11.8M 1s\n",
      "  3400K .......... .......... .......... .......... .......... 25% 15.3M 1s\n",
      "  3450K .......... .......... .......... .......... .......... 26% 21.2M 1s\n",
      "  3500K .......... .......... .......... .......... .......... 26% 7.46M 1s\n",
      "  3550K .......... .......... .......... .......... .......... 26% 15.9M 1s\n",
      "  3600K .......... .......... .......... .......... .......... 27% 10.8M 1s\n",
      "  3650K .......... .......... .......... .......... .......... 27% 71.5M 1s\n",
      "  3700K .......... .......... .......... .......... .......... 28% 14.2M 1s\n",
      "  3750K .......... .......... .......... .......... .......... 28% 12.3M 1s\n",
      "  3800K .......... .......... .......... .......... .......... 28% 33.8M 1s\n",
      "  3850K .......... .......... .......... .......... .......... 29% 14.9M 1s\n",
      "  3900K .......... .......... .......... .......... .......... 29% 15.2M 1s\n",
      "  3950K .......... .......... .......... .......... .......... 29% 7.80M 1s\n",
      "  4000K .......... .......... .......... .......... .......... 30% 33.2M 1s\n",
      "  4050K .......... .......... .......... .......... .......... 30% 36.4M 1s\n",
      "  4100K .......... .......... .......... .......... .......... 31% 8.91M 1s\n",
      "  4150K .......... .......... .......... .......... .......... 31% 31.7M 1s\n",
      "  4200K .......... .......... .......... .......... .......... 31% 11.6M 1s\n",
      "  4250K .......... .......... .......... .......... .......... 32% 42.0M 1s\n",
      "  4300K .......... .......... .......... .......... .......... 32% 13.0M 1s\n",
      "  4350K .......... .......... .......... .......... .......... 32% 32.3M 1s\n",
      "  4400K .......... .......... .......... .......... .......... 33% 20.0M 1s\n",
      "  4450K .......... .......... .......... .......... .......... 33% 9.72M 1s\n",
      "  4500K .......... .......... .......... .......... .......... 34% 16.7M 1s\n",
      "  4550K .......... .......... .......... .......... .......... 34% 41.2M 1s\n",
      "  4600K .......... .......... .......... .......... .......... 34% 11.5M 1s\n",
      "  4650K .......... .......... .......... .......... .......... 35% 32.5M 1s\n",
      "  4700K .......... .......... .......... .......... .......... 35% 16.6M 1s\n",
      "  4750K .......... .......... .......... .......... .......... 35% 15.0M 1s\n",
      "  4800K .......... .......... .......... .......... .......... 36% 4.04M 1s\n",
      "  4850K .......... .......... .......... .......... .......... 36% 12.7M 1s\n",
      "  4900K .......... .......... .......... .......... .......... 37% 10.8M 1s\n",
      "  4950K .......... .......... .......... .......... .......... 37% 23.2M 1s\n",
      "  5000K .......... .......... .......... .......... .......... 37% 14.1M 1s\n",
      "  5050K .......... .......... .......... .......... .......... 38% 34.7M 1s\n",
      "  5100K .......... .......... .......... .......... .......... 38% 14.0M 1s\n",
      "  5150K .......... .......... .......... .......... .......... 38% 16.1M 1s\n",
      "  5200K .......... .......... .......... .......... .......... 39% 42.8M 1s\n",
      "  5250K .......... .......... .......... .......... .......... 39% 18.9M 1s\n",
      "  5300K .......... .......... .......... .......... .......... 40% 35.3M 1s\n",
      "  5350K .......... .......... .......... .......... .......... 40% 19.6M 1s\n",
      "  5400K .......... .......... .......... .......... .......... 40% 17.0M 1s\n",
      "  5450K .......... .......... .......... .......... .......... 41% 28.2M 1s\n",
      "  5500K .......... .......... .......... .......... .......... 41% 35.1M 1s\n",
      "  5550K .......... .......... .......... .......... .......... 41% 11.6M 1s\n",
      "  5600K .......... .......... .......... .......... .......... 42% 15.6M 1s\n",
      "  5650K .......... .......... .......... .......... .......... 42% 13.7M 1s\n",
      "  5700K .......... .......... .......... .......... .......... 43% 31.9M 1s\n",
      "  5750K .......... .......... .......... .......... .......... 43% 32.2M 1s\n",
      "  5800K .......... .......... .......... .......... .......... 43% 32.6M 1s\n",
      "  5850K .......... .......... .......... .......... .......... 44% 6.77M 1s\n",
      "  5900K .......... .......... .......... .......... .......... 44% 19.1M 1s\n",
      "  5950K .......... .......... .......... .......... .......... 44% 12.7M 1s\n",
      "  6000K .......... .......... .......... .......... .......... 45% 39.9M 1s\n",
      "  6050K .......... .......... .......... .......... .......... 45% 13.8M 1s\n",
      "  6100K .......... .......... .......... .......... .......... 46% 6.99M 1s\n",
      "  6150K .......... .......... .......... .......... .......... 46%  143M 1s\n",
      "  6200K .......... .......... .......... .......... .......... 46% 12.5M 1s\n",
      "  6250K .......... .......... .......... .......... .......... 47% 11.0M 1s\n",
      "  6300K .......... .......... .......... .......... .......... 47%  483M 1s\n",
      "  6350K .......... .......... .......... .......... .......... 47% 13.4M 1s\n",
      "  6400K .......... .......... .......... .......... .......... 48% 43.2M 1s\n",
      "  6450K .......... .......... .......... .......... .......... 48% 18.7M 1s\n",
      "  6500K .......... .......... .......... .......... .......... 49% 9.62M 1s\n",
      "  6550K .......... .......... .......... .......... .......... 49% 21.5M 1s\n",
      "  6600K .......... .......... .......... .......... .......... 49% 12.8M 1s\n",
      "  6650K .......... .......... .......... .......... .......... 50% 5.94M 1s\n",
      "  6700K .......... .......... .......... .......... .......... 50% 10.4M 1s\n",
      "  6750K .......... .......... .......... .......... .......... 50% 18.5M 1s\n",
      "  6800K .......... .......... .......... .......... .......... 51% 6.41M 1s\n",
      "  6850K .......... .......... .......... .......... .......... 51% 19.5M 1s\n",
      "  6900K .......... .......... .......... .......... .......... 52% 32.3M 1s\n",
      "  6950K .......... .......... .......... .......... .......... 52% 12.4M 1s\n",
      "  7000K .......... .......... .......... .......... .......... 52% 19.5M 1s\n",
      "  7050K .......... .......... .......... .......... .......... 53% 15.1M 1s\n",
      "  7100K .......... .......... .......... .......... .......... 53% 17.6M 1s\n",
      "  7150K .......... .......... .......... .......... .......... 53% 8.05M 1s\n",
      "  7200K .......... .......... .......... .......... .......... 54%  107M 1s\n",
      "  7250K .......... .......... .......... .......... .......... 54% 18.4M 1s\n",
      "  7300K .......... .......... .......... .......... .......... 55% 18.2M 1s\n",
      "  7350K .......... .......... .......... .......... .......... 55% 16.6M 1s\n",
      "  7400K .......... .......... .......... .......... .......... 55% 11.8M 1s\n",
      "  7450K .......... .......... .......... .......... .......... 56% 11.4M 1s\n",
      "  7500K .......... .......... .......... .......... .......... 56% 14.0M 1s\n",
      "  7550K .......... .......... .......... .......... .......... 56% 9.88M 0s\n",
      "  7600K .......... .......... .......... .......... .......... 57% 19.1M 0s\n",
      "  7650K .......... .......... .......... .......... .......... 57% 33.2M 0s\n",
      "  7700K .......... .......... .......... .......... .......... 58% 19.3M 0s\n",
      "  7750K .......... .......... .......... .......... .......... 58% 35.8M 0s\n",
      "  7800K .......... .......... .......... .......... .......... 58% 34.4M 0s\n",
      "  7850K .......... .......... .......... .......... .......... 59% 8.69M 0s\n",
      "  7900K .......... .......... .......... .......... .......... 59% 19.1M 0s\n",
      "  7950K .......... .......... .......... .......... .......... 59% 8.65M 0s\n",
      "  8000K .......... .......... .......... .......... .......... 60% 9.74M 0s\n",
      "  8050K .......... .......... .......... .......... .......... 60% 13.6M 0s\n",
      "  8100K .......... .......... .......... .......... .......... 61% 9.67M 0s\n",
      "  8150K .......... .......... .......... .......... .......... 61% 6.93M 0s\n",
      "  8200K .......... .......... .......... .......... .......... 61% 18.0M 0s\n",
      "  8250K .......... .......... .......... .......... .......... 62% 8.12M 0s\n",
      "  8300K .......... .......... .......... .......... .......... 62% 8.27M 0s\n",
      "  8350K .......... .......... .......... .......... .......... 62% 5.53M 0s\n",
      "  8400K .......... .......... .......... .......... .......... 63% 2.67M 0s\n",
      "  8450K .......... .......... .......... .......... .......... 63% 4.69M 0s\n",
      "  8500K .......... .......... .......... .......... .......... 64% 7.47M 0s\n",
      "  8550K .......... .......... .......... .......... .......... 64% 10.7M 0s\n",
      "  8600K .......... .......... .......... .......... .......... 64% 8.59M 0s\n",
      "  8650K .......... .......... .......... .......... .......... 65% 37.1M 0s\n",
      "  8700K .......... .......... .......... .......... .......... 65% 6.29M 0s\n",
      "  8750K .......... .......... .......... .......... .......... 65% 7.37M 0s\n",
      "  8800K .......... .......... .......... .......... .......... 66% 15.7M 0s\n",
      "  8850K .......... .......... .......... .......... .......... 66% 16.1M 0s\n",
      "  8900K .......... .......... .......... .......... .......... 67%  498K 0s\n",
      "  8950K .......... .......... .......... .......... .......... 67% 40.3M 0s\n",
      "  9000K .......... .......... .......... .......... .......... 67% 23.7M 0s\n",
      "  9050K .......... .......... .......... .......... .......... 68% 17.2M 0s\n",
      "  9100K .......... .......... .......... .......... .......... 68%  461M 0s\n",
      "  9150K .......... .......... .......... .......... .......... 68% 19.5M 0s\n",
      "  9200K .......... .......... .......... .......... .......... 69%  149M 0s\n",
      "  9250K .......... .......... .......... .......... .......... 69% 6.55M 0s\n",
      "  9300K .......... .......... .......... .......... .......... 70% 10.6M 0s\n",
      "  9350K .......... .......... .......... .......... .......... 70% 10.8M 0s\n",
      "  9400K .......... .......... .......... .......... .......... 70% 6.28M 0s\n",
      "  9450K .......... .......... .......... .......... .......... 71% 14.2M 0s\n",
      "  9500K .......... .......... .......... .......... .......... 71% 33.5M 0s\n",
      "  9550K .......... .......... .......... .......... .......... 71%  381M 0s\n",
      "  9600K .......... .......... .......... .......... .......... 72%  498M 0s\n",
      "  9650K .......... .......... .......... .......... .......... 72%  642M 0s\n",
      "  9700K .......... .......... .......... .......... .......... 73%  581M 0s\n",
      "  9750K .......... .......... .......... .......... .......... 73%  669M 0s\n",
      "  9800K .......... .......... .......... .......... .......... 73%  610M 0s\n",
      "  9850K .......... .......... .......... .......... .......... 74%  503M 0s\n",
      "  9900K .......... .......... .......... .......... .......... 74%  626M 0s\n",
      "  9950K .......... .......... .......... .......... .......... 74%  444M 0s\n",
      " 10000K .......... .......... .......... .......... .......... 75%  688M 0s\n",
      " 10050K .......... .......... .......... .......... .......... 75%  678M 0s\n",
      " 10100K .......... .......... .......... .......... .......... 76%  651M 0s\n",
      " 10150K .......... .......... .......... .......... .......... 76% 6.55M 0s\n",
      " 10200K .......... .......... .......... .......... .......... 76% 17.7M 0s\n",
      " 10250K .......... .......... .......... .......... .......... 77% 11.5M 0s\n",
      " 10300K .......... .......... .......... .......... .......... 77% 12.1M 0s\n",
      " 10350K .......... .......... .......... .......... .......... 77% 10.1M 0s\n",
      " 10400K .......... .......... .......... .......... .......... 78% 18.7M 0s\n",
      " 10450K .......... .......... .......... .......... .......... 78% 9.79M 0s\n",
      " 10500K .......... .......... .......... .......... .......... 79% 11.0M 0s\n",
      " 10550K .......... .......... .......... .......... .......... 79% 14.8M 0s\n",
      " 10600K .......... .......... .......... .......... .......... 79% 10.8M 0s\n",
      " 10650K .......... .......... .......... .......... .......... 80% 13.9M 0s\n",
      " 10700K .......... .......... .......... .......... .......... 80%  156M 0s\n",
      " 10750K .......... .......... .......... .......... .......... 80% 9.42M 0s\n",
      " 10800K .......... .......... .......... .......... .......... 81% 14.4M 0s\n",
      " 10850K .......... .......... .......... .......... .......... 81% 5.76M 0s\n",
      " 10900K .......... .......... .......... .......... .......... 82%  388M 0s\n",
      " 10950K .......... .......... .......... .......... .......... 82%  503M 0s\n",
      " 11000K .......... .......... .......... .......... .......... 82% 11.1M 0s\n",
      " 11050K .......... .......... .......... .......... .......... 83% 26.4M 0s\n",
      " 11100K .......... .......... .......... .......... .......... 83% 7.23M 0s\n",
      " 11150K .......... .......... .......... .......... .......... 83% 6.41M 0s\n",
      " 11200K .......... .......... .......... .......... .......... 84% 10.1M 0s\n",
      " 11250K .......... .......... .......... .......... .......... 84% 26.4M 0s\n",
      " 11300K .......... .......... .......... .......... .......... 85% 14.0M 0s\n",
      " 11350K .......... .......... .......... .......... .......... 85% 7.59M 0s\n",
      " 11400K .......... .......... .......... .......... .......... 85% 5.31M 0s\n",
      " 11450K .......... .......... .......... .......... .......... 86% 13.3M 0s\n",
      " 11500K .......... .......... .......... .......... .......... 86% 32.7M 0s\n",
      " 11550K .......... .......... .......... .......... .......... 86% 9.16M 0s\n",
      " 11600K .......... .......... .......... .......... .......... 87% 4.46M 0s\n",
      " 11650K .......... .......... .......... .......... .......... 87%  247M 0s\n",
      " 11700K .......... .......... .......... .......... .......... 88% 8.87M 0s\n",
      " 11750K .......... .......... .......... .......... .......... 88% 11.7M 0s\n",
      " 11800K .......... .......... .......... .......... .......... 88% 4.81M 0s\n",
      " 11850K .......... .......... .......... .......... .......... 89% 9.73M 0s\n",
      " 11900K .......... .......... .......... .......... .......... 89% 10.0M 0s\n",
      " 11950K .......... .......... .......... .......... .......... 89% 3.88M 0s\n",
      " 12000K .......... .......... .......... .......... .......... 90% 11.8M 0s\n",
      " 12050K .......... .......... .......... .......... .......... 90% 18.2M 0s\n",
      " 12100K .......... .......... .......... .......... .......... 91% 9.91M 0s\n",
      " 12150K .......... .......... .......... .......... .......... 91% 33.1M 0s\n",
      " 12200K .......... .......... .......... .......... .......... 91% 26.4M 0s\n",
      " 12250K .......... .......... .......... .......... .......... 92% 7.64M 0s\n",
      " 12300K .......... .......... .......... .......... .......... 92% 39.5M 0s\n",
      " 12350K .......... .......... .......... .......... .......... 92% 8.76M 0s\n",
      " 12400K .......... .......... .......... .......... .......... 93% 3.71M 0s\n",
      " 12450K .......... .......... .......... .......... .......... 93% 6.07M 0s\n",
      " 12500K .......... .......... .......... .......... .......... 94% 12.6M 0s\n",
      " 12550K .......... .......... .......... .......... .......... 94% 17.9M 0s\n",
      " 12600K .......... .......... .......... .......... .......... 94% 7.03M 0s\n",
      " 12650K .......... .......... .......... .......... .......... 95% 18.8M 0s\n",
      " 12700K .......... .......... .......... .......... .......... 95% 10.2M 0s\n",
      " 12750K .......... .......... .......... .......... .......... 95% 9.45M 0s\n",
      " 12800K .......... .......... .......... .......... .......... 96% 8.98M 0s\n",
      " 12850K .......... .......... .......... .......... .......... 96% 58.9M 0s\n",
      " 12900K .......... .......... .......... .......... .......... 96% 10.2M 0s\n",
      " 12950K .......... .......... .......... .......... .......... 97% 7.63M 0s\n",
      " 13000K .......... .......... .......... .......... .......... 97% 30.7M 0s\n",
      " 13050K .......... .......... .......... .......... .......... 98% 4.66M 0s\n",
      " 13100K .......... .......... .......... .......... .......... 98% 23.6M 0s\n",
      " 13150K .......... .......... .......... .......... .......... 98% 4.11M 0s\n",
      " 13200K .......... .......... .......... .......... .......... 99% 6.51M 0s\n",
      " 13250K .......... .......... .......... .......... .......... 99% 3.70M 0s\n",
      " 13300K .......... .......... .......... .......... .......... 99% 39.1M 0s\n",
      " 13350K                                                       100% 14.8K=1.2s\n",
      "\n",
      "2025-01-22 15:58:55 (10.4 MB/s) - ‘Online_Retail.zip’ saved [13671159/13671159]\n",
      "\n"
     ]
    },
    {
     "data": {
      "text/plain": [
       "True"
      ]
     },
     "execution_count": 5,
     "metadata": {},
     "output_type": "execute_result"
    }
   ],
   "source": [
    "# @title Download the data\n",
    "# !wget -qq https://cdn.iisc.talentsprint.com/CDS/MiniProjects/Online_Retail.zip\n",
    "# !unzip -qq Online_Retail.zip\n",
    "\n",
    "download_and_unzip(\n",
    "    url=\"https://cdn.iisc.talentsprint.com/CDS/MiniProjects/Online_Retail.zip\",\n",
    "    filename=\"Online_Retail.zip\",\n",
    ")\n"
   ]
  },
  {
   "cell_type": "markdown",
   "metadata": {
    "id": "7Vu9jhC5jJHs"
   },
   "source": [
    "## Load the data"
   ]
  },
  {
   "cell_type": "code",
   "execution_count": 6,
   "metadata": {
    "id": "RdvmgyZRdZup"
   },
   "outputs": [],
   "source": [
    "# YOUR CODE HERE\n",
    "df = pd.read_csv(\"Online_Retail_Train.csv\")\n"
   ]
  },
  {
   "cell_type": "markdown",
   "metadata": {
    "id": "vtV_KWBLUzRk"
   },
   "source": [
    "## Data Pre-processing (2 points)"
   ]
  },
  {
   "cell_type": "markdown",
   "metadata": {
    "id": "VcCVvb_RjPxy"
   },
   "source": [
    "Explore the dataset by performing the following operations:\n",
    "\n",
    "* There is a lot of redundant data. Identify such data and take appropriate action.\n",
    "\n",
    "  **Hint:** refer to this [link](https://pandas.pydata.org/pandas-docs/stable/reference/api/pandas.DataFrame.drop_duplicates.html)\n",
    "\n",
    "* Most Invoices appear as normal transactions with positive quantity and prices, but there are some prefixed with \"C\" or \"A\" which denote different transaction types. Invoice starting with C represents cancelled order and A represents the Adjusted. Identify such data and take appropriate action.\n",
    "\n",
    "  **Hint:** Check the negative values in Quantity column for all cancelled orders\n",
    "\n",
    "* Handle the null values by dropping or filling with appropriate mean\n",
    "\n",
    "\n",
    "* Some of the transactions based on the `StockCode` variable are not actually products, but representing the costs or fees regarding to the post or bank or other tansactions. Find such data and handle it accordingly.\n",
    "\n",
    "  Hint:\n",
    "    - The transaction with `'POST' 'PADS' 'M' 'DOT' 'C2' 'BANK CHARGES'` as their `StockCodes` are considered as irrelevant transactions.\n",
    "\n",
    "* Identify the outliers in the UntiPrice and Quantity and handle them accordingly.\n",
    "\n",
    "  **Hint:** [link](https://thecleverprogrammer.com/2023/07/26/detect-and-remove-outliers-using-python/)\n",
    "\n",
    "* Create a DayOfWeek column using `InvoiceDate`, Hint: pd.to_datetime()\n",
    "\n",
    "**Note:** Perform all the above operations using a function to reuse and apply the same for test data."
   ]
  },
  {
   "cell_type": "code",
   "execution_count": null,
   "metadata": {
    "id": "Lj5VPXN1dZuq"
   },
   "outputs": [],
   "source": [
    "# YOUR CODE HERE\n"
   ]
  },
  {
   "cell_type": "markdown",
   "metadata": {
    "id": "graphic-vampire"
   },
   "source": [
    "## Understanding new insights from the data (1 point)"
   ]
  },
  {
   "cell_type": "markdown",
   "metadata": {
    "id": "furnished-station"
   },
   "source": [
    "1.  Are there any free items in the data? How many are there?\n",
    "\n",
    "2.  Find the number of transactions per country and visualize using an appropriate plot\n",
    "\n",
    "3.  What is the ratio of customers who are repeat purchasers vs single-time purchasers? Visualize using an appropriate plot.\n",
    "\n",
    "4. Plot heatmap showing unit price per month and day of the week\n",
    "\n",
    "  **Hint:** Month name as index on Y-axis, Day of the week on X-axis\n",
    "\n",
    "5. Find the top 10 customers who bought the most no.of items. Also find the top 10 Items bought by most no.of customers."
   ]
  },
  {
   "cell_type": "code",
   "execution_count": null,
   "metadata": {
    "id": "Fe-6_IuzFJJM"
   },
   "outputs": [],
   "source": [
    "# YOUR CODE HERE\n"
   ]
  },
  {
   "cell_type": "markdown",
   "metadata": {
    "id": "royal-chancellor"
   },
   "source": [
    "## Feature Engineering and Transformation (2 points)"
   ]
  },
  {
   "cell_type": "markdown",
   "metadata": {
    "id": "dietary-willow"
   },
   "source": [
    "### Create new features to uncover better insights and drop the unwanted columns\n",
    "\n",
    "* Create a new column which represents Total amount spent by each customer\n",
    "\n",
    "    **Hint:** Quantity * UnitPrice\n",
    "\n",
    "* Customer IDs are seen to be repeated. Maintain unique customer IDs by grouping and summing up all possible observations per customer.\n",
    "\n",
    "    **Hint:** [pandas.groupby.agg](https://pandas.pydata.org/pandas-docs/version/0.22/generated/pandas.core.groupby.DataFrameGroupBy.agg.html)\n",
    "\n",
    "**Note:** Perform the above operations in function, to reuse and apply the same for test data"
   ]
  },
  {
   "cell_type": "code",
   "execution_count": null,
   "metadata": {
    "id": "WCRODVjAdZuu"
   },
   "outputs": [],
   "source": [
    "# YOUR CODE HERE\n"
   ]
  },
  {
   "cell_type": "markdown",
   "metadata": {
    "id": "respected-empire"
   },
   "source": [
    "### Scale the data\n",
    "\n",
    "Apply `StandardScaler` on the features."
   ]
  },
  {
   "cell_type": "code",
   "execution_count": null,
   "metadata": {
    "id": "jEsufbR_dZuv"
   },
   "outputs": [],
   "source": [
    "# YOUR CODE HERE for scaling\n"
   ]
  },
  {
   "cell_type": "markdown",
   "metadata": {
    "id": "smooth-florist"
   },
   "source": [
    "## Clustering ( 5 points)"
   ]
  },
  {
   "cell_type": "markdown",
   "metadata": {
    "id": "rn1qD44PI0H_"
   },
   "source": [
    "### Apply k-means algorithm to identify a specific number of clusters\n",
    "\n",
    "\n",
    "* Fit the k-means model\n",
    "\n",
    "* Extract and store the cluster centroids\n",
    "\n",
    "Below are the parameters for k-means, which are helpful\n",
    "\n",
    "**n_clusters** is no. of clusters specified\n",
    "\n",
    "**k-means++** is a random initialization method for centroids to avoid random initialisation trap\n",
    "\n",
    "**max_iter** is max no of iterations defined when k-means is running\n",
    "\n",
    "**n_init** is no. of times k-means will run with different initial centroids\n",
    "\n",
    "[why-is-k-means-slower-than-random-initialization-k-means](https://stats.stackexchange.com/questions/185396/why-is-k-means-slower-than-random-initialization-k-means/185422)"
   ]
  },
  {
   "cell_type": "code",
   "execution_count": null,
   "metadata": {
    "id": "GDjIF0_4HiIM"
   },
   "outputs": [],
   "source": [
    "# YOUR CODE HERE to apply KMeans\n"
   ]
  },
  {
   "cell_type": "markdown",
   "metadata": {
    "id": "bpmFFF3VdZux"
   },
   "source": [
    "#### Find the optimal number of clusters (K) by using the [Elbow method](https://pythonprogramminglanguage.com/kmeans-elbow-method/).\n",
    "\n",
    "Use the optimal no. of clusters and store the cluster centroids"
   ]
  },
  {
   "cell_type": "code",
   "execution_count": null,
   "metadata": {
    "id": "c3Db3IVBdZuy"
   },
   "outputs": [],
   "source": [
    "# YOUR CODE HERE\n"
   ]
  },
  {
   "cell_type": "markdown",
   "metadata": {
    "id": "0q7nKnfVK_Yj"
   },
   "source": [
    "### Apply DBSCAN algorithm for clustering\n",
    "\n",
    "- Compare the results of clusters from k-means and DBSCAN\n"
   ]
  },
  {
   "cell_type": "code",
   "execution_count": null,
   "metadata": {
    "id": "O8ahr6ctjp9o"
   },
   "outputs": [],
   "source": [
    "# YOUR CODE HERE\n"
   ]
  },
  {
   "cell_type": "markdown",
   "metadata": {
    "id": "FarGC20zgjHj"
   },
   "source": [
    "### Analyze the clusters\n",
    "\n",
    "\n",
    "- consider two features and visualize the clusters with different colors using the predicted cluster centers.\n",
    "\n",
    "  **Hint:** 2D plot\n",
    "\n",
    "- consider three features and visualize the clusters with different colors using the predicted cluster centers.\n",
    "\n",
    "  **Hint:** [3D plot](https://matplotlib.org/stable/gallery/mplot3d/scatter3d.html\n",
    ")"
   ]
  },
  {
   "cell_type": "code",
   "execution_count": null,
   "metadata": {
    "id": "07MVOFIidZuz"
   },
   "outputs": [],
   "source": [
    "# YOUR CODE HERE\n"
   ]
  },
  {
   "cell_type": "markdown",
   "metadata": {
    "id": "zef_pWaE20pP"
   },
   "source": [
    "### Train a supervised algorithm on clustered data\n",
    "\n",
    "This will allow us to predict cluster numbers (label) for each test data instance\n",
    "\n",
    "* Create labelled data with k-means cluster labels\n",
    "  \n",
    "  **Hint**: [`kmeans.labels_`](https://scikit-learn.org/stable/modules/generated/sklearn.cluster.KMeans.html\n",
    ")\n",
    "* Split the data into train and validation sets\n",
    "* Train a supervised algorithm on the train data\n",
    "* Find the accuracy of the model using validation data"
   ]
  },
  {
   "cell_type": "code",
   "execution_count": null,
   "metadata": {
    "id": "YLCHn9-j5ooT"
   },
   "outputs": [],
   "source": [
    "# YOUR CODE HERE\n"
   ]
  },
  {
   "cell_type": "markdown",
   "metadata": {
    "id": "cUWhJeDpzh7Z"
   },
   "source": [
    "### Evaluation of Test Data\n",
    "* Use the model to predict the labels for the Test data below\n",
    "* Format the test data in the same format as the train data.\n",
    "* Predict it with trained supervised ML model"
   ]
  },
  {
   "cell_type": "code",
   "execution_count": null,
   "metadata": {
    "id": "fvfXQ8JNkBZ3"
   },
   "outputs": [],
   "source": [
    "# Test set provided as below\n",
    "test = pd.read_csv(\"Online_Retail_Test.csv\")\n",
    "test.head(3)\n"
   ]
  },
  {
   "cell_type": "code",
   "execution_count": null,
   "metadata": {
    "id": "B4rEobc5FSS_"
   },
   "outputs": [],
   "source": [
    "# YOUR CODE HERE\n"
   ]
  },
  {
   "cell_type": "markdown",
   "metadata": {
    "id": "ZAXIXD9S7Jxx"
   },
   "source": [
    "### Report Analysis\n",
    "\n",
    "- Discuss the pros and cons of removing the missing values vs replacing with the mean values\n",
    "- Based on the visualization of clusters, comment on the difference in buying patterns of each cluster\n",
    "- What other methods could be used to determine the optimal no. of clusters?"
   ]
  }
 ],
 "metadata": {
  "colab": {
   "provenance": []
  },
  "kernelspec": {
   "display_name": ".venv",
   "language": "python",
   "name": "python3"
  },
  "language_info": {
   "codemirror_mode": {
    "name": "ipython",
    "version": 3
   },
   "file_extension": ".py",
   "mimetype": "text/x-python",
   "name": "python",
   "nbconvert_exporter": "python",
   "pygments_lexer": "ipython3",
   "version": "3.11.7"
  }
 },
 "nbformat": 4,
 "nbformat_minor": 0
}
