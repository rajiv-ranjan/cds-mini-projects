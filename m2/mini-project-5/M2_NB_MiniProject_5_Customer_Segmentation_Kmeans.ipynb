{
 "cells": [
  {
   "cell_type": "markdown",
   "metadata": {
    "id": "aUUu9l_JfJ92"
   },
   "source": [
    "# Advanced Certification Program in Computational Data Science\n",
    "\n",
    "##  A program by IISc and TalentSprint\n",
    "\n",
    "### Mini Project Notebook: Customer segmentation using clustering"
   ]
  },
  {
   "cell_type": "markdown",
   "metadata": {
    "id": "SL3yrUc-XrLS"
   },
   "source": [
    "## Learning Objectives"
   ]
  },
  {
   "cell_type": "markdown",
   "metadata": {
    "id": "7jZ3M2hjiyb0"
   },
   "source": [
    "At the end of the experiment, you will be able to :\n",
    "\n",
    "* extract summary level insight from a given customer dataset.\n",
    "\n",
    "* handle the missing data and identify the underlying pattern or structure of the data.\n",
    "\n",
    "* create an unsupervised model that generates the optimum number of segments for the customer base\n",
    "\n",
    "* identify customer segments based on the overall buying behaviour\n"
   ]
  },
  {
   "cell_type": "markdown",
   "metadata": {
    "id": "-EqvTSjZZIUE"
   },
   "source": [
    "## Dataset"
   ]
  },
  {
   "cell_type": "markdown",
   "metadata": {
    "id": "interior-simple"
   },
   "source": [
    "The dataset chosen for this mini project is the Online Retail dataset. It is a transnational data set which contains all the transactions occurring between 01/12/2010 and 09/12/2011 for a UK-based and registered non-store online retail.\n",
    "\n",
    "The dataset contains 541909 records, and each record is made up of 8 fields.\n",
    "\n",
    "To know more about the dataset : [click here](https://archive.ics.uci.edu/ml/datasets/Online+Retail)"
   ]
  },
  {
   "cell_type": "markdown",
   "metadata": {
    "id": "OnFlaGNVFJI3"
   },
   "source": [
    "## Information"
   ]
  },
  {
   "cell_type": "markdown",
   "metadata": {
    "id": "Pyj3MM1li34l"
   },
   "source": [
    "**Clustering** is the task of grouping together a set of objects so that the objects in the same cluster are more similar to each other than to objects in other clusters. Similarity is a measure that reflects the strength of the relationship between two data objects.\n",
    "\n",
    "In the clustering calculation, K-Means is a very popular algorithm. In this analysis, this method is used to cluster the similar data items.\n",
    "\n",
    "In Retail and E-Commerce (B2C), and more broadly in B2B, one of the key elements shaping the business strategy of a firm is understanding of customer behaviour. More specifically, understanding the customers based on different business metrics: how much they spend (revenue), how often they spend (frequency), are they new or existing customers, what are their favorite products, etc... Such understanding in turn helps direct marketing, sales, account management and product teams to support customers on a personalized level and improve the product offering.\n",
    "\n",
    "Furthermore, segmenting customers into different categories based on similar/cyclical buying pattern over a period of 1 year helps the retail shops manage their inventory better, thereby lowering costs and raising revenues by placing the orders in sync with the buying cycles."
   ]
  },
  {
   "cell_type": "markdown",
   "metadata": {
    "id": "eY8QnQQ_i8oy"
   },
   "source": [
    "## Problem Statement"
   ]
  },
  {
   "cell_type": "markdown",
   "metadata": {
    "id": "MhyOGhrYi8oz"
   },
   "source": [
    "Perform customer segmentation for an Online Retail using an Unsupervised Clustering technique"
   ]
  },
  {
   "cell_type": "markdown",
   "metadata": {
    "id": "operating-latter"
   },
   "source": [
    "## Grading = 10 Points"
   ]
  },
  {
   "cell_type": "markdown",
   "metadata": {
    "id": "abstract-stocks"
   },
   "source": [
    "### Import Required packages"
   ]
  },
  {
   "cell_type": "code",
   "execution_count": 164,
   "metadata": {
    "id": "advisory-knowing"
   },
   "outputs": [],
   "source": [
    "from matplotlib import pyplot as plt\n",
    "import numpy as np\n",
    "import pandas as pd\n",
    "import seaborn as sns\n",
    "import scipy\n",
    "from sklearn.cluster import KMeans\n",
    "from sklearn.model_selection import train_test_split\n",
    "from sklearn.preprocessing import StandardScaler\n",
    "from sklearn.cluster import DBSCAN\n",
    "from utility import download_and_unzip\n",
    "from prettytable import PrettyTable\n",
    "from graphviz import Digraph\n",
    "from IPython.display import Image, display\n",
    "\n",
    "import warnings\n",
    "\n",
    "# Suppress only FutureWarning\n",
    "warnings.filterwarnings(\"ignore\", category=FutureWarning)\n"
   ]
  },
  {
   "cell_type": "markdown",
   "metadata": {
    "id": "bound-basement"
   },
   "source": [
    "## Data Wrangling"
   ]
  },
  {
   "cell_type": "code",
   "execution_count": 165,
   "metadata": {
    "cellView": "form",
    "id": "PXJixnAljGfN"
   },
   "outputs": [
    {
     "data": {
      "text/plain": [
       "False"
      ]
     },
     "execution_count": 165,
     "metadata": {},
     "output_type": "execute_result"
    }
   ],
   "source": [
    "# @title Download the data\n",
    "# !wget -qq https://cdn.iisc.talentsprint.com/CDS/MiniProjects/Online_Retail.zip\n",
    "# !unzip -qq Online_Retail.zip\n",
    "\n",
    "download_and_unzip(\n",
    "    url=\"https://cdn.iisc.talentsprint.com/CDS/MiniProjects/Online_Retail.zip\",\n",
    "    filename=\"Online_Retail.zip\",\n",
    ")\n"
   ]
  },
  {
   "cell_type": "markdown",
   "metadata": {
    "id": "7Vu9jhC5jJHs"
   },
   "source": [
    "## Load the data"
   ]
  },
  {
   "cell_type": "code",
   "execution_count": 166,
   "metadata": {
    "id": "RdvmgyZRdZup"
   },
   "outputs": [],
   "source": [
    "# YOUR CODE HERE\n",
    "df = pd.read_csv(\"Online_Retail_Train.csv\")\n"
   ]
  },
  {
   "cell_type": "markdown",
   "metadata": {},
   "source": [
    "## Common Functions\n",
    "1. Remove duplicate data rows: find_and_remove_null_values"
   ]
  },
  {
   "cell_type": "code",
   "execution_count": 167,
   "metadata": {},
   "outputs": [],
   "source": [
    "def find_and_remove_null_values(df_):\n",
    "    df_.isna().sum()\n",
    "    df = df_.dropna()\n",
    "    return df\n"
   ]
  },
  {
   "cell_type": "code",
   "execution_count": 168,
   "metadata": {},
   "outputs": [],
   "source": [
    "def show_basic_details(df_):\n",
    "    print(\"Dataset's datatype, number of rows and columns:\\n\", df_.info(), \"\\n\\n\")\n",
    "    print(\"Statistics of the Numerical variables:\\n\", df_.describe(), \"\\n\\n\")\n",
    "    print(\"Rows with null or empty fields:\\n\", df_.isna().sum(), \"\\n\\n\")\n"
   ]
  },
  {
   "cell_type": "code",
   "execution_count": 169,
   "metadata": {},
   "outputs": [],
   "source": [
    "def add_new_column_invoice_type(df_):\n",
    "    df_[\"InvoiceType\"] = df_[\"InvoiceNo\"].apply(\n",
    "        lambda x: \"Cancellation\" if x.startswith(\"C\") else \"Sale\"\n",
    "    )\n",
    "    print(\"Column InvoiceType Added\")\n",
    "    df_ = df_.drop(\"InvoiceNo\", axis=1)\n",
    "    print(\"Column InvoiceNo Dropped\")\n",
    "    return df_\n"
   ]
  },
  {
   "cell_type": "code",
   "execution_count": 170,
   "metadata": {},
   "outputs": [],
   "source": [
    "def add_total_price_column(df_):\n",
    "    df_[\"TotalPrice\"] = df_[\"Quantity\"] * df_[\"UnitPrice\"]\n",
    "    return df_\n"
   ]
  },
  {
   "cell_type": "code",
   "execution_count": 171,
   "metadata": {},
   "outputs": [],
   "source": [
    "def truncate(value, length=10):\n",
    "    if isinstance(value, str):\n",
    "        return value[:length] + \"...\" if len(value) > length else value\n",
    "    return value\n"
   ]
  },
  {
   "cell_type": "code",
   "execution_count": 172,
   "metadata": {},
   "outputs": [],
   "source": [
    "def display_dataframe_as_table(df_categorical_info):\n",
    "    table = PrettyTable()\n",
    "    table.field_names = df_categorical_info.columns.tolist()\n",
    "\n",
    "    for _, row in df_categorical_info.iterrows():\n",
    "        table.add_row([truncate(row[col], 40) for col in df_categorical_info.columns])\n",
    "\n",
    "    # Print the PrettyTable\n",
    "    print(table)\n"
   ]
  },
  {
   "cell_type": "code",
   "execution_count": 173,
   "metadata": {},
   "outputs": [],
   "source": [
    "# Extract summary statistics of categorical columns\n",
    "def extract_summary_statistics_categorical(\n",
    "    df_, categorical_columns_, display_table=True\n",
    "):\n",
    "    df_categorical_info = pd.DataFrame(\n",
    "        columns=[\n",
    "            \"Column\",\n",
    "            \"Unique Values\",\n",
    "            \"Count of Unique Values\",\n",
    "            \"Missing Values\",\n",
    "            \"Data Type\",\n",
    "            \"Categorical Type\",\n",
    "        ]\n",
    "    )\n",
    "\n",
    "    for col in categorical_columns_:\n",
    "        unique_values = df_[col].unique()\n",
    "        count_unique_values = df_[col].nunique()\n",
    "        missing_values = df_[col].isnull().sum()\n",
    "        unique_val = \", \".join(unique_values.astype(str))\n",
    "        col_dtype = df_[col].dtype\n",
    "        cat_type = \"Nominal\"\n",
    "\n",
    "        # Append the information to the dataframe\n",
    "        temp_df = pd.DataFrame(\n",
    "            {\n",
    "                \"Column\": col,\n",
    "                \"Unique Values\": [unique_val],\n",
    "                \"Count of Unique Values\": count_unique_values,\n",
    "                \"Missing Values\": missing_values,\n",
    "                \"Data Type\": [col_dtype],\n",
    "                \"Categorical Type\": cat_type,\n",
    "            }\n",
    "        )\n",
    "\n",
    "        df_categorical_info = pd.concat([df_categorical_info, temp_df], axis=0)\n",
    "    if display_table:\n",
    "        display_dataframe_as_table(df_categorical_info)\n",
    "    return df_categorical_info\n"
   ]
  },
  {
   "cell_type": "code",
   "execution_count": 174,
   "metadata": {},
   "outputs": [],
   "source": [
    "def extract_summary_statistics_numerical(df_, numerical_columns_, display_table=True):\n",
    "    df_numerical_info = pd.DataFrame(\n",
    "        columns=[\n",
    "            \"Column\",\n",
    "            \"Mean\",\n",
    "            \"Median (50th Percentile)\",\n",
    "            \"Mode\",\n",
    "            \"Min\",\n",
    "            \"Max\",\n",
    "            \"Range\",\n",
    "            \"Standard Deviation\",\n",
    "            \"Variance\",\n",
    "            \"25th Percentile\",\n",
    "            \"50th Percentile (Median)\",\n",
    "            \"75th Percentile\",\n",
    "            \"Count of Unique Values\",\n",
    "            \"Missing Values\",\n",
    "            \"Data Type\",\n",
    "        ]\n",
    "    )\n",
    "\n",
    "    # Iterate through each numerical column and collect the required information\n",
    "    for col in numerical_columns_:\n",
    "        mean = df_[col].mean()\n",
    "        median = df_[col].median()\n",
    "        mode = df_[col].mode()[0]\n",
    "        minimum = df_[col].min()\n",
    "        maximum = df_[col].max()\n",
    "        range_val = maximum - minimum\n",
    "        std_dev = df_[col].std()\n",
    "        variance = df_[col].var()\n",
    "        missing_values = df_[col].isnull().sum()\n",
    "        percentile_25 = df_[col].quantile(0.25)\n",
    "        percentile_50 = df_[col].quantile(0.50)\n",
    "        percentile_75 = df_[col].quantile(0.75)\n",
    "        count_unique_values = df_[col].nunique()\n",
    "        col_dtype = df_[col].dtype\n",
    "        # Append the information to the dataframe\n",
    "        temp_df = pd.DataFrame(\n",
    "            {\n",
    "                \"Column\": col,\n",
    "                \"Mean\": [mean],\n",
    "                \"Median (50th Percentile)\": [median],\n",
    "                \"Mode\": [mode],\n",
    "                \"Min\": [minimum],\n",
    "                \"Max\": [maximum],\n",
    "                \"Range\": [range_val],\n",
    "                \"Standard Deviation\": [std_dev],\n",
    "                \"Variance\": [variance],\n",
    "                \"25th Percentile\": [percentile_25],\n",
    "                \"50th Percentile (Median)\": [percentile_50],\n",
    "                \"75th Percentile\": [percentile_75],\n",
    "                \"Count of Unique Values\": count_unique_values,\n",
    "                \"Missing Values\": [missing_values],\n",
    "                \"Data Type\": [col_dtype],\n",
    "            }\n",
    "        )\n",
    "\n",
    "        df_numerical_info = pd.concat([df_numerical_info, temp_df], axis=0)\n",
    "    if display_table:\n",
    "        display_dataframe_as_table(df_numerical_info)\n",
    "    return df_numerical_info\n"
   ]
  },
  {
   "cell_type": "code",
   "execution_count": 175,
   "metadata": {},
   "outputs": [],
   "source": [
    "def split_date_timestamp_into_components(df_, datetime_col_name):\n",
    "    df_[datetime_col_name] = pd.to_datetime(df_[datetime_col_name])\n",
    "    df_[\"Year\"] = df_[datetime_col_name].dt.year\n",
    "    df_[\"Month\"] = df_[datetime_col_name].dt.month\n",
    "    df_[\"Day\"] = df_[datetime_col_name].dt.day\n",
    "    # df_[\"Hour\"] = df_[datetime_col_name].dt.hour\n",
    "    # df_[\"Minute\"] = df_[datetime_col_name].dt.minute\n",
    "    # df_[\"Second\"] = df_[datetime_col_name].dt.second\n",
    "    # df_[\"Weekday\"] = df_[datetime_col_name].dt.weekday\n",
    "    # df_[\"Quarter\"] = df_[datetime_col_name].dt.quarter\n",
    "    # df_[\"Week\"] = df_[datetime_col_name].dt.week\n",
    "    # df_[\"WeekOfYear\"] = df_[datetime_col_name].dt.isocalendar().week\n",
    "    # df_[\"DayOfYear\"] = df_[datetime_col_name].dt.dayofyear\n",
    "    # df_[\"Date\"] = df_[datetime_col_name].dt.date\n",
    "    # df_[\"Time\"] = df_[datetime_col_name].dt.time\n",
    "    # df_[\"Timestamp\"] = df_[datetime_col_name].dt.timestamp\n",
    "    df_ = df_.drop(datetime_col_name, axis=1)\n",
    "    return df_\n"
   ]
  },
  {
   "cell_type": "code",
   "execution_count": 176,
   "metadata": {},
   "outputs": [],
   "source": [
    "# extract data from customer id\n",
    "\n",
    "\n",
    "def extract_customer_id(df_, customer_id_col_name):\n",
    "    customer_counts = df_[customer_id_col_name].value_counts(dropna=False)\n",
    "\n",
    "    def assign_customer_type(customer_id):\n",
    "        if pd.isna(customer_id):\n",
    "            return \"unknown\"\n",
    "        elif customer_counts[customer_id] == 1:\n",
    "            return \"unique\"\n",
    "        else:\n",
    "            return \"repeat\"\n",
    "\n",
    "    df_[\"CustomerType\"] = df_[\"CustomerID\"].apply(assign_customer_type)\n",
    "    df_ = df_.drop(\"CustomerID\", axis=1)\n",
    "\n",
    "    return df_\n"
   ]
  },
  {
   "cell_type": "code",
   "execution_count": null,
   "metadata": {},
   "outputs": [],
   "source": []
  },
  {
   "cell_type": "markdown",
   "metadata": {
    "id": "vtV_KWBLUzRk"
   },
   "source": [
    "## Data Pre-processing (2 points)"
   ]
  },
  {
   "cell_type": "markdown",
   "metadata": {
    "id": "VcCVvb_RjPxy"
   },
   "source": [
    "Explore the dataset by performing the following operations:\n",
    "\n",
    "* There is a lot of redundant data. Identify such data and take appropriate action.\n",
    "\n",
    "  **Hint:** refer to this [link](https://pandas.pydata.org/pandas-docs/stable/reference/api/pandas.DataFrame.drop_duplicates.html)\n",
    "\n",
    "* Most Invoices appear as normal transactions with positive quantity and prices, but there are some prefixed with \"C\" or \"A\" which denote different transaction types. Invoice starting with C represents cancelled order and A represents the Adjusted. Identify such data and take appropriate action.\n",
    "\n",
    "  **Hint:** Check the negative values in Quantity column for all cancelled orders\n",
    "\n",
    "* Handle the null values by dropping or filling with appropriate mean\n",
    "\n",
    "\n",
    "* Some of the transactions based on the `StockCode` variable are not actually products, but representing the costs or fees regarding to the post or bank or other tansactions. Find such data and handle it accordingly.\n",
    "\n",
    "  Hint:\n",
    "    - The transaction with `'POST' 'PADS' 'M' 'DOT' 'C2' 'BANK CHARGES'` as their `StockCodes` are considered as irrelevant transactions.\n",
    "\n",
    "* Identify the outliers in the UntiPrice and Quantity and handle them accordingly.\n",
    "\n",
    "  **Hint:** [link](https://thecleverprogrammer.com/2023/07/26/detect-and-remove-outliers-using-python/)\n",
    "\n",
    "* Create a DayOfWeek column using `InvoiceDate`, Hint: pd.to_datetime()\n",
    "\n",
    "**Note:** Perform all the above operations using a function to reuse and apply the same for test data."
   ]
  },
  {
   "cell_type": "code",
   "execution_count": 179,
   "metadata": {},
   "outputs": [
    {
     "data": {
      "image/png": "[encoded data removed]",
      "text/plain": [
       "<IPython.core.display.Image object>"
      ]
     },
     "metadata": {},
     "output_type": "display_data"
    }
   ],
   "source": [
    "# Write the flow that I have taken to clean the data\n",
    "\n",
    "flowchart = Digraph(format=\"png\", name=\"basic_flowchart\")\n",
    "# Add nodes. Note Node Shapes can be: box. polygon. ellipse. oval. circle. point. egg. triangle.\n",
    "flowchart.node(\"1\", \"\", shape=\"box\")\n",
    "flowchart.node(\"2\", \"\", shape=\"box\")\n",
    "flowchart.node(\"3\", \"\", shape=\"box\")\n",
    "flowchart.node(\"4\", \"\", shape=\"box\")\n",
    "flowchart.node(\"5\", \"\", shape=\"box\")\n",
    "\n",
    "# Add edges\n",
    "# flowchart.edges([(\"A\", \"B\"), (\"B\", \"C\")])\n",
    "# flowchart.edge(\"C\", \"D\", label=\"Yes\")\n",
    "# flowchart.edge(\"C\", \"E\", label=\"No\")\n",
    "# flowchart.edge(\"D\", \"E\")\n",
    "\n",
    "# Render and save\n",
    "flowchart.render(\"basic_flowchart\", format=\"png\", cleanup=True)\n",
    "display(Image(\"basic_flowchart.png\"))\n"
   ]
  },
  {
   "cell_type": "code",
   "execution_count": 139,
   "metadata": {},
   "outputs": [
    {
     "data": {
      "text/html": [
       "<div>\n",
       "<style scoped>\n",
       "    .dataframe tbody tr th:only-of-type {\n",
       "        vertical-align: middle;\n",
       "    }\n",
       "\n",
       "    .dataframe tbody tr th {\n",
       "        vertical-align: top;\n",
       "    }\n",
       "\n",
       "    .dataframe thead th {\n",
       "        text-align: right;\n",
       "    }\n",
       "</style>\n",
       "<table border=\"1\" class=\"dataframe\">\n",
       "  <thead>\n",
       "    <tr style=\"text-align: right;\">\n",
       "      <th></th>\n",
       "      <th>InvoiceNo</th>\n",
       "      <th>StockCode</th>\n",
       "      <th>Description</th>\n",
       "      <th>Quantity</th>\n",
       "      <th>InvoiceDate</th>\n",
       "      <th>UnitPrice</th>\n",
       "      <th>CustomerID</th>\n",
       "      <th>Country</th>\n",
       "    </tr>\n",
       "  </thead>\n",
       "  <tbody>\n",
       "    <tr>\n",
       "      <th>0</th>\n",
       "      <td>579427</td>\n",
       "      <td>22636</td>\n",
       "      <td>CHILDS BREAKFAST SET CIRCUS PARADE</td>\n",
       "      <td>2</td>\n",
       "      <td>2011-11-29 13:04:00</td>\n",
       "      <td>8.50</td>\n",
       "      <td>16479.0</td>\n",
       "      <td>United Kingdom</td>\n",
       "    </tr>\n",
       "    <tr>\n",
       "      <th>1</th>\n",
       "      <td>554092</td>\n",
       "      <td>21916</td>\n",
       "      <td>SET 12 RETRO WHITE CHALK STICKS</td>\n",
       "      <td>24</td>\n",
       "      <td>2011-05-22 12:41:00</td>\n",
       "      <td>0.42</td>\n",
       "      <td>17176.0</td>\n",
       "      <td>United Kingdom</td>\n",
       "    </tr>\n",
       "    <tr>\n",
       "      <th>2</th>\n",
       "      <td>577774</td>\n",
       "      <td>84692</td>\n",
       "      <td>BOX OF 24 COCKTAIL PARASOLS</td>\n",
       "      <td>6</td>\n",
       "      <td>2011-11-21 15:57:00</td>\n",
       "      <td>0.42</td>\n",
       "      <td>16712.0</td>\n",
       "      <td>United Kingdom</td>\n",
       "    </tr>\n",
       "    <tr>\n",
       "      <th>3</th>\n",
       "      <td>C571196</td>\n",
       "      <td>23350</td>\n",
       "      <td>ROLL WRAP VINTAGE SPOT</td>\n",
       "      <td>-12</td>\n",
       "      <td>2011-10-14 12:02:00</td>\n",
       "      <td>1.25</td>\n",
       "      <td>NaN</td>\n",
       "      <td>United Kingdom</td>\n",
       "    </tr>\n",
       "    <tr>\n",
       "      <th>4</th>\n",
       "      <td>546649</td>\n",
       "      <td>84509a</td>\n",
       "      <td>SET OF 4 ENGLISH ROSE PLACEMATS</td>\n",
       "      <td>1</td>\n",
       "      <td>2011-03-15 14:17:00</td>\n",
       "      <td>7.46</td>\n",
       "      <td>NaN</td>\n",
       "      <td>United Kingdom</td>\n",
       "    </tr>\n",
       "    <tr>\n",
       "      <th>5</th>\n",
       "      <td>579668</td>\n",
       "      <td>23575</td>\n",
       "      <td>SNACK TRAY PAISLEY PARK</td>\n",
       "      <td>8</td>\n",
       "      <td>2011-11-30 12:32:00</td>\n",
       "      <td>1.95</td>\n",
       "      <td>15152.0</td>\n",
       "      <td>United Kingdom</td>\n",
       "    </tr>\n",
       "    <tr>\n",
       "      <th>6</th>\n",
       "      <td>564758</td>\n",
       "      <td>84951A</td>\n",
       "      <td>SET OF 4 PISTACHIO LOVEBIRD COASTER</td>\n",
       "      <td>1</td>\n",
       "      <td>2011-08-30 10:39:00</td>\n",
       "      <td>2.46</td>\n",
       "      <td>NaN</td>\n",
       "      <td>United Kingdom</td>\n",
       "    </tr>\n",
       "    <tr>\n",
       "      <th>7</th>\n",
       "      <td>547684</td>\n",
       "      <td>23176</td>\n",
       "      <td>ABC TREASURE BOOK BOX</td>\n",
       "      <td>8</td>\n",
       "      <td>2011-03-24 14:46:00</td>\n",
       "      <td>2.25</td>\n",
       "      <td>12408.0</td>\n",
       "      <td>Belgium</td>\n",
       "    </tr>\n",
       "    <tr>\n",
       "      <th>8</th>\n",
       "      <td>575878</td>\n",
       "      <td>21519</td>\n",
       "      <td>GIN &amp; TONIC DIET GREETING CARD</td>\n",
       "      <td>12</td>\n",
       "      <td>2011-11-11 13:29:00</td>\n",
       "      <td>0.42</td>\n",
       "      <td>13588.0</td>\n",
       "      <td>United Kingdom</td>\n",
       "    </tr>\n",
       "    <tr>\n",
       "      <th>9</th>\n",
       "      <td>571273</td>\n",
       "      <td>22898</td>\n",
       "      <td>CHILDRENS APRON APPLES DESIGN</td>\n",
       "      <td>8</td>\n",
       "      <td>2011-10-16 12:21:00</td>\n",
       "      <td>1.95</td>\n",
       "      <td>13034.0</td>\n",
       "      <td>United Kingdom</td>\n",
       "    </tr>\n",
       "  </tbody>\n",
       "</table>\n",
       "</div>"
      ],
      "text/plain": [
       "  InvoiceNo StockCode                          Description  Quantity  \\\n",
       "0    579427     22636   CHILDS BREAKFAST SET CIRCUS PARADE         2   \n",
       "1    554092     21916      SET 12 RETRO WHITE CHALK STICKS        24   \n",
       "2    577774     84692          BOX OF 24 COCKTAIL PARASOLS         6   \n",
       "3   C571196     23350              ROLL WRAP VINTAGE SPOT        -12   \n",
       "4    546649    84509a      SET OF 4 ENGLISH ROSE PLACEMATS         1   \n",
       "5    579668     23575              SNACK TRAY PAISLEY PARK         8   \n",
       "6    564758    84951A  SET OF 4 PISTACHIO LOVEBIRD COASTER         1   \n",
       "7    547684     23176               ABC TREASURE BOOK BOX          8   \n",
       "8    575878     21519      GIN & TONIC DIET GREETING CARD         12   \n",
       "9    571273     22898        CHILDRENS APRON APPLES DESIGN         8   \n",
       "\n",
       "           InvoiceDate  UnitPrice  CustomerID         Country  \n",
       "0  2011-11-29 13:04:00       8.50     16479.0  United Kingdom  \n",
       "1  2011-05-22 12:41:00       0.42     17176.0  United Kingdom  \n",
       "2  2011-11-21 15:57:00       0.42     16712.0  United Kingdom  \n",
       "3  2011-10-14 12:02:00       1.25         NaN  United Kingdom  \n",
       "4  2011-03-15 14:17:00       7.46         NaN  United Kingdom  \n",
       "5  2011-11-30 12:32:00       1.95     15152.0  United Kingdom  \n",
       "6  2011-08-30 10:39:00       2.46         NaN  United Kingdom  \n",
       "7  2011-03-24 14:46:00       2.25     12408.0         Belgium  \n",
       "8  2011-11-11 13:29:00       0.42     13588.0  United Kingdom  \n",
       "9  2011-10-16 12:21:00       1.95     13034.0  United Kingdom  "
      ]
     },
     "execution_count": 139,
     "metadata": {},
     "output_type": "execute_result"
    }
   ],
   "source": [
    "df.head(n=10)\n"
   ]
  },
  {
   "cell_type": "code",
   "execution_count": 140,
   "metadata": {
    "id": "Lj5VPXN1dZuq"
   },
   "outputs": [
    {
     "name": "stdout",
     "output_type": "stream",
     "text": [
      "<class 'pandas.core.frame.DataFrame'>\n",
      "RangeIndex: 514813 entries, 0 to 514812\n",
      "Data columns (total 8 columns):\n",
      " #   Column       Non-Null Count   Dtype  \n",
      "---  ------       --------------   -----  \n",
      " 0   InvoiceNo    514813 non-null  object \n",
      " 1   StockCode    514813 non-null  object \n",
      " 2   Description  513428 non-null  object \n",
      " 3   Quantity     514813 non-null  int64  \n",
      " 4   InvoiceDate  514813 non-null  object \n",
      " 5   UnitPrice    514813 non-null  float64\n",
      " 6   CustomerID   386550 non-null  float64\n",
      " 7   Country      514813 non-null  object \n",
      "dtypes: float64(2), int64(1), object(5)\n",
      "memory usage: 31.4+ MB\n",
      "Dataset's datatype, number of rows and columns:\n",
      " None \n",
      "\n",
      "\n",
      "Statistics of the Numerical variables:\n",
      "             Quantity      UnitPrice     CustomerID\n",
      "count  514813.000000  514813.000000  386550.000000\n",
      "mean        9.552498       4.586406   15288.936753\n",
      "std       223.529242      95.660226    1713.565852\n",
      "min    -80995.000000  -11062.060000   12346.000000\n",
      "25%         1.000000       1.250000   13955.000000\n",
      "50%         3.000000       2.080000   15152.000000\n",
      "75%        10.000000       4.130000   16791.000000\n",
      "max     80995.000000   38970.000000   18287.000000 \n",
      "\n",
      "\n",
      "Rows with null or empty fields:\n",
      " InvoiceNo           0\n",
      "StockCode           0\n",
      "Description      1385\n",
      "Quantity            0\n",
      "InvoiceDate         0\n",
      "UnitPrice           0\n",
      "CustomerID     128263\n",
      "Country             0\n",
      "dtype: int64 \n",
      "\n",
      "\n"
     ]
    }
   ],
   "source": [
    "# YOUR CODE HERE\n",
    "show_basic_details(df)\n"
   ]
  },
  {
   "cell_type": "code",
   "execution_count": 141,
   "metadata": {},
   "outputs": [
    {
     "data": {
      "text/plain": [
       "InvoiceNo           0\n",
       "StockCode           0\n",
       "Description      1385\n",
       "Quantity            0\n",
       "InvoiceDate         0\n",
       "UnitPrice           0\n",
       "CustomerID     128263\n",
       "Country             0\n",
       "dtype: int64"
      ]
     },
     "execution_count": 141,
     "metadata": {},
     "output_type": "execute_result"
    }
   ],
   "source": [
    "# Find and remove the rows with missing values\n",
    "# YOUR CODE HERE\n",
    "df.isna().sum()\n",
    "\n",
    "# df_1 = find_and_remove_null_values(df)\n"
   ]
  },
  {
   "cell_type": "code",
   "execution_count": 142,
   "metadata": {},
   "outputs": [
    {
     "name": "stdout",
     "output_type": "stream",
     "text": [
      "Column InvoiceType Added\n",
      "Column InvoiceNo Dropped\n"
     ]
    },
    {
     "data": {
      "text/html": [
       "<div>\n",
       "<style scoped>\n",
       "    .dataframe tbody tr th:only-of-type {\n",
       "        vertical-align: middle;\n",
       "    }\n",
       "\n",
       "    .dataframe tbody tr th {\n",
       "        vertical-align: top;\n",
       "    }\n",
       "\n",
       "    .dataframe thead th {\n",
       "        text-align: right;\n",
       "    }\n",
       "</style>\n",
       "<table border=\"1\" class=\"dataframe\">\n",
       "  <thead>\n",
       "    <tr style=\"text-align: right;\">\n",
       "      <th></th>\n",
       "      <th>StockCode</th>\n",
       "      <th>Description</th>\n",
       "      <th>Quantity</th>\n",
       "      <th>InvoiceDate</th>\n",
       "      <th>UnitPrice</th>\n",
       "      <th>CustomerID</th>\n",
       "      <th>Country</th>\n",
       "      <th>InvoiceType</th>\n",
       "    </tr>\n",
       "  </thead>\n",
       "  <tbody>\n",
       "    <tr>\n",
       "      <th>0</th>\n",
       "      <td>22636</td>\n",
       "      <td>CHILDS BREAKFAST SET CIRCUS PARADE</td>\n",
       "      <td>2</td>\n",
       "      <td>2011-11-29 13:04:00</td>\n",
       "      <td>8.50</td>\n",
       "      <td>16479.0</td>\n",
       "      <td>United Kingdom</td>\n",
       "      <td>Sale</td>\n",
       "    </tr>\n",
       "    <tr>\n",
       "      <th>1</th>\n",
       "      <td>21916</td>\n",
       "      <td>SET 12 RETRO WHITE CHALK STICKS</td>\n",
       "      <td>24</td>\n",
       "      <td>2011-05-22 12:41:00</td>\n",
       "      <td>0.42</td>\n",
       "      <td>17176.0</td>\n",
       "      <td>United Kingdom</td>\n",
       "      <td>Sale</td>\n",
       "    </tr>\n",
       "    <tr>\n",
       "      <th>2</th>\n",
       "      <td>84692</td>\n",
       "      <td>BOX OF 24 COCKTAIL PARASOLS</td>\n",
       "      <td>6</td>\n",
       "      <td>2011-11-21 15:57:00</td>\n",
       "      <td>0.42</td>\n",
       "      <td>16712.0</td>\n",
       "      <td>United Kingdom</td>\n",
       "      <td>Sale</td>\n",
       "    </tr>\n",
       "    <tr>\n",
       "      <th>3</th>\n",
       "      <td>23350</td>\n",
       "      <td>ROLL WRAP VINTAGE SPOT</td>\n",
       "      <td>-12</td>\n",
       "      <td>2011-10-14 12:02:00</td>\n",
       "      <td>1.25</td>\n",
       "      <td>NaN</td>\n",
       "      <td>United Kingdom</td>\n",
       "      <td>Cancellation</td>\n",
       "    </tr>\n",
       "    <tr>\n",
       "      <th>4</th>\n",
       "      <td>84509a</td>\n",
       "      <td>SET OF 4 ENGLISH ROSE PLACEMATS</td>\n",
       "      <td>1</td>\n",
       "      <td>2011-03-15 14:17:00</td>\n",
       "      <td>7.46</td>\n",
       "      <td>NaN</td>\n",
       "      <td>United Kingdom</td>\n",
       "      <td>Sale</td>\n",
       "    </tr>\n",
       "    <tr>\n",
       "      <th>5</th>\n",
       "      <td>23575</td>\n",
       "      <td>SNACK TRAY PAISLEY PARK</td>\n",
       "      <td>8</td>\n",
       "      <td>2011-11-30 12:32:00</td>\n",
       "      <td>1.95</td>\n",
       "      <td>15152.0</td>\n",
       "      <td>United Kingdom</td>\n",
       "      <td>Sale</td>\n",
       "    </tr>\n",
       "    <tr>\n",
       "      <th>6</th>\n",
       "      <td>84951A</td>\n",
       "      <td>SET OF 4 PISTACHIO LOVEBIRD COASTER</td>\n",
       "      <td>1</td>\n",
       "      <td>2011-08-30 10:39:00</td>\n",
       "      <td>2.46</td>\n",
       "      <td>NaN</td>\n",
       "      <td>United Kingdom</td>\n",
       "      <td>Sale</td>\n",
       "    </tr>\n",
       "    <tr>\n",
       "      <th>7</th>\n",
       "      <td>23176</td>\n",
       "      <td>ABC TREASURE BOOK BOX</td>\n",
       "      <td>8</td>\n",
       "      <td>2011-03-24 14:46:00</td>\n",
       "      <td>2.25</td>\n",
       "      <td>12408.0</td>\n",
       "      <td>Belgium</td>\n",
       "      <td>Sale</td>\n",
       "    </tr>\n",
       "    <tr>\n",
       "      <th>8</th>\n",
       "      <td>21519</td>\n",
       "      <td>GIN &amp; TONIC DIET GREETING CARD</td>\n",
       "      <td>12</td>\n",
       "      <td>2011-11-11 13:29:00</td>\n",
       "      <td>0.42</td>\n",
       "      <td>13588.0</td>\n",
       "      <td>United Kingdom</td>\n",
       "      <td>Sale</td>\n",
       "    </tr>\n",
       "    <tr>\n",
       "      <th>9</th>\n",
       "      <td>22898</td>\n",
       "      <td>CHILDRENS APRON APPLES DESIGN</td>\n",
       "      <td>8</td>\n",
       "      <td>2011-10-16 12:21:00</td>\n",
       "      <td>1.95</td>\n",
       "      <td>13034.0</td>\n",
       "      <td>United Kingdom</td>\n",
       "      <td>Sale</td>\n",
       "    </tr>\n",
       "  </tbody>\n",
       "</table>\n",
       "</div>"
      ],
      "text/plain": [
       "  StockCode                          Description  Quantity  \\\n",
       "0     22636   CHILDS BREAKFAST SET CIRCUS PARADE         2   \n",
       "1     21916      SET 12 RETRO WHITE CHALK STICKS        24   \n",
       "2     84692          BOX OF 24 COCKTAIL PARASOLS         6   \n",
       "3     23350              ROLL WRAP VINTAGE SPOT        -12   \n",
       "4    84509a      SET OF 4 ENGLISH ROSE PLACEMATS         1   \n",
       "5     23575              SNACK TRAY PAISLEY PARK         8   \n",
       "6    84951A  SET OF 4 PISTACHIO LOVEBIRD COASTER         1   \n",
       "7     23176               ABC TREASURE BOOK BOX          8   \n",
       "8     21519      GIN & TONIC DIET GREETING CARD         12   \n",
       "9     22898        CHILDRENS APRON APPLES DESIGN         8   \n",
       "\n",
       "           InvoiceDate  UnitPrice  CustomerID         Country   InvoiceType  \n",
       "0  2011-11-29 13:04:00       8.50     16479.0  United Kingdom          Sale  \n",
       "1  2011-05-22 12:41:00       0.42     17176.0  United Kingdom          Sale  \n",
       "2  2011-11-21 15:57:00       0.42     16712.0  United Kingdom          Sale  \n",
       "3  2011-10-14 12:02:00       1.25         NaN  United Kingdom  Cancellation  \n",
       "4  2011-03-15 14:17:00       7.46         NaN  United Kingdom          Sale  \n",
       "5  2011-11-30 12:32:00       1.95     15152.0  United Kingdom          Sale  \n",
       "6  2011-08-30 10:39:00       2.46         NaN  United Kingdom          Sale  \n",
       "7  2011-03-24 14:46:00       2.25     12408.0         Belgium          Sale  \n",
       "8  2011-11-11 13:29:00       0.42     13588.0  United Kingdom          Sale  \n",
       "9  2011-10-16 12:21:00       1.95     13034.0  United Kingdom          Sale  "
      ]
     },
     "execution_count": 142,
     "metadata": {},
     "output_type": "execute_result"
    }
   ],
   "source": [
    "# Add a new column InvoiceType to the dataframe\n",
    "df = add_new_column_invoice_type(df)\n",
    "df.head(n=10)\n"
   ]
  },
  {
   "cell_type": "code",
   "execution_count": 143,
   "metadata": {},
   "outputs": [
    {
     "data": {
      "text/html": [
       "<div>\n",
       "<style scoped>\n",
       "    .dataframe tbody tr th:only-of-type {\n",
       "        vertical-align: middle;\n",
       "    }\n",
       "\n",
       "    .dataframe tbody tr th {\n",
       "        vertical-align: top;\n",
       "    }\n",
       "\n",
       "    .dataframe thead th {\n",
       "        text-align: right;\n",
       "    }\n",
       "</style>\n",
       "<table border=\"1\" class=\"dataframe\">\n",
       "  <thead>\n",
       "    <tr style=\"text-align: right;\">\n",
       "      <th></th>\n",
       "      <th>StockCode</th>\n",
       "      <th>Description</th>\n",
       "      <th>Quantity</th>\n",
       "      <th>InvoiceDate</th>\n",
       "      <th>UnitPrice</th>\n",
       "      <th>CustomerID</th>\n",
       "      <th>Country</th>\n",
       "      <th>InvoiceType</th>\n",
       "      <th>TotalPrice</th>\n",
       "    </tr>\n",
       "  </thead>\n",
       "  <tbody>\n",
       "    <tr>\n",
       "      <th>0</th>\n",
       "      <td>22636</td>\n",
       "      <td>CHILDS BREAKFAST SET CIRCUS PARADE</td>\n",
       "      <td>2</td>\n",
       "      <td>2011-11-29 13:04:00</td>\n",
       "      <td>8.50</td>\n",
       "      <td>16479.0</td>\n",
       "      <td>United Kingdom</td>\n",
       "      <td>Sale</td>\n",
       "      <td>17.00</td>\n",
       "    </tr>\n",
       "    <tr>\n",
       "      <th>1</th>\n",
       "      <td>21916</td>\n",
       "      <td>SET 12 RETRO WHITE CHALK STICKS</td>\n",
       "      <td>24</td>\n",
       "      <td>2011-05-22 12:41:00</td>\n",
       "      <td>0.42</td>\n",
       "      <td>17176.0</td>\n",
       "      <td>United Kingdom</td>\n",
       "      <td>Sale</td>\n",
       "      <td>10.08</td>\n",
       "    </tr>\n",
       "    <tr>\n",
       "      <th>2</th>\n",
       "      <td>84692</td>\n",
       "      <td>BOX OF 24 COCKTAIL PARASOLS</td>\n",
       "      <td>6</td>\n",
       "      <td>2011-11-21 15:57:00</td>\n",
       "      <td>0.42</td>\n",
       "      <td>16712.0</td>\n",
       "      <td>United Kingdom</td>\n",
       "      <td>Sale</td>\n",
       "      <td>2.52</td>\n",
       "    </tr>\n",
       "    <tr>\n",
       "      <th>3</th>\n",
       "      <td>23350</td>\n",
       "      <td>ROLL WRAP VINTAGE SPOT</td>\n",
       "      <td>-12</td>\n",
       "      <td>2011-10-14 12:02:00</td>\n",
       "      <td>1.25</td>\n",
       "      <td>NaN</td>\n",
       "      <td>United Kingdom</td>\n",
       "      <td>Cancellation</td>\n",
       "      <td>-15.00</td>\n",
       "    </tr>\n",
       "    <tr>\n",
       "      <th>4</th>\n",
       "      <td>84509a</td>\n",
       "      <td>SET OF 4 ENGLISH ROSE PLACEMATS</td>\n",
       "      <td>1</td>\n",
       "      <td>2011-03-15 14:17:00</td>\n",
       "      <td>7.46</td>\n",
       "      <td>NaN</td>\n",
       "      <td>United Kingdom</td>\n",
       "      <td>Sale</td>\n",
       "      <td>7.46</td>\n",
       "    </tr>\n",
       "    <tr>\n",
       "      <th>5</th>\n",
       "      <td>23575</td>\n",
       "      <td>SNACK TRAY PAISLEY PARK</td>\n",
       "      <td>8</td>\n",
       "      <td>2011-11-30 12:32:00</td>\n",
       "      <td>1.95</td>\n",
       "      <td>15152.0</td>\n",
       "      <td>United Kingdom</td>\n",
       "      <td>Sale</td>\n",
       "      <td>15.60</td>\n",
       "    </tr>\n",
       "    <tr>\n",
       "      <th>6</th>\n",
       "      <td>84951A</td>\n",
       "      <td>SET OF 4 PISTACHIO LOVEBIRD COASTER</td>\n",
       "      <td>1</td>\n",
       "      <td>2011-08-30 10:39:00</td>\n",
       "      <td>2.46</td>\n",
       "      <td>NaN</td>\n",
       "      <td>United Kingdom</td>\n",
       "      <td>Sale</td>\n",
       "      <td>2.46</td>\n",
       "    </tr>\n",
       "    <tr>\n",
       "      <th>7</th>\n",
       "      <td>23176</td>\n",
       "      <td>ABC TREASURE BOOK BOX</td>\n",
       "      <td>8</td>\n",
       "      <td>2011-03-24 14:46:00</td>\n",
       "      <td>2.25</td>\n",
       "      <td>12408.0</td>\n",
       "      <td>Belgium</td>\n",
       "      <td>Sale</td>\n",
       "      <td>18.00</td>\n",
       "    </tr>\n",
       "    <tr>\n",
       "      <th>8</th>\n",
       "      <td>21519</td>\n",
       "      <td>GIN &amp; TONIC DIET GREETING CARD</td>\n",
       "      <td>12</td>\n",
       "      <td>2011-11-11 13:29:00</td>\n",
       "      <td>0.42</td>\n",
       "      <td>13588.0</td>\n",
       "      <td>United Kingdom</td>\n",
       "      <td>Sale</td>\n",
       "      <td>5.04</td>\n",
       "    </tr>\n",
       "    <tr>\n",
       "      <th>9</th>\n",
       "      <td>22898</td>\n",
       "      <td>CHILDRENS APRON APPLES DESIGN</td>\n",
       "      <td>8</td>\n",
       "      <td>2011-10-16 12:21:00</td>\n",
       "      <td>1.95</td>\n",
       "      <td>13034.0</td>\n",
       "      <td>United Kingdom</td>\n",
       "      <td>Sale</td>\n",
       "      <td>15.60</td>\n",
       "    </tr>\n",
       "  </tbody>\n",
       "</table>\n",
       "</div>"
      ],
      "text/plain": [
       "  StockCode                          Description  Quantity  \\\n",
       "0     22636   CHILDS BREAKFAST SET CIRCUS PARADE         2   \n",
       "1     21916      SET 12 RETRO WHITE CHALK STICKS        24   \n",
       "2     84692          BOX OF 24 COCKTAIL PARASOLS         6   \n",
       "3     23350              ROLL WRAP VINTAGE SPOT        -12   \n",
       "4    84509a      SET OF 4 ENGLISH ROSE PLACEMATS         1   \n",
       "5     23575              SNACK TRAY PAISLEY PARK         8   \n",
       "6    84951A  SET OF 4 PISTACHIO LOVEBIRD COASTER         1   \n",
       "7     23176               ABC TREASURE BOOK BOX          8   \n",
       "8     21519      GIN & TONIC DIET GREETING CARD         12   \n",
       "9     22898        CHILDRENS APRON APPLES DESIGN         8   \n",
       "\n",
       "           InvoiceDate  UnitPrice  CustomerID         Country   InvoiceType  \\\n",
       "0  2011-11-29 13:04:00       8.50     16479.0  United Kingdom          Sale   \n",
       "1  2011-05-22 12:41:00       0.42     17176.0  United Kingdom          Sale   \n",
       "2  2011-11-21 15:57:00       0.42     16712.0  United Kingdom          Sale   \n",
       "3  2011-10-14 12:02:00       1.25         NaN  United Kingdom  Cancellation   \n",
       "4  2011-03-15 14:17:00       7.46         NaN  United Kingdom          Sale   \n",
       "5  2011-11-30 12:32:00       1.95     15152.0  United Kingdom          Sale   \n",
       "6  2011-08-30 10:39:00       2.46         NaN  United Kingdom          Sale   \n",
       "7  2011-03-24 14:46:00       2.25     12408.0         Belgium          Sale   \n",
       "8  2011-11-11 13:29:00       0.42     13588.0  United Kingdom          Sale   \n",
       "9  2011-10-16 12:21:00       1.95     13034.0  United Kingdom          Sale   \n",
       "\n",
       "   TotalPrice  \n",
       "0       17.00  \n",
       "1       10.08  \n",
       "2        2.52  \n",
       "3      -15.00  \n",
       "4        7.46  \n",
       "5       15.60  \n",
       "6        2.46  \n",
       "7       18.00  \n",
       "8        5.04  \n",
       "9       15.60  "
      ]
     },
     "execution_count": 143,
     "metadata": {},
     "output_type": "execute_result"
    }
   ],
   "source": [
    "# Add a new column TotalPrice to the dataframe\n",
    "df = add_total_price_column(df)\n",
    "df.head(n=10)\n"
   ]
  },
  {
   "cell_type": "code",
   "execution_count": 144,
   "metadata": {},
   "outputs": [
    {
     "data": {
      "text/html": [
       "<div>\n",
       "<style scoped>\n",
       "    .dataframe tbody tr th:only-of-type {\n",
       "        vertical-align: middle;\n",
       "    }\n",
       "\n",
       "    .dataframe tbody tr th {\n",
       "        vertical-align: top;\n",
       "    }\n",
       "\n",
       "    .dataframe thead th {\n",
       "        text-align: right;\n",
       "    }\n",
       "</style>\n",
       "<table border=\"1\" class=\"dataframe\">\n",
       "  <thead>\n",
       "    <tr style=\"text-align: right;\">\n",
       "      <th></th>\n",
       "      <th>StockCode</th>\n",
       "      <th>Description</th>\n",
       "      <th>Quantity</th>\n",
       "      <th>UnitPrice</th>\n",
       "      <th>CustomerID</th>\n",
       "      <th>Country</th>\n",
       "      <th>InvoiceType</th>\n",
       "      <th>TotalPrice</th>\n",
       "      <th>Year</th>\n",
       "      <th>Month</th>\n",
       "      <th>Day</th>\n",
       "    </tr>\n",
       "  </thead>\n",
       "  <tbody>\n",
       "    <tr>\n",
       "      <th>0</th>\n",
       "      <td>22636</td>\n",
       "      <td>CHILDS BREAKFAST SET CIRCUS PARADE</td>\n",
       "      <td>2</td>\n",
       "      <td>8.50</td>\n",
       "      <td>16479.0</td>\n",
       "      <td>United Kingdom</td>\n",
       "      <td>Sale</td>\n",
       "      <td>17.00</td>\n",
       "      <td>2011</td>\n",
       "      <td>11</td>\n",
       "      <td>29</td>\n",
       "    </tr>\n",
       "    <tr>\n",
       "      <th>1</th>\n",
       "      <td>21916</td>\n",
       "      <td>SET 12 RETRO WHITE CHALK STICKS</td>\n",
       "      <td>24</td>\n",
       "      <td>0.42</td>\n",
       "      <td>17176.0</td>\n",
       "      <td>United Kingdom</td>\n",
       "      <td>Sale</td>\n",
       "      <td>10.08</td>\n",
       "      <td>2011</td>\n",
       "      <td>5</td>\n",
       "      <td>22</td>\n",
       "    </tr>\n",
       "    <tr>\n",
       "      <th>2</th>\n",
       "      <td>84692</td>\n",
       "      <td>BOX OF 24 COCKTAIL PARASOLS</td>\n",
       "      <td>6</td>\n",
       "      <td>0.42</td>\n",
       "      <td>16712.0</td>\n",
       "      <td>United Kingdom</td>\n",
       "      <td>Sale</td>\n",
       "      <td>2.52</td>\n",
       "      <td>2011</td>\n",
       "      <td>11</td>\n",
       "      <td>21</td>\n",
       "    </tr>\n",
       "    <tr>\n",
       "      <th>3</th>\n",
       "      <td>23350</td>\n",
       "      <td>ROLL WRAP VINTAGE SPOT</td>\n",
       "      <td>-12</td>\n",
       "      <td>1.25</td>\n",
       "      <td>NaN</td>\n",
       "      <td>United Kingdom</td>\n",
       "      <td>Cancellation</td>\n",
       "      <td>-15.00</td>\n",
       "      <td>2011</td>\n",
       "      <td>10</td>\n",
       "      <td>14</td>\n",
       "    </tr>\n",
       "    <tr>\n",
       "      <th>4</th>\n",
       "      <td>84509a</td>\n",
       "      <td>SET OF 4 ENGLISH ROSE PLACEMATS</td>\n",
       "      <td>1</td>\n",
       "      <td>7.46</td>\n",
       "      <td>NaN</td>\n",
       "      <td>United Kingdom</td>\n",
       "      <td>Sale</td>\n",
       "      <td>7.46</td>\n",
       "      <td>2011</td>\n",
       "      <td>3</td>\n",
       "      <td>15</td>\n",
       "    </tr>\n",
       "    <tr>\n",
       "      <th>5</th>\n",
       "      <td>23575</td>\n",
       "      <td>SNACK TRAY PAISLEY PARK</td>\n",
       "      <td>8</td>\n",
       "      <td>1.95</td>\n",
       "      <td>15152.0</td>\n",
       "      <td>United Kingdom</td>\n",
       "      <td>Sale</td>\n",
       "      <td>15.60</td>\n",
       "      <td>2011</td>\n",
       "      <td>11</td>\n",
       "      <td>30</td>\n",
       "    </tr>\n",
       "    <tr>\n",
       "      <th>6</th>\n",
       "      <td>84951A</td>\n",
       "      <td>SET OF 4 PISTACHIO LOVEBIRD COASTER</td>\n",
       "      <td>1</td>\n",
       "      <td>2.46</td>\n",
       "      <td>NaN</td>\n",
       "      <td>United Kingdom</td>\n",
       "      <td>Sale</td>\n",
       "      <td>2.46</td>\n",
       "      <td>2011</td>\n",
       "      <td>8</td>\n",
       "      <td>30</td>\n",
       "    </tr>\n",
       "    <tr>\n",
       "      <th>7</th>\n",
       "      <td>23176</td>\n",
       "      <td>ABC TREASURE BOOK BOX</td>\n",
       "      <td>8</td>\n",
       "      <td>2.25</td>\n",
       "      <td>12408.0</td>\n",
       "      <td>Belgium</td>\n",
       "      <td>Sale</td>\n",
       "      <td>18.00</td>\n",
       "      <td>2011</td>\n",
       "      <td>3</td>\n",
       "      <td>24</td>\n",
       "    </tr>\n",
       "    <tr>\n",
       "      <th>8</th>\n",
       "      <td>21519</td>\n",
       "      <td>GIN &amp; TONIC DIET GREETING CARD</td>\n",
       "      <td>12</td>\n",
       "      <td>0.42</td>\n",
       "      <td>13588.0</td>\n",
       "      <td>United Kingdom</td>\n",
       "      <td>Sale</td>\n",
       "      <td>5.04</td>\n",
       "      <td>2011</td>\n",
       "      <td>11</td>\n",
       "      <td>11</td>\n",
       "    </tr>\n",
       "    <tr>\n",
       "      <th>9</th>\n",
       "      <td>22898</td>\n",
       "      <td>CHILDRENS APRON APPLES DESIGN</td>\n",
       "      <td>8</td>\n",
       "      <td>1.95</td>\n",
       "      <td>13034.0</td>\n",
       "      <td>United Kingdom</td>\n",
       "      <td>Sale</td>\n",
       "      <td>15.60</td>\n",
       "      <td>2011</td>\n",
       "      <td>10</td>\n",
       "      <td>16</td>\n",
       "    </tr>\n",
       "  </tbody>\n",
       "</table>\n",
       "</div>"
      ],
      "text/plain": [
       "  StockCode                          Description  Quantity  UnitPrice  \\\n",
       "0     22636   CHILDS BREAKFAST SET CIRCUS PARADE         2       8.50   \n",
       "1     21916      SET 12 RETRO WHITE CHALK STICKS        24       0.42   \n",
       "2     84692          BOX OF 24 COCKTAIL PARASOLS         6       0.42   \n",
       "3     23350              ROLL WRAP VINTAGE SPOT        -12       1.25   \n",
       "4    84509a      SET OF 4 ENGLISH ROSE PLACEMATS         1       7.46   \n",
       "5     23575              SNACK TRAY PAISLEY PARK         8       1.95   \n",
       "6    84951A  SET OF 4 PISTACHIO LOVEBIRD COASTER         1       2.46   \n",
       "7     23176               ABC TREASURE BOOK BOX          8       2.25   \n",
       "8     21519      GIN & TONIC DIET GREETING CARD         12       0.42   \n",
       "9     22898        CHILDRENS APRON APPLES DESIGN         8       1.95   \n",
       "\n",
       "   CustomerID         Country   InvoiceType  TotalPrice  Year  Month  Day  \n",
       "0     16479.0  United Kingdom          Sale       17.00  2011     11   29  \n",
       "1     17176.0  United Kingdom          Sale       10.08  2011      5   22  \n",
       "2     16712.0  United Kingdom          Sale        2.52  2011     11   21  \n",
       "3         NaN  United Kingdom  Cancellation      -15.00  2011     10   14  \n",
       "4         NaN  United Kingdom          Sale        7.46  2011      3   15  \n",
       "5     15152.0  United Kingdom          Sale       15.60  2011     11   30  \n",
       "6         NaN  United Kingdom          Sale        2.46  2011      8   30  \n",
       "7     12408.0         Belgium          Sale       18.00  2011      3   24  \n",
       "8     13588.0  United Kingdom          Sale        5.04  2011     11   11  \n",
       "9     13034.0  United Kingdom          Sale       15.60  2011     10   16  "
      ]
     },
     "execution_count": 144,
     "metadata": {},
     "output_type": "execute_result"
    }
   ],
   "source": [
    "df = split_date_timestamp_into_components(df, \"InvoiceDate\")\n",
    "df.head(n=10)\n"
   ]
  },
  {
   "cell_type": "code",
   "execution_count": 145,
   "metadata": {},
   "outputs": [
    {
     "data": {
      "text/html": [
       "<div>\n",
       "<style scoped>\n",
       "    .dataframe tbody tr th:only-of-type {\n",
       "        vertical-align: middle;\n",
       "    }\n",
       "\n",
       "    .dataframe tbody tr th {\n",
       "        vertical-align: top;\n",
       "    }\n",
       "\n",
       "    .dataframe thead th {\n",
       "        text-align: right;\n",
       "    }\n",
       "</style>\n",
       "<table border=\"1\" class=\"dataframe\">\n",
       "  <thead>\n",
       "    <tr style=\"text-align: right;\">\n",
       "      <th></th>\n",
       "      <th>StockCode</th>\n",
       "      <th>Description</th>\n",
       "      <th>Quantity</th>\n",
       "      <th>UnitPrice</th>\n",
       "      <th>Country</th>\n",
       "      <th>InvoiceType</th>\n",
       "      <th>TotalPrice</th>\n",
       "      <th>Year</th>\n",
       "      <th>Month</th>\n",
       "      <th>Day</th>\n",
       "      <th>CustomerType</th>\n",
       "    </tr>\n",
       "  </thead>\n",
       "  <tbody>\n",
       "    <tr>\n",
       "      <th>0</th>\n",
       "      <td>22636</td>\n",
       "      <td>CHILDS BREAKFAST SET CIRCUS PARADE</td>\n",
       "      <td>2</td>\n",
       "      <td>8.50</td>\n",
       "      <td>United Kingdom</td>\n",
       "      <td>Sale</td>\n",
       "      <td>17.00</td>\n",
       "      <td>2011</td>\n",
       "      <td>11</td>\n",
       "      <td>29</td>\n",
       "      <td>repeat</td>\n",
       "    </tr>\n",
       "    <tr>\n",
       "      <th>1</th>\n",
       "      <td>21916</td>\n",
       "      <td>SET 12 RETRO WHITE CHALK STICKS</td>\n",
       "      <td>24</td>\n",
       "      <td>0.42</td>\n",
       "      <td>United Kingdom</td>\n",
       "      <td>Sale</td>\n",
       "      <td>10.08</td>\n",
       "      <td>2011</td>\n",
       "      <td>5</td>\n",
       "      <td>22</td>\n",
       "      <td>repeat</td>\n",
       "    </tr>\n",
       "    <tr>\n",
       "      <th>2</th>\n",
       "      <td>84692</td>\n",
       "      <td>BOX OF 24 COCKTAIL PARASOLS</td>\n",
       "      <td>6</td>\n",
       "      <td>0.42</td>\n",
       "      <td>United Kingdom</td>\n",
       "      <td>Sale</td>\n",
       "      <td>2.52</td>\n",
       "      <td>2011</td>\n",
       "      <td>11</td>\n",
       "      <td>21</td>\n",
       "      <td>repeat</td>\n",
       "    </tr>\n",
       "    <tr>\n",
       "      <th>3</th>\n",
       "      <td>23350</td>\n",
       "      <td>ROLL WRAP VINTAGE SPOT</td>\n",
       "      <td>-12</td>\n",
       "      <td>1.25</td>\n",
       "      <td>United Kingdom</td>\n",
       "      <td>Cancellation</td>\n",
       "      <td>-15.00</td>\n",
       "      <td>2011</td>\n",
       "      <td>10</td>\n",
       "      <td>14</td>\n",
       "      <td>unknown</td>\n",
       "    </tr>\n",
       "    <tr>\n",
       "      <th>4</th>\n",
       "      <td>84509a</td>\n",
       "      <td>SET OF 4 ENGLISH ROSE PLACEMATS</td>\n",
       "      <td>1</td>\n",
       "      <td>7.46</td>\n",
       "      <td>United Kingdom</td>\n",
       "      <td>Sale</td>\n",
       "      <td>7.46</td>\n",
       "      <td>2011</td>\n",
       "      <td>3</td>\n",
       "      <td>15</td>\n",
       "      <td>unknown</td>\n",
       "    </tr>\n",
       "    <tr>\n",
       "      <th>5</th>\n",
       "      <td>23575</td>\n",
       "      <td>SNACK TRAY PAISLEY PARK</td>\n",
       "      <td>8</td>\n",
       "      <td>1.95</td>\n",
       "      <td>United Kingdom</td>\n",
       "      <td>Sale</td>\n",
       "      <td>15.60</td>\n",
       "      <td>2011</td>\n",
       "      <td>11</td>\n",
       "      <td>30</td>\n",
       "      <td>repeat</td>\n",
       "    </tr>\n",
       "    <tr>\n",
       "      <th>6</th>\n",
       "      <td>84951A</td>\n",
       "      <td>SET OF 4 PISTACHIO LOVEBIRD COASTER</td>\n",
       "      <td>1</td>\n",
       "      <td>2.46</td>\n",
       "      <td>United Kingdom</td>\n",
       "      <td>Sale</td>\n",
       "      <td>2.46</td>\n",
       "      <td>2011</td>\n",
       "      <td>8</td>\n",
       "      <td>30</td>\n",
       "      <td>unknown</td>\n",
       "    </tr>\n",
       "    <tr>\n",
       "      <th>7</th>\n",
       "      <td>23176</td>\n",
       "      <td>ABC TREASURE BOOK BOX</td>\n",
       "      <td>8</td>\n",
       "      <td>2.25</td>\n",
       "      <td>Belgium</td>\n",
       "      <td>Sale</td>\n",
       "      <td>18.00</td>\n",
       "      <td>2011</td>\n",
       "      <td>3</td>\n",
       "      <td>24</td>\n",
       "      <td>repeat</td>\n",
       "    </tr>\n",
       "    <tr>\n",
       "      <th>8</th>\n",
       "      <td>21519</td>\n",
       "      <td>GIN &amp; TONIC DIET GREETING CARD</td>\n",
       "      <td>12</td>\n",
       "      <td>0.42</td>\n",
       "      <td>United Kingdom</td>\n",
       "      <td>Sale</td>\n",
       "      <td>5.04</td>\n",
       "      <td>2011</td>\n",
       "      <td>11</td>\n",
       "      <td>11</td>\n",
       "      <td>repeat</td>\n",
       "    </tr>\n",
       "    <tr>\n",
       "      <th>9</th>\n",
       "      <td>22898</td>\n",
       "      <td>CHILDRENS APRON APPLES DESIGN</td>\n",
       "      <td>8</td>\n",
       "      <td>1.95</td>\n",
       "      <td>United Kingdom</td>\n",
       "      <td>Sale</td>\n",
       "      <td>15.60</td>\n",
       "      <td>2011</td>\n",
       "      <td>10</td>\n",
       "      <td>16</td>\n",
       "      <td>repeat</td>\n",
       "    </tr>\n",
       "  </tbody>\n",
       "</table>\n",
       "</div>"
      ],
      "text/plain": [
       "  StockCode                          Description  Quantity  UnitPrice  \\\n",
       "0     22636   CHILDS BREAKFAST SET CIRCUS PARADE         2       8.50   \n",
       "1     21916      SET 12 RETRO WHITE CHALK STICKS        24       0.42   \n",
       "2     84692          BOX OF 24 COCKTAIL PARASOLS         6       0.42   \n",
       "3     23350              ROLL WRAP VINTAGE SPOT        -12       1.25   \n",
       "4    84509a      SET OF 4 ENGLISH ROSE PLACEMATS         1       7.46   \n",
       "5     23575              SNACK TRAY PAISLEY PARK         8       1.95   \n",
       "6    84951A  SET OF 4 PISTACHIO LOVEBIRD COASTER         1       2.46   \n",
       "7     23176               ABC TREASURE BOOK BOX          8       2.25   \n",
       "8     21519      GIN & TONIC DIET GREETING CARD         12       0.42   \n",
       "9     22898        CHILDRENS APRON APPLES DESIGN         8       1.95   \n",
       "\n",
       "          Country   InvoiceType  TotalPrice  Year  Month  Day CustomerType  \n",
       "0  United Kingdom          Sale       17.00  2011     11   29       repeat  \n",
       "1  United Kingdom          Sale       10.08  2011      5   22       repeat  \n",
       "2  United Kingdom          Sale        2.52  2011     11   21       repeat  \n",
       "3  United Kingdom  Cancellation      -15.00  2011     10   14      unknown  \n",
       "4  United Kingdom          Sale        7.46  2011      3   15      unknown  \n",
       "5  United Kingdom          Sale       15.60  2011     11   30       repeat  \n",
       "6  United Kingdom          Sale        2.46  2011      8   30      unknown  \n",
       "7         Belgium          Sale       18.00  2011      3   24       repeat  \n",
       "8  United Kingdom          Sale        5.04  2011     11   11       repeat  \n",
       "9  United Kingdom          Sale       15.60  2011     10   16       repeat  "
      ]
     },
     "execution_count": 145,
     "metadata": {},
     "output_type": "execute_result"
    }
   ],
   "source": [
    "df = extract_customer_id(df, \"CustomerID\")\n",
    "df.head(n=10)\n"
   ]
  },
  {
   "cell_type": "code",
   "execution_count": 146,
   "metadata": {},
   "outputs": [],
   "source": [
    "# divide the columns into categorical, numerical and useless columns\n",
    "categorical_columns = [\n",
    "    \"StockCode\",\n",
    "    \"Country\",\n",
    "    \"InvoiceType\",\n",
    "    \"Year\",\n",
    "    \"Month\",\n",
    "    \"Day\",\n",
    "    \"CustomerType\",\n",
    "]\n",
    "\n",
    "numerical_columns = [\n",
    "    \"Quantity\",\n",
    "    \"UnitPrice\",\n",
    "    \"TotalPrice\",\n",
    "]\n",
    "\n",
    "useless_columns = [\n",
    "    \"Description\",\n",
    "]\n"
   ]
  },
  {
   "cell_type": "code",
   "execution_count": 147,
   "metadata": {},
   "outputs": [
    {
     "name": "stdout",
     "output_type": "stream",
     "text": [
      "+--------------+---------------------------------------------+------------------------+----------------+-----------+------------------+\n",
      "|    Column    |                Unique Values                | Count of Unique Values | Missing Values | Data Type | Categorical Type |\n",
      "+--------------+---------------------------------------------+------------------------+----------------+-----------+------------------+\n",
      "|  StockCode   | 22636, 21916, 84692, 23350, 84509a, 2357... |          4062          |       0        |   object  |     Nominal      |\n",
      "|   Country    | United Kingdom, Belgium, EIRE, Portugal,... |           38           |       0        |   object  |     Nominal      |\n",
      "| InvoiceType  |              Sale, Cancellation             |           2            |       0        |   object  |     Nominal      |\n",
      "|     Year     |                  2011, 2010                 |           2            |       0        |   int32   |     Nominal      |\n",
      "|    Month     |    11, 5, 10, 3, 8, 4, 12, 9, 6, 1, 7, 2    |           12           |       0        |   int32   |     Nominal      |\n",
      "|     Day      | 29, 22, 21, 14, 15, 30, 24, 11, 16, 27, ... |           31           |       0        |   int32   |     Nominal      |\n",
      "| CustomerType |           repeat, unknown, unique           |           3            |       0        |   object  |     Nominal      |\n",
      "+--------------+---------------------------------------------+------------------------+----------------+-----------+------------------+\n"
     ]
    },
    {
     "data": {
      "text/html": [
       "<div>\n",
       "<style scoped>\n",
       "    .dataframe tbody tr th:only-of-type {\n",
       "        vertical-align: middle;\n",
       "    }\n",
       "\n",
       "    .dataframe tbody tr th {\n",
       "        vertical-align: top;\n",
       "    }\n",
       "\n",
       "    .dataframe thead th {\n",
       "        text-align: right;\n",
       "    }\n",
       "</style>\n",
       "<table border=\"1\" class=\"dataframe\">\n",
       "  <thead>\n",
       "    <tr style=\"text-align: right;\">\n",
       "      <th></th>\n",
       "      <th>Column</th>\n",
       "      <th>Unique Values</th>\n",
       "      <th>Count of Unique Values</th>\n",
       "      <th>Missing Values</th>\n",
       "      <th>Data Type</th>\n",
       "      <th>Categorical Type</th>\n",
       "    </tr>\n",
       "  </thead>\n",
       "  <tbody>\n",
       "    <tr>\n",
       "      <th>0</th>\n",
       "      <td>StockCode</td>\n",
       "      <td>22636, 21916, 84692, 23350, 84509a, 23575, 849...</td>\n",
       "      <td>4062</td>\n",
       "      <td>0</td>\n",
       "      <td>object</td>\n",
       "      <td>Nominal</td>\n",
       "    </tr>\n",
       "    <tr>\n",
       "      <th>0</th>\n",
       "      <td>Country</td>\n",
       "      <td>United Kingdom, Belgium, EIRE, Portugal, Norwa...</td>\n",
       "      <td>38</td>\n",
       "      <td>0</td>\n",
       "      <td>object</td>\n",
       "      <td>Nominal</td>\n",
       "    </tr>\n",
       "    <tr>\n",
       "      <th>0</th>\n",
       "      <td>InvoiceType</td>\n",
       "      <td>Sale, Cancellation</td>\n",
       "      <td>2</td>\n",
       "      <td>0</td>\n",
       "      <td>object</td>\n",
       "      <td>Nominal</td>\n",
       "    </tr>\n",
       "    <tr>\n",
       "      <th>0</th>\n",
       "      <td>Year</td>\n",
       "      <td>2011, 2010</td>\n",
       "      <td>2</td>\n",
       "      <td>0</td>\n",
       "      <td>int32</td>\n",
       "      <td>Nominal</td>\n",
       "    </tr>\n",
       "    <tr>\n",
       "      <th>0</th>\n",
       "      <td>Month</td>\n",
       "      <td>11, 5, 10, 3, 8, 4, 12, 9, 6, 1, 7, 2</td>\n",
       "      <td>12</td>\n",
       "      <td>0</td>\n",
       "      <td>int32</td>\n",
       "      <td>Nominal</td>\n",
       "    </tr>\n",
       "    <tr>\n",
       "      <th>0</th>\n",
       "      <td>Day</td>\n",
       "      <td>29, 22, 21, 14, 15, 30, 24, 11, 16, 27, 18, 8,...</td>\n",
       "      <td>31</td>\n",
       "      <td>0</td>\n",
       "      <td>int32</td>\n",
       "      <td>Nominal</td>\n",
       "    </tr>\n",
       "    <tr>\n",
       "      <th>0</th>\n",
       "      <td>CustomerType</td>\n",
       "      <td>repeat, unknown, unique</td>\n",
       "      <td>3</td>\n",
       "      <td>0</td>\n",
       "      <td>object</td>\n",
       "      <td>Nominal</td>\n",
       "    </tr>\n",
       "  </tbody>\n",
       "</table>\n",
       "</div>"
      ],
      "text/plain": [
       "         Column                                      Unique Values  \\\n",
       "0     StockCode  22636, 21916, 84692, 23350, 84509a, 23575, 849...   \n",
       "0       Country  United Kingdom, Belgium, EIRE, Portugal, Norwa...   \n",
       "0   InvoiceType                                 Sale, Cancellation   \n",
       "0          Year                                         2011, 2010   \n",
       "0         Month              11, 5, 10, 3, 8, 4, 12, 9, 6, 1, 7, 2   \n",
       "0           Day  29, 22, 21, 14, 15, 30, 24, 11, 16, 27, 18, 8,...   \n",
       "0  CustomerType                            repeat, unknown, unique   \n",
       "\n",
       "  Count of Unique Values Missing Values Data Type Categorical Type  \n",
       "0                   4062              0    object          Nominal  \n",
       "0                     38              0    object          Nominal  \n",
       "0                      2              0    object          Nominal  \n",
       "0                      2              0     int32          Nominal  \n",
       "0                     12              0     int32          Nominal  \n",
       "0                     31              0     int32          Nominal  \n",
       "0                      3              0    object          Nominal  "
      ]
     },
     "execution_count": 147,
     "metadata": {},
     "output_type": "execute_result"
    }
   ],
   "source": [
    "df_cat_summary = extract_summary_statistics_categorical(\n",
    "    df, categorical_columns, display_table=True\n",
    ")\n",
    "df_cat_summary\n"
   ]
  },
  {
   "cell_type": "code",
   "execution_count": 148,
   "metadata": {},
   "outputs": [
    {
     "data": {
      "text/html": [
       "<div>\n",
       "<style scoped>\n",
       "    .dataframe tbody tr th:only-of-type {\n",
       "        vertical-align: middle;\n",
       "    }\n",
       "\n",
       "    .dataframe tbody tr th {\n",
       "        vertical-align: top;\n",
       "    }\n",
       "\n",
       "    .dataframe thead th {\n",
       "        text-align: right;\n",
       "    }\n",
       "</style>\n",
       "<table border=\"1\" class=\"dataframe\">\n",
       "  <thead>\n",
       "    <tr style=\"text-align: right;\">\n",
       "      <th></th>\n",
       "      <th>Column</th>\n",
       "      <th>Mean</th>\n",
       "      <th>Median (50th Percentile)</th>\n",
       "      <th>Mode</th>\n",
       "      <th>Min</th>\n",
       "      <th>Max</th>\n",
       "      <th>Range</th>\n",
       "      <th>Standard Deviation</th>\n",
       "      <th>Variance</th>\n",
       "      <th>25th Percentile</th>\n",
       "      <th>50th Percentile (Median)</th>\n",
       "      <th>75th Percentile</th>\n",
       "      <th>Count of Unique Values</th>\n",
       "      <th>Missing Values</th>\n",
       "      <th>Data Type</th>\n",
       "    </tr>\n",
       "  </thead>\n",
       "  <tbody>\n",
       "    <tr>\n",
       "      <th>0</th>\n",
       "      <td>Quantity</td>\n",
       "      <td>9.552498</td>\n",
       "      <td>3.00</td>\n",
       "      <td>1</td>\n",
       "      <td>-80995</td>\n",
       "      <td>80995</td>\n",
       "      <td>161990</td>\n",
       "      <td>223.529242</td>\n",
       "      <td>49965.321916</td>\n",
       "      <td>1.00</td>\n",
       "      <td>3.00</td>\n",
       "      <td>10.00</td>\n",
       "      <td>713</td>\n",
       "      <td>0</td>\n",
       "      <td>int64</td>\n",
       "    </tr>\n",
       "    <tr>\n",
       "      <th>0</th>\n",
       "      <td>UnitPrice</td>\n",
       "      <td>4.586406</td>\n",
       "      <td>2.08</td>\n",
       "      <td>1.25</td>\n",
       "      <td>-11062.06</td>\n",
       "      <td>38970.0</td>\n",
       "      <td>50032.06</td>\n",
       "      <td>95.660226</td>\n",
       "      <td>9150.878862</td>\n",
       "      <td>1.25</td>\n",
       "      <td>2.08</td>\n",
       "      <td>4.13</td>\n",
       "      <td>1582</td>\n",
       "      <td>0</td>\n",
       "      <td>float64</td>\n",
       "    </tr>\n",
       "    <tr>\n",
       "      <th>0</th>\n",
       "      <td>TotalPrice</td>\n",
       "      <td>18.014120</td>\n",
       "      <td>9.75</td>\n",
       "      <td>15.0</td>\n",
       "      <td>-168469.6</td>\n",
       "      <td>168469.6</td>\n",
       "      <td>336939.2</td>\n",
       "      <td>387.561414</td>\n",
       "      <td>150203.849390</td>\n",
       "      <td>3.40</td>\n",
       "      <td>9.75</td>\n",
       "      <td>17.40</td>\n",
       "      <td>6083</td>\n",
       "      <td>0</td>\n",
       "      <td>float64</td>\n",
       "    </tr>\n",
       "  </tbody>\n",
       "</table>\n",
       "</div>"
      ],
      "text/plain": [
       "       Column       Mean  Median (50th Percentile)  Mode       Min       Max  \\\n",
       "0    Quantity   9.552498                      3.00     1    -80995     80995   \n",
       "0   UnitPrice   4.586406                      2.08  1.25 -11062.06   38970.0   \n",
       "0  TotalPrice  18.014120                      9.75  15.0 -168469.6  168469.6   \n",
       "\n",
       "      Range  Standard Deviation       Variance  25th Percentile  \\\n",
       "0    161990          223.529242   49965.321916             1.00   \n",
       "0  50032.06           95.660226    9150.878862             1.25   \n",
       "0  336939.2          387.561414  150203.849390             3.40   \n",
       "\n",
       "   50th Percentile (Median)  75th Percentile Count of Unique Values  \\\n",
       "0                      3.00            10.00                    713   \n",
       "0                      2.08             4.13                   1582   \n",
       "0                      9.75            17.40                   6083   \n",
       "\n",
       "  Missing Values Data Type  \n",
       "0              0     int64  \n",
       "0              0   float64  \n",
       "0              0   float64  "
      ]
     },
     "execution_count": 148,
     "metadata": {},
     "output_type": "execute_result"
    }
   ],
   "source": [
    "df_num_summary = extract_summary_statistics_numerical(\n",
    "    df, numerical_columns, display_table=False\n",
    ")\n",
    "df_num_summary\n"
   ]
  },
  {
   "cell_type": "markdown",
   "metadata": {},
   "source": [
    "### Observations\n"
   ]
  },
  {
   "cell_type": "markdown",
   "metadata": {
    "id": "graphic-vampire"
   },
   "source": [
    "## Understanding new insights from the data (1 point)"
   ]
  },
  {
   "cell_type": "markdown",
   "metadata": {
    "id": "furnished-station"
   },
   "source": [
    "1.  Are there any free items in the data? How many are there?\n",
    "\n",
    "2.  Find the number of transactions per country and visualize using an appropriate plot\n",
    "\n",
    "3.  What is the ratio of customers who are repeat purchasers vs single-time purchasers? Visualize using an appropriate plot.\n",
    "\n",
    "4. Plot heatmap showing unit price per month and day of the week\n",
    "\n",
    "  **Hint:** Month name as index on Y-axis, Day of the week on X-axis\n",
    "\n",
    "5. Find the top 10 customers who bought the most no.of items. Also find the top 10 Items bought by most no.of customers."
   ]
  },
  {
   "cell_type": "code",
   "execution_count": null,
   "metadata": {
    "id": "Fe-6_IuzFJJM"
   },
   "outputs": [],
   "source": [
    "# YOUR CODE HERE\n"
   ]
  },
  {
   "cell_type": "markdown",
   "metadata": {
    "id": "royal-chancellor"
   },
   "source": [
    "## Feature Engineering and Transformation (2 points)"
   ]
  },
  {
   "cell_type": "markdown",
   "metadata": {
    "id": "dietary-willow"
   },
   "source": [
    "### Create new features to uncover better insights and drop the unwanted columns\n",
    "\n",
    "* Create a new column which represents Total amount spent by each customer\n",
    "\n",
    "    **Hint:** Quantity * UnitPrice\n",
    "\n",
    "* Customer IDs are seen to be repeated. Maintain unique customer IDs by grouping and summing up all possible observations per customer.\n",
    "\n",
    "    **Hint:** [pandas.groupby.agg](https://pandas.pydata.org/pandas-docs/version/0.22/generated/pandas.core.groupby.DataFrameGroupBy.agg.html)\n",
    "\n",
    "**Note:** Perform the above operations in function, to reuse and apply the same for test data"
   ]
  },
  {
   "cell_type": "code",
   "execution_count": null,
   "metadata": {
    "id": "WCRODVjAdZuu"
   },
   "outputs": [],
   "source": [
    "# YOUR CODE HERE\n"
   ]
  },
  {
   "cell_type": "markdown",
   "metadata": {
    "id": "respected-empire"
   },
   "source": [
    "### Scale the data\n",
    "\n",
    "Apply `StandardScaler` on the features."
   ]
  },
  {
   "cell_type": "code",
   "execution_count": null,
   "metadata": {
    "id": "jEsufbR_dZuv"
   },
   "outputs": [],
   "source": [
    "# YOUR CODE HERE for scaling\n"
   ]
  },
  {
   "cell_type": "markdown",
   "metadata": {
    "id": "smooth-florist"
   },
   "source": [
    "## Clustering ( 5 points)"
   ]
  },
  {
   "cell_type": "markdown",
   "metadata": {
    "id": "rn1qD44PI0H_"
   },
   "source": [
    "### Apply k-means algorithm to identify a specific number of clusters\n",
    "\n",
    "\n",
    "* Fit the k-means model\n",
    "\n",
    "* Extract and store the cluster centroids\n",
    "\n",
    "Below are the parameters for k-means, which are helpful\n",
    "\n",
    "**n_clusters** is no. of clusters specified\n",
    "\n",
    "**k-means++** is a random initialization method for centroids to avoid random initialisation trap\n",
    "\n",
    "**max_iter** is max no of iterations defined when k-means is running\n",
    "\n",
    "**n_init** is no. of times k-means will run with different initial centroids\n",
    "\n",
    "[why-is-k-means-slower-than-random-initialization-k-means](https://stats.stackexchange.com/questions/185396/why-is-k-means-slower-than-random-initialization-k-means/185422)"
   ]
  },
  {
   "cell_type": "code",
   "execution_count": null,
   "metadata": {
    "id": "GDjIF0_4HiIM"
   },
   "outputs": [],
   "source": [
    "# YOUR CODE HERE to apply KMeans\n"
   ]
  },
  {
   "cell_type": "markdown",
   "metadata": {
    "id": "bpmFFF3VdZux"
   },
   "source": [
    "#### Find the optimal number of clusters (K) by using the [Elbow method](https://pythonprogramminglanguage.com/kmeans-elbow-method/).\n",
    "\n",
    "Use the optimal no. of clusters and store the cluster centroids"
   ]
  },
  {
   "cell_type": "code",
   "execution_count": null,
   "metadata": {
    "id": "c3Db3IVBdZuy"
   },
   "outputs": [],
   "source": [
    "# YOUR CODE HERE\n"
   ]
  },
  {
   "cell_type": "markdown",
   "metadata": {
    "id": "0q7nKnfVK_Yj"
   },
   "source": [
    "### Apply DBSCAN algorithm for clustering\n",
    "\n",
    "- Compare the results of clusters from k-means and DBSCAN\n"
   ]
  },
  {
   "cell_type": "code",
   "execution_count": null,
   "metadata": {
    "id": "O8ahr6ctjp9o"
   },
   "outputs": [],
   "source": [
    "# YOUR CODE HERE\n"
   ]
  },
  {
   "cell_type": "markdown",
   "metadata": {
    "id": "FarGC20zgjHj"
   },
   "source": [
    "### Analyze the clusters\n",
    "\n",
    "\n",
    "- consider two features and visualize the clusters with different colors using the predicted cluster centers.\n",
    "\n",
    "  **Hint:** 2D plot\n",
    "\n",
    "- consider three features and visualize the clusters with different colors using the predicted cluster centers.\n",
    "\n",
    "  **Hint:** [3D plot](https://matplotlib.org/stable/gallery/mplot3d/scatter3d.html\n",
    ")"
   ]
  },
  {
   "cell_type": "code",
   "execution_count": null,
   "metadata": {
    "id": "07MVOFIidZuz"
   },
   "outputs": [],
   "source": [
    "# YOUR CODE HERE\n"
   ]
  },
  {
   "cell_type": "markdown",
   "metadata": {
    "id": "zef_pWaE20pP"
   },
   "source": [
    "### Train a supervised algorithm on clustered data\n",
    "\n",
    "This will allow us to predict cluster numbers (label) for each test data instance\n",
    "\n",
    "* Create labelled data with k-means cluster labels\n",
    "  \n",
    "  **Hint**: [`kmeans.labels_`](https://scikit-learn.org/stable/modules/generated/sklearn.cluster.KMeans.html\n",
    ")\n",
    "* Split the data into train and validation sets\n",
    "* Train a supervised algorithm on the train data\n",
    "* Find the accuracy of the model using validation data"
   ]
  },
  {
   "cell_type": "code",
   "execution_count": null,
   "metadata": {
    "id": "YLCHn9-j5ooT"
   },
   "outputs": [],
   "source": [
    "# YOUR CODE HERE\n"
   ]
  },
  {
   "cell_type": "markdown",
   "metadata": {
    "id": "cUWhJeDpzh7Z"
   },
   "source": [
    "### Evaluation of Test Data\n",
    "* Use the model to predict the labels for the Test data below\n",
    "* Format the test data in the same format as the train data.\n",
    "* Predict it with trained supervised ML model"
   ]
  },
  {
   "cell_type": "code",
   "execution_count": null,
   "metadata": {
    "id": "fvfXQ8JNkBZ3"
   },
   "outputs": [],
   "source": [
    "# Test set provided as below\n",
    "test = pd.read_csv(\"Online_Retail_Test.csv\")\n",
    "test.head(3)\n"
   ]
  },
  {
   "cell_type": "code",
   "execution_count": null,
   "metadata": {
    "id": "B4rEobc5FSS_"
   },
   "outputs": [],
   "source": [
    "# YOUR CODE HERE\n"
   ]
  },
  {
   "cell_type": "markdown",
   "metadata": {
    "id": "ZAXIXD9S7Jxx"
   },
   "source": [
    "### Report Analysis\n",
    "\n",
    "- Discuss the pros and cons of removing the missing values vs replacing with the mean values\n",
    "- Based on the visualization of clusters, comment on the difference in buying patterns of each cluster\n",
    "- What other methods could be used to determine the optimal no. of clusters?"
   ]
  }
 ],
 "metadata": {
  "colab": {
   "provenance": []
  },
  "kernelspec": {
   "display_name": ".venv",
   "language": "python",
   "name": "python3"
  },
  "language_info": {
   "codemirror_mode": {
    "name": "ipython",
    "version": 3
   },
   "file_extension": ".py",
   "mimetype": "text/x-python",
   "name": "python",
   "nbconvert_exporter": "python",
   "pygments_lexer": "ipython3",
   "version": "3.11.7"
  }
 },
 "nbformat": 4,
 "nbformat_minor": 0
}
