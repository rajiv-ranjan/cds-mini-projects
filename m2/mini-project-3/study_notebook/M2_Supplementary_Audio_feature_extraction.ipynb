{
 "cells": [
  {
   "cell_type": "markdown",
   "id": "758ce2d3",
   "metadata": {
    "id": "758ce2d3"
   },
   "source": [
    "# Advanced Certification Program in Computational Data Science\n",
    "## A program by IISc and TalentSprint\n",
    "### Supplementary: Audio feature extraction"
   ]
  },
  {
   "cell_type": "markdown",
   "id": "rdrEjSyJIfIX",
   "metadata": {
    "id": "rdrEjSyJIfIX"
   },
   "source": [
    "**Note**: This notebook is an ungraded, supplementary notebook, provided as pre-reading for the 'Speech Emotion Recognition' Mini-project. This will help you to understand the various audio features and get introduced to the tools and packages used in audio feature extraction."
   ]
  },
  {
   "cell_type": "markdown",
   "id": "5b3c3ed4",
   "metadata": {
    "id": "5b3c3ed4"
   },
   "source": [
    "## Learning Objectives"
   ]
  },
  {
   "cell_type": "markdown",
   "id": "cc060162",
   "metadata": {
    "id": "cc060162"
   },
   "source": [
    "In this supplementary notebook, you will be able to:\n",
    "\n",
    "* record audio samples and save it\n",
    "* load the audio data from the dataset\n",
    "* extract the features of the audio data"
   ]
  },
  {
   "cell_type": "markdown",
   "id": "dgBJOsaJM7jD",
   "metadata": {
    "id": "dgBJOsaJM7jD"
   },
   "source": [
    "### Dataset\n",
    "\n",
    "The [SAVEE](http://kahlan.eps.surrey.ac.uk/savee/) database was recorded from four native English male speakers (identified as DC, JE, JK, KL), postgraduate students and researchers at the University of Surrey aged from 27 to 31 years. It contains 480 British English utterances in different emotions. Emotion has been described psychologically in discrete categories: anger, disgust, fear, happiness, sadness and surprise.'Neutral' emotion was added to provide recordings of 7 emotion categories. The text material consisted of 15 sentences per emotion: 3 common, 2 emotion-specific and 10 generic sentences that were different for each emotion and phonetically-balanced. The 3 common and 2 × 6 = 12 emotion-specific sentences were recorded as neutral to give 30 neutral sentences.\n",
    "\n",
    "  - This resulted in a total of 120 utterances per speaker, for example:\n",
    "\n",
    "      - Common: She had your dark suit in greasy wash water all year.\n",
    "      - Anger: Who authorized the unlimited expense account?\n",
    "      - Disgust: Please take this dirty table cloth to the cleaners for me.\n",
    "      - Fear: Call an ambulance for medical assistance.\n",
    "      - Happiness: Those musicians harmonize marvelously.\n",
    "      - Sadness: The prospect of cutting back spending is an unpleasant one for any governor.\n",
    "      - Surprise: The carpet cleaners shampooed our oriental rug.\n",
    "      - Neutral: The best way to learn is to solve extra problems."
   ]
  },
  {
   "cell_type": "markdown",
   "id": "71a2364d",
   "metadata": {
    "id": "71a2364d"
   },
   "source": [
    "### Download the dataset"
   ]
  },
  {
   "cell_type": "code",
   "execution_count": 33,
   "id": "efae21b9",
   "metadata": {
    "id": "efae21b9"
   },
   "outputs": [
    {
     "data": {
      "text/plain": [
       "False"
      ]
     },
     "execution_count": 33,
     "metadata": {},
     "output_type": "execute_result"
    }
   ],
   "source": [
    "# !wget -qq https://cdn.iisc.talentsprint.com/CDS/MiniProjects/SaveeData.zip\n",
    "# !unzip -qq SaveeData.zip\n",
    "\n",
    "from utility import download_and_unzip\n",
    "\n",
    "download_and_unzip(\n",
    "    filename=\"SaveeData.zip\",\n",
    "    url=\"https://cdn.iisc.talentsprint.com/CDS/MiniProjects/SaveeData.zip\",\n",
    ")\n"
   ]
  },
  {
   "cell_type": "code",
   "execution_count": 34,
   "id": "1384981c",
   "metadata": {
    "id": "1384981c"
   },
   "outputs": [],
   "source": [
    "# Install packages\n",
    "# !pip -qq install librosa soundfile\n"
   ]
  },
  {
   "cell_type": "markdown",
   "id": "259dde4b",
   "metadata": {
    "id": "259dde4b"
   },
   "source": [
    "### Import required packages"
   ]
  },
  {
   "cell_type": "code",
   "execution_count": 35,
   "id": "8d34714b",
   "metadata": {
    "id": "8d34714b"
   },
   "outputs": [],
   "source": [
    "import librosa\n",
    "import librosa.display\n",
    "import soundfile\n",
    "import re\n",
    "import os, glob, pickle\n",
    "import numpy as np\n",
    "from matplotlib import pyplot as plt\n",
    "import IPython.display as ipd\n",
    "from datetime import datetime\n",
    "from IPython.display import Javascript\n",
    "\n",
    "# from google.colab import output\n",
    "from base64 import b64decode\n"
   ]
  },
  {
   "cell_type": "markdown",
   "id": "IYnNYgL_xYdS",
   "metadata": {
    "id": "IYnNYgL_xYdS"
   },
   "source": [
    "### Record Audio sample\n",
    "\n",
    "We will use the Javascript from IPython that will enable us to record the audio.\n",
    "\n",
    "* Create a directory to store all the recordings\n",
    "* Naming convention of the audio sample is `Audio_DateTime_label.wav`, For eg, *Audio_2021-06-20_11-30-30_angry.wav*\n",
    "* Upon calling the function `record()`, it prompts to enter the emotion (label) to name the file.\n",
    "\n",
    "While recording the audio, the utterance can be \"*Say the word boat*\" and you can show variation in the emotion"
   ]
  },
  {
   "cell_type": "code",
   "execution_count": 36,
   "id": "pimvcJ7Py1oS",
   "metadata": {
    "id": "pimvcJ7Py1oS"
   },
   "outputs": [],
   "source": [
    "# Create a directory\n",
    "if not os.path.exists(\"Records\"):\n",
    "    os.mkdir(\"Records\")\n"
   ]
  },
  {
   "cell_type": "code",
   "execution_count": 37,
   "id": "10adc3c1",
   "metadata": {
    "id": "10adc3c1"
   },
   "outputs": [],
   "source": [
    "# RECORD = \"\"\"\n",
    "# const sleep  = time => new Promise(resolve => setTimeout(resolve, time))\n",
    "# const b2text = blob => new Promise(resolve => {\n",
    "#   const reader = new FileReader()\n",
    "#   reader.onloadend = e => resolve(e.srcElement.result)\n",
    "#   reader.readAsDataURL(blob)\n",
    "# })\n",
    "# var record = time => new Promise(async resolve => {\n",
    "#   stream = await navigator.mediaDevices.getUserMedia({ audio: true })\n",
    "#   recorder = new MediaRecorder(stream)\n",
    "#   chunks = []\n",
    "#   recorder.ondataavailable = e => chunks.push(e.data)\n",
    "#   recorder.start()\n",
    "#   await sleep(time)\n",
    "#   recorder.onstop = async ()=>{\n",
    "#     blob = new Blob(chunks)\n",
    "#     text = await b2text(blob)\n",
    "#     resolve(text)\n",
    "#   }\n",
    "#   recorder.stop()\n",
    "# })\n",
    "# \"\"\"\n",
    "\n",
    "# def record(sec=3):\n",
    "#     emt = input(\"Enter emotion(label) to save the recording: \")\n",
    "#     print(\"Start speaking!\")\n",
    "#     now = datetime.now()\n",
    "#     current_time = now.strftime(\"%Y-%m-%d_%H-%M-%S\")\n",
    "#     display(Javascript(RECORD))\n",
    "#     s = output.eval_js('record(%d)' % (sec*1000))\n",
    "#     b = b64decode(s.split(',')[1])\n",
    "#     with open('Records/audio_'+current_time+\"_\"+emt+'.wav','wb') as f:\n",
    "#       f.write(b)\n",
    "#     return 'Records/audio_'+current_time+\"_\"+emt+'.wav'\n"
   ]
  },
  {
   "cell_type": "code",
   "execution_count": 38,
   "id": "kKNZPKW3zA_U",
   "metadata": {
    "id": "kKNZPKW3zA_U"
   },
   "outputs": [],
   "source": [
    "# call the function to record a sample\n",
    "# record()\n"
   ]
  },
  {
   "cell_type": "code",
   "execution_count": 39,
   "id": "c92da7b8",
   "metadata": {
    "id": "c92da7b8"
   },
   "outputs": [],
   "source": [
    "# change the path and listen to recorded audio sample\n",
    "# ipd.Audio(\"SaveeData/JE/a08.wav\")\n"
   ]
  },
  {
   "cell_type": "markdown",
   "id": "ccda0e02",
   "metadata": {
    "id": "ccda0e02"
   },
   "source": [
    "### Load the dataset"
   ]
  },
  {
   "cell_type": "code",
   "execution_count": 40,
   "id": "6cb3c5c2",
   "metadata": {
    "id": "6cb3c5c2"
   },
   "outputs": [
    {
     "data": {
      "text/plain": [
       "480"
      ]
     },
     "execution_count": 40,
     "metadata": {},
     "output_type": "execute_result"
    }
   ],
   "source": [
    "# The glob module is used to retrieve files/pathnames matching a specified pattern.\n",
    "# It is faster than other methods to match pathnames in directories\n",
    "wav_files = glob.glob(\"SaveeData/*/*.wav\")\n",
    "len(wav_files)\n"
   ]
  },
  {
   "cell_type": "markdown",
   "id": "312d38d4",
   "metadata": {
    "id": "312d38d4"
   },
   "source": [
    "### Explore the data and visualize"
   ]
  },
  {
   "cell_type": "markdown",
   "id": "b969945e",
   "metadata": {
    "id": "b969945e"
   },
   "source": [
    "#### Various emotions in given dataset"
   ]
  },
  {
   "cell_type": "code",
   "execution_count": 41,
   "id": "AY-tOVs2vRDS",
   "metadata": {
    "id": "AY-tOVs2vRDS"
   },
   "outputs": [
    {
     "data": {
      "text/plain": [
       "'SaveeData/KL/n17.wav'"
      ]
     },
     "execution_count": 41,
     "metadata": {},
     "output_type": "execute_result"
    }
   ],
   "source": [
    "wav_files[0]\n"
   ]
  },
  {
   "cell_type": "code",
   "execution_count": 42,
   "id": "NIEFQXfJbRUB",
   "metadata": {
    "id": "NIEFQXfJbRUB"
   },
   "outputs": [
    {
     "data": {
      "text/plain": [
       "{'angry', 'disgust', 'fear', 'happiness', 'neutral', 'sadness', 'surprise'}"
      ]
     },
     "execution_count": 42,
     "metadata": {},
     "output_type": "execute_result"
    }
   ],
   "source": [
    "emotions_ = []\n",
    "mapping = {\n",
    "    \"a\": \"angry\",\n",
    "    \"f\": \"fear\",\n",
    "    \"d\": \"disgust\",\n",
    "    \"h\": \"happiness\",\n",
    "    \"sa\": \"sadness\",\n",
    "    \"su\": \"surprise\",\n",
    "    \"n\": \"neutral\",\n",
    "}\n",
    "for file_name in wav_files:\n",
    "    emotions_.append(\n",
    "        mapping[re.sub(\"[0-9]*\", \"\", file_name.split(\"/\")[-1].split(\".\")[0])]\n",
    "    )\n",
    "set(emotions_)\n"
   ]
  },
  {
   "cell_type": "code",
   "execution_count": 43,
   "id": "1ff4bc9b",
   "metadata": {},
   "outputs": [
    {
     "data": {
      "text/plain": [
       "480"
      ]
     },
     "execution_count": 43,
     "metadata": {},
     "output_type": "execute_result"
    }
   ],
   "source": [
    "len(emotions_)\n"
   ]
  },
  {
   "cell_type": "markdown",
   "id": "6e5Y2ErqJLca",
   "metadata": {
    "id": "6e5Y2ErqJLca"
   },
   "source": [
    "#### Speech/Audio analysis Python Package: **Librosa**\n",
    "\n",
    "[Librosa](https://librosa.org/doc/latest/index.html) is a Python package for audio and music signal processing. At a high level, librosa provides implementations of a variety of common functions and helps in audio feature extraction and manipulation, segmentation, visualization, and display of feature representations."
   ]
  },
  {
   "cell_type": "markdown",
   "id": "a6c40a63",
   "metadata": {
    "id": "a6c40a63"
   },
   "source": [
    "#### Visualize sample audio signal using librosa"
   ]
  },
  {
   "cell_type": "code",
   "execution_count": 44,
   "id": "771b70e0",
   "metadata": {
    "id": "771b70e0"
   },
   "outputs": [
    {
     "data": {
      "image/png": "[encoded data removed]",
      "text/plain": [
       "<Figure size 1500x500 with 1 Axes>"
      ]
     },
     "metadata": {},
     "output_type": "display_data"
    }
   ],
   "source": [
    "# sample_audio_path = \"/content/SaveeData/DC/a03.wav\"\n",
    "sample_audio_path = \"./SaveeData/DC/a03.wav\"\n",
    "\n",
    "# librosa is used for analyzing and extracting features of an audio signal\n",
    "data, sampling_rate = librosa.load(sample_audio_path)\n",
    "plt.figure(figsize=(15, 5))\n",
    "\n",
    "# librosa.display.waveshow is used to plot waveform of amplitude vs time\n",
    "librosa.display.waveshow(data, sr=sampling_rate)\n",
    "plt.show()\n"
   ]
  },
  {
   "cell_type": "markdown",
   "id": "5LRVezSINn8X",
   "metadata": {
    "id": "5LRVezSINn8X"
   },
   "source": [
    "### Audio Features\n",
    "\n"
   ]
  },
  {
   "cell_type": "markdown",
   "id": "ceaa5afb",
   "metadata": {
    "id": "ceaa5afb"
   },
   "source": [
    "### Extract features\n",
    "\n",
    "* Load an audio using `librosa.load()`\n",
    "\n",
    "    `load()` function loads an audio file and decodes it into a 1-dimensional array which is a time series x , and sr is a sampling rate of x . Default sr is 22kHz.\n",
    "\n",
    "\n",
    "* Apply short term Fourier transform using `librosa.stft()\n",
    "\n",
    "    `stft()` converts data into short term Fourier transform. STFT converts signal such that we can know the amplitude of given frequency at a given time. Using STFT we can determine the amplitude of various frequencies playing at a given time of an audio signal.\n",
    "\n",
    "\n",
    "* Apply Mel-Frequency Cepstral Coefficients (MFCC) using librosa.feature.mfcc\n",
    "\n",
    "    This feature is one of the most important method to extract a feature of an audio signal and is used majorly whenever working on audio signals. The mel frequency cepstral coefficients (MFCCs) of a signal are a small set of features (usually about 10–20) which concisely describe the overall shape of a spectral envelope.\n",
    "    \n",
    "\n",
    "* Compute a chromagram from a waveform or power spectrogram using librosa.feature.chroma_stft\n",
    "    \n",
    "    Chroma features are a powerful tool for analyzing audio whose pitches can be meaningfully categorized (often into twelve categories) and whose tuning approximates to the equal-tempered scale. One main property of Chroma features is that they capture harmonic and melodic characteristics of music, while being robust to changes in timbre and instrumentation.\n",
    "\n",
    "\n",
    "* Compute a Mel-scaled spectrogram using librosa.feature.melspectrogram\n",
    "    \n",
    "    A Mel spectrogram is a spectrogram where the frequencies are converted to the Mel scale. Mel scale is a scale of pitches judged by listeners to be equal in distance one from another.\n",
    "\n",
    "For more information related to audio based features, refer [here](https://heartbeat.fritz.ai/working-with-audio-signals-in-python-6c2bd63b2daf)."
   ]
  },
  {
   "cell_type": "code",
   "execution_count": 45,
   "id": "e594300b",
   "metadata": {
    "id": "e594300b"
   },
   "outputs": [],
   "source": [
    "def extract_feature(file_name):\n",
    "    # load audio\n",
    "    X, sample_rate = librosa.load(file_name)\n",
    "    # apply stft()\n",
    "    stft = np.abs(librosa.stft(X))\n",
    "    result = np.array([])\n",
    "    # compute mfcc\n",
    "    mfccs = np.mean(librosa.feature.mfcc(y=X, sr=sample_rate, n_mfcc=40).T, axis=0)\n",
    "    # combine the features\n",
    "    result = np.hstack((result, mfccs))\n",
    "    # compute chroma features and combine\n",
    "    chroma = np.mean(librosa.feature.chroma_stft(S=stft, sr=sample_rate).T, axis=0)\n",
    "    result = np.hstack((result, chroma))\n",
    "    # compute melspectrogram and combine\n",
    "    mel = np.mean(librosa.feature.melspectrogram(y=X, sr=sample_rate).T, axis=0)\n",
    "    result = np.hstack((result, mel))\n",
    "    return result\n"
   ]
  },
  {
   "cell_type": "code",
   "execution_count": 46,
   "id": "07fbc13e",
   "metadata": {
    "id": "07fbc13e"
   },
   "outputs": [
    {
     "data": {
      "text/plain": [
       "(180,)"
      ]
     },
     "execution_count": 46,
     "metadata": {},
     "output_type": "execute_result"
    }
   ],
   "source": [
    "sample_feature = extract_feature(wav_files[0])  # ,mfcc=True, chroma=True, mel=True)\n",
    "sample_feature.shape\n"
   ]
  },
  {
   "cell_type": "code",
   "execution_count": 47,
   "id": "56b39db0",
   "metadata": {},
   "outputs": [
    {
     "name": "stdout",
     "output_type": "stream",
     "text": [
      "[-6.02695862e+02  1.46858246e+02  2.36849136e+01  1.47652321e+01\n",
      "  1.02162352e+01 -3.40067148e+00 -5.58810711e+00  4.79318589e-01\n",
      " -9.61423302e+00 -1.02569513e+01 -4.05923843e+00 -2.08154464e+00\n",
      "  7.98277092e+00  2.69199395e+00 -7.98152256e+00  5.46265781e-01\n",
      "  6.21996403e+00 -3.01850528e-01  1.12216711e+00  6.07819271e+00\n",
      " -1.63723135e+00 -3.87582660e+00  1.05261934e+00 -2.09982538e+00\n",
      "  1.02905488e+00  1.85546589e+00 -2.63606453e+00  2.27125332e-01\n",
      "  2.66348290e+00  2.50798315e-01 -1.10281312e+00  2.17286170e-01\n",
      " -1.62005603e+00 -7.95311153e-01  2.52827930e+00 -1.27844527e-01\n",
      " -1.01140106e+00  1.78675801e-01 -2.28522015e+00 -2.44604111e+00\n",
      "  5.69047630e-01  5.61814785e-01  6.17183566e-01  5.90235710e-01\n",
      "  5.80731273e-01  5.27267933e-01  5.39131761e-01  5.39826691e-01\n",
      "  6.00689054e-01  7.09428549e-01  6.53721333e-01  5.56216002e-01\n",
      "  1.04322387e-02  1.37810042e-04  2.41933740e-03  2.58417018e-02\n",
      "  3.84946801e-02  3.12550478e-02  2.97471602e-03  2.03022622e-02\n",
      "  3.50571536e-02  2.50517242e-02  8.45474973e-02  5.41851446e-02\n",
      "  4.48150188e-02  3.01825851e-02  2.67040003e-02  1.31329790e-01\n",
      "  4.26211566e-01  1.92922473e-01  5.85086755e-02  5.29052913e-02\n",
      "  2.36914847e-02  5.11937477e-02  6.65268227e-02  3.06224637e-02\n",
      "  7.54014924e-02  1.11218691e-02  4.91842022e-03  1.27383815e-02\n",
      "  9.64284968e-03  6.22445857e-03  2.02276697e-03  1.35101750e-03\n",
      "  1.25242164e-03  1.75168586e-03  1.91413600e-03  9.89335356e-04\n",
      "  7.15656672e-04  8.93708260e-04  3.09897237e-03  7.29115773e-03\n",
      "  3.30279837e-03  1.40992505e-03  1.38761068e-03  3.52219213e-03\n",
      "  6.03800640e-03  1.48360233e-03  8.25922180e-04  5.63112029e-04\n",
      "  5.04768919e-04  1.63083852e-04  1.38579358e-04  2.79701489e-04\n",
      "  9.89413675e-05  1.93391475e-04  9.65615327e-05  4.74098888e-05\n",
      "  4.77091126e-05  2.04865864e-05  4.57939204e-05  2.60129236e-05\n",
      "  3.22344058e-05  6.82239042e-05  1.07618129e-04  8.73287645e-05\n",
      "  9.78549724e-05  1.64165627e-04  1.08081789e-04  1.40171920e-04\n",
      "  3.33615062e-05  2.66465631e-05  2.96224971e-05  1.44898613e-05\n",
      "  2.09466725e-05  2.28084918e-05  1.37773250e-05  1.11874797e-05\n",
      "  1.47930641e-05  1.54981080e-05  1.53736310e-05  2.95526570e-05\n",
      "  5.06892502e-05  4.54686342e-05  3.75058844e-05  3.18903330e-05\n",
      "  1.79583094e-05  7.02627767e-06  5.16915134e-06  1.94217705e-06\n",
      "  7.90104241e-06  1.05148474e-05  1.33086633e-05  1.18571188e-05\n",
      "  1.47272540e-05  1.94917793e-05  2.03059262e-05  2.17008874e-05\n",
      "  1.97141235e-05  2.23744137e-05  1.96627352e-05  1.21913490e-05\n",
      "  4.60074079e-06  6.16364287e-06  4.15481964e-06  6.81511256e-06\n",
      "  8.90421506e-06  6.04735078e-06  7.07574418e-06  1.30935143e-06\n",
      "  1.30714147e-06  1.32637808e-06  1.12731755e-06  6.65868356e-07\n",
      "  4.09440617e-07  6.87543036e-07  5.23277549e-07  3.32518994e-07\n",
      "  1.64360557e-07  8.88495748e-08  4.10991134e-08  1.85089721e-08\n",
      "  1.04601598e-08  9.66861879e-09  8.79733530e-09  8.25964452e-09\n",
      "  8.20732016e-09  7.91065435e-09  4.60524863e-09  5.52644042e-10]\n"
     ]
    }
   ],
   "source": [
    "print(sample_feature)\n"
   ]
  },
  {
   "cell_type": "code",
   "execution_count": 48,
   "id": "cbf9fb73",
   "metadata": {
    "id": "cbf9fb73"
   },
   "outputs": [
    {
     "data": {
      "text/plain": [
       "numpy.ndarray"
      ]
     },
     "execution_count": 48,
     "metadata": {},
     "output_type": "execute_result"
    }
   ],
   "source": [
    "type(sample_feature)\n"
   ]
  },
  {
   "cell_type": "markdown",
   "id": "BWuiYSRZujrV",
   "metadata": {
    "id": "BWuiYSRZujrV"
   },
   "source": [
    "### Extract features and labels of all audio samples\n",
    "\n",
    "'DC', 'JE', 'JK' and 'KL' are four male speakers recorded for the SAVEE database. Audio files consist of audio WAV files..\n",
    "\n",
    "There are 15 sentences for each of the 7 emotion categories.\n",
    "The initial letter(s) of the file name represents the emotion class, and the following digits represent the sentence number.\n",
    "The letters 'a', 'd', 'f', 'h', 'n', 'sa' and 'su' represent 'anger', 'disgust', 'fear', 'happiness', 'neutral', 'sadness' and 'surprise' emotion classes respectively.\n",
    "\n",
    "E.g., '**SaveeData/JK/d03.wav**' is the 3rd disgust sentence.\n"
   ]
  },
  {
   "cell_type": "code",
   "execution_count": 49,
   "id": "LszCs0X2ujrX",
   "metadata": {
    "id": "LszCs0X2ujrX"
   },
   "outputs": [
    {
     "data": {
      "text/plain": [
       "{'a': 0, 'd': 1, 'f': 2, 'h': 3, 'n': 4, 'sa': 5, 'su': 6}"
      ]
     },
     "execution_count": 49,
     "metadata": {},
     "output_type": "execute_result"
    }
   ],
   "source": [
    "emotions_savee = {\"a\": 0, \"d\": 1, \"f\": 2, \"h\": 3, \"n\": 4, \"sa\": 5, \"su\": 6}\n",
    "emotions_savee\n"
   ]
  },
  {
   "cell_type": "code",
   "execution_count": 50,
   "id": "MpwttiUHujrY",
   "metadata": {
    "id": "MpwttiUHujrY"
   },
   "outputs": [],
   "source": [
    "# Declare list to append features and labels\n",
    "features, labels = [], []\n",
    "\n",
    "for wv_file in wav_files:\n",
    "    features.append(extract_feature(wv_file))\n",
    "    # extracting label\n",
    "    emt = re.sub(\"[0-9]*\", \"\", wv_file.split(\"/\")[-1].split(\".\")[0])\n",
    "    labels.append(emotions_savee[emt])\n"
   ]
  },
  {
   "cell_type": "code",
   "execution_count": 51,
   "id": "CupUb6NJujrY",
   "metadata": {
    "id": "CupUb6NJujrY"
   },
   "outputs": [
    {
     "data": {
      "text/plain": [
       "(480, 480)"
      ]
     },
     "execution_count": 51,
     "metadata": {},
     "output_type": "execute_result"
    }
   ],
   "source": [
    "len(features), len(labels)\n"
   ]
  },
  {
   "cell_type": "code",
   "execution_count": 52,
   "id": "IvFLfNruujrY",
   "metadata": {
    "id": "IvFLfNruujrY"
   },
   "outputs": [
    {
     "name": "stdout",
     "output_type": "stream",
     "text": [
      "{0, 1, 2, 3, 4, 5, 6}\n"
     ]
    }
   ],
   "source": [
    "print(set(labels))\n"
   ]
  },
  {
   "cell_type": "markdown",
   "id": "zaquN_fSujrZ",
   "metadata": {
    "id": "zaquN_fSujrZ"
   },
   "source": [
    "For further reading on audio acquisition, representation and storage refer the [book](http://www.dcs.gla.ac.uk/~vincia/textbook.pdf): *Camastra and Vinciarelli, 2007, Machine Learning for Audio, Image and Video Analysis*"
   ]
  }
 ],
 "metadata": {
  "colab": {
   "provenance": []
  },
  "kernelspec": {
   "display_name": ".venv",
   "language": "python",
   "name": "python3"
  },
  "language_info": {
   "codemirror_mode": {
    "name": "ipython",
    "version": 3
   },
   "file_extension": ".py",
   "mimetype": "text/x-python",
   "name": "python",
   "nbconvert_exporter": "python",
   "pygments_lexer": "ipython3",
   "version": "3.11.7"
  }
 },
 "nbformat": 4,
 "nbformat_minor": 5
}
