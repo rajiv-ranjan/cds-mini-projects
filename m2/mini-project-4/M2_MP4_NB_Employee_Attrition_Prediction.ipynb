{
 "cells": [
  {
   "cell_type": "markdown",
   "metadata": {
    "id": "hTplQkOMsKhd"
   },
   "source": [
    "# Advanced Certification Program in Computational Data Science\n",
    "## A program by IISc and TalentSprint\n",
    "### Mini Project Notebook: Employee Attrition Prediction"
   ]
  },
  {
   "cell_type": "markdown",
   "metadata": {
    "id": "WAJK03OtjDAB"
   },
   "source": [
    "## **Note:** This notebook is part of an in-house Kaggle competition"
   ]
  },
  {
   "cell_type": "markdown",
   "metadata": {
    "id": "w9wsH4KikGdd"
   },
   "source": [
    "## Problem Statement"
   ]
  },
  {
   "cell_type": "markdown",
   "metadata": {
    "id": "Bmh48BKlkIlm"
   },
   "source": [
    "To predict employee attrition using CatBoost and XgBoost"
   ]
  },
  {
   "cell_type": "markdown",
   "metadata": {
    "id": "8N0iS4ipU_XM"
   },
   "source": [
    "## Learning Objectives"
   ]
  },
  {
   "cell_type": "markdown",
   "metadata": {
    "id": "K8OXq65pVDDS"
   },
   "source": [
    "At the end of the experiment, you will be able to\n",
    "\n",
    "* explore the employee attrition dataset\n",
    "* apply CatBoost and XgBoost on the dataset\n",
    "* tune the model hyperparameters to improve accuracy\n",
    "* evaluate the model using suitable metrics\n"
   ]
  },
  {
   "cell_type": "markdown",
   "metadata": {
    "id": "GYxPNsZuYcGk"
   },
   "source": [
    "## Introduction\n",
    "\n",
    "Employee attrition is the gradual reduction in employee numbers. Employee attrition happens when the size of your workforce diminishes over time. This means that employees are leaving faster than they are hired. Employee attrition happens when employees retire, resign, or simply aren't replaced.\n",
    "Although employee attrition can be company-wide, it may also be confined to specific parts of a business.\n",
    "\n",
    "Employee attrition can happen for several reasons. These include unhappiness about employee benefits or the pay structure, a lack of employee development opportunities, and even poor conditions in the workplace.\n",
    "\n",
    "To know more about the factors that lead to employee attrition, refer [here](https://www.betterup.com/blog/employee-attrition#:~:text=Employee%20attrition%20is%20the%20gradual,or%20simply%20aren't%20replaced).\n"
   ]
  },
  {
   "cell_type": "markdown",
   "metadata": {
    "id": "dsJP8R-j7tO8"
   },
   "source": [
    "**Gradient Boosted Decision Trees**\n",
    "\n",
    "* Gradient boosted decision trees (GBDTs) are one of the most important machine learning models.\n",
    "\n",
    "* GBDTs originate from AdaBoost, an algorithm that ensembles weak learners and uses the majority vote, weighted by their individual accuracy, to solve binary classification problems. The weak learners in this case are decision trees with a single split, called decision stumps.\n",
    "\n",
    "* Some of the widely used gradient boosted decision trees are XgBoost, CatBoost and LightGBM."
   ]
  },
  {
   "cell_type": "markdown",
   "metadata": {
    "id": "YC0AF58YH-cn"
   },
   "source": [
    "## Dataset\n",
    "\n",
    "The dataset used for this mini-project is [HR Employee Attrition dataset](https://data.world/aaizemberg/hr-employee-attrition). This dataset is synthetically created by IBM data scientists. There are 35 features and 1470 records.\n",
    "\n",
    "There are numerical features such as:\n",
    "\n",
    "* Age\n",
    "* DistanceFromHome\n",
    "* EmployeeNumber\n",
    "* PerformanceRating\n",
    "\n",
    "There are several categorical features such as:\n",
    "* JobRole\n",
    "* EducationField\n",
    "* Department\n",
    "* BusinessTravel\n",
    "\n",
    "Dependent or target feature is 'attrition' which has values as Yes/No."
   ]
  },
  {
   "cell_type": "markdown",
   "metadata": {
    "id": "QrVGOVDsya0-"
   },
   "source": [
    "### **Kaggle Competition**"
   ]
  },
  {
   "cell_type": "markdown",
   "metadata": {
    "id": "fad4_EbCyfbg"
   },
   "source": [
    "Please refer to the link for viewing the\n",
    "[Kaggle Competition Document](https://drive.google.com/file/d/1c7PrbKrURFcnEB61dSoS9cBnUUVhhj-l/view?usp=drive_link) and join the Kaggle Competition using the hyperlink given in this document under '*Kaggle* Competition site'."
   ]
  },
  {
   "cell_type": "markdown",
   "metadata": {
    "id": "qkSHqm24yzOL"
   },
   "source": [
    "## Grading = 10 Points"
   ]
  },
  {
   "cell_type": "code",
   "execution_count": 1,
   "metadata": {},
   "outputs": [
    {
     "name": "stdout",
     "output_type": "stream",
     "text": [
      "\u001b[2K\u001b[2mResolved \u001b[1m58 packages\u001b[0m \u001b[2min 576ms\u001b[0m\u001b[0m                                        \u001b[0m\n",
      "\u001b[2mAudited \u001b[1m52 packages\u001b[0m \u001b[2min 0.59ms\u001b[0m\u001b[0m\n"
     ]
    }
   ],
   "source": [
    "!uv add ipykernel numpy matplotlib scikit-learn seaborn catboost scipy==1.12 xgboost lightgbm --upgrade\n"
   ]
  },
  {
   "cell_type": "code",
   "execution_count": 2,
   "metadata": {
    "cellView": "form",
    "id": "812a816f"
   },
   "outputs": [
    {
     "name": "stdout",
     "output_type": "stream",
     "text": [
      "Data Downloaded Successfuly!!\n"
     ]
    }
   ],
   "source": [
    "# @title Download the data\n",
    "from utility import download_if_missing\n",
    "\n",
    "download_if_missing(\n",
    "    filename=\"hr_employee_attrition_train.csv\",\n",
    "    url=\"https://cdn.iisc.talentsprint.com/CDS/MiniProjects/hr_employee_attrition_train.csv\",\n",
    ")\n",
    "\n",
    "# !wget -qq https://cdn.iisc.talentsprint.com/CDS/MiniProjects/hr_employee_attrition_train.csv\n",
    "print(\"Data Downloaded Successfuly!!\")\n"
   ]
  },
  {
   "cell_type": "markdown",
   "metadata": {
    "id": "1BJzstlcLh4k"
   },
   "source": [
    "### Install CatBoost"
   ]
  },
  {
   "cell_type": "code",
   "execution_count": 3,
   "metadata": {
    "id": "BYeUGMBZeqtL"
   },
   "outputs": [],
   "source": [
    "# !pip -qq install catboost\n",
    "# !uv add catboost numpy --upgrade\n"
   ]
  },
  {
   "cell_type": "markdown",
   "metadata": {
    "id": "1TmXyc2bRFvM"
   },
   "source": [
    "### Import Required Packages"
   ]
  },
  {
   "cell_type": "code",
   "execution_count": 4,
   "metadata": {
    "_uuid": "3f4d5f2c0b147e47776e71922cadb41524cb151b",
    "id": "v50DDzl0CEVk",
    "trusted": true
   },
   "outputs": [],
   "source": [
    "import numpy as np\n",
    "import pandas as pd\n",
    "import seaborn as sns\n",
    "from matplotlib import pyplot as plt\n",
    "from sklearn.metrics import roc_auc_score, accuracy_score, confusion_matrix, f1_score\n",
    "from sklearn.model_selection import train_test_split\n",
    "from lightgbm import LGBMClassifier\n",
    "from xgboost import XGBClassifier\n",
    "from catboost import CatBoostClassifier, metrics\n",
    "import warnings\n",
    "\n",
    "warnings.filterwarnings(\"ignore\")\n",
    "plt.style.use(\"fivethirtyeight\")\n",
    "pd.set_option(\"display.max_columns\", 100)\n",
    "%matplotlib inline\n"
   ]
  },
  {
   "cell_type": "markdown",
   "metadata": {
    "id": "0E7JUtgDYBDL"
   },
   "source": [
    "## Load the Dataset"
   ]
  },
  {
   "cell_type": "markdown",
   "metadata": {
    "id": "xhB7KfG7lAi6"
   },
   "source": [
    "**Exercise 1: Read the dataset [0.5 Mark]**\n",
    "\n",
    "**Hint:** pd.read_csv()"
   ]
  },
  {
   "cell_type": "code",
   "execution_count": 5,
   "metadata": {
    "id": "82VkFRBVSbG7"
   },
   "outputs": [],
   "source": [
    "# read the dataset\n",
    "# YOUR CODE HERE\n",
    "\n",
    "df = pd.read_csv(\"hr_employee_attrition_train.csv\")\n"
   ]
  },
  {
   "cell_type": "code",
   "execution_count": 6,
   "metadata": {
    "id": "L6QL6HbTZLjw"
   },
   "outputs": [
    {
     "data": {
      "text/plain": [
       "(1170, 35)"
      ]
     },
     "execution_count": 6,
     "metadata": {},
     "output_type": "execute_result"
    }
   ],
   "source": [
    "# Check the shape of dataframe.\n",
    "# YOUR CODE HERE\n",
    "\n",
    "df.shape\n"
   ]
  },
  {
   "cell_type": "markdown",
   "metadata": {
    "id": "BHxgkAr_4grD"
   },
   "source": [
    "There can be more than one file to read as this is introduced as a competition, dataset has one file for training the model. Their can be other files as one containing the test features and the other can be the true labels."
   ]
  },
  {
   "cell_type": "markdown",
   "metadata": {
    "_uuid": "07244b5b58d56fb4ac89efc5541074263a150ce5",
    "id": "5JgkRXxYCEVn"
   },
   "source": [
    "## Data Exploration\n",
    "\n",
    "- Check for missing values\n",
    "- Check for consistent data type across a feature\n",
    "- Check for outliers or inconsistencies in data columns\n",
    "- Check for correlated features\n",
    "- Do we have a target label imbalance\n",
    "- How our independent variables are distributed relative to our target label\n",
    "- Are there features that have strong linear or monotonic relationships? Making correlation heatmaps makes it easy to identify possible collinearity"
   ]
  },
  {
   "cell_type": "markdown",
   "metadata": {
    "id": "WNypN2YmlpwG"
   },
   "source": [
    "**Exercise 2: Create a `List` of numerical and categorical columns. Display a statistical description of the dataset. Remove missing values (if any) [0.5 Mark]**"
   ]
  },
  {
   "cell_type": "markdown",
   "metadata": {
    "id": "GuQKmcv0qLWo"
   },
   "source": [
    "**Hint:** Use `for` to iterate through each column."
   ]
  },
  {
   "cell_type": "code",
   "execution_count": 8,
   "metadata": {},
   "outputs": [
    {
     "name": "stdout",
     "output_type": "stream",
     "text": [
      "<class 'pandas.core.frame.DataFrame'>\n",
      "RangeIndex: 1170 entries, 0 to 1169\n",
      "Data columns (total 35 columns):\n",
      " #   Column                    Non-Null Count  Dtype \n",
      "---  ------                    --------------  ----- \n",
      " 0   age                       1170 non-null   int64 \n",
      " 1   businesstravel            1170 non-null   object\n",
      " 2   dailyrate                 1170 non-null   int64 \n",
      " 3   department                1170 non-null   object\n",
      " 4   distancefromhome          1170 non-null   int64 \n",
      " 5   education                 1170 non-null   int64 \n",
      " 6   educationfield            1170 non-null   object\n",
      " 7   employeecount             1170 non-null   int64 \n",
      " 8   employeenumber            1170 non-null   int64 \n",
      " 9   environmentsatisfaction   1170 non-null   int64 \n",
      " 10  gender                    1170 non-null   object\n",
      " 11  hourlyrate                1170 non-null   int64 \n",
      " 12  jobinvolvement            1170 non-null   int64 \n",
      " 13  joblevel                  1170 non-null   int64 \n",
      " 14  jobrole                   1170 non-null   object\n",
      " 15  jobsatisfaction           1170 non-null   int64 \n",
      " 16  maritalstatus             1170 non-null   object\n",
      " 17  monthlyincome             1170 non-null   int64 \n",
      " 18  monthlyrate               1170 non-null   int64 \n",
      " 19  numcompaniesworked        1170 non-null   int64 \n",
      " 20  over18                    1170 non-null   object\n",
      " 21  overtime                  1170 non-null   object\n",
      " 22  percentsalaryhike         1170 non-null   int64 \n",
      " 23  performancerating         1170 non-null   int64 \n",
      " 24  relationshipsatisfaction  1170 non-null   int64 \n",
      " 25  standardhours             1170 non-null   int64 \n",
      " 26  stockoptionlevel          1170 non-null   int64 \n",
      " 27  totalworkingyears         1170 non-null   int64 \n",
      " 28  trainingtimeslastyear     1170 non-null   int64 \n",
      " 29  worklifebalance           1170 non-null   int64 \n",
      " 30  yearsatcompany            1170 non-null   int64 \n",
      " 31  yearsincurrentrole        1170 non-null   int64 \n",
      " 32  yearssincelastpromotion   1170 non-null   int64 \n",
      " 33  yearswithcurrmanager      1170 non-null   int64 \n",
      " 34  attrition                 1170 non-null   object\n",
      "dtypes: int64(26), object(9)\n",
      "memory usage: 320.1+ KB\n"
     ]
    }
   ],
   "source": [
    "# Check the name and the data types of columns.\n",
    "df.info()\n"
   ]
  },
  {
   "cell_type": "code",
   "execution_count": 10,
   "metadata": {},
   "outputs": [
    {
     "data": {
      "text/html": [
       "<div>\n",
       "<style scoped>\n",
       "    .dataframe tbody tr th:only-of-type {\n",
       "        vertical-align: middle;\n",
       "    }\n",
       "\n",
       "    .dataframe tbody tr th {\n",
       "        vertical-align: top;\n",
       "    }\n",
       "\n",
       "    .dataframe thead th {\n",
       "        text-align: right;\n",
       "    }\n",
       "</style>\n",
       "<table border=\"1\" class=\"dataframe\">\n",
       "  <thead>\n",
       "    <tr style=\"text-align: right;\">\n",
       "      <th></th>\n",
       "      <th>age</th>\n",
       "      <th>businesstravel</th>\n",
       "      <th>dailyrate</th>\n",
       "      <th>department</th>\n",
       "      <th>distancefromhome</th>\n",
       "      <th>education</th>\n",
       "      <th>educationfield</th>\n",
       "      <th>employeecount</th>\n",
       "      <th>employeenumber</th>\n",
       "      <th>environmentsatisfaction</th>\n",
       "      <th>gender</th>\n",
       "      <th>hourlyrate</th>\n",
       "      <th>jobinvolvement</th>\n",
       "      <th>joblevel</th>\n",
       "      <th>jobrole</th>\n",
       "      <th>jobsatisfaction</th>\n",
       "      <th>maritalstatus</th>\n",
       "      <th>monthlyincome</th>\n",
       "      <th>monthlyrate</th>\n",
       "      <th>numcompaniesworked</th>\n",
       "      <th>over18</th>\n",
       "      <th>overtime</th>\n",
       "      <th>percentsalaryhike</th>\n",
       "      <th>performancerating</th>\n",
       "      <th>relationshipsatisfaction</th>\n",
       "      <th>standardhours</th>\n",
       "      <th>stockoptionlevel</th>\n",
       "      <th>totalworkingyears</th>\n",
       "      <th>trainingtimeslastyear</th>\n",
       "      <th>worklifebalance</th>\n",
       "      <th>yearsatcompany</th>\n",
       "      <th>yearsincurrentrole</th>\n",
       "      <th>yearssincelastpromotion</th>\n",
       "      <th>yearswithcurrmanager</th>\n",
       "      <th>attrition</th>\n",
       "    </tr>\n",
       "  </thead>\n",
       "  <tbody>\n",
       "    <tr>\n",
       "      <th>301</th>\n",
       "      <td>33</td>\n",
       "      <td>Travel_Frequently</td>\n",
       "      <td>515</td>\n",
       "      <td>Research &amp; Development</td>\n",
       "      <td>1</td>\n",
       "      <td>2</td>\n",
       "      <td>Life Sciences</td>\n",
       "      <td>1</td>\n",
       "      <td>73</td>\n",
       "      <td>1</td>\n",
       "      <td>Female</td>\n",
       "      <td>98</td>\n",
       "      <td>3</td>\n",
       "      <td>3</td>\n",
       "      <td>Research Director</td>\n",
       "      <td>4</td>\n",
       "      <td>Single</td>\n",
       "      <td>13458</td>\n",
       "      <td>15146</td>\n",
       "      <td>1</td>\n",
       "      <td>Y</td>\n",
       "      <td>Yes</td>\n",
       "      <td>12</td>\n",
       "      <td>3</td>\n",
       "      <td>3</td>\n",
       "      <td>80</td>\n",
       "      <td>0</td>\n",
       "      <td>15</td>\n",
       "      <td>1</td>\n",
       "      <td>3</td>\n",
       "      <td>15</td>\n",
       "      <td>14</td>\n",
       "      <td>8</td>\n",
       "      <td>12</td>\n",
       "      <td>No</td>\n",
       "    </tr>\n",
       "    <tr>\n",
       "      <th>951</th>\n",
       "      <td>40</td>\n",
       "      <td>Travel_Rarely</td>\n",
       "      <td>555</td>\n",
       "      <td>Research &amp; Development</td>\n",
       "      <td>2</td>\n",
       "      <td>3</td>\n",
       "      <td>Medical</td>\n",
       "      <td>1</td>\n",
       "      <td>521</td>\n",
       "      <td>2</td>\n",
       "      <td>Female</td>\n",
       "      <td>78</td>\n",
       "      <td>2</td>\n",
       "      <td>2</td>\n",
       "      <td>Laboratory Technician</td>\n",
       "      <td>3</td>\n",
       "      <td>Married</td>\n",
       "      <td>3448</td>\n",
       "      <td>13436</td>\n",
       "      <td>6</td>\n",
       "      <td>Y</td>\n",
       "      <td>No</td>\n",
       "      <td>22</td>\n",
       "      <td>4</td>\n",
       "      <td>2</td>\n",
       "      <td>80</td>\n",
       "      <td>1</td>\n",
       "      <td>20</td>\n",
       "      <td>3</td>\n",
       "      <td>3</td>\n",
       "      <td>1</td>\n",
       "      <td>0</td>\n",
       "      <td>0</td>\n",
       "      <td>0</td>\n",
       "      <td>No</td>\n",
       "    </tr>\n",
       "    <tr>\n",
       "      <th>1037</th>\n",
       "      <td>31</td>\n",
       "      <td>Travel_Rarely</td>\n",
       "      <td>196</td>\n",
       "      <td>Sales</td>\n",
       "      <td>29</td>\n",
       "      <td>4</td>\n",
       "      <td>Marketing</td>\n",
       "      <td>1</td>\n",
       "      <td>1784</td>\n",
       "      <td>1</td>\n",
       "      <td>Female</td>\n",
       "      <td>91</td>\n",
       "      <td>2</td>\n",
       "      <td>2</td>\n",
       "      <td>Sales Executive</td>\n",
       "      <td>4</td>\n",
       "      <td>Married</td>\n",
       "      <td>5468</td>\n",
       "      <td>13402</td>\n",
       "      <td>1</td>\n",
       "      <td>Y</td>\n",
       "      <td>No</td>\n",
       "      <td>14</td>\n",
       "      <td>3</td>\n",
       "      <td>1</td>\n",
       "      <td>80</td>\n",
       "      <td>2</td>\n",
       "      <td>13</td>\n",
       "      <td>3</td>\n",
       "      <td>3</td>\n",
       "      <td>12</td>\n",
       "      <td>7</td>\n",
       "      <td>5</td>\n",
       "      <td>7</td>\n",
       "      <td>No</td>\n",
       "    </tr>\n",
       "    <tr>\n",
       "      <th>800</th>\n",
       "      <td>24</td>\n",
       "      <td>Travel_Frequently</td>\n",
       "      <td>1287</td>\n",
       "      <td>Research &amp; Development</td>\n",
       "      <td>7</td>\n",
       "      <td>3</td>\n",
       "      <td>Life Sciences</td>\n",
       "      <td>1</td>\n",
       "      <td>647</td>\n",
       "      <td>1</td>\n",
       "      <td>Female</td>\n",
       "      <td>55</td>\n",
       "      <td>3</td>\n",
       "      <td>1</td>\n",
       "      <td>Laboratory Technician</td>\n",
       "      <td>3</td>\n",
       "      <td>Married</td>\n",
       "      <td>2886</td>\n",
       "      <td>14168</td>\n",
       "      <td>1</td>\n",
       "      <td>Y</td>\n",
       "      <td>Yes</td>\n",
       "      <td>16</td>\n",
       "      <td>3</td>\n",
       "      <td>4</td>\n",
       "      <td>80</td>\n",
       "      <td>1</td>\n",
       "      <td>6</td>\n",
       "      <td>4</td>\n",
       "      <td>3</td>\n",
       "      <td>6</td>\n",
       "      <td>3</td>\n",
       "      <td>1</td>\n",
       "      <td>2</td>\n",
       "      <td>Yes</td>\n",
       "    </tr>\n",
       "    <tr>\n",
       "      <th>835</th>\n",
       "      <td>50</td>\n",
       "      <td>Travel_Rarely</td>\n",
       "      <td>264</td>\n",
       "      <td>Sales</td>\n",
       "      <td>9</td>\n",
       "      <td>3</td>\n",
       "      <td>Marketing</td>\n",
       "      <td>1</td>\n",
       "      <td>1591</td>\n",
       "      <td>3</td>\n",
       "      <td>Male</td>\n",
       "      <td>59</td>\n",
       "      <td>3</td>\n",
       "      <td>5</td>\n",
       "      <td>Manager</td>\n",
       "      <td>3</td>\n",
       "      <td>Married</td>\n",
       "      <td>19331</td>\n",
       "      <td>19519</td>\n",
       "      <td>4</td>\n",
       "      <td>Y</td>\n",
       "      <td>Yes</td>\n",
       "      <td>16</td>\n",
       "      <td>3</td>\n",
       "      <td>3</td>\n",
       "      <td>80</td>\n",
       "      <td>1</td>\n",
       "      <td>27</td>\n",
       "      <td>2</td>\n",
       "      <td>3</td>\n",
       "      <td>1</td>\n",
       "      <td>0</td>\n",
       "      <td>0</td>\n",
       "      <td>0</td>\n",
       "      <td>No</td>\n",
       "    </tr>\n",
       "    <tr>\n",
       "      <th>240</th>\n",
       "      <td>35</td>\n",
       "      <td>Travel_Rarely</td>\n",
       "      <td>1224</td>\n",
       "      <td>Sales</td>\n",
       "      <td>7</td>\n",
       "      <td>4</td>\n",
       "      <td>Life Sciences</td>\n",
       "      <td>1</td>\n",
       "      <td>1962</td>\n",
       "      <td>3</td>\n",
       "      <td>Female</td>\n",
       "      <td>55</td>\n",
       "      <td>3</td>\n",
       "      <td>2</td>\n",
       "      <td>Sales Executive</td>\n",
       "      <td>4</td>\n",
       "      <td>Married</td>\n",
       "      <td>5204</td>\n",
       "      <td>13586</td>\n",
       "      <td>1</td>\n",
       "      <td>Y</td>\n",
       "      <td>Yes</td>\n",
       "      <td>11</td>\n",
       "      <td>3</td>\n",
       "      <td>4</td>\n",
       "      <td>80</td>\n",
       "      <td>0</td>\n",
       "      <td>10</td>\n",
       "      <td>2</td>\n",
       "      <td>3</td>\n",
       "      <td>10</td>\n",
       "      <td>8</td>\n",
       "      <td>0</td>\n",
       "      <td>9</td>\n",
       "      <td>No</td>\n",
       "    </tr>\n",
       "    <tr>\n",
       "      <th>637</th>\n",
       "      <td>50</td>\n",
       "      <td>Travel_Rarely</td>\n",
       "      <td>939</td>\n",
       "      <td>Research &amp; Development</td>\n",
       "      <td>24</td>\n",
       "      <td>3</td>\n",
       "      <td>Life Sciences</td>\n",
       "      <td>1</td>\n",
       "      <td>1005</td>\n",
       "      <td>4</td>\n",
       "      <td>Male</td>\n",
       "      <td>95</td>\n",
       "      <td>3</td>\n",
       "      <td>4</td>\n",
       "      <td>Manufacturing Director</td>\n",
       "      <td>3</td>\n",
       "      <td>Married</td>\n",
       "      <td>13973</td>\n",
       "      <td>4161</td>\n",
       "      <td>3</td>\n",
       "      <td>Y</td>\n",
       "      <td>Yes</td>\n",
       "      <td>18</td>\n",
       "      <td>3</td>\n",
       "      <td>4</td>\n",
       "      <td>80</td>\n",
       "      <td>1</td>\n",
       "      <td>22</td>\n",
       "      <td>2</td>\n",
       "      <td>3</td>\n",
       "      <td>12</td>\n",
       "      <td>11</td>\n",
       "      <td>1</td>\n",
       "      <td>5</td>\n",
       "      <td>No</td>\n",
       "    </tr>\n",
       "    <tr>\n",
       "      <th>302</th>\n",
       "      <td>42</td>\n",
       "      <td>Non-Travel</td>\n",
       "      <td>179</td>\n",
       "      <td>Human Resources</td>\n",
       "      <td>2</td>\n",
       "      <td>5</td>\n",
       "      <td>Medical</td>\n",
       "      <td>1</td>\n",
       "      <td>1231</td>\n",
       "      <td>4</td>\n",
       "      <td>Male</td>\n",
       "      <td>79</td>\n",
       "      <td>4</td>\n",
       "      <td>2</td>\n",
       "      <td>Human Resources</td>\n",
       "      <td>1</td>\n",
       "      <td>Married</td>\n",
       "      <td>6272</td>\n",
       "      <td>12858</td>\n",
       "      <td>7</td>\n",
       "      <td>Y</td>\n",
       "      <td>No</td>\n",
       "      <td>16</td>\n",
       "      <td>3</td>\n",
       "      <td>1</td>\n",
       "      <td>80</td>\n",
       "      <td>1</td>\n",
       "      <td>10</td>\n",
       "      <td>3</td>\n",
       "      <td>4</td>\n",
       "      <td>4</td>\n",
       "      <td>3</td>\n",
       "      <td>0</td>\n",
       "      <td>3</td>\n",
       "      <td>No</td>\n",
       "    </tr>\n",
       "    <tr>\n",
       "      <th>1110</th>\n",
       "      <td>49</td>\n",
       "      <td>Travel_Rarely</td>\n",
       "      <td>527</td>\n",
       "      <td>Research &amp; Development</td>\n",
       "      <td>8</td>\n",
       "      <td>2</td>\n",
       "      <td>Other</td>\n",
       "      <td>1</td>\n",
       "      <td>944</td>\n",
       "      <td>1</td>\n",
       "      <td>Female</td>\n",
       "      <td>51</td>\n",
       "      <td>3</td>\n",
       "      <td>3</td>\n",
       "      <td>Laboratory Technician</td>\n",
       "      <td>2</td>\n",
       "      <td>Married</td>\n",
       "      <td>7403</td>\n",
       "      <td>22477</td>\n",
       "      <td>4</td>\n",
       "      <td>Y</td>\n",
       "      <td>No</td>\n",
       "      <td>11</td>\n",
       "      <td>3</td>\n",
       "      <td>3</td>\n",
       "      <td>80</td>\n",
       "      <td>1</td>\n",
       "      <td>29</td>\n",
       "      <td>3</td>\n",
       "      <td>2</td>\n",
       "      <td>26</td>\n",
       "      <td>9</td>\n",
       "      <td>1</td>\n",
       "      <td>7</td>\n",
       "      <td>No</td>\n",
       "    </tr>\n",
       "    <tr>\n",
       "      <th>587</th>\n",
       "      <td>59</td>\n",
       "      <td>Travel_Frequently</td>\n",
       "      <td>1225</td>\n",
       "      <td>Sales</td>\n",
       "      <td>1</td>\n",
       "      <td>1</td>\n",
       "      <td>Life Sciences</td>\n",
       "      <td>1</td>\n",
       "      <td>91</td>\n",
       "      <td>1</td>\n",
       "      <td>Female</td>\n",
       "      <td>57</td>\n",
       "      <td>2</td>\n",
       "      <td>2</td>\n",
       "      <td>Sales Executive</td>\n",
       "      <td>3</td>\n",
       "      <td>Single</td>\n",
       "      <td>5473</td>\n",
       "      <td>24668</td>\n",
       "      <td>7</td>\n",
       "      <td>Y</td>\n",
       "      <td>No</td>\n",
       "      <td>11</td>\n",
       "      <td>3</td>\n",
       "      <td>4</td>\n",
       "      <td>80</td>\n",
       "      <td>0</td>\n",
       "      <td>20</td>\n",
       "      <td>2</td>\n",
       "      <td>2</td>\n",
       "      <td>4</td>\n",
       "      <td>3</td>\n",
       "      <td>1</td>\n",
       "      <td>3</td>\n",
       "      <td>No</td>\n",
       "    </tr>\n",
       "  </tbody>\n",
       "</table>\n",
       "</div>"
      ],
      "text/plain": [
       "      age     businesstravel  dailyrate              department  \\\n",
       "301    33  Travel_Frequently        515  Research & Development   \n",
       "951    40      Travel_Rarely        555  Research & Development   \n",
       "1037   31      Travel_Rarely        196                   Sales   \n",
       "800    24  Travel_Frequently       1287  Research & Development   \n",
       "835    50      Travel_Rarely        264                   Sales   \n",
       "240    35      Travel_Rarely       1224                   Sales   \n",
       "637    50      Travel_Rarely        939  Research & Development   \n",
       "302    42         Non-Travel        179         Human Resources   \n",
       "1110   49      Travel_Rarely        527  Research & Development   \n",
       "587    59  Travel_Frequently       1225                   Sales   \n",
       "\n",
       "      distancefromhome  education educationfield  employeecount  \\\n",
       "301                  1          2  Life Sciences              1   \n",
       "951                  2          3        Medical              1   \n",
       "1037                29          4      Marketing              1   \n",
       "800                  7          3  Life Sciences              1   \n",
       "835                  9          3      Marketing              1   \n",
       "240                  7          4  Life Sciences              1   \n",
       "637                 24          3  Life Sciences              1   \n",
       "302                  2          5        Medical              1   \n",
       "1110                 8          2          Other              1   \n",
       "587                  1          1  Life Sciences              1   \n",
       "\n",
       "      employeenumber  environmentsatisfaction  gender  hourlyrate  \\\n",
       "301               73                        1  Female          98   \n",
       "951              521                        2  Female          78   \n",
       "1037            1784                        1  Female          91   \n",
       "800              647                        1  Female          55   \n",
       "835             1591                        3    Male          59   \n",
       "240             1962                        3  Female          55   \n",
       "637             1005                        4    Male          95   \n",
       "302             1231                        4    Male          79   \n",
       "1110             944                        1  Female          51   \n",
       "587               91                        1  Female          57   \n",
       "\n",
       "      jobinvolvement  joblevel                 jobrole  jobsatisfaction  \\\n",
       "301                3         3       Research Director                4   \n",
       "951                2         2   Laboratory Technician                3   \n",
       "1037               2         2         Sales Executive                4   \n",
       "800                3         1   Laboratory Technician                3   \n",
       "835                3         5                 Manager                3   \n",
       "240                3         2         Sales Executive                4   \n",
       "637                3         4  Manufacturing Director                3   \n",
       "302                4         2         Human Resources                1   \n",
       "1110               3         3   Laboratory Technician                2   \n",
       "587                2         2         Sales Executive                3   \n",
       "\n",
       "     maritalstatus  monthlyincome  monthlyrate  numcompaniesworked over18  \\\n",
       "301         Single          13458        15146                   1      Y   \n",
       "951        Married           3448        13436                   6      Y   \n",
       "1037       Married           5468        13402                   1      Y   \n",
       "800        Married           2886        14168                   1      Y   \n",
       "835        Married          19331        19519                   4      Y   \n",
       "240        Married           5204        13586                   1      Y   \n",
       "637        Married          13973         4161                   3      Y   \n",
       "302        Married           6272        12858                   7      Y   \n",
       "1110       Married           7403        22477                   4      Y   \n",
       "587         Single           5473        24668                   7      Y   \n",
       "\n",
       "     overtime  percentsalaryhike  performancerating  relationshipsatisfaction  \\\n",
       "301       Yes                 12                  3                         3   \n",
       "951        No                 22                  4                         2   \n",
       "1037       No                 14                  3                         1   \n",
       "800       Yes                 16                  3                         4   \n",
       "835       Yes                 16                  3                         3   \n",
       "240       Yes                 11                  3                         4   \n",
       "637       Yes                 18                  3                         4   \n",
       "302        No                 16                  3                         1   \n",
       "1110       No                 11                  3                         3   \n",
       "587        No                 11                  3                         4   \n",
       "\n",
       "      standardhours  stockoptionlevel  totalworkingyears  \\\n",
       "301              80                 0                 15   \n",
       "951              80                 1                 20   \n",
       "1037             80                 2                 13   \n",
       "800              80                 1                  6   \n",
       "835              80                 1                 27   \n",
       "240              80                 0                 10   \n",
       "637              80                 1                 22   \n",
       "302              80                 1                 10   \n",
       "1110             80                 1                 29   \n",
       "587              80                 0                 20   \n",
       "\n",
       "      trainingtimeslastyear  worklifebalance  yearsatcompany  \\\n",
       "301                       1                3              15   \n",
       "951                       3                3               1   \n",
       "1037                      3                3              12   \n",
       "800                       4                3               6   \n",
       "835                       2                3               1   \n",
       "240                       2                3              10   \n",
       "637                       2                3              12   \n",
       "302                       3                4               4   \n",
       "1110                      3                2              26   \n",
       "587                       2                2               4   \n",
       "\n",
       "      yearsincurrentrole  yearssincelastpromotion  yearswithcurrmanager  \\\n",
       "301                   14                        8                    12   \n",
       "951                    0                        0                     0   \n",
       "1037                   7                        5                     7   \n",
       "800                    3                        1                     2   \n",
       "835                    0                        0                     0   \n",
       "240                    8                        0                     9   \n",
       "637                   11                        1                     5   \n",
       "302                    3                        0                     3   \n",
       "1110                   9                        1                     7   \n",
       "587                    3                        1                     3   \n",
       "\n",
       "     attrition  \n",
       "301         No  \n",
       "951         No  \n",
       "1037        No  \n",
       "800        Yes  \n",
       "835         No  \n",
       "240         No  \n",
       "637         No  \n",
       "302         No  \n",
       "1110        No  \n",
       "587         No  "
      ]
     },
     "execution_count": 10,
     "metadata": {},
     "output_type": "execute_result"
    }
   ],
   "source": [
    "# check a random sample from the dataframe\n",
    "df.sample(10)\n"
   ]
  },
  {
   "cell_type": "code",
   "execution_count": null,
   "metadata": {},
   "outputs": [],
   "source": [
    "# unique values in each column\n",
    "# count of unique values in each column\n",
    "# separate the columns as categorical and numerical\n"
   ]
  },
  {
   "cell_type": "code",
   "execution_count": 12,
   "metadata": {},
   "outputs": [
    {
     "name": "stdout",
     "output_type": "stream",
     "text": [
      "Number of Categorical Columns: 18\n",
      "Number of Numerical Columns: 15\n",
      "Number of Useless Columns: 2\n",
      "Total Columns: 35\n"
     ]
    }
   ],
   "source": [
    "categorical_columns = df.select_dtypes(include=[\"object\"]).columns\n",
    "numerical_columns = df.select_dtypes(exclude=[\"object\"]).columns\n",
    "\n",
    "categorical_columns = [\n",
    "    \"businesstravel\",\n",
    "    \"department\",\n",
    "    \"education\",\n",
    "    \"educationfield\",\n",
    "    \"environmentsatisfaction\",\n",
    "    \"gender\",\n",
    "    \"jobinvolvement\",\n",
    "    \"joblevel\",\n",
    "    \"jobrole\",\n",
    "    \"jobsatisfaction\",\n",
    "    \"maritalstatus\",\n",
    "    \"over18\",\n",
    "    \"overtime\",\n",
    "    \"performancerating\",\n",
    "    \"relationshipsatisfaction\",\n",
    "    \"stockoptionlevel\",\n",
    "    \"worklifebalance\",\n",
    "    \"attrition\",\n",
    "]\n",
    "numerical_columns = [\n",
    "    \"age\",\n",
    "    \"dailyrate\",\n",
    "    \"distancefromhome\",\n",
    "    \"hourlyrate\",\n",
    "    \"monthlyincome\",\n",
    "    \"monthlyrate\",\n",
    "    \"numcompaniesworked\",\n",
    "    \"percentsalaryhike\",\n",
    "    \"standardhours\",\n",
    "    \"totalworkingyears\",\n",
    "    \"trainingtimeslastyear\",\n",
    "    \"yearsatcompany\",\n",
    "    \"yearsincurrentrole\",\n",
    "    \"yearssincelastpromotion\",\n",
    "    \"yearswithcurrmanager\",\n",
    "]\n",
    "useless_columns = [\"employee_count\", \"employee_number\"]\n",
    "\n",
    "print(f\"Number of Categorical Columns: {len(categorical_columns)}\")\n",
    "print(f\"Number of Numerical Columns: {len(numerical_columns)}\")\n",
    "print(f\"Number of Useless Columns: {len(useless_columns)}\")\n",
    "print(\n",
    "    f\"Total Columns: {len(categorical_columns) + len(numerical_columns) + len(useless_columns)}\"\n",
    ")\n"
   ]
  },
  {
   "cell_type": "code",
   "execution_count": 14,
   "metadata": {},
   "outputs": [
    {
     "name": "stdout",
     "output_type": "stream",
     "text": [
      "Unique values in businesstravel: 3\n",
      "Count of unique values in businesstravel: businesstravel\n",
      "Travel_Rarely        831\n",
      "Travel_Frequently    221\n",
      "Non-Travel           118\n",
      "Name: count, dtype: int64\n",
      "Unique values in department: 3\n",
      "Count of unique values in department: department\n",
      "Research & Development    767\n",
      "Sales                     356\n",
      "Human Resources            47\n",
      "Name: count, dtype: int64\n",
      "Unique values in education: 5\n",
      "Count of unique values in education: education\n",
      "3    473\n",
      "4    305\n",
      "2    223\n",
      "1    129\n",
      "5     40\n",
      "Name: count, dtype: int64\n",
      "Unique values in educationfield: 6\n",
      "Count of unique values in educationfield: educationfield\n",
      "Life Sciences       477\n",
      "Medical             379\n",
      "Marketing           126\n",
      "Technical Degree    103\n",
      "Other                64\n",
      "Human Resources      21\n",
      "Name: count, dtype: int64\n",
      "Unique values in environmentsatisfaction: 4\n",
      "Count of unique values in environmentsatisfaction: environmentsatisfaction\n",
      "3    364\n",
      "4    356\n",
      "1    229\n",
      "2    221\n",
      "Name: count, dtype: int64\n",
      "Unique values in gender: 2\n",
      "Count of unique values in gender: gender\n",
      "Male      698\n",
      "Female    472\n",
      "Name: count, dtype: int64\n",
      "Unique values in jobinvolvement: 4\n",
      "Count of unique values in jobinvolvement: jobinvolvement\n",
      "3    698\n",
      "2    294\n",
      "4    118\n",
      "1     60\n",
      "Name: count, dtype: int64\n",
      "Unique values in joblevel: 5\n",
      "Count of unique values in joblevel: joblevel\n",
      "1    442\n",
      "2    412\n",
      "3    181\n",
      "4     86\n",
      "5     49\n",
      "Name: count, dtype: int64\n",
      "Unique values in jobrole: 9\n",
      "Count of unique values in jobrole: jobrole\n",
      "Sales Executive              258\n",
      "Research Scientist           236\n",
      "Laboratory Technician        209\n",
      "Manufacturing Director       112\n",
      "Healthcare Representative    103\n",
      "Manager                       85\n",
      "Sales Representative          65\n",
      "Research Director             63\n",
      "Human Resources               39\n",
      "Name: count, dtype: int64\n",
      "Unique values in jobsatisfaction: 4\n",
      "Count of unique values in jobsatisfaction: jobsatisfaction\n",
      "4    363\n",
      "3    352\n",
      "1    232\n",
      "2    223\n",
      "Name: count, dtype: int64\n",
      "Unique values in maritalstatus: 3\n",
      "Count of unique values in maritalstatus: maritalstatus\n",
      "Married     536\n",
      "Single      377\n",
      "Divorced    257\n",
      "Name: count, dtype: int64\n",
      "Unique values in over18: 1\n",
      "Count of unique values in over18: over18\n",
      "Y    1170\n",
      "Name: count, dtype: int64\n",
      "Unique values in overtime: 2\n",
      "Count of unique values in overtime: overtime\n",
      "No     845\n",
      "Yes    325\n",
      "Name: count, dtype: int64\n",
      "Unique values in performancerating: 2\n",
      "Count of unique values in performancerating: performancerating\n",
      "3    990\n",
      "4    180\n",
      "Name: count, dtype: int64\n",
      "Unique values in relationshipsatisfaction: 4\n",
      "Count of unique values in relationshipsatisfaction: relationshipsatisfaction\n",
      "3    378\n",
      "4    350\n",
      "2    229\n",
      "1    213\n",
      "Name: count, dtype: int64\n",
      "Unique values in stockoptionlevel: 4\n",
      "Count of unique values in stockoptionlevel: stockoptionlevel\n",
      "0    504\n",
      "1    481\n",
      "2    117\n",
      "3     68\n",
      "Name: count, dtype: int64\n",
      "Unique values in worklifebalance: 4\n",
      "Count of unique values in worklifebalance: worklifebalance\n",
      "3    697\n",
      "2    282\n",
      "4    122\n",
      "1     69\n",
      "Name: count, dtype: int64\n",
      "Unique values in attrition: 2\n",
      "Count of unique values in attrition: attrition\n",
      "No     981\n",
      "Yes    189\n",
      "Name: count, dtype: int64\n"
     ]
    }
   ],
   "source": [
    "for col in categorical_columns:\n",
    "    print(f\"Unique values in {col}: {df[col].nunique()}\")\n",
    "    print(f\"Count of unique values in {col}: {df[col].value_counts()}\")\n"
   ]
  },
  {
   "cell_type": "code",
   "execution_count": 7,
   "metadata": {
    "id": "rOHYyNvXRwHz"
   },
   "outputs": [
    {
     "data": {
      "text/html": [
       "<div>\n",
       "<style scoped>\n",
       "    .dataframe tbody tr th:only-of-type {\n",
       "        vertical-align: middle;\n",
       "    }\n",
       "\n",
       "    .dataframe tbody tr th {\n",
       "        vertical-align: top;\n",
       "    }\n",
       "\n",
       "    .dataframe thead th {\n",
       "        text-align: right;\n",
       "    }\n",
       "</style>\n",
       "<table border=\"1\" class=\"dataframe\">\n",
       "  <thead>\n",
       "    <tr style=\"text-align: right;\">\n",
       "      <th></th>\n",
       "      <th>age</th>\n",
       "      <th>dailyrate</th>\n",
       "      <th>distancefromhome</th>\n",
       "      <th>education</th>\n",
       "      <th>employeecount</th>\n",
       "      <th>employeenumber</th>\n",
       "      <th>environmentsatisfaction</th>\n",
       "      <th>hourlyrate</th>\n",
       "      <th>jobinvolvement</th>\n",
       "      <th>joblevel</th>\n",
       "      <th>jobsatisfaction</th>\n",
       "      <th>monthlyincome</th>\n",
       "      <th>monthlyrate</th>\n",
       "      <th>numcompaniesworked</th>\n",
       "      <th>percentsalaryhike</th>\n",
       "      <th>performancerating</th>\n",
       "      <th>relationshipsatisfaction</th>\n",
       "      <th>standardhours</th>\n",
       "      <th>stockoptionlevel</th>\n",
       "      <th>totalworkingyears</th>\n",
       "      <th>trainingtimeslastyear</th>\n",
       "      <th>worklifebalance</th>\n",
       "      <th>yearsatcompany</th>\n",
       "      <th>yearsincurrentrole</th>\n",
       "      <th>yearssincelastpromotion</th>\n",
       "      <th>yearswithcurrmanager</th>\n",
       "    </tr>\n",
       "  </thead>\n",
       "  <tbody>\n",
       "    <tr>\n",
       "      <th>count</th>\n",
       "      <td>1170.000000</td>\n",
       "      <td>1170.000000</td>\n",
       "      <td>1170.000000</td>\n",
       "      <td>1170.000000</td>\n",
       "      <td>1170.0</td>\n",
       "      <td>1170.000000</td>\n",
       "      <td>1170.000000</td>\n",
       "      <td>1170.000000</td>\n",
       "      <td>1170.000000</td>\n",
       "      <td>1170.000000</td>\n",
       "      <td>1170.000000</td>\n",
       "      <td>1170.000000</td>\n",
       "      <td>1170.000000</td>\n",
       "      <td>1170.000000</td>\n",
       "      <td>1170.000000</td>\n",
       "      <td>1170.000000</td>\n",
       "      <td>1170.000000</td>\n",
       "      <td>1170.0</td>\n",
       "      <td>1170.000000</td>\n",
       "      <td>1170.000000</td>\n",
       "      <td>1170.000000</td>\n",
       "      <td>1170.000000</td>\n",
       "      <td>1170.000000</td>\n",
       "      <td>1170.00000</td>\n",
       "      <td>1170.000000</td>\n",
       "      <td>1170.000000</td>\n",
       "    </tr>\n",
       "    <tr>\n",
       "      <th>mean</th>\n",
       "      <td>36.858120</td>\n",
       "      <td>797.822222</td>\n",
       "      <td>9.262393</td>\n",
       "      <td>2.917949</td>\n",
       "      <td>1.0</td>\n",
       "      <td>1021.113675</td>\n",
       "      <td>2.723932</td>\n",
       "      <td>65.501709</td>\n",
       "      <td>2.747009</td>\n",
       "      <td>2.049573</td>\n",
       "      <td>2.723077</td>\n",
       "      <td>6456.937607</td>\n",
       "      <td>14411.584615</td>\n",
       "      <td>2.750427</td>\n",
       "      <td>15.204274</td>\n",
       "      <td>3.153846</td>\n",
       "      <td>2.739316</td>\n",
       "      <td>80.0</td>\n",
       "      <td>0.785470</td>\n",
       "      <td>11.315385</td>\n",
       "      <td>2.842735</td>\n",
       "      <td>2.745299</td>\n",
       "      <td>6.925641</td>\n",
       "      <td>4.17094</td>\n",
       "      <td>2.138462</td>\n",
       "      <td>4.061538</td>\n",
       "    </tr>\n",
       "    <tr>\n",
       "      <th>std</th>\n",
       "      <td>9.183448</td>\n",
       "      <td>403.592661</td>\n",
       "      <td>8.150868</td>\n",
       "      <td>1.011534</td>\n",
       "      <td>0.0</td>\n",
       "      <td>600.548289</td>\n",
       "      <td>1.095847</td>\n",
       "      <td>20.310054</td>\n",
       "      <td>0.702625</td>\n",
       "      <td>1.096352</td>\n",
       "      <td>1.103799</td>\n",
       "      <td>4660.476506</td>\n",
       "      <td>7078.167743</td>\n",
       "      <td>2.521952</td>\n",
       "      <td>3.688952</td>\n",
       "      <td>0.360955</td>\n",
       "      <td>1.075225</td>\n",
       "      <td>0.0</td>\n",
       "      <td>0.847253</td>\n",
       "      <td>7.879363</td>\n",
       "      <td>1.306385</td>\n",
       "      <td>0.718864</td>\n",
       "      <td>6.232076</td>\n",
       "      <td>3.62788</td>\n",
       "      <td>3.201738</td>\n",
       "      <td>3.586350</td>\n",
       "    </tr>\n",
       "    <tr>\n",
       "      <th>min</th>\n",
       "      <td>18.000000</td>\n",
       "      <td>102.000000</td>\n",
       "      <td>1.000000</td>\n",
       "      <td>1.000000</td>\n",
       "      <td>1.0</td>\n",
       "      <td>1.000000</td>\n",
       "      <td>1.000000</td>\n",
       "      <td>30.000000</td>\n",
       "      <td>1.000000</td>\n",
       "      <td>1.000000</td>\n",
       "      <td>1.000000</td>\n",
       "      <td>1009.000000</td>\n",
       "      <td>2094.000000</td>\n",
       "      <td>0.000000</td>\n",
       "      <td>11.000000</td>\n",
       "      <td>3.000000</td>\n",
       "      <td>1.000000</td>\n",
       "      <td>80.0</td>\n",
       "      <td>0.000000</td>\n",
       "      <td>0.000000</td>\n",
       "      <td>0.000000</td>\n",
       "      <td>1.000000</td>\n",
       "      <td>0.000000</td>\n",
       "      <td>0.00000</td>\n",
       "      <td>0.000000</td>\n",
       "      <td>0.000000</td>\n",
       "    </tr>\n",
       "    <tr>\n",
       "      <th>25%</th>\n",
       "      <td>30.000000</td>\n",
       "      <td>461.000000</td>\n",
       "      <td>2.000000</td>\n",
       "      <td>2.000000</td>\n",
       "      <td>1.0</td>\n",
       "      <td>496.250000</td>\n",
       "      <td>2.000000</td>\n",
       "      <td>48.000000</td>\n",
       "      <td>2.000000</td>\n",
       "      <td>1.000000</td>\n",
       "      <td>2.000000</td>\n",
       "      <td>2914.750000</td>\n",
       "      <td>8387.500000</td>\n",
       "      <td>1.000000</td>\n",
       "      <td>12.000000</td>\n",
       "      <td>3.000000</td>\n",
       "      <td>2.000000</td>\n",
       "      <td>80.0</td>\n",
       "      <td>0.000000</td>\n",
       "      <td>6.000000</td>\n",
       "      <td>2.000000</td>\n",
       "      <td>2.000000</td>\n",
       "      <td>3.000000</td>\n",
       "      <td>2.00000</td>\n",
       "      <td>0.000000</td>\n",
       "      <td>2.000000</td>\n",
       "    </tr>\n",
       "    <tr>\n",
       "      <th>50%</th>\n",
       "      <td>35.000000</td>\n",
       "      <td>798.000000</td>\n",
       "      <td>7.000000</td>\n",
       "      <td>3.000000</td>\n",
       "      <td>1.0</td>\n",
       "      <td>1008.500000</td>\n",
       "      <td>3.000000</td>\n",
       "      <td>66.000000</td>\n",
       "      <td>3.000000</td>\n",
       "      <td>2.000000</td>\n",
       "      <td>3.000000</td>\n",
       "      <td>4903.500000</td>\n",
       "      <td>14536.000000</td>\n",
       "      <td>2.000000</td>\n",
       "      <td>14.000000</td>\n",
       "      <td>3.000000</td>\n",
       "      <td>3.000000</td>\n",
       "      <td>80.0</td>\n",
       "      <td>1.000000</td>\n",
       "      <td>10.000000</td>\n",
       "      <td>3.000000</td>\n",
       "      <td>3.000000</td>\n",
       "      <td>5.000000</td>\n",
       "      <td>3.00000</td>\n",
       "      <td>1.000000</td>\n",
       "      <td>3.000000</td>\n",
       "    </tr>\n",
       "    <tr>\n",
       "      <th>75%</th>\n",
       "      <td>43.000000</td>\n",
       "      <td>1146.750000</td>\n",
       "      <td>14.000000</td>\n",
       "      <td>4.000000</td>\n",
       "      <td>1.0</td>\n",
       "      <td>1548.500000</td>\n",
       "      <td>4.000000</td>\n",
       "      <td>83.000000</td>\n",
       "      <td>3.000000</td>\n",
       "      <td>3.000000</td>\n",
       "      <td>4.000000</td>\n",
       "      <td>8215.250000</td>\n",
       "      <td>20456.250000</td>\n",
       "      <td>4.000000</td>\n",
       "      <td>18.000000</td>\n",
       "      <td>3.000000</td>\n",
       "      <td>4.000000</td>\n",
       "      <td>80.0</td>\n",
       "      <td>1.000000</td>\n",
       "      <td>15.000000</td>\n",
       "      <td>3.000000</td>\n",
       "      <td>3.000000</td>\n",
       "      <td>9.000000</td>\n",
       "      <td>7.00000</td>\n",
       "      <td>2.750000</td>\n",
       "      <td>7.000000</td>\n",
       "    </tr>\n",
       "    <tr>\n",
       "      <th>max</th>\n",
       "      <td>60.000000</td>\n",
       "      <td>1499.000000</td>\n",
       "      <td>29.000000</td>\n",
       "      <td>5.000000</td>\n",
       "      <td>1.0</td>\n",
       "      <td>2065.000000</td>\n",
       "      <td>4.000000</td>\n",
       "      <td>100.000000</td>\n",
       "      <td>4.000000</td>\n",
       "      <td>5.000000</td>\n",
       "      <td>4.000000</td>\n",
       "      <td>19999.000000</td>\n",
       "      <td>26999.000000</td>\n",
       "      <td>9.000000</td>\n",
       "      <td>25.000000</td>\n",
       "      <td>4.000000</td>\n",
       "      <td>4.000000</td>\n",
       "      <td>80.0</td>\n",
       "      <td>3.000000</td>\n",
       "      <td>40.000000</td>\n",
       "      <td>6.000000</td>\n",
       "      <td>4.000000</td>\n",
       "      <td>40.000000</td>\n",
       "      <td>18.00000</td>\n",
       "      <td>15.000000</td>\n",
       "      <td>17.000000</td>\n",
       "    </tr>\n",
       "  </tbody>\n",
       "</table>\n",
       "</div>"
      ],
      "text/plain": [
       "               age    dailyrate  distancefromhome    education  employeecount  \\\n",
       "count  1170.000000  1170.000000       1170.000000  1170.000000         1170.0   \n",
       "mean     36.858120   797.822222          9.262393     2.917949            1.0   \n",
       "std       9.183448   403.592661          8.150868     1.011534            0.0   \n",
       "min      18.000000   102.000000          1.000000     1.000000            1.0   \n",
       "25%      30.000000   461.000000          2.000000     2.000000            1.0   \n",
       "50%      35.000000   798.000000          7.000000     3.000000            1.0   \n",
       "75%      43.000000  1146.750000         14.000000     4.000000            1.0   \n",
       "max      60.000000  1499.000000         29.000000     5.000000            1.0   \n",
       "\n",
       "       employeenumber  environmentsatisfaction   hourlyrate  jobinvolvement  \\\n",
       "count     1170.000000              1170.000000  1170.000000     1170.000000   \n",
       "mean      1021.113675                 2.723932    65.501709        2.747009   \n",
       "std        600.548289                 1.095847    20.310054        0.702625   \n",
       "min          1.000000                 1.000000    30.000000        1.000000   \n",
       "25%        496.250000                 2.000000    48.000000        2.000000   \n",
       "50%       1008.500000                 3.000000    66.000000        3.000000   \n",
       "75%       1548.500000                 4.000000    83.000000        3.000000   \n",
       "max       2065.000000                 4.000000   100.000000        4.000000   \n",
       "\n",
       "          joblevel  jobsatisfaction  monthlyincome   monthlyrate  \\\n",
       "count  1170.000000      1170.000000    1170.000000   1170.000000   \n",
       "mean      2.049573         2.723077    6456.937607  14411.584615   \n",
       "std       1.096352         1.103799    4660.476506   7078.167743   \n",
       "min       1.000000         1.000000    1009.000000   2094.000000   \n",
       "25%       1.000000         2.000000    2914.750000   8387.500000   \n",
       "50%       2.000000         3.000000    4903.500000  14536.000000   \n",
       "75%       3.000000         4.000000    8215.250000  20456.250000   \n",
       "max       5.000000         4.000000   19999.000000  26999.000000   \n",
       "\n",
       "       numcompaniesworked  percentsalaryhike  performancerating  \\\n",
       "count         1170.000000        1170.000000        1170.000000   \n",
       "mean             2.750427          15.204274           3.153846   \n",
       "std              2.521952           3.688952           0.360955   \n",
       "min              0.000000          11.000000           3.000000   \n",
       "25%              1.000000          12.000000           3.000000   \n",
       "50%              2.000000          14.000000           3.000000   \n",
       "75%              4.000000          18.000000           3.000000   \n",
       "max              9.000000          25.000000           4.000000   \n",
       "\n",
       "       relationshipsatisfaction  standardhours  stockoptionlevel  \\\n",
       "count               1170.000000         1170.0       1170.000000   \n",
       "mean                   2.739316           80.0          0.785470   \n",
       "std                    1.075225            0.0          0.847253   \n",
       "min                    1.000000           80.0          0.000000   \n",
       "25%                    2.000000           80.0          0.000000   \n",
       "50%                    3.000000           80.0          1.000000   \n",
       "75%                    4.000000           80.0          1.000000   \n",
       "max                    4.000000           80.0          3.000000   \n",
       "\n",
       "       totalworkingyears  trainingtimeslastyear  worklifebalance  \\\n",
       "count        1170.000000            1170.000000      1170.000000   \n",
       "mean           11.315385               2.842735         2.745299   \n",
       "std             7.879363               1.306385         0.718864   \n",
       "min             0.000000               0.000000         1.000000   \n",
       "25%             6.000000               2.000000         2.000000   \n",
       "50%            10.000000               3.000000         3.000000   \n",
       "75%            15.000000               3.000000         3.000000   \n",
       "max            40.000000               6.000000         4.000000   \n",
       "\n",
       "       yearsatcompany  yearsincurrentrole  yearssincelastpromotion  \\\n",
       "count     1170.000000          1170.00000              1170.000000   \n",
       "mean         6.925641             4.17094                 2.138462   \n",
       "std          6.232076             3.62788                 3.201738   \n",
       "min          0.000000             0.00000                 0.000000   \n",
       "25%          3.000000             2.00000                 0.000000   \n",
       "50%          5.000000             3.00000                 1.000000   \n",
       "75%          9.000000             7.00000                 2.750000   \n",
       "max         40.000000            18.00000                15.000000   \n",
       "\n",
       "       yearswithcurrmanager  \n",
       "count           1170.000000  \n",
       "mean               4.061538  \n",
       "std                3.586350  \n",
       "min                0.000000  \n",
       "25%                2.000000  \n",
       "50%                3.000000  \n",
       "75%                7.000000  \n",
       "max               17.000000  "
      ]
     },
     "execution_count": 7,
     "metadata": {},
     "output_type": "execute_result"
    }
   ],
   "source": [
    "# YOUR CODE HERE\n",
    "df.describe()\n"
   ]
  },
  {
   "cell_type": "markdown",
   "metadata": {
    "id": "-5LDX4tYR6Vs"
   },
   "source": [
    "First, we want to get a sense of our data:\n",
    "- What features have the most divergent distributions based on target class\n",
    "- Do we have a target label imbalance\n",
    "- How our independent variables are distributed relative to our target label\n",
    "- Are there features that have strong linear or monotonic relationships, making correlation heatmaps makes it easy to identify possible colinearity"
   ]
  },
  {
   "cell_type": "markdown",
   "metadata": {
    "id": "T5mUbdCMKBP8"
   },
   "source": [
    "### Check for outliers"
   ]
  },
  {
   "cell_type": "markdown",
   "metadata": {
    "id": "cYTnAs5UqlVn"
   },
   "source": [
    "**Exercise 3: Create a box plot to check for outliers [0.5 Mark]**"
   ]
  },
  {
   "cell_type": "code",
   "execution_count": null,
   "metadata": {
    "id": "OYTxh7gtFqyC"
   },
   "outputs": [],
   "source": [
    "# Check for outliers\n",
    "# YOUR CODE HERE\n"
   ]
  },
  {
   "cell_type": "markdown",
   "metadata": {
    "id": "42cBMGHQQOWP"
   },
   "source": [
    "### Handling outliers"
   ]
  },
  {
   "cell_type": "markdown",
   "metadata": {
    "id": "ei63U2m7qyGA"
   },
   "source": [
    "**Exercise 4: Use lower bound as 25% and upper bound as 75% to handle the outliers [0.5 Mark]**"
   ]
  },
  {
   "cell_type": "code",
   "execution_count": null,
   "metadata": {
    "id": "oT3yOFPoH0SH"
   },
   "outputs": [],
   "source": [
    "# YOUR CODE HERE\n"
   ]
  },
  {
   "cell_type": "code",
   "execution_count": null,
   "metadata": {
    "id": "QvrMPhTtJTYP"
   },
   "outputs": [],
   "source": [
    "# Recheck for outliers\n",
    "# YOUR CODE HERE\n"
   ]
  },
  {
   "cell_type": "markdown",
   "metadata": {
    "id": "_ha6PPo2iCAM"
   },
   "source": [
    "### Target label imbalance"
   ]
  },
  {
   "cell_type": "markdown",
   "metadata": {
    "id": "ryNwfdldrR0j"
   },
   "source": [
    "**Exercise 5: Check if there is an imbalance in target label [0.5 Mark]**"
   ]
  },
  {
   "cell_type": "markdown",
   "metadata": {
    "id": "j17VKVdnrb3R"
   },
   "source": [
    "**Hint:** Use value_counts()"
   ]
  },
  {
   "cell_type": "code",
   "execution_count": null,
   "metadata": {
    "id": "y1gsAjfLbi2Z"
   },
   "outputs": [],
   "source": [
    "# Count of unique values in Attrition column\n",
    "# YOUR CODE HERE\n"
   ]
  },
  {
   "cell_type": "code",
   "execution_count": null,
   "metadata": {
    "id": "g-8bU9moco7l"
   },
   "outputs": [],
   "source": [
    "# Plot barplot to visualize balance/imbalance\n",
    "# YOUR CODE HERE\n"
   ]
  },
  {
   "cell_type": "markdown",
   "metadata": {
    "id": "0N7tqroWP9iQ"
   },
   "source": [
    "If there is any imbalance in the dataset then a few techniques can be utilised (optional):\n",
    "1. SMOTE\n",
    "2. Cross Validation\n",
    "3. Regularizing the model's parameters"
   ]
  },
  {
   "cell_type": "markdown",
   "metadata": {
    "id": "79pQoaQ3iOG7"
   },
   "source": [
    "###Plot pairplot"
   ]
  },
  {
   "cell_type": "markdown",
   "metadata": {
    "id": "3Hfry_Fwr5nQ"
   },
   "source": [
    "**Exercise 6: Visualize the relationships between the predictor variables and the target variable using a pairplot [0.5 Mark]**"
   ]
  },
  {
   "cell_type": "markdown",
   "metadata": {
    "id": "aTBi6PLqsDbk"
   },
   "source": [
    "**Hint:** Use sns.pairplot"
   ]
  },
  {
   "cell_type": "code",
   "execution_count": null,
   "metadata": {
    "_uuid": "a7355f1c5bf552fca19d132df33d7994516873f6",
    "id": "OO9RJlfrCEVp",
    "trusted": true
   },
   "outputs": [],
   "source": [
    "# Visualize a pairplot with relevant features\n",
    "# YOUR CODE HERE\n"
   ]
  },
  {
   "cell_type": "markdown",
   "metadata": {
    "id": "UVKpOQqPuyew"
   },
   "source": [
    "### Explore Correlation\n",
    "\n",
    "- Plotting the Heatmap"
   ]
  },
  {
   "cell_type": "markdown",
   "metadata": {
    "id": "aIMCrjr1sNJc"
   },
   "source": [
    "**Exercise 7: Visualize the correlation among IBM employee attrition numerical features using a heatmap [0.5 Mark]**"
   ]
  },
  {
   "cell_type": "code",
   "execution_count": null,
   "metadata": {
    "id": "RC7eIV-P8rbX"
   },
   "outputs": [],
   "source": [
    "# Visualize heatmap\n",
    "# YOUR CODE HERE\n"
   ]
  },
  {
   "cell_type": "markdown",
   "metadata": {
    "id": "_FrUYzZWawAl"
   },
   "source": [
    "Comment on the observations made with the pairplot and heatmap"
   ]
  },
  {
   "cell_type": "markdown",
   "metadata": {
    "id": "oT9AhvtTQnKV"
   },
   "source": [
    "### Preparing the test feature space\n",
    "* Remove outliers if any\n",
    "* Handle the categorical feature if required\n",
    "* Other processing steps can also be followed."
   ]
  },
  {
   "cell_type": "code",
   "execution_count": null,
   "metadata": {
    "id": "vfhan6UWQ8EX"
   },
   "outputs": [],
   "source": [
    "# YOUR CODE HERE\n"
   ]
  },
  {
   "cell_type": "markdown",
   "metadata": {
    "id": "apS4f8aqWG71"
   },
   "source": [
    "Optional:\n",
    "Use `Hyperopt`, a hyperparameter tuning technique to identify the best set of parameters.\n",
    "\n",
    "Refer to the Additional Notebook: CatBoost parameter tuning [CDS-B8 GDrive -> Module 3 -> Assignments -> July 27, 2024 -> Additional Notebook (ungraded) -> Addl_NB_Tuning_hyerparameters_using_Hyperopt]"
   ]
  },
  {
   "cell_type": "markdown",
   "metadata": {
    "id": "j-ZPcVcn9w3U"
   },
   "source": [
    "In the notebook, data processing is done separately for different models.\n",
    "Considering the fact that different models may require data in different format and in turn different processes may be followed to process the data.\n",
    "\n",
    "If the processing steps followed for the models are same, data processing can also be done once."
   ]
  },
  {
   "cell_type": "markdown",
   "metadata": {
    "_uuid": "63f0a5564f30228e710a3c1b7f7914bd986b93f1",
    "id": "5ccGpKffCEVt"
   },
   "source": [
    "## Apply CatBoost\n",
    "\n",
    "Catboost was released in 2017 by Yandex, showing, by their benchmark to be faster in prediction, better in accuracy, and easier to use for categorical data across a series of GBDT tasks. Additional capabilities of catboost include plotting feature interactions and object (row) importance.\n",
    "\n",
    "[Here](https://catboost.ai/en/docs/) is the official documentation of CatBoost"
   ]
  },
  {
   "cell_type": "markdown",
   "metadata": {
    "id": "7d7v3VlYQXGY"
   },
   "source": [
    "### Data Processing for CatBoost"
   ]
  },
  {
   "cell_type": "markdown",
   "metadata": {
    "id": "45hA2ZB9tHGW"
   },
   "source": [
    "**Exercise 8: Data processing for CatBoost [1 Mark]**\n",
    "* **Copy the dataframe that was created after removing the outliers**\n",
    "* **Handle the categorical features if required**\n",
    "* **Create target column and feature space**"
   ]
  },
  {
   "cell_type": "markdown",
   "metadata": {
    "id": "plxqVIWHt_9M"
   },
   "source": [
    "**Hint:** Column containing the information on attrition will be the target column."
   ]
  },
  {
   "cell_type": "code",
   "execution_count": null,
   "metadata": {
    "id": "V_mmH_ltZPvP"
   },
   "outputs": [],
   "source": [
    "# Copy the data\n",
    "# YOUR CODE HERE\n"
   ]
  },
  {
   "cell_type": "code",
   "execution_count": null,
   "metadata": {
    "id": "f-0M3uWuZs_B"
   },
   "outputs": [],
   "source": [
    "# Target Column\n",
    "# YOUR CODE HERE\n"
   ]
  },
  {
   "cell_type": "code",
   "execution_count": null,
   "metadata": {
    "id": "icGflPlLaBre"
   },
   "outputs": [],
   "source": [
    "# Feature Space\n",
    "# YOUR CODE HERE\n"
   ]
  },
  {
   "cell_type": "markdown",
   "metadata": {
    "id": "s0Z0cbeS4BrT"
   },
   "source": [
    "### Model Definition"
   ]
  },
  {
   "cell_type": "markdown",
   "metadata": {
    "id": "Bphb_wNwupwi"
   },
   "source": [
    "**Exercise 9: Define, train the model and display the results [2 Mark]**"
   ]
  },
  {
   "cell_type": "markdown",
   "metadata": {
    "id": "K2e980Yyu3oJ"
   },
   "source": [
    "**Hint:**\n",
    "* Use CatBoostClassifier() to define the model with relevant parameters.\n",
    "* Use `fit` to fit the data to the model. Refer [here](https://catboost.ai/en/docs/concepts/speed-up-training) to see some ways to speedup CatBoost training.\n",
    "* Evaluate the model using roc_auc_score, accuracy_score, f1_score, predict methods or other relevant techniques."
   ]
  },
  {
   "cell_type": "code",
   "execution_count": null,
   "metadata": {
    "id": "kIMPGCfMDIZR"
   },
   "outputs": [],
   "source": [
    "# Create CatBoost model\n",
    "# YOUR CODE HERE\n"
   ]
  },
  {
   "cell_type": "code",
   "execution_count": null,
   "metadata": {
    "id": "nkRYWmGfDMu-"
   },
   "outputs": [],
   "source": [
    "# Model training\n",
    "# YOUR CODE HERE\n"
   ]
  },
  {
   "cell_type": "markdown",
   "metadata": {
    "id": "stov-GDTGrOw"
   },
   "source": [
    "### Model performance"
   ]
  },
  {
   "cell_type": "code",
   "execution_count": null,
   "metadata": {
    "id": "1k6sOOU-FNs7"
   },
   "outputs": [],
   "source": [
    "# Model performance on all sets\n",
    "# YOUR CODE HERE\n"
   ]
  },
  {
   "cell_type": "markdown",
   "metadata": {
    "id": "_hk4Kw5QGXCU"
   },
   "source": [
    "## Apply XGBoost\n",
    "\n",
    "XGBoost is a workhorse gradient boosted decision tree algorithm. Its been around since 2014 and has come to dominate the Kaggle and data science community. XGB introduced gradient boosting where new models are fit to the residuals of prior models and then added together, using a gradient descent algorithm to minimize the loss.\n",
    "\n",
    "Read [here](https://xgboost.readthedocs.io/en/stable/parameter.html) on XGBoost parameters.\n",
    "\n",
    "Refer [here](https://xgboost.readthedocs.io/en/stable/python/python_api.html#xgboost.XGBClassifier) for the official documentation of XGBoost classifier."
   ]
  },
  {
   "cell_type": "markdown",
   "metadata": {
    "id": "3KbfDzqudx5H"
   },
   "source": [
    "### Data Processing for XGBoost\n"
   ]
  },
  {
   "cell_type": "markdown",
   "metadata": {
    "id": "Yk6NedArvxbn"
   },
   "source": [
    "**Exercise 10: Data Processing for XGBoost [1 Mark]**\n",
    "* **Copy the dataframe after the outliers were removed.**\n",
    "* **Handle the categorical features if required**\n",
    "* **Create target column and feature space**"
   ]
  },
  {
   "cell_type": "code",
   "execution_count": null,
   "metadata": {
    "id": "wT2RVw4JTAGp"
   },
   "outputs": [],
   "source": [
    "# Copy dataframe\n",
    "# YOUR CODE HERE\n"
   ]
  },
  {
   "cell_type": "markdown",
   "metadata": {
    "id": "jeTPMeNlwP2e"
   },
   "source": [
    "**Hint:** Use pd.get_dummies"
   ]
  },
  {
   "cell_type": "code",
   "execution_count": null,
   "metadata": {
    "id": "QX1wnlPFWViw"
   },
   "outputs": [],
   "source": [
    "# Handling categorical features\n",
    "# YOUR CODE HERE\n"
   ]
  },
  {
   "cell_type": "code",
   "execution_count": null,
   "metadata": {
    "id": "f-K7vfixWup8"
   },
   "outputs": [],
   "source": [
    "# Concat the dummy variables to actual dataframe and remove initial categorical columns\n",
    "# YOUR CODE HERE\n"
   ]
  },
  {
   "cell_type": "markdown",
   "metadata": {
    "id": "usRVCrd5wkC1"
   },
   "source": [
    "When creating the dummy variables, the name of attrition column was changed, rename to 'attrition' again."
   ]
  },
  {
   "cell_type": "markdown",
   "metadata": {
    "id": "OnyrNF9Fw2eS"
   },
   "source": [
    "**Hint:** Use .rename"
   ]
  },
  {
   "cell_type": "code",
   "execution_count": null,
   "metadata": {
    "id": "sCkr7gvLXxLs"
   },
   "outputs": [],
   "source": [
    "# Rename target column\n",
    "# YOUR CODE HERE\n"
   ]
  },
  {
   "cell_type": "code",
   "execution_count": null,
   "metadata": {
    "id": "SA-WIpLAX3KH"
   },
   "outputs": [],
   "source": [
    "# Feature Space\n",
    "# YOUR CODE HERE\n",
    "\n",
    "# Targer label\n",
    "# YOUR CODE HERE\n"
   ]
  },
  {
   "cell_type": "markdown",
   "metadata": {
    "id": "ccLyB9J04hDF"
   },
   "source": [
    "### Model Definition"
   ]
  },
  {
   "cell_type": "markdown",
   "metadata": {
    "id": "JPinBk5NxRpt"
   },
   "source": [
    "**Exercise 11: Define, train the model and display the results [2 Mark]**"
   ]
  },
  {
   "cell_type": "markdown",
   "metadata": {
    "id": "-LFyiv0Mxcl-"
   },
   "source": [
    "**Hint:**\n",
    "* Use XGBClassifier() to define the model with relevant parameters.\n",
    "* Use `fit` to fit the data to the model.\n",
    "* Evaluate the model using roc_auc_score, accuracy_score, f1_score, predict methods or other relevant techniques."
   ]
  },
  {
   "cell_type": "code",
   "execution_count": null,
   "metadata": {
    "id": "nxtvfYpzVxTc"
   },
   "outputs": [],
   "source": [
    "# Create XGBoost classifier model\n",
    "# YOUR CODE HERE\n"
   ]
  },
  {
   "cell_type": "code",
   "execution_count": null,
   "metadata": {
    "id": "hrN85N3X_Sar"
   },
   "outputs": [],
   "source": [
    "# Model training\n",
    "# YOUR CODE HERE\n"
   ]
  },
  {
   "cell_type": "markdown",
   "metadata": {
    "id": "cA5ZK31mPox1"
   },
   "source": [
    "### Model Performance"
   ]
  },
  {
   "cell_type": "code",
   "execution_count": null,
   "metadata": {
    "id": "wQXg9FhcmwIw"
   },
   "outputs": [],
   "source": [
    "# Model performance on all sets\n",
    "# YOUR CODE HERE\n"
   ]
  },
  {
   "cell_type": "markdown",
   "metadata": {
    "_uuid": "d1aa61b46b4cc4966124e75394f6f5a1e585f3cc",
    "id": "8Iki__IJCEVs"
   },
   "source": [
    "## Apply LightGBM (Optional)\n",
    "\n",
    "LightGBM is an open-source GBDT framework created by Microsoft as a fast and scalable alternative to XGB and GBM. By default LightGBM will train a Gradient Boosted Decision Tree (GBDT), but it also supports random forests, Dropouts meet Multiple Additive Regression Trees (DART), and Gradient Based One-Side Sampling (Goss).\n",
    "\n",
    "To know more about LightGBM parameters, refer [here](https://lightgbm.readthedocs.io/en/latest/pythonapi/lightgbm.LGBMClassifier.html#lightgbm.LGBMClassifier)."
   ]
  },
  {
   "cell_type": "markdown",
   "metadata": {
    "id": "QGVwrT59tEx_"
   },
   "source": [
    "### Feature Engineering for LightGBM"
   ]
  },
  {
   "cell_type": "code",
   "execution_count": null,
   "metadata": {
    "id": "eYq9Z02Bs4-x"
   },
   "outputs": [],
   "source": [
    "## Following the same procedure as followed in XGBoost\n",
    "\n",
    "# Copy the dataframe\n",
    "# YOUR CODE HERE\n",
    "\n",
    "# Handling categorical features\n",
    "# YOUR CODE HERE\n",
    "\n",
    "# Concat the dummy variables to actual dataframe and remove initial categorical columns\n",
    "# YOUR CODE HERE\n",
    "\n",
    "# Rename target column\n",
    "# YOUR CODE HERE\n",
    "\n",
    "# Features Space\n",
    "# YOUR CODE HERE\n",
    "\n",
    "# Target Label\n",
    "# YOUR CODE HERE\n"
   ]
  },
  {
   "cell_type": "markdown",
   "metadata": {
    "id": "HNxN3-gU4ZWn"
   },
   "source": [
    "### Model Definition"
   ]
  },
  {
   "cell_type": "markdown",
   "metadata": {
    "id": "lrZlE4IJydou"
   },
   "source": [
    "**Hint:**\n",
    "* Use LGBMClassifier() to define the model with relevant parameters.\n",
    "* Use `fit` to fit the data to the model.\n",
    "* Evaluate the model using roc_auc_score, accuracy_score, f1_score, predict methods or other relevant techniques."
   ]
  },
  {
   "cell_type": "code",
   "execution_count": null,
   "metadata": {
    "id": "4fWl23dHXHAP"
   },
   "outputs": [],
   "source": [
    "# Create LightGBM classifier model\n",
    "# YOUR CODE HERE\n"
   ]
  },
  {
   "cell_type": "code",
   "execution_count": null,
   "metadata": {
    "id": "5FktD02ntN1T"
   },
   "outputs": [],
   "source": [
    "# Model training\n",
    "# YOUR CODE HERE\n"
   ]
  },
  {
   "cell_type": "markdown",
   "metadata": {
    "id": "upM6hxP_SbPw"
   },
   "source": [
    "### Model performance"
   ]
  },
  {
   "cell_type": "code",
   "execution_count": null,
   "metadata": {
    "id": "mmM2WvTGSd_l"
   },
   "outputs": [],
   "source": [
    "# Model performance on all sets\n",
    "# YOUR CODE HERE\n"
   ]
  },
  {
   "cell_type": "markdown",
   "metadata": {
    "_uuid": "33789095f30bba0c1ae0d9c5c78207ba4014800b",
    "id": "18zLjk0qCEVu"
   },
   "source": [
    "## Results"
   ]
  },
  {
   "cell_type": "markdown",
   "metadata": {
    "id": "2eQwUXGgy78m"
   },
   "source": [
    "**Exercise 12: Create a dataframe of XGBoost results and CatBoost results and display them [0.5 Mark]**"
   ]
  },
  {
   "cell_type": "markdown",
   "metadata": {
    "id": "nWQkWdRmzQ6n"
   },
   "source": [
    "**Hint:** Use pd.DataFrame"
   ]
  },
  {
   "cell_type": "code",
   "execution_count": null,
   "metadata": {
    "_uuid": "8c99bac7c8c6302c2d2fb6e00f1f17453d972265",
    "id": "qFGMmqS-CEVu",
    "trusted": true
   },
   "outputs": [],
   "source": [
    "# Create a dataframe for computed metrics for different models\n",
    "# YOUR CODE HERE\n"
   ]
  },
  {
   "cell_type": "markdown",
   "metadata": {
    "id": "tWJ9p6CSfxAH"
   },
   "source": [
    "Reference reading:\n",
    "1. https://machinelearningmastery.com/xgboost-for-imbalanced-classification/"
   ]
  },
  {
   "cell_type": "markdown",
   "metadata": {
    "id": "Txq8oLEs4Op1"
   },
   "source": [
    "## Kaggle Prediction"
   ]
  },
  {
   "cell_type": "markdown",
   "metadata": {
    "id": "7uHk3jvf4S46"
   },
   "source": [
    "Load data from Kaggle competition site"
   ]
  },
  {
   "cell_type": "code",
   "execution_count": null,
   "metadata": {
    "id": "Fciin_p26_jA"
   },
   "outputs": [],
   "source": [
    "# From the given Kaggle competition link, load the dataset 'hr_employee_attrition_test.csv'\n",
    "# YOUR CODE HERE\n"
   ]
  },
  {
   "cell_type": "code",
   "execution_count": null,
   "metadata": {
    "id": "pleyFrRf7Ds0"
   },
   "outputs": [],
   "source": [
    "# From the dataset 'hr_employee_attrition_test.csv', drop columns ['id','employeenumber', 'employeecount', 'over18'] having single value\n",
    "# YOUR CODE HERE\n"
   ]
  },
  {
   "cell_type": "code",
   "execution_count": null,
   "metadata": {
    "id": "fYvpXIaw7hQQ"
   },
   "outputs": [],
   "source": [
    "# Handle categorical features\n",
    "# YOUR CODE HERE\n"
   ]
  },
  {
   "cell_type": "code",
   "execution_count": null,
   "metadata": {
    "id": "AnihyFFM7pbC"
   },
   "outputs": [],
   "source": [
    "# Concat the dummy variables to actual dataframe and remove initial categorical columns\n",
    "# YOUR CODE HERE\n"
   ]
  },
  {
   "cell_type": "markdown",
   "metadata": {
    "id": "KfiThqH87vs1"
   },
   "source": [
    "Predictions"
   ]
  },
  {
   "cell_type": "code",
   "execution_count": null,
   "metadata": {
    "id": "hW-vkBcs74se"
   },
   "outputs": [],
   "source": [
    "# Get the predictions using your already trained CatBoost classifier model achieved in Exercise 9\n",
    "# YOUR CODE HERE\n"
   ]
  },
  {
   "cell_type": "code",
   "execution_count": null,
   "metadata": {
    "id": "u9nTocSC91-9"
   },
   "outputs": [],
   "source": [
    "# Get the predictions using your already trained XGBoost classifier model achieved in Exercise 11\n",
    "# YOUR CODE HERE\n"
   ]
  },
  {
   "cell_type": "markdown",
   "metadata": {
    "id": "5kW1VMpW-20p"
   },
   "source": [
    "Get the predictions using your trained Microsoft LightGBM model (Optional)"
   ]
  },
  {
   "cell_type": "code",
   "execution_count": null,
   "metadata": {
    "id": "vMHO0g9B-PtX"
   },
   "outputs": [],
   "source": [
    "# Get the predictions using your already trained Microsoft LightGBM classifier model\n",
    "# achieved under the optional exercise 'Apply LightGBM (Optional)'\n",
    "# YOUR CODE HERE\n"
   ]
  },
  {
   "cell_type": "markdown",
   "metadata": {
    "id": "L4rzXFk-_lzk"
   },
   "source": [
    "Save predictions to csv and submit under given Kaggle competiton link"
   ]
  },
  {
   "cell_type": "code",
   "execution_count": null,
   "metadata": {
    "id": "F0zukSXl_wcP"
   },
   "outputs": [],
   "source": [
    "# YOUR CODE HERE\n"
   ]
  }
 ],
 "metadata": {
  "accelerator": "GPU",
  "colab": {
   "provenance": []
  },
  "gpuClass": "standard",
  "kernelspec": {
   "display_name": ".venv",
   "language": "python",
   "name": "python3"
  },
  "language_info": {
   "codemirror_mode": {
    "name": "ipython",
    "version": 3
   },
   "file_extension": ".py",
   "mimetype": "text/x-python",
   "name": "python",
   "nbconvert_exporter": "python",
   "pygments_lexer": "ipython3",
   "version": "3.11.7"
  }
 },
 "nbformat": 4,
 "nbformat_minor": 0
}
