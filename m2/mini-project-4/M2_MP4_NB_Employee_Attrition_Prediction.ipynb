{
 "cells": [
  {
   "cell_type": "markdown",
   "metadata": {
    "id": "hTplQkOMsKhd"
   },
   "source": [
    "# Advanced Certification Program in Computational Data Science\n",
    "## A program by IISc and TalentSprint\n",
    "### Mini Project Notebook: Employee Attrition Prediction"
   ]
  },
  {
   "cell_type": "markdown",
   "metadata": {
    "id": "WAJK03OtjDAB"
   },
   "source": [
    "## **Note:** This notebook is part of an in-house Kaggle competition"
   ]
  },
  {
   "cell_type": "markdown",
   "metadata": {
    "id": "w9wsH4KikGdd"
   },
   "source": [
    "## Problem Statement"
   ]
  },
  {
   "cell_type": "markdown",
   "metadata": {
    "id": "Bmh48BKlkIlm"
   },
   "source": [
    "To predict employee attrition using CatBoost and XgBoost"
   ]
  },
  {
   "cell_type": "markdown",
   "metadata": {
    "id": "8N0iS4ipU_XM"
   },
   "source": [
    "## Learning Objectives"
   ]
  },
  {
   "cell_type": "markdown",
   "metadata": {
    "id": "K8OXq65pVDDS"
   },
   "source": [
    "At the end of the experiment, you will be able to\n",
    "\n",
    "* explore the employee attrition dataset\n",
    "* apply CatBoost and XgBoost on the dataset\n",
    "* tune the model hyperparameters to improve accuracy\n",
    "* evaluate the model using suitable metrics\n"
   ]
  },
  {
   "cell_type": "markdown",
   "metadata": {
    "id": "GYxPNsZuYcGk"
   },
   "source": [
    "## Introduction\n",
    "\n",
    "Employee attrition is the gradual reduction in employee numbers. Employee attrition happens when the size of your workforce diminishes over time. This means that employees are leaving faster than they are hired. Employee attrition happens when employees retire, resign, or simply aren't replaced.\n",
    "Although employee attrition can be company-wide, it may also be confined to specific parts of a business.\n",
    "\n",
    "Employee attrition can happen for several reasons. These include unhappiness about employee benefits or the pay structure, a lack of employee development opportunities, and even poor conditions in the workplace.\n",
    "\n",
    "To know more about the factors that lead to employee attrition, refer [here](https://www.betterup.com/blog/employee-attrition#:~:text=Employee%20attrition%20is%20the%20gradual,or%20simply%20aren't%20replaced).\n"
   ]
  },
  {
   "cell_type": "markdown",
   "metadata": {
    "id": "dsJP8R-j7tO8"
   },
   "source": [
    "**Gradient Boosted Decision Trees**\n",
    "\n",
    "* Gradient boosted decision trees (GBDTs) are one of the most important machine learning models.\n",
    "\n",
    "* GBDTs originate from AdaBoost, an algorithm that ensembles weak learners and uses the majority vote, weighted by their individual accuracy, to solve binary classification problems. The weak learners in this case are decision trees with a single split, called decision stumps.\n",
    "\n",
    "* Some of the widely used gradient boosted decision trees are XgBoost, CatBoost and LightGBM."
   ]
  },
  {
   "cell_type": "markdown",
   "metadata": {
    "id": "YC0AF58YH-cn"
   },
   "source": [
    "## Dataset\n",
    "\n",
    "The dataset used for this mini-project is [HR Employee Attrition dataset](https://data.world/aaizemberg/hr-employee-attrition). This dataset is synthetically created by IBM data scientists. There are 35 features and 1470 records.\n",
    "\n",
    "There are numerical features such as:\n",
    "\n",
    "* Age\n",
    "* DistanceFromHome\n",
    "* EmployeeNumber\n",
    "* PerformanceRating\n",
    "\n",
    "There are several categorical features such as:\n",
    "* JobRole\n",
    "* EducationField\n",
    "* Department\n",
    "* BusinessTravel\n",
    "\n",
    "Dependent or target feature is 'attrition' which has values as Yes/No."
   ]
  },
  {
   "cell_type": "markdown",
   "metadata": {
    "id": "QrVGOVDsya0-"
   },
   "source": [
    "### **Kaggle Competition**"
   ]
  },
  {
   "cell_type": "markdown",
   "metadata": {
    "id": "fad4_EbCyfbg"
   },
   "source": [
    "Please refer to the link for viewing the\n",
    "[Kaggle Competition Document](https://drive.google.com/file/d/1c7PrbKrURFcnEB61dSoS9cBnUUVhhj-l/view?usp=drive_link) and join the Kaggle Competition using the hyperlink given in this document under '*Kaggle* Competition site'."
   ]
  },
  {
   "cell_type": "markdown",
   "metadata": {
    "id": "qkSHqm24yzOL"
   },
   "source": [
    "## Grading = 10 Points"
   ]
  },
  {
   "cell_type": "code",
   "execution_count": 1,
   "metadata": {},
   "outputs": [
    {
     "name": "stdout",
     "output_type": "stream",
     "text": [
      "\u001b[2K\u001b[2mResolved \u001b[1m58 packages\u001b[0m \u001b[2min 576ms\u001b[0m\u001b[0m                                        \u001b[0m\n",
      "\u001b[2mAudited \u001b[1m52 packages\u001b[0m \u001b[2min 0.59ms\u001b[0m\u001b[0m\n"
     ]
    }
   ],
   "source": [
    "!uv add ipykernel numpy matplotlib scikit-learn seaborn catboost scipy==1.12 xgboost lightgbm --upgrade\n"
   ]
  },
  {
   "cell_type": "code",
   "execution_count": 2,
   "metadata": {
    "cellView": "form",
    "id": "812a816f"
   },
   "outputs": [
    {
     "name": "stdout",
     "output_type": "stream",
     "text": [
      "Data Downloaded Successfuly!!\n"
     ]
    }
   ],
   "source": [
    "# @title Download the data\n",
    "from utility import download_if_missing\n",
    "\n",
    "download_if_missing(\n",
    "    filename=\"hr_employee_attrition_train.csv\",\n",
    "    url=\"https://cdn.iisc.talentsprint.com/CDS/MiniProjects/hr_employee_attrition_train.csv\",\n",
    ")\n",
    "\n",
    "# !wget -qq https://cdn.iisc.talentsprint.com/CDS/MiniProjects/hr_employee_attrition_train.csv\n",
    "print(\"Data Downloaded Successfuly!!\")\n"
   ]
  },
  {
   "cell_type": "markdown",
   "metadata": {
    "id": "1BJzstlcLh4k"
   },
   "source": [
    "### Install CatBoost"
   ]
  },
  {
   "cell_type": "code",
   "execution_count": 3,
   "metadata": {
    "id": "BYeUGMBZeqtL"
   },
   "outputs": [],
   "source": [
    "# !pip -qq install catboost\n",
    "# !uv add catboost numpy --upgrade\n"
   ]
  },
  {
   "cell_type": "markdown",
   "metadata": {
    "id": "1TmXyc2bRFvM"
   },
   "source": [
    "### Import Required Packages"
   ]
  },
  {
   "cell_type": "code",
   "execution_count": 4,
   "metadata": {
    "_uuid": "3f4d5f2c0b147e47776e71922cadb41524cb151b",
    "id": "v50DDzl0CEVk",
    "trusted": true
   },
   "outputs": [],
   "source": [
    "import numpy as np\n",
    "import pandas as pd\n",
    "import seaborn as sns\n",
    "from matplotlib import pyplot as plt\n",
    "from sklearn.metrics import roc_auc_score, accuracy_score, confusion_matrix, f1_score\n",
    "from sklearn.model_selection import train_test_split\n",
    "from lightgbm import LGBMClassifier\n",
    "from xgboost import XGBClassifier\n",
    "from catboost import CatBoostClassifier, metrics\n",
    "import warnings\n",
    "\n",
    "warnings.filterwarnings(\"ignore\")\n",
    "plt.style.use(\"fivethirtyeight\")\n",
    "pd.set_option(\"display.max_columns\", 100)\n",
    "%matplotlib inline\n"
   ]
  },
  {
   "cell_type": "markdown",
   "metadata": {
    "id": "0E7JUtgDYBDL"
   },
   "source": [
    "## Load the Dataset"
   ]
  },
  {
   "cell_type": "markdown",
   "metadata": {
    "id": "xhB7KfG7lAi6"
   },
   "source": [
    "**Exercise 1: Read the dataset [0.5 Mark]**\n",
    "\n",
    "**Hint:** pd.read_csv()"
   ]
  },
  {
   "cell_type": "code",
   "execution_count": 5,
   "metadata": {
    "id": "82VkFRBVSbG7"
   },
   "outputs": [],
   "source": [
    "# read the dataset\n",
    "# YOUR CODE HERE\n",
    "\n",
    "df = pd.read_csv(\"hr_employee_attrition_train.csv\")\n"
   ]
  },
  {
   "cell_type": "code",
   "execution_count": 6,
   "metadata": {
    "id": "L6QL6HbTZLjw"
   },
   "outputs": [
    {
     "data": {
      "text/plain": [
       "(1170, 35)"
      ]
     },
     "execution_count": 6,
     "metadata": {},
     "output_type": "execute_result"
    }
   ],
   "source": [
    "# Check the shape of dataframe.\n",
    "# YOUR CODE HERE\n",
    "\n",
    "df.shape\n"
   ]
  },
  {
   "cell_type": "markdown",
   "metadata": {
    "id": "BHxgkAr_4grD"
   },
   "source": [
    "There can be more than one file to read as this is introduced as a competition, dataset has one file for training the model. Their can be other files as one containing the test features and the other can be the true labels."
   ]
  },
  {
   "cell_type": "markdown",
   "metadata": {
    "_uuid": "07244b5b58d56fb4ac89efc5541074263a150ce5",
    "id": "5JgkRXxYCEVn"
   },
   "source": [
    "## Data Exploration\n",
    "\n",
    "- Check for missing values\n",
    "- Check for consistent data type across a feature\n",
    "- Check for outliers or inconsistencies in data columns\n",
    "- Check for correlated features\n",
    "- Do we have a target label imbalance\n",
    "- How our independent variables are distributed relative to our target label\n",
    "- Are there features that have strong linear or monotonic relationships? Making correlation heatmaps makes it easy to identify possible collinearity"
   ]
  },
  {
   "cell_type": "markdown",
   "metadata": {
    "id": "WNypN2YmlpwG"
   },
   "source": [
    "**Exercise 2: Create a `List` of numerical and categorical columns. Display a statistical description of the dataset. Remove missing values (if any) [0.5 Mark]**"
   ]
  },
  {
   "cell_type": "markdown",
   "metadata": {
    "id": "GuQKmcv0qLWo"
   },
   "source": [
    "**Hint:** Use `for` to iterate through each column."
   ]
  },
  {
   "cell_type": "code",
   "execution_count": 8,
   "metadata": {},
   "outputs": [
    {
     "name": "stdout",
     "output_type": "stream",
     "text": [
      "<class 'pandas.core.frame.DataFrame'>\n",
      "RangeIndex: 1170 entries, 0 to 1169\n",
      "Data columns (total 35 columns):\n",
      " #   Column                    Non-Null Count  Dtype \n",
      "---  ------                    --------------  ----- \n",
      " 0   age                       1170 non-null   int64 \n",
      " 1   businesstravel            1170 non-null   object\n",
      " 2   dailyrate                 1170 non-null   int64 \n",
      " 3   department                1170 non-null   object\n",
      " 4   distancefromhome          1170 non-null   int64 \n",
      " 5   education                 1170 non-null   int64 \n",
      " 6   educationfield            1170 non-null   object\n",
      " 7   employeecount             1170 non-null   int64 \n",
      " 8   employeenumber            1170 non-null   int64 \n",
      " 9   environmentsatisfaction   1170 non-null   int64 \n",
      " 10  gender                    1170 non-null   object\n",
      " 11  hourlyrate                1170 non-null   int64 \n",
      " 12  jobinvolvement            1170 non-null   int64 \n",
      " 13  joblevel                  1170 non-null   int64 \n",
      " 14  jobrole                   1170 non-null   object\n",
      " 15  jobsatisfaction           1170 non-null   int64 \n",
      " 16  maritalstatus             1170 non-null   object\n",
      " 17  monthlyincome             1170 non-null   int64 \n",
      " 18  monthlyrate               1170 non-null   int64 \n",
      " 19  numcompaniesworked        1170 non-null   int64 \n",
      " 20  over18                    1170 non-null   object\n",
      " 21  overtime                  1170 non-null   object\n",
      " 22  percentsalaryhike         1170 non-null   int64 \n",
      " 23  performancerating         1170 non-null   int64 \n",
      " 24  relationshipsatisfaction  1170 non-null   int64 \n",
      " 25  standardhours             1170 non-null   int64 \n",
      " 26  stockoptionlevel          1170 non-null   int64 \n",
      " 27  totalworkingyears         1170 non-null   int64 \n",
      " 28  trainingtimeslastyear     1170 non-null   int64 \n",
      " 29  worklifebalance           1170 non-null   int64 \n",
      " 30  yearsatcompany            1170 non-null   int64 \n",
      " 31  yearsincurrentrole        1170 non-null   int64 \n",
      " 32  yearssincelastpromotion   1170 non-null   int64 \n",
      " 33  yearswithcurrmanager      1170 non-null   int64 \n",
      " 34  attrition                 1170 non-null   object\n",
      "dtypes: int64(26), object(9)\n",
      "memory usage: 320.1+ KB\n"
     ]
    }
   ],
   "source": [
    "# Check the name and the data types of columns.\n",
    "df.info()\n"
   ]
  },
  {
   "cell_type": "code",
   "execution_count": 39,
   "metadata": {},
   "outputs": [
    {
     "data": {
      "text/html": [
       "<div>\n",
       "<style scoped>\n",
       "    .dataframe tbody tr th:only-of-type {\n",
       "        vertical-align: middle;\n",
       "    }\n",
       "\n",
       "    .dataframe tbody tr th {\n",
       "        vertical-align: top;\n",
       "    }\n",
       "\n",
       "    .dataframe thead th {\n",
       "        text-align: right;\n",
       "    }\n",
       "</style>\n",
       "<table border=\"1\" class=\"dataframe\">\n",
       "  <thead>\n",
       "    <tr style=\"text-align: right;\">\n",
       "      <th></th>\n",
       "      <th>age</th>\n",
       "      <th>businesstravel</th>\n",
       "      <th>dailyrate</th>\n",
       "      <th>department</th>\n",
       "      <th>distancefromhome</th>\n",
       "      <th>education</th>\n",
       "      <th>educationfield</th>\n",
       "      <th>employeecount</th>\n",
       "      <th>employeenumber</th>\n",
       "      <th>environmentsatisfaction</th>\n",
       "      <th>gender</th>\n",
       "      <th>hourlyrate</th>\n",
       "      <th>jobinvolvement</th>\n",
       "      <th>joblevel</th>\n",
       "      <th>jobrole</th>\n",
       "      <th>jobsatisfaction</th>\n",
       "      <th>maritalstatus</th>\n",
       "      <th>monthlyincome</th>\n",
       "      <th>monthlyrate</th>\n",
       "      <th>numcompaniesworked</th>\n",
       "      <th>over18</th>\n",
       "      <th>overtime</th>\n",
       "      <th>percentsalaryhike</th>\n",
       "      <th>performancerating</th>\n",
       "      <th>relationshipsatisfaction</th>\n",
       "      <th>standardhours</th>\n",
       "      <th>stockoptionlevel</th>\n",
       "      <th>totalworkingyears</th>\n",
       "      <th>trainingtimeslastyear</th>\n",
       "      <th>worklifebalance</th>\n",
       "      <th>yearsatcompany</th>\n",
       "      <th>yearsincurrentrole</th>\n",
       "      <th>yearssincelastpromotion</th>\n",
       "      <th>yearswithcurrmanager</th>\n",
       "      <th>attrition</th>\n",
       "    </tr>\n",
       "  </thead>\n",
       "  <tbody>\n",
       "    <tr>\n",
       "      <th>113</th>\n",
       "      <td>39</td>\n",
       "      <td>Travel_Rarely</td>\n",
       "      <td>408</td>\n",
       "      <td>Research &amp; Development</td>\n",
       "      <td>2</td>\n",
       "      <td>4</td>\n",
       "      <td>Technical Degree</td>\n",
       "      <td>1</td>\n",
       "      <td>721</td>\n",
       "      <td>4</td>\n",
       "      <td>Female</td>\n",
       "      <td>80</td>\n",
       "      <td>2</td>\n",
       "      <td>2</td>\n",
       "      <td>Healthcare Representative</td>\n",
       "      <td>3</td>\n",
       "      <td>Single</td>\n",
       "      <td>4553</td>\n",
       "      <td>20978</td>\n",
       "      <td>1</td>\n",
       "      <td>Y</td>\n",
       "      <td>No</td>\n",
       "      <td>11</td>\n",
       "      <td>3</td>\n",
       "      <td>1</td>\n",
       "      <td>80</td>\n",
       "      <td>0</td>\n",
       "      <td>20</td>\n",
       "      <td>4</td>\n",
       "      <td>3</td>\n",
       "      <td>20</td>\n",
       "      <td>7</td>\n",
       "      <td>11</td>\n",
       "      <td>10</td>\n",
       "      <td>No</td>\n",
       "    </tr>\n",
       "    <tr>\n",
       "      <th>257</th>\n",
       "      <td>25</td>\n",
       "      <td>Travel_Rarely</td>\n",
       "      <td>1219</td>\n",
       "      <td>Research &amp; Development</td>\n",
       "      <td>4</td>\n",
       "      <td>1</td>\n",
       "      <td>Technical Degree</td>\n",
       "      <td>1</td>\n",
       "      <td>1106</td>\n",
       "      <td>4</td>\n",
       "      <td>Male</td>\n",
       "      <td>32</td>\n",
       "      <td>3</td>\n",
       "      <td>1</td>\n",
       "      <td>Laboratory Technician</td>\n",
       "      <td>4</td>\n",
       "      <td>Married</td>\n",
       "      <td>3691</td>\n",
       "      <td>4605</td>\n",
       "      <td>1</td>\n",
       "      <td>Y</td>\n",
       "      <td>Yes</td>\n",
       "      <td>15</td>\n",
       "      <td>3</td>\n",
       "      <td>2</td>\n",
       "      <td>80</td>\n",
       "      <td>1</td>\n",
       "      <td>7</td>\n",
       "      <td>3</td>\n",
       "      <td>4</td>\n",
       "      <td>7</td>\n",
       "      <td>7</td>\n",
       "      <td>5</td>\n",
       "      <td>6</td>\n",
       "      <td>Yes</td>\n",
       "    </tr>\n",
       "    <tr>\n",
       "      <th>112</th>\n",
       "      <td>41</td>\n",
       "      <td>Travel_Rarely</td>\n",
       "      <td>645</td>\n",
       "      <td>Sales</td>\n",
       "      <td>1</td>\n",
       "      <td>3</td>\n",
       "      <td>Marketing</td>\n",
       "      <td>1</td>\n",
       "      <td>534</td>\n",
       "      <td>2</td>\n",
       "      <td>Male</td>\n",
       "      <td>49</td>\n",
       "      <td>4</td>\n",
       "      <td>3</td>\n",
       "      <td>Sales Executive</td>\n",
       "      <td>1</td>\n",
       "      <td>Married</td>\n",
       "      <td>8392</td>\n",
       "      <td>19566</td>\n",
       "      <td>1</td>\n",
       "      <td>Y</td>\n",
       "      <td>No</td>\n",
       "      <td>16</td>\n",
       "      <td>3</td>\n",
       "      <td>3</td>\n",
       "      <td>80</td>\n",
       "      <td>1</td>\n",
       "      <td>10</td>\n",
       "      <td>2</td>\n",
       "      <td>3</td>\n",
       "      <td>10</td>\n",
       "      <td>7</td>\n",
       "      <td>0</td>\n",
       "      <td>7</td>\n",
       "      <td>No</td>\n",
       "    </tr>\n",
       "    <tr>\n",
       "      <th>72</th>\n",
       "      <td>30</td>\n",
       "      <td>Travel_Rarely</td>\n",
       "      <td>288</td>\n",
       "      <td>Research &amp; Development</td>\n",
       "      <td>2</td>\n",
       "      <td>3</td>\n",
       "      <td>Life Sciences</td>\n",
       "      <td>1</td>\n",
       "      <td>117</td>\n",
       "      <td>3</td>\n",
       "      <td>Male</td>\n",
       "      <td>99</td>\n",
       "      <td>2</td>\n",
       "      <td>2</td>\n",
       "      <td>Healthcare Representative</td>\n",
       "      <td>4</td>\n",
       "      <td>Married</td>\n",
       "      <td>4152</td>\n",
       "      <td>15830</td>\n",
       "      <td>1</td>\n",
       "      <td>Y</td>\n",
       "      <td>No</td>\n",
       "      <td>19</td>\n",
       "      <td>3</td>\n",
       "      <td>1</td>\n",
       "      <td>80</td>\n",
       "      <td>3</td>\n",
       "      <td>11</td>\n",
       "      <td>3</td>\n",
       "      <td>3</td>\n",
       "      <td>11</td>\n",
       "      <td>10</td>\n",
       "      <td>10</td>\n",
       "      <td>8</td>\n",
       "      <td>No</td>\n",
       "    </tr>\n",
       "    <tr>\n",
       "      <th>373</th>\n",
       "      <td>46</td>\n",
       "      <td>Travel_Rarely</td>\n",
       "      <td>1485</td>\n",
       "      <td>Research &amp; Development</td>\n",
       "      <td>18</td>\n",
       "      <td>3</td>\n",
       "      <td>Medical</td>\n",
       "      <td>1</td>\n",
       "      <td>550</td>\n",
       "      <td>3</td>\n",
       "      <td>Female</td>\n",
       "      <td>87</td>\n",
       "      <td>3</td>\n",
       "      <td>2</td>\n",
       "      <td>Manufacturing Director</td>\n",
       "      <td>3</td>\n",
       "      <td>Divorced</td>\n",
       "      <td>4810</td>\n",
       "      <td>26314</td>\n",
       "      <td>2</td>\n",
       "      <td>Y</td>\n",
       "      <td>No</td>\n",
       "      <td>14</td>\n",
       "      <td>3</td>\n",
       "      <td>3</td>\n",
       "      <td>80</td>\n",
       "      <td>1</td>\n",
       "      <td>19</td>\n",
       "      <td>5</td>\n",
       "      <td>2</td>\n",
       "      <td>10</td>\n",
       "      <td>7</td>\n",
       "      <td>0</td>\n",
       "      <td>8</td>\n",
       "      <td>No</td>\n",
       "    </tr>\n",
       "    <tr>\n",
       "      <th>819</th>\n",
       "      <td>34</td>\n",
       "      <td>Travel_Rarely</td>\n",
       "      <td>479</td>\n",
       "      <td>Research &amp; Development</td>\n",
       "      <td>7</td>\n",
       "      <td>4</td>\n",
       "      <td>Medical</td>\n",
       "      <td>1</td>\n",
       "      <td>1577</td>\n",
       "      <td>1</td>\n",
       "      <td>Male</td>\n",
       "      <td>35</td>\n",
       "      <td>3</td>\n",
       "      <td>1</td>\n",
       "      <td>Research Scientist</td>\n",
       "      <td>4</td>\n",
       "      <td>Single</td>\n",
       "      <td>2972</td>\n",
       "      <td>22061</td>\n",
       "      <td>1</td>\n",
       "      <td>Y</td>\n",
       "      <td>No</td>\n",
       "      <td>13</td>\n",
       "      <td>3</td>\n",
       "      <td>3</td>\n",
       "      <td>80</td>\n",
       "      <td>0</td>\n",
       "      <td>1</td>\n",
       "      <td>4</td>\n",
       "      <td>1</td>\n",
       "      <td>1</td>\n",
       "      <td>0</td>\n",
       "      <td>0</td>\n",
       "      <td>0</td>\n",
       "      <td>No</td>\n",
       "    </tr>\n",
       "    <tr>\n",
       "      <th>999</th>\n",
       "      <td>50</td>\n",
       "      <td>Travel_Rarely</td>\n",
       "      <td>1207</td>\n",
       "      <td>Research &amp; Development</td>\n",
       "      <td>28</td>\n",
       "      <td>1</td>\n",
       "      <td>Medical</td>\n",
       "      <td>1</td>\n",
       "      <td>716</td>\n",
       "      <td>4</td>\n",
       "      <td>Male</td>\n",
       "      <td>74</td>\n",
       "      <td>4</td>\n",
       "      <td>1</td>\n",
       "      <td>Laboratory Technician</td>\n",
       "      <td>3</td>\n",
       "      <td>Married</td>\n",
       "      <td>3221</td>\n",
       "      <td>3297</td>\n",
       "      <td>1</td>\n",
       "      <td>Y</td>\n",
       "      <td>Yes</td>\n",
       "      <td>11</td>\n",
       "      <td>3</td>\n",
       "      <td>3</td>\n",
       "      <td>80</td>\n",
       "      <td>3</td>\n",
       "      <td>20</td>\n",
       "      <td>3</td>\n",
       "      <td>3</td>\n",
       "      <td>20</td>\n",
       "      <td>8</td>\n",
       "      <td>3</td>\n",
       "      <td>8</td>\n",
       "      <td>No</td>\n",
       "    </tr>\n",
       "    <tr>\n",
       "      <th>922</th>\n",
       "      <td>22</td>\n",
       "      <td>Travel_Rarely</td>\n",
       "      <td>581</td>\n",
       "      <td>Research &amp; Development</td>\n",
       "      <td>1</td>\n",
       "      <td>2</td>\n",
       "      <td>Life Sciences</td>\n",
       "      <td>1</td>\n",
       "      <td>2007</td>\n",
       "      <td>4</td>\n",
       "      <td>Male</td>\n",
       "      <td>63</td>\n",
       "      <td>3</td>\n",
       "      <td>1</td>\n",
       "      <td>Research Scientist</td>\n",
       "      <td>3</td>\n",
       "      <td>Single</td>\n",
       "      <td>3375</td>\n",
       "      <td>17624</td>\n",
       "      <td>0</td>\n",
       "      <td>Y</td>\n",
       "      <td>No</td>\n",
       "      <td>12</td>\n",
       "      <td>3</td>\n",
       "      <td>4</td>\n",
       "      <td>80</td>\n",
       "      <td>0</td>\n",
       "      <td>4</td>\n",
       "      <td>2</td>\n",
       "      <td>4</td>\n",
       "      <td>3</td>\n",
       "      <td>2</td>\n",
       "      <td>1</td>\n",
       "      <td>2</td>\n",
       "      <td>No</td>\n",
       "    </tr>\n",
       "    <tr>\n",
       "      <th>336</th>\n",
       "      <td>44</td>\n",
       "      <td>Travel_Rarely</td>\n",
       "      <td>477</td>\n",
       "      <td>Research &amp; Development</td>\n",
       "      <td>7</td>\n",
       "      <td>4</td>\n",
       "      <td>Medical</td>\n",
       "      <td>1</td>\n",
       "      <td>36</td>\n",
       "      <td>1</td>\n",
       "      <td>Female</td>\n",
       "      <td>42</td>\n",
       "      <td>2</td>\n",
       "      <td>3</td>\n",
       "      <td>Healthcare Representative</td>\n",
       "      <td>4</td>\n",
       "      <td>Married</td>\n",
       "      <td>10248</td>\n",
       "      <td>2094</td>\n",
       "      <td>3</td>\n",
       "      <td>Y</td>\n",
       "      <td>No</td>\n",
       "      <td>14</td>\n",
       "      <td>3</td>\n",
       "      <td>4</td>\n",
       "      <td>80</td>\n",
       "      <td>1</td>\n",
       "      <td>24</td>\n",
       "      <td>4</td>\n",
       "      <td>3</td>\n",
       "      <td>22</td>\n",
       "      <td>6</td>\n",
       "      <td>5</td>\n",
       "      <td>17</td>\n",
       "      <td>No</td>\n",
       "    </tr>\n",
       "    <tr>\n",
       "      <th>1015</th>\n",
       "      <td>43</td>\n",
       "      <td>Travel_Frequently</td>\n",
       "      <td>559</td>\n",
       "      <td>Research &amp; Development</td>\n",
       "      <td>10</td>\n",
       "      <td>4</td>\n",
       "      <td>Life Sciences</td>\n",
       "      <td>1</td>\n",
       "      <td>448</td>\n",
       "      <td>3</td>\n",
       "      <td>Female</td>\n",
       "      <td>82</td>\n",
       "      <td>2</td>\n",
       "      <td>2</td>\n",
       "      <td>Laboratory Technician</td>\n",
       "      <td>3</td>\n",
       "      <td>Divorced</td>\n",
       "      <td>5257</td>\n",
       "      <td>6227</td>\n",
       "      <td>1</td>\n",
       "      <td>Y</td>\n",
       "      <td>No</td>\n",
       "      <td>11</td>\n",
       "      <td>3</td>\n",
       "      <td>2</td>\n",
       "      <td>80</td>\n",
       "      <td>1</td>\n",
       "      <td>9</td>\n",
       "      <td>3</td>\n",
       "      <td>4</td>\n",
       "      <td>9</td>\n",
       "      <td>7</td>\n",
       "      <td>0</td>\n",
       "      <td>0</td>\n",
       "      <td>No</td>\n",
       "    </tr>\n",
       "  </tbody>\n",
       "</table>\n",
       "</div>"
      ],
      "text/plain": [
       "      age     businesstravel  dailyrate              department  \\\n",
       "113    39      Travel_Rarely        408  Research & Development   \n",
       "257    25      Travel_Rarely       1219  Research & Development   \n",
       "112    41      Travel_Rarely        645                   Sales   \n",
       "72     30      Travel_Rarely        288  Research & Development   \n",
       "373    46      Travel_Rarely       1485  Research & Development   \n",
       "819    34      Travel_Rarely        479  Research & Development   \n",
       "999    50      Travel_Rarely       1207  Research & Development   \n",
       "922    22      Travel_Rarely        581  Research & Development   \n",
       "336    44      Travel_Rarely        477  Research & Development   \n",
       "1015   43  Travel_Frequently        559  Research & Development   \n",
       "\n",
       "      distancefromhome  education    educationfield  employeecount  \\\n",
       "113                  2          4  Technical Degree              1   \n",
       "257                  4          1  Technical Degree              1   \n",
       "112                  1          3         Marketing              1   \n",
       "72                   2          3     Life Sciences              1   \n",
       "373                 18          3           Medical              1   \n",
       "819                  7          4           Medical              1   \n",
       "999                 28          1           Medical              1   \n",
       "922                  1          2     Life Sciences              1   \n",
       "336                  7          4           Medical              1   \n",
       "1015                10          4     Life Sciences              1   \n",
       "\n",
       "      employeenumber  environmentsatisfaction  gender  hourlyrate  \\\n",
       "113              721                        4  Female          80   \n",
       "257             1106                        4    Male          32   \n",
       "112              534                        2    Male          49   \n",
       "72               117                        3    Male          99   \n",
       "373              550                        3  Female          87   \n",
       "819             1577                        1    Male          35   \n",
       "999              716                        4    Male          74   \n",
       "922             2007                        4    Male          63   \n",
       "336               36                        1  Female          42   \n",
       "1015             448                        3  Female          82   \n",
       "\n",
       "      jobinvolvement  joblevel                    jobrole  jobsatisfaction  \\\n",
       "113                2         2  Healthcare Representative                3   \n",
       "257                3         1      Laboratory Technician                4   \n",
       "112                4         3            Sales Executive                1   \n",
       "72                 2         2  Healthcare Representative                4   \n",
       "373                3         2     Manufacturing Director                3   \n",
       "819                3         1         Research Scientist                4   \n",
       "999                4         1      Laboratory Technician                3   \n",
       "922                3         1         Research Scientist                3   \n",
       "336                2         3  Healthcare Representative                4   \n",
       "1015               2         2      Laboratory Technician                3   \n",
       "\n",
       "     maritalstatus  monthlyincome  monthlyrate  numcompaniesworked over18  \\\n",
       "113         Single           4553        20978                   1      Y   \n",
       "257        Married           3691         4605                   1      Y   \n",
       "112        Married           8392        19566                   1      Y   \n",
       "72         Married           4152        15830                   1      Y   \n",
       "373       Divorced           4810        26314                   2      Y   \n",
       "819         Single           2972        22061                   1      Y   \n",
       "999        Married           3221         3297                   1      Y   \n",
       "922         Single           3375        17624                   0      Y   \n",
       "336        Married          10248         2094                   3      Y   \n",
       "1015      Divorced           5257         6227                   1      Y   \n",
       "\n",
       "     overtime  percentsalaryhike  performancerating  relationshipsatisfaction  \\\n",
       "113        No                 11                  3                         1   \n",
       "257       Yes                 15                  3                         2   \n",
       "112        No                 16                  3                         3   \n",
       "72         No                 19                  3                         1   \n",
       "373        No                 14                  3                         3   \n",
       "819        No                 13                  3                         3   \n",
       "999       Yes                 11                  3                         3   \n",
       "922        No                 12                  3                         4   \n",
       "336        No                 14                  3                         4   \n",
       "1015       No                 11                  3                         2   \n",
       "\n",
       "      standardhours  stockoptionlevel  totalworkingyears  \\\n",
       "113              80                 0                 20   \n",
       "257              80                 1                  7   \n",
       "112              80                 1                 10   \n",
       "72               80                 3                 11   \n",
       "373              80                 1                 19   \n",
       "819              80                 0                  1   \n",
       "999              80                 3                 20   \n",
       "922              80                 0                  4   \n",
       "336              80                 1                 24   \n",
       "1015             80                 1                  9   \n",
       "\n",
       "      trainingtimeslastyear  worklifebalance  yearsatcompany  \\\n",
       "113                       4                3              20   \n",
       "257                       3                4               7   \n",
       "112                       2                3              10   \n",
       "72                        3                3              11   \n",
       "373                       5                2              10   \n",
       "819                       4                1               1   \n",
       "999                       3                3              20   \n",
       "922                       2                4               3   \n",
       "336                       4                3              22   \n",
       "1015                      3                4               9   \n",
       "\n",
       "      yearsincurrentrole  yearssincelastpromotion  yearswithcurrmanager  \\\n",
       "113                    7                       11                    10   \n",
       "257                    7                        5                     6   \n",
       "112                    7                        0                     7   \n",
       "72                    10                       10                     8   \n",
       "373                    7                        0                     8   \n",
       "819                    0                        0                     0   \n",
       "999                    8                        3                     8   \n",
       "922                    2                        1                     2   \n",
       "336                    6                        5                    17   \n",
       "1015                   7                        0                     0   \n",
       "\n",
       "     attrition  \n",
       "113         No  \n",
       "257        Yes  \n",
       "112         No  \n",
       "72          No  \n",
       "373         No  \n",
       "819         No  \n",
       "999         No  \n",
       "922         No  \n",
       "336         No  \n",
       "1015        No  "
      ]
     },
     "execution_count": 39,
     "metadata": {},
     "output_type": "execute_result"
    }
   ],
   "source": [
    "# check a random sample from the dataframe\n",
    "df.sample(10)\n"
   ]
  },
  {
   "cell_type": "code",
   "execution_count": null,
   "metadata": {},
   "outputs": [],
   "source": [
    "\n"
   ]
  },
  {
   "cell_type": "code",
   "execution_count": 40,
   "metadata": {},
   "outputs": [
    {
     "name": "stdout",
     "output_type": "stream",
     "text": [
      "Number of Categorical Columns: 19\n",
      "Number of Numerical Columns: 14\n",
      "Number of Useless Columns: 2\n",
      "Total Columns: 35\n"
     ]
    }
   ],
   "source": [
    "# separate the columns as categorical and numerical\n",
    "categorical_columns = df.select_dtypes(include=[\"object\"]).columns\n",
    "numerical_columns = df.select_dtypes(exclude=[\"object\"]).columns\n",
    "\n",
    "categorical_columns = [\n",
    "    \"businesstravel\",\n",
    "    \"department\",\n",
    "    \"education\",\n",
    "    \"educationfield\",\n",
    "    \"environmentsatisfaction\",\n",
    "    \"gender\",\n",
    "    \"jobinvolvement\",\n",
    "    \"joblevel\",\n",
    "    \"jobrole\",\n",
    "    \"jobsatisfaction\",\n",
    "    \"maritalstatus\",\n",
    "    \"over18\",\n",
    "    \"overtime\",\n",
    "    \"standardhours\",\n",
    "    \"performancerating\",\n",
    "    \"relationshipsatisfaction\",\n",
    "    \"stockoptionlevel\",\n",
    "    \"worklifebalance\",\n",
    "    \"attrition\",\n",
    "]\n",
    "numerical_columns = [\n",
    "    \"age\",\n",
    "    \"dailyrate\",\n",
    "    \"distancefromhome\",\n",
    "    \"hourlyrate\",\n",
    "    \"monthlyincome\",\n",
    "    \"monthlyrate\",\n",
    "    \"numcompaniesworked\",\n",
    "    \"percentsalaryhike\",\n",
    "    \"totalworkingyears\",\n",
    "    \"trainingtimeslastyear\",\n",
    "    \"yearsatcompany\",\n",
    "    \"yearsincurrentrole\",\n",
    "    \"yearssincelastpromotion\",\n",
    "    \"yearswithcurrmanager\",\n",
    "]\n",
    "useless_columns = [\"employeecount\", \"employeenumber\"]\n",
    "\n",
    "print(f\"Number of Categorical Columns: {len(categorical_columns)}\")\n",
    "print(f\"Number of Numerical Columns: {len(numerical_columns)}\")\n",
    "print(f\"Number of Useless Columns: {len(useless_columns)}\")\n",
    "print(\n",
    "    f\"Total Columns: {len(categorical_columns) + len(numerical_columns) + len(useless_columns)}\"\n",
    ")\n"
   ]
  },
  {
   "cell_type": "code",
   "execution_count": 41,
   "metadata": {},
   "outputs": [
    {
     "data": {
      "text/html": [
       "<div>\n",
       "<style scoped>\n",
       "    .dataframe tbody tr th:only-of-type {\n",
       "        vertical-align: middle;\n",
       "    }\n",
       "\n",
       "    .dataframe tbody tr th {\n",
       "        vertical-align: top;\n",
       "    }\n",
       "\n",
       "    .dataframe thead th {\n",
       "        text-align: right;\n",
       "    }\n",
       "</style>\n",
       "<table border=\"1\" class=\"dataframe\">\n",
       "  <thead>\n",
       "    <tr style=\"text-align: right;\">\n",
       "      <th></th>\n",
       "      <th>Column</th>\n",
       "      <th>Unique Values</th>\n",
       "      <th>Count of Unique Values</th>\n",
       "      <th>Missing Values</th>\n",
       "    </tr>\n",
       "  </thead>\n",
       "  <tbody>\n",
       "    <tr>\n",
       "      <th>0</th>\n",
       "      <td>businesstravel</td>\n",
       "      <td>Travel_Rarely, Travel_Frequently, Non-Travel</td>\n",
       "      <td>3</td>\n",
       "      <td>0</td>\n",
       "    </tr>\n",
       "    <tr>\n",
       "      <th>0</th>\n",
       "      <td>department</td>\n",
       "      <td>Research &amp; Development, Sales, Human Resources</td>\n",
       "      <td>3</td>\n",
       "      <td>0</td>\n",
       "    </tr>\n",
       "    <tr>\n",
       "      <th>0</th>\n",
       "      <td>education</td>\n",
       "      <td>2, 3, 4, 5, 1</td>\n",
       "      <td>5</td>\n",
       "      <td>0</td>\n",
       "    </tr>\n",
       "    <tr>\n",
       "      <th>0</th>\n",
       "      <td>educationfield</td>\n",
       "      <td>Life Sciences, Medical, Technical Degree, Othe...</td>\n",
       "      <td>6</td>\n",
       "      <td>0</td>\n",
       "    </tr>\n",
       "    <tr>\n",
       "      <th>0</th>\n",
       "      <td>environmentsatisfaction</td>\n",
       "      <td>2, 3, 4, 1</td>\n",
       "      <td>4</td>\n",
       "      <td>0</td>\n",
       "    </tr>\n",
       "    <tr>\n",
       "      <th>0</th>\n",
       "      <td>gender</td>\n",
       "      <td>Female, Male</td>\n",
       "      <td>2</td>\n",
       "      <td>0</td>\n",
       "    </tr>\n",
       "    <tr>\n",
       "      <th>0</th>\n",
       "      <td>jobinvolvement</td>\n",
       "      <td>2, 3, 1, 4</td>\n",
       "      <td>4</td>\n",
       "      <td>0</td>\n",
       "    </tr>\n",
       "    <tr>\n",
       "      <th>0</th>\n",
       "      <td>joblevel</td>\n",
       "      <td>2, 1, 3, 4, 5</td>\n",
       "      <td>5</td>\n",
       "      <td>0</td>\n",
       "    </tr>\n",
       "    <tr>\n",
       "      <th>0</th>\n",
       "      <td>jobrole</td>\n",
       "      <td>Manufacturing Director, Healthcare Representat...</td>\n",
       "      <td>9</td>\n",
       "      <td>0</td>\n",
       "    </tr>\n",
       "    <tr>\n",
       "      <th>0</th>\n",
       "      <td>jobsatisfaction</td>\n",
       "      <td>4, 3, 1, 2</td>\n",
       "      <td>4</td>\n",
       "      <td>0</td>\n",
       "    </tr>\n",
       "    <tr>\n",
       "      <th>0</th>\n",
       "      <td>maritalstatus</td>\n",
       "      <td>Married, Single, Divorced</td>\n",
       "      <td>3</td>\n",
       "      <td>0</td>\n",
       "    </tr>\n",
       "    <tr>\n",
       "      <th>0</th>\n",
       "      <td>over18</td>\n",
       "      <td>Y</td>\n",
       "      <td>1</td>\n",
       "      <td>0</td>\n",
       "    </tr>\n",
       "    <tr>\n",
       "      <th>0</th>\n",
       "      <td>overtime</td>\n",
       "      <td>No, Yes</td>\n",
       "      <td>2</td>\n",
       "      <td>0</td>\n",
       "    </tr>\n",
       "    <tr>\n",
       "      <th>0</th>\n",
       "      <td>standardhours</td>\n",
       "      <td>80</td>\n",
       "      <td>1</td>\n",
       "      <td>0</td>\n",
       "    </tr>\n",
       "    <tr>\n",
       "      <th>0</th>\n",
       "      <td>performancerating</td>\n",
       "      <td>3, 4</td>\n",
       "      <td>2</td>\n",
       "      <td>0</td>\n",
       "    </tr>\n",
       "    <tr>\n",
       "      <th>0</th>\n",
       "      <td>relationshipsatisfaction</td>\n",
       "      <td>4, 1, 2, 3</td>\n",
       "      <td>4</td>\n",
       "      <td>0</td>\n",
       "    </tr>\n",
       "    <tr>\n",
       "      <th>0</th>\n",
       "      <td>stockoptionlevel</td>\n",
       "      <td>2, 0, 1, 3</td>\n",
       "      <td>4</td>\n",
       "      <td>0</td>\n",
       "    </tr>\n",
       "    <tr>\n",
       "      <th>0</th>\n",
       "      <td>worklifebalance</td>\n",
       "      <td>2, 3, 4, 1</td>\n",
       "      <td>4</td>\n",
       "      <td>0</td>\n",
       "    </tr>\n",
       "    <tr>\n",
       "      <th>0</th>\n",
       "      <td>attrition</td>\n",
       "      <td>No, Yes</td>\n",
       "      <td>2</td>\n",
       "      <td>0</td>\n",
       "    </tr>\n",
       "  </tbody>\n",
       "</table>\n",
       "</div>"
      ],
      "text/plain": [
       "                     Column  \\\n",
       "0            businesstravel   \n",
       "0                department   \n",
       "0                 education   \n",
       "0            educationfield   \n",
       "0   environmentsatisfaction   \n",
       "0                    gender   \n",
       "0            jobinvolvement   \n",
       "0                  joblevel   \n",
       "0                   jobrole   \n",
       "0           jobsatisfaction   \n",
       "0             maritalstatus   \n",
       "0                    over18   \n",
       "0                  overtime   \n",
       "0             standardhours   \n",
       "0         performancerating   \n",
       "0  relationshipsatisfaction   \n",
       "0          stockoptionlevel   \n",
       "0           worklifebalance   \n",
       "0                 attrition   \n",
       "\n",
       "                                       Unique Values Count of Unique Values  \\\n",
       "0       Travel_Rarely, Travel_Frequently, Non-Travel                      3   \n",
       "0     Research & Development, Sales, Human Resources                      3   \n",
       "0                                      2, 3, 4, 5, 1                      5   \n",
       "0  Life Sciences, Medical, Technical Degree, Othe...                      6   \n",
       "0                                         2, 3, 4, 1                      4   \n",
       "0                                       Female, Male                      2   \n",
       "0                                         2, 3, 1, 4                      4   \n",
       "0                                      2, 1, 3, 4, 5                      5   \n",
       "0  Manufacturing Director, Healthcare Representat...                      9   \n",
       "0                                         4, 3, 1, 2                      4   \n",
       "0                          Married, Single, Divorced                      3   \n",
       "0                                                  Y                      1   \n",
       "0                                            No, Yes                      2   \n",
       "0                                                 80                      1   \n",
       "0                                               3, 4                      2   \n",
       "0                                         4, 1, 2, 3                      4   \n",
       "0                                         2, 0, 1, 3                      4   \n",
       "0                                         2, 3, 4, 1                      4   \n",
       "0                                            No, Yes                      2   \n",
       "\n",
       "  Missing Values  \n",
       "0              0  \n",
       "0              0  \n",
       "0              0  \n",
       "0              0  \n",
       "0              0  \n",
       "0              0  \n",
       "0              0  \n",
       "0              0  \n",
       "0              0  \n",
       "0              0  \n",
       "0              0  \n",
       "0              0  \n",
       "0              0  \n",
       "0              0  \n",
       "0              0  \n",
       "0              0  \n",
       "0              0  \n",
       "0              0  \n",
       "0              0  "
      ]
     },
     "execution_count": 41,
     "metadata": {},
     "output_type": "execute_result"
    }
   ],
   "source": [
    "# Analyze categorical columns in a dataset\n",
    "## unique values in each column\n",
    "## count of unique values in each column\n",
    "## missing values in each column\n",
    "\n",
    "# Create a dataframe to store the information\n",
    "df_categorical_info = pd.DataFrame(\n",
    "    columns=[\"Column\", \"Unique Values\", \"Count of Unique Values\", \"Missing Values\"]\n",
    ")\n",
    "\n",
    "# Iterate through each categorical column and collect the required information\n",
    "for col in categorical_columns:\n",
    "    unique_values = df[col].unique()\n",
    "    count_unique_values = df[col].nunique()\n",
    "    missing_values = df[col].isnull().sum()\n",
    "    unique_val = \", \".join(unique_values.astype(str))\n",
    "    # print(un_val)\n",
    "    # Append the information to the dataframe\n",
    "    temp_df = pd.DataFrame(\n",
    "        {\n",
    "            \"Column\": col,\n",
    "            \"Unique Values\": [unique_val],\n",
    "            \"Count of Unique Values\": count_unique_values,\n",
    "            \"Missing Values\": missing_values,\n",
    "        }\n",
    "    )\n",
    "\n",
    "    df_categorical_info = pd.concat([df_categorical_info, temp_df], axis=0)\n",
    "# Display the dataframe\n",
    "df_categorical_info\n"
   ]
  },
  {
   "cell_type": "code",
   "execution_count": 42,
   "metadata": {},
   "outputs": [
    {
     "data": {
      "text/html": [
       "<div>\n",
       "<style scoped>\n",
       "    .dataframe tbody tr th:only-of-type {\n",
       "        vertical-align: middle;\n",
       "    }\n",
       "\n",
       "    .dataframe tbody tr th {\n",
       "        vertical-align: top;\n",
       "    }\n",
       "\n",
       "    .dataframe thead th {\n",
       "        text-align: right;\n",
       "    }\n",
       "</style>\n",
       "<table border=\"1\" class=\"dataframe\">\n",
       "  <thead>\n",
       "    <tr style=\"text-align: right;\">\n",
       "      <th></th>\n",
       "      <th>Column</th>\n",
       "      <th>Mean</th>\n",
       "      <th>Median (50th Percentile)</th>\n",
       "      <th>Mode</th>\n",
       "      <th>Min</th>\n",
       "      <th>Max</th>\n",
       "      <th>Range</th>\n",
       "      <th>Standard Deviation</th>\n",
       "      <th>Variance</th>\n",
       "      <th>25th Percentile</th>\n",
       "      <th>50th Percentile (Median)</th>\n",
       "      <th>75th Percentile</th>\n",
       "      <th>Count of Unique Values</th>\n",
       "      <th>Missing Values</th>\n",
       "    </tr>\n",
       "  </thead>\n",
       "  <tbody>\n",
       "    <tr>\n",
       "      <th>0</th>\n",
       "      <td>age</td>\n",
       "      <td>36.858120</td>\n",
       "      <td>35.0</td>\n",
       "      <td>34</td>\n",
       "      <td>18</td>\n",
       "      <td>60</td>\n",
       "      <td>42</td>\n",
       "      <td>9.183448</td>\n",
       "      <td>8.433571e+01</td>\n",
       "      <td>30.00</td>\n",
       "      <td>35.0</td>\n",
       "      <td>43.00</td>\n",
       "      <td>43</td>\n",
       "      <td>0</td>\n",
       "    </tr>\n",
       "    <tr>\n",
       "      <th>0</th>\n",
       "      <td>dailyrate</td>\n",
       "      <td>797.822222</td>\n",
       "      <td>798.0</td>\n",
       "      <td>408</td>\n",
       "      <td>102</td>\n",
       "      <td>1499</td>\n",
       "      <td>1397</td>\n",
       "      <td>403.592661</td>\n",
       "      <td>1.628870e+05</td>\n",
       "      <td>461.00</td>\n",
       "      <td>798.0</td>\n",
       "      <td>1146.75</td>\n",
       "      <td>778</td>\n",
       "      <td>0</td>\n",
       "    </tr>\n",
       "    <tr>\n",
       "      <th>0</th>\n",
       "      <td>distancefromhome</td>\n",
       "      <td>9.262393</td>\n",
       "      <td>7.0</td>\n",
       "      <td>1</td>\n",
       "      <td>1</td>\n",
       "      <td>29</td>\n",
       "      <td>28</td>\n",
       "      <td>8.150868</td>\n",
       "      <td>6.643665e+01</td>\n",
       "      <td>2.00</td>\n",
       "      <td>7.0</td>\n",
       "      <td>14.00</td>\n",
       "      <td>29</td>\n",
       "      <td>0</td>\n",
       "    </tr>\n",
       "    <tr>\n",
       "      <th>0</th>\n",
       "      <td>hourlyrate</td>\n",
       "      <td>65.501709</td>\n",
       "      <td>66.0</td>\n",
       "      <td>42</td>\n",
       "      <td>30</td>\n",
       "      <td>100</td>\n",
       "      <td>70</td>\n",
       "      <td>20.310054</td>\n",
       "      <td>4.124983e+02</td>\n",
       "      <td>48.00</td>\n",
       "      <td>66.0</td>\n",
       "      <td>83.00</td>\n",
       "      <td>71</td>\n",
       "      <td>0</td>\n",
       "    </tr>\n",
       "    <tr>\n",
       "      <th>0</th>\n",
       "      <td>monthlyincome</td>\n",
       "      <td>6456.937607</td>\n",
       "      <td>4903.5</td>\n",
       "      <td>2380</td>\n",
       "      <td>1009</td>\n",
       "      <td>19999</td>\n",
       "      <td>18990</td>\n",
       "      <td>4660.476506</td>\n",
       "      <td>2.172004e+07</td>\n",
       "      <td>2914.75</td>\n",
       "      <td>4903.5</td>\n",
       "      <td>8215.25</td>\n",
       "      <td>1097</td>\n",
       "      <td>0</td>\n",
       "    </tr>\n",
       "    <tr>\n",
       "      <th>0</th>\n",
       "      <td>monthlyrate</td>\n",
       "      <td>14411.584615</td>\n",
       "      <td>14536.0</td>\n",
       "      <td>9150</td>\n",
       "      <td>2094</td>\n",
       "      <td>26999</td>\n",
       "      <td>24905</td>\n",
       "      <td>7078.167743</td>\n",
       "      <td>5.010046e+07</td>\n",
       "      <td>8387.50</td>\n",
       "      <td>14536.0</td>\n",
       "      <td>20456.25</td>\n",
       "      <td>1149</td>\n",
       "      <td>0</td>\n",
       "    </tr>\n",
       "    <tr>\n",
       "      <th>0</th>\n",
       "      <td>numcompaniesworked</td>\n",
       "      <td>2.750427</td>\n",
       "      <td>2.0</td>\n",
       "      <td>1</td>\n",
       "      <td>0</td>\n",
       "      <td>9</td>\n",
       "      <td>9</td>\n",
       "      <td>2.521952</td>\n",
       "      <td>6.360244e+00</td>\n",
       "      <td>1.00</td>\n",
       "      <td>2.0</td>\n",
       "      <td>4.00</td>\n",
       "      <td>10</td>\n",
       "      <td>0</td>\n",
       "    </tr>\n",
       "    <tr>\n",
       "      <th>0</th>\n",
       "      <td>percentsalaryhike</td>\n",
       "      <td>15.204274</td>\n",
       "      <td>14.0</td>\n",
       "      <td>11</td>\n",
       "      <td>11</td>\n",
       "      <td>25</td>\n",
       "      <td>14</td>\n",
       "      <td>3.688952</td>\n",
       "      <td>1.360836e+01</td>\n",
       "      <td>12.00</td>\n",
       "      <td>14.0</td>\n",
       "      <td>18.00</td>\n",
       "      <td>15</td>\n",
       "      <td>0</td>\n",
       "    </tr>\n",
       "    <tr>\n",
       "      <th>0</th>\n",
       "      <td>totalworkingyears</td>\n",
       "      <td>11.315385</td>\n",
       "      <td>10.0</td>\n",
       "      <td>10</td>\n",
       "      <td>0</td>\n",
       "      <td>40</td>\n",
       "      <td>40</td>\n",
       "      <td>7.879363</td>\n",
       "      <td>6.208437e+01</td>\n",
       "      <td>6.00</td>\n",
       "      <td>10.0</td>\n",
       "      <td>15.00</td>\n",
       "      <td>40</td>\n",
       "      <td>0</td>\n",
       "    </tr>\n",
       "    <tr>\n",
       "      <th>0</th>\n",
       "      <td>trainingtimeslastyear</td>\n",
       "      <td>2.842735</td>\n",
       "      <td>3.0</td>\n",
       "      <td>2</td>\n",
       "      <td>0</td>\n",
       "      <td>6</td>\n",
       "      <td>6</td>\n",
       "      <td>1.306385</td>\n",
       "      <td>1.706641e+00</td>\n",
       "      <td>2.00</td>\n",
       "      <td>3.0</td>\n",
       "      <td>3.00</td>\n",
       "      <td>7</td>\n",
       "      <td>0</td>\n",
       "    </tr>\n",
       "    <tr>\n",
       "      <th>0</th>\n",
       "      <td>yearsatcompany</td>\n",
       "      <td>6.925641</td>\n",
       "      <td>5.0</td>\n",
       "      <td>5</td>\n",
       "      <td>0</td>\n",
       "      <td>40</td>\n",
       "      <td>40</td>\n",
       "      <td>6.232076</td>\n",
       "      <td>3.883878e+01</td>\n",
       "      <td>3.00</td>\n",
       "      <td>5.0</td>\n",
       "      <td>9.00</td>\n",
       "      <td>37</td>\n",
       "      <td>0</td>\n",
       "    </tr>\n",
       "    <tr>\n",
       "      <th>0</th>\n",
       "      <td>yearsincurrentrole</td>\n",
       "      <td>4.170940</td>\n",
       "      <td>3.0</td>\n",
       "      <td>2</td>\n",
       "      <td>0</td>\n",
       "      <td>18</td>\n",
       "      <td>18</td>\n",
       "      <td>3.627880</td>\n",
       "      <td>1.316152e+01</td>\n",
       "      <td>2.00</td>\n",
       "      <td>3.0</td>\n",
       "      <td>7.00</td>\n",
       "      <td>19</td>\n",
       "      <td>0</td>\n",
       "    </tr>\n",
       "    <tr>\n",
       "      <th>0</th>\n",
       "      <td>yearssincelastpromotion</td>\n",
       "      <td>2.138462</td>\n",
       "      <td>1.0</td>\n",
       "      <td>0</td>\n",
       "      <td>0</td>\n",
       "      <td>15</td>\n",
       "      <td>15</td>\n",
       "      <td>3.201738</td>\n",
       "      <td>1.025113e+01</td>\n",
       "      <td>0.00</td>\n",
       "      <td>1.0</td>\n",
       "      <td>2.75</td>\n",
       "      <td>16</td>\n",
       "      <td>0</td>\n",
       "    </tr>\n",
       "    <tr>\n",
       "      <th>0</th>\n",
       "      <td>yearswithcurrmanager</td>\n",
       "      <td>4.061538</td>\n",
       "      <td>3.0</td>\n",
       "      <td>2</td>\n",
       "      <td>0</td>\n",
       "      <td>17</td>\n",
       "      <td>17</td>\n",
       "      <td>3.586350</td>\n",
       "      <td>1.286191e+01</td>\n",
       "      <td>2.00</td>\n",
       "      <td>3.0</td>\n",
       "      <td>7.00</td>\n",
       "      <td>18</td>\n",
       "      <td>0</td>\n",
       "    </tr>\n",
       "  </tbody>\n",
       "</table>\n",
       "</div>"
      ],
      "text/plain": [
       "                    Column          Mean  Median (50th Percentile)  Mode  \\\n",
       "0                      age     36.858120                      35.0    34   \n",
       "0                dailyrate    797.822222                     798.0   408   \n",
       "0         distancefromhome      9.262393                       7.0     1   \n",
       "0               hourlyrate     65.501709                      66.0    42   \n",
       "0            monthlyincome   6456.937607                    4903.5  2380   \n",
       "0              monthlyrate  14411.584615                   14536.0  9150   \n",
       "0       numcompaniesworked      2.750427                       2.0     1   \n",
       "0        percentsalaryhike     15.204274                      14.0    11   \n",
       "0        totalworkingyears     11.315385                      10.0    10   \n",
       "0    trainingtimeslastyear      2.842735                       3.0     2   \n",
       "0           yearsatcompany      6.925641                       5.0     5   \n",
       "0       yearsincurrentrole      4.170940                       3.0     2   \n",
       "0  yearssincelastpromotion      2.138462                       1.0     0   \n",
       "0     yearswithcurrmanager      4.061538                       3.0     2   \n",
       "\n",
       "    Min    Max  Range  Standard Deviation      Variance  25th Percentile  \\\n",
       "0    18     60     42            9.183448  8.433571e+01            30.00   \n",
       "0   102   1499   1397          403.592661  1.628870e+05           461.00   \n",
       "0     1     29     28            8.150868  6.643665e+01             2.00   \n",
       "0    30    100     70           20.310054  4.124983e+02            48.00   \n",
       "0  1009  19999  18990         4660.476506  2.172004e+07          2914.75   \n",
       "0  2094  26999  24905         7078.167743  5.010046e+07          8387.50   \n",
       "0     0      9      9            2.521952  6.360244e+00             1.00   \n",
       "0    11     25     14            3.688952  1.360836e+01            12.00   \n",
       "0     0     40     40            7.879363  6.208437e+01             6.00   \n",
       "0     0      6      6            1.306385  1.706641e+00             2.00   \n",
       "0     0     40     40            6.232076  3.883878e+01             3.00   \n",
       "0     0     18     18            3.627880  1.316152e+01             2.00   \n",
       "0     0     15     15            3.201738  1.025113e+01             0.00   \n",
       "0     0     17     17            3.586350  1.286191e+01             2.00   \n",
       "\n",
       "   50th Percentile (Median)  75th Percentile Count of Unique Values  \\\n",
       "0                      35.0            43.00                     43   \n",
       "0                     798.0          1146.75                    778   \n",
       "0                       7.0            14.00                     29   \n",
       "0                      66.0            83.00                     71   \n",
       "0                    4903.5          8215.25                   1097   \n",
       "0                   14536.0         20456.25                   1149   \n",
       "0                       2.0             4.00                     10   \n",
       "0                      14.0            18.00                     15   \n",
       "0                      10.0            15.00                     40   \n",
       "0                       3.0             3.00                      7   \n",
       "0                       5.0             9.00                     37   \n",
       "0                       3.0             7.00                     19   \n",
       "0                       1.0             2.75                     16   \n",
       "0                       3.0             7.00                     18   \n",
       "\n",
       "  Missing Values  \n",
       "0              0  \n",
       "0              0  \n",
       "0              0  \n",
       "0              0  \n",
       "0              0  \n",
       "0              0  \n",
       "0              0  \n",
       "0              0  \n",
       "0              0  \n",
       "0              0  \n",
       "0              0  \n",
       "0              0  \n",
       "0              0  \n",
       "0              0  "
      ]
     },
     "execution_count": 42,
     "metadata": {},
     "output_type": "execute_result"
    }
   ],
   "source": [
    "# Analyze numerical columns in a dataset\n",
    "## mean, median, mode, min, max, range, standard deviation, variance\n",
    "## missing values in each column\n",
    "\n",
    "# Create a dataframe to store the information\n",
    "df_numerical_info = pd.DataFrame(\n",
    "    columns=[\n",
    "        \"Column\",\n",
    "        \"Mean\",\n",
    "        \"Median (50th Percentile)\",\n",
    "        \"Mode\",\n",
    "        \"Min\",\n",
    "        \"Max\",\n",
    "        \"Range\",\n",
    "        \"Standard Deviation\",\n",
    "        \"Variance\",\n",
    "        \"25th Percentile\",\n",
    "        \"50th Percentile (Median)\",\n",
    "        \"75th Percentile\",\n",
    "        \"Count of Unique Values\",\n",
    "        \"Missing Values\",\n",
    "    ]\n",
    ")\n",
    "\n",
    "# Iterate through each categorical column and collect the required information\n",
    "for col in numerical_columns:\n",
    "    mean = df[col].mean()\n",
    "    median = df[col].median()\n",
    "    mode = df[col].mode()[0]\n",
    "    minimum = df[col].min()\n",
    "    maximum = df[col].max()\n",
    "    range_val = maximum - minimum\n",
    "    std_dev = df[col].std()\n",
    "    variance = df[col].var()\n",
    "    missing_values = df[col].isnull().sum()\n",
    "    percentile_25 = df[col].quantile(0.25)\n",
    "    percentile_50 = df[col].quantile(0.50)\n",
    "    percentile_75 = df[col].quantile(0.75)\n",
    "    count_unique_values = df[col].nunique()\n",
    "    # Append the information to the dataframe\n",
    "    temp_df = pd.DataFrame(\n",
    "        {\n",
    "            \"Column\": col,\n",
    "            \"Mean\": [mean],\n",
    "            \"Median (50th Percentile)\": [median],\n",
    "            \"Mode\": [mode],\n",
    "            \"Min\": [minimum],\n",
    "            \"Max\": [maximum],\n",
    "            \"Range\": [range_val],\n",
    "            \"Standard Deviation\": [std_dev],\n",
    "            \"Variance\": [variance],\n",
    "            \"25th Percentile\": [percentile_25],\n",
    "            \"50th Percentile (Median)\": [percentile_50],\n",
    "            \"75th Percentile\": [percentile_75],\n",
    "            \"Count of Unique Values\": count_unique_values,\n",
    "            \"Missing Values\": [missing_values],\n",
    "        }\n",
    "    )\n",
    "\n",
    "    df_numerical_info = pd.concat([df_numerical_info, temp_df], axis=0)\n",
    "\n",
    "# Display the dataframe\n",
    "df_numerical_info\n"
   ]
  },
  {
   "cell_type": "code",
   "execution_count": 43,
   "metadata": {},
   "outputs": [
    {
     "data": {
      "text/html": [
       "<div>\n",
       "<style scoped>\n",
       "    .dataframe tbody tr th:only-of-type {\n",
       "        vertical-align: middle;\n",
       "    }\n",
       "\n",
       "    .dataframe tbody tr th {\n",
       "        vertical-align: top;\n",
       "    }\n",
       "\n",
       "    .dataframe thead th {\n",
       "        text-align: right;\n",
       "    }\n",
       "</style>\n",
       "<table border=\"1\" class=\"dataframe\">\n",
       "  <thead>\n",
       "    <tr style=\"text-align: right;\">\n",
       "      <th></th>\n",
       "      <th>Column</th>\n",
       "      <th>Unique Values</th>\n",
       "      <th>Count of Unique Values</th>\n",
       "      <th>Missing Values</th>\n",
       "    </tr>\n",
       "  </thead>\n",
       "  <tbody>\n",
       "    <tr>\n",
       "      <th>0</th>\n",
       "      <td>employeecount</td>\n",
       "      <td>1</td>\n",
       "      <td>1</td>\n",
       "      <td>0</td>\n",
       "    </tr>\n",
       "    <tr>\n",
       "      <th>0</th>\n",
       "      <td>employeenumber</td>\n",
       "      <td>1888, 757, 1310, 476, 1361, 565, 482, 1506, 24...</td>\n",
       "      <td>1170</td>\n",
       "      <td>0</td>\n",
       "    </tr>\n",
       "  </tbody>\n",
       "</table>\n",
       "</div>"
      ],
      "text/plain": [
       "           Column                                      Unique Values  \\\n",
       "0   employeecount                                                  1   \n",
       "0  employeenumber  1888, 757, 1310, 476, 1361, 565, 482, 1506, 24...   \n",
       "\n",
       "  Count of Unique Values Missing Values  \n",
       "0                      1              0  \n",
       "0                   1170              0  "
      ]
     },
     "execution_count": 43,
     "metadata": {},
     "output_type": "execute_result"
    }
   ],
   "source": [
    "# Analyze useless columns in the dataset\n",
    "\n",
    "df_useless_info = pd.DataFrame(\n",
    "    columns=[\"Column\", \"Unique Values\", \"Count of Unique Values\", \"Missing Values\"]\n",
    ")\n",
    "\n",
    "# Iterate through each useless column and collect the required information\n",
    "for col in useless_columns:\n",
    "    unique_values = df[col].unique()\n",
    "    count_unique_values = df[col].nunique()\n",
    "    missing_values = df[col].isnull().sum()\n",
    "    unique_val = \", \".join(unique_values.astype(str))\n",
    "    temp_df = pd.DataFrame(\n",
    "        {\n",
    "            \"Column\": col,\n",
    "            \"Unique Values\": [unique_val],\n",
    "            \"Count of Unique Values\": count_unique_values,\n",
    "            \"Missing Values\": missing_values,\n",
    "        }\n",
    "    )\n",
    "\n",
    "    df_useless_info = pd.concat([df_useless_info, temp_df], axis=0)\n",
    "# Display the dataframe\n",
    "df_useless_info\n"
   ]
  },
  {
   "cell_type": "markdown",
   "metadata": {},
   "source": [
    "#### Observations\n",
    "1. `over18`, `standardhours`: has a single value in the entire dataset. Hence needs to check if test test has any other value? Should I drop? \n",
    "1. `employeecount`: has a single repeating values in the entire table. Should be dropped.\n",
    "1. `employeenumber`: is just a serial number. Should be dropped.\n",
    "1. `trainingtimeslastyear`, `numcompaniesworked`: can we move this to categorical variable as they have 7 and 10 values respectively.\n",
    "1. Outliers:\n",
    "    1. "
   ]
  },
  {
   "cell_type": "code",
   "execution_count": null,
   "metadata": {},
   "outputs": [],
   "source": []
  },
  {
   "cell_type": "code",
   "execution_count": 7,
   "metadata": {
    "id": "rOHYyNvXRwHz"
   },
   "outputs": [
    {
     "data": {
      "text/html": [
       "<div>\n",
       "<style scoped>\n",
       "    .dataframe tbody tr th:only-of-type {\n",
       "        vertical-align: middle;\n",
       "    }\n",
       "\n",
       "    .dataframe tbody tr th {\n",
       "        vertical-align: top;\n",
       "    }\n",
       "\n",
       "    .dataframe thead th {\n",
       "        text-align: right;\n",
       "    }\n",
       "</style>\n",
       "<table border=\"1\" class=\"dataframe\">\n",
       "  <thead>\n",
       "    <tr style=\"text-align: right;\">\n",
       "      <th></th>\n",
       "      <th>age</th>\n",
       "      <th>dailyrate</th>\n",
       "      <th>distancefromhome</th>\n",
       "      <th>education</th>\n",
       "      <th>employeecount</th>\n",
       "      <th>employeenumber</th>\n",
       "      <th>environmentsatisfaction</th>\n",
       "      <th>hourlyrate</th>\n",
       "      <th>jobinvolvement</th>\n",
       "      <th>joblevel</th>\n",
       "      <th>jobsatisfaction</th>\n",
       "      <th>monthlyincome</th>\n",
       "      <th>monthlyrate</th>\n",
       "      <th>numcompaniesworked</th>\n",
       "      <th>percentsalaryhike</th>\n",
       "      <th>performancerating</th>\n",
       "      <th>relationshipsatisfaction</th>\n",
       "      <th>standardhours</th>\n",
       "      <th>stockoptionlevel</th>\n",
       "      <th>totalworkingyears</th>\n",
       "      <th>trainingtimeslastyear</th>\n",
       "      <th>worklifebalance</th>\n",
       "      <th>yearsatcompany</th>\n",
       "      <th>yearsincurrentrole</th>\n",
       "      <th>yearssincelastpromotion</th>\n",
       "      <th>yearswithcurrmanager</th>\n",
       "    </tr>\n",
       "  </thead>\n",
       "  <tbody>\n",
       "    <tr>\n",
       "      <th>count</th>\n",
       "      <td>1170.000000</td>\n",
       "      <td>1170.000000</td>\n",
       "      <td>1170.000000</td>\n",
       "      <td>1170.000000</td>\n",
       "      <td>1170.0</td>\n",
       "      <td>1170.000000</td>\n",
       "      <td>1170.000000</td>\n",
       "      <td>1170.000000</td>\n",
       "      <td>1170.000000</td>\n",
       "      <td>1170.000000</td>\n",
       "      <td>1170.000000</td>\n",
       "      <td>1170.000000</td>\n",
       "      <td>1170.000000</td>\n",
       "      <td>1170.000000</td>\n",
       "      <td>1170.000000</td>\n",
       "      <td>1170.000000</td>\n",
       "      <td>1170.000000</td>\n",
       "      <td>1170.0</td>\n",
       "      <td>1170.000000</td>\n",
       "      <td>1170.000000</td>\n",
       "      <td>1170.000000</td>\n",
       "      <td>1170.000000</td>\n",
       "      <td>1170.000000</td>\n",
       "      <td>1170.00000</td>\n",
       "      <td>1170.000000</td>\n",
       "      <td>1170.000000</td>\n",
       "    </tr>\n",
       "    <tr>\n",
       "      <th>mean</th>\n",
       "      <td>36.858120</td>\n",
       "      <td>797.822222</td>\n",
       "      <td>9.262393</td>\n",
       "      <td>2.917949</td>\n",
       "      <td>1.0</td>\n",
       "      <td>1021.113675</td>\n",
       "      <td>2.723932</td>\n",
       "      <td>65.501709</td>\n",
       "      <td>2.747009</td>\n",
       "      <td>2.049573</td>\n",
       "      <td>2.723077</td>\n",
       "      <td>6456.937607</td>\n",
       "      <td>14411.584615</td>\n",
       "      <td>2.750427</td>\n",
       "      <td>15.204274</td>\n",
       "      <td>3.153846</td>\n",
       "      <td>2.739316</td>\n",
       "      <td>80.0</td>\n",
       "      <td>0.785470</td>\n",
       "      <td>11.315385</td>\n",
       "      <td>2.842735</td>\n",
       "      <td>2.745299</td>\n",
       "      <td>6.925641</td>\n",
       "      <td>4.17094</td>\n",
       "      <td>2.138462</td>\n",
       "      <td>4.061538</td>\n",
       "    </tr>\n",
       "    <tr>\n",
       "      <th>std</th>\n",
       "      <td>9.183448</td>\n",
       "      <td>403.592661</td>\n",
       "      <td>8.150868</td>\n",
       "      <td>1.011534</td>\n",
       "      <td>0.0</td>\n",
       "      <td>600.548289</td>\n",
       "      <td>1.095847</td>\n",
       "      <td>20.310054</td>\n",
       "      <td>0.702625</td>\n",
       "      <td>1.096352</td>\n",
       "      <td>1.103799</td>\n",
       "      <td>4660.476506</td>\n",
       "      <td>7078.167743</td>\n",
       "      <td>2.521952</td>\n",
       "      <td>3.688952</td>\n",
       "      <td>0.360955</td>\n",
       "      <td>1.075225</td>\n",
       "      <td>0.0</td>\n",
       "      <td>0.847253</td>\n",
       "      <td>7.879363</td>\n",
       "      <td>1.306385</td>\n",
       "      <td>0.718864</td>\n",
       "      <td>6.232076</td>\n",
       "      <td>3.62788</td>\n",
       "      <td>3.201738</td>\n",
       "      <td>3.586350</td>\n",
       "    </tr>\n",
       "    <tr>\n",
       "      <th>min</th>\n",
       "      <td>18.000000</td>\n",
       "      <td>102.000000</td>\n",
       "      <td>1.000000</td>\n",
       "      <td>1.000000</td>\n",
       "      <td>1.0</td>\n",
       "      <td>1.000000</td>\n",
       "      <td>1.000000</td>\n",
       "      <td>30.000000</td>\n",
       "      <td>1.000000</td>\n",
       "      <td>1.000000</td>\n",
       "      <td>1.000000</td>\n",
       "      <td>1009.000000</td>\n",
       "      <td>2094.000000</td>\n",
       "      <td>0.000000</td>\n",
       "      <td>11.000000</td>\n",
       "      <td>3.000000</td>\n",
       "      <td>1.000000</td>\n",
       "      <td>80.0</td>\n",
       "      <td>0.000000</td>\n",
       "      <td>0.000000</td>\n",
       "      <td>0.000000</td>\n",
       "      <td>1.000000</td>\n",
       "      <td>0.000000</td>\n",
       "      <td>0.00000</td>\n",
       "      <td>0.000000</td>\n",
       "      <td>0.000000</td>\n",
       "    </tr>\n",
       "    <tr>\n",
       "      <th>25%</th>\n",
       "      <td>30.000000</td>\n",
       "      <td>461.000000</td>\n",
       "      <td>2.000000</td>\n",
       "      <td>2.000000</td>\n",
       "      <td>1.0</td>\n",
       "      <td>496.250000</td>\n",
       "      <td>2.000000</td>\n",
       "      <td>48.000000</td>\n",
       "      <td>2.000000</td>\n",
       "      <td>1.000000</td>\n",
       "      <td>2.000000</td>\n",
       "      <td>2914.750000</td>\n",
       "      <td>8387.500000</td>\n",
       "      <td>1.000000</td>\n",
       "      <td>12.000000</td>\n",
       "      <td>3.000000</td>\n",
       "      <td>2.000000</td>\n",
       "      <td>80.0</td>\n",
       "      <td>0.000000</td>\n",
       "      <td>6.000000</td>\n",
       "      <td>2.000000</td>\n",
       "      <td>2.000000</td>\n",
       "      <td>3.000000</td>\n",
       "      <td>2.00000</td>\n",
       "      <td>0.000000</td>\n",
       "      <td>2.000000</td>\n",
       "    </tr>\n",
       "    <tr>\n",
       "      <th>50%</th>\n",
       "      <td>35.000000</td>\n",
       "      <td>798.000000</td>\n",
       "      <td>7.000000</td>\n",
       "      <td>3.000000</td>\n",
       "      <td>1.0</td>\n",
       "      <td>1008.500000</td>\n",
       "      <td>3.000000</td>\n",
       "      <td>66.000000</td>\n",
       "      <td>3.000000</td>\n",
       "      <td>2.000000</td>\n",
       "      <td>3.000000</td>\n",
       "      <td>4903.500000</td>\n",
       "      <td>14536.000000</td>\n",
       "      <td>2.000000</td>\n",
       "      <td>14.000000</td>\n",
       "      <td>3.000000</td>\n",
       "      <td>3.000000</td>\n",
       "      <td>80.0</td>\n",
       "      <td>1.000000</td>\n",
       "      <td>10.000000</td>\n",
       "      <td>3.000000</td>\n",
       "      <td>3.000000</td>\n",
       "      <td>5.000000</td>\n",
       "      <td>3.00000</td>\n",
       "      <td>1.000000</td>\n",
       "      <td>3.000000</td>\n",
       "    </tr>\n",
       "    <tr>\n",
       "      <th>75%</th>\n",
       "      <td>43.000000</td>\n",
       "      <td>1146.750000</td>\n",
       "      <td>14.000000</td>\n",
       "      <td>4.000000</td>\n",
       "      <td>1.0</td>\n",
       "      <td>1548.500000</td>\n",
       "      <td>4.000000</td>\n",
       "      <td>83.000000</td>\n",
       "      <td>3.000000</td>\n",
       "      <td>3.000000</td>\n",
       "      <td>4.000000</td>\n",
       "      <td>8215.250000</td>\n",
       "      <td>20456.250000</td>\n",
       "      <td>4.000000</td>\n",
       "      <td>18.000000</td>\n",
       "      <td>3.000000</td>\n",
       "      <td>4.000000</td>\n",
       "      <td>80.0</td>\n",
       "      <td>1.000000</td>\n",
       "      <td>15.000000</td>\n",
       "      <td>3.000000</td>\n",
       "      <td>3.000000</td>\n",
       "      <td>9.000000</td>\n",
       "      <td>7.00000</td>\n",
       "      <td>2.750000</td>\n",
       "      <td>7.000000</td>\n",
       "    </tr>\n",
       "    <tr>\n",
       "      <th>max</th>\n",
       "      <td>60.000000</td>\n",
       "      <td>1499.000000</td>\n",
       "      <td>29.000000</td>\n",
       "      <td>5.000000</td>\n",
       "      <td>1.0</td>\n",
       "      <td>2065.000000</td>\n",
       "      <td>4.000000</td>\n",
       "      <td>100.000000</td>\n",
       "      <td>4.000000</td>\n",
       "      <td>5.000000</td>\n",
       "      <td>4.000000</td>\n",
       "      <td>19999.000000</td>\n",
       "      <td>26999.000000</td>\n",
       "      <td>9.000000</td>\n",
       "      <td>25.000000</td>\n",
       "      <td>4.000000</td>\n",
       "      <td>4.000000</td>\n",
       "      <td>80.0</td>\n",
       "      <td>3.000000</td>\n",
       "      <td>40.000000</td>\n",
       "      <td>6.000000</td>\n",
       "      <td>4.000000</td>\n",
       "      <td>40.000000</td>\n",
       "      <td>18.00000</td>\n",
       "      <td>15.000000</td>\n",
       "      <td>17.000000</td>\n",
       "    </tr>\n",
       "  </tbody>\n",
       "</table>\n",
       "</div>"
      ],
      "text/plain": [
       "               age    dailyrate  distancefromhome    education  employeecount  \\\n",
       "count  1170.000000  1170.000000       1170.000000  1170.000000         1170.0   \n",
       "mean     36.858120   797.822222          9.262393     2.917949            1.0   \n",
       "std       9.183448   403.592661          8.150868     1.011534            0.0   \n",
       "min      18.000000   102.000000          1.000000     1.000000            1.0   \n",
       "25%      30.000000   461.000000          2.000000     2.000000            1.0   \n",
       "50%      35.000000   798.000000          7.000000     3.000000            1.0   \n",
       "75%      43.000000  1146.750000         14.000000     4.000000            1.0   \n",
       "max      60.000000  1499.000000         29.000000     5.000000            1.0   \n",
       "\n",
       "       employeenumber  environmentsatisfaction   hourlyrate  jobinvolvement  \\\n",
       "count     1170.000000              1170.000000  1170.000000     1170.000000   \n",
       "mean      1021.113675                 2.723932    65.501709        2.747009   \n",
       "std        600.548289                 1.095847    20.310054        0.702625   \n",
       "min          1.000000                 1.000000    30.000000        1.000000   \n",
       "25%        496.250000                 2.000000    48.000000        2.000000   \n",
       "50%       1008.500000                 3.000000    66.000000        3.000000   \n",
       "75%       1548.500000                 4.000000    83.000000        3.000000   \n",
       "max       2065.000000                 4.000000   100.000000        4.000000   \n",
       "\n",
       "          joblevel  jobsatisfaction  monthlyincome   monthlyrate  \\\n",
       "count  1170.000000      1170.000000    1170.000000   1170.000000   \n",
       "mean      2.049573         2.723077    6456.937607  14411.584615   \n",
       "std       1.096352         1.103799    4660.476506   7078.167743   \n",
       "min       1.000000         1.000000    1009.000000   2094.000000   \n",
       "25%       1.000000         2.000000    2914.750000   8387.500000   \n",
       "50%       2.000000         3.000000    4903.500000  14536.000000   \n",
       "75%       3.000000         4.000000    8215.250000  20456.250000   \n",
       "max       5.000000         4.000000   19999.000000  26999.000000   \n",
       "\n",
       "       numcompaniesworked  percentsalaryhike  performancerating  \\\n",
       "count         1170.000000        1170.000000        1170.000000   \n",
       "mean             2.750427          15.204274           3.153846   \n",
       "std              2.521952           3.688952           0.360955   \n",
       "min              0.000000          11.000000           3.000000   \n",
       "25%              1.000000          12.000000           3.000000   \n",
       "50%              2.000000          14.000000           3.000000   \n",
       "75%              4.000000          18.000000           3.000000   \n",
       "max              9.000000          25.000000           4.000000   \n",
       "\n",
       "       relationshipsatisfaction  standardhours  stockoptionlevel  \\\n",
       "count               1170.000000         1170.0       1170.000000   \n",
       "mean                   2.739316           80.0          0.785470   \n",
       "std                    1.075225            0.0          0.847253   \n",
       "min                    1.000000           80.0          0.000000   \n",
       "25%                    2.000000           80.0          0.000000   \n",
       "50%                    3.000000           80.0          1.000000   \n",
       "75%                    4.000000           80.0          1.000000   \n",
       "max                    4.000000           80.0          3.000000   \n",
       "\n",
       "       totalworkingyears  trainingtimeslastyear  worklifebalance  \\\n",
       "count        1170.000000            1170.000000      1170.000000   \n",
       "mean           11.315385               2.842735         2.745299   \n",
       "std             7.879363               1.306385         0.718864   \n",
       "min             0.000000               0.000000         1.000000   \n",
       "25%             6.000000               2.000000         2.000000   \n",
       "50%            10.000000               3.000000         3.000000   \n",
       "75%            15.000000               3.000000         3.000000   \n",
       "max            40.000000               6.000000         4.000000   \n",
       "\n",
       "       yearsatcompany  yearsincurrentrole  yearssincelastpromotion  \\\n",
       "count     1170.000000          1170.00000              1170.000000   \n",
       "mean         6.925641             4.17094                 2.138462   \n",
       "std          6.232076             3.62788                 3.201738   \n",
       "min          0.000000             0.00000                 0.000000   \n",
       "25%          3.000000             2.00000                 0.000000   \n",
       "50%          5.000000             3.00000                 1.000000   \n",
       "75%          9.000000             7.00000                 2.750000   \n",
       "max         40.000000            18.00000                15.000000   \n",
       "\n",
       "       yearswithcurrmanager  \n",
       "count           1170.000000  \n",
       "mean               4.061538  \n",
       "std                3.586350  \n",
       "min                0.000000  \n",
       "25%                2.000000  \n",
       "50%                3.000000  \n",
       "75%                7.000000  \n",
       "max               17.000000  "
      ]
     },
     "execution_count": 7,
     "metadata": {},
     "output_type": "execute_result"
    }
   ],
   "source": [
    "# YOUR CODE HERE\n",
    "df.describe()\n"
   ]
  },
  {
   "cell_type": "markdown",
   "metadata": {
    "id": "-5LDX4tYR6Vs"
   },
   "source": [
    "First, we want to get a sense of our data:\n",
    "- What features have the most divergent distributions based on target class\n",
    "- Do we have a target label imbalance\n",
    "- How our independent variables are distributed relative to our target label\n",
    "- Are there features that have strong linear or monotonic relationships, making correlation heatmaps makes it easy to identify possible colinearity"
   ]
  },
  {
   "cell_type": "markdown",
   "metadata": {
    "id": "T5mUbdCMKBP8"
   },
   "source": [
    "### Check for outliers"
   ]
  },
  {
   "cell_type": "markdown",
   "metadata": {
    "id": "cYTnAs5UqlVn"
   },
   "source": [
    "**Exercise 3: Create a box plot to check for outliers [0.5 Mark]**"
   ]
  },
  {
   "cell_type": "code",
   "execution_count": null,
   "metadata": {
    "id": "OYTxh7gtFqyC"
   },
   "outputs": [],
   "source": [
    "# Check for outliers\n",
    "# YOUR CODE HERE\n"
   ]
  },
  {
   "cell_type": "markdown",
   "metadata": {
    "id": "42cBMGHQQOWP"
   },
   "source": [
    "### Handling outliers"
   ]
  },
  {
   "cell_type": "markdown",
   "metadata": {
    "id": "ei63U2m7qyGA"
   },
   "source": [
    "**Exercise 4: Use lower bound as 25% and upper bound as 75% to handle the outliers [0.5 Mark]**"
   ]
  },
  {
   "cell_type": "code",
   "execution_count": null,
   "metadata": {
    "id": "oT3yOFPoH0SH"
   },
   "outputs": [],
   "source": [
    "# YOUR CODE HERE\n"
   ]
  },
  {
   "cell_type": "code",
   "execution_count": null,
   "metadata": {
    "id": "QvrMPhTtJTYP"
   },
   "outputs": [],
   "source": [
    "# Recheck for outliers\n",
    "# YOUR CODE HERE\n"
   ]
  },
  {
   "cell_type": "markdown",
   "metadata": {
    "id": "_ha6PPo2iCAM"
   },
   "source": [
    "### Target label imbalance"
   ]
  },
  {
   "cell_type": "markdown",
   "metadata": {
    "id": "ryNwfdldrR0j"
   },
   "source": [
    "**Exercise 5: Check if there is an imbalance in target label [0.5 Mark]**"
   ]
  },
  {
   "cell_type": "markdown",
   "metadata": {
    "id": "j17VKVdnrb3R"
   },
   "source": [
    "**Hint:** Use value_counts()"
   ]
  },
  {
   "cell_type": "code",
   "execution_count": null,
   "metadata": {
    "id": "y1gsAjfLbi2Z"
   },
   "outputs": [],
   "source": [
    "# Count of unique values in Attrition column\n",
    "# YOUR CODE HERE\n"
   ]
  },
  {
   "cell_type": "code",
   "execution_count": null,
   "metadata": {
    "id": "g-8bU9moco7l"
   },
   "outputs": [],
   "source": [
    "# Plot barplot to visualize balance/imbalance\n",
    "# YOUR CODE HERE\n"
   ]
  },
  {
   "cell_type": "markdown",
   "metadata": {
    "id": "0N7tqroWP9iQ"
   },
   "source": [
    "If there is any imbalance in the dataset then a few techniques can be utilised (optional):\n",
    "1. SMOTE\n",
    "2. Cross Validation\n",
    "3. Regularizing the model's parameters"
   ]
  },
  {
   "cell_type": "markdown",
   "metadata": {
    "id": "79pQoaQ3iOG7"
   },
   "source": [
    "###Plot pairplot"
   ]
  },
  {
   "cell_type": "markdown",
   "metadata": {
    "id": "3Hfry_Fwr5nQ"
   },
   "source": [
    "**Exercise 6: Visualize the relationships between the predictor variables and the target variable using a pairplot [0.5 Mark]**"
   ]
  },
  {
   "cell_type": "markdown",
   "metadata": {
    "id": "aTBi6PLqsDbk"
   },
   "source": [
    "**Hint:** Use sns.pairplot"
   ]
  },
  {
   "cell_type": "code",
   "execution_count": null,
   "metadata": {
    "_uuid": "a7355f1c5bf552fca19d132df33d7994516873f6",
    "id": "OO9RJlfrCEVp",
    "trusted": true
   },
   "outputs": [],
   "source": [
    "# Visualize a pairplot with relevant features\n",
    "# YOUR CODE HERE\n"
   ]
  },
  {
   "cell_type": "markdown",
   "metadata": {
    "id": "UVKpOQqPuyew"
   },
   "source": [
    "### Explore Correlation\n",
    "\n",
    "- Plotting the Heatmap"
   ]
  },
  {
   "cell_type": "markdown",
   "metadata": {
    "id": "aIMCrjr1sNJc"
   },
   "source": [
    "**Exercise 7: Visualize the correlation among IBM employee attrition numerical features using a heatmap [0.5 Mark]**"
   ]
  },
  {
   "cell_type": "code",
   "execution_count": null,
   "metadata": {
    "id": "RC7eIV-P8rbX"
   },
   "outputs": [],
   "source": [
    "# Visualize heatmap\n",
    "# YOUR CODE HERE\n"
   ]
  },
  {
   "cell_type": "markdown",
   "metadata": {
    "id": "_FrUYzZWawAl"
   },
   "source": [
    "Comment on the observations made with the pairplot and heatmap"
   ]
  },
  {
   "cell_type": "markdown",
   "metadata": {
    "id": "oT9AhvtTQnKV"
   },
   "source": [
    "### Preparing the test feature space\n",
    "* Remove outliers if any\n",
    "* Handle the categorical feature if required\n",
    "* Other processing steps can also be followed."
   ]
  },
  {
   "cell_type": "code",
   "execution_count": null,
   "metadata": {
    "id": "vfhan6UWQ8EX"
   },
   "outputs": [],
   "source": [
    "# YOUR CODE HERE\n"
   ]
  },
  {
   "cell_type": "markdown",
   "metadata": {
    "id": "apS4f8aqWG71"
   },
   "source": [
    "Optional:\n",
    "Use `Hyperopt`, a hyperparameter tuning technique to identify the best set of parameters.\n",
    "\n",
    "Refer to the Additional Notebook: CatBoost parameter tuning [CDS-B8 GDrive -> Module 3 -> Assignments -> July 27, 2024 -> Additional Notebook (ungraded) -> Addl_NB_Tuning_hyerparameters_using_Hyperopt]"
   ]
  },
  {
   "cell_type": "markdown",
   "metadata": {
    "id": "j-ZPcVcn9w3U"
   },
   "source": [
    "In the notebook, data processing is done separately for different models.\n",
    "Considering the fact that different models may require data in different format and in turn different processes may be followed to process the data.\n",
    "\n",
    "If the processing steps followed for the models are same, data processing can also be done once."
   ]
  },
  {
   "cell_type": "markdown",
   "metadata": {
    "_uuid": "63f0a5564f30228e710a3c1b7f7914bd986b93f1",
    "id": "5ccGpKffCEVt"
   },
   "source": [
    "## Apply CatBoost\n",
    "\n",
    "Catboost was released in 2017 by Yandex, showing, by their benchmark to be faster in prediction, better in accuracy, and easier to use for categorical data across a series of GBDT tasks. Additional capabilities of catboost include plotting feature interactions and object (row) importance.\n",
    "\n",
    "[Here](https://catboost.ai/en/docs/) is the official documentation of CatBoost"
   ]
  },
  {
   "cell_type": "markdown",
   "metadata": {
    "id": "7d7v3VlYQXGY"
   },
   "source": [
    "### Data Processing for CatBoost"
   ]
  },
  {
   "cell_type": "markdown",
   "metadata": {
    "id": "45hA2ZB9tHGW"
   },
   "source": [
    "**Exercise 8: Data processing for CatBoost [1 Mark]**\n",
    "* **Copy the dataframe that was created after removing the outliers**\n",
    "* **Handle the categorical features if required**\n",
    "* **Create target column and feature space**"
   ]
  },
  {
   "cell_type": "markdown",
   "metadata": {
    "id": "plxqVIWHt_9M"
   },
   "source": [
    "**Hint:** Column containing the information on attrition will be the target column."
   ]
  },
  {
   "cell_type": "code",
   "execution_count": null,
   "metadata": {
    "id": "V_mmH_ltZPvP"
   },
   "outputs": [],
   "source": [
    "# Copy the data\n",
    "# YOUR CODE HERE\n"
   ]
  },
  {
   "cell_type": "code",
   "execution_count": null,
   "metadata": {
    "id": "f-0M3uWuZs_B"
   },
   "outputs": [],
   "source": [
    "# Target Column\n",
    "# YOUR CODE HERE\n"
   ]
  },
  {
   "cell_type": "code",
   "execution_count": null,
   "metadata": {
    "id": "icGflPlLaBre"
   },
   "outputs": [],
   "source": [
    "# Feature Space\n",
    "# YOUR CODE HERE\n"
   ]
  },
  {
   "cell_type": "markdown",
   "metadata": {
    "id": "s0Z0cbeS4BrT"
   },
   "source": [
    "### Model Definition"
   ]
  },
  {
   "cell_type": "markdown",
   "metadata": {
    "id": "Bphb_wNwupwi"
   },
   "source": [
    "**Exercise 9: Define, train the model and display the results [2 Mark]**"
   ]
  },
  {
   "cell_type": "markdown",
   "metadata": {
    "id": "K2e980Yyu3oJ"
   },
   "source": [
    "**Hint:**\n",
    "* Use CatBoostClassifier() to define the model with relevant parameters.\n",
    "* Use `fit` to fit the data to the model. Refer [here](https://catboost.ai/en/docs/concepts/speed-up-training) to see some ways to speedup CatBoost training.\n",
    "* Evaluate the model using roc_auc_score, accuracy_score, f1_score, predict methods or other relevant techniques."
   ]
  },
  {
   "cell_type": "code",
   "execution_count": null,
   "metadata": {
    "id": "kIMPGCfMDIZR"
   },
   "outputs": [],
   "source": [
    "# Create CatBoost model\n",
    "# YOUR CODE HERE\n"
   ]
  },
  {
   "cell_type": "code",
   "execution_count": null,
   "metadata": {
    "id": "nkRYWmGfDMu-"
   },
   "outputs": [],
   "source": [
    "# Model training\n",
    "# YOUR CODE HERE\n"
   ]
  },
  {
   "cell_type": "markdown",
   "metadata": {
    "id": "stov-GDTGrOw"
   },
   "source": [
    "### Model performance"
   ]
  },
  {
   "cell_type": "code",
   "execution_count": null,
   "metadata": {
    "id": "1k6sOOU-FNs7"
   },
   "outputs": [],
   "source": [
    "# Model performance on all sets\n",
    "# YOUR CODE HERE\n"
   ]
  },
  {
   "cell_type": "markdown",
   "metadata": {
    "id": "_hk4Kw5QGXCU"
   },
   "source": [
    "## Apply XGBoost\n",
    "\n",
    "XGBoost is a workhorse gradient boosted decision tree algorithm. Its been around since 2014 and has come to dominate the Kaggle and data science community. XGB introduced gradient boosting where new models are fit to the residuals of prior models and then added together, using a gradient descent algorithm to minimize the loss.\n",
    "\n",
    "Read [here](https://xgboost.readthedocs.io/en/stable/parameter.html) on XGBoost parameters.\n",
    "\n",
    "Refer [here](https://xgboost.readthedocs.io/en/stable/python/python_api.html#xgboost.XGBClassifier) for the official documentation of XGBoost classifier."
   ]
  },
  {
   "cell_type": "markdown",
   "metadata": {
    "id": "3KbfDzqudx5H"
   },
   "source": [
    "### Data Processing for XGBoost\n"
   ]
  },
  {
   "cell_type": "markdown",
   "metadata": {
    "id": "Yk6NedArvxbn"
   },
   "source": [
    "**Exercise 10: Data Processing for XGBoost [1 Mark]**\n",
    "* **Copy the dataframe after the outliers were removed.**\n",
    "* **Handle the categorical features if required**\n",
    "* **Create target column and feature space**"
   ]
  },
  {
   "cell_type": "code",
   "execution_count": null,
   "metadata": {
    "id": "wT2RVw4JTAGp"
   },
   "outputs": [],
   "source": [
    "# Copy dataframe\n",
    "# YOUR CODE HERE\n"
   ]
  },
  {
   "cell_type": "markdown",
   "metadata": {
    "id": "jeTPMeNlwP2e"
   },
   "source": [
    "**Hint:** Use pd.get_dummies"
   ]
  },
  {
   "cell_type": "code",
   "execution_count": null,
   "metadata": {
    "id": "QX1wnlPFWViw"
   },
   "outputs": [],
   "source": [
    "# Handling categorical features\n",
    "# YOUR CODE HERE\n"
   ]
  },
  {
   "cell_type": "code",
   "execution_count": null,
   "metadata": {
    "id": "f-K7vfixWup8"
   },
   "outputs": [],
   "source": [
    "# Concat the dummy variables to actual dataframe and remove initial categorical columns\n",
    "# YOUR CODE HERE\n"
   ]
  },
  {
   "cell_type": "markdown",
   "metadata": {
    "id": "usRVCrd5wkC1"
   },
   "source": [
    "When creating the dummy variables, the name of attrition column was changed, rename to 'attrition' again."
   ]
  },
  {
   "cell_type": "markdown",
   "metadata": {
    "id": "OnyrNF9Fw2eS"
   },
   "source": [
    "**Hint:** Use .rename"
   ]
  },
  {
   "cell_type": "code",
   "execution_count": null,
   "metadata": {
    "id": "sCkr7gvLXxLs"
   },
   "outputs": [],
   "source": [
    "# Rename target column\n",
    "# YOUR CODE HERE\n"
   ]
  },
  {
   "cell_type": "code",
   "execution_count": null,
   "metadata": {
    "id": "SA-WIpLAX3KH"
   },
   "outputs": [],
   "source": [
    "# Feature Space\n",
    "# YOUR CODE HERE\n",
    "\n",
    "# Targer label\n",
    "# YOUR CODE HERE\n"
   ]
  },
  {
   "cell_type": "markdown",
   "metadata": {
    "id": "ccLyB9J04hDF"
   },
   "source": [
    "### Model Definition"
   ]
  },
  {
   "cell_type": "markdown",
   "metadata": {
    "id": "JPinBk5NxRpt"
   },
   "source": [
    "**Exercise 11: Define, train the model and display the results [2 Mark]**"
   ]
  },
  {
   "cell_type": "markdown",
   "metadata": {
    "id": "-LFyiv0Mxcl-"
   },
   "source": [
    "**Hint:**\n",
    "* Use XGBClassifier() to define the model with relevant parameters.\n",
    "* Use `fit` to fit the data to the model.\n",
    "* Evaluate the model using roc_auc_score, accuracy_score, f1_score, predict methods or other relevant techniques."
   ]
  },
  {
   "cell_type": "code",
   "execution_count": null,
   "metadata": {
    "id": "nxtvfYpzVxTc"
   },
   "outputs": [],
   "source": [
    "# Create XGBoost classifier model\n",
    "# YOUR CODE HERE\n"
   ]
  },
  {
   "cell_type": "code",
   "execution_count": null,
   "metadata": {
    "id": "hrN85N3X_Sar"
   },
   "outputs": [],
   "source": [
    "# Model training\n",
    "# YOUR CODE HERE\n"
   ]
  },
  {
   "cell_type": "markdown",
   "metadata": {
    "id": "cA5ZK31mPox1"
   },
   "source": [
    "### Model Performance"
   ]
  },
  {
   "cell_type": "code",
   "execution_count": null,
   "metadata": {
    "id": "wQXg9FhcmwIw"
   },
   "outputs": [],
   "source": [
    "# Model performance on all sets\n",
    "# YOUR CODE HERE\n"
   ]
  },
  {
   "cell_type": "markdown",
   "metadata": {
    "_uuid": "d1aa61b46b4cc4966124e75394f6f5a1e585f3cc",
    "id": "8Iki__IJCEVs"
   },
   "source": [
    "## Apply LightGBM (Optional)\n",
    "\n",
    "LightGBM is an open-source GBDT framework created by Microsoft as a fast and scalable alternative to XGB and GBM. By default LightGBM will train a Gradient Boosted Decision Tree (GBDT), but it also supports random forests, Dropouts meet Multiple Additive Regression Trees (DART), and Gradient Based One-Side Sampling (Goss).\n",
    "\n",
    "To know more about LightGBM parameters, refer [here](https://lightgbm.readthedocs.io/en/latest/pythonapi/lightgbm.LGBMClassifier.html#lightgbm.LGBMClassifier)."
   ]
  },
  {
   "cell_type": "markdown",
   "metadata": {
    "id": "QGVwrT59tEx_"
   },
   "source": [
    "### Feature Engineering for LightGBM"
   ]
  },
  {
   "cell_type": "code",
   "execution_count": null,
   "metadata": {
    "id": "eYq9Z02Bs4-x"
   },
   "outputs": [],
   "source": [
    "## Following the same procedure as followed in XGBoost\n",
    "\n",
    "# Copy the dataframe\n",
    "# YOUR CODE HERE\n",
    "\n",
    "# Handling categorical features\n",
    "# YOUR CODE HERE\n",
    "\n",
    "# Concat the dummy variables to actual dataframe and remove initial categorical columns\n",
    "# YOUR CODE HERE\n",
    "\n",
    "# Rename target column\n",
    "# YOUR CODE HERE\n",
    "\n",
    "# Features Space\n",
    "# YOUR CODE HERE\n",
    "\n",
    "# Target Label\n",
    "# YOUR CODE HERE\n"
   ]
  },
  {
   "cell_type": "markdown",
   "metadata": {
    "id": "HNxN3-gU4ZWn"
   },
   "source": [
    "### Model Definition"
   ]
  },
  {
   "cell_type": "markdown",
   "metadata": {
    "id": "lrZlE4IJydou"
   },
   "source": [
    "**Hint:**\n",
    "* Use LGBMClassifier() to define the model with relevant parameters.\n",
    "* Use `fit` to fit the data to the model.\n",
    "* Evaluate the model using roc_auc_score, accuracy_score, f1_score, predict methods or other relevant techniques."
   ]
  },
  {
   "cell_type": "code",
   "execution_count": null,
   "metadata": {
    "id": "4fWl23dHXHAP"
   },
   "outputs": [],
   "source": [
    "# Create LightGBM classifier model\n",
    "# YOUR CODE HERE\n"
   ]
  },
  {
   "cell_type": "code",
   "execution_count": null,
   "metadata": {
    "id": "5FktD02ntN1T"
   },
   "outputs": [],
   "source": [
    "# Model training\n",
    "# YOUR CODE HERE\n"
   ]
  },
  {
   "cell_type": "markdown",
   "metadata": {
    "id": "upM6hxP_SbPw"
   },
   "source": [
    "### Model performance"
   ]
  },
  {
   "cell_type": "code",
   "execution_count": null,
   "metadata": {
    "id": "mmM2WvTGSd_l"
   },
   "outputs": [],
   "source": [
    "# Model performance on all sets\n",
    "# YOUR CODE HERE\n"
   ]
  },
  {
   "cell_type": "markdown",
   "metadata": {
    "_uuid": "33789095f30bba0c1ae0d9c5c78207ba4014800b",
    "id": "18zLjk0qCEVu"
   },
   "source": [
    "## Results"
   ]
  },
  {
   "cell_type": "markdown",
   "metadata": {
    "id": "2eQwUXGgy78m"
   },
   "source": [
    "**Exercise 12: Create a dataframe of XGBoost results and CatBoost results and display them [0.5 Mark]**"
   ]
  },
  {
   "cell_type": "markdown",
   "metadata": {
    "id": "nWQkWdRmzQ6n"
   },
   "source": [
    "**Hint:** Use pd.DataFrame"
   ]
  },
  {
   "cell_type": "code",
   "execution_count": null,
   "metadata": {
    "_uuid": "8c99bac7c8c6302c2d2fb6e00f1f17453d972265",
    "id": "qFGMmqS-CEVu",
    "trusted": true
   },
   "outputs": [],
   "source": [
    "# Create a dataframe for computed metrics for different models\n",
    "# YOUR CODE HERE\n"
   ]
  },
  {
   "cell_type": "markdown",
   "metadata": {
    "id": "tWJ9p6CSfxAH"
   },
   "source": [
    "Reference reading:\n",
    "1. https://machinelearningmastery.com/xgboost-for-imbalanced-classification/"
   ]
  },
  {
   "cell_type": "markdown",
   "metadata": {
    "id": "Txq8oLEs4Op1"
   },
   "source": [
    "## Kaggle Prediction"
   ]
  },
  {
   "cell_type": "markdown",
   "metadata": {
    "id": "7uHk3jvf4S46"
   },
   "source": [
    "Load data from Kaggle competition site"
   ]
  },
  {
   "cell_type": "code",
   "execution_count": null,
   "metadata": {
    "id": "Fciin_p26_jA"
   },
   "outputs": [],
   "source": [
    "# From the given Kaggle competition link, load the dataset 'hr_employee_attrition_test.csv'\n",
    "# YOUR CODE HERE\n"
   ]
  },
  {
   "cell_type": "code",
   "execution_count": null,
   "metadata": {
    "id": "pleyFrRf7Ds0"
   },
   "outputs": [],
   "source": [
    "# From the dataset 'hr_employee_attrition_test.csv', drop columns ['id','employeenumber', 'employeecount', 'over18'] having single value\n",
    "# YOUR CODE HERE\n"
   ]
  },
  {
   "cell_type": "code",
   "execution_count": null,
   "metadata": {
    "id": "fYvpXIaw7hQQ"
   },
   "outputs": [],
   "source": [
    "# Handle categorical features\n",
    "# YOUR CODE HERE\n"
   ]
  },
  {
   "cell_type": "code",
   "execution_count": null,
   "metadata": {
    "id": "AnihyFFM7pbC"
   },
   "outputs": [],
   "source": [
    "# Concat the dummy variables to actual dataframe and remove initial categorical columns\n",
    "# YOUR CODE HERE\n"
   ]
  },
  {
   "cell_type": "markdown",
   "metadata": {
    "id": "KfiThqH87vs1"
   },
   "source": [
    "Predictions"
   ]
  },
  {
   "cell_type": "code",
   "execution_count": null,
   "metadata": {
    "id": "hW-vkBcs74se"
   },
   "outputs": [],
   "source": [
    "# Get the predictions using your already trained CatBoost classifier model achieved in Exercise 9\n",
    "# YOUR CODE HERE\n"
   ]
  },
  {
   "cell_type": "code",
   "execution_count": null,
   "metadata": {
    "id": "u9nTocSC91-9"
   },
   "outputs": [],
   "source": [
    "# Get the predictions using your already trained XGBoost classifier model achieved in Exercise 11\n",
    "# YOUR CODE HERE\n"
   ]
  },
  {
   "cell_type": "markdown",
   "metadata": {
    "id": "5kW1VMpW-20p"
   },
   "source": [
    "Get the predictions using your trained Microsoft LightGBM model (Optional)"
   ]
  },
  {
   "cell_type": "code",
   "execution_count": null,
   "metadata": {
    "id": "vMHO0g9B-PtX"
   },
   "outputs": [],
   "source": [
    "# Get the predictions using your already trained Microsoft LightGBM classifier model\n",
    "# achieved under the optional exercise 'Apply LightGBM (Optional)'\n",
    "# YOUR CODE HERE\n"
   ]
  },
  {
   "cell_type": "markdown",
   "metadata": {
    "id": "L4rzXFk-_lzk"
   },
   "source": [
    "Save predictions to csv and submit under given Kaggle competiton link"
   ]
  },
  {
   "cell_type": "code",
   "execution_count": null,
   "metadata": {
    "id": "F0zukSXl_wcP"
   },
   "outputs": [],
   "source": [
    "# YOUR CODE HERE\n"
   ]
  }
 ],
 "metadata": {
  "accelerator": "GPU",
  "colab": {
   "provenance": []
  },
  "gpuClass": "standard",
  "kernelspec": {
   "display_name": ".venv",
   "language": "python",
   "name": "python3"
  },
  "language_info": {
   "codemirror_mode": {
    "name": "ipython",
    "version": 3
   },
   "file_extension": ".py",
   "mimetype": "text/x-python",
   "name": "python",
   "nbconvert_exporter": "python",
   "pygments_lexer": "ipython3",
   "version": "3.11.7"
  }
 },
 "nbformat": 4,
 "nbformat_minor": 0
}
