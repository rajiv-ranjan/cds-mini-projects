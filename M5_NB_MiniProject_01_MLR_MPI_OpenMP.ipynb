{
  "nbformat": 4,
  "nbformat_minor": 5,
  "metadata": {
    "colab": {
      "provenance": [],
      "include_colab_link": true
    },
    "kernelspec": {
      "display_name": "Python 3",
      "language": "python",
      "name": "python3"
    },
    "language_info": {
      "codemirror_mode": {
        "name": "ipython",
        "version": 3
      },
      "file_extension": ".py",
      "mimetype": "text/x-python",
      "name": "python",
      "nbconvert_exporter": "python",
      "pygments_lexer": "ipython3",
      "version": "3.6.7rc1"
    }
  },
  "cells": [
    {
      "cell_type": "markdown",
      "metadata": {
        "id": "view-in-github",
        "colab_type": "text"
      },
      "source": [
        "<a href=\"https://colab.research.google.com/github/rajiv-ranjan/cds-mini-projects/blob/saif/M5_NB_MiniProject_01_MLR_MPI_OpenMP.ipynb\" target=\"_parent\"><img src=\"https://colab.research.google.com/assets/colab-badge.svg\" alt=\"Open In Colab\"/></a>"
      ]
    },
    {
      "cell_type": "markdown",
      "metadata": {
        "id": "heated-queens"
      },
      "source": [
        "# Advanced Certification Program in Computational Data Science\n",
        "## A program by IISc and TalentSprint\n",
        "### Mini-Project: Implementation of Multiple Linear Regression using MPI and OpenMP"
      ],
      "id": "heated-queens"
    },
    {
      "cell_type": "markdown",
      "metadata": {
        "id": "military-proportion"
      },
      "source": [
        "## Learning Objectives"
      ],
      "id": "military-proportion"
    },
    {
      "cell_type": "markdown",
      "metadata": {
        "id": "durable-grounds"
      },
      "source": [
        "At the end of the mini-project, you will be able to :\n",
        "\n",
        "* understand the collective communication operations like scatter, gather, broadcast\n",
        "* understand the blocking and non-blocking communication\n",
        "* implement multiple linear regression and run it using MPI\n",
        "* implement the multiple linear regression based predictions using OpenMP"
      ],
      "id": "durable-grounds"
    },
    {
      "cell_type": "markdown",
      "metadata": {
        "id": "growing-queens"
      },
      "source": [
        "### Dataset"
      ],
      "id": "growing-queens"
    },
    {
      "cell_type": "markdown",
      "metadata": {
        "id": "yLwz-D_xVT8o"
      },
      "source": [
        "The dataset chosen for this mini-project is [Combined Cycle Power Plant](https://archive.ics.uci.edu/ml/datasets/combined+cycle+power+plant). The dataset is made up of 9568 records and 5 columns. Each record contains the values for Ambient Temperature, Exhaust Vaccum, Ambient Pressure, Relative Humidity and Energy Output.\n",
        "\n",
        "Predicting full load electrical power output of a base load power plant is important in order to maximize the profit from the available megawatt hours.  The base load operation of a power plant is influenced by four main parameters, which are used as input variables in the dataset, such as ambient temperature, atmospheric pressure, relative humidity, and exhaust steam pressure. These parameters affect electrical power output, which is considered as the target variable.\n",
        "\n",
        "**Note:** The data was collected over a six year period (2006-11)."
      ],
      "id": "yLwz-D_xVT8o"
    },
    {
      "cell_type": "markdown",
      "metadata": {
        "id": "dominant-residence"
      },
      "source": [
        "## Information"
      ],
      "id": "dominant-residence"
    },
    {
      "cell_type": "markdown",
      "metadata": {
        "id": "coated-timing"
      },
      "source": [
        "#### MPI in a Nutshell\n",
        "\n",
        "MPI stands for \"Message Passing Interface\". It is a library of functions (in C / Python) or subroutines (in Fortran) that you insert into source code to perform data communication between processes. MPI was developed over two years of discussions led by the MPI Forum, a group of roughly sixty people representing some forty organizations.\n",
        "\n",
        "To know more about MPI click [here](https://hpc-tutorials.llnl.gov/mpi/)\n",
        "\n",
        "\n",
        "#### Multiple Linear Regression\n",
        "\n",
        "Multiple regression is an extension of simple linear regression. It is used when we want to predict the value of a variable based on the value of two or more other variables. The variable we want to predict is called the dependent variable (or sometimes, the outcome, target or criterion variable). The variables we are using to predict the value of the dependent variable are called the independent variables (or sometimes, the predictor, explanatory or regressor variables)."
      ],
      "id": "coated-timing"
    },
    {
      "cell_type": "markdown",
      "metadata": {
        "id": "global-savings"
      },
      "source": [
        "**Note:** We will be using the mpi4py Python package for MPI based code implementation"
      ],
      "id": "global-savings"
    },
    {
      "cell_type": "markdown",
      "metadata": {
        "id": "ndQNKsjS7c04"
      },
      "source": [
        "## Grading = 20 Points"
      ],
      "id": "ndQNKsjS7c04"
    },
    {
      "cell_type": "markdown",
      "metadata": {
        "id": "green-deviation"
      },
      "source": [
        "**Run the below code to install mpi4py package**"
      ],
      "id": "green-deviation"
    },
    {
      "cell_type": "code",
      "metadata": {
        "id": "designing-marketing",
        "scrolled": true,
        "colab": {
          "base_uri": "https://localhost:8080/"
        },
        "outputId": "d9fe43d8-98fa-4efa-a59a-81ad7f8e5c61"
      },
      "source": [
        "!pip install mpi4py"
      ],
      "id": "designing-marketing",
      "execution_count": null,
      "outputs": [
        {
          "output_type": "stream",
          "name": "stdout",
          "text": [
            "Requirement already satisfied: mpi4py in /usr/local/lib/python3.11/dist-packages (4.0.3)\n"
          ]
        }
      ]
    },
    {
      "cell_type": "markdown",
      "metadata": {
        "id": "dedicated-thong"
      },
      "source": [
        "#### Importing Necessary Packages"
      ],
      "id": "dedicated-thong"
    },
    {
      "cell_type": "code",
      "metadata": {
        "id": "reported-acrobat",
        "scrolled": true
      },
      "source": [
        "# Importing pandas\n",
        "import pandas as pd\n",
        "# Importing Numpy\n",
        "import numpy as np\n",
        "# Importing MPI from mpi4py package\n",
        "from mpi4py import MPI\n",
        "# Importing sqrt function from the Math\n",
        "from math import sqrt\n",
        "# Importing Decimal, ROUND_HALF_UP functions from the decimal package\n",
        "from decimal import Decimal, ROUND_HALF_UP\n",
        "import time\n",
        "import matplotlib.pyplot as plt\n",
        "import seaborn as sns"
      ],
      "id": "reported-acrobat",
      "execution_count": null,
      "outputs": []
    },
    {
      "cell_type": "markdown",
      "metadata": {
        "id": "standing-zimbabwe"
      },
      "source": [
        "#### Downloading the data"
      ],
      "id": "standing-zimbabwe"
    },
    {
      "cell_type": "code",
      "metadata": {
        "id": "universal-jonathan",
        "scrolled": true,
        "cellView": "form"
      },
      "source": [
        "#@title Download the data\n",
        "!wget -qq https://cdn.iisc.talentsprint.com/CDS/Datasets/PowerPlantData.csv"
      ],
      "id": "universal-jonathan",
      "execution_count": null,
      "outputs": []
    },
    {
      "cell_type": "markdown",
      "metadata": {
        "id": "forty-still"
      },
      "source": [
        "### Overview\n",
        "\n",
        "* Load the data and perform data pre-processing\n",
        "* Identify the features, target and split the data into train and test\n",
        "* Implement multiple Linear Regression by estimating the coefficients on the given data\n",
        "* Use MPI package to distribute the data and implement `communicator`\n",
        "* Define functions for each objective and make a script (.py) file to execute using MPI command\n",
        "* Use OpenMP component to predict the data and calculate the error on the predicted data\n",
        "* Implement the Linear Regression from `sklearn` and compare the results"
      ],
      "id": "forty-still"
    },
    {
      "cell_type": "markdown",
      "metadata": {
        "id": "early-peace"
      },
      "source": [
        "#### Exercise 1: Load data (1 point)\n",
        "\n",
        "Write a function that takes the filename as input and loads the data in a pandas dataframe with the column names as Ambient Temperature, Exhaust Vaccum, Ambient Pressure, Relative Humidity and Energy Output respectively.\n",
        "\n",
        "**Hint:** read_csv()\n"
      ],
      "id": "early-peace"
    },
    {
      "cell_type": "code",
      "metadata": {
        "id": "differential-vacation",
        "scrolled": true,
        "colab": {
          "base_uri": "https://localhost:8080/",
          "height": 206
        },
        "outputId": "4e71b29d-4c9c-4c69-9737-f6240b35b96a"
      },
      "source": [
        "FILENAME = \"/content/PowerPlantData.csv\" # File path\n",
        "\n",
        "# YOUR CODE HERE to Define a function to load the data\n",
        "df = pd.read_csv(FILENAME)\n",
        "df.head()"
      ],
      "id": "differential-vacation",
      "execution_count": null,
      "outputs": [
        {
          "output_type": "execute_result",
          "data": {
            "text/plain": [
              "      AT      V       AP     RH      PE\n",
              "0   8.34  40.77  1010.84  90.01  480.48\n",
              "1  23.64  58.49  1011.40  74.20  445.75\n",
              "2  29.74  56.90  1007.15  41.91  438.76\n",
              "3  19.07  49.69  1007.22  76.79  453.09\n",
              "4  11.80  40.66  1017.13  97.20  464.43"
            ],
            "text/html": [
              "\n",
              "  <div id=\"df-7067f629-32da-4439-b08c-38446f951cba\" class=\"colab-df-container\">\n",
              "    <div>\n",
              "<style scoped>\n",
              "    .dataframe tbody tr th:only-of-type {\n",
              "        vertical-align: middle;\n",
              "    }\n",
              "\n",
              "    .dataframe tbody tr th {\n",
              "        vertical-align: top;\n",
              "    }\n",
              "\n",
              "    .dataframe thead th {\n",
              "        text-align: right;\n",
              "    }\n",
              "</style>\n",
              "<table border=\"1\" class=\"dataframe\">\n",
              "  <thead>\n",
              "    <tr style=\"text-align: right;\">\n",
              "      <th></th>\n",
              "      <th>AT</th>\n",
              "      <th>V</th>\n",
              "      <th>AP</th>\n",
              "      <th>RH</th>\n",
              "      <th>PE</th>\n",
              "    </tr>\n",
              "  </thead>\n",
              "  <tbody>\n",
              "    <tr>\n",
              "      <th>0</th>\n",
              "      <td>8.34</td>\n",
              "      <td>40.77</td>\n",
              "      <td>1010.84</td>\n",
              "      <td>90.01</td>\n",
              "      <td>480.48</td>\n",
              "    </tr>\n",
              "    <tr>\n",
              "      <th>1</th>\n",
              "      <td>23.64</td>\n",
              "      <td>58.49</td>\n",
              "      <td>1011.40</td>\n",
              "      <td>74.20</td>\n",
              "      <td>445.75</td>\n",
              "    </tr>\n",
              "    <tr>\n",
              "      <th>2</th>\n",
              "      <td>29.74</td>\n",
              "      <td>56.90</td>\n",
              "      <td>1007.15</td>\n",
              "      <td>41.91</td>\n",
              "      <td>438.76</td>\n",
              "    </tr>\n",
              "    <tr>\n",
              "      <th>3</th>\n",
              "      <td>19.07</td>\n",
              "      <td>49.69</td>\n",
              "      <td>1007.22</td>\n",
              "      <td>76.79</td>\n",
              "      <td>453.09</td>\n",
              "    </tr>\n",
              "    <tr>\n",
              "      <th>4</th>\n",
              "      <td>11.80</td>\n",
              "      <td>40.66</td>\n",
              "      <td>1017.13</td>\n",
              "      <td>97.20</td>\n",
              "      <td>464.43</td>\n",
              "    </tr>\n",
              "  </tbody>\n",
              "</table>\n",
              "</div>\n",
              "    <div class=\"colab-df-buttons\">\n",
              "\n",
              "  <div class=\"colab-df-container\">\n",
              "    <button class=\"colab-df-convert\" onclick=\"convertToInteractive('df-7067f629-32da-4439-b08c-38446f951cba')\"\n",
              "            title=\"Convert this dataframe to an interactive table.\"\n",
              "            style=\"display:none;\">\n",
              "\n",
              "  <svg xmlns=\"http://www.w3.org/2000/svg\" height=\"24px\" viewBox=\"0 -960 960 960\">\n",
              "    <path d=\"M120-120v-720h720v720H120Zm60-500h600v-160H180v160Zm220 220h160v-160H400v160Zm0 220h160v-160H400v160ZM180-400h160v-160H180v160Zm440 0h160v-160H620v160ZM180-180h160v-160H180v160Zm440 0h160v-160H620v160Z\"/>\n",
              "  </svg>\n",
              "    </button>\n",
              "\n",
              "  <style>\n",
              "    .colab-df-container {\n",
              "      display:flex;\n",
              "      gap: 12px;\n",
              "    }\n",
              "\n",
              "    .colab-df-convert {\n",
              "      background-color: #E8F0FE;\n",
              "      border: none;\n",
              "      border-radius: 50%;\n",
              "      cursor: pointer;\n",
              "      display: none;\n",
              "      fill: #1967D2;\n",
              "      height: 32px;\n",
              "      padding: 0 0 0 0;\n",
              "      width: 32px;\n",
              "    }\n",
              "\n",
              "    .colab-df-convert:hover {\n",
              "      background-color: #E2EBFA;\n",
              "      box-shadow: 0px 1px 2px rgba(60, 64, 67, 0.3), 0px 1px 3px 1px rgba(60, 64, 67, 0.15);\n",
              "      fill: #174EA6;\n",
              "    }\n",
              "\n",
              "    .colab-df-buttons div {\n",
              "      margin-bottom: 4px;\n",
              "    }\n",
              "\n",
              "    [theme=dark] .colab-df-convert {\n",
              "      background-color: #3B4455;\n",
              "      fill: #D2E3FC;\n",
              "    }\n",
              "\n",
              "    [theme=dark] .colab-df-convert:hover {\n",
              "      background-color: #434B5C;\n",
              "      box-shadow: 0px 1px 3px 1px rgba(0, 0, 0, 0.15);\n",
              "      filter: drop-shadow(0px 1px 2px rgba(0, 0, 0, 0.3));\n",
              "      fill: #FFFFFF;\n",
              "    }\n",
              "  </style>\n",
              "\n",
              "    <script>\n",
              "      const buttonEl =\n",
              "        document.querySelector('#df-7067f629-32da-4439-b08c-38446f951cba button.colab-df-convert');\n",
              "      buttonEl.style.display =\n",
              "        google.colab.kernel.accessAllowed ? 'block' : 'none';\n",
              "\n",
              "      async function convertToInteractive(key) {\n",
              "        const element = document.querySelector('#df-7067f629-32da-4439-b08c-38446f951cba');\n",
              "        const dataTable =\n",
              "          await google.colab.kernel.invokeFunction('convertToInteractive',\n",
              "                                                    [key], {});\n",
              "        if (!dataTable) return;\n",
              "\n",
              "        const docLinkHtml = 'Like what you see? Visit the ' +\n",
              "          '<a target=\"_blank\" href=https://colab.research.google.com/notebooks/data_table.ipynb>data table notebook</a>'\n",
              "          + ' to learn more about interactive tables.';\n",
              "        element.innerHTML = '';\n",
              "        dataTable['output_type'] = 'display_data';\n",
              "        await google.colab.output.renderOutput(dataTable, element);\n",
              "        const docLink = document.createElement('div');\n",
              "        docLink.innerHTML = docLinkHtml;\n",
              "        element.appendChild(docLink);\n",
              "      }\n",
              "    </script>\n",
              "  </div>\n",
              "\n",
              "\n",
              "    <div id=\"df-8d93f4f3-b0dc-4cd3-92a4-bdcd869707ab\">\n",
              "      <button class=\"colab-df-quickchart\" onclick=\"quickchart('df-8d93f4f3-b0dc-4cd3-92a4-bdcd869707ab')\"\n",
              "                title=\"Suggest charts\"\n",
              "                style=\"display:none;\">\n",
              "\n",
              "<svg xmlns=\"http://www.w3.org/2000/svg\" height=\"24px\"viewBox=\"0 0 24 24\"\n",
              "     width=\"24px\">\n",
              "    <g>\n",
              "        <path d=\"M19 3H5c-1.1 0-2 .9-2 2v14c0 1.1.9 2 2 2h14c1.1 0 2-.9 2-2V5c0-1.1-.9-2-2-2zM9 17H7v-7h2v7zm4 0h-2V7h2v10zm4 0h-2v-4h2v4z\"/>\n",
              "    </g>\n",
              "</svg>\n",
              "      </button>\n",
              "\n",
              "<style>\n",
              "  .colab-df-quickchart {\n",
              "      --bg-color: #E8F0FE;\n",
              "      --fill-color: #1967D2;\n",
              "      --hover-bg-color: #E2EBFA;\n",
              "      --hover-fill-color: #174EA6;\n",
              "      --disabled-fill-color: #AAA;\n",
              "      --disabled-bg-color: #DDD;\n",
              "  }\n",
              "\n",
              "  [theme=dark] .colab-df-quickchart {\n",
              "      --bg-color: #3B4455;\n",
              "      --fill-color: #D2E3FC;\n",
              "      --hover-bg-color: #434B5C;\n",
              "      --hover-fill-color: #FFFFFF;\n",
              "      --disabled-bg-color: #3B4455;\n",
              "      --disabled-fill-color: #666;\n",
              "  }\n",
              "\n",
              "  .colab-df-quickchart {\n",
              "    background-color: var(--bg-color);\n",
              "    border: none;\n",
              "    border-radius: 50%;\n",
              "    cursor: pointer;\n",
              "    display: none;\n",
              "    fill: var(--fill-color);\n",
              "    height: 32px;\n",
              "    padding: 0;\n",
              "    width: 32px;\n",
              "  }\n",
              "\n",
              "  .colab-df-quickchart:hover {\n",
              "    background-color: var(--hover-bg-color);\n",
              "    box-shadow: 0 1px 2px rgba(60, 64, 67, 0.3), 0 1px 3px 1px rgba(60, 64, 67, 0.15);\n",
              "    fill: var(--button-hover-fill-color);\n",
              "  }\n",
              "\n",
              "  .colab-df-quickchart-complete:disabled,\n",
              "  .colab-df-quickchart-complete:disabled:hover {\n",
              "    background-color: var(--disabled-bg-color);\n",
              "    fill: var(--disabled-fill-color);\n",
              "    box-shadow: none;\n",
              "  }\n",
              "\n",
              "  .colab-df-spinner {\n",
              "    border: 2px solid var(--fill-color);\n",
              "    border-color: transparent;\n",
              "    border-bottom-color: var(--fill-color);\n",
              "    animation:\n",
              "      spin 1s steps(1) infinite;\n",
              "  }\n",
              "\n",
              "  @keyframes spin {\n",
              "    0% {\n",
              "      border-color: transparent;\n",
              "      border-bottom-color: var(--fill-color);\n",
              "      border-left-color: var(--fill-color);\n",
              "    }\n",
              "    20% {\n",
              "      border-color: transparent;\n",
              "      border-left-color: var(--fill-color);\n",
              "      border-top-color: var(--fill-color);\n",
              "    }\n",
              "    30% {\n",
              "      border-color: transparent;\n",
              "      border-left-color: var(--fill-color);\n",
              "      border-top-color: var(--fill-color);\n",
              "      border-right-color: var(--fill-color);\n",
              "    }\n",
              "    40% {\n",
              "      border-color: transparent;\n",
              "      border-right-color: var(--fill-color);\n",
              "      border-top-color: var(--fill-color);\n",
              "    }\n",
              "    60% {\n",
              "      border-color: transparent;\n",
              "      border-right-color: var(--fill-color);\n",
              "    }\n",
              "    80% {\n",
              "      border-color: transparent;\n",
              "      border-right-color: var(--fill-color);\n",
              "      border-bottom-color: var(--fill-color);\n",
              "    }\n",
              "    90% {\n",
              "      border-color: transparent;\n",
              "      border-bottom-color: var(--fill-color);\n",
              "    }\n",
              "  }\n",
              "</style>\n",
              "\n",
              "      <script>\n",
              "        async function quickchart(key) {\n",
              "          const quickchartButtonEl =\n",
              "            document.querySelector('#' + key + ' button');\n",
              "          quickchartButtonEl.disabled = true;  // To prevent multiple clicks.\n",
              "          quickchartButtonEl.classList.add('colab-df-spinner');\n",
              "          try {\n",
              "            const charts = await google.colab.kernel.invokeFunction(\n",
              "                'suggestCharts', [key], {});\n",
              "          } catch (error) {\n",
              "            console.error('Error during call to suggestCharts:', error);\n",
              "          }\n",
              "          quickchartButtonEl.classList.remove('colab-df-spinner');\n",
              "          quickchartButtonEl.classList.add('colab-df-quickchart-complete');\n",
              "        }\n",
              "        (() => {\n",
              "          let quickchartButtonEl =\n",
              "            document.querySelector('#df-8d93f4f3-b0dc-4cd3-92a4-bdcd869707ab button');\n",
              "          quickchartButtonEl.style.display =\n",
              "            google.colab.kernel.accessAllowed ? 'block' : 'none';\n",
              "        })();\n",
              "      </script>\n",
              "    </div>\n",
              "\n",
              "    </div>\n",
              "  </div>\n"
            ],
            "application/vnd.google.colaboratory.intrinsic+json": {
              "type": "dataframe",
              "variable_name": "df",
              "summary": "{\n  \"name\": \"df\",\n  \"rows\": 9568,\n  \"fields\": [\n    {\n      \"column\": \"AT\",\n      \"properties\": {\n        \"dtype\": \"number\",\n        \"std\": 7.452473229611088,\n        \"min\": 1.81,\n        \"max\": 37.11,\n        \"num_unique_values\": 2773,\n        \"samples\": [\n          11.02,\n          15.61,\n          16.31\n        ],\n        \"semantic_type\": \"\",\n        \"description\": \"\"\n      }\n    },\n    {\n      \"column\": \"V\",\n      \"properties\": {\n        \"dtype\": \"number\",\n        \"std\": 12.707892998326821,\n        \"min\": 25.36,\n        \"max\": 81.56,\n        \"num_unique_values\": 634,\n        \"samples\": [\n          76.2,\n          69.05,\n          39.13\n        ],\n        \"semantic_type\": \"\",\n        \"description\": \"\"\n      }\n    },\n    {\n      \"column\": \"AP\",\n      \"properties\": {\n        \"dtype\": \"number\",\n        \"std\": 5.9387837058116,\n        \"min\": 992.89,\n        \"max\": 1033.3,\n        \"num_unique_values\": 2517,\n        \"samples\": [\n          1000.98,\n          1002.2,\n          1024.55\n        ],\n        \"semantic_type\": \"\",\n        \"description\": \"\"\n      }\n    },\n    {\n      \"column\": \"RH\",\n      \"properties\": {\n        \"dtype\": \"number\",\n        \"std\": 14.600268756728928,\n        \"min\": 25.56,\n        \"max\": 100.16,\n        \"num_unique_values\": 4546,\n        \"samples\": [\n          66.5,\n          99.14,\n          89.19\n        ],\n        \"semantic_type\": \"\",\n        \"description\": \"\"\n      }\n    },\n    {\n      \"column\": \"PE\",\n      \"properties\": {\n        \"dtype\": \"number\",\n        \"std\": 17.06699499980338,\n        \"min\": 420.26,\n        \"max\": 495.76,\n        \"num_unique_values\": 4836,\n        \"samples\": [\n          447.69,\n          443.89,\n          443.02\n        ],\n        \"semantic_type\": \"\",\n        \"description\": \"\"\n      }\n    }\n  ]\n}"
            }
          },
          "metadata": {},
          "execution_count": 35
        }
      ]
    },
    {
      "cell_type": "code",
      "source": [
        "def load_data(filename):\n",
        "    df1 = pd.read_csv(filename)\n",
        "    df1.columns = [\n",
        "        \"Ambient Temperature\",\n",
        "        \"Exhaust Vaccum\",\n",
        "        \"Ambient Pressure\",\n",
        "        \"Relative Humidity\",\n",
        "        \"Energy Output\"\n",
        "    ]\n",
        "    return df1\n",
        "df = load_data(FILENAME)\n",
        "df.head()"
      ],
      "metadata": {
        "colab": {
          "base_uri": "https://localhost:8080/",
          "height": 206
        },
        "id": "F0OYnq3iVwF9",
        "outputId": "b3a979df-1025-4eea-b270-91f3955465e9"
      },
      "id": "F0OYnq3iVwF9",
      "execution_count": null,
      "outputs": [
        {
          "output_type": "execute_result",
          "data": {
            "text/plain": [
              "   Ambient Temperature  Exhaust Vaccum  Ambient Pressure  Relative Humidity  \\\n",
              "0                 8.34           40.77           1010.84              90.01   \n",
              "1                23.64           58.49           1011.40              74.20   \n",
              "2                29.74           56.90           1007.15              41.91   \n",
              "3                19.07           49.69           1007.22              76.79   \n",
              "4                11.80           40.66           1017.13              97.20   \n",
              "\n",
              "   Energy Output  \n",
              "0         480.48  \n",
              "1         445.75  \n",
              "2         438.76  \n",
              "3         453.09  \n",
              "4         464.43  "
            ],
            "text/html": [
              "\n",
              "  <div id=\"df-bee1d659-8198-4233-bbc4-6ef3805e715c\" class=\"colab-df-container\">\n",
              "    <div>\n",
              "<style scoped>\n",
              "    .dataframe tbody tr th:only-of-type {\n",
              "        vertical-align: middle;\n",
              "    }\n",
              "\n",
              "    .dataframe tbody tr th {\n",
              "        vertical-align: top;\n",
              "    }\n",
              "\n",
              "    .dataframe thead th {\n",
              "        text-align: right;\n",
              "    }\n",
              "</style>\n",
              "<table border=\"1\" class=\"dataframe\">\n",
              "  <thead>\n",
              "    <tr style=\"text-align: right;\">\n",
              "      <th></th>\n",
              "      <th>Ambient Temperature</th>\n",
              "      <th>Exhaust Vaccum</th>\n",
              "      <th>Ambient Pressure</th>\n",
              "      <th>Relative Humidity</th>\n",
              "      <th>Energy Output</th>\n",
              "    </tr>\n",
              "  </thead>\n",
              "  <tbody>\n",
              "    <tr>\n",
              "      <th>0</th>\n",
              "      <td>8.34</td>\n",
              "      <td>40.77</td>\n",
              "      <td>1010.84</td>\n",
              "      <td>90.01</td>\n",
              "      <td>480.48</td>\n",
              "    </tr>\n",
              "    <tr>\n",
              "      <th>1</th>\n",
              "      <td>23.64</td>\n",
              "      <td>58.49</td>\n",
              "      <td>1011.40</td>\n",
              "      <td>74.20</td>\n",
              "      <td>445.75</td>\n",
              "    </tr>\n",
              "    <tr>\n",
              "      <th>2</th>\n",
              "      <td>29.74</td>\n",
              "      <td>56.90</td>\n",
              "      <td>1007.15</td>\n",
              "      <td>41.91</td>\n",
              "      <td>438.76</td>\n",
              "    </tr>\n",
              "    <tr>\n",
              "      <th>3</th>\n",
              "      <td>19.07</td>\n",
              "      <td>49.69</td>\n",
              "      <td>1007.22</td>\n",
              "      <td>76.79</td>\n",
              "      <td>453.09</td>\n",
              "    </tr>\n",
              "    <tr>\n",
              "      <th>4</th>\n",
              "      <td>11.80</td>\n",
              "      <td>40.66</td>\n",
              "      <td>1017.13</td>\n",
              "      <td>97.20</td>\n",
              "      <td>464.43</td>\n",
              "    </tr>\n",
              "  </tbody>\n",
              "</table>\n",
              "</div>\n",
              "    <div class=\"colab-df-buttons\">\n",
              "\n",
              "  <div class=\"colab-df-container\">\n",
              "    <button class=\"colab-df-convert\" onclick=\"convertToInteractive('df-bee1d659-8198-4233-bbc4-6ef3805e715c')\"\n",
              "            title=\"Convert this dataframe to an interactive table.\"\n",
              "            style=\"display:none;\">\n",
              "\n",
              "  <svg xmlns=\"http://www.w3.org/2000/svg\" height=\"24px\" viewBox=\"0 -960 960 960\">\n",
              "    <path d=\"M120-120v-720h720v720H120Zm60-500h600v-160H180v160Zm220 220h160v-160H400v160Zm0 220h160v-160H400v160ZM180-400h160v-160H180v160Zm440 0h160v-160H620v160ZM180-180h160v-160H180v160Zm440 0h160v-160H620v160Z\"/>\n",
              "  </svg>\n",
              "    </button>\n",
              "\n",
              "  <style>\n",
              "    .colab-df-container {\n",
              "      display:flex;\n",
              "      gap: 12px;\n",
              "    }\n",
              "\n",
              "    .colab-df-convert {\n",
              "      background-color: #E8F0FE;\n",
              "      border: none;\n",
              "      border-radius: 50%;\n",
              "      cursor: pointer;\n",
              "      display: none;\n",
              "      fill: #1967D2;\n",
              "      height: 32px;\n",
              "      padding: 0 0 0 0;\n",
              "      width: 32px;\n",
              "    }\n",
              "\n",
              "    .colab-df-convert:hover {\n",
              "      background-color: #E2EBFA;\n",
              "      box-shadow: 0px 1px 2px rgba(60, 64, 67, 0.3), 0px 1px 3px 1px rgba(60, 64, 67, 0.15);\n",
              "      fill: #174EA6;\n",
              "    }\n",
              "\n",
              "    .colab-df-buttons div {\n",
              "      margin-bottom: 4px;\n",
              "    }\n",
              "\n",
              "    [theme=dark] .colab-df-convert {\n",
              "      background-color: #3B4455;\n",
              "      fill: #D2E3FC;\n",
              "    }\n",
              "\n",
              "    [theme=dark] .colab-df-convert:hover {\n",
              "      background-color: #434B5C;\n",
              "      box-shadow: 0px 1px 3px 1px rgba(0, 0, 0, 0.15);\n",
              "      filter: drop-shadow(0px 1px 2px rgba(0, 0, 0, 0.3));\n",
              "      fill: #FFFFFF;\n",
              "    }\n",
              "  </style>\n",
              "\n",
              "    <script>\n",
              "      const buttonEl =\n",
              "        document.querySelector('#df-bee1d659-8198-4233-bbc4-6ef3805e715c button.colab-df-convert');\n",
              "      buttonEl.style.display =\n",
              "        google.colab.kernel.accessAllowed ? 'block' : 'none';\n",
              "\n",
              "      async function convertToInteractive(key) {\n",
              "        const element = document.querySelector('#df-bee1d659-8198-4233-bbc4-6ef3805e715c');\n",
              "        const dataTable =\n",
              "          await google.colab.kernel.invokeFunction('convertToInteractive',\n",
              "                                                    [key], {});\n",
              "        if (!dataTable) return;\n",
              "\n",
              "        const docLinkHtml = 'Like what you see? Visit the ' +\n",
              "          '<a target=\"_blank\" href=https://colab.research.google.com/notebooks/data_table.ipynb>data table notebook</a>'\n",
              "          + ' to learn more about interactive tables.';\n",
              "        element.innerHTML = '';\n",
              "        dataTable['output_type'] = 'display_data';\n",
              "        await google.colab.output.renderOutput(dataTable, element);\n",
              "        const docLink = document.createElement('div');\n",
              "        docLink.innerHTML = docLinkHtml;\n",
              "        element.appendChild(docLink);\n",
              "      }\n",
              "    </script>\n",
              "  </div>\n",
              "\n",
              "\n",
              "    <div id=\"df-14f4b1d4-56f9-41cb-9a13-ff495181caf6\">\n",
              "      <button class=\"colab-df-quickchart\" onclick=\"quickchart('df-14f4b1d4-56f9-41cb-9a13-ff495181caf6')\"\n",
              "                title=\"Suggest charts\"\n",
              "                style=\"display:none;\">\n",
              "\n",
              "<svg xmlns=\"http://www.w3.org/2000/svg\" height=\"24px\"viewBox=\"0 0 24 24\"\n",
              "     width=\"24px\">\n",
              "    <g>\n",
              "        <path d=\"M19 3H5c-1.1 0-2 .9-2 2v14c0 1.1.9 2 2 2h14c1.1 0 2-.9 2-2V5c0-1.1-.9-2-2-2zM9 17H7v-7h2v7zm4 0h-2V7h2v10zm4 0h-2v-4h2v4z\"/>\n",
              "    </g>\n",
              "</svg>\n",
              "      </button>\n",
              "\n",
              "<style>\n",
              "  .colab-df-quickchart {\n",
              "      --bg-color: #E8F0FE;\n",
              "      --fill-color: #1967D2;\n",
              "      --hover-bg-color: #E2EBFA;\n",
              "      --hover-fill-color: #174EA6;\n",
              "      --disabled-fill-color: #AAA;\n",
              "      --disabled-bg-color: #DDD;\n",
              "  }\n",
              "\n",
              "  [theme=dark] .colab-df-quickchart {\n",
              "      --bg-color: #3B4455;\n",
              "      --fill-color: #D2E3FC;\n",
              "      --hover-bg-color: #434B5C;\n",
              "      --hover-fill-color: #FFFFFF;\n",
              "      --disabled-bg-color: #3B4455;\n",
              "      --disabled-fill-color: #666;\n",
              "  }\n",
              "\n",
              "  .colab-df-quickchart {\n",
              "    background-color: var(--bg-color);\n",
              "    border: none;\n",
              "    border-radius: 50%;\n",
              "    cursor: pointer;\n",
              "    display: none;\n",
              "    fill: var(--fill-color);\n",
              "    height: 32px;\n",
              "    padding: 0;\n",
              "    width: 32px;\n",
              "  }\n",
              "\n",
              "  .colab-df-quickchart:hover {\n",
              "    background-color: var(--hover-bg-color);\n",
              "    box-shadow: 0 1px 2px rgba(60, 64, 67, 0.3), 0 1px 3px 1px rgba(60, 64, 67, 0.15);\n",
              "    fill: var(--button-hover-fill-color);\n",
              "  }\n",
              "\n",
              "  .colab-df-quickchart-complete:disabled,\n",
              "  .colab-df-quickchart-complete:disabled:hover {\n",
              "    background-color: var(--disabled-bg-color);\n",
              "    fill: var(--disabled-fill-color);\n",
              "    box-shadow: none;\n",
              "  }\n",
              "\n",
              "  .colab-df-spinner {\n",
              "    border: 2px solid var(--fill-color);\n",
              "    border-color: transparent;\n",
              "    border-bottom-color: var(--fill-color);\n",
              "    animation:\n",
              "      spin 1s steps(1) infinite;\n",
              "  }\n",
              "\n",
              "  @keyframes spin {\n",
              "    0% {\n",
              "      border-color: transparent;\n",
              "      border-bottom-color: var(--fill-color);\n",
              "      border-left-color: var(--fill-color);\n",
              "    }\n",
              "    20% {\n",
              "      border-color: transparent;\n",
              "      border-left-color: var(--fill-color);\n",
              "      border-top-color: var(--fill-color);\n",
              "    }\n",
              "    30% {\n",
              "      border-color: transparent;\n",
              "      border-left-color: var(--fill-color);\n",
              "      border-top-color: var(--fill-color);\n",
              "      border-right-color: var(--fill-color);\n",
              "    }\n",
              "    40% {\n",
              "      border-color: transparent;\n",
              "      border-right-color: var(--fill-color);\n",
              "      border-top-color: var(--fill-color);\n",
              "    }\n",
              "    60% {\n",
              "      border-color: transparent;\n",
              "      border-right-color: var(--fill-color);\n",
              "    }\n",
              "    80% {\n",
              "      border-color: transparent;\n",
              "      border-right-color: var(--fill-color);\n",
              "      border-bottom-color: var(--fill-color);\n",
              "    }\n",
              "    90% {\n",
              "      border-color: transparent;\n",
              "      border-bottom-color: var(--fill-color);\n",
              "    }\n",
              "  }\n",
              "</style>\n",
              "\n",
              "      <script>\n",
              "        async function quickchart(key) {\n",
              "          const quickchartButtonEl =\n",
              "            document.querySelector('#' + key + ' button');\n",
              "          quickchartButtonEl.disabled = true;  // To prevent multiple clicks.\n",
              "          quickchartButtonEl.classList.add('colab-df-spinner');\n",
              "          try {\n",
              "            const charts = await google.colab.kernel.invokeFunction(\n",
              "                'suggestCharts', [key], {});\n",
              "          } catch (error) {\n",
              "            console.error('Error during call to suggestCharts:', error);\n",
              "          }\n",
              "          quickchartButtonEl.classList.remove('colab-df-spinner');\n",
              "          quickchartButtonEl.classList.add('colab-df-quickchart-complete');\n",
              "        }\n",
              "        (() => {\n",
              "          let quickchartButtonEl =\n",
              "            document.querySelector('#df-14f4b1d4-56f9-41cb-9a13-ff495181caf6 button');\n",
              "          quickchartButtonEl.style.display =\n",
              "            google.colab.kernel.accessAllowed ? 'block' : 'none';\n",
              "        })();\n",
              "      </script>\n",
              "    </div>\n",
              "\n",
              "    </div>\n",
              "  </div>\n"
            ],
            "application/vnd.google.colaboratory.intrinsic+json": {
              "type": "dataframe",
              "variable_name": "df",
              "summary": "{\n  \"name\": \"df\",\n  \"rows\": 9568,\n  \"fields\": [\n    {\n      \"column\": \"Ambient Temperature\",\n      \"properties\": {\n        \"dtype\": \"number\",\n        \"std\": 7.452473229611088,\n        \"min\": 1.81,\n        \"max\": 37.11,\n        \"num_unique_values\": 2773,\n        \"samples\": [\n          11.02,\n          15.61,\n          16.31\n        ],\n        \"semantic_type\": \"\",\n        \"description\": \"\"\n      }\n    },\n    {\n      \"column\": \"Exhaust Vaccum\",\n      \"properties\": {\n        \"dtype\": \"number\",\n        \"std\": 12.707892998326821,\n        \"min\": 25.36,\n        \"max\": 81.56,\n        \"num_unique_values\": 634,\n        \"samples\": [\n          76.2,\n          69.05,\n          39.13\n        ],\n        \"semantic_type\": \"\",\n        \"description\": \"\"\n      }\n    },\n    {\n      \"column\": \"Ambient Pressure\",\n      \"properties\": {\n        \"dtype\": \"number\",\n        \"std\": 5.9387837058116,\n        \"min\": 992.89,\n        \"max\": 1033.3,\n        \"num_unique_values\": 2517,\n        \"samples\": [\n          1000.98,\n          1002.2,\n          1024.55\n        ],\n        \"semantic_type\": \"\",\n        \"description\": \"\"\n      }\n    },\n    {\n      \"column\": \"Relative Humidity\",\n      \"properties\": {\n        \"dtype\": \"number\",\n        \"std\": 14.600268756728928,\n        \"min\": 25.56,\n        \"max\": 100.16,\n        \"num_unique_values\": 4546,\n        \"samples\": [\n          66.5,\n          99.14,\n          89.19\n        ],\n        \"semantic_type\": \"\",\n        \"description\": \"\"\n      }\n    },\n    {\n      \"column\": \"Energy Output\",\n      \"properties\": {\n        \"dtype\": \"number\",\n        \"std\": 17.06699499980338,\n        \"min\": 420.26,\n        \"max\": 495.76,\n        \"num_unique_values\": 4836,\n        \"samples\": [\n          447.69,\n          443.89,\n          443.02\n        ],\n        \"semantic_type\": \"\",\n        \"description\": \"\"\n      }\n    }\n  ]\n}"
            }
          },
          "metadata": {},
          "execution_count": 36
        }
      ]
    },
    {
      "cell_type": "markdown",
      "metadata": {
        "id": "italian-expense"
      },
      "source": [
        "#### Exercise 2: Explore data (1 point)\n",
        "\n",
        "Write a function that takes the data loaded using the above defined function as input and explore it.\n",
        "\n",
        "**Hint:** You can define and check for following things in the dataset inside a function\n",
        "\n",
        "- checking for the number of rows and columns\n",
        "- summary of the dataset\n",
        "- check for the null values\n",
        "- check for the duplicate values"
      ],
      "id": "italian-expense"
    },
    {
      "cell_type": "code",
      "metadata": {
        "id": "local-quarter",
        "scrolled": true
      },
      "source": [
        "# YOUR CODE HERE\n",
        "def explore_data(df):\n",
        "    print(\"1. Shape of the dataset (rows, columns):\")\n",
        "    print(df.shape)\n",
        "    print(\"\\n2. Summary of the dataset:\")\n",
        "    print(df.describe(include='all'))\n",
        "    print(\"\\n3. Checking for null values:\")\n",
        "    print(df.isnull().sum())\n",
        "    print(\"\\n4. Checking for duplicate rows:\")\n",
        "    duplicate_count = df.duplicated().sum()\n",
        "    print(f\"Number of duplicate rows: {duplicate_count}\")\n",
        "    print(\"\\n5. Checking data type:\")\n",
        "    print(df.dtypes)"
      ],
      "id": "local-quarter",
      "execution_count": null,
      "outputs": []
    },
    {
      "cell_type": "code",
      "source": [
        "explore_data(df)"
      ],
      "metadata": {
        "colab": {
          "base_uri": "https://localhost:8080/"
        },
        "id": "_VX8ZzeOYPcz",
        "outputId": "3cfb5193-42ff-44de-c390-c6381e7fe5a4"
      },
      "id": "_VX8ZzeOYPcz",
      "execution_count": null,
      "outputs": [
        {
          "output_type": "stream",
          "name": "stdout",
          "text": [
            "1. Shape of the dataset (rows, columns):\n",
            "(9568, 5)\n",
            "\n",
            "2. Summary of the dataset:\n",
            "       Ambient Temperature  Exhaust Vaccum  Ambient Pressure  \\\n",
            "count          9568.000000     9568.000000       9568.000000   \n",
            "mean             19.651231       54.305804       1013.259078   \n",
            "std               7.452473       12.707893          5.938784   \n",
            "min               1.810000       25.360000        992.890000   \n",
            "25%              13.510000       41.740000       1009.100000   \n",
            "50%              20.345000       52.080000       1012.940000   \n",
            "75%              25.720000       66.540000       1017.260000   \n",
            "max              37.110000       81.560000       1033.300000   \n",
            "\n",
            "       Relative Humidity  Energy Output  \n",
            "count        9568.000000    9568.000000  \n",
            "mean           73.308978     454.365009  \n",
            "std            14.600269      17.066995  \n",
            "min            25.560000     420.260000  \n",
            "25%            63.327500     439.750000  \n",
            "50%            74.975000     451.550000  \n",
            "75%            84.830000     468.430000  \n",
            "max           100.160000     495.760000  \n",
            "\n",
            "3. Checking for null values:\n",
            "Ambient Temperature    0\n",
            "Exhaust Vaccum         0\n",
            "Ambient Pressure       0\n",
            "Relative Humidity      0\n",
            "Energy Output          0\n",
            "dtype: int64\n",
            "\n",
            "4. Checking for duplicate rows:\n",
            "Number of duplicate rows: 41\n",
            "\n",
            "5. Checking data type:\n",
            "Ambient Temperature    float64\n",
            "Exhaust Vaccum         float64\n",
            "Ambient Pressure       float64\n",
            "Relative Humidity      float64\n",
            "Energy Output          float64\n",
            "dtype: object\n"
          ]
        }
      ]
    },
    {
      "cell_type": "markdown",
      "metadata": {
        "id": "whole-retailer"
      },
      "source": [
        "#### Exercise 3: Handle missing data (1 point)\n",
        "\n",
        "After exploring the dataset if there are any null values present in the dataset then define a function that takes data loaded using the above defined function as input and handle the null values accordingly.\n",
        "\n",
        "**Hint:**\n",
        "\n",
        "- Drop the records containing the null values - dropna()\n",
        "- Replace the null values with the mean/median/mode - fillna()"
      ],
      "id": "whole-retailer"
    },
    {
      "cell_type": "code",
      "metadata": {
        "id": "incorporated-child",
        "scrolled": true,
        "colab": {
          "base_uri": "https://localhost:8080/"
        },
        "outputId": "478f8d38-e09c-4b19-aaf6-47f58bb625fa"
      },
      "source": [
        "# Function to handle missing data\n",
        "# YOUR CODE HERE\n",
        "df = df.drop_duplicates().reset_index(drop=True)\n",
        "df.shape"
      ],
      "id": "incorporated-child",
      "execution_count": null,
      "outputs": [
        {
          "output_type": "execute_result",
          "data": {
            "text/plain": [
              "(9527, 5)"
            ]
          },
          "metadata": {},
          "execution_count": 39
        }
      ]
    },
    {
      "cell_type": "markdown",
      "metadata": {
        "id": "loaded-arbitration"
      },
      "source": [
        "#### Exercise 4: Scale the data (1 point)\n",
        "\n",
        "Write a function that takes the data after handling the missing data as input and returns the standardized data.\n",
        "\n",
        "**Hint:**\n",
        "\n",
        "- standardization of the data  can be performed using the below formula\n",
        "\n",
        "$ (x - mean(x)) / std(x) $"
      ],
      "id": "loaded-arbitration"
    },
    {
      "cell_type": "code",
      "metadata": {
        "id": "extraordinary-qatar",
        "scrolled": true,
        "colab": {
          "base_uri": "https://localhost:8080/",
          "height": 206
        },
        "outputId": "aa784984-bd62-4db2-81f3-e1750dd4c5f0"
      },
      "source": [
        "# Defining a function to standardize the data\n",
        "\n",
        "# YOUR CODE HERE\n",
        "def standardize_data(df):\n",
        "    df_2 = (df - df.mean()) / df.std()\n",
        "    return df_2\n",
        "\n",
        "df3 = standardize_data(df)\n",
        "df3.head()"
      ],
      "id": "extraordinary-qatar",
      "execution_count": null,
      "outputs": [
        {
          "output_type": "execute_result",
          "data": {
            "text/plain": [
              "   Ambient Temperature  Exhaust Vaccum  Ambient Pressure  Relative Humidity  \\\n",
              "0            -1.520368       -1.065985         -0.403514           1.141539   \n",
              "1             0.534869        0.330796         -0.309246           0.059219   \n",
              "2             1.354277        0.205464         -1.024671          -2.151287   \n",
              "3            -0.079016       -0.362865         -1.012887           0.236525   \n",
              "4            -1.055589       -1.074656          0.655315           1.633752   \n",
              "\n",
              "   Energy Output  \n",
              "0       1.534360  \n",
              "1      -0.503895  \n",
              "2      -0.914129  \n",
              "3      -0.073121  \n",
              "4       0.592408  "
            ],
            "text/html": [
              "\n",
              "  <div id=\"df-7968036f-f636-4093-b29b-1aeaad867e64\" class=\"colab-df-container\">\n",
              "    <div>\n",
              "<style scoped>\n",
              "    .dataframe tbody tr th:only-of-type {\n",
              "        vertical-align: middle;\n",
              "    }\n",
              "\n",
              "    .dataframe tbody tr th {\n",
              "        vertical-align: top;\n",
              "    }\n",
              "\n",
              "    .dataframe thead th {\n",
              "        text-align: right;\n",
              "    }\n",
              "</style>\n",
              "<table border=\"1\" class=\"dataframe\">\n",
              "  <thead>\n",
              "    <tr style=\"text-align: right;\">\n",
              "      <th></th>\n",
              "      <th>Ambient Temperature</th>\n",
              "      <th>Exhaust Vaccum</th>\n",
              "      <th>Ambient Pressure</th>\n",
              "      <th>Relative Humidity</th>\n",
              "      <th>Energy Output</th>\n",
              "    </tr>\n",
              "  </thead>\n",
              "  <tbody>\n",
              "    <tr>\n",
              "      <th>0</th>\n",
              "      <td>-1.520368</td>\n",
              "      <td>-1.065985</td>\n",
              "      <td>-0.403514</td>\n",
              "      <td>1.141539</td>\n",
              "      <td>1.534360</td>\n",
              "    </tr>\n",
              "    <tr>\n",
              "      <th>1</th>\n",
              "      <td>0.534869</td>\n",
              "      <td>0.330796</td>\n",
              "      <td>-0.309246</td>\n",
              "      <td>0.059219</td>\n",
              "      <td>-0.503895</td>\n",
              "    </tr>\n",
              "    <tr>\n",
              "      <th>2</th>\n",
              "      <td>1.354277</td>\n",
              "      <td>0.205464</td>\n",
              "      <td>-1.024671</td>\n",
              "      <td>-2.151287</td>\n",
              "      <td>-0.914129</td>\n",
              "    </tr>\n",
              "    <tr>\n",
              "      <th>3</th>\n",
              "      <td>-0.079016</td>\n",
              "      <td>-0.362865</td>\n",
              "      <td>-1.012887</td>\n",
              "      <td>0.236525</td>\n",
              "      <td>-0.073121</td>\n",
              "    </tr>\n",
              "    <tr>\n",
              "      <th>4</th>\n",
              "      <td>-1.055589</td>\n",
              "      <td>-1.074656</td>\n",
              "      <td>0.655315</td>\n",
              "      <td>1.633752</td>\n",
              "      <td>0.592408</td>\n",
              "    </tr>\n",
              "  </tbody>\n",
              "</table>\n",
              "</div>\n",
              "    <div class=\"colab-df-buttons\">\n",
              "\n",
              "  <div class=\"colab-df-container\">\n",
              "    <button class=\"colab-df-convert\" onclick=\"convertToInteractive('df-7968036f-f636-4093-b29b-1aeaad867e64')\"\n",
              "            title=\"Convert this dataframe to an interactive table.\"\n",
              "            style=\"display:none;\">\n",
              "\n",
              "  <svg xmlns=\"http://www.w3.org/2000/svg\" height=\"24px\" viewBox=\"0 -960 960 960\">\n",
              "    <path d=\"M120-120v-720h720v720H120Zm60-500h600v-160H180v160Zm220 220h160v-160H400v160Zm0 220h160v-160H400v160ZM180-400h160v-160H180v160Zm440 0h160v-160H620v160ZM180-180h160v-160H180v160Zm440 0h160v-160H620v160Z\"/>\n",
              "  </svg>\n",
              "    </button>\n",
              "\n",
              "  <style>\n",
              "    .colab-df-container {\n",
              "      display:flex;\n",
              "      gap: 12px;\n",
              "    }\n",
              "\n",
              "    .colab-df-convert {\n",
              "      background-color: #E8F0FE;\n",
              "      border: none;\n",
              "      border-radius: 50%;\n",
              "      cursor: pointer;\n",
              "      display: none;\n",
              "      fill: #1967D2;\n",
              "      height: 32px;\n",
              "      padding: 0 0 0 0;\n",
              "      width: 32px;\n",
              "    }\n",
              "\n",
              "    .colab-df-convert:hover {\n",
              "      background-color: #E2EBFA;\n",
              "      box-shadow: 0px 1px 2px rgba(60, 64, 67, 0.3), 0px 1px 3px 1px rgba(60, 64, 67, 0.15);\n",
              "      fill: #174EA6;\n",
              "    }\n",
              "\n",
              "    .colab-df-buttons div {\n",
              "      margin-bottom: 4px;\n",
              "    }\n",
              "\n",
              "    [theme=dark] .colab-df-convert {\n",
              "      background-color: #3B4455;\n",
              "      fill: #D2E3FC;\n",
              "    }\n",
              "\n",
              "    [theme=dark] .colab-df-convert:hover {\n",
              "      background-color: #434B5C;\n",
              "      box-shadow: 0px 1px 3px 1px rgba(0, 0, 0, 0.15);\n",
              "      filter: drop-shadow(0px 1px 2px rgba(0, 0, 0, 0.3));\n",
              "      fill: #FFFFFF;\n",
              "    }\n",
              "  </style>\n",
              "\n",
              "    <script>\n",
              "      const buttonEl =\n",
              "        document.querySelector('#df-7968036f-f636-4093-b29b-1aeaad867e64 button.colab-df-convert');\n",
              "      buttonEl.style.display =\n",
              "        google.colab.kernel.accessAllowed ? 'block' : 'none';\n",
              "\n",
              "      async function convertToInteractive(key) {\n",
              "        const element = document.querySelector('#df-7968036f-f636-4093-b29b-1aeaad867e64');\n",
              "        const dataTable =\n",
              "          await google.colab.kernel.invokeFunction('convertToInteractive',\n",
              "                                                    [key], {});\n",
              "        if (!dataTable) return;\n",
              "\n",
              "        const docLinkHtml = 'Like what you see? Visit the ' +\n",
              "          '<a target=\"_blank\" href=https://colab.research.google.com/notebooks/data_table.ipynb>data table notebook</a>'\n",
              "          + ' to learn more about interactive tables.';\n",
              "        element.innerHTML = '';\n",
              "        dataTable['output_type'] = 'display_data';\n",
              "        await google.colab.output.renderOutput(dataTable, element);\n",
              "        const docLink = document.createElement('div');\n",
              "        docLink.innerHTML = docLinkHtml;\n",
              "        element.appendChild(docLink);\n",
              "      }\n",
              "    </script>\n",
              "  </div>\n",
              "\n",
              "\n",
              "    <div id=\"df-6ab82382-92f2-4e70-b745-7cd1a5dfb05b\">\n",
              "      <button class=\"colab-df-quickchart\" onclick=\"quickchart('df-6ab82382-92f2-4e70-b745-7cd1a5dfb05b')\"\n",
              "                title=\"Suggest charts\"\n",
              "                style=\"display:none;\">\n",
              "\n",
              "<svg xmlns=\"http://www.w3.org/2000/svg\" height=\"24px\"viewBox=\"0 0 24 24\"\n",
              "     width=\"24px\">\n",
              "    <g>\n",
              "        <path d=\"M19 3H5c-1.1 0-2 .9-2 2v14c0 1.1.9 2 2 2h14c1.1 0 2-.9 2-2V5c0-1.1-.9-2-2-2zM9 17H7v-7h2v7zm4 0h-2V7h2v10zm4 0h-2v-4h2v4z\"/>\n",
              "    </g>\n",
              "</svg>\n",
              "      </button>\n",
              "\n",
              "<style>\n",
              "  .colab-df-quickchart {\n",
              "      --bg-color: #E8F0FE;\n",
              "      --fill-color: #1967D2;\n",
              "      --hover-bg-color: #E2EBFA;\n",
              "      --hover-fill-color: #174EA6;\n",
              "      --disabled-fill-color: #AAA;\n",
              "      --disabled-bg-color: #DDD;\n",
              "  }\n",
              "\n",
              "  [theme=dark] .colab-df-quickchart {\n",
              "      --bg-color: #3B4455;\n",
              "      --fill-color: #D2E3FC;\n",
              "      --hover-bg-color: #434B5C;\n",
              "      --hover-fill-color: #FFFFFF;\n",
              "      --disabled-bg-color: #3B4455;\n",
              "      --disabled-fill-color: #666;\n",
              "  }\n",
              "\n",
              "  .colab-df-quickchart {\n",
              "    background-color: var(--bg-color);\n",
              "    border: none;\n",
              "    border-radius: 50%;\n",
              "    cursor: pointer;\n",
              "    display: none;\n",
              "    fill: var(--fill-color);\n",
              "    height: 32px;\n",
              "    padding: 0;\n",
              "    width: 32px;\n",
              "  }\n",
              "\n",
              "  .colab-df-quickchart:hover {\n",
              "    background-color: var(--hover-bg-color);\n",
              "    box-shadow: 0 1px 2px rgba(60, 64, 67, 0.3), 0 1px 3px 1px rgba(60, 64, 67, 0.15);\n",
              "    fill: var(--button-hover-fill-color);\n",
              "  }\n",
              "\n",
              "  .colab-df-quickchart-complete:disabled,\n",
              "  .colab-df-quickchart-complete:disabled:hover {\n",
              "    background-color: var(--disabled-bg-color);\n",
              "    fill: var(--disabled-fill-color);\n",
              "    box-shadow: none;\n",
              "  }\n",
              "\n",
              "  .colab-df-spinner {\n",
              "    border: 2px solid var(--fill-color);\n",
              "    border-color: transparent;\n",
              "    border-bottom-color: var(--fill-color);\n",
              "    animation:\n",
              "      spin 1s steps(1) infinite;\n",
              "  }\n",
              "\n",
              "  @keyframes spin {\n",
              "    0% {\n",
              "      border-color: transparent;\n",
              "      border-bottom-color: var(--fill-color);\n",
              "      border-left-color: var(--fill-color);\n",
              "    }\n",
              "    20% {\n",
              "      border-color: transparent;\n",
              "      border-left-color: var(--fill-color);\n",
              "      border-top-color: var(--fill-color);\n",
              "    }\n",
              "    30% {\n",
              "      border-color: transparent;\n",
              "      border-left-color: var(--fill-color);\n",
              "      border-top-color: var(--fill-color);\n",
              "      border-right-color: var(--fill-color);\n",
              "    }\n",
              "    40% {\n",
              "      border-color: transparent;\n",
              "      border-right-color: var(--fill-color);\n",
              "      border-top-color: var(--fill-color);\n",
              "    }\n",
              "    60% {\n",
              "      border-color: transparent;\n",
              "      border-right-color: var(--fill-color);\n",
              "    }\n",
              "    80% {\n",
              "      border-color: transparent;\n",
              "      border-right-color: var(--fill-color);\n",
              "      border-bottom-color: var(--fill-color);\n",
              "    }\n",
              "    90% {\n",
              "      border-color: transparent;\n",
              "      border-bottom-color: var(--fill-color);\n",
              "    }\n",
              "  }\n",
              "</style>\n",
              "\n",
              "      <script>\n",
              "        async function quickchart(key) {\n",
              "          const quickchartButtonEl =\n",
              "            document.querySelector('#' + key + ' button');\n",
              "          quickchartButtonEl.disabled = true;  // To prevent multiple clicks.\n",
              "          quickchartButtonEl.classList.add('colab-df-spinner');\n",
              "          try {\n",
              "            const charts = await google.colab.kernel.invokeFunction(\n",
              "                'suggestCharts', [key], {});\n",
              "          } catch (error) {\n",
              "            console.error('Error during call to suggestCharts:', error);\n",
              "          }\n",
              "          quickchartButtonEl.classList.remove('colab-df-spinner');\n",
              "          quickchartButtonEl.classList.add('colab-df-quickchart-complete');\n",
              "        }\n",
              "        (() => {\n",
              "          let quickchartButtonEl =\n",
              "            document.querySelector('#df-6ab82382-92f2-4e70-b745-7cd1a5dfb05b button');\n",
              "          quickchartButtonEl.style.display =\n",
              "            google.colab.kernel.accessAllowed ? 'block' : 'none';\n",
              "        })();\n",
              "      </script>\n",
              "    </div>\n",
              "\n",
              "    </div>\n",
              "  </div>\n"
            ],
            "application/vnd.google.colaboratory.intrinsic+json": {
              "type": "dataframe",
              "variable_name": "df3",
              "summary": "{\n  \"name\": \"df3\",\n  \"rows\": 9527,\n  \"fields\": [\n    {\n      \"column\": \"Ambient Temperature\",\n      \"properties\": {\n        \"dtype\": \"number\",\n        \"std\": 0.9999999999999989,\n        \"min\": -2.3975380218537854,\n        \"max\": 2.344283193415841,\n        \"num_unique_values\": 2773,\n        \"samples\": [\n          -1.1603659710709735,\n          -0.5437948838730249,\n          -0.4497644348450154\n        ],\n        \"semantic_type\": \"\",\n        \"description\": \"\"\n      }\n    },\n    {\n      \"column\": \"Exhaust Vaccum\",\n      \"properties\": {\n        \"dtype\": \"number\",\n        \"std\": 1.000000000000005,\n        \"min\": -2.2806807545560006,\n        \"max\": 2.1492917424462052,\n        \"num_unique_values\": 634,\n        \"samples\": [\n          1.726789027429625,\n          1.1631893236295217,\n          -1.1952586676570616\n        ],\n        \"semantic_type\": \"\",\n        \"description\": \"\"\n      }\n    },\n    {\n      \"column\": \"Ambient Pressure\",\n      \"properties\": {\n        \"dtype\": \"number\",\n        \"std\": 0.9999999999999994,\n        \"min\": -3.425131689522437,\n        \"max\": 3.3772961694740817,\n        \"num_unique_values\": 2517,\n        \"samples\": [\n          -2.0632994356426524,\n          -1.8579304183702954,\n          1.904362643955161\n        ],\n        \"semantic_type\": \"\",\n        \"description\": \"\"\n      }\n    },\n    {\n      \"column\": \"Relative Humidity\",\n      \"properties\": {\n        \"dtype\": \"number\",\n        \"std\": 1.0000000000000016,\n        \"min\": -3.2705738727860987,\n        \"max\": 1.8363870936965527,\n        \"num_unique_values\": 4546,\n        \"samples\": [\n          -0.4679065541828847,\n          1.7665600134577824,\n          1.0854036915207528\n        ],\n        \"semantic_type\": \"\",\n        \"description\": \"\"\n      }\n    },\n    {\n      \"column\": \"Energy Output\",\n      \"properties\": {\n        \"dtype\": \"number\",\n        \"std\": 1.000000000000003,\n        \"min\": -1.9998678740080775,\n        \"max\": 2.431122424214583,\n        \"num_unique_values\": 4836,\n        \"samples\": [\n          -0.39003921334254626,\n          -0.6130559435842172,\n          -0.6641150370869158\n        ],\n        \"semantic_type\": \"\",\n        \"description\": \"\"\n      }\n    }\n  ]\n}"
            }
          },
          "metadata": {},
          "execution_count": 40
        }
      ]
    },
    {
      "cell_type": "code",
      "source": [
        "fig, (ax1, ax2) = plt.subplots(ncols=2, figsize=(12, 5))\n",
        "\n",
        "ax1.scatter(df['Ambient Temperature'], df['Energy Output'])\n",
        "ax1.set_title(\"Before Scaling\")\n",
        "ax2.scatter(df3['Ambient Temperature'], df3['Energy Output'],color='red')\n",
        "ax2.set_title(\"After Scaling\")\n",
        "plt.show()"
      ],
      "metadata": {
        "colab": {
          "base_uri": "https://localhost:8080/",
          "height": 468
        },
        "id": "quYi1fJiYDsH",
        "outputId": "d184dff4-17b7-4883-b4d2-417f8f5ce203"
      },
      "id": "quYi1fJiYDsH",
      "execution_count": null,
      "outputs": [
        {
          "output_type": "display_data",
          "data": {
            "text/plain": [
              "<Figure size 1200x500 with 2 Axes>"
            ],
            "image/png": "[encoded data removed]"
          },
          "metadata": {}
        }
      ]
    },
    {
      "cell_type": "markdown",
      "metadata": {
        "id": "thermal-rehabilitation"
      },
      "source": [
        "#### Exercise 5: Feature selection (1 point)\n",
        "\n",
        "Write a function that takes scaled data as input and returns the features and target variable values\n",
        "\n",
        "**Hint:**\n",
        "\n",
        "- Features: AmbientTemperature, ExhaustVaccum, AmbientPressure, RelativeHumidity\n",
        "- Target Variable: EnergyOutput"
      ],
      "id": "thermal-rehabilitation"
    },
    {
      "cell_type": "code",
      "metadata": {
        "id": "terminal-starter",
        "scrolled": true
      },
      "source": [
        "# Define a function\n",
        "\n",
        "# YOUR CODE HERE\n",
        "def split_features_target(df):\n",
        "\n",
        "    feature_columns = [\n",
        "        \"Ambient Temperature\",\n",
        "        \"Exhaust Vaccum\",\n",
        "        \"Ambient Pressure\",\n",
        "        \"Relative Humidity\"\n",
        "    ]\n",
        "    target_column = \"Energy Output\"\n",
        "\n",
        "    X = df[feature_columns]\n",
        "    y = df[target_column]\n",
        "\n",
        "    return X, y"
      ],
      "id": "terminal-starter",
      "execution_count": null,
      "outputs": []
    },
    {
      "cell_type": "code",
      "source": [
        "X, y = split_features_target(df3)\n",
        "\n",
        "print(\"Features Column:\\n\",X.head())\n",
        "print(\"\\n Target Column:\\n\",y.head())"
      ],
      "metadata": {
        "colab": {
          "base_uri": "https://localhost:8080/"
        },
        "id": "s8f4L2kWUIT7",
        "outputId": "b9353766-787c-4057-998a-8d00326613c8"
      },
      "id": "s8f4L2kWUIT7",
      "execution_count": null,
      "outputs": [
        {
          "output_type": "stream",
          "name": "stdout",
          "text": [
            "Features Column:\n",
            "    Ambient Temperature  Exhaust Vaccum  Ambient Pressure  Relative Humidity\n",
            "0            -1.520368       -1.065985         -0.403514           1.141539\n",
            "1             0.534869        0.330796         -0.309246           0.059219\n",
            "2             1.354277        0.205464         -1.024671          -2.151287\n",
            "3            -0.079016       -0.362865         -1.012887           0.236525\n",
            "4            -1.055589       -1.074656          0.655315           1.633752\n",
            "\n",
            " Target Column:\n",
            " 0    1.534360\n",
            "1   -0.503895\n",
            "2   -0.914129\n",
            "3   -0.073121\n",
            "4    0.592408\n",
            "Name: Energy Output, dtype: float64\n"
          ]
        }
      ]
    },
    {
      "cell_type": "markdown",
      "metadata": {
        "id": "timely-bruce"
      },
      "source": [
        "#### Exercise 6: Correlation (1 point)\n",
        "\n",
        "Calculate correlation between the variables"
      ],
      "id": "timely-bruce"
    },
    {
      "cell_type": "code",
      "metadata": {
        "id": "durable-making",
        "scrolled": true,
        "colab": {
          "base_uri": "https://localhost:8080/"
        },
        "outputId": "09f29a6b-f63f-4f83-a608-c23b4446ed6d"
      },
      "source": [
        "# YOUR CODE HERE\n",
        "correlation_matrix = df3.corr(numeric_only=True)\n",
        "print(\"Correlation matrix:\\n\")\n",
        "print(correlation_matrix)"
      ],
      "id": "durable-making",
      "execution_count": null,
      "outputs": [
        {
          "output_type": "stream",
          "name": "stdout",
          "text": [
            "Correlation matrix:\n",
            "\n",
            "                     Ambient Temperature  Exhaust Vaccum  Ambient Pressure  \\\n",
            "Ambient Temperature             1.000000        0.843689         -0.508222   \n",
            "Exhaust Vaccum                  0.843689        1.000000         -0.415718   \n",
            "Ambient Pressure               -0.508222       -0.415718          1.000000   \n",
            "Relative Humidity              -0.543947       -0.312214          0.101631   \n",
            "Energy Output                  -0.947908       -0.869900          0.518687   \n",
            "\n",
            "                     Relative Humidity  Energy Output  \n",
            "Ambient Temperature          -0.543947      -0.947908  \n",
            "Exhaust Vaccum               -0.312214      -0.869900  \n",
            "Ambient Pressure              0.101631       0.518687  \n",
            "Relative Humidity             1.000000       0.391175  \n",
            "Energy Output                 0.391175       1.000000  \n"
          ]
        }
      ]
    },
    {
      "cell_type": "code",
      "source": [
        "plt.figure(figsize=(8, 6))\n",
        "sns.heatmap(correlation_matrix, cmap=\"coolwarm\", fmt=\".2f\")\n",
        "plt.title(\"Correlation Heatmap\")\n",
        "plt.show()"
      ],
      "metadata": {
        "colab": {
          "base_uri": "https://localhost:8080/",
          "height": 682
        },
        "id": "4L3YhFRVVrsa",
        "outputId": "cab36d6f-8219-4c63-b4e2-668406602681"
      },
      "id": "4L3YhFRVVrsa",
      "execution_count": null,
      "outputs": [
        {
          "output_type": "display_data",
          "data": {
            "text/plain": [
              "<Figure size 800x600 with 2 Axes>"
            ],
            "image/png": "[encoded data removed]"
          },
          "metadata": {}
        }
      ]
    },
    {
      "cell_type": "markdown",
      "metadata": {
        "id": "honest-remainder"
      },
      "source": [
        "#### Exercise 7: Estimate the coefficients (2 points)\n",
        "\n",
        "Write a function that takes features and target as input and returns the estimated coefficient values\n",
        "\n",
        "**Hint:**\n",
        "\n",
        "- Calculate the estimated coefficients using the below formula\n",
        "\n",
        "$ β = (X^T X)^{-1} X^T y $\n",
        "\n",
        "- transpose(), np.linalg.inv()"
      ],
      "id": "honest-remainder"
    },
    {
      "cell_type": "code",
      "metadata": {
        "id": "dimensional-victory",
        "scrolled": true
      },
      "source": [
        "# Calculating the coeffients\n",
        "\n",
        "# YOUR CODE HERE\n",
        "def estimate_coefficients(X, y):\n",
        "\n",
        "   beta = np.linalg.inv(X.T @ X) @ X.T @ y\n",
        "   return beta"
      ],
      "id": "dimensional-victory",
      "execution_count": null,
      "outputs": []
    },
    {
      "cell_type": "markdown",
      "metadata": {
        "id": "interior-bennett"
      },
      "source": [
        "#### Exercise 8: Fit the data to estimate the coefficients (2 points)\n",
        "\n",
        "Write a function named fit which takes features and targets as input and returns the intercept and coefficient values.\n",
        "\n",
        "**Hint:**\n",
        "\n",
        "- create a dummy column in the features dataframe which is made up of all ones\n",
        "- convert the features dataframe into numpy array\n",
        "- call the estimated coefficients function which is defined above\n",
        "- np.ones(), np.concatenate()"
      ],
      "id": "interior-bennett"
    },
    {
      "cell_type": "code",
      "metadata": {
        "id": "local-texas",
        "scrolled": true,
        "colab": {
          "base_uri": "https://localhost:8080/"
        },
        "outputId": "44698a4c-c810-4745-aa25-614578ce9b2a"
      },
      "source": [
        "# defining a fit function\n",
        "def fit(x, y):\n",
        "    # YOUR CODE HERE\n",
        "    X_np = X.to_numpy()\n",
        "    y_np = y.to_numpy().reshape(-1, 1)\n",
        "\n",
        "    ones = np.ones((X_np.shape[0], 1))\n",
        "    X_b = np.hstack((ones, X_np))\n",
        "\n",
        "    beta = estimate_coefficients(X_b, y_np)\n",
        "\n",
        "    intercept = beta[0][0]\n",
        "    coefficients = beta[1:].flatten()\n",
        "\n",
        "    return intercept, coefficients\n",
        "\n",
        "X, y = split_features_target(df3)\n",
        "\n",
        "intercept, coefficients = fit(X, y)\n",
        "print(\"Intercept:\", intercept)\n",
        "print(\"Coefficients:\", coefficients)"
      ],
      "id": "local-texas",
      "execution_count": null,
      "outputs": [
        {
          "output_type": "stream",
          "name": "stdout",
          "text": [
            "Intercept: 1.021691140978137e-15\n",
            "Coefficients: [-0.86225353 -0.17575667  0.02111203 -0.13486446]\n"
          ]
        }
      ]
    },
    {
      "cell_type": "markdown",
      "metadata": {
        "id": "hybrid-quick"
      },
      "source": [
        "#### Exercise 9: Predict the data on estimated coefficients (1 point)\n",
        "\n",
        "Write a function named predict which takes features, intercept and coefficient values as input and returns the predicted values.\n",
        "\n",
        "**Hint:**\n",
        "\n",
        "- Fit the intercept, coefficients values in the below equation\n",
        "\n",
        "  $y = b_0 + b_1*x + ... + b_i*x_i$"
      ],
      "id": "hybrid-quick"
    },
    {
      "cell_type": "code",
      "metadata": {
        "id": "buried-attention",
        "scrolled": true,
        "colab": {
          "base_uri": "https://localhost:8080/"
        },
        "outputId": "e5da3e4b-af4b-46fb-ba54-6c4330e92705"
      },
      "source": [
        " # fucntion to predict the values\n",
        "def predict(x, intercept, coefficients):\n",
        "    '''\n",
        "    y = b_0 + b_1*x + ... + b_i*x_i\n",
        "    '''\n",
        "    #YOUR CODE HERE\n",
        "    if isinstance(x, pd.DataFrame):\n",
        "        X = x.to_numpy()\n",
        "    predictions = intercept + np.dot(x, coefficients) #y = b_0 + b_1*x + ... + b_i*x_i\n",
        "\n",
        "    return predictions\n",
        "\n",
        "predictions = predict(X, intercept, coefficients)\n",
        "\n",
        "print(\"Predicted values:\",predictions[:])\n",
        "print(\"\\n Shape:\",predictions.shape[0])"
      ],
      "id": "buried-attention",
      "execution_count": null,
      "outputs": [
        {
          "output_type": "stream",
          "name": "stdout",
          "text": [
            "Predicted values: [ 1.33582488 -0.53384742 -0.93534243 ...  0.53088277 -0.02245769\n",
            " -0.40990677]\n",
            "\n",
            " Shape: 9527\n"
          ]
        }
      ]
    },
    {
      "cell_type": "markdown",
      "metadata": {
        "id": "rolled-consultancy"
      },
      "source": [
        "#### Exercise 10: Root mean squared error (1 point)\n",
        "\n",
        "Write a function to calculate the RMSE error.\n",
        "\n",
        "**Hint:**\n",
        "\n",
        "- [How to calculate the RSME error](https://towardsdatascience.com/what-does-rmse-really-mean-806b65f2e48e)"
      ],
      "id": "rolled-consultancy"
    },
    {
      "cell_type": "code",
      "metadata": {
        "id": "phantom-alabama",
        "scrolled": true,
        "colab": {
          "base_uri": "https://localhost:8080/"
        },
        "outputId": "240ed660-e5e5-4946-9a6b-b9227edc4ab8"
      },
      "source": [
        "# Define a function to calculate the error\n",
        "\n",
        "# YOUR CODE HERE\n",
        "def calculate_rmse(y, y_pred):\n",
        "\n",
        "    y_true = np.array(y)\n",
        "    y_pred = np.array(y_pred)\n",
        "\n",
        "    mse = np.mean((y_true - y_pred) ** 2)\n",
        "    rmse = np.sqrt(mse)\n",
        "    return rmse\n",
        "\n",
        "rmse = calculate_rmse(y, predictions)\n",
        "\n",
        "print(f\"Root Mean Squared Error (RMSE): {rmse:.2f}\")"
      ],
      "id": "phantom-alabama",
      "execution_count": null,
      "outputs": [
        {
          "output_type": "stream",
          "name": "stdout",
          "text": [
            "Root Mean Squared Error (RMSE): 0.27\n"
          ]
        }
      ]
    },
    {
      "cell_type": "markdown",
      "metadata": {
        "id": "experimental-discrimination"
      },
      "source": [
        "#### Exercise 11: Split the data into train and test (1 point)\n",
        "\n",
        "Write a function named train_test_split which takes features and targets as input and returns the train and test sets respectively.\n",
        "\n",
        "**Hint:**\n",
        "\n",
        "- Shuffle the data\n",
        "- Consider 70 % of data as a train set and the rest of the data as a test set"
      ],
      "id": "experimental-discrimination"
    },
    {
      "cell_type": "code",
      "metadata": {
        "id": "dangerous-salmon",
        "scrolled": true,
        "colab": {
          "base_uri": "https://localhost:8080/"
        },
        "outputId": "05bd496f-973a-41f8-9a7d-68cc6816c005"
      },
      "source": [
        "# YOUR CODE HERE\n",
        "def train_test_split(X, y, train_size=0.7, random_seed=None):\n",
        "\n",
        "    X = np.array(X)\n",
        "    y = np.array(y)\n",
        "\n",
        "    if random_seed is not None:\n",
        "        np.random.seed(random_seed)\n",
        "\n",
        "    # Shuffle the data\n",
        "    indices = np.arange(X.shape[0])\n",
        "    np.random.shuffle(indices)\n",
        "\n",
        "    X_shuffled = X[indices]\n",
        "    y_shuffled = y[indices]\n",
        "\n",
        "    split_index = int(train_size * X.shape[0])\n",
        "\n",
        "    X_train = X_shuffled[:split_index]\n",
        "    X_test = X_shuffled[split_index:]\n",
        "    y_train = y_shuffled[:split_index]\n",
        "    y_test = y_shuffled[split_index:]\n",
        "\n",
        "    return X_train, X_test, y_train, y_test\n",
        "\n",
        "X_train, X_test, y_train, y_test = train_test_split(X, y, train_size=0.7, random_seed=42)\n",
        "\n",
        "print(\"Train set size:\", X_train.shape[0])\n",
        "print(\"Test set size:\", X_test.shape[0])"
      ],
      "id": "dangerous-salmon",
      "execution_count": 94,
      "outputs": [
        {
          "output_type": "stream",
          "name": "stdout",
          "text": [
            "Train set size: 6668\n",
            "Test set size: 2859\n"
          ]
        }
      ]
    },
    {
      "cell_type": "markdown",
      "metadata": {
        "id": "living-operation"
      },
      "source": [
        "#### Exercise 12: Implement predict using OpenMP (1 point)\n",
        "\n",
        "Get the predictions for test data and calculate the test error(RMSE) by implementing the OpenMP (pymp)\n",
        "\n",
        "**Hints:**\n",
        "\n",
        "* Using the pymp.Parallel implement the predict function (use from above)\n",
        "\n",
        "* Call the predict function by passing test data as an argument\n",
        "\n",
        "* calculate the error (RMSE) by comparing the Actual test data and predicted test data"
      ],
      "id": "living-operation"
    },
    {
      "cell_type": "code",
      "source": [
        "!pip install pymp-pypi"
      ],
      "metadata": {
        "id": "1PndfF9b_mkN",
        "colab": {
          "base_uri": "https://localhost:8080/"
        },
        "outputId": "5a17bea5-3568-4278-c924-a1c2f8b7f40d"
      },
      "id": "1PndfF9b_mkN",
      "execution_count": null,
      "outputs": [
        {
          "output_type": "stream",
          "name": "stdout",
          "text": [
            "Requirement already satisfied: pymp-pypi in /usr/local/lib/python3.11/dist-packages (0.5.0)\n"
          ]
        }
      ]
    },
    {
      "cell_type": "code",
      "source": [
        "def fit2(x, y):\n",
        "    # YOUR CODE HERE\n",
        "    X_ = x\n",
        "    y_ = y.reshape(-1, 1)\n",
        "\n",
        "    ones = np.ones((X_.shape[0], 1))\n",
        "    X_b = np.concatenate((ones, X_), axis=1)\n",
        "\n",
        "    beta = estimate_coefficients(X_b, y_)\n",
        "\n",
        "    intercept = beta[0][0]\n",
        "    coefficients = beta[1:].flatten()\n",
        "\n",
        "    return intercept, coefficients"
      ],
      "metadata": {
        "id": "9o_6Hw_ckI1H"
      },
      "id": "9o_6Hw_ckI1H",
      "execution_count": null,
      "outputs": []
    },
    {
      "cell_type": "code",
      "source": [
        "import pymp\n",
        "# YOUR CODE HERE\n",
        "\n",
        "#Serial prediction\n",
        "def serial_predict(X, intercept, coefficients):\n",
        "    return intercept + np.dot(X, coefficients)\n",
        "\n",
        "#parallel prediction\n",
        "def parallel_predict(X, intercept, coefficients, num_threads):\n",
        "\n",
        "    X = np.array(X)\n",
        "    n_samples = X.shape[0]\n",
        "    y_pred = pymp.shared.array(n_samples, dtype='float')\n",
        "\n",
        "    with pymp.Parallel(num_threads) as p:\n",
        "        for i in p.range(n_samples):\n",
        "            y_pred[i] = intercept + np.dot(X[i], coefficients)\n",
        "\n",
        "    return np.array(y_pred)\n",
        "\n",
        "#RSME\n",
        "def calculate_rmse(y_true, y_pred):\n",
        "    y_true = np.array(y_true)\n",
        "    y_pred = np.array(y_pred)\n",
        "    mse = np.mean((y_true - y_pred) ** 2)\n",
        "    return np.sqrt(mse)\n",
        "\n",
        "# Fit model\n",
        "intercept, coefficients = fit2(X_train, y_train)"
      ],
      "metadata": {
        "id": "o8DSppnV_wQa"
      },
      "id": "o8DSppnV_wQa",
      "execution_count": null,
      "outputs": []
    },
    {
      "cell_type": "code",
      "source": [
        "# Serial prediction timing\n",
        "start_serial = time.time()\n",
        "y_pred_serial = serial_predict(X_test, intercept, coefficients)\n",
        "end_serial = time.time()\n",
        "\n",
        "# Predict on test data using pymp\n",
        "start_parallel = time.time()\n",
        "y_pred_test = parallel_predict(X_test, intercept, coefficients, num_threads=4)\n",
        "end_parallel = time.time()\n",
        "\n",
        "# RMSE\n",
        "rmse_serial = calculate_rmse(y_test, y_pred_serial)\n",
        "rmse_parallel = calculate_rmse(y_test, y_pred_test)\n",
        "\n",
        "# Print\n",
        "print(f\"RMSE (Serial): {rmse_serial:.4f}\")\n",
        "print(f\"RMSE (Parallel): {rmse_parallel:.4f}\")\n",
        "\n",
        "print(f\"Serial Prediction Time: {end_serial - start_serial:.6f} seconds\")\n",
        "print(f\"Parallel Prediction Time: {end_parallel - start_parallel:.6f} seconds\")"
      ],
      "metadata": {
        "colab": {
          "base_uri": "https://localhost:8080/"
        },
        "id": "XPTik9D9vvAp",
        "outputId": "3603ce48-d0b5-46d4-c12f-5965b2f78d45"
      },
      "id": "XPTik9D9vvAp",
      "execution_count": null,
      "outputs": [
        {
          "output_type": "stream",
          "name": "stdout",
          "text": [
            "RMSE (Serial): 0.2692\n",
            "RMSE (Parallel): 0.2692\n",
            "Serial Prediction Time: 0.000219 seconds\n",
            "Parallel Prediction Time: 0.358592 seconds\n"
          ]
        }
      ]
    },
    {
      "cell_type": "markdown",
      "metadata": {
        "id": "covered-canon"
      },
      "source": [
        "#### Exercise 13: Create a communicator (1 point)\n",
        "\n",
        "Create a comunicator and define the rank and size"
      ],
      "id": "covered-canon"
    },
    {
      "cell_type": "code",
      "metadata": {
        "id": "radio-origin",
        "scrolled": true,
        "colab": {
          "base_uri": "https://localhost:8080/"
        },
        "outputId": "1e5a48d9-0867-4226-ffa5-052a997dbb2a"
      },
      "source": [
        "# YOUR CODE HERE\n",
        "def init_mpi():\n",
        "\n",
        "    comm = MPI.COMM_WORLD        # Default communicator\n",
        "    rank = comm.Get_rank()       # Rank\n",
        "    size = comm.Get_size()       # Size\n",
        "\n",
        "    return comm, rank, size\n",
        "\n",
        "comm, rank, size = init_mpi()\n",
        "rank = 0\n",
        "size = 4\n",
        "print(f\"Process {rank} of {size} is running.\")"
      ],
      "id": "radio-origin",
      "execution_count": 109,
      "outputs": [
        {
          "output_type": "stream",
          "name": "stdout",
          "text": [
            "Process 0 of 4 is running.\n"
          ]
        }
      ]
    },
    {
      "cell_type": "markdown",
      "metadata": {
        "id": "miniature-plaza"
      },
      "source": [
        "#### Exercise 14: Divide the data into slices (1 point)\n",
        "\n",
        "Write a function named dividing_data which takes train features set, train target set, and size of workers as inputs and returns the sliced data for each worker.\n",
        "\n",
        "![img](https://cdn.iisc.talentsprint.com/CDS/Images/MiniProject_MPI_DataSlice.JPG)\n",
        "\n",
        "For Example, if there are 4 processes, slice the data into 4 equal parts with 25% ratio\n",
        "\n",
        "**Hint:**\n",
        "\n",
        "- Divide the Data equally among the workers\n",
        "  - Create an empty list\n",
        "  - Iterate over the size of workers\n",
        "  - Append each slice of data to the list"
      ],
      "id": "miniature-plaza"
    },
    {
      "cell_type": "code",
      "metadata": {
        "id": "signal-medicaid",
        "scrolled": true,
        "colab": {
          "base_uri": "https://localhost:8080/"
        },
        "outputId": "7ce46ba8-7609-4679-d131-4b80d8af0cc2"
      },
      "source": [
        "def dividing_data(x_train, y_train, size):\n",
        "    # Size of the slice\n",
        "    slice_for_each_worker = int(Decimal(x_train.shape[0]/size).quantize(Decimal('1.'), rounding = ROUND_HALF_UP))\n",
        "    print('Slice of data for each worker: {}'.format(slice_for_each_worker))\n",
        "    # YOUR CODE HERE\n",
        "    divided_data = []\n",
        "    total_samples = x_train.shape[0]\n",
        "\n",
        "    for i in range(size):\n",
        "        start_idx = i * slice_for_each_worker\n",
        "        # the last worker gets all remaining data\n",
        "        end_idx = (i + 1) * slice_for_each_worker if i != size - 1 else total_samples\n",
        "\n",
        "        x_slice = x_train[start_idx:end_idx]\n",
        "        y_slice = y_train[start_idx:end_idx]\n",
        "\n",
        "        divided_data.append((x_slice, y_slice))\n",
        "\n",
        "    return divided_data\n",
        "\n",
        "divided = dividing_data(X, y, size)\n",
        "\n",
        "for i, (x_part, y_part) in enumerate(divided):\n",
        "    print(f\"Worker {i}: {x_part.shape[0]} samples\")"
      ],
      "id": "signal-medicaid",
      "execution_count": 111,
      "outputs": [
        {
          "output_type": "stream",
          "name": "stdout",
          "text": [
            "Slice of data for each worker: 2382\n",
            "Worker 0: 2382 samples\n",
            "Worker 1: 2382 samples\n",
            "Worker 2: 2382 samples\n",
            "Worker 3: 2381 samples\n"
          ]
        }
      ]
    },
    {
      "cell_type": "markdown",
      "metadata": {
        "id": "changing-conditioning"
      },
      "source": [
        "#### Exercise 15: Prepare the data in root worker to assign data for all the workers (1 point)\n",
        "\n",
        "- When it is the root worker, perform the below operation:\n",
        "    - Store the features and target values in separate variables\n",
        "    - Split the data into train and test sets using the train_test_split function defined above\n",
        "    - Divide the data among the workers using the dividing_data function above"
      ],
      "id": "changing-conditioning"
    },
    {
      "cell_type": "code",
      "metadata": {
        "id": "hybrid-tamil",
        "scrolled": true,
        "colab": {
          "base_uri": "https://localhost:8080/"
        },
        "outputId": "d9c69043-3a55-43ea-a660-61ab594e086f"
      },
      "source": [
        "# YOUR CODE HERE\n",
        "def prepare_data_for_workers(X, y, num_workers):\n",
        "\n",
        "    X_train, X_test, y_train, y_test = train_test_split(X, y, train_size=0.7, random_seed=42)\n",
        "    divided_data = dividing_data(X_train, y_train, num_workers)\n",
        "\n",
        "    return divided_data, X_test, y_test\n",
        "if rank == 0:\n",
        "        divided_data, X_test, y_test = prepare_data_for_workers(X, y, size)\n",
        "        print(f\"Root process prepared data for {size} workers.\")\n",
        "        print(divided_data)"
      ],
      "id": "hybrid-tamil",
      "execution_count": 112,
      "outputs": [
        {
          "output_type": "stream",
          "name": "stdout",
          "text": [
            "Slice of data for each worker: 1667\n",
            "Root process prepared data for 4 workers.\n",
            "[(array([[ 1.82711572,  1.12062375, -0.12576059, -1.41399503],\n",
            "       [-1.50156217, -1.2449185 ,  0.04425802, -0.46722197],\n",
            "       [-1.46529328, -1.4183338 ,  0.39944542, -1.08197411],\n",
            "       ...,\n",
            "       [-1.19797815, -0.83739256, -0.25032868,  0.46312118],\n",
            "       [ 0.33606146,  0.35680821, -0.61056614,  0.94643411],\n",
            "       [ 0.55367479, -0.39360706, -1.67276163,  0.22078014]]), array([-1.46462772,  1.81665264,  1.52966533, ...,  1.3489044 ,\n",
            "       -0.56199685, -0.85133171])), (array([[ 1.17561904,  0.99450354, -0.84455215, -1.05459094],\n",
            "       [ 0.6020333 ,  0.70285054, -0.161111  ,  1.07787332],\n",
            "       [ 0.64233207,  1.51396117, -0.29409585,  0.96217943],\n",
            "       ...,\n",
            "       [ 0.56173454,  0.4395746 ,  0.98861883, -0.94095079],\n",
            "       [ 0.36830047,  0.30163062,  0.33716137,  0.32141328],\n",
            "       [-1.79977302, -1.02341988, -1.88486406,  0.97244812]]), array([-0.81083657, -0.79792508, -0.9745778 , ..., -0.72749874,\n",
            "       -0.30552761,  1.83308546])), (array([[ 0.18158287,  0.45770438, -0.3883636 ,  0.3604343 ],\n",
            "       [ 1.01442399,  0.76906366, -0.53144857,  0.22967967],\n",
            "       [-0.04812009, -0.74043765, -0.73176753, -0.19065197],\n",
            "       ...,\n",
            "       [-0.98708129, -1.04312616,  1.33875617,  0.07154187],\n",
            "       [-0.71304969, -1.46484062,  0.4819297 , -0.85400923],\n",
            "       [-0.32349497, -1.17476413,  0.17387617, -0.37891126]]), array([-0.19636679, -0.70226264, -0.09307483, ...,  1.25735016,\n",
            "        0.85474627,  0.66929026])), (array([[ 0.25412064, -0.76566169,  0.66709848, -1.82748088],\n",
            "       [-1.45186036, -1.04312616,  1.30508912,  0.87044582],\n",
            "       [ 1.38248603,  1.50765516, -0.30251262, -0.48022898],\n",
            "       ...,\n",
            "       [ 1.05875263,  0.99608004,  0.64353155, -1.24148107],\n",
            "       [ 0.08352254,  0.23305275, -0.52471516,  1.03269109],\n",
            "       [-1.57678653, -1.43567532,  1.30845582,  0.58223797]]), array([ 0.59299506,  1.881797  , -1.26332578, ..., -0.24155702,\n",
            "       -0.13533063,  1.68108195]))]\n"
          ]
        }
      ]
    },
    {
      "cell_type": "markdown",
      "metadata": {
        "id": "breathing-baking"
      },
      "source": [
        "#### Exercise 16: Scatter and gather the data (1 point)\n",
        "\n",
        "Perform the below operations:\n",
        "\n",
        "- Send slices of the training set(the features data X and the expected target data Y) to every worker including the root worker\n",
        "    - **Hint:** scatter()\n",
        "    - use `barrier()` to block workers until all workers in the group reach a Barrier, to scatter from root worker.\n",
        "- Every worker should get the predicted target Y(yhat) for each slice\n",
        "- Get the new coefficient of each instance in a slice\n",
        "    - **Hint:** fit function defined above\n",
        "- Gather the new coefficient from each worker\n",
        "    - **Hint:** gather()\n",
        "    - Take the mean of the gathered coefficients\n",
        "- Calculate the root mean square error for the test set\n",
        "\n",
        "To know more about `scatter`, `gather` and `barrier` click [here](https://nyu-cds.github.io/python-mpi/05-collectives/)"
      ],
      "id": "breathing-baking"
    },
    {
      "cell_type": "code",
      "metadata": {
        "id": "consistent-union",
        "scrolled": true,
        "colab": {
          "base_uri": "https://localhost:8080/",
          "height": 315
        },
        "outputId": "cc6c2b65-ace8-4bcf-a57c-cfa2d938fff4"
      },
      "source": [
        "# YOUR CODE HERE\n",
        "# Sync all workers\n",
        "comm.Barrier()\n",
        "start_time = time.time()    # Start timing\n",
        "\n",
        "root = 0\n",
        "data_slice = comm.scatter(divided_data, root)\n",
        "X_slice, y_slice = data_slice\n",
        "\n",
        "intercept, coefficients = fit2(X_slice, y_slice)\n",
        "\n",
        "local_params = np.insert(coefficients, 0, intercept)  # [b0, b1, b2, ...]\n",
        "\n",
        "end_time = time.time()  # End timing\n",
        "elapsed_time = end_time - start_time    # timing\n",
        "\n",
        "print(f\"Worker {rank} completed training in {elapsed_time:.4f} seconds.\")\n",
        "\n",
        "# Gather coefficients from all workers at root\n",
        "all_params = comm.gather(local_params, root)\n",
        "all_times = comm.gather(elapsed_time, root)\n",
        "\n",
        "if rank == 0:\n",
        "    all_params = np.array(all_params)\n",
        "    avg_params = np.mean(all_params, axis=0)\n",
        "\n",
        "    final_intercept = avg_params[0]\n",
        "    final_coefficients = avg_params[1:]\n",
        "\n",
        "    y_pred_test = predict(X_test, final_intercept, final_coefficients)\n",
        "\n",
        "    # Evaluate RMSE\n",
        "    rmse = calculate_rmse(y_test, y_pred_test)\n",
        "    print(f\"\\n Final RMSE on Test Set (using averaged coefficients): {rmse:.4f}\")"
      ],
      "id": "consistent-union",
      "execution_count": 113,
      "outputs": [
        {
          "output_type": "error",
          "ename": "ValueError",
          "evalue": "expecting 1 items, got 4",
          "traceback": [
            "\u001b[0;31m---------------------------------------------------------------------------\u001b[0m",
            "\u001b[0;31mValueError\u001b[0m                                Traceback (most recent call last)",
            "\u001b[0;32m<ipython-input-113-59ad8589cca9>\u001b[0m in \u001b[0;36m<cell line: 0>\u001b[0;34m()\u001b[0m\n\u001b[1;32m      5\u001b[0m \u001b[0;34m\u001b[0m\u001b[0m\n\u001b[1;32m      6\u001b[0m \u001b[0mroot\u001b[0m \u001b[0;34m=\u001b[0m \u001b[0;36m0\u001b[0m\u001b[0;34m\u001b[0m\u001b[0;34m\u001b[0m\u001b[0m\n\u001b[0;32m----> 7\u001b[0;31m \u001b[0mdata_slice\u001b[0m \u001b[0;34m=\u001b[0m \u001b[0mcomm\u001b[0m\u001b[0;34m.\u001b[0m\u001b[0mscatter\u001b[0m\u001b[0;34m(\u001b[0m\u001b[0mdivided_data\u001b[0m\u001b[0;34m,\u001b[0m \u001b[0mroot\u001b[0m\u001b[0;34m)\u001b[0m\u001b[0;34m\u001b[0m\u001b[0;34m\u001b[0m\u001b[0m\n\u001b[0m\u001b[1;32m      8\u001b[0m \u001b[0mX_slice\u001b[0m\u001b[0;34m,\u001b[0m \u001b[0my_slice\u001b[0m \u001b[0;34m=\u001b[0m \u001b[0mdata_slice\u001b[0m\u001b[0;34m\u001b[0m\u001b[0;34m\u001b[0m\u001b[0m\n\u001b[1;32m      9\u001b[0m \u001b[0;34m\u001b[0m\u001b[0m\n",
            "\u001b[0;32msrc/mpi4py/MPI.src/Comm.pyx\u001b[0m in \u001b[0;36mmpi4py.MPI.Comm.scatter\u001b[0;34m()\u001b[0m\n",
            "\u001b[0;32msrc/mpi4py/MPI.src/msgpickle.pxi\u001b[0m in \u001b[0;36mmpi4py.MPI.PyMPI_scatter\u001b[0;34m()\u001b[0m\n",
            "\u001b[0;32msrc/mpi4py/MPI.src/msgpickle.pxi\u001b[0m in \u001b[0;36mmpi4py.MPI.pickle_dumpv\u001b[0;34m()\u001b[0m\n",
            "\u001b[0;31mValueError\u001b[0m: expecting 1 items, got 4"
          ]
        }
      ]
    },
    {
      "cell_type": "code",
      "source": [
        "# ---- VISUAL COMPARISON ----\n",
        "# print(\"Coefficients from each worker:\")\n",
        "# for i, params in enumerate(all_params):\n",
        "#     print(f\"Worker {i}: Intercept = {params[0]:.4f}, Coeffs = {params[1:]}\")\n",
        "\n",
        "# print(\"\\n Execution Time per Worker:\")\n",
        "# for i, t in enumerate(all_times):\n",
        "#     print(f\"Worker {i}: {t:.4f} seconds\")\n",
        "\n",
        "# # Plot coefficients per worker\n",
        "# plt.figure(figsize=(10, 5))\n",
        "# for i, params in enumerate(all_params):\n",
        "#     plt.plot(params[1:], label=f\"Worker {i}\")\n",
        "# plt.plot(avg_params[1:], label=\"Average\", linewidth=3, linestyle='--', color='black')\n",
        "# plt.title(\"Feature Coefficients Per Worker vs. Averaged Model\")\n",
        "# plt.xlabel(\"Feature Index\")\n",
        "# plt.ylabel(\"Coefficient Value\")\n",
        "# plt.legend()\n",
        "# plt.grid(True)\n",
        "# plt.tight_layout()\n",
        "# plt.show()"
      ],
      "metadata": {
        "id": "6WGWlzoBQeC6"
      },
      "id": "6WGWlzoBQeC6",
      "execution_count": 106,
      "outputs": []
    },
    {
      "cell_type": "markdown",
      "metadata": {
        "id": "hired-uniform"
      },
      "source": [
        "#### Exercise 17: Make a script and execute everything in one place (1 point)\n",
        "\n",
        "Write a script(.py) file which contains the code of all the above exercises in it so that you can run the code on multiple processes using MPI.\n",
        "\n",
        "**Hint:**\n",
        "\n",
        "- magic commands\n",
        "- put MPI related code under main function\n",
        "- !mpirun --allow-run-as-root -np 4 python filename.py"
      ],
      "id": "hired-uniform"
    },
    {
      "cell_type": "code",
      "metadata": {
        "id": "motivated-national",
        "colab": {
          "base_uri": "https://localhost:8080/"
        },
        "outputId": "9f4f0bca-0334-4df4-da84-bdf93e02e482"
      },
      "source": [
        "# YOUR CODE HERE for scipt(.py)\n",
        "%%writefile parallel_linear_regression_mpi.py\n",
        "from mpi4py import MPI\n",
        "import numpy as np\n",
        "import pandas as pd\n",
        "from decimal import Decimal, ROUND_HALF_UP\n",
        "import time\n",
        "import matplotlib.pyplot as plt\n",
        "\n",
        "# ------------- Utility Functions ------------- #\n",
        "\n",
        "def load_power_plant_data(filename):\n",
        "    cols = ['Ambient Temperature', 'Exhaust Vaccum', 'Ambient Pressure', 'Relative Humidity', 'Energy Output']\n",
        "    return pd.read_csv(filename, header=None, names=cols)\n",
        "\n",
        "def explore_data(data):\n",
        "    print(\"Data shape:\", data.shape)\n",
        "    print(\"\\nSummary:\\n\", data.describe())\n",
        "    print(\"\\nMissing values:\\n\", data.isnull().sum())\n",
        "    print(\"\\nDuplicate rows:\", data.duplicated().sum())\n",
        "\n",
        "def handle_null_values(data):\n",
        "    return data.dropna()\n",
        "\n",
        "def standardize_data(data):\n",
        "    return (data - data.mean()) / data.std()\n",
        "\n",
        "def split_features_target(data):\n",
        "    X = data.iloc[:, :-1]\n",
        "    y = data.iloc[:, -1]\n",
        "    return X, y\n",
        "\n",
        "def train_test_split(X, y, train_size=0.7, random_seed=None):\n",
        "    if random_seed is not None:\n",
        "        np.random.seed(random_seed)\n",
        "    indices = np.random.permutation(X.shape[0])\n",
        "    split_idx = int(train_size * len(X))\n",
        "    X_shuffled, y_shuffled = X.values[indices], y.values[indices]\n",
        "    return X_shuffled[:split_idx], X_shuffled[split_idx:], y_shuffled[:split_idx], y_shuffled[split_idx:]\n",
        "\n",
        "def dividing_data(x_train, y_train, size_of_workers):\n",
        "    slice_for_each_worker = int(Decimal(x_train.shape[0] / size_of_workers).quantize(Decimal('1.'), rounding=ROUND_HALF_UP))\n",
        "    divided_data = []\n",
        "    total_samples = x_train.shape[0]\n",
        "    for i in range(size_of_workers):\n",
        "        start = i * slice_for_each_worker\n",
        "        end = (i + 1) * slice_for_each_worker if i != size_of_workers - 1 else total_samples\n",
        "        divided_data.append((x_train[start:end], y_train[start:end]))\n",
        "    return divided_data\n",
        "\n",
        "def estimate_coefficients(X, y):\n",
        "    return np.linalg.inv(X.T @ X) @ X.T @ y\n",
        "\n",
        "def fit(X, y):\n",
        "    '''\n",
        "    if isinstance(X, pd.DataFrame):\n",
        "        X_np = X.to_numpy()\n",
        "    else:\n",
        "        X_np = X\n",
        "    if isinstance(y, pd.Series):\n",
        "        y_np = y.to_numpy().reshape(-1, 1)\n",
        "    else:\n",
        "        y_np = y.reshape(-1, 1)\n",
        "    '''\n",
        "    X_np = X\n",
        "    y_np = y.reshape(-1, 1)\n",
        "    ones = np.ones((X_np.shape[0], 1))\n",
        "    X_with_ones = np.concatenate((ones, X_np), axis=1)\n",
        "    beta = estimate_coefficients(X_with_ones, y_np)\n",
        "    intercept = beta[0][0]\n",
        "    coefficients = beta[1:].flatten()\n",
        "    return intercept, coefficients\n",
        "\n",
        "def predict(X, intercept, coefficients):\n",
        "    return intercept + np.dot(X, coefficients)\n",
        "\n",
        "def calculate_rmse(y_true, y_pred):\n",
        "    return np.sqrt(np.mean((y_true - y_pred) ** 2))\n",
        "\n",
        "# ------------- Main MPI Workflow ------------- #\n",
        "\n",
        "def main():\n",
        "    # Initialize MPI\n",
        "    comm = MPI.COMM_WORLD\n",
        "    rank = comm.Get_rank()\n",
        "    size = comm.Get_size()\n",
        "\n",
        "    # Root process\n",
        "    if rank == 0:\n",
        "        df = load_power_plant_data(\"power_plant_data.csv\")\n",
        "        df_cleaned = handle_null_values(df)\n",
        "        df_standardized = standardize_data(df_cleaned)\n",
        "        X, y = split_features_target(df_standardized)\n",
        "\n",
        "        X_train, X_test, y_train, y_test = train_test_split(X, y, train_size=0.7, random_seed=42)\n",
        "        divided_data = dividing_data(X_train, y_train, size)\n",
        "    else:\n",
        "        divided_data = None\n",
        "        X_test = None\n",
        "        y_test = None\n",
        "\n",
        "    # Synchronize and scatter\n",
        "    comm.Barrier()\n",
        "    data_slice = comm.scatter(divided_data, root=0)\n",
        "    X_slice, y_slice = data_slice\n",
        "\n",
        "    # Each worker fits model and tracks time\n",
        "    start_time = time.time()\n",
        "    intercept, coefficients = fit(X_slice, y_slice)\n",
        "    local_params = np.insert(coefficients, 0, intercept)\n",
        "    end_time = time.time()\n",
        "    elapsed_time = end_time - start_time\n",
        "\n",
        "    # Gather results\n",
        "    all_params = comm.gather(local_params, root=0)\n",
        "    all_times = comm.gather(elapsed_time, root=0)\n",
        "\n",
        "    if rank == 0:\n",
        "        all_params = np.array(all_params)\n",
        "        avg_params = np.mean(all_params, axis=0)\n",
        "        final_intercept = avg_params[0]\n",
        "        final_coefficients = avg_params[1:]\n",
        "\n",
        "        # Predict and calculate RMSE\n",
        "        y_pred_test = predict(X_test, final_intercept, final_coefficients)\n",
        "        rmse = calculate_rmse(y_test, y_pred_test)\n",
        "\n",
        "        print(f\"\\n Final RMSE on Test Set: {rmse:.4f}\\n\")\n",
        "\n",
        "        # Print and compare coefficients\n",
        "        print(\" Worker Coefficients:\")\n",
        "        for i, params in enumerate(all_params):\n",
        "            print(f\"Worker {i}: Intercept = {params[0]:.4f}, Coefficients = {params[1:]}\")\n",
        "\n",
        "        print(\"\\n Execution Time Per Worker:\")\n",
        "        for i, t in enumerate(all_times):\n",
        "            print(f\"Worker {i}: {t:.4f} seconds\")\n",
        "\n",
        "main()"
      ],
      "id": "motivated-national",
      "execution_count": 107,
      "outputs": [
        {
          "output_type": "stream",
          "name": "stdout",
          "text": [
            "Overwriting parallel_linear_regression_mpi.py\n"
          ]
        }
      ]
    },
    {
      "cell_type": "code",
      "metadata": {
        "id": "experimental-waterproof",
        "scrolled": true
      },
      "source": [
        "# YOUR CODE HERE for MPI command\n",
        "! mpirun --allow-run-as-root -np 2 python parallel_linear_regression_mpi.py"
      ],
      "id": "experimental-waterproof",
      "execution_count": 108,
      "outputs": []
    },
    {
      "cell_type": "markdown",
      "metadata": {
        "id": "protecting-assets"
      },
      "source": [
        "#### Exercise 18: Use Sklearn to compare (1 point)\n",
        "\n",
        "Apply the Linear regression on the given data using sklearn package and compare with the above results\n",
        "\n",
        "**Hint:**\n",
        "* Split the data into train and test\n",
        "* Fit the train data and predict the test data using `sklearn Linear Regression`\n",
        "* Compare the coefficients and intercept with above estimated coefficients\n",
        "* calculate loss (RMSE) on test data and predictions and compare"
      ],
      "id": "protecting-assets"
    },
    {
      "cell_type": "code",
      "metadata": {
        "id": "applicable-tyler",
        "colab": {
          "base_uri": "https://localhost:8080/"
        },
        "outputId": "f86be07a-814e-4cad-a93a-43f2b7780dc0"
      },
      "source": [
        "# YOUR CODE HERE\n",
        "from sklearn.linear_model import LinearRegression\n",
        "from sklearn.metrics import mean_squared_error\n",
        "\n",
        "model = LinearRegression()\n",
        "model.fit(X_train, y_train)\n",
        "\n",
        "y_pred = model.predict(X_test)  #Predictions\n",
        "\n",
        "rmse2 = np.sqrt(mean_squared_error(y_test, y_pred)) #RMSE\n",
        "\n",
        "print(\"Comparison with scikit-learn LinearRegression:\")\n",
        "\n",
        "print(\"\\nIntercept (sklearn):\", model.intercept_)\n",
        "print(\"Intercept (linear algebra):\", intercept)\n",
        "\n",
        "print(\"\\nCoefficients (sklearn):\", model.coef_)\n",
        "print(\"Coefficients (linear algebra):\", coefficients)\n",
        "\n",
        "print(\"\\nRMSE (sklearn): {:.4f}\".format(rmse2))\n",
        "print(\"RMSE (linear algebra):{:.4f}\".format(rmse))"
      ],
      "id": "applicable-tyler",
      "execution_count": 102,
      "outputs": [
        {
          "output_type": "stream",
          "name": "stdout",
          "text": [
            "Comparison with scikit-learn LinearRegression:\n",
            "\n",
            "Intercept (sklearn): 0.00035766028266588125\n",
            "Intercept (linear algebra): 0.0003576602826658613\n",
            "\n",
            "Coefficients (sklearn): [-0.86918399 -0.16938534  0.01816231 -0.13520508]\n",
            "Coefficients (linear algebra): [-0.86918399 -0.16938534  0.01816231 -0.13520508]\n",
            "\n",
            "RMSE (sklearn): 0.2692\n",
            "RMSE (linear algebra):0.2692\n"
          ]
        }
      ]
    }
  ]
}